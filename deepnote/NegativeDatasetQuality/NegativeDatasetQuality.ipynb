{
  "cells": [
    {
      "cell_type": "code",
      "source": "import pandas as pd",
      "metadata": {
        "source_hash": "9b82ee11",
        "execution_start": 1699903774844,
        "execution_millis": 10,
        "deepnote_to_be_reexecuted": false,
        "cell_id": "02a8102e7c254d0babb4313efd3eafc7",
        "deepnote_cell_type": "code"
      },
      "outputs": [],
      "execution_count": 1,
      "block_group": "01c52cf943774e1c87f63d0decc177b7"
    },
    {
      "cell_type": "code",
      "source": "dataset = pd.read_csv(\"DatasetFinal.csv\") \ndf = dataset.copy()",
      "metadata": {
        "source_hash": "44bc96a9",
        "execution_start": 1699903774858,
        "execution_millis": 754,
        "deepnote_to_be_reexecuted": false,
        "cell_id": "3facee6f27294151b2a17eddfc5ac6b9",
        "deepnote_cell_type": "code"
      },
      "outputs": [],
      "execution_count": 2,
      "block_group": "3facee6f27294151b2a17eddfc5ac6b9"
    },
    {
      "cell_type": "code",
      "source": "dataset.head(20)",
      "metadata": {
        "source_hash": "88e27a67",
        "execution_start": 1699903775638,
        "execution_millis": 282,
        "deepnote_table_state": {
          "sortBy": [],
          "filters": [],
          "pageSize": 100,
          "pageIndex": 0
        },
        "deepnote_table_loading": false,
        "deepnote_to_be_reexecuted": false,
        "cell_id": "81ff8ad00cf14834994eb5a35de53778",
        "deepnote_cell_type": "code"
      },
      "outputs": [
        {
          "output_type": "execute_result",
          "execution_count": 3,
          "data": {
            "application/vnd.deepnote.dataframe.v3+json": {
              "column_count": 7,
              "row_count": 20,
              "columns": [
                {
                  "name": "Input",
                  "dtype": "object",
                  "stats": {
                    "unique_count": 20,
                    "nan_count": 0,
                    "categories": [
                      {
                        "name": "When I was 17, I worked in a clothing store that sold both mens and womens clothing, as well as some unisex items. I was working overtime in the evening, around 8.30pm during the winter so it was already dark. I was by myself on the shop floor as my manager was cashing up in the stock room, when a man in his late 50s/early 60s came in and started asking about the winter boots we had on special offer. We kept all of the stock below the display table, so I knelt on the floor to find his size when he said �Whilst you�re down there, why don�t you take one for the team?�. As I was quite a naive 17 year old, I didn�t quite understand, so I just awkwardly smiled and ignored it. After he bought the boots and left, I went to speak with my manager. She confirmed that he was actually insinuating I gave him a blowjob, I was shocked and quite upset! She told me to just �ignore it and don�t get upset by it�! Even when I think about it now, it makes me extremely uncomfortable. ",
                        "count": 1
                      },
                      {
                        "name": "I left my job to return for a PhD with an intention of developing expertise in my field and preventing encounters with men who label me �ignorant� or hint to my own incompetence. Part of my PhD requires public engagement via social media. In one such recent Twitter encounter, I stated my opinion and backed it up with facts. A man that disagreed then proceeded to lash out, calling my remarks �effete� and �ignorant.� I called out the blatant sexism, for which he continued to retaliate, calling my tone condescending. This is such a nasty cycle and I find it so extremely frustrating�if we sit back, it happens more. And if we speak up, sexism intensifies. We have our work cut out for us. ",
                        "count": 1
                      },
                      {
                        "name": "18 others",
                        "count": 18
                      }
                    ]
                  }
                },
                {
                  "name": "Situation",
                  "dtype": "object",
                  "stats": {
                    "unique_count": 20,
                    "nan_count": 0,
                    "categories": [
                      {
                        "name": "* When I was 17, I worked in a clothing store that sold both mens and womens clothing, as well as some unisex items.\n* I was working overtime in the evening, around 8.30pm during the winter so it was already dark.\n* I was by myself on the shop floor as my manager was cashing up in the stock room, when a man in his late 50s/early 60s came in and started asking about the winter boots we had on special offer.\n* We kept all of the stock below the display table, so I knelt on the floor to find his size when he said “Whilst you’re down there, why don’t you take one for the team?”",
                        "count": 1
                      },
                      {
                        "name": "* I left my job to return for a PhD with an intention of developing expertise in my field and preventing encounters with men who label me �ignorant� or hint to my own incompetence.\n* Part of my PhD requires public engagement via social media.\n* In one such recent Twitter encounter, I stated my opinion and backed it up with facts.\n* A man that disagreed then proceeded to lash out, calling my remarks �effete� and �ignorant.�\n* I called out the blatant sexism, for which he continued to retaliate, calling my tone condescending.",
                        "count": 1
                      },
                      {
                        "name": "18 others",
                        "count": 18
                      }
                    ]
                  }
                },
                {
                  "name": "Feelings",
                  "dtype": "object",
                  "stats": {
                    "unique_count": 20,
                    "nan_count": 0,
                    "categories": [
                      {
                        "name": "* I was quite a naive 17 year old, I didn’t quite understand, so I just awkwardly smiled and ignored it.\n* I was shocked and quite upset!",
                        "count": 1
                      },
                      {
                        "name": "* I find it so extremely frustrating.",
                        "count": 1
                      },
                      {
                        "name": "18 others",
                        "count": 18
                      }
                    ]
                  }
                },
                {
                  "name": "Action in response",
                  "dtype": "object",
                  "stats": {
                    "unique_count": 20,
                    "nan_count": 0,
                    "categories": [
                      {
                        "name": "* I went to speak with my manager.\n* She confirmed that he was actually insinuating I gave him a blowjob, I was shocked and quite upset!",
                        "count": 1
                      },
                      {
                        "name": "* I called out the blatant sexism.",
                        "count": 1
                      },
                      {
                        "name": "18 others",
                        "count": 18
                      }
                    ]
                  }
                },
                {
                  "name": "Inappropriate response",
                  "dtype": "object",
                  "stats": {
                    "unique_count": 20,
                    "nan_count": 0,
                    "categories": [
                      {
                        "name": "* She told me to just “ignore it and don’t get upset by it”!",
                        "count": 1
                      },
                      {
                        "name": "* He continued to retaliate, calling my tone condescending.",
                        "count": 1
                      },
                      {
                        "name": "18 others",
                        "count": 18
                      }
                    ]
                  }
                },
                {
                  "name": "Long term impact",
                  "dtype": "object",
                  "stats": {
                    "unique_count": 20,
                    "nan_count": 0,
                    "categories": [
                      {
                        "name": "* Even when I think about it now, it makes me extremely uncomfortable.",
                        "count": 1
                      },
                      {
                        "name": "* We have our work cut out for us.",
                        "count": 1
                      },
                      {
                        "name": "18 others",
                        "count": 18
                      }
                    ]
                  }
                },
                {
                  "name": "Parties involved",
                  "dtype": "object",
                  "stats": {
                    "unique_count": 20,
                    "nan_count": 0,
                    "categories": [
                      {
                        "name": "* The man in his late 50s/early 60s who made the inappropriate comment, the 17-year-old employee who was working at the time, and the manager who was cashing up in the stock room.",
                        "count": 1
                      },
                      {
                        "name": "* The man that disagreed and called my remarks �effete� and �ignorant.�\n* I called out the blatant sexism.\n* He continued to retaliate, calling my tone condescending.",
                        "count": 1
                      },
                      {
                        "name": "18 others",
                        "count": 18
                      }
                    ]
                  }
                },
                {
                  "name": "_deepnote_index_column",
                  "dtype": "int64"
                }
              ],
              "rows": [
                {
                  "Input": "When I was 17, I worked in a clothing store that sold both mens and womens clothing, as well as some unisex items. I was working overtime in the evening, around 8.30pm during the winter so it was already dark. I was by myself on the shop floor as my manager was cashing up in the stock room, when a man in his late 50s/early 60s came in and started asking about the winter boots we had on special offer. We kept all of the stock below the display table, so I knelt on the floor to find his size when he said �Whilst you�re down there, why don�t you take one for the team?�. As I was quite a naive 17 year old, I didn�t quite understand, so I just awkwardly smiled and ignored it. After he bought the boots and left, I went to speak with my manager. She confirmed that he was actually insinuating I gave him a blowjob, I was shocked and quite upset! She told me to just �ignore it and don�t get upset by it�! Even when I think about it now, it makes me extremely uncomfortable. ",
                  "Situation": "* When I was 17, I worked in a clothing store that sold both mens and womens clothing, as well as some unisex items.\n* I was working overtime in the evening, around 8.30pm during the winter so it was already dark.\n* I was by myself on the shop floor as my manager was cashing up in the stock room, when a man in his late 50s/early 60s came in and started asking about the winter boots we had on special offer.\n* We kept all of the stock below the display table, so I knelt on the floor to find his size when he said “Whilst you’re down there, why don’t you take one for the team?”",
                  "Feelings": "* I was quite a naive 17 year old, I didn’t quite understand, so I just awkwardly smiled and ignored it.\n* I was shocked and quite upset!",
                  "Action in response": "* I went to speak with my manager.\n* She confirmed that he was actually insinuating I gave him a blowjob, I was shocked and quite upset!",
                  "Inappropriate response": "* She told me to just “ignore it and don’t get upset by it”!",
                  "Long term impact": "* Even when I think about it now, it makes me extremely uncomfortable.",
                  "Parties involved": "* The man in his late 50s/early 60s who made the inappropriate comment, the 17-year-old employee who was working at the time, and the manager who was cashing up in the stock room.",
                  "_deepnote_index_column": 0
                },
                {
                  "Input": "I left my job to return for a PhD with an intention of developing expertise in my field and preventing encounters with men who label me �ignorant� or hint to my own incompetence. Part of my PhD requires public engagement via social media. In one such recent Twitter encounter, I stated my opinion and backed it up with facts. A man that disagreed then proceeded to lash out, calling my remarks �effete� and �ignorant.� I called out the blatant sexism, for which he continued to retaliate, calling my tone condescending. This is such a nasty cycle and I find it so extremely frustrating�if we sit back, it happens more. And if we speak up, sexism intensifies. We have our work cut out for us. ",
                  "Situation": "* I left my job to return for a PhD with an intention of developing expertise in my field and preventing encounters with men who label me �ignorant� or hint to my own incompetence.\n* Part of my PhD requires public engagement via social media.\n* In one such recent Twitter encounter, I stated my opinion and backed it up with facts.\n* A man that disagreed then proceeded to lash out, calling my remarks �effete� and �ignorant.�\n* I called out the blatant sexism, for which he continued to retaliate, calling my tone condescending.",
                  "Feelings": "* I find it so extremely frustrating.",
                  "Action in response": "* I called out the blatant sexism.",
                  "Inappropriate response": "* He continued to retaliate, calling my tone condescending.",
                  "Long term impact": "* We have our work cut out for us.",
                  "Parties involved": "* The man that disagreed and called my remarks �effete� and �ignorant.�\n* I called out the blatant sexism.\n* He continued to retaliate, calling my tone condescending.",
                  "_deepnote_index_column": 1
                },
                {
                  "Input": "A leaflet about �supporting teenagers� in my country published by so called �experienced� psychotherapists contains a lot of pernicious gender stereotypes. The reason why I despair about living in my country is that girls get stereotyped as behaving one way and boys get stereotyped as behaving the opposite way, even when in reality there is a lot of overlap of behaviours between the sexes! In the leaflet, girls are automatically assumed to be �vulnerable� and in need of �empowering�. This is kind of offensive and degrading to many young women who are capable and self sufficient. Some women do not view themselves as �helpless victims�, but instead as highly capable survivors! Calling girls �vulnerable� or fragile doesn�t help them deal with stuff in an adaptive or a resilient way. While it is true that some young women struggle with issues around eating (please don�t use the pathologising words �eating disorder� because it is society�s expectations around food that are disordered, not …",
                  "Situation": "* The leaflet about supporting teenagers in my country contains pernicious gender stereotypes.\n* Girls are automatically assumed to be vulnerable and in need of empowering, while boys are stereotyped as behaving the opposite way.\n* The leaflet calls girls over-conscientious and perfectionistic, while ignoring the fact that many young men also engage in anorexic or bulimic behaviors.\n* The leaflet assumes that girls should be denied the opportunity to excel by people who call them too perfectionistic.\n* The author's grandmother liked to do things thoroughly and properly as part of her job.",
                  "Feelings": "* The author is disappointed and frustrated about living in a country where gender stereotypes are prevalent.\n* The author is offended by the assumption that girls are vulnerable and in need of empowering, and that young women who are capable and self-sufficient do not view themselves as helpless victims.\n* The author is angry that the leaflet ignores the fact that many young men also engage in anorexic or bulimic behaviors.\n* The author is disappointed that some teachers, parents, and \"professionals\" may be envious of young women's achievements and actively discourage their hard work and diligence.",
                  "Action in response": "* The author is considering writing a letter to the editor of the publication that printed the leaflet to express their concerns.\n* The author is advocating for a culture of praise and encouragement for young women who excel in their studies and pursuits.",
                  "Inappropriate response": "* The author does not believe that calling girls too perfectionistic is an inappropriate response, as they believe that aiming for perfection is a valuable goal.",
                  "Long term impact": "* The author believes that the leaflet's gender stereotypes and negative messages about young women's abilities and behaviors can have a long-term impact on their self-esteem and confidence.\n* The author believes that encouraging young women to aim for high standards and do their best can have a positive impact on their future success and achievements.",
                  "Parties involved": "* The author, who is a young woman living in their country.\n* The publication that printed the leaflet, which the author believes is promoting harmful gender stereotypes.\n* The teachers, parents, and \"professionals\" who may be envious of young women's achievements and actively discourage their hard work and diligence.",
                  "_deepnote_index_column": 2
                },
                {
                  "Input": "As a 16 year old girl, I know very well that sexism exists. On pretty much a daily basis, I am shouted out from car windows whilst walking down the street, or approached by strangers whilst out in public, usually by older men. This is something that as a female, you get used to, enough though you shouldn�t have to. One thing I will not get over though, is being told that sexism is not an issue. I take a sociology class at my college, and one of the subjects we cover if feminism. This is something that me and my friends are passionate about, we believe it needs to be talked about in order for things to change. There are however, a number of boys in that class who disagree with feminists and try to tell us everything we say is wrong. I can accept this; everyone is entitled to an opinion and I am willing to listen to anyone�s opinion. Today it reached a point where I can no longer just accept their opinion. As a group, we watched the Everyday Sexism Project talk �CoventGardenWomen�. All …",
                  "Situation": "* Being shouted out from car windows whilst walking down the street\n* Being approached by strangers whilst out in public, usually by older men\n* Being told that sexism is not an issue\n* Being in a sociology class where feminism is discussed\n* Being in a group that watches the Everyday Sexism Project talk\n* Being told that there's no reason for women to feel unsafe whilst walking alone\n* Being told that sexual assault isn't a problem\n* Being told that if it really happened more women would come forward",
                  "Feelings": "* Used to getting shouted out from car windows\n* Not used to being approached by strangers\n* Frustrated that people deny the existence of sexism\n* Passionate about feminism\n* Heartbroken to see insensitivity towards sexual assault\n* Scared of being laughed at or told it's not a big deal\n* Suffering alone because of victim blaming",
                  "Action in response": "* Listening to the opinions of others\n* Watching the Everyday Sexism Project talk\n* Asking for the speech to be turned off\n* Being told to stop complaining",
                  "Inappropriate response": "* Laughing at the Everyday Sexism Project talk\n* Telling the speaker to stop complaining",
                  "Long term impact": "* Being used to daily sexism\n* Feeling frustrated and heartbroken\n* Being scared to speak out\n* Suffering alone",
                  "Parties involved": "* The writer (as a 16 year old girl)\n* Strangers who approach the writer in public\n* Classmates who disagree with feminism\n* The speaker in the Everyday Sexism Project talk\n* The writer's friends who are passionate about feminism",
                  "_deepnote_index_column": 3
                },
                {
                  "Input": "I worked in a doggie daycare for two years as the front desk manager. I saw many of the same clients regularly, day after day. At least two middle-aged men often would touch my shoulder for no reason while we exchanged pleasantries as they dropped off their dogs. They may have thought they were being nice, or friendly, but it was creepy and uncomfortable and as I was in my workplace and my job was to be polite and courteous to all customers I never felt ok to point out how it made me feel or ask them to stop. ",
                  "Situation": "\"I worked in a doggie daycare for two years as the front desk manager.\"",
                  "Feelings": "\"It was creepy and uncomfortable.\"",
                  "Action in response": "\"I never felt ok to point out how it made me feel or ask them to stop.\"",
                  "Inappropriate response": "\"They may have thought they were being nice, or friendly, but it was creepy and uncomfortable.\"",
                  "Long term impact": "\"I never felt ok to point out how it made me feel or ask them to stop.\"",
                  "Parties involved": "\"At least two middle-aged men often would touch my shoulder for no reason while we exchanged pleasantries as they dropped off their dogs.\"",
                  "_deepnote_index_column": 4
                },
                {
                  "Input": "A few months ago my husband�s workplace (in a liberal, northeast state) had an event at a bowling alley, a fundraiser in a series of playful competitions with a rival company. To form bowling teams in anticipation of this event, my husband�s general manager sent out an email to the entire company stating that each bowling team would need �one very skilled player , at least 2 above average players, and a female.� You know, because �females� can�t be �skilled� or �above average� at bowling, obvs. ",
                  "Situation": "The general manager of my husband's workplace sent out an email stating the requirements for forming bowling teams for a fundraiser event, including the requirement for a female player.",
                  "Feelings": "The email's requirement that a female player be included on each bowling team is seen as sexist and discriminatory.",
                  "Action in response": "The author's husband's workplace is hosting a fundraiser event at a bowling alley, and the general manager sent out an email requiring each bowling team to include a female player.",
                  "Inappropriate response": "The email's requirement that a female player be included on each bowling team is seen as sexist and discriminatory.",
                  "Long term impact": "The email's requirement that a female player be included on each bowling team could potentially harm the workplace's reputation and lead to negative publicity.",
                  "Parties involved": "The general manager of my husband's workplace, the employees of the workplace, and the rival company participating in the fundraiser event.",
                  "_deepnote_index_column": 5
                },
                {
                  "Input": "Working in the IT area, I am most of the time the only woman in the office, in my thirties, between men of fifty mostly. With the tempratures coming up and approaching summer, I arrived in the office in a summer appropriate dress, receiving comments all morning. This was nothing comparing to the feedback of a colleague, twenty years older then me, who constantly stalks me around and makes the others believe we are lovers, ocasionally touching me and commenting on my body. This time I told him not to touch me in a polite way. His reaction was quite surprizing � he went to the other colleagues complaining about me to tell him not to touch me, when actually I look so nice � means I should be only flattered. For me, I dont see this to be an excuse to be touched, espacially in an adult management oriented environement. I am afraid of staying with him alone in the office or in the room, and sometimes I preffer to stay home and work from there to actually woork in peace. I constantly think a…",
                  "Situation": "* Working in the IT area, I am most of the time the only woman in the office, in my thirties, between men of fifty mostly.\n* With the temperatures coming up and approaching summer, I arrived in the office in a summer-appropriate dress, receiving comments all morning.\n* This was nothing comparing to the feedback of a colleague, twenty years older than me, who constantly stalks me around and makes the others believe we are lovers, occasionally touching me and commenting on my body.\n* This time I told him not to touch me in a polite way.\n* His reaction was quite surprising – he went to the other colleagues complaining about me to tell him not to touch me, when actually I look so nice – means I should be only flattered.\n* For me, I don’t see this to be an excuse to be touched, especially in an adult management-oriented environment.\n* I am afraid of staying with him alone in the office or in the room, and sometimes I prefer to stay home and work from there to actually work in peace.\n* I co…",
                  "Feelings": "* I am afraid of staying with him alone in the office or in the room, and sometimes I prefer to stay home and work from there to actually work in peace.\n* I constantly think about if I gave him in any way an excuse to behave like that, because I am afraid to break the atmosphere of the office with raising a complaint about it.\n* Every time I tell myself – ok, next time you tell him this is above and HR can be involved.",
                  "Action in response": "* I told him not to touch me in a polite way.\n* His reaction was quite surprising – he went to the other colleagues complaining about me to tell him not to touch me, when actually I look so nice – means I should be only flattered.\n* For me, I don’t see this to be an excuse to be touched, especially in an adult management-oriented environment.\n* I am afraid of staying with him alone in the office or in the room, and sometimes I prefer to stay home and work from there to actually work in peace.\n* I constantly think about if I gave him in any way an excuse to behave like that, because I am afraid to break the atmosphere of the office with raising a complaint about it.\n* Every time I tell myself – ok, next time you tell him this is above and HR can be involved.",
                  "Inappropriate response": "* His reaction was quite surprising – he went to the other colleagues complaining about me to tell him not to touch me, when actually I look so nice – means I should be only flattered.\n* For me, I don’t see this to be an excuse to be touched, especially in an adult management-oriented environment.",
                  "Long term impact": "* This experience just dug out some memories that I thought are already forgotten – that since I was seven years old attending school, boys from my class were touching and kissing me without asking, having fun this way, and the touches continued also when I was at high school, by totally different people.\n* From what I remember from these years, it was just my body being not mine.\n* I believe now in my thirties it’s a big lesson for me to learn to start saying what I don’t like and out loud.",
                  "Parties involved": "* A colleague, twenty years older than me, who constantly stalks me around and makes the others believe we are lovers, occasionally touching me and commenting on my body.\n* The other colleagues who were complaining about me to tell him not to touch me, when actually I look so nice – means I should be only flattered.",
                  "_deepnote_index_column": 6
                },
                {
                  "Input": "I think that sexism is an issue in the UK. This is because women�s pay is significantly lower then men�s which is biased and unfair. We are also described with much more feminine verbs, and also those which describe where we participate and do a lot of teamwork, yet not as much independent. This is also more unfair for us as men are described with more independent, strong and powerful words. In workplaces, a large percentage (52%) of women are sexually harassed, and made to feel extremely vulnerable. In many cases when these situations are reported to their head of work, they are dropped or under-prioritised. ",
                  "Situation": "* Women's pay is significantly lower than men's which is biased and unfair.\n* We are also described with much more feminine verbs, and also those which describe where we participate and do a lot of teamwork, yet not as much independent.\n* In workplaces, a large percentage (52%) of women are sexually harassed, and made to feel extremely vulnerable.",
                  "Feelings": "* I think that sexism is an issue in the UK.\n* This is also more unfair for us as men are described with more independent, strong and powerful words.\n* In many cases when these situations are reported to their head of work, they are dropped or under-prioritised.",
                  "Action in response": "* There is a large percentage of women who are sexually harassed in workplaces.\n* This is an issue that needs to be addressed and dealt with.",
                  "Inappropriate response": "* When these situations are reported to their head of work, they are dropped or under-prioritised.",
                  "Long term impact": "* Women are paid significantly less than men, which can have long-term financial consequences.\n* Women may also experience mental health issues as a result of sexual harassment in the workplace.",
                  "Parties involved": "* Women are affected by sexism and sexual harassment in the workplace.\n* Men may also be affected by the gendered language used to describe them.\n* Employers and heads of work may be responsible for addressing and prioritizing reports of sexual harassment.",
                  "_deepnote_index_column": 7
                },
                {
                  "Input": "My boss has a history of sexually harassing women at my workplace. He is a prominent artist, and most people idolize him without realizing that he is a predator. Every woman in the office has a story. Mine is the many long hugs he gives under the guise of �I am an affectionate guy� and with responses afterwards such as �You really understand what my work is about here�. I have been told on two occasions, �If you want to keep your job, you will take your clothes off for me� to model. My manager was pulled onto his lap and her breasts groped. When she pulled away he said, �What, it is not like I have not felt breasts before�. Recently he sexually assaulted a coworker and it ended in a non-consensual sexual act. He paid her $50,000 and gave her a $13,000 painting to make it go away. I am so angry at her for accepting, for not standing up to him and protecting the rest of us. But this is also not the first time a pay off has happened. It also occurred 6 months ago before this whole new ba…",
                  "Situation": "* My boss has a history of sexually harassing women at my workplace.\n* He is a prominent artist, and most people idolize him without realizing that he is a predator.\n* Every woman in the office has a story.\n* My manager was pulled onto his lap and her breasts groped.\n* Recently he sexually assaulted a coworker and it ended in a non-consensual sexual act.\n* He paid her $50,000 and gave her a $13,000 painting to make it go away.\n* We are in North Carolina and working in a company of less than 15 employees.\n* Federal sexual harassment laws do not protect us in the same way, and there is very little we can do.",
                  "Feelings": "* I am so angry at her for accepting, for not standing up to him and protecting the rest of us.\n* But this is also not the first time a pay off has happened.\n* It also occurred 6 months ago before this whole new batch of employees was hired?\n* But we are in North Carolina and working in a company of less than 15 employees.\n* Federal sexual harassment laws do not protect us in the same way, and there is very little we can do.",
                  "Action in response": "* I have been told on two occasions, �If you want to keep your job, you will take your clothes off for me� to model.\n* I want to make something happen, but how?",
                  "Inappropriate response": "* When she pulled away he said, �What, it is not like I have not felt breasts before�.\n* He paid her $50,000 and gave her a $13,000 painting to make it go away.",
                  "Long term impact": "* The company has a 95% turnover over the last 6 years since it began?",
                  "Parties involved": "* My boss has a history of sexually harassing women at my workplace.\n* He is a prominent artist, and most people idolize him without realizing that he is a predator.\n* Every woman in the office has a story.\n* My manager was pulled onto his lap and her breasts groped.\n* Recently he sexually assaulted a coworker and it ended in a non-consensual sexual act.\n* He paid her $50,000 and gave her a $13,000 painting to make it go away.\n* We are in North Carolina and working in a company of less than 15 employees.\n* Federal sexual harassment laws do not protect us in the same way, and there is very little we can do.",
                  "_deepnote_index_column": 8
                },
                {
                  "Input": "Over the last year I have noticed sexism from other women which, before it happened, had never crossed my mind. This particular realisation related to other women�s perception of assertive behaviour in the workplace. It seems that it is acceptable for men to be assertive � their thoughts delivered in whichever way they choose � but when women are �assertive� in the same way ( using the same words, the same tone of voice, similar body language) they are labelled aggressive; not by other men, but by other women. ",
                  "Situation": "\"Over the last year I have noticed sexism from other women which, before it happened, had never crossed my mind.\"",
                  "Feelings": "\"This particular realisation related to other women�s perception of assertive behaviour in the workplace. It seems that it is acceptable for men to be assertive � their thoughts delivered in whichever way they choose � but when women are �assertive� in the same way ( using the same words, the same tone of voice, similar body language) they are labelled aggressive; not by other men, but by other women.\"",
                  "Action in response": "\"I have noticed sexism from other women which, before it happened, had never crossed my mind.\"",
                  "Inappropriate response": "\"It seems that it is acceptable for men to be assertive � their thoughts delivered in whichever way they choose � but when women are �assertive� in the same way ( using the same words, the same tone of voice, similar body language) they are labelled aggressive; not by other men, but by other women.\"",
                  "Long term impact": "\"This particular realisation related to other women�s perception of assertive behaviour in the workplace. It seems that it is acceptable for men to be assertive � their thoughts delivered in whichever way they choose � but when women are �assertive� in the same way ( using the same words, the same tone of voice, similar body language) they are labelled aggressive; not by other men, but by other women.\"",
                  "Parties involved": "\"Over the last year I have noticed sexism from other women which, before it happened, had never crossed my mind.\"",
                  "_deepnote_index_column": 9
                },
                {
                  "Input": "I�m a social worker. I�m also 26, female and have visible disabilities. In my role, we have our work overseen by a independent reviewing officer. He was older, white and male. In the course of three months, he proceeded to reduce me to tears twice because of vicious, personal attacks, threaten to refer me to the registration body three times, pin me in a corner, tell me I should have mental health counselling and tell my manager that i had failed to do a critical part of my job for six months (he was lying). When I finally went to his manager, he decided to tell my entire department about how my stress and poor mental health is leading me to make wild accusations. The best my team manager could get was that his contract wasn�t renewed � and so he moves on to another workplace to traumatise another woman. ",
                  "Situation": "* I'm a social worker.\n* I'm also 26, female and have visible disabilities.\n* In my role, we have our work overseen by a independent reviewing officer.\n* He was older, white and male.\n* In the course of three months, he proceeded to reduce me to tears twice because of vicious, personal attacks.\n* Threaten to refer me to the registration body three times.\n* Pin me in a corner.\n* Tell me I should have mental health counselling.\n* Tell my manager that i had failed to do a critical part of my job for six months (he was lying).\n* When I finally went to his manager, he decided to tell my entire department about how my stress and poor mental health is leading me to make wild accusations.\n* The best my team manager could get was that his contract wasn't renewed.",
                  "Feelings": "* In the course of three months, he proceeded to reduce me to tears twice because of vicious, personal attacks.\n* Threaten to refer me to the registration body three times.\n* Pin me in a corner.\n* Tell me I should have mental health counselling.\n* Tell my manager that i had failed to do a critical part of my job for six months (he was lying).\n* When I finally went to his manager, he decided to tell my entire department about how my stress and poor mental health is leading me to make wild accusations.\n* The best my team manager could get was that his contract wasn't renewed.",
                  "Action in response": "* In the course of three months, he proceeded to reduce me to tears twice because of vicious, personal attacks.\n* Threaten to refer me to the registration body three times.\n* Pin me in a corner.\n* Tell me I should have mental health counselling.\n* Tell my manager that i had failed to do a critical part of my job for six months (he was lying).\n* When I finally went to his manager, he decided to tell my entire department about how my stress and poor mental health is leading me to make wild accusations.\n* The best my team manager could get was that his contract wasn't renewed.",
                  "Inappropriate response": "* He was older, white and male.\n* In the course of three months, he proceeded to reduce me to tears twice because of vicious, personal attacks.\n* Threaten to refer me to the registration body three times.\n* Pin me in a corner.\n* Tell me I should have mental health counselling.\n* Tell my manager that i had failed to do a critical part of my job for six months (he was lying).\n* When I finally went to his manager, he decided to tell my entire department about how my stress and poor mental health is leading me to make wild accusations.\n* The best my team manager could get was that his contract wasn't renewed.",
                  "Long term impact": "* He was older, white and male.\n* In the course of three months, he proceeded to reduce me to tears twice because of vicious, personal attacks.\n* Threaten to refer me to the registration body three times.\n* Pin me in a corner.\n* Tell me I should have mental health counselling.\n* Tell my manager that i had failed to do a critical part of my job for six months (he was lying).\n* When I finally went to his manager, he decided to tell my entire department about how my stress and poor mental health is leading me to make wild accusations.\n* The best my team manager could get was that his contract wasn't renewed.",
                  "Parties involved": "* I'm a social worker.\n* I'm also 26, female and have visible disabilities.\n* In my role, we have our work overseen by a independent reviewing officer.\n* He was older, white and male.\n* In the course of three months, he proceeded to reduce me to tears twice because of vicious, personal attacks.\n* Threaten to refer me to the registration body three times.\n* Pin me in a corner.\n* Tell me I should have mental health counselling.\n* Tell my manager that i had failed to do a critical part of my job for six months (he was lying).\n* When I finally went to his manager, he decided to tell my entire department about how my stress and poor mental health is leading me to make wild accusations.\n* The best my team manager could get was that his contract wasn",
                  "_deepnote_index_column": 10
                },
                {
                  "Input": "A male colleague, who is very �huggy�, has started asking me �where�s my kiss?� whenever I see him. ",
                  "Situation": "\"A male colleague, who is very 'huggy', has started asking me 'where's my kiss?'\"",
                  "Feelings": "\"I feel uncomfortable and confused by his behavior.\"",
                  "Action in response": "\"I have not responded to his advances and have tried to avoid him.\"",
                  "Inappropriate response": "\"I have not done anything inappropriate in response to his behavior.\"",
                  "Long term impact": "\"I am concerned about the long-term impact of his behavior on our working relationship.\"",
                  "Parties involved": "\"I and my male colleague are the parties involved in this situation.\"",
                  "_deepnote_index_column": 11
                },
                {
                  "Input": "In a meeting today�17 men and 4 women. 10 of us were visiting so didn�t know where everything was. During a break, the project manager, who was on my team, said �I�d love a coffee� then turned round to me and said �Is that possible?�. I said yes, there�s a kitchen out there. Firmly staying in my seat. But another bloke, who�s office it was, asked one of the women who also worked there, to get the coffee. There were 7 other men in that room who worked there. They weren�t asked. ",
                  "Situation": "\"In a meeting today�17 men and 4 women. 10 of us were visiting so didn�t know where everything was.\"",
                  "Feelings": "\"During a break, the project manager, who was on my team, said �I�d love a coffee� then turned round to me and said �Is that possible?�. I said yes, there�s a kitchen out there. Firmly staying in my seat.\"",
                  "Action in response": "\"But another bloke, who�s office it was, asked one of the women who also worked there, to get the coffee.\"",
                  "Inappropriate response": "\"There were 7 other men in that room who worked there. They weren't asked.\"",
                  "Long term impact": "\"I�m sure this will make me feel less valued as a woman in the workplace.\"",
                  "Parties involved": "\"17 men and 4 women. 10 of us were visiting so didn't know where everything was. During a break, the project manager, who was on my team, said �I�d love a coffee� then turned round to me and said �Is that possible?�. I said yes, there�s a kitchen out there. But another bloke, who�s office it was, asked one of the women who also worked there, to get the coffee. There were 7 other men in that room who worked there. They weren't asked.\"",
                  "_deepnote_index_column": 12
                },
                {
                  "Input": "Today, they brought in a pretty face to distract the clients while negotiating the terms of a multi-million dollar contract. The contract manager told my manager who told me. My manager had question why this woman was apart of it as she has zero qualifications and she is no longer employed with us. This pretty face hasn�t worked for our company since her temporary position ended a year ago. She was only there to cover a maternity leave for our administrative assistant. Our company has had this contract for over 30 years. The expansion project our client is planning is going to result in major growth for our own company. We have an excellent relationship with them and the bid for the contract has been tailor made for us to win it. To lose this contract would be a major blow to the company and maybe it has the Executives desperate, I don�t know. I do know this woman wears short skirts, giggles lots, flirts endlessly and enjoys the attention all the men at work give her. She started dati…",
                  "Situation": "* They brought in a pretty face to distract the clients while negotiating the terms of a multi-million dollar contract.\n* The contract manager told my manager who told me.\n* My manager had question why this woman was apart of it as she has zero qualifications and she is no longer employed with us.\n* This pretty face hasn’t worked for our company since her temporary position ended a year ago.\n* She was only there to cover a maternity leave for our administrative assistant.\n* Our company has had this contract for over 30 years.\n* The expansion project our client is planning is going to result in major growth for our own company.\n* We have an excellent relationship with them and the bid for the contract has been tailor made for us to win it.\n* To lose this contract would be a major blow to the company and maybe it has the Executives desperate, I don’t know.\n* I do know this woman wears short skirts, giggles lots, flirts endlessly and enjoys the attention all the men at work give her.\n* S…",
                  "Feelings": "* I am going to the HR department with a letter.\n* I am scared out of my wits.\n* My husband is acting more outraged than I.\n* He’s standing with me and encouraging me to see this through.\n* He gives me hope and shows me what is possible.",
                  "Action in response": "* I am going to speak up.\n* I am taking a stand and I am scared out of my wits.",
                  "Inappropriate response": "* This pretty face hasn’t worked for our company since her temporary position ended a year ago.\n* She started dating one of the managers, 30 years her senior, before she terminated her employment with us.",
                  "Long term impact": "* To lose this contract would be a major blow to the company and maybe it has the Executives desperate, I don’t know.\n* This behavior is no longer going to be tolerated.",
                  "Parties involved": "* They brought in a pretty face to distract the clients while negotiating the terms of a multi-million dollar contract.\n* The contract manager told my manager who told me.\n* My manager had question why this woman was apart of it as she has zero qualifications and she is no longer employed with us.\n* This pretty face hasn’t worked for our company since her temporary position ended a year ago.\n* She was only there to cover a maternity leave for our administrative assistant.\n* Our company has had this contract for over 30 years.\n* The expansion project our client is planning is going to result in major growth for our own company.\n* We have an excellent relationship with them and the bid for the contract has been tailor made for us to win it.\n* This woman wears short skirts, giggles lots, flirts endlessly and enjoys the attention all the men at work give her.\n* She started dating one of the managers, 30 years her senior, before she terminated her employment with us.\n* My coworker is going…",
                  "_deepnote_index_column": 13
                },
                {
                  "Input": "I work in a nightclub as the door girl (collecting money, letting people into the club). Men feel/think they have the right to touch my body and then get angry when I fight back ",
                  "Situation": "\"I work in a nightclub as the door girl (collecting money, letting people into the club).\"",
                  "Feelings": "\"Men feel/think they have the right to touch my body and then get angry when I fight back.\"",
                  "Action in response": "\"I fight back.\"",
                  "Inappropriate response": "\"Men feel/think they have the right to touch my body and then get angry when I fight back.\"",
                  "Long term impact": "\"I work in a nightclub as the door girl (collecting money, letting people into the club).\"",
                  "Parties involved": "\"Men feel/think they have the right to touch my body and then get angry when I fight back.\"",
                  "_deepnote_index_column": 14
                },
                {
                  "Input": "I was sexually assaulted by a man at my workplace, a large hospital. He was a contractor, there to supervise the installation of new HVAC equipment. From the very first day of his time at my workplace, he did inappropriate things to me. When I was sent to his office to set up his computer, he put his hands on my shoulders and began massaging in a suggestive manner. I told him to stop and left his office. About a week later, I was in Medical Imaging, installing another computer. He was walking toward me with one of the men from Building Maintenance. As soon as he saw me, he began talking loudly to the other man about how �cute� I was, how he was going to ask me out, how much he wanted to get me into his bedroom. The other guy looked mortified but said nothing. I pretended that I had not heard him and carried on with my work. Not long after that, I was up pulling new data cables in a vacant area that was being transitioned from an outdated patient care area to office space. He was cutti…",
                  "Situation": "* He was a contractor, there to supervise the installation of new HVAC equipment.\n* From the very first day of his time at my workplace, he did inappropriate things to me.\n* He was walking toward me with one of the men from Building Maintenance.\n* He grabbed my wrist and yanked me toward him, causing my body to collide with his.\n* He then used his other hand to grope my breasts and buttocks.\n* He still had my right wrist in his grip and would not let go despite me fighting to get free.\n* He then leaned in even closer and said “Women are supposed to like it when a man wants them!”",
                  "Feelings": "* I told him to stop and left his office.\n* I pretended that I had not heard him and carried on with my work.\n* I shrieked right into his ear, which startled him into letting go of me.\n* I remained there for about half an hour before racing back to my department.\n* The next morning, I complained to HR.",
                  "Action in response": "* I told him to stop and left his office.\n* I pretended that I had not heard him and carried on with my work.\n* I shrieked right into his ear, which startled him into letting go of me.\n* I remained there for about half an hour before racing back to my department.\n* The next morning, I complained to HR.",
                  "Inappropriate response": "* He began talking loudly to the other man about how “cute” I was, how he was going to ask me out, how much he wanted to get me into his bedroom.\n* He grabbed my wrist and yanked me toward him, causing my body to collide with his.\n* He then used his other hand to grope my breasts and buttocks.\n* He still had my right wrist in his grip and would not let go despite me fighting to get free.\n* He then leaned in even closer and said “Women are supposed to like it when a man wants them!”",
                  "Long term impact": "* This, in addition to a few other problems, were why I ended up burning out and leaving that entire career.",
                  "Parties involved": "* He was a contractor, there to supervise the installation of new HVAC equipment.\n* He was walking toward me with one of the men from Building Maintenance.\n* He grabbed my wrist and yanked me toward him, causing my body to collide with his.\n* He still had my right wrist in his grip and would not let go despite me fighting to get free.\n* He then leaned in even closer and said “Women are supposed to like it when a man wants them!”",
                  "_deepnote_index_column": 15
                },
                {
                  "Input": "Myself and my colleagues were getting ready to leave our workplace. I was checking my phone, waiting for us to leave. One of my colleagues had to walk past me to get to his coat. As he passed me, he quietly said �You ain�t got no secrets in those trousers, girl�. I turned around and asked him what he�s just said, but he ignored me and carried on putting on his coat. The others didn�t hear. ",
                  "Situation": "\"Myself and my colleagues were getting ready to leave our workplace.\"",
                  "Feelings": "\"I was checking my phone, waiting for us to leave.\"",
                  "Action in response": "\"I turned around and asked him what he�s just said, but he ignored me and carried on putting on his coat.\"",
                  "Inappropriate response": "\"One of my colleagues had to walk past me to get to his coat. As he passed me, he quietly said �You ain�t got no secrets in those trousers, girl�.\"",
                  "Long term impact": "\"The others didn't hear.\"",
                  "Parties involved": "\"myself and my colleagues\"",
                  "_deepnote_index_column": 16
                },
                {
                  "Input": "While I�ve experienced lots of sexism over the years (I was once catcalled when walking home in a black dress. I was on my way home from a FUNERAL), I feel I�ve been relatively lucky not to experience that much sexism in the workplace. Don�t get me wrong, there have been a few instances where I�ve felt uncomfortable, but nothing overt. I�ve always worked in organisations with a social conscience and an ethos of equality, so things have been broadly fair � I�m well respected and my gender hasn�t really been an issue. That said, my entire exec team are men, so there�s probably a problem there somewhere. However, in my spare time, I�m on a board of a small charity. We�ve recently appointed a treasurer as we were missing that skill set. The man we�ve gone for is excellent at his job. He�s in his 60s and has recently retired from a big global company, where he was a senior accountant. During his first meeting, he spoke exclusively to the men in the room and didn�t even look at the women. I…",
                  "Situation": "* While I�ve experienced lots of sexism over the years (I was once catcalled when walking home in a black dress. I was on my way home from a FUNERAL), I feel I�ve been relatively lucky not to experience that much sexism in the workplace.\n* I�ve always worked in organisations with a social conscience and an ethos of equality, so things have been broadly fair � I�m well respected and my gender hasn�t really been an issue.\n* However, in my spare time, I�m on a board of a small charity.\n* We�ve recently appointed a treasurer as we were missing that skill set.\n* The man we�ve gone for is excellent at his job. He�s in his 60s and has recently retired from a big global company, where he was a senior accountant.\n* During his first meeting, he spoke exclusively to the men in the room and didn�t even look at the women.\n* At subsequent meetings though, it�s become clear that he has a real ingrained but subtle sexism.\n* He talks over the women in the room. If he�s challenged on,any of his ideas, …",
                  "Feelings": "* I feel I�ve been relatively lucky not to experience that much sexism in the workplace.\n* I�ve always worked in organisations with a social conscience and an ethos of equality, so things have been broadly fair � I�m well respected and my gender hasn�t really been an issue.\n* However, in my spare time, I�m on a board of a small charity. We�ve recently appointed a treasurer as we were missing that skill set. The man we�ve gone for is excellent at his job. He�s in his 60s and has recently retired from a big global company, where he was a senior accountant. During his first meeting, he spoke exclusively to the men in the room and didn�t even look at the women. At subsequent meetings though, it�s become clear that he has a real ingrained but subtle sexism. He talks over the women in the room. If he�s challenged on,any of his ideas, he doesn�t speak directly to the woman who has challenged him, but instead to the men. And for the first time ever in my professional life, I�ve seen that hide…",
                  "Action in response": "* I�ve not challenged him directly as I�m not sure he even knows he�s doing it. And I�m reluctant to speak to the chair or chief executive for fear that they�ll say I�m too sensitive.\n* I�m trying to deal with it by being an extra good board member. By speaking up more and showing what I can do.",
                  "Inappropriate response": "* He talks over the women in the room. If he�s challenged on,any of his ideas, he doesn�t speak directly to the woman who has challenged him, but instead to the men.\n* And for the first time ever in my professional life, I�ve seen that hideous thing whereby a woman makes a point, he repeats exactly the same thing and gets the plaudits.",
                  "Long term impact": "* It just shows again that a woman has to do more than a man to be taken seriously.",
                  "Parties involved": "* The man we�ve gone for is excellent at his job. He�s in his 60s and has recently retired from a big global company, where he was a senior accountant. During his first meeting, he spoke exclusively to the men in the room and didn't even look at the women. At subsequent meetings though, it�s become clear that he has a real ingrained but subtle sexism. He talks over the women in the room. If he�s challenged on,any of his ideas, he doesn�t speak directly to the",
                  "_deepnote_index_column": 17
                },
                {
                  "Input": "I went to a job interview yesterday. I was applying for a waitressing job. The male interviewer greeted me and introduced himself etc� One of his first questions to me was �Are you single?� � I mean really� Is that relevant in a job interview? The conversation then proceeded as follows: Me: �Umm.. why?� Him: �Because girls like you can cause problems � I don�t want my staff screwing about or screwing each other� (Girls like you � the man doesn�t know me) Me: �Well I have a boyfriend so -� (I was too stunned to even think really) Him: �Good, that�s good. Because the guys here would be all over you if you didn�t � actually it might not matter that you have a boyfriend anyway� Then he swiftly moved on to the next topic. I couldn�t tell if he was joking � but even if he was it is not acceptable to ask anything like that in an interview or make a girl feel that the workplace is full of predatory men and her their prey. I left the interview almost in tears. No man would be asked that questi…",
                  "Situation": "\"I went to a job interview yesterday. I was applying for a waitressing job.\"",
                  "Feelings": "\"I was too stunned to even think really\"",
                  "Action in response": "\"I left the interview almost in tears.\"",
                  "Inappropriate response": "\"Are you single? Because girls like you can cause problems. I don't want my staff screwing about or screwing each other.\"",
                  "Long term impact": "\"I left the interview almost in tears. No man would be asked that question or told that.\"",
                  "Parties involved": "\"The male interviewer greeted me and introduced himself etc.\"",
                  "_deepnote_index_column": 18
                },
                {
                  "Input": "My manager with whom I�d worked closely for more than a year got drunk at a party and told me that I looked so pretty that he�d wanted to kiss me on my cheek. I felt so ashamed and embarrassed. Here was a guy a decade older me, someone who I�d looked up to. Though he apologized later, I still can�t look him in the eyes. ",
                  "Situation": "\"My manager with whom I�d worked closely for more than a year got drunk at a party and told me that I looked so pretty that he�d wanted to kiss me on my cheek.\"",
                  "Feelings": "\"I felt so ashamed and embarrassed.\"",
                  "Action in response": "\"Here was a guy a decade older me, someone who I�d looked up to. Though he apologized later, I still can�t look him in the eyes.\"",
                  "Inappropriate response": "\"He told me that I looked so pretty that he�d wanted to kiss me on my cheek.\"",
                  "Long term impact": "\"I still can�t look him in the eyes.\"",
                  "Parties involved": "\"a party and told me that I looked so pretty that he�d wanted to kiss me on my cheek.\"",
                  "_deepnote_index_column": 19
                }
              ]
            },
            "text/plain": "                                                Input  \\\n0   When I was 17, I worked in a clothing store th...   \n1   I left my job to return for a PhD with an inte...   \n2   A leaflet about �supporting teenagers� in my c...   \n3   As a 16 year old girl, I know very well that s...   \n4   I worked in a doggie daycare for two years as ...   \n5   A few months ago my husband�s workplace (in a ...   \n6   Working in the IT area, I am most of the time ...   \n7   I think that sexism is an issue in the UK. Thi...   \n8   My boss has a history of sexually harassing wo...   \n9   Over the last year I have noticed sexism from ...   \n10  I�m a social worker. I�m also 26, female and h...   \n11  A male colleague, who is very �huggy�, has sta...   \n12  In a meeting today�17 men and 4 women. 10 of u...   \n13  Today, they brought in a pretty face to distra...   \n14  I work in a nightclub as the door girl (collec...   \n15  I was sexually assaulted by a man at my workpl...   \n16  Myself and my colleagues were getting ready to...   \n17  While I�ve experienced lots of sexism over the...   \n18  I went to a job interview yesterday. I was app...   \n19  My manager with whom I�d worked closely for mo...   \n\n                                            Situation  \\\n0   * When I was 17, I worked in a clothing store ...   \n1   * I left my job to return for a PhD with an in...   \n2   * The leaflet about supporting teenagers in my...   \n3   * Being shouted out from car windows whilst wa...   \n4   \"I worked in a doggie daycare for two years as...   \n5   The general manager of my husband's workplace ...   \n6   * Working in the IT area, I am most of the tim...   \n7   * Women's pay is significantly lower than men'...   \n8   * My boss has a history of sexually harassing ...   \n9   \"Over the last year I have noticed sexism from...   \n10  * I'm a social worker.\\n* I'm also 26, female ...   \n11  \"A male colleague, who is very 'huggy', has st...   \n12  \"In a meeting today�17 men and 4 women. 10 of ...   \n13  * They brought in a pretty face to distract th...   \n14  \"I work in a nightclub as the door girl (colle...   \n15  * He was a contractor, there to supervise the ...   \n16  \"Myself and my colleagues were getting ready t...   \n17  * While I�ve experienced lots of sexism over t...   \n18  \"I went to a job interview yesterday. I was ap...   \n19  \"My manager with whom I�d worked closely for m...   \n\n                                             Feelings  \\\n0   * I was quite a naive 17 year old, I didn’t qu...   \n1               * I find it so extremely frustrating.   \n2   * The author is disappointed and frustrated ab...   \n3   * Used to getting shouted out from car windows...   \n4                  \"It was creepy and uncomfortable.\"   \n5   The email's requirement that a female player b...   \n6   * I am afraid of staying with him alone in the...   \n7   * I think that sexism is an issue in the UK.\\n...   \n8   * I am so angry at her for accepting, for not ...   \n9   \"This particular realisation related to other ...   \n10  * In the course of three months, he proceeded ...   \n11  \"I feel uncomfortable and confused by his beha...   \n12  \"During a break, the project manager, who was ...   \n13  * I am going to the HR department with a lette...   \n14  \"Men feel/think they have the right to touch m...   \n15  * I told him to stop and left his office.\\n* I...   \n16  \"I was checking my phone, waiting for us to le...   \n17  * I feel I�ve been relatively lucky not to exp...   \n18           \"I was too stunned to even think really\"   \n19               \"I felt so ashamed and embarrassed.\"   \n\n                                   Action in response  \\\n0   * I went to speak with my manager.\\n* She conf...   \n1                  * I called out the blatant sexism.   \n2   * The author is considering writing a letter t...   \n3   * Listening to the opinions of others\\n* Watch...   \n4   \"I never felt ok to point out how it made me f...   \n5   The author's husband's workplace is hosting a ...   \n6   * I told him not to touch me in a polite way.\\...   \n7   * There is a large percentage of women who are...   \n8   * I have been told on two occasions, �If you w...   \n9   \"I have noticed sexism from other women which,...   \n10  * In the course of three months, he proceeded ...   \n11  \"I have not responded to his advances and have...   \n12  \"But another bloke, who�s office it was, asked...   \n13  * I am going to speak up.\\n* I am taking a sta...   \n14                                    \"I fight back.\"   \n15  * I told him to stop and left his office.\\n* I...   \n16  \"I turned around and asked him what he�s just ...   \n17  * I�ve not challenged him directly as I�m not ...   \n18            \"I left the interview almost in tears.\"   \n19  \"Here was a guy a decade older me, someone who...   \n\n                               Inappropriate response  \\\n0   * She told me to just “ignore it and don’t get...   \n1   * He continued to retaliate, calling my tone c...   \n2   * The author does not believe that calling gir...   \n3   * Laughing at the Everyday Sexism Project talk...   \n4   \"They may have thought they were being nice, o...   \n5   The email's requirement that a female player b...   \n6   * His reaction was quite surprising – he went ...   \n7   * When these situations are reported to their ...   \n8   * When she pulled away he said, �What, it is n...   \n9   \"It seems that it is acceptable for men to be ...   \n10  * He was older, white and male.\\n* In the cour...   \n11  \"I have not done anything inappropriate in res...   \n12  \"There were 7 other men in that room who worke...   \n13  * This pretty face hasn’t worked for our compa...   \n14  \"Men feel/think they have the right to touch m...   \n15  * He began talking loudly to the other man abo...   \n16  \"One of my colleagues had to walk past me to g...   \n17  * He talks over the women in the room. If he�s...   \n18  \"Are you single? Because girls like you can ca...   \n19  \"He told me that I looked so pretty that he�d ...   \n\n                                     Long term impact  \\\n0   * Even when I think about it now, it makes me ...   \n1                  * We have our work cut out for us.   \n2   * The author believes that the leaflet's gende...   \n3   * Being used to daily sexism\\n* Feeling frustr...   \n4   \"I never felt ok to point out how it made me f...   \n5   The email's requirement that a female player b...   \n6   * This experience just dug out some memories t...   \n7   * Women are paid significantly less than men, ...   \n8   * The company has a 95% turnover over the last...   \n9   \"This particular realisation related to other ...   \n10  * He was older, white and male.\\n* In the cour...   \n11  \"I am concerned about the long-term impact of ...   \n12  \"I�m sure this will make me feel less valued a...   \n13  * To lose this contract would be a major blow ...   \n14  \"I work in a nightclub as the door girl (colle...   \n15  * This, in addition to a few other problems, w...   \n16                          \"The others didn't hear.\"   \n17  * It just shows again that a woman has to do m...   \n18  \"I left the interview almost in tears. No man ...   \n19              \"I still can�t look him in the eyes.\"   \n\n                                     Parties involved  \n0   * The man in his late 50s/early 60s who made t...  \n1   * The man that disagreed and called my remarks...  \n2   * The author, who is a young woman living in t...  \n3   * The writer (as a 16 year old girl)\\n* Strang...  \n4   \"At least two middle-aged men often would touc...  \n5   The general manager of my husband's workplace,...  \n6   * A colleague, twenty years older than me, who...  \n7   * Women are affected by sexism and sexual hara...  \n8   * My boss has a history of sexually harassing ...  \n9   \"Over the last year I have noticed sexism from...  \n10  * I'm a social worker.\\n* I'm also 26, female ...  \n11  \"I and my male colleague are the parties invol...  \n12  \"17 men and 4 women. 10 of us were visiting so...  \n13  * They brought in a pretty face to distract th...  \n14  \"Men feel/think they have the right to touch m...  \n15  * He was a contractor, there to supervise the ...  \n16                         \"myself and my colleagues\"  \n17  * The man we�ve gone for is excellent at his j...  \n18  \"The male interviewer greeted me and introduce...  \n19  \"a party and told me that I looked so pretty t...  ",
            "text/html": "<div>\n<style scoped>\n    .dataframe tbody tr th:only-of-type {\n        vertical-align: middle;\n    }\n\n    .dataframe tbody tr th {\n        vertical-align: top;\n    }\n\n    .dataframe thead th {\n        text-align: right;\n    }\n</style>\n<table border=\"1\" class=\"dataframe\">\n  <thead>\n    <tr style=\"text-align: right;\">\n      <th></th>\n      <th>Input</th>\n      <th>Situation</th>\n      <th>Feelings</th>\n      <th>Action in response</th>\n      <th>Inappropriate response</th>\n      <th>Long term impact</th>\n      <th>Parties involved</th>\n    </tr>\n  </thead>\n  <tbody>\n    <tr>\n      <th>0</th>\n      <td>When I was 17, I worked in a clothing store th...</td>\n      <td>* When I was 17, I worked in a clothing store ...</td>\n      <td>* I was quite a naive 17 year old, I didn’t qu...</td>\n      <td>* I went to speak with my manager.\\n* She conf...</td>\n      <td>* She told me to just “ignore it and don’t get...</td>\n      <td>* Even when I think about it now, it makes me ...</td>\n      <td>* The man in his late 50s/early 60s who made t...</td>\n    </tr>\n    <tr>\n      <th>1</th>\n      <td>I left my job to return for a PhD with an inte...</td>\n      <td>* I left my job to return for a PhD with an in...</td>\n      <td>* I find it so extremely frustrating.</td>\n      <td>* I called out the blatant sexism.</td>\n      <td>* He continued to retaliate, calling my tone c...</td>\n      <td>* We have our work cut out for us.</td>\n      <td>* The man that disagreed and called my remarks...</td>\n    </tr>\n    <tr>\n      <th>2</th>\n      <td>A leaflet about �supporting teenagers� in my c...</td>\n      <td>* The leaflet about supporting teenagers in my...</td>\n      <td>* The author is disappointed and frustrated ab...</td>\n      <td>* The author is considering writing a letter t...</td>\n      <td>* The author does not believe that calling gir...</td>\n      <td>* The author believes that the leaflet's gende...</td>\n      <td>* The author, who is a young woman living in t...</td>\n    </tr>\n    <tr>\n      <th>3</th>\n      <td>As a 16 year old girl, I know very well that s...</td>\n      <td>* Being shouted out from car windows whilst wa...</td>\n      <td>* Used to getting shouted out from car windows...</td>\n      <td>* Listening to the opinions of others\\n* Watch...</td>\n      <td>* Laughing at the Everyday Sexism Project talk...</td>\n      <td>* Being used to daily sexism\\n* Feeling frustr...</td>\n      <td>* The writer (as a 16 year old girl)\\n* Strang...</td>\n    </tr>\n    <tr>\n      <th>4</th>\n      <td>I worked in a doggie daycare for two years as ...</td>\n      <td>\"I worked in a doggie daycare for two years as...</td>\n      <td>\"It was creepy and uncomfortable.\"</td>\n      <td>\"I never felt ok to point out how it made me f...</td>\n      <td>\"They may have thought they were being nice, o...</td>\n      <td>\"I never felt ok to point out how it made me f...</td>\n      <td>\"At least two middle-aged men often would touc...</td>\n    </tr>\n    <tr>\n      <th>5</th>\n      <td>A few months ago my husband�s workplace (in a ...</td>\n      <td>The general manager of my husband's workplace ...</td>\n      <td>The email's requirement that a female player b...</td>\n      <td>The author's husband's workplace is hosting a ...</td>\n      <td>The email's requirement that a female player b...</td>\n      <td>The email's requirement that a female player b...</td>\n      <td>The general manager of my husband's workplace,...</td>\n    </tr>\n    <tr>\n      <th>6</th>\n      <td>Working in the IT area, I am most of the time ...</td>\n      <td>* Working in the IT area, I am most of the tim...</td>\n      <td>* I am afraid of staying with him alone in the...</td>\n      <td>* I told him not to touch me in a polite way.\\...</td>\n      <td>* His reaction was quite surprising – he went ...</td>\n      <td>* This experience just dug out some memories t...</td>\n      <td>* A colleague, twenty years older than me, who...</td>\n    </tr>\n    <tr>\n      <th>7</th>\n      <td>I think that sexism is an issue in the UK. Thi...</td>\n      <td>* Women's pay is significantly lower than men'...</td>\n      <td>* I think that sexism is an issue in the UK.\\n...</td>\n      <td>* There is a large percentage of women who are...</td>\n      <td>* When these situations are reported to their ...</td>\n      <td>* Women are paid significantly less than men, ...</td>\n      <td>* Women are affected by sexism and sexual hara...</td>\n    </tr>\n    <tr>\n      <th>8</th>\n      <td>My boss has a history of sexually harassing wo...</td>\n      <td>* My boss has a history of sexually harassing ...</td>\n      <td>* I am so angry at her for accepting, for not ...</td>\n      <td>* I have been told on two occasions, �If you w...</td>\n      <td>* When she pulled away he said, �What, it is n...</td>\n      <td>* The company has a 95% turnover over the last...</td>\n      <td>* My boss has a history of sexually harassing ...</td>\n    </tr>\n    <tr>\n      <th>9</th>\n      <td>Over the last year I have noticed sexism from ...</td>\n      <td>\"Over the last year I have noticed sexism from...</td>\n      <td>\"This particular realisation related to other ...</td>\n      <td>\"I have noticed sexism from other women which,...</td>\n      <td>\"It seems that it is acceptable for men to be ...</td>\n      <td>\"This particular realisation related to other ...</td>\n      <td>\"Over the last year I have noticed sexism from...</td>\n    </tr>\n    <tr>\n      <th>10</th>\n      <td>I�m a social worker. I�m also 26, female and h...</td>\n      <td>* I'm a social worker.\\n* I'm also 26, female ...</td>\n      <td>* In the course of three months, he proceeded ...</td>\n      <td>* In the course of three months, he proceeded ...</td>\n      <td>* He was older, white and male.\\n* In the cour...</td>\n      <td>* He was older, white and male.\\n* In the cour...</td>\n      <td>* I'm a social worker.\\n* I'm also 26, female ...</td>\n    </tr>\n    <tr>\n      <th>11</th>\n      <td>A male colleague, who is very �huggy�, has sta...</td>\n      <td>\"A male colleague, who is very 'huggy', has st...</td>\n      <td>\"I feel uncomfortable and confused by his beha...</td>\n      <td>\"I have not responded to his advances and have...</td>\n      <td>\"I have not done anything inappropriate in res...</td>\n      <td>\"I am concerned about the long-term impact of ...</td>\n      <td>\"I and my male colleague are the parties invol...</td>\n    </tr>\n    <tr>\n      <th>12</th>\n      <td>In a meeting today�17 men and 4 women. 10 of u...</td>\n      <td>\"In a meeting today�17 men and 4 women. 10 of ...</td>\n      <td>\"During a break, the project manager, who was ...</td>\n      <td>\"But another bloke, who�s office it was, asked...</td>\n      <td>\"There were 7 other men in that room who worke...</td>\n      <td>\"I�m sure this will make me feel less valued a...</td>\n      <td>\"17 men and 4 women. 10 of us were visiting so...</td>\n    </tr>\n    <tr>\n      <th>13</th>\n      <td>Today, they brought in a pretty face to distra...</td>\n      <td>* They brought in a pretty face to distract th...</td>\n      <td>* I am going to the HR department with a lette...</td>\n      <td>* I am going to speak up.\\n* I am taking a sta...</td>\n      <td>* This pretty face hasn’t worked for our compa...</td>\n      <td>* To lose this contract would be a major blow ...</td>\n      <td>* They brought in a pretty face to distract th...</td>\n    </tr>\n    <tr>\n      <th>14</th>\n      <td>I work in a nightclub as the door girl (collec...</td>\n      <td>\"I work in a nightclub as the door girl (colle...</td>\n      <td>\"Men feel/think they have the right to touch m...</td>\n      <td>\"I fight back.\"</td>\n      <td>\"Men feel/think they have the right to touch m...</td>\n      <td>\"I work in a nightclub as the door girl (colle...</td>\n      <td>\"Men feel/think they have the right to touch m...</td>\n    </tr>\n    <tr>\n      <th>15</th>\n      <td>I was sexually assaulted by a man at my workpl...</td>\n      <td>* He was a contractor, there to supervise the ...</td>\n      <td>* I told him to stop and left his office.\\n* I...</td>\n      <td>* I told him to stop and left his office.\\n* I...</td>\n      <td>* He began talking loudly to the other man abo...</td>\n      <td>* This, in addition to a few other problems, w...</td>\n      <td>* He was a contractor, there to supervise the ...</td>\n    </tr>\n    <tr>\n      <th>16</th>\n      <td>Myself and my colleagues were getting ready to...</td>\n      <td>\"Myself and my colleagues were getting ready t...</td>\n      <td>\"I was checking my phone, waiting for us to le...</td>\n      <td>\"I turned around and asked him what he�s just ...</td>\n      <td>\"One of my colleagues had to walk past me to g...</td>\n      <td>\"The others didn't hear.\"</td>\n      <td>\"myself and my colleagues\"</td>\n    </tr>\n    <tr>\n      <th>17</th>\n      <td>While I�ve experienced lots of sexism over the...</td>\n      <td>* While I�ve experienced lots of sexism over t...</td>\n      <td>* I feel I�ve been relatively lucky not to exp...</td>\n      <td>* I�ve not challenged him directly as I�m not ...</td>\n      <td>* He talks over the women in the room. If he�s...</td>\n      <td>* It just shows again that a woman has to do m...</td>\n      <td>* The man we�ve gone for is excellent at his j...</td>\n    </tr>\n    <tr>\n      <th>18</th>\n      <td>I went to a job interview yesterday. I was app...</td>\n      <td>\"I went to a job interview yesterday. I was ap...</td>\n      <td>\"I was too stunned to even think really\"</td>\n      <td>\"I left the interview almost in tears.\"</td>\n      <td>\"Are you single? Because girls like you can ca...</td>\n      <td>\"I left the interview almost in tears. No man ...</td>\n      <td>\"The male interviewer greeted me and introduce...</td>\n    </tr>\n    <tr>\n      <th>19</th>\n      <td>My manager with whom I�d worked closely for mo...</td>\n      <td>\"My manager with whom I�d worked closely for m...</td>\n      <td>\"I felt so ashamed and embarrassed.\"</td>\n      <td>\"Here was a guy a decade older me, someone who...</td>\n      <td>\"He told me that I looked so pretty that he�d ...</td>\n      <td>\"I still can�t look him in the eyes.\"</td>\n      <td>\"a party and told me that I looked so pretty t...</td>\n    </tr>\n  </tbody>\n</table>\n</div>"
          },
          "metadata": {}
        }
      ],
      "execution_count": 3,
      "block_group": "5a97b6b28fe74e54bf3c78aa3c7575a2"
    },
    {
      "cell_type": "markdown",
      "source": "### Cleaning the Data",
      "metadata": {
        "formattedRanges": [],
        "cell_id": "fd2d423498844932a76e531b9b6d4401",
        "deepnote_cell_type": "text-cell-h3"
      },
      "block_group": "05b7116373244f3dbad140590028c755"
    },
    {
      "cell_type": "code",
      "source": "df = df.replace('�','\\'', regex=True)\ndf = df.replace('\\*', '',regex =True)\ndf = df.replace('\\n', ' ',regex =True)\ndf",
      "metadata": {
        "source_hash": "4858e522",
        "execution_start": 1699903775927,
        "execution_millis": 340,
        "deepnote_to_be_reexecuted": false,
        "cell_id": "f15a9b48e8c4414697703b8417939f50",
        "deepnote_cell_type": "code"
      },
      "outputs": [
        {
          "output_type": "execute_result",
          "execution_count": 4,
          "data": {
            "application/vnd.deepnote.dataframe.v3+json": {
              "column_count": 7,
              "row_count": 1768,
              "columns": [
                {
                  "name": "Input",
                  "dtype": "object",
                  "stats": {
                    "unique_count": 1738,
                    "nan_count": 0,
                    "categories": [
                      {
                        "name": " Todd: ",
                        "count": 3
                      },
                      {
                        "name": "Constant discourage and lack of empowerment ' positive reinforcements that never comes from older, male colleagues (and I am the only woman, also the youngest in the team), constant overlooking of my abilities and achievements and looking for a new person to delegate work. I work extra hours, from home, unpaid, always give my best, included into internal projects, t-talks, labs and hiring new people interviews, however, still no promotion and no money raise after 14 months on the same job. I know my privilege by working in peace, having salary on time and at all, however my colleagues have the same, still not even trying to their job ' a colleague designer who's been in business more than ten years, after 8 months work with me came and said ' but you are a junior designer, right? (and I am looking to my seniority promotion). ",
                        "count": 2
                      },
                      {
                        "name": "1736 others",
                        "count": 1763
                      }
                    ]
                  }
                },
                {
                  "name": "Situation",
                  "dtype": "object",
                  "stats": {
                    "unique_count": 1736,
                    "nan_count": 0,
                    "categories": [
                      {
                        "name": "Todd is at a party and has been drinking.",
                        "count": 5
                      },
                      {
                        "name": " Constant discourage and lack of empowerment  positive reinforcements that never comes from older, male colleagues (and I am the only woman, also the youngest in the team)  constant overlooking of my abilities and achievements and looking for a new person to delegate work  I work extra hours, from home, unpaid, always give my best, included into internal projects, t-talks, labs and hiring new people interviews, however, still no promotion and no money raise after 14 months on the same job.",
                        "count": 2
                      },
                      {
                        "name": "1734 others",
                        "count": 1761
                      }
                    ]
                  }
                },
                {
                  "name": "Feelings",
                  "dtype": "object",
                  "stats": {
                    "unique_count": 1722,
                    "nan_count": 0,
                    "categories": [
                      {
                        "name": "None of the sentences express feelings.",
                        "count": 7
                      },
                      {
                        "name": "Todd is feeling confident and relaxed.",
                        "count": 5
                      },
                      {
                        "name": "1720 others",
                        "count": 1756
                      }
                    ]
                  }
                },
                {
                  "name": "Action in response",
                  "dtype": "object",
                  "stats": {
                    "unique_count": 1667,
                    "nan_count": 0,
                    "categories": [
                      {
                        "name": "''",
                        "count": 31
                      },
                      {
                        "name": "None mentioned.",
                        "count": 14
                      },
                      {
                        "name": "1665 others",
                        "count": 1723
                      }
                    ]
                  }
                },
                {
                  "name": "Inappropriate response",
                  "dtype": "object",
                  "stats": {
                    "unique_count": 1583,
                    "nan_count": 22,
                    "categories": [
                      {
                        "name": "''",
                        "count": 38
                      },
                      {
                        "name": "1582 others",
                        "count": 1708
                      },
                      {
                        "name": "Missing",
                        "count": 22
                      }
                    ]
                  }
                },
                {
                  "name": "Long term impact",
                  "dtype": "object",
                  "stats": {
                    "unique_count": 1576,
                    "nan_count": 38,
                    "categories": [
                      {
                        "name": "''",
                        "count": 44
                      },
                      {
                        "name": "1575 others",
                        "count": 1686
                      },
                      {
                        "name": "Missing",
                        "count": 38
                      }
                    ]
                  }
                },
                {
                  "name": "Parties involved",
                  "dtype": "object",
                  "stats": {
                    "unique_count": 1694,
                    "nan_count": 2,
                    "categories": [
                      {
                        "name": "''",
                        "count": 38
                      },
                      {
                        "name": "1693 others",
                        "count": 1728
                      },
                      {
                        "name": "Missing",
                        "count": 2
                      }
                    ]
                  }
                },
                {
                  "name": "_deepnote_index_column",
                  "dtype": "int64"
                }
              ],
              "rows": [
                {
                  "Input": "When I was 17, I worked in a clothing store that sold both mens and womens clothing, as well as some unisex items. I was working overtime in the evening, around 8.30pm during the winter so it was already dark. I was by myself on the shop floor as my manager was cashing up in the stock room, when a man in his late 50s/early 60s came in and started asking about the winter boots we had on special offer. We kept all of the stock below the display table, so I knelt on the floor to find his size when he said 'Whilst you're down there, why don't you take one for the team?'. As I was quite a naive 17 year old, I didn't quite understand, so I just awkwardly smiled and ignored it. After he bought the boots and left, I went to speak with my manager. She confirmed that he was actually insinuating I gave him a blowjob, I was shocked and quite upset! She told me to just 'ignore it and don't get upset by it'! Even when I think about it now, it makes me extremely uncomfortable. ",
                  "Situation": " When I was 17, I worked in a clothing store that sold both mens and womens clothing, as well as some unisex items.  I was working overtime in the evening, around 8.30pm during the winter so it was already dark.  I was by myself on the shop floor as my manager was cashing up in the stock room, when a man in his late 50s/early 60s came in and started asking about the winter boots we had on special offer.  We kept all of the stock below the display table, so I knelt on the floor to find his size when he said “Whilst you’re down there, why don’t you take one for the team?”",
                  "Feelings": " I was quite a naive 17 year old, I didn’t quite understand, so I just awkwardly smiled and ignored it.  I was shocked and quite upset!",
                  "Action in response": " I went to speak with my manager.  She confirmed that he was actually insinuating I gave him a blowjob, I was shocked and quite upset!",
                  "Inappropriate response": " She told me to just “ignore it and don’t get upset by it”!",
                  "Long term impact": " Even when I think about it now, it makes me extremely uncomfortable.",
                  "Parties involved": " The man in his late 50s/early 60s who made the inappropriate comment, the 17-year-old employee who was working at the time, and the manager who was cashing up in the stock room.",
                  "_deepnote_index_column": 0
                },
                {
                  "Input": "I left my job to return for a PhD with an intention of developing expertise in my field and preventing encounters with men who label me 'ignorant' or hint to my own incompetence. Part of my PhD requires public engagement via social media. In one such recent Twitter encounter, I stated my opinion and backed it up with facts. A man that disagreed then proceeded to lash out, calling my remarks 'effete' and 'ignorant.' I called out the blatant sexism, for which he continued to retaliate, calling my tone condescending. This is such a nasty cycle and I find it so extremely frustrating'if we sit back, it happens more. And if we speak up, sexism intensifies. We have our work cut out for us. ",
                  "Situation": " I left my job to return for a PhD with an intention of developing expertise in my field and preventing encounters with men who label me 'ignorant' or hint to my own incompetence.  Part of my PhD requires public engagement via social media.  In one such recent Twitter encounter, I stated my opinion and backed it up with facts.  A man that disagreed then proceeded to lash out, calling my remarks 'effete' and 'ignorant.'  I called out the blatant sexism, for which he continued to retaliate, calling my tone condescending.",
                  "Feelings": " I find it so extremely frustrating.",
                  "Action in response": " I called out the blatant sexism.",
                  "Inappropriate response": " He continued to retaliate, calling my tone condescending.",
                  "Long term impact": " We have our work cut out for us.",
                  "Parties involved": " The man that disagreed and called my remarks 'effete' and 'ignorant.'  I called out the blatant sexism.  He continued to retaliate, calling my tone condescending.",
                  "_deepnote_index_column": 1
                },
                {
                  "Input": "A leaflet about 'supporting teenagers' in my country published by so called 'experienced' psychotherapists contains a lot of pernicious gender stereotypes. The reason why I despair about living in my country is that girls get stereotyped as behaving one way and boys get stereotyped as behaving the opposite way, even when in reality there is a lot of overlap of behaviours between the sexes! In the leaflet, girls are automatically assumed to be 'vulnerable' and in need of 'empowering'. This is kind of offensive and degrading to many young women who are capable and self sufficient. Some women do not view themselves as 'helpless victims', but instead as highly capable survivors! Calling girls 'vulnerable' or fragile doesn't help them deal with stuff in an adaptive or a resilient way. While it is true that some young women struggle with issues around eating (please don't use the pathologising words 'eating disorder' because it is society's expectations around food that are disordered, not …",
                  "Situation": " The leaflet about supporting teenagers in my country contains pernicious gender stereotypes.  Girls are automatically assumed to be vulnerable and in need of empowering, while boys are stereotyped as behaving the opposite way.  The leaflet calls girls over-conscientious and perfectionistic, while ignoring the fact that many young men also engage in anorexic or bulimic behaviors.  The leaflet assumes that girls should be denied the opportunity to excel by people who call them too perfectionistic.  The author's grandmother liked to do things thoroughly and properly as part of her job.",
                  "Feelings": " The author is disappointed and frustrated about living in a country where gender stereotypes are prevalent.  The author is offended by the assumption that girls are vulnerable and in need of empowering, and that young women who are capable and self-sufficient do not view themselves as helpless victims.  The author is angry that the leaflet ignores the fact that many young men also engage in anorexic or bulimic behaviors.  The author is disappointed that some teachers, parents, and \"professionals\" may be envious of young women's achievements and actively discourage their hard work and diligence.",
                  "Action in response": " The author is considering writing a letter to the editor of the publication that printed the leaflet to express their concerns.  The author is advocating for a culture of praise and encouragement for young women who excel in their studies and pursuits.",
                  "Inappropriate response": " The author does not believe that calling girls too perfectionistic is an inappropriate response, as they believe that aiming for perfection is a valuable goal.",
                  "Long term impact": " The author believes that the leaflet's gender stereotypes and negative messages about young women's abilities and behaviors can have a long-term impact on their self-esteem and confidence.  The author believes that encouraging young women to aim for high standards and do their best can have a positive impact on their future success and achievements.",
                  "Parties involved": " The author, who is a young woman living in their country.  The publication that printed the leaflet, which the author believes is promoting harmful gender stereotypes.  The teachers, parents, and \"professionals\" who may be envious of young women's achievements and actively discourage their hard work and diligence.",
                  "_deepnote_index_column": 2
                },
                {
                  "Input": "As a 16 year old girl, I know very well that sexism exists. On pretty much a daily basis, I am shouted out from car windows whilst walking down the street, or approached by strangers whilst out in public, usually by older men. This is something that as a female, you get used to, enough though you shouldn't have to. One thing I will not get over though, is being told that sexism is not an issue. I take a sociology class at my college, and one of the subjects we cover if feminism. This is something that me and my friends are passionate about, we believe it needs to be talked about in order for things to change. There are however, a number of boys in that class who disagree with feminists and try to tell us everything we say is wrong. I can accept this; everyone is entitled to an opinion and I am willing to listen to anyone's opinion. Today it reached a point where I can no longer just accept their opinion. As a group, we watched the Everyday Sexism Project talk 'CoventGardenWomen'. All …",
                  "Situation": " Being shouted out from car windows whilst walking down the street  Being approached by strangers whilst out in public, usually by older men  Being told that sexism is not an issue  Being in a sociology class where feminism is discussed  Being in a group that watches the Everyday Sexism Project talk  Being told that there's no reason for women to feel unsafe whilst walking alone  Being told that sexual assault isn't a problem  Being told that if it really happened more women would come forward",
                  "Feelings": " Used to getting shouted out from car windows  Not used to being approached by strangers  Frustrated that people deny the existence of sexism  Passionate about feminism  Heartbroken to see insensitivity towards sexual assault  Scared of being laughed at or told it's not a big deal  Suffering alone because of victim blaming",
                  "Action in response": " Listening to the opinions of others  Watching the Everyday Sexism Project talk  Asking for the speech to be turned off  Being told to stop complaining",
                  "Inappropriate response": " Laughing at the Everyday Sexism Project talk  Telling the speaker to stop complaining",
                  "Long term impact": " Being used to daily sexism  Feeling frustrated and heartbroken  Being scared to speak out  Suffering alone",
                  "Parties involved": " The writer (as a 16 year old girl)  Strangers who approach the writer in public  Classmates who disagree with feminism  The speaker in the Everyday Sexism Project talk  The writer's friends who are passionate about feminism",
                  "_deepnote_index_column": 3
                },
                {
                  "Input": "I worked in a doggie daycare for two years as the front desk manager. I saw many of the same clients regularly, day after day. At least two middle-aged men often would touch my shoulder for no reason while we exchanged pleasantries as they dropped off their dogs. They may have thought they were being nice, or friendly, but it was creepy and uncomfortable and as I was in my workplace and my job was to be polite and courteous to all customers I never felt ok to point out how it made me feel or ask them to stop. ",
                  "Situation": "\"I worked in a doggie daycare for two years as the front desk manager.\"",
                  "Feelings": "\"It was creepy and uncomfortable.\"",
                  "Action in response": "\"I never felt ok to point out how it made me feel or ask them to stop.\"",
                  "Inappropriate response": "\"They may have thought they were being nice, or friendly, but it was creepy and uncomfortable.\"",
                  "Long term impact": "\"I never felt ok to point out how it made me feel or ask them to stop.\"",
                  "Parties involved": "\"At least two middle-aged men often would touch my shoulder for no reason while we exchanged pleasantries as they dropped off their dogs.\"",
                  "_deepnote_index_column": 4
                },
                {
                  "Input": "A few months ago my husband's workplace (in a liberal, northeast state) had an event at a bowling alley, a fundraiser in a series of playful competitions with a rival company. To form bowling teams in anticipation of this event, my husband's general manager sent out an email to the entire company stating that each bowling team would need 'one very skilled player , at least 2 above average players, and a female.' You know, because 'females' can't be 'skilled' or 'above average' at bowling, obvs. ",
                  "Situation": "The general manager of my husband's workplace sent out an email stating the requirements for forming bowling teams for a fundraiser event, including the requirement for a female player.",
                  "Feelings": "The email's requirement that a female player be included on each bowling team is seen as sexist and discriminatory.",
                  "Action in response": "The author's husband's workplace is hosting a fundraiser event at a bowling alley, and the general manager sent out an email requiring each bowling team to include a female player.",
                  "Inappropriate response": "The email's requirement that a female player be included on each bowling team is seen as sexist and discriminatory.",
                  "Long term impact": "The email's requirement that a female player be included on each bowling team could potentially harm the workplace's reputation and lead to negative publicity.",
                  "Parties involved": "The general manager of my husband's workplace, the employees of the workplace, and the rival company participating in the fundraiser event.",
                  "_deepnote_index_column": 5
                },
                {
                  "Input": "Working in the IT area, I am most of the time the only woman in the office, in my thirties, between men of fifty mostly. With the tempratures coming up and approaching summer, I arrived in the office in a summer appropriate dress, receiving comments all morning. This was nothing comparing to the feedback of a colleague, twenty years older then me, who constantly stalks me around and makes the others believe we are lovers, ocasionally touching me and commenting on my body. This time I told him not to touch me in a polite way. His reaction was quite surprizing ' he went to the other colleagues complaining about me to tell him not to touch me, when actually I look so nice ' means I should be only flattered. For me, I dont see this to be an excuse to be touched, espacially in an adult management oriented environement. I am afraid of staying with him alone in the office or in the room, and sometimes I preffer to stay home and work from there to actually woork in peace. I constantly think a…",
                  "Situation": " Working in the IT area, I am most of the time the only woman in the office, in my thirties, between men of fifty mostly.  With the temperatures coming up and approaching summer, I arrived in the office in a summer-appropriate dress, receiving comments all morning.  This was nothing comparing to the feedback of a colleague, twenty years older than me, who constantly stalks me around and makes the others believe we are lovers, occasionally touching me and commenting on my body.  This time I told him not to touch me in a polite way.  His reaction was quite surprising – he went to the other colleagues complaining about me to tell him not to touch me, when actually I look so nice – means I should be only flattered.  For me, I don’t see this to be an excuse to be touched, especially in an adult management-oriented environment.  I am afraid of staying with him alone in the office or in the room, and sometimes I prefer to stay home and work from there to actually work in peace.  I constantly…",
                  "Feelings": " I am afraid of staying with him alone in the office or in the room, and sometimes I prefer to stay home and work from there to actually work in peace.  I constantly think about if I gave him in any way an excuse to behave like that, because I am afraid to break the atmosphere of the office with raising a complaint about it.  Every time I tell myself – ok, next time you tell him this is above and HR can be involved.",
                  "Action in response": " I told him not to touch me in a polite way.  His reaction was quite surprising – he went to the other colleagues complaining about me to tell him not to touch me, when actually I look so nice – means I should be only flattered.  For me, I don’t see this to be an excuse to be touched, especially in an adult management-oriented environment.  I am afraid of staying with him alone in the office or in the room, and sometimes I prefer to stay home and work from there to actually work in peace.  I constantly think about if I gave him in any way an excuse to behave like that, because I am afraid to break the atmosphere of the office with raising a complaint about it.  Every time I tell myself – ok, next time you tell him this is above and HR can be involved.",
                  "Inappropriate response": " His reaction was quite surprising – he went to the other colleagues complaining about me to tell him not to touch me, when actually I look so nice – means I should be only flattered.  For me, I don’t see this to be an excuse to be touched, especially in an adult management-oriented environment.",
                  "Long term impact": " This experience just dug out some memories that I thought are already forgotten – that since I was seven years old attending school, boys from my class were touching and kissing me without asking, having fun this way, and the touches continued also when I was at high school, by totally different people.  From what I remember from these years, it was just my body being not mine.  I believe now in my thirties it’s a big lesson for me to learn to start saying what I don’t like and out loud.",
                  "Parties involved": " A colleague, twenty years older than me, who constantly stalks me around and makes the others believe we are lovers, occasionally touching me and commenting on my body.  The other colleagues who were complaining about me to tell him not to touch me, when actually I look so nice – means I should be only flattered.",
                  "_deepnote_index_column": 6
                },
                {
                  "Input": "I think that sexism is an issue in the UK. This is because women's pay is significantly lower then men's which is biased and unfair. We are also described with much more feminine verbs, and also those which describe where we participate and do a lot of teamwork, yet not as much independent. This is also more unfair for us as men are described with more independent, strong and powerful words. In workplaces, a large percentage (52%) of women are sexually harassed, and made to feel extremely vulnerable. In many cases when these situations are reported to their head of work, they are dropped or under-prioritised. ",
                  "Situation": " Women's pay is significantly lower than men's which is biased and unfair.  We are also described with much more feminine verbs, and also those which describe where we participate and do a lot of teamwork, yet not as much independent.  In workplaces, a large percentage (52%) of women are sexually harassed, and made to feel extremely vulnerable.",
                  "Feelings": " I think that sexism is an issue in the UK.  This is also more unfair for us as men are described with more independent, strong and powerful words.  In many cases when these situations are reported to their head of work, they are dropped or under-prioritised.",
                  "Action in response": " There is a large percentage of women who are sexually harassed in workplaces.  This is an issue that needs to be addressed and dealt with.",
                  "Inappropriate response": " When these situations are reported to their head of work, they are dropped or under-prioritised.",
                  "Long term impact": " Women are paid significantly less than men, which can have long-term financial consequences.  Women may also experience mental health issues as a result of sexual harassment in the workplace.",
                  "Parties involved": " Women are affected by sexism and sexual harassment in the workplace.  Men may also be affected by the gendered language used to describe them.  Employers and heads of work may be responsible for addressing and prioritizing reports of sexual harassment.",
                  "_deepnote_index_column": 7
                },
                {
                  "Input": "My boss has a history of sexually harassing women at my workplace. He is a prominent artist, and most people idolize him without realizing that he is a predator. Every woman in the office has a story. Mine is the many long hugs he gives under the guise of 'I am an affectionate guy' and with responses afterwards such as 'You really understand what my work is about here'. I have been told on two occasions, 'If you want to keep your job, you will take your clothes off for me' to model. My manager was pulled onto his lap and her breasts groped. When she pulled away he said, 'What, it is not like I have not felt breasts before'. Recently he sexually assaulted a coworker and it ended in a non-consensual sexual act. He paid her $50,000 and gave her a $13,000 painting to make it go away. I am so angry at her for accepting, for not standing up to him and protecting the rest of us. But this is also not the first time a pay off has happened. It also occurred 6 months ago before this whole new ba…",
                  "Situation": " My boss has a history of sexually harassing women at my workplace.  He is a prominent artist, and most people idolize him without realizing that he is a predator.  Every woman in the office has a story.  My manager was pulled onto his lap and her breasts groped.  Recently he sexually assaulted a coworker and it ended in a non-consensual sexual act.  He paid her $50,000 and gave her a $13,000 painting to make it go away.  We are in North Carolina and working in a company of less than 15 employees.  Federal sexual harassment laws do not protect us in the same way, and there is very little we can do.",
                  "Feelings": " I am so angry at her for accepting, for not standing up to him and protecting the rest of us.  But this is also not the first time a pay off has happened.  It also occurred 6 months ago before this whole new batch of employees was hired?  But we are in North Carolina and working in a company of less than 15 employees.  Federal sexual harassment laws do not protect us in the same way, and there is very little we can do.",
                  "Action in response": " I have been told on two occasions, 'If you want to keep your job, you will take your clothes off for me' to model.  I want to make something happen, but how?",
                  "Inappropriate response": " When she pulled away he said, 'What, it is not like I have not felt breasts before'.  He paid her $50,000 and gave her a $13,000 painting to make it go away.",
                  "Long term impact": " The company has a 95% turnover over the last 6 years since it began?",
                  "Parties involved": " My boss has a history of sexually harassing women at my workplace.  He is a prominent artist, and most people idolize him without realizing that he is a predator.  Every woman in the office has a story.  My manager was pulled onto his lap and her breasts groped.  Recently he sexually assaulted a coworker and it ended in a non-consensual sexual act.  He paid her $50,000 and gave her a $13,000 painting to make it go away.  We are in North Carolina and working in a company of less than 15 employees.  Federal sexual harassment laws do not protect us in the same way, and there is very little we can do.",
                  "_deepnote_index_column": 8
                },
                {
                  "Input": "Over the last year I have noticed sexism from other women which, before it happened, had never crossed my mind. This particular realisation related to other women's perception of assertive behaviour in the workplace. It seems that it is acceptable for men to be assertive ' their thoughts delivered in whichever way they choose ' but when women are 'assertive' in the same way ( using the same words, the same tone of voice, similar body language) they are labelled aggressive; not by other men, but by other women. ",
                  "Situation": "\"Over the last year I have noticed sexism from other women which, before it happened, had never crossed my mind.\"",
                  "Feelings": "\"This particular realisation related to other women's perception of assertive behaviour in the workplace. It seems that it is acceptable for men to be assertive ' their thoughts delivered in whichever way they choose ' but when women are 'assertive' in the same way ( using the same words, the same tone of voice, similar body language) they are labelled aggressive; not by other men, but by other women.\"",
                  "Action in response": "\"I have noticed sexism from other women which, before it happened, had never crossed my mind.\"",
                  "Inappropriate response": "\"It seems that it is acceptable for men to be assertive ' their thoughts delivered in whichever way they choose ' but when women are 'assertive' in the same way ( using the same words, the same tone of voice, similar body language) they are labelled aggressive; not by other men, but by other women.\"",
                  "Long term impact": "\"This particular realisation related to other women's perception of assertive behaviour in the workplace. It seems that it is acceptable for men to be assertive ' their thoughts delivered in whichever way they choose ' but when women are 'assertive' in the same way ( using the same words, the same tone of voice, similar body language) they are labelled aggressive; not by other men, but by other women.\"",
                  "Parties involved": "\"Over the last year I have noticed sexism from other women which, before it happened, had never crossed my mind.\"",
                  "_deepnote_index_column": 9
                }
              ]
            },
            "text/plain": "                                                  Input  \\\n0     When I was 17, I worked in a clothing store th...   \n1     I left my job to return for a PhD with an inte...   \n2     A leaflet about 'supporting teenagers' in my c...   \n3     As a 16 year old girl, I know very well that s...   \n4     I worked in a doggie daycare for two years as ...   \n...                                                 ...   \n1763  I work for a healthcare system where 80% of th...   \n1764  I'm getting paid $5,000 a year less than my ma...   \n1765  This is my second entry to the project. Same b...   \n1766  Need some advice. I am female and use the wome...   \n1767  I was getting a professional workplace photo t...   \n\n                                              Situation  \\\n0      When I was 17, I worked in a clothing store t...   \n1      I left my job to return for a PhD with an int...   \n2      The leaflet about supporting teenagers in my ...   \n3      Being shouted out from car windows whilst wal...   \n4     \"I worked in a doggie daycare for two years as...   \n...                                                 ...   \n1763  \"I work for a healthcare system where 80% of t...   \n1764   I'm getting paid $5,000 a year less than my m...   \n1765   Boss on the phone to a male colleague \"it’s a...   \n1766   Using women's toilets  Being attracted to men...   \n1767  \"I was getting a professional workplace photo ...   \n\n                                               Feelings  \\\n0      I was quite a naive 17 year old, I didn’t qui...   \n1                   I find it so extremely frustrating.   \n2      The author is disappointed and frustrated abo...   \n3      Used to getting shouted out from car windows ...   \n4                    \"It was creepy and uncomfortable.\"   \n...                                                 ...   \n1763  \"Most of us are female and would have loved to...   \n1764   I'm getting paid $5,000 a year less than my m...   \n1765   Writer looking at the boss with a displeasing...   \n1766   Feeling uncomfortable when called a \"lady\"  F...   \n1767  \"The everyday sexism begins! Photographer says...   \n\n                                     Action in response  \\\n0      I went to speak with my manager.  She confirm...   \n1                      I called out the blatant sexism.   \n2      The author is considering writing a letter to...   \n3      Listening to the opinions of others  Watching...   \n4     \"I never felt ok to point out how it made me f...   \n...                                                 ...   \n1763  \"It's a small thing but most of us are female ...   \n1764   I attended college for four years while my co...   \n1765   Writer reporting the incident to the next man...   \n1766   Not using make-up except for clear chapstick ...   \n1767  \"I have to deal with this but my husband doesn...   \n\n                                 Inappropriate response  \\\n0      She told me to just “ignore it and don’t get ...   \n1      He continued to retaliate, calling my tone co...   \n2      The author does not believe that calling girl...   \n3      Laughing at the Everyday Sexism Project talk ...   \n4     \"They may have thought they were being nice, o...   \n...                                                 ...   \n1763                                                NaN   \n1764   I'm getting paid $5,000 a year less than my m...   \n1765   Boss making a comment about the writer's coll...   \n1766   Not sure if there is an inappropriate respons...   \n1767  \"If he was a feminist he should know better th...   \n\n                                       Long term impact  \\\n0      Even when I think about it now, it makes me e...   \n1                      We have our work cut out for us.   \n2      The author believes that the leaflet's gender...   \n3      Being used to daily sexism  Feeling frustrate...   \n4     \"I never felt ok to point out how it made me f...   \n...                                                 ...   \n1763                                                NaN   \n1764   I'm getting paid $5,000 a year less than my m...   \n1765    Writer feeling like they need to find a new job   \n1766   Feeling unhappy with being shoved into the \"l...   \n1767  \"I have a feeling that I’m going to encounter ...   \n\n                                       Parties involved  \n0      The man in his late 50s/early 60s who made th...  \n1      The man that disagreed and called my remarks ...  \n2      The author, who is a young woman living in th...  \n3      The writer (as a 16 year old girl)  Strangers...  \n4     \"At least two middle-aged men often would touc...  \n...                                                 ...  \n1763              \"executives, who are all white males\"  \n1764   I'm getting paid $5,000 a year less than my m...  \n1765   Boss  Male colleague on the phone  Next manag...  \n1766   The writer  Men who talk over the writer when...  \n1767                  \"Photographer, my husband and I.\"  \n\n[1768 rows x 7 columns]",
            "text/html": "<div>\n<style scoped>\n    .dataframe tbody tr th:only-of-type {\n        vertical-align: middle;\n    }\n\n    .dataframe tbody tr th {\n        vertical-align: top;\n    }\n\n    .dataframe thead th {\n        text-align: right;\n    }\n</style>\n<table border=\"1\" class=\"dataframe\">\n  <thead>\n    <tr style=\"text-align: right;\">\n      <th></th>\n      <th>Input</th>\n      <th>Situation</th>\n      <th>Feelings</th>\n      <th>Action in response</th>\n      <th>Inappropriate response</th>\n      <th>Long term impact</th>\n      <th>Parties involved</th>\n    </tr>\n  </thead>\n  <tbody>\n    <tr>\n      <th>0</th>\n      <td>When I was 17, I worked in a clothing store th...</td>\n      <td>When I was 17, I worked in a clothing store t...</td>\n      <td>I was quite a naive 17 year old, I didn’t qui...</td>\n      <td>I went to speak with my manager.  She confirm...</td>\n      <td>She told me to just “ignore it and don’t get ...</td>\n      <td>Even when I think about it now, it makes me e...</td>\n      <td>The man in his late 50s/early 60s who made th...</td>\n    </tr>\n    <tr>\n      <th>1</th>\n      <td>I left my job to return for a PhD with an inte...</td>\n      <td>I left my job to return for a PhD with an int...</td>\n      <td>I find it so extremely frustrating.</td>\n      <td>I called out the blatant sexism.</td>\n      <td>He continued to retaliate, calling my tone co...</td>\n      <td>We have our work cut out for us.</td>\n      <td>The man that disagreed and called my remarks ...</td>\n    </tr>\n    <tr>\n      <th>2</th>\n      <td>A leaflet about 'supporting teenagers' in my c...</td>\n      <td>The leaflet about supporting teenagers in my ...</td>\n      <td>The author is disappointed and frustrated abo...</td>\n      <td>The author is considering writing a letter to...</td>\n      <td>The author does not believe that calling girl...</td>\n      <td>The author believes that the leaflet's gender...</td>\n      <td>The author, who is a young woman living in th...</td>\n    </tr>\n    <tr>\n      <th>3</th>\n      <td>As a 16 year old girl, I know very well that s...</td>\n      <td>Being shouted out from car windows whilst wal...</td>\n      <td>Used to getting shouted out from car windows ...</td>\n      <td>Listening to the opinions of others  Watching...</td>\n      <td>Laughing at the Everyday Sexism Project talk ...</td>\n      <td>Being used to daily sexism  Feeling frustrate...</td>\n      <td>The writer (as a 16 year old girl)  Strangers...</td>\n    </tr>\n    <tr>\n      <th>4</th>\n      <td>I worked in a doggie daycare for two years as ...</td>\n      <td>\"I worked in a doggie daycare for two years as...</td>\n      <td>\"It was creepy and uncomfortable.\"</td>\n      <td>\"I never felt ok to point out how it made me f...</td>\n      <td>\"They may have thought they were being nice, o...</td>\n      <td>\"I never felt ok to point out how it made me f...</td>\n      <td>\"At least two middle-aged men often would touc...</td>\n    </tr>\n    <tr>\n      <th>...</th>\n      <td>...</td>\n      <td>...</td>\n      <td>...</td>\n      <td>...</td>\n      <td>...</td>\n      <td>...</td>\n      <td>...</td>\n    </tr>\n    <tr>\n      <th>1763</th>\n      <td>I work for a healthcare system where 80% of th...</td>\n      <td>\"I work for a healthcare system where 80% of t...</td>\n      <td>\"Most of us are female and would have loved to...</td>\n      <td>\"It's a small thing but most of us are female ...</td>\n      <td>NaN</td>\n      <td>NaN</td>\n      <td>\"executives, who are all white males\"</td>\n    </tr>\n    <tr>\n      <th>1764</th>\n      <td>I'm getting paid $5,000 a year less than my ma...</td>\n      <td>I'm getting paid $5,000 a year less than my m...</td>\n      <td>I'm getting paid $5,000 a year less than my m...</td>\n      <td>I attended college for four years while my co...</td>\n      <td>I'm getting paid $5,000 a year less than my m...</td>\n      <td>I'm getting paid $5,000 a year less than my m...</td>\n      <td>I'm getting paid $5,000 a year less than my m...</td>\n    </tr>\n    <tr>\n      <th>1765</th>\n      <td>This is my second entry to the project. Same b...</td>\n      <td>Boss on the phone to a male colleague \"it’s a...</td>\n      <td>Writer looking at the boss with a displeasing...</td>\n      <td>Writer reporting the incident to the next man...</td>\n      <td>Boss making a comment about the writer's coll...</td>\n      <td>Writer feeling like they need to find a new job</td>\n      <td>Boss  Male colleague on the phone  Next manag...</td>\n    </tr>\n    <tr>\n      <th>1766</th>\n      <td>Need some advice. I am female and use the wome...</td>\n      <td>Using women's toilets  Being attracted to men...</td>\n      <td>Feeling uncomfortable when called a \"lady\"  F...</td>\n      <td>Not using make-up except for clear chapstick ...</td>\n      <td>Not sure if there is an inappropriate respons...</td>\n      <td>Feeling unhappy with being shoved into the \"l...</td>\n      <td>The writer  Men who talk over the writer when...</td>\n    </tr>\n    <tr>\n      <th>1767</th>\n      <td>I was getting a professional workplace photo t...</td>\n      <td>\"I was getting a professional workplace photo ...</td>\n      <td>\"The everyday sexism begins! Photographer says...</td>\n      <td>\"I have to deal with this but my husband doesn...</td>\n      <td>\"If he was a feminist he should know better th...</td>\n      <td>\"I have a feeling that I’m going to encounter ...</td>\n      <td>\"Photographer, my husband and I.\"</td>\n    </tr>\n  </tbody>\n</table>\n<p>1768 rows × 7 columns</p>\n</div>"
          },
          "metadata": {}
        }
      ],
      "execution_count": 4,
      "block_group": "ce81d347e35f4f80ba0e8dcf74e69469"
    },
    {
      "cell_type": "code",
      "source": "def remove_outer_quotes(input_value):\n    if isinstance(input_value, str) and len(input_value) >= 2 and input_value[0] == '\"' and input_value[-1] == '\"':\n        return input_value[1:-1]\n    else:\n        return input_value\n\n# Example usage:\noriginal_string = '\"This is a quoted string\"'\nmodified_string = remove_outer_quotes(original_string)\nprint(modified_string)",
      "metadata": {
        "source_hash": "89c753b",
        "execution_start": 1699903776278,
        "execution_millis": 13,
        "deepnote_to_be_reexecuted": false,
        "cell_id": "f1512785892743db9b23f7906bd45704",
        "deepnote_cell_type": "code"
      },
      "outputs": [
        {
          "name": "stdout",
          "text": "This is a quoted string\n",
          "output_type": "stream"
        }
      ],
      "execution_count": 5,
      "block_group": "16d51e07d88d4d04a26e439cff96f2ae"
    },
    {
      "cell_type": "code",
      "source": "df = df.applymap(remove_outer_quotes)\ndf.head()",
      "metadata": {
        "source_hash": "b6c02910",
        "execution_start": 1699903776281,
        "execution_millis": 65,
        "deepnote_table_state": {
          "sortBy": [],
          "filters": [],
          "pageSize": 10,
          "pageIndex": 0
        },
        "deepnote_table_loading": false,
        "deepnote_to_be_reexecuted": false,
        "cell_id": "ea5ab2e6e09141fa8d034a0e9c331127",
        "deepnote_cell_type": "code"
      },
      "outputs": [
        {
          "output_type": "execute_result",
          "execution_count": 6,
          "data": {
            "application/vnd.deepnote.dataframe.v3+json": {
              "column_count": 7,
              "row_count": 5,
              "columns": [
                {
                  "name": "Input",
                  "dtype": "object",
                  "stats": {
                    "unique_count": 5,
                    "nan_count": 0,
                    "categories": [
                      {
                        "name": "When I was 17, I worked in a clothing store that sold both mens and womens clothing, as well as some unisex items. I was working overtime in the evening, around 8.30pm during the winter so it was already dark. I was by myself on the shop floor as my manager was cashing up in the stock room, when a man in his late 50s/early 60s came in and started asking about the winter boots we had on special offer. We kept all of the stock below the display table, so I knelt on the floor to find his size when he said 'Whilst you're down there, why don't you take one for the team?'. As I was quite a naive 17 year old, I didn't quite understand, so I just awkwardly smiled and ignored it. After he bought the boots and left, I went to speak with my manager. She confirmed that he was actually insinuating I gave him a blowjob, I was shocked and quite upset! She told me to just 'ignore it and don't get upset by it'! Even when I think about it now, it makes me extremely uncomfortable. ",
                        "count": 1
                      },
                      {
                        "name": "I left my job to return for a PhD with an intention of developing expertise in my field and preventing encounters with men who label me 'ignorant' or hint to my own incompetence. Part of my PhD requires public engagement via social media. In one such recent Twitter encounter, I stated my opinion and backed it up with facts. A man that disagreed then proceeded to lash out, calling my remarks 'effete' and 'ignorant.' I called out the blatant sexism, for which he continued to retaliate, calling my tone condescending. This is such a nasty cycle and I find it so extremely frustrating'if we sit back, it happens more. And if we speak up, sexism intensifies. We have our work cut out for us. ",
                        "count": 1
                      },
                      {
                        "name": "3 others",
                        "count": 3
                      }
                    ]
                  }
                },
                {
                  "name": "Situation",
                  "dtype": "object",
                  "stats": {
                    "unique_count": 5,
                    "nan_count": 0,
                    "categories": [
                      {
                        "name": " When I was 17, I worked in a clothing store that sold both mens and womens clothing, as well as some unisex items.  I was working overtime in the evening, around 8.30pm during the winter so it was already dark.  I was by myself on the shop floor as my manager was cashing up in the stock room, when a man in his late 50s/early 60s came in and started asking about the winter boots we had on special offer.  We kept all of the stock below the display table, so I knelt on the floor to find his size when he said “Whilst you’re down there, why don’t you take one for the team?”",
                        "count": 1
                      },
                      {
                        "name": " I left my job to return for a PhD with an intention of developing expertise in my field and preventing encounters with men who label me 'ignorant' or hint to my own incompetence.  Part of my PhD requires public engagement via social media.  In one such recent Twitter encounter, I stated my opinion and backed it up with facts.  A man that disagreed then proceeded to lash out, calling my remarks 'effete' and 'ignorant.'  I called out the blatant sexism, for which he continued to retaliate, calling my tone condescending.",
                        "count": 1
                      },
                      {
                        "name": "3 others",
                        "count": 3
                      }
                    ]
                  }
                },
                {
                  "name": "Feelings",
                  "dtype": "object",
                  "stats": {
                    "unique_count": 5,
                    "nan_count": 0,
                    "categories": [
                      {
                        "name": " I was quite a naive 17 year old, I didn’t quite understand, so I just awkwardly smiled and ignored it.  I was shocked and quite upset!",
                        "count": 1
                      },
                      {
                        "name": " I find it so extremely frustrating.",
                        "count": 1
                      },
                      {
                        "name": "3 others",
                        "count": 3
                      }
                    ]
                  }
                },
                {
                  "name": "Action in response",
                  "dtype": "object",
                  "stats": {
                    "unique_count": 5,
                    "nan_count": 0,
                    "categories": [
                      {
                        "name": " I went to speak with my manager.  She confirmed that he was actually insinuating I gave him a blowjob, I was shocked and quite upset!",
                        "count": 1
                      },
                      {
                        "name": " I called out the blatant sexism.",
                        "count": 1
                      },
                      {
                        "name": "3 others",
                        "count": 3
                      }
                    ]
                  }
                },
                {
                  "name": "Inappropriate response",
                  "dtype": "object",
                  "stats": {
                    "unique_count": 5,
                    "nan_count": 0,
                    "categories": [
                      {
                        "name": " She told me to just “ignore it and don’t get upset by it”!",
                        "count": 1
                      },
                      {
                        "name": " He continued to retaliate, calling my tone condescending.",
                        "count": 1
                      },
                      {
                        "name": "3 others",
                        "count": 3
                      }
                    ]
                  }
                },
                {
                  "name": "Long term impact",
                  "dtype": "object",
                  "stats": {
                    "unique_count": 5,
                    "nan_count": 0,
                    "categories": [
                      {
                        "name": " Even when I think about it now, it makes me extremely uncomfortable.",
                        "count": 1
                      },
                      {
                        "name": " We have our work cut out for us.",
                        "count": 1
                      },
                      {
                        "name": "3 others",
                        "count": 3
                      }
                    ]
                  }
                },
                {
                  "name": "Parties involved",
                  "dtype": "object",
                  "stats": {
                    "unique_count": 5,
                    "nan_count": 0,
                    "categories": [
                      {
                        "name": " The man in his late 50s/early 60s who made the inappropriate comment, the 17-year-old employee who was working at the time, and the manager who was cashing up in the stock room.",
                        "count": 1
                      },
                      {
                        "name": " The man that disagreed and called my remarks 'effete' and 'ignorant.'  I called out the blatant sexism.  He continued to retaliate, calling my tone condescending.",
                        "count": 1
                      },
                      {
                        "name": "3 others",
                        "count": 3
                      }
                    ]
                  }
                },
                {
                  "name": "_deepnote_index_column",
                  "dtype": "int64"
                }
              ],
              "rows": [
                {
                  "Input": "When I was 17, I worked in a clothing store that sold both mens and womens clothing, as well as some unisex items. I was working overtime in the evening, around 8.30pm during the winter so it was already dark. I was by myself on the shop floor as my manager was cashing up in the stock room, when a man in his late 50s/early 60s came in and started asking about the winter boots we had on special offer. We kept all of the stock below the display table, so I knelt on the floor to find his size when he said 'Whilst you're down there, why don't you take one for the team?'. As I was quite a naive 17 year old, I didn't quite understand, so I just awkwardly smiled and ignored it. After he bought the boots and left, I went to speak with my manager. She confirmed that he was actually insinuating I gave him a blowjob, I was shocked and quite upset! She told me to just 'ignore it and don't get upset by it'! Even when I think about it now, it makes me extremely uncomfortable. ",
                  "Situation": " When I was 17, I worked in a clothing store that sold both mens and womens clothing, as well as some unisex items.  I was working overtime in the evening, around 8.30pm during the winter so it was already dark.  I was by myself on the shop floor as my manager was cashing up in the stock room, when a man in his late 50s/early 60s came in and started asking about the winter boots we had on special offer.  We kept all of the stock below the display table, so I knelt on the floor to find his size when he said “Whilst you’re down there, why don’t you take one for the team?”",
                  "Feelings": " I was quite a naive 17 year old, I didn’t quite understand, so I just awkwardly smiled and ignored it.  I was shocked and quite upset!",
                  "Action in response": " I went to speak with my manager.  She confirmed that he was actually insinuating I gave him a blowjob, I was shocked and quite upset!",
                  "Inappropriate response": " She told me to just “ignore it and don’t get upset by it”!",
                  "Long term impact": " Even when I think about it now, it makes me extremely uncomfortable.",
                  "Parties involved": " The man in his late 50s/early 60s who made the inappropriate comment, the 17-year-old employee who was working at the time, and the manager who was cashing up in the stock room.",
                  "_deepnote_index_column": 0
                },
                {
                  "Input": "I left my job to return for a PhD with an intention of developing expertise in my field and preventing encounters with men who label me 'ignorant' or hint to my own incompetence. Part of my PhD requires public engagement via social media. In one such recent Twitter encounter, I stated my opinion and backed it up with facts. A man that disagreed then proceeded to lash out, calling my remarks 'effete' and 'ignorant.' I called out the blatant sexism, for which he continued to retaliate, calling my tone condescending. This is such a nasty cycle and I find it so extremely frustrating'if we sit back, it happens more. And if we speak up, sexism intensifies. We have our work cut out for us. ",
                  "Situation": " I left my job to return for a PhD with an intention of developing expertise in my field and preventing encounters with men who label me 'ignorant' or hint to my own incompetence.  Part of my PhD requires public engagement via social media.  In one such recent Twitter encounter, I stated my opinion and backed it up with facts.  A man that disagreed then proceeded to lash out, calling my remarks 'effete' and 'ignorant.'  I called out the blatant sexism, for which he continued to retaliate, calling my tone condescending.",
                  "Feelings": " I find it so extremely frustrating.",
                  "Action in response": " I called out the blatant sexism.",
                  "Inappropriate response": " He continued to retaliate, calling my tone condescending.",
                  "Long term impact": " We have our work cut out for us.",
                  "Parties involved": " The man that disagreed and called my remarks 'effete' and 'ignorant.'  I called out the blatant sexism.  He continued to retaliate, calling my tone condescending.",
                  "_deepnote_index_column": 1
                },
                {
                  "Input": "A leaflet about 'supporting teenagers' in my country published by so called 'experienced' psychotherapists contains a lot of pernicious gender stereotypes. The reason why I despair about living in my country is that girls get stereotyped as behaving one way and boys get stereotyped as behaving the opposite way, even when in reality there is a lot of overlap of behaviours between the sexes! In the leaflet, girls are automatically assumed to be 'vulnerable' and in need of 'empowering'. This is kind of offensive and degrading to many young women who are capable and self sufficient. Some women do not view themselves as 'helpless victims', but instead as highly capable survivors! Calling girls 'vulnerable' or fragile doesn't help them deal with stuff in an adaptive or a resilient way. While it is true that some young women struggle with issues around eating (please don't use the pathologising words 'eating disorder' because it is society's expectations around food that are disordered, not …",
                  "Situation": " The leaflet about supporting teenagers in my country contains pernicious gender stereotypes.  Girls are automatically assumed to be vulnerable and in need of empowering, while boys are stereotyped as behaving the opposite way.  The leaflet calls girls over-conscientious and perfectionistic, while ignoring the fact that many young men also engage in anorexic or bulimic behaviors.  The leaflet assumes that girls should be denied the opportunity to excel by people who call them too perfectionistic.  The author's grandmother liked to do things thoroughly and properly as part of her job.",
                  "Feelings": " The author is disappointed and frustrated about living in a country where gender stereotypes are prevalent.  The author is offended by the assumption that girls are vulnerable and in need of empowering, and that young women who are capable and self-sufficient do not view themselves as helpless victims.  The author is angry that the leaflet ignores the fact that many young men also engage in anorexic or bulimic behaviors.  The author is disappointed that some teachers, parents, and \"professionals\" may be envious of young women's achievements and actively discourage their hard work and diligence.",
                  "Action in response": " The author is considering writing a letter to the editor of the publication that printed the leaflet to express their concerns.  The author is advocating for a culture of praise and encouragement for young women who excel in their studies and pursuits.",
                  "Inappropriate response": " The author does not believe that calling girls too perfectionistic is an inappropriate response, as they believe that aiming for perfection is a valuable goal.",
                  "Long term impact": " The author believes that the leaflet's gender stereotypes and negative messages about young women's abilities and behaviors can have a long-term impact on their self-esteem and confidence.  The author believes that encouraging young women to aim for high standards and do their best can have a positive impact on their future success and achievements.",
                  "Parties involved": " The author, who is a young woman living in their country.  The publication that printed the leaflet, which the author believes is promoting harmful gender stereotypes.  The teachers, parents, and \"professionals\" who may be envious of young women's achievements and actively discourage their hard work and diligence.",
                  "_deepnote_index_column": 2
                },
                {
                  "Input": "As a 16 year old girl, I know very well that sexism exists. On pretty much a daily basis, I am shouted out from car windows whilst walking down the street, or approached by strangers whilst out in public, usually by older men. This is something that as a female, you get used to, enough though you shouldn't have to. One thing I will not get over though, is being told that sexism is not an issue. I take a sociology class at my college, and one of the subjects we cover if feminism. This is something that me and my friends are passionate about, we believe it needs to be talked about in order for things to change. There are however, a number of boys in that class who disagree with feminists and try to tell us everything we say is wrong. I can accept this; everyone is entitled to an opinion and I am willing to listen to anyone's opinion. Today it reached a point where I can no longer just accept their opinion. As a group, we watched the Everyday Sexism Project talk 'CoventGardenWomen'. All …",
                  "Situation": " Being shouted out from car windows whilst walking down the street  Being approached by strangers whilst out in public, usually by older men  Being told that sexism is not an issue  Being in a sociology class where feminism is discussed  Being in a group that watches the Everyday Sexism Project talk  Being told that there's no reason for women to feel unsafe whilst walking alone  Being told that sexual assault isn't a problem  Being told that if it really happened more women would come forward",
                  "Feelings": " Used to getting shouted out from car windows  Not used to being approached by strangers  Frustrated that people deny the existence of sexism  Passionate about feminism  Heartbroken to see insensitivity towards sexual assault  Scared of being laughed at or told it's not a big deal  Suffering alone because of victim blaming",
                  "Action in response": " Listening to the opinions of others  Watching the Everyday Sexism Project talk  Asking for the speech to be turned off  Being told to stop complaining",
                  "Inappropriate response": " Laughing at the Everyday Sexism Project talk  Telling the speaker to stop complaining",
                  "Long term impact": " Being used to daily sexism  Feeling frustrated and heartbroken  Being scared to speak out  Suffering alone",
                  "Parties involved": " The writer (as a 16 year old girl)  Strangers who approach the writer in public  Classmates who disagree with feminism  The speaker in the Everyday Sexism Project talk  The writer's friends who are passionate about feminism",
                  "_deepnote_index_column": 3
                },
                {
                  "Input": "I worked in a doggie daycare for two years as the front desk manager. I saw many of the same clients regularly, day after day. At least two middle-aged men often would touch my shoulder for no reason while we exchanged pleasantries as they dropped off their dogs. They may have thought they were being nice, or friendly, but it was creepy and uncomfortable and as I was in my workplace and my job was to be polite and courteous to all customers I never felt ok to point out how it made me feel or ask them to stop. ",
                  "Situation": "I worked in a doggie daycare for two years as the front desk manager.",
                  "Feelings": "It was creepy and uncomfortable.",
                  "Action in response": "I never felt ok to point out how it made me feel or ask them to stop.",
                  "Inappropriate response": "They may have thought they were being nice, or friendly, but it was creepy and uncomfortable.",
                  "Long term impact": "I never felt ok to point out how it made me feel or ask them to stop.",
                  "Parties involved": "At least two middle-aged men often would touch my shoulder for no reason while we exchanged pleasantries as they dropped off their dogs.",
                  "_deepnote_index_column": 4
                }
              ]
            },
            "text/plain": "                                               Input  \\\n0  When I was 17, I worked in a clothing store th...   \n1  I left my job to return for a PhD with an inte...   \n2  A leaflet about 'supporting teenagers' in my c...   \n3  As a 16 year old girl, I know very well that s...   \n4  I worked in a doggie daycare for two years as ...   \n\n                                           Situation  \\\n0   When I was 17, I worked in a clothing store t...   \n1   I left my job to return for a PhD with an int...   \n2   The leaflet about supporting teenagers in my ...   \n3   Being shouted out from car windows whilst wal...   \n4  I worked in a doggie daycare for two years as ...   \n\n                                            Feelings  \\\n0   I was quite a naive 17 year old, I didn’t qui...   \n1                I find it so extremely frustrating.   \n2   The author is disappointed and frustrated abo...   \n3   Used to getting shouted out from car windows ...   \n4                   It was creepy and uncomfortable.   \n\n                                  Action in response  \\\n0   I went to speak with my manager.  She confirm...   \n1                   I called out the blatant sexism.   \n2   The author is considering writing a letter to...   \n3   Listening to the opinions of others  Watching...   \n4  I never felt ok to point out how it made me fe...   \n\n                              Inappropriate response  \\\n0   She told me to just “ignore it and don’t get ...   \n1   He continued to retaliate, calling my tone co...   \n2   The author does not believe that calling girl...   \n3   Laughing at the Everyday Sexism Project talk ...   \n4  They may have thought they were being nice, or...   \n\n                                    Long term impact  \\\n0   Even when I think about it now, it makes me e...   \n1                   We have our work cut out for us.   \n2   The author believes that the leaflet's gender...   \n3   Being used to daily sexism  Feeling frustrate...   \n4  I never felt ok to point out how it made me fe...   \n\n                                    Parties involved  \n0   The man in his late 50s/early 60s who made th...  \n1   The man that disagreed and called my remarks ...  \n2   The author, who is a young woman living in th...  \n3   The writer (as a 16 year old girl)  Strangers...  \n4  At least two middle-aged men often would touch...  ",
            "text/html": "<div>\n<style scoped>\n    .dataframe tbody tr th:only-of-type {\n        vertical-align: middle;\n    }\n\n    .dataframe tbody tr th {\n        vertical-align: top;\n    }\n\n    .dataframe thead th {\n        text-align: right;\n    }\n</style>\n<table border=\"1\" class=\"dataframe\">\n  <thead>\n    <tr style=\"text-align: right;\">\n      <th></th>\n      <th>Input</th>\n      <th>Situation</th>\n      <th>Feelings</th>\n      <th>Action in response</th>\n      <th>Inappropriate response</th>\n      <th>Long term impact</th>\n      <th>Parties involved</th>\n    </tr>\n  </thead>\n  <tbody>\n    <tr>\n      <th>0</th>\n      <td>When I was 17, I worked in a clothing store th...</td>\n      <td>When I was 17, I worked in a clothing store t...</td>\n      <td>I was quite a naive 17 year old, I didn’t qui...</td>\n      <td>I went to speak with my manager.  She confirm...</td>\n      <td>She told me to just “ignore it and don’t get ...</td>\n      <td>Even when I think about it now, it makes me e...</td>\n      <td>The man in his late 50s/early 60s who made th...</td>\n    </tr>\n    <tr>\n      <th>1</th>\n      <td>I left my job to return for a PhD with an inte...</td>\n      <td>I left my job to return for a PhD with an int...</td>\n      <td>I find it so extremely frustrating.</td>\n      <td>I called out the blatant sexism.</td>\n      <td>He continued to retaliate, calling my tone co...</td>\n      <td>We have our work cut out for us.</td>\n      <td>The man that disagreed and called my remarks ...</td>\n    </tr>\n    <tr>\n      <th>2</th>\n      <td>A leaflet about 'supporting teenagers' in my c...</td>\n      <td>The leaflet about supporting teenagers in my ...</td>\n      <td>The author is disappointed and frustrated abo...</td>\n      <td>The author is considering writing a letter to...</td>\n      <td>The author does not believe that calling girl...</td>\n      <td>The author believes that the leaflet's gender...</td>\n      <td>The author, who is a young woman living in th...</td>\n    </tr>\n    <tr>\n      <th>3</th>\n      <td>As a 16 year old girl, I know very well that s...</td>\n      <td>Being shouted out from car windows whilst wal...</td>\n      <td>Used to getting shouted out from car windows ...</td>\n      <td>Listening to the opinions of others  Watching...</td>\n      <td>Laughing at the Everyday Sexism Project talk ...</td>\n      <td>Being used to daily sexism  Feeling frustrate...</td>\n      <td>The writer (as a 16 year old girl)  Strangers...</td>\n    </tr>\n    <tr>\n      <th>4</th>\n      <td>I worked in a doggie daycare for two years as ...</td>\n      <td>I worked in a doggie daycare for two years as ...</td>\n      <td>It was creepy and uncomfortable.</td>\n      <td>I never felt ok to point out how it made me fe...</td>\n      <td>They may have thought they were being nice, or...</td>\n      <td>I never felt ok to point out how it made me fe...</td>\n      <td>At least two middle-aged men often would touch...</td>\n    </tr>\n  </tbody>\n</table>\n</div>"
          },
          "metadata": {}
        }
      ],
      "execution_count": 6,
      "block_group": "159f1f7bde2548a3bdadea916f90aa80"
    },
    {
      "cell_type": "code",
      "source": "df.iloc[0][0]",
      "metadata": {
        "source_hash": "e8435aa9",
        "execution_start": 1699903776363,
        "execution_millis": 19,
        "deepnote_to_be_reexecuted": false,
        "cell_id": "f7839034978f4a4aa07cb06dbab8ff3d",
        "deepnote_cell_type": "code"
      },
      "outputs": [
        {
          "output_type": "execute_result",
          "execution_count": 7,
          "data": {
            "text/plain": "\"When I was 17, I worked in a clothing store that sold both mens and womens clothing, as well as some unisex items. I was working overtime in the evening, around 8.30pm during the winter so it was already dark. I was by myself on the shop floor as my manager was cashing up in the stock room, when a man in his late 50s/early 60s came in and started asking about the winter boots we had on special offer. We kept all of the stock below the display table, so I knelt on the floor to find his size when he said 'Whilst you're down there, why don't you take one for the team?'. As I was quite a naive 17 year old, I didn't quite understand, so I just awkwardly smiled and ignored it. After he bought the boots and left, I went to speak with my manager. She confirmed that he was actually insinuating I gave him a blowjob, I was shocked and quite upset! She told me to just 'ignore it and don't get upset by it'! Even when I think about it now, it makes me extremely uncomfortable. \""
          },
          "metadata": {}
        }
      ],
      "execution_count": 7,
      "block_group": "4ea08acdf3cc4c68af14e87bcefcbfb2"
    },
    {
      "cell_type": "markdown",
      "source": "### Cosine Similarity",
      "metadata": {
        "formattedRanges": [],
        "cell_id": "a11f5c2c1bee41ababf723a59eb8c860",
        "deepnote_cell_type": "text-cell-h3"
      },
      "block_group": "c43751a7b6e04c05acdda7756e1e0396"
    },
    {
      "cell_type": "code",
      "source": "def format_row(row):\n    labels = ['Situation', 'Feelings', 'Action in response', 'Inappropriate response', 'Long term impact', 'Parties involved']\n    formatted_row = []\n    for label, content in zip(labels, row):\n        if pd.notna(content):\n            formatted_row.append(f\"{label}: {content}\\n\")\n    return ' '.join(formatted_row)",
      "metadata": {
        "source_hash": "df1c10a",
        "execution_start": 1699903776422,
        "execution_millis": 30,
        "deepnote_to_be_reexecuted": false,
        "cell_id": "42f2c6af56a445ff90450a9ca6bff9df",
        "deepnote_cell_type": "code"
      },
      "outputs": [],
      "execution_count": 8,
      "block_group": "36d43064aab84448bd2b5dd0d9c0fecc"
    },
    {
      "cell_type": "code",
      "source": "merged_df = df.copy()\nmerged_df['Merged'] = merged_df.iloc[:, 1:].apply(format_row, axis=1)\nmerged_df = merged_df.drop(['Situation', 'Feelings', 'Action in response', 'Inappropriate response', 'Long term impact', 'Parties involved'], axis=1)\nmerged_df.head()",
      "metadata": {
        "source_hash": "8c7d0b37",
        "execution_start": 1699903776431,
        "execution_millis": 123,
        "deepnote_to_be_reexecuted": false,
        "cell_id": "1a1dae74ab194885ab782067a91319fd",
        "deepnote_cell_type": "code"
      },
      "outputs": [
        {
          "output_type": "execute_result",
          "execution_count": 9,
          "data": {
            "application/vnd.deepnote.dataframe.v3+json": {
              "column_count": 2,
              "row_count": 5,
              "columns": [
                {
                  "name": "Input",
                  "dtype": "object",
                  "stats": {
                    "unique_count": 5,
                    "nan_count": 0,
                    "categories": [
                      {
                        "name": "When I was 17, I worked in a clothing store that sold both mens and womens clothing, as well as some unisex items. I was working overtime in the evening, around 8.30pm during the winter so it was already dark. I was by myself on the shop floor as my manager was cashing up in the stock room, when a man in his late 50s/early 60s came in and started asking about the winter boots we had on special offer. We kept all of the stock below the display table, so I knelt on the floor to find his size when he said 'Whilst you're down there, why don't you take one for the team?'. As I was quite a naive 17 year old, I didn't quite understand, so I just awkwardly smiled and ignored it. After he bought the boots and left, I went to speak with my manager. She confirmed that he was actually insinuating I gave him a blowjob, I was shocked and quite upset! She told me to just 'ignore it and don't get upset by it'! Even when I think about it now, it makes me extremely uncomfortable. ",
                        "count": 1
                      },
                      {
                        "name": "I left my job to return for a PhD with an intention of developing expertise in my field and preventing encounters with men who label me 'ignorant' or hint to my own incompetence. Part of my PhD requires public engagement via social media. In one such recent Twitter encounter, I stated my opinion and backed it up with facts. A man that disagreed then proceeded to lash out, calling my remarks 'effete' and 'ignorant.' I called out the blatant sexism, for which he continued to retaliate, calling my tone condescending. This is such a nasty cycle and I find it so extremely frustrating'if we sit back, it happens more. And if we speak up, sexism intensifies. We have our work cut out for us. ",
                        "count": 1
                      },
                      {
                        "name": "3 others",
                        "count": 3
                      }
                    ]
                  }
                },
                {
                  "name": "Merged",
                  "dtype": "object",
                  "stats": {
                    "unique_count": 5,
                    "nan_count": 0,
                    "categories": [
                      {
                        "name": "Situation:  When I was 17, I worked in a clothing store that sold both mens and womens clothing, as well as some unisex items.  I was working overtime in the evening, around 8.30pm during the winter so it was already dark.  I was by myself on the shop floor as my manager was cashing up in the stock room, when a man in his late 50s/early 60s came in and started asking about the winter boots we had on special offer.  We kept all of the stock below the display table, so I knelt on the floor to find his size when he said “Whilst you’re down there, why don’t you take one for the team?”\n Feelings:  I was quite a naive 17 year old, I didn’t quite understand, so I just awkwardly smiled and ignored it.  I was shocked and quite upset!\n Action in response:  I went to speak with my manager.  She confirmed that he was actually insinuating I gave him a blowjob, I was shocked and quite upset!\n Inappropriate response:  She told me to just “ignore it and don’t get upset by it”!\n Long term impact:  Even when I think about it now, it makes me extremely uncomfortable.\n Parties involved:  The man in his late 50s/early 60s who made the inappropriate comment, the 17-year-old employee who was working at the time, and the manager who was cashing up in the stock room.\n",
                        "count": 1
                      },
                      {
                        "name": "Situation:  I left my job to return for a PhD with an intention of developing expertise in my field and preventing encounters with men who label me 'ignorant' or hint to my own incompetence.  Part of my PhD requires public engagement via social media.  In one such recent Twitter encounter, I stated my opinion and backed it up with facts.  A man that disagreed then proceeded to lash out, calling my remarks 'effete' and 'ignorant.'  I called out the blatant sexism, for which he continued to retaliate, calling my tone condescending.\n Feelings:  I find it so extremely frustrating.\n Action in response:  I called out the blatant sexism.\n Inappropriate response:  He continued to retaliate, calling my tone condescending.\n Long term impact:  We have our work cut out for us.\n Parties involved:  The man that disagreed and called my remarks 'effete' and 'ignorant.'  I called out the blatant sexism.  He continued to retaliate, calling my tone condescending.\n",
                        "count": 1
                      },
                      {
                        "name": "3 others",
                        "count": 3
                      }
                    ]
                  }
                },
                {
                  "name": "_deepnote_index_column",
                  "dtype": "int64"
                }
              ],
              "rows": [
                {
                  "Input": "When I was 17, I worked in a clothing store that sold both mens and womens clothing, as well as some unisex items. I was working overtime in the evening, around 8.30pm during the winter so it was already dark. I was by myself on the shop floor as my manager was cashing up in the stock room, when a man in his late 50s/early 60s came in and started asking about the winter boots we had on special offer. We kept all of the stock below the display table, so I knelt on the floor to find his size when he said 'Whilst you're down there, why don't you take one for the team?'. As I was quite a naive 17 year old, I didn't quite understand, so I just awkwardly smiled and ignored it. After he bought the boots and left, I went to speak with my manager. She confirmed that he was actually insinuating I gave him a blowjob, I was shocked and quite upset! She told me to just 'ignore it and don't get upset by it'! Even when I think about it now, it makes me extremely uncomfortable. ",
                  "Merged": "Situation:  When I was 17, I worked in a clothing store that sold both mens and womens clothing, as well as some unisex items.  I was working overtime in the evening, around 8.30pm during the winter so it was already dark.  I was by myself on the shop floor as my manager was cashing up in the stock room, when a man in his late 50s/early 60s came in and started asking about the winter boots we had on special offer.  We kept all of the stock below the display table, so I knelt on the floor to find his size when he said “Whilst you’re down there, why don’t you take one for the team?”\n Feelings:  I was quite a naive 17 year old, I didn’t quite understand, so I just awkwardly smiled and ignored it.  I was shocked and quite upset!\n Action in response:  I went to speak with my manager.  She confirmed that he was actually insinuating I gave him a blowjob, I was shocked and quite upset!\n Inappropriate response:  She told me to just “ignore it and don’t get upset by it”!\n Long term impact:  Eve…",
                  "_deepnote_index_column": 0
                },
                {
                  "Input": "I left my job to return for a PhD with an intention of developing expertise in my field and preventing encounters with men who label me 'ignorant' or hint to my own incompetence. Part of my PhD requires public engagement via social media. In one such recent Twitter encounter, I stated my opinion and backed it up with facts. A man that disagreed then proceeded to lash out, calling my remarks 'effete' and 'ignorant.' I called out the blatant sexism, for which he continued to retaliate, calling my tone condescending. This is such a nasty cycle and I find it so extremely frustrating'if we sit back, it happens more. And if we speak up, sexism intensifies. We have our work cut out for us. ",
                  "Merged": "Situation:  I left my job to return for a PhD with an intention of developing expertise in my field and preventing encounters with men who label me 'ignorant' or hint to my own incompetence.  Part of my PhD requires public engagement via social media.  In one such recent Twitter encounter, I stated my opinion and backed it up with facts.  A man that disagreed then proceeded to lash out, calling my remarks 'effete' and 'ignorant.'  I called out the blatant sexism, for which he continued to retaliate, calling my tone condescending.\n Feelings:  I find it so extremely frustrating.\n Action in response:  I called out the blatant sexism.\n Inappropriate response:  He continued to retaliate, calling my tone condescending.\n Long term impact:  We have our work cut out for us.\n Parties involved:  The man that disagreed and called my remarks 'effete' and 'ignorant.'  I called out the blatant sexism.  He continued to retaliate, calling my tone condescending.\n",
                  "_deepnote_index_column": 1
                },
                {
                  "Input": "A leaflet about 'supporting teenagers' in my country published by so called 'experienced' psychotherapists contains a lot of pernicious gender stereotypes. The reason why I despair about living in my country is that girls get stereotyped as behaving one way and boys get stereotyped as behaving the opposite way, even when in reality there is a lot of overlap of behaviours between the sexes! In the leaflet, girls are automatically assumed to be 'vulnerable' and in need of 'empowering'. This is kind of offensive and degrading to many young women who are capable and self sufficient. Some women do not view themselves as 'helpless victims', but instead as highly capable survivors! Calling girls 'vulnerable' or fragile doesn't help them deal with stuff in an adaptive or a resilient way. While it is true that some young women struggle with issues around eating (please don't use the pathologising words 'eating disorder' because it is society's expectations around food that are disordered, not …",
                  "Merged": "Situation:  The leaflet about supporting teenagers in my country contains pernicious gender stereotypes.  Girls are automatically assumed to be vulnerable and in need of empowering, while boys are stereotyped as behaving the opposite way.  The leaflet calls girls over-conscientious and perfectionistic, while ignoring the fact that many young men also engage in anorexic or bulimic behaviors.  The leaflet assumes that girls should be denied the opportunity to excel by people who call them too perfectionistic.  The author's grandmother liked to do things thoroughly and properly as part of her job.\n Feelings:  The author is disappointed and frustrated about living in a country where gender stereotypes are prevalent.  The author is offended by the assumption that girls are vulnerable and in need of empowering, and that young women who are capable and self-sufficient do not view themselves as helpless victims.  The author is angry that the leaflet ignores the fact that many young men also e…",
                  "_deepnote_index_column": 2
                },
                {
                  "Input": "As a 16 year old girl, I know very well that sexism exists. On pretty much a daily basis, I am shouted out from car windows whilst walking down the street, or approached by strangers whilst out in public, usually by older men. This is something that as a female, you get used to, enough though you shouldn't have to. One thing I will not get over though, is being told that sexism is not an issue. I take a sociology class at my college, and one of the subjects we cover if feminism. This is something that me and my friends are passionate about, we believe it needs to be talked about in order for things to change. There are however, a number of boys in that class who disagree with feminists and try to tell us everything we say is wrong. I can accept this; everyone is entitled to an opinion and I am willing to listen to anyone's opinion. Today it reached a point where I can no longer just accept their opinion. As a group, we watched the Everyday Sexism Project talk 'CoventGardenWomen'. All …",
                  "Merged": "Situation:  Being shouted out from car windows whilst walking down the street  Being approached by strangers whilst out in public, usually by older men  Being told that sexism is not an issue  Being in a sociology class where feminism is discussed  Being in a group that watches the Everyday Sexism Project talk  Being told that there's no reason for women to feel unsafe whilst walking alone  Being told that sexual assault isn't a problem  Being told that if it really happened more women would come forward\n Feelings:  Used to getting shouted out from car windows  Not used to being approached by strangers  Frustrated that people deny the existence of sexism  Passionate about feminism  Heartbroken to see insensitivity towards sexual assault  Scared of being laughed at or told it's not a big deal  Suffering alone because of victim blaming\n Action in response:  Listening to the opinions of others  Watching the Everyday Sexism Project talk  Asking for the speech to be turned off  Being told …",
                  "_deepnote_index_column": 3
                },
                {
                  "Input": "I worked in a doggie daycare for two years as the front desk manager. I saw many of the same clients regularly, day after day. At least two middle-aged men often would touch my shoulder for no reason while we exchanged pleasantries as they dropped off their dogs. They may have thought they were being nice, or friendly, but it was creepy and uncomfortable and as I was in my workplace and my job was to be polite and courteous to all customers I never felt ok to point out how it made me feel or ask them to stop. ",
                  "Merged": "Situation: I worked in a doggie daycare for two years as the front desk manager.\n Feelings: It was creepy and uncomfortable.\n Action in response: I never felt ok to point out how it made me feel or ask them to stop.\n Inappropriate response: They may have thought they were being nice, or friendly, but it was creepy and uncomfortable.\n Long term impact: I never felt ok to point out how it made me feel or ask them to stop.\n Parties involved: At least two middle-aged men often would touch my shoulder for no reason while we exchanged pleasantries as they dropped off their dogs.\n",
                  "_deepnote_index_column": 4
                }
              ]
            },
            "text/plain": "                                               Input  \\\n0  When I was 17, I worked in a clothing store th...   \n1  I left my job to return for a PhD with an inte...   \n2  A leaflet about 'supporting teenagers' in my c...   \n3  As a 16 year old girl, I know very well that s...   \n4  I worked in a doggie daycare for two years as ...   \n\n                                              Merged  \n0  Situation:  When I was 17, I worked in a cloth...  \n1  Situation:  I left my job to return for a PhD ...  \n2  Situation:  The leaflet about supporting teena...  \n3  Situation:  Being shouted out from car windows...  \n4  Situation: I worked in a doggie daycare for tw...  ",
            "text/html": "<div>\n<style scoped>\n    .dataframe tbody tr th:only-of-type {\n        vertical-align: middle;\n    }\n\n    .dataframe tbody tr th {\n        vertical-align: top;\n    }\n\n    .dataframe thead th {\n        text-align: right;\n    }\n</style>\n<table border=\"1\" class=\"dataframe\">\n  <thead>\n    <tr style=\"text-align: right;\">\n      <th></th>\n      <th>Input</th>\n      <th>Merged</th>\n    </tr>\n  </thead>\n  <tbody>\n    <tr>\n      <th>0</th>\n      <td>When I was 17, I worked in a clothing store th...</td>\n      <td>Situation:  When I was 17, I worked in a cloth...</td>\n    </tr>\n    <tr>\n      <th>1</th>\n      <td>I left my job to return for a PhD with an inte...</td>\n      <td>Situation:  I left my job to return for a PhD ...</td>\n    </tr>\n    <tr>\n      <th>2</th>\n      <td>A leaflet about 'supporting teenagers' in my c...</td>\n      <td>Situation:  The leaflet about supporting teena...</td>\n    </tr>\n    <tr>\n      <th>3</th>\n      <td>As a 16 year old girl, I know very well that s...</td>\n      <td>Situation:  Being shouted out from car windows...</td>\n    </tr>\n    <tr>\n      <th>4</th>\n      <td>I worked in a doggie daycare for two years as ...</td>\n      <td>Situation: I worked in a doggie daycare for tw...</td>\n    </tr>\n  </tbody>\n</table>\n</div>"
          },
          "metadata": {}
        }
      ],
      "execution_count": 9,
      "block_group": "d4919c81f9bb4b98a7b966ca08579f21"
    },
    {
      "cell_type": "code",
      "source": "print(merged_df.iloc[0][1])",
      "metadata": {
        "source_hash": "3ae5e1bf",
        "execution_start": 1699903776542,
        "execution_millis": 97,
        "deepnote_to_be_reexecuted": false,
        "cell_id": "f0447c97c97b4728ba6e31995153932e",
        "deepnote_cell_type": "code"
      },
      "outputs": [
        {
          "name": "stdout",
          "text": "Situation:  When I was 17, I worked in a clothing store that sold both mens and womens clothing, as well as some unisex items.  I was working overtime in the evening, around 8.30pm during the winter so it was already dark.  I was by myself on the shop floor as my manager was cashing up in the stock room, when a man in his late 50s/early 60s came in and started asking about the winter boots we had on special offer.  We kept all of the stock below the display table, so I knelt on the floor to find his size when he said “Whilst you’re down there, why don’t you take one for the team?”\n Feelings:  I was quite a naive 17 year old, I didn’t quite understand, so I just awkwardly smiled and ignored it.  I was shocked and quite upset!\n Action in response:  I went to speak with my manager.  She confirmed that he was actually insinuating I gave him a blowjob, I was shocked and quite upset!\n Inappropriate response:  She told me to just “ignore it and don’t get upset by it”!\n Long term impact:  Even when I think about it now, it makes me extremely uncomfortable.\n Parties involved:  The man in his late 50s/early 60s who made the inappropriate comment, the 17-year-old employee who was working at the time, and the manager who was cashing up in the stock room.\n\n",
          "output_type": "stream"
        }
      ],
      "execution_count": 10,
      "block_group": "dcdaf3dcd8e74d53af2528d5a8e81d15"
    },
    {
      "cell_type": "code",
      "source": "from sklearn.feature_extraction.text import TfidfVectorizer\n\nvectorizer = TfidfVectorizer()\ntfidf_matrix = vectorizer.fit_transform(merged_df['Input'].tolist() + merged_df['Merged'].tolist())",
      "metadata": {
        "source_hash": "29e0358d",
        "execution_start": 1699903776551,
        "execution_millis": 1781,
        "deepnote_to_be_reexecuted": false,
        "cell_id": "b5ceca4fd38f489ea3ecaa9cbeed9788",
        "deepnote_cell_type": "code"
      },
      "outputs": [],
      "execution_count": 11,
      "block_group": "cc5d63b73ee24b0199ab8a960fd6ae9c"
    },
    {
      "cell_type": "code",
      "source": "input_tfidf = tfidf_matrix[:len(merged_df)]\nmerged_tfidf = tfidf_matrix[len(merged_df):]",
      "metadata": {
        "source_hash": "115ee7b7",
        "execution_start": 1699903778334,
        "execution_millis": 10,
        "deepnote_to_be_reexecuted": false,
        "cell_id": "51e695428d2d4175952d5872eb94f81d",
        "deepnote_cell_type": "code"
      },
      "outputs": [],
      "execution_count": 12,
      "block_group": "9f5a3df5aaa4403c98ad1fcda36023cf"
    },
    {
      "cell_type": "code",
      "source": "from sklearn.metrics.pairwise import cosine_similarity\ncosine_similarities = cosine_similarity(input_tfidf, merged_tfidf)\nsimilarity_df = pd.DataFrame({\n    'Input': merged_df['Input'],\n    'Merged': merged_df['Merged'],\n    'Similarity Score': cosine_similarities.diagonal()\n})\nsimilarity_df.head()",
      "metadata": {
        "source_hash": "2d93724d",
        "execution_start": 1699903778342,
        "execution_millis": 386,
        "deepnote_to_be_reexecuted": false,
        "cell_id": "44606b7217b44b779d41a9c3122c3b19",
        "deepnote_cell_type": "code"
      },
      "outputs": [
        {
          "output_type": "execute_result",
          "execution_count": 13,
          "data": {
            "application/vnd.deepnote.dataframe.v3+json": {
              "column_count": 3,
              "row_count": 5,
              "columns": [
                {
                  "name": "Input",
                  "dtype": "object",
                  "stats": {
                    "unique_count": 5,
                    "nan_count": 0,
                    "categories": [
                      {
                        "name": "When I was 17, I worked in a clothing store that sold both mens and womens clothing, as well as some unisex items. I was working overtime in the evening, around 8.30pm during the winter so it was already dark. I was by myself on the shop floor as my manager was cashing up in the stock room, when a man in his late 50s/early 60s came in and started asking about the winter boots we had on special offer. We kept all of the stock below the display table, so I knelt on the floor to find his size when he said 'Whilst you're down there, why don't you take one for the team?'. As I was quite a naive 17 year old, I didn't quite understand, so I just awkwardly smiled and ignored it. After he bought the boots and left, I went to speak with my manager. She confirmed that he was actually insinuating I gave him a blowjob, I was shocked and quite upset! She told me to just 'ignore it and don't get upset by it'! Even when I think about it now, it makes me extremely uncomfortable. ",
                        "count": 1
                      },
                      {
                        "name": "I left my job to return for a PhD with an intention of developing expertise in my field and preventing encounters with men who label me 'ignorant' or hint to my own incompetence. Part of my PhD requires public engagement via social media. In one such recent Twitter encounter, I stated my opinion and backed it up with facts. A man that disagreed then proceeded to lash out, calling my remarks 'effete' and 'ignorant.' I called out the blatant sexism, for which he continued to retaliate, calling my tone condescending. This is such a nasty cycle and I find it so extremely frustrating'if we sit back, it happens more. And if we speak up, sexism intensifies. We have our work cut out for us. ",
                        "count": 1
                      },
                      {
                        "name": "3 others",
                        "count": 3
                      }
                    ]
                  }
                },
                {
                  "name": "Merged",
                  "dtype": "object",
                  "stats": {
                    "unique_count": 5,
                    "nan_count": 0,
                    "categories": [
                      {
                        "name": "Situation:  When I was 17, I worked in a clothing store that sold both mens and womens clothing, as well as some unisex items.  I was working overtime in the evening, around 8.30pm during the winter so it was already dark.  I was by myself on the shop floor as my manager was cashing up in the stock room, when a man in his late 50s/early 60s came in and started asking about the winter boots we had on special offer.  We kept all of the stock below the display table, so I knelt on the floor to find his size when he said “Whilst you’re down there, why don’t you take one for the team?”\n Feelings:  I was quite a naive 17 year old, I didn’t quite understand, so I just awkwardly smiled and ignored it.  I was shocked and quite upset!\n Action in response:  I went to speak with my manager.  She confirmed that he was actually insinuating I gave him a blowjob, I was shocked and quite upset!\n Inappropriate response:  She told me to just “ignore it and don’t get upset by it”!\n Long term impact:  Even when I think about it now, it makes me extremely uncomfortable.\n Parties involved:  The man in his late 50s/early 60s who made the inappropriate comment, the 17-year-old employee who was working at the time, and the manager who was cashing up in the stock room.\n",
                        "count": 1
                      },
                      {
                        "name": "Situation:  I left my job to return for a PhD with an intention of developing expertise in my field and preventing encounters with men who label me 'ignorant' or hint to my own incompetence.  Part of my PhD requires public engagement via social media.  In one such recent Twitter encounter, I stated my opinion and backed it up with facts.  A man that disagreed then proceeded to lash out, calling my remarks 'effete' and 'ignorant.'  I called out the blatant sexism, for which he continued to retaliate, calling my tone condescending.\n Feelings:  I find it so extremely frustrating.\n Action in response:  I called out the blatant sexism.\n Inappropriate response:  He continued to retaliate, calling my tone condescending.\n Long term impact:  We have our work cut out for us.\n Parties involved:  The man that disagreed and called my remarks 'effete' and 'ignorant.'  I called out the blatant sexism.  He continued to retaliate, calling my tone condescending.\n",
                        "count": 1
                      },
                      {
                        "name": "3 others",
                        "count": 3
                      }
                    ]
                  }
                },
                {
                  "name": "Similarity Score",
                  "dtype": "float64",
                  "stats": {
                    "unique_count": 5,
                    "nan_count": 0,
                    "min": "0.5014075376112577",
                    "max": "0.9411247529476492",
                    "histogram": [
                      {
                        "bin_start": 0.5014075376112577,
                        "bin_end": 0.5453792591448968,
                        "count": 2
                      },
                      {
                        "bin_start": 0.5453792591448968,
                        "bin_end": 0.589350980678536,
                        "count": 0
                      },
                      {
                        "bin_start": 0.589350980678536,
                        "bin_end": 0.6333227022121751,
                        "count": 0
                      },
                      {
                        "bin_start": 0.6333227022121751,
                        "bin_end": 0.6772944237458143,
                        "count": 0
                      },
                      {
                        "bin_start": 0.6772944237458143,
                        "bin_end": 0.7212661452794534,
                        "count": 0
                      },
                      {
                        "bin_start": 0.7212661452794534,
                        "bin_end": 0.7652378668130926,
                        "count": 0
                      },
                      {
                        "bin_start": 0.7652378668130926,
                        "bin_end": 0.8092095883467317,
                        "count": 0
                      },
                      {
                        "bin_start": 0.8092095883467317,
                        "bin_end": 0.8531813098803709,
                        "count": 2
                      },
                      {
                        "bin_start": 0.8531813098803709,
                        "bin_end": 0.89715303141401,
                        "count": 0
                      },
                      {
                        "bin_start": 0.89715303141401,
                        "bin_end": 0.9411247529476492,
                        "count": 1
                      }
                    ]
                  }
                },
                {
                  "name": "_deepnote_index_column",
                  "dtype": "int64"
                }
              ],
              "rows": [
                {
                  "Input": "When I was 17, I worked in a clothing store that sold both mens and womens clothing, as well as some unisex items. I was working overtime in the evening, around 8.30pm during the winter so it was already dark. I was by myself on the shop floor as my manager was cashing up in the stock room, when a man in his late 50s/early 60s came in and started asking about the winter boots we had on special offer. We kept all of the stock below the display table, so I knelt on the floor to find his size when he said 'Whilst you're down there, why don't you take one for the team?'. As I was quite a naive 17 year old, I didn't quite understand, so I just awkwardly smiled and ignored it. After he bought the boots and left, I went to speak with my manager. She confirmed that he was actually insinuating I gave him a blowjob, I was shocked and quite upset! She told me to just 'ignore it and don't get upset by it'! Even when I think about it now, it makes me extremely uncomfortable. ",
                  "Merged": "Situation:  When I was 17, I worked in a clothing store that sold both mens and womens clothing, as well as some unisex items.  I was working overtime in the evening, around 8.30pm during the winter so it was already dark.  I was by myself on the shop floor as my manager was cashing up in the stock room, when a man in his late 50s/early 60s came in and started asking about the winter boots we had on special offer.  We kept all of the stock below the display table, so I knelt on the floor to find his size when he said “Whilst you’re down there, why don’t you take one for the team?”\n Feelings:  I was quite a naive 17 year old, I didn’t quite understand, so I just awkwardly smiled and ignored it.  I was shocked and quite upset!\n Action in response:  I went to speak with my manager.  She confirmed that he was actually insinuating I gave him a blowjob, I was shocked and quite upset!\n Inappropriate response:  She told me to just “ignore it and don’t get upset by it”!\n Long term impact:  Eve…",
                  "Similarity Score": 0.9411247529476492,
                  "_deepnote_index_column": 0
                },
                {
                  "Input": "I left my job to return for a PhD with an intention of developing expertise in my field and preventing encounters with men who label me 'ignorant' or hint to my own incompetence. Part of my PhD requires public engagement via social media. In one such recent Twitter encounter, I stated my opinion and backed it up with facts. A man that disagreed then proceeded to lash out, calling my remarks 'effete' and 'ignorant.' I called out the blatant sexism, for which he continued to retaliate, calling my tone condescending. This is such a nasty cycle and I find it so extremely frustrating'if we sit back, it happens more. And if we speak up, sexism intensifies. We have our work cut out for us. ",
                  "Merged": "Situation:  I left my job to return for a PhD with an intention of developing expertise in my field and preventing encounters with men who label me 'ignorant' or hint to my own incompetence.  Part of my PhD requires public engagement via social media.  In one such recent Twitter encounter, I stated my opinion and backed it up with facts.  A man that disagreed then proceeded to lash out, calling my remarks 'effete' and 'ignorant.'  I called out the blatant sexism, for which he continued to retaliate, calling my tone condescending.\n Feelings:  I find it so extremely frustrating.\n Action in response:  I called out the blatant sexism.\n Inappropriate response:  He continued to retaliate, calling my tone condescending.\n Long term impact:  We have our work cut out for us.\n Parties involved:  The man that disagreed and called my remarks 'effete' and 'ignorant.'  I called out the blatant sexism.  He continued to retaliate, calling my tone condescending.\n",
                  "Similarity Score": 0.8480080065519813,
                  "_deepnote_index_column": 1
                },
                {
                  "Input": "A leaflet about 'supporting teenagers' in my country published by so called 'experienced' psychotherapists contains a lot of pernicious gender stereotypes. The reason why I despair about living in my country is that girls get stereotyped as behaving one way and boys get stereotyped as behaving the opposite way, even when in reality there is a lot of overlap of behaviours between the sexes! In the leaflet, girls are automatically assumed to be 'vulnerable' and in need of 'empowering'. This is kind of offensive and degrading to many young women who are capable and self sufficient. Some women do not view themselves as 'helpless victims', but instead as highly capable survivors! Calling girls 'vulnerable' or fragile doesn't help them deal with stuff in an adaptive or a resilient way. While it is true that some young women struggle with issues around eating (please don't use the pathologising words 'eating disorder' because it is society's expectations around food that are disordered, not …",
                  "Merged": "Situation:  The leaflet about supporting teenagers in my country contains pernicious gender stereotypes.  Girls are automatically assumed to be vulnerable and in need of empowering, while boys are stereotyped as behaving the opposite way.  The leaflet calls girls over-conscientious and perfectionistic, while ignoring the fact that many young men also engage in anorexic or bulimic behaviors.  The leaflet assumes that girls should be denied the opportunity to excel by people who call them too perfectionistic.  The author's grandmother liked to do things thoroughly and properly as part of her job.\n Feelings:  The author is disappointed and frustrated about living in a country where gender stereotypes are prevalent.  The author is offended by the assumption that girls are vulnerable and in need of empowering, and that young women who are capable and self-sufficient do not view themselves as helpless victims.  The author is angry that the leaflet ignores the fact that many young men also e…",
                  "Similarity Score": 0.5226717872489929,
                  "_deepnote_index_column": 2
                },
                {
                  "Input": "As a 16 year old girl, I know very well that sexism exists. On pretty much a daily basis, I am shouted out from car windows whilst walking down the street, or approached by strangers whilst out in public, usually by older men. This is something that as a female, you get used to, enough though you shouldn't have to. One thing I will not get over though, is being told that sexism is not an issue. I take a sociology class at my college, and one of the subjects we cover if feminism. This is something that me and my friends are passionate about, we believe it needs to be talked about in order for things to change. There are however, a number of boys in that class who disagree with feminists and try to tell us everything we say is wrong. I can accept this; everyone is entitled to an opinion and I am willing to listen to anyone's opinion. Today it reached a point where I can no longer just accept their opinion. As a group, we watched the Everyday Sexism Project talk 'CoventGardenWomen'. All …",
                  "Merged": "Situation:  Being shouted out from car windows whilst walking down the street  Being approached by strangers whilst out in public, usually by older men  Being told that sexism is not an issue  Being in a sociology class where feminism is discussed  Being in a group that watches the Everyday Sexism Project talk  Being told that there's no reason for women to feel unsafe whilst walking alone  Being told that sexual assault isn't a problem  Being told that if it really happened more women would come forward\n Feelings:  Used to getting shouted out from car windows  Not used to being approached by strangers  Frustrated that people deny the existence of sexism  Passionate about feminism  Heartbroken to see insensitivity towards sexual assault  Scared of being laughed at or told it's not a big deal  Suffering alone because of victim blaming\n Action in response:  Listening to the opinions of others  Watching the Everyday Sexism Project talk  Asking for the speech to be turned off  Being told …",
                  "Similarity Score": 0.5014075376112577,
                  "_deepnote_index_column": 3
                },
                {
                  "Input": "I worked in a doggie daycare for two years as the front desk manager. I saw many of the same clients regularly, day after day. At least two middle-aged men often would touch my shoulder for no reason while we exchanged pleasantries as they dropped off their dogs. They may have thought they were being nice, or friendly, but it was creepy and uncomfortable and as I was in my workplace and my job was to be polite and courteous to all customers I never felt ok to point out how it made me feel or ask them to stop. ",
                  "Merged": "Situation: I worked in a doggie daycare for two years as the front desk manager.\n Feelings: It was creepy and uncomfortable.\n Action in response: I never felt ok to point out how it made me feel or ask them to stop.\n Inappropriate response: They may have thought they were being nice, or friendly, but it was creepy and uncomfortable.\n Long term impact: I never felt ok to point out how it made me feel or ask them to stop.\n Parties involved: At least two middle-aged men often would touch my shoulder for no reason while we exchanged pleasantries as they dropped off their dogs.\n",
                  "Similarity Score": 0.8361066266308834,
                  "_deepnote_index_column": 4
                }
              ]
            },
            "text/plain": "                                               Input  \\\n0  When I was 17, I worked in a clothing store th...   \n1  I left my job to return for a PhD with an inte...   \n2  A leaflet about 'supporting teenagers' in my c...   \n3  As a 16 year old girl, I know very well that s...   \n4  I worked in a doggie daycare for two years as ...   \n\n                                              Merged  Similarity Score  \n0  Situation:  When I was 17, I worked in a cloth...          0.941125  \n1  Situation:  I left my job to return for a PhD ...          0.848008  \n2  Situation:  The leaflet about supporting teena...          0.522672  \n3  Situation:  Being shouted out from car windows...          0.501408  \n4  Situation: I worked in a doggie daycare for tw...          0.836107  ",
            "text/html": "<div>\n<style scoped>\n    .dataframe tbody tr th:only-of-type {\n        vertical-align: middle;\n    }\n\n    .dataframe tbody tr th {\n        vertical-align: top;\n    }\n\n    .dataframe thead th {\n        text-align: right;\n    }\n</style>\n<table border=\"1\" class=\"dataframe\">\n  <thead>\n    <tr style=\"text-align: right;\">\n      <th></th>\n      <th>Input</th>\n      <th>Merged</th>\n      <th>Similarity Score</th>\n    </tr>\n  </thead>\n  <tbody>\n    <tr>\n      <th>0</th>\n      <td>When I was 17, I worked in a clothing store th...</td>\n      <td>Situation:  When I was 17, I worked in a cloth...</td>\n      <td>0.941125</td>\n    </tr>\n    <tr>\n      <th>1</th>\n      <td>I left my job to return for a PhD with an inte...</td>\n      <td>Situation:  I left my job to return for a PhD ...</td>\n      <td>0.848008</td>\n    </tr>\n    <tr>\n      <th>2</th>\n      <td>A leaflet about 'supporting teenagers' in my c...</td>\n      <td>Situation:  The leaflet about supporting teena...</td>\n      <td>0.522672</td>\n    </tr>\n    <tr>\n      <th>3</th>\n      <td>As a 16 year old girl, I know very well that s...</td>\n      <td>Situation:  Being shouted out from car windows...</td>\n      <td>0.501408</td>\n    </tr>\n    <tr>\n      <th>4</th>\n      <td>I worked in a doggie daycare for two years as ...</td>\n      <td>Situation: I worked in a doggie daycare for tw...</td>\n      <td>0.836107</td>\n    </tr>\n  </tbody>\n</table>\n</div>"
          },
          "metadata": {}
        }
      ],
      "execution_count": 13,
      "block_group": "8138c73d2fd54acf905f59eea9414c24"
    },
    {
      "cell_type": "code",
      "source": "# Filtering rows with a Similarity Score less than 0.8\nfiltered_df = similarity_df[similarity_df['Similarity Score'] < 0.8].sort_values(by='Similarity Score')\n# Displaying the first few rows of the filtered DataFrame\nfiltered_df.head(15)",
      "metadata": {
        "source_hash": "1bd629b0",
        "execution_start": 1699903778745,
        "execution_millis": 14,
        "deepnote_table_state": {
          "sortBy": [],
          "filters": [],
          "pageSize": 25,
          "pageIndex": 0
        },
        "deepnote_table_loading": false,
        "deepnote_to_be_reexecuted": false,
        "cell_id": "7b3a3430c33a45fc99adb0720fd68c3e",
        "deepnote_cell_type": "code"
      },
      "outputs": [
        {
          "output_type": "execute_result",
          "execution_count": 14,
          "data": {
            "application/vnd.deepnote.dataframe.v3+json": {
              "column_count": 3,
              "row_count": 15,
              "columns": [
                {
                  "name": "Input",
                  "dtype": "object",
                  "stats": {
                    "unique_count": 15,
                    "nan_count": 0,
                    "categories": [
                      {
                        "name": "Fck, I can't work as secretary because I'm a fuckin guy. Why secretary had to be a woman? WHY??!?!?!?!? ",
                        "count": 1
                      },
                      {
                        "name": "#EverydaySexism Man: Your day would be boring if I didn't flirt with you on the job. Me: Actually, it wouldn't be cuz I have a job to do. ",
                        "count": 1
                      },
                      {
                        "name": "13 others",
                        "count": 13
                      }
                    ]
                  }
                },
                {
                  "name": "Merged",
                  "dtype": "object",
                  "stats": {
                    "unique_count": 15,
                    "nan_count": 0,
                    "categories": [
                      {
                        "name": "Situation: The speaker is expressing frustration about being unable to work as a secretary because they are a man.\n Feelings: The speaker is feeling frustrated and upset about the situation.\n Action in response: The speaker is expressing their frustration through speech.\n Inappropriate response: The speaker's use of profanity and frustration may be seen as inappropriate in some contexts.\n Long term impact: The speaker's frustration may impact their ability to find work or advance in their career.\n Parties involved: The speaker and potentially their employer or colleagues may be involved in this situation.\n",
                        "count": 1
                      },
                      {
                        "name": "Situation: The man is making inappropriate sexual comments to the woman at work.\n Feelings: The woman is feeling uncomfortable and objectified by the man's comments.\n Action in response: The woman is responding by telling the man that his comments are unwelcome and that she has a job to do.\n Inappropriate response: The man is continuing to make inappropriate sexual comments despite being told that they are unwelcome.\n Long term impact: The woman may feel uncomfortable and objectified in the workplace, which could impact her job performance and overall well-being.\n Parties involved: The man and the woman are involved in this situation.\n",
                        "count": 1
                      },
                      {
                        "name": "13 others",
                        "count": 13
                      }
                    ]
                  }
                },
                {
                  "name": "Similarity Score",
                  "dtype": "float64",
                  "stats": {
                    "unique_count": 15,
                    "nan_count": 0,
                    "min": "0.0856477114031417",
                    "max": "0.2345428433226936",
                    "histogram": [
                      {
                        "bin_start": 0.0856477114031417,
                        "bin_end": 0.1005372245950969,
                        "count": 1
                      },
                      {
                        "bin_start": 0.1005372245950969,
                        "bin_end": 0.11542673778705208,
                        "count": 2
                      },
                      {
                        "bin_start": 0.11542673778705208,
                        "bin_end": 0.1303162509790073,
                        "count": 0
                      },
                      {
                        "bin_start": 0.1303162509790073,
                        "bin_end": 0.14520576417096245,
                        "count": 1
                      },
                      {
                        "bin_start": 0.14520576417096245,
                        "bin_end": 0.16009527736291765,
                        "count": 2
                      },
                      {
                        "bin_start": 0.16009527736291765,
                        "bin_end": 0.17498479055487284,
                        "count": 0
                      },
                      {
                        "bin_start": 0.17498479055487284,
                        "bin_end": 0.189874303746828,
                        "count": 0
                      },
                      {
                        "bin_start": 0.189874303746828,
                        "bin_end": 0.2047638169387832,
                        "count": 2
                      },
                      {
                        "bin_start": 0.2047638169387832,
                        "bin_end": 0.2196533301307384,
                        "count": 3
                      },
                      {
                        "bin_start": 0.2196533301307384,
                        "bin_end": 0.2345428433226936,
                        "count": 4
                      }
                    ]
                  }
                },
                {
                  "name": "_deepnote_index_column",
                  "dtype": "int64"
                }
              ],
              "rows": [
                {
                  "Input": "Fck, I can't work as secretary because I'm a fuckin guy. Why secretary had to be a woman? WHY??!?!?!?!? ",
                  "Merged": "Situation: The speaker is expressing frustration about being unable to work as a secretary because they are a man.\n Feelings: The speaker is feeling frustrated and upset about the situation.\n Action in response: The speaker is expressing their frustration through speech.\n Inappropriate response: The speaker's use of profanity and frustration may be seen as inappropriate in some contexts.\n Long term impact: The speaker's frustration may impact their ability to find work or advance in their career.\n Parties involved: The speaker and potentially their employer or colleagues may be involved in this situation.\n",
                  "Similarity Score": 0.0856477114031417,
                  "_deepnote_index_column": 495
                },
                {
                  "Input": "#EverydaySexism Man: Your day would be boring if I didn't flirt with you on the job. Me: Actually, it wouldn't be cuz I have a job to do. ",
                  "Merged": "Situation: The man is making inappropriate sexual comments to the woman at work.\n Feelings: The woman is feeling uncomfortable and objectified by the man's comments.\n Action in response: The woman is responding by telling the man that his comments are unwelcome and that she has a job to do.\n Inappropriate response: The man is continuing to make inappropriate sexual comments despite being told that they are unwelcome.\n Long term impact: The woman may feel uncomfortable and objectified in the workplace, which could impact her job performance and overall well-being.\n Parties involved: The man and the woman are involved in this situation.\n",
                  "Similarity Score": 0.10355116489093494,
                  "_deepnote_index_column": 98
                },
                {
                  "Input": "I was told I wasn’t bubbly enough with male clients of the hotel I was told I was a good looking girl and could do so much more with my looks, 'You need to spend more time and put more effort into your looks, with a little bit of lipstick you'd look much better' 'Its great to have another girl start as we've just had two of our 'girls' tell us they're pregnant' ",
                  "Merged": "Situation: The paragraph describes a situation in which the author is working at a hotel and is receiving feedback from male clients about their perception of her appearance and how she could improve it.\n Feelings: The author is likely feeling uncomfortable and objectified by the comments made by the male clients, as they are focused on her physical appearance rather than her skills or abilities.\n Action in response: The author is not explicitly described as taking any action in response to the comments, but it can be inferred that she is likely feeling uncomfortable and may be considering ways to address the situation.\n Inappropriate response: The comments made by the male clients are inappropriate and objectifying, as they are focused on the author's appearance rather than her skills or abilities.\n Long term impact: The long-term impact of this situation on the author is likely to be a negative self-image and a feeling of being objectified by others.\n Parties involved: The parties i…",
                  "Similarity Score": 0.11016531360604903,
                  "_deepnote_index_column": 1337
                },
                {
                  "Input": "I was at work putting stock on low down shelves so, in order to not hurt my back by stooping all day, I was on my knees. A regular customer came up to me and said 'Oooh, is that the position your boyfriend likes you in?' ",
                  "Merged": "Situation: The paragraph describes a situation where the author is at work and a customer makes an inappropriate comment about the author's boyfriend.\n Feelings: The paragraph does not explicitly mention the author's feelings, but it can be inferred that the author was likely embarrassed or offended by the customer's comment.\n Action in response: The paragraph does not describe any action taken by the author in response to the customer's comment.\n Inappropriate response: The customer's comment is the inappropriate response mentioned in the paragraph.\n Long term impact: The paragraph does not mention any long-term impact of the situation on the author or the customer.\n Parties involved: The parties involved in the situation are the author and the customer.\n",
                  "Similarity Score": 0.14137726856861285,
                  "_deepnote_index_column": 1566
                },
                {
                  "Input": "I was really excited to get into the workspace environment and start earning heaps of money, money' But I found out the highest paying male job and woman jobs didn't add up' For Woman it's Judge — law $355,844 which is understandable but males Judge — law is $381,323 and it's number 13! The highest is Neurosurgeon which is $577,674. WOmans Neurosurgeon is second and is Neurosurgeon $323,682' THAT'S $200,000 less! It makes me think that because I'm born female I get less money. If I had the same skills and just say I was a boy (With some phoney evidence) I'll get more money. Guess I'm getting a sex transplant so I can earn that coin!~ ",
                  "Merged": "Situation: The author is discussing the gender pay gap and the disparity in salaries between male and female judges.\n Feelings: The author is frustrated and disappointed by the pay gap and feels that they are being discriminated against because of their gender.\n Action in response: The author is considering taking action to change their gender in order to earn more money.\n Inappropriate response: The author's suggestion to change their gender in order to earn more money is inappropriate and unrealistic.\n Long term impact: The long-term impact of the gender pay gap is that it perpetuates inequality and discrimination against women.\n Parties involved: The parties involved in this situation are the author and the employers who pay women less than men for the same job.\n",
                  "Similarity Score": 0.15092340537329993,
                  "_deepnote_index_column": 506
                },
                {
                  "Input": "In conversation with a colleague about how much it would cost to build a house, the kitchen was mentioned. 'It would have to be a decent kitchen ' I know what you women are like.' ",
                  "Merged": "Situation: The conversation about building a house and the mention of the kitchen.\n Feelings: The mention of women in the sentence may be seen as derogatory and could be interpreted as disrespectful or offensive.\n Action in response: The use of the word \"women\" in a derogatory manner.\n Inappropriate response: The use of the word \"women\" in a derogatory manner.\n Long term impact: The use of derogatory language can lead to negative consequences, such as damaged relationships or a negative reputation.\n Parties involved: The colleague who made the comment and the person who heard the comment.\n",
                  "Similarity Score": 0.1590939647156164,
                  "_deepnote_index_column": 812
                },
                {
                  "Input": "The pet store I work at has quite a few regular customers, including one really (REALLY) old guy that comes in every Wednesday. I despise working day shift on Wednesdays because of him and his creepy old man ways. Numerous times he's called my fiancé 'cheap' for not getting me a 4kt diamond ring (the ring has a blue topaz center stone with 2 diamonds flanking it, which we chose together), constantly tries to grab my hand and pull me out of the store, and has even made comments about my 'drawers' being real. (Backstory on that: he always pays cash with $100 bills and we have to always check them so he jokes about them being fake. I once made the mistake of saying everything in my drawer (meaning cash drawer) was real. He 'misheard' me. Right.) My boss tells me that he hasn't been the same since his chemo a few years back and that I should just laugh it all off, but that's no excuse for this dude to be as pervy as he is. And the kicker? Said boss is female. ",
                  "Merged": "Situation: The pet store employee works at a pet store and has a regular customer who comes in every Wednesday.\n Feelings: The employee feels annoyed and creeped out by the customer's behavior.\n Action in response: The employee has to deal with the customer's inappropriate behavior, but their boss tells them to just laugh it off.\n Inappropriate response: The customer makes comments about the employee's body and tries to grab their hand.\n Long term impact: The employee's experience at work is negatively affected by the customer's behavior.\n Parties involved: The customer, the employee, and the employee's boss.\n",
                  "Similarity Score": 0.20255442194305812,
                  "_deepnote_index_column": 1026
                },
                {
                  "Input": "I was at work. I'm a booking agent in Amsterdam. I had a young British fella in and he mentioned in passing, as I was filling out his paper work, that he is the proud father of a 7 year old and a 7 month old. He also alluded to visiting prostitutes while he was in the city and I, knowing about his children and thinking he was joking, joked back that his wife probably wouldn't be too thrilled about that. He nonchalantly replied 'Oh I'm not married! I just like putting it 'round!'. What a gentleman, right?? So, to alleviate the awkwardness that followed THAT sentiment, I asked him 'So, what are you looking to do in Amsterdam while you're here?'. I hear an amused snort so I glance up to see him looking back at me like I'm the stupidest woman he's ever encountered. He actually replied 'Well, THAT'S a stupid question isn't it? I'm here for the whores and the weed, of course!'. I gave him the most scathing look I could muster, icily responded 'They're called sex-workers!' and sent him on hi…",
                  "Merged": "Situation:  The writer is a booking agent in Amsterdam.  The writer has a British client who is a father of two young children.  The client mentions visiting prostitutes in Amsterdam.  The writer jokes about the client's statement.  The client responds by saying that he is not married and that he likes to have sex with prostitutes.  The writer is shocked and offended by the client's statement.  The writer asks the client what he wants to do in Amsterdam.  The client responds by saying that he is here for the sex workers and the weed.  The writer is disgusted by the client's statement and tells him that they are called sex workers.\n Feelings:  The writer is shocked and offended by the client's statement.  The writer is disgusted by the client's statement and tells him that they are called sex workers.\n Action in response:  The writer jokes about the client's statement.  The writer tells the client that they are called sex workers.\n Inappropriate response:  The client responds by saying…",
                  "Similarity Score": 0.20452789703846672,
                  "_deepnote_index_column": 246
                },
                {
                  "Input": "A male security guard I work with in the same department has repeatedly made remarks to me such as, 'We'll my wife serves me my dinner 1st.' or 'My wife has a nice cold glass of iced tea waiting for me every day when I get home.' Today he told me that a woman should always have long hair or they'll look like, 'One of them girls that wished she had boy parts.' I'm so disgusted by his comments, but I have no idea what to even do. I feel like I'm the only one who's offended so, who would back me up if I told HR? ",
                  "Merged": "Situation:  A male security guard makes inappropriate comments about women's appearance and behavior.  The comments include gender stereotypes and objectification of women.  The comments are made in a professional setting.\n Feelings:  The writer is disgusted by the comments.  The writer feels like they are the only one who is offended.  The writer is unsure of what to do about the situation.\n Action in response:  The writer is considering telling HR about the comments.  The writer is unsure of who would back them up if they did.\n Inappropriate response:  The comments are inappropriate and disrespectful towards women.  The comments perpetuate harmful gender stereotypes and objectification of women.\n Long term impact:  The comments create a hostile work environment for women.  The comments can lead to a lack of trust and respect between male and female colleagues.\n Parties involved:  The male security guard is making the inappropriate comments.  The writer is a female colleague who is o…",
                  "Similarity Score": 0.21230919489405523,
                  "_deepnote_index_column": 998
                },
                {
                  "Input": "I am 50, with a degree in Electrical Engineering​and a Master's in Computer science. I am smart and articulate and direct, why dont I rule the world? Because I have breasts, younger generation, keep fighting. ",
                  "Merged": "Situation: The writer is expressing their frustration with the societal expectation that women with breasts cannot rule the world.\n Feelings: The writer feels that they are qualified to rule the world despite their gender and age.\n Action in response: The writer is advocating for women to fight against societal expectations and stereotypes.\n Inappropriate response: The writer's statement about ruling the world is a joke, but it could be seen as inappropriate or offensive to some people.\n Long term impact: The writer's statement could potentially inspire and empower women to challenge gender norms and stereotypes.\n Parties involved: The writer and the younger generation of women who are fighting against societal expectations and stereotypes.\n",
                  "Similarity Score": 0.2126718362760888,
                  "_deepnote_index_column": 178
                },
                {
                  "Input": "In third grade, the teacher asked everyone what they wanted to be when they grow up. Everyone answered all the usual cute kid things, police officer, firefighter etc. When my turn came, I confidently declared that I wanted to be the first female president. The teacher, some lady, laughed in my face and told me to be more realistic. She said ' You could be a nurse or something.' I said I'd like to maybe be a writer then. She told me to pick something less competitive. At home, I asked my parents for advice. My mom reassured me that I could be anything I want in this world if I just work hard at it. Later on, my now-ex-stepdad told me that women are only good three ways: in the kitchen, on their backs or dead. He said this was especially true for me, because I'm homely. I sank into a deep depression at 8 years old and started smoking. I rebelled, refused to be a 'lady,' and started my first job delivering papers at 12 years old. I worked hard in school for awhile then just kind of gave …",
                  "Merged": "Situation:  The teacher asking everyone what they wanted to be when they grow up.  The teacher's response to the speaker's desire to be the first female president.  The speaker's desire to be a writer.  The speaker's parents' advice.  The speaker's stepfather's comment.  The speaker's depression at 8 years old.  The speaker's rebellion and refusal to be a \"lady.\"  The speaker's first job delivering papers at 12 years old.  The speaker's work in school.  The speaker's work in the factories.  The speaker's lack of recognition and title upgrades.  The speaker's belief that their work and opinion will never count as much as a man's.  The speaker's fight against the idea that they are less than because of their gender.\n Feelings:  The speaker's confidence in wanting to be the first female president.  The teacher's laughter and dismissal of the speaker's desire.  The speaker's rebellion and refusal to be a \"lady.\"  The speaker's depression at 8 years old.  The speaker's belief that their wo…",
                  "Similarity Score": 0.21894293505219692,
                  "_deepnote_index_column": 1519
                },
                {
                  "Input": "The other day, I got angry with a co-worker. He has crossed lines before, with his misogyny, but I simply wasn't in the mood to let it roll off my back this particular morning. I arrived at work and he proceeded to catch me by my face as I struggled and kiss my face, close to mouth. It made me want to scream at him to leave me alone, but I managed to hold my tongue, to 'not make a scene'. An hour or so later, he caught my face again and I struggled more aggressively this time, avoided eye contact and wondered aloud why people won't stop touching me when I don't want them to. But the final straw came a little while after that when he spoke down to me again. It was a slow day and there were only 4 people in my shop, 2 couples, that happened to be browsing souvenirs right next to one another. A vital part of my job is to watch people in the shop in case they steal. I work in an open market and strealing is common. As such, I was watching these 4 people like a hawk. I could see in my peri…",
                  "Merged": "Situation:  The co-worker kissed the author's face without permission.  The co-worker spoke down to the author.  The co-worker interrupted the author while they were working.  The co-worker made a scene in front of potential customers.  The co-worker acted annoyed towards the author.\n Feelings:  The author was angry with the co-worker.  The author felt disrespected by the co-worker.  The author felt annoyed by the co-worker's behavior.  The author felt like the co-worker was making a scene.\n Action in response:  The author held her tongue and didn't make a scene.  The author struggled and avoided eye contact with the co-worker.  The author gave the co-worker a \"no shit Sherlock, fuck off\" look.  The author told the co-worker to get back to work.\n Inappropriate response:  The co-worker kissed the author's face without permission.  The co-worker spoke down to the author.  The co-worker interrupted the author while they were working.  The co-worker made a scene in front of potential cust…",
                  "Similarity Score": 0.2224626745069085,
                  "_deepnote_index_column": 1181
                },
                {
                  "Input": "Why are many women's clothes so impractical and designed to be sexy instead of comfortable even in workwear? I was looking for a new shirt to wear at work the other day, so many low necklines that would show my bra if I leaned over so I would have to awkwardly hold the neckline of my shirt together with the other hand if I had to pick something off the floor, see-through fabrics that I'd have to wear another top underneath which is hot and uncomfortable,clinging fabrics,blouses and shirts with odd cut-out areas, jeans designed to 'enhance' your bum instead of being comfortable casual clothing, tops and jumpers that are too short and useless for keeping warm, and my pet hate FAKE POCKETS! Seriously what is wrong with adding some pockets I can actually keep useful things in? Not to mention bras that have almost no support but so much padding they'd probably double as body armour. It is so difficult to find a bra that is both supportive and not so heavily padded it feels like there's a s…",
                  "Merged": "Situation: The author is looking for a new shirt to wear at work and is frustrated by the impractical and uncomfortable options available.\n Feelings: The author feels frustrated and annoyed by the lack of practicality and comfort in women's workwear.\n Action in response: The author is considering not buying any of the available options and continuing to wear the same old shirt.\n Inappropriate response: There is no inappropriate response mentioned in the paragraph.\n Long term impact: The author may continue to feel frustrated and uncomfortable in her workwear, which could affect her productivity and job satisfaction.\n Parties involved: The author, the clothing manufacturers, and the retailers.\n",
                  "Similarity Score": 0.2225058170932939,
                  "_deepnote_index_column": 249
                },
                {
                  "Input": "I had this legendary collegue during my working time in an insurance company. He summed up his own world-view perfectly with these words: 'If my girlfriend would earn more money than me, I couldn't take it. I would split up with her immediately.' Yeah … So, this collegue tried any opportunity to molest me and a co-worker of mine verbally, whenever he could. Rating our bodies, making inappropriate comments, asking us for photos or coffee, and if there was a problem, blaming it on our incompetence as women. Oh, and he was saying I would make my future man very happy if I get rid off my 'dominant moods'. We were 18 and 19, my co-worker and I, he was around 27, with a fixed working place in the company and in a fixed relationship. Which didn't stop him from having wild sex-fantasies where I'd play the lead role in a Lara Croft Cosplay, as I had bigger breasts than my co-worker. I found that out thanks to my other manly collegues, as he could not keep his mouth shut before them. Me and my …",
                  "Merged": "Situation:  Working in an insurance company  Having a colleague who made inappropriate comments and tried to molest the author and her co-worker  The colleague's girlfriend being smart, eloquent, and proud\n Feelings:  The author's discomfort and anger at the colleague's behavior  The author's pride in standing up to the colleague and fighting back  The author's confusion about the colleague's behavior and motivations\n Action in response:  The author and her co-worker fighting back against the colleague's inappropriate behavior  The author's colleagues standing up for her and her co-worker when the colleague went too far\n Inappropriate response:  The colleague's comments and actions towards the author and her co-worker\n Long term impact:  The author's increased confidence and assertiveness as a result of standing up to the colleague  The author's improved relationships with her colleagues as a result of the situation\n Parties involved:  The author  Her colleague  The colleague's girlfr…",
                  "Similarity Score": 0.23184393621998572,
                  "_deepnote_index_column": 1445
                },
                {
                  "Input": "Walking along Long Lane SE1 at lunchtime today to grab a bite to eat. Jeans, flip flops, leather jacket with a baggy T underneath. A man in a white well known branded van stuck in traffic not 15 feet from me yells ' COR FAHKIN 'ELL! YOURE GORGEOUS DARLIN!' Me, 'AWWW! I WISH I COULD SAY THE SAME TO YOU 'DARLIN'l! OH WELL I GUESS NOT EVERYONE IS AS LUCKY AS ME!' I shout even louder with a huge smile. Older lady next to me creases up. 1-0 to us. ",
                  "Merged": "Situation: Walking along Long Lane SE1 at lunchtime.\n Feelings: Jealousy, flattery, happiness.\n Action in response: Smiling, shouting back.\n Inappropriate response: Using derogatory language.\n Long term impact: None mentioned.\n Parties involved: The man in the van, the older lady, the writer.\n",
                  "Similarity Score": 0.2345428433226936,
                  "_deepnote_index_column": 1191
                }
              ]
            },
            "text/plain": "                                                  Input  \\\n495   Fck, I can't work as secretary because I'm a f...   \n98    #EverydaySexism Man: Your day would be boring ...   \n1337  I was told I wasn’t bubbly enough with male cl...   \n1566  I was at work putting stock on low down shelve...   \n506   I was really excited to get into the workspace...   \n812   In conversation with a colleague about how muc...   \n1026  The pet store I work at has quite a few regula...   \n246   I was at work. I'm a booking agent in Amsterda...   \n998   A male security guard I work with in the same ...   \n178   I am 50, with a degree in Electrical Engineeri...   \n1519  In third grade, the teacher asked everyone wha...   \n1181  The other day, I got angry with a co-worker. H...   \n249   Why are many women's clothes so impractical an...   \n1445  I had this legendary collegue during my workin...   \n1191  Walking along Long Lane SE1 at lunchtime today...   \n\n                                                 Merged  Similarity Score  \n495   Situation: The speaker is expressing frustrati...          0.085648  \n98    Situation: The man is making inappropriate sex...          0.103551  \n1337  Situation: The paragraph describes a situation...          0.110165  \n1566  Situation: The paragraph describes a situation...          0.141377  \n506   Situation: The author is discussing the gender...          0.150923  \n812   Situation: The conversation about building a h...          0.159094  \n1026  Situation: The pet store employee works at a p...          0.202554  \n246   Situation:  The writer is a booking agent in A...          0.204528  \n998   Situation:  A male security guard makes inappr...          0.212309  \n178   Situation: The writer is expressing their frus...          0.212672  \n1519  Situation:  The teacher asking everyone what t...          0.218943  \n1181  Situation:  The co-worker kissed the author's ...          0.222463  \n249   Situation: The author is looking for a new shi...          0.222506  \n1445  Situation:  Working in an insurance company  H...          0.231844  \n1191  Situation: Walking along Long Lane SE1 at lunc...          0.234543  ",
            "text/html": "<div>\n<style scoped>\n    .dataframe tbody tr th:only-of-type {\n        vertical-align: middle;\n    }\n\n    .dataframe tbody tr th {\n        vertical-align: top;\n    }\n\n    .dataframe thead th {\n        text-align: right;\n    }\n</style>\n<table border=\"1\" class=\"dataframe\">\n  <thead>\n    <tr style=\"text-align: right;\">\n      <th></th>\n      <th>Input</th>\n      <th>Merged</th>\n      <th>Similarity Score</th>\n    </tr>\n  </thead>\n  <tbody>\n    <tr>\n      <th>495</th>\n      <td>Fck, I can't work as secretary because I'm a f...</td>\n      <td>Situation: The speaker is expressing frustrati...</td>\n      <td>0.085648</td>\n    </tr>\n    <tr>\n      <th>98</th>\n      <td>#EverydaySexism Man: Your day would be boring ...</td>\n      <td>Situation: The man is making inappropriate sex...</td>\n      <td>0.103551</td>\n    </tr>\n    <tr>\n      <th>1337</th>\n      <td>I was told I wasn’t bubbly enough with male cl...</td>\n      <td>Situation: The paragraph describes a situation...</td>\n      <td>0.110165</td>\n    </tr>\n    <tr>\n      <th>1566</th>\n      <td>I was at work putting stock on low down shelve...</td>\n      <td>Situation: The paragraph describes a situation...</td>\n      <td>0.141377</td>\n    </tr>\n    <tr>\n      <th>506</th>\n      <td>I was really excited to get into the workspace...</td>\n      <td>Situation: The author is discussing the gender...</td>\n      <td>0.150923</td>\n    </tr>\n    <tr>\n      <th>812</th>\n      <td>In conversation with a colleague about how muc...</td>\n      <td>Situation: The conversation about building a h...</td>\n      <td>0.159094</td>\n    </tr>\n    <tr>\n      <th>1026</th>\n      <td>The pet store I work at has quite a few regula...</td>\n      <td>Situation: The pet store employee works at a p...</td>\n      <td>0.202554</td>\n    </tr>\n    <tr>\n      <th>246</th>\n      <td>I was at work. I'm a booking agent in Amsterda...</td>\n      <td>Situation:  The writer is a booking agent in A...</td>\n      <td>0.204528</td>\n    </tr>\n    <tr>\n      <th>998</th>\n      <td>A male security guard I work with in the same ...</td>\n      <td>Situation:  A male security guard makes inappr...</td>\n      <td>0.212309</td>\n    </tr>\n    <tr>\n      <th>178</th>\n      <td>I am 50, with a degree in Electrical Engineeri...</td>\n      <td>Situation: The writer is expressing their frus...</td>\n      <td>0.212672</td>\n    </tr>\n    <tr>\n      <th>1519</th>\n      <td>In third grade, the teacher asked everyone wha...</td>\n      <td>Situation:  The teacher asking everyone what t...</td>\n      <td>0.218943</td>\n    </tr>\n    <tr>\n      <th>1181</th>\n      <td>The other day, I got angry with a co-worker. H...</td>\n      <td>Situation:  The co-worker kissed the author's ...</td>\n      <td>0.222463</td>\n    </tr>\n    <tr>\n      <th>249</th>\n      <td>Why are many women's clothes so impractical an...</td>\n      <td>Situation: The author is looking for a new shi...</td>\n      <td>0.222506</td>\n    </tr>\n    <tr>\n      <th>1445</th>\n      <td>I had this legendary collegue during my workin...</td>\n      <td>Situation:  Working in an insurance company  H...</td>\n      <td>0.231844</td>\n    </tr>\n    <tr>\n      <th>1191</th>\n      <td>Walking along Long Lane SE1 at lunchtime today...</td>\n      <td>Situation: Walking along Long Lane SE1 at lunc...</td>\n      <td>0.234543</td>\n    </tr>\n  </tbody>\n</table>\n</div>"
          },
          "metadata": {}
        }
      ],
      "execution_count": 14,
      "block_group": "4c71769fe7bd469cbeaece1a74e6a22f"
    },
    {
      "cell_type": "code",
      "source": "print(filtered_df.iloc[5][0])\nprint(filtered_df.iloc[5][1])",
      "metadata": {
        "source_hash": "34cb14be",
        "execution_start": 1699904171985,
        "execution_millis": 8,
        "deepnote_to_be_reexecuted": false,
        "cell_id": "89103ecfe68a474a9dfc69b9eebab606",
        "deepnote_cell_type": "code"
      },
      "outputs": [
        {
          "name": "stdout",
          "text": "I was really excited to get into the workspace environment and start earning heaps of money, money' But I found out the highest paying male job and woman jobs didn't add up' For Woman it's Judge — law $355,844 which is understandable but males Judge — law is $381,323 and it's number 13! The highest is Neurosurgeon which is $577,674. WOmans Neurosurgeon is second and is Neurosurgeon $323,682' THAT'S $200,000 less! It makes me think that because I'm born female I get less money. If I had the same skills and just say I was a boy (With some phoney evidence) I'll get more money. Guess I'm getting a sex transplant so I can earn that coin!~ \nSituation: The author is discussing the gender pay gap and the disparity in salaries between male and female judges.\n Feelings: The author is frustrated and disappointed by the pay gap and feels that they are being discriminated against because of their gender.\n Action in response: The author is considering taking action to change their gender in order to earn more money.\n Inappropriate response: The author's suggestion to change their gender in order to earn more money is inappropriate and unrealistic.\n Long term impact: The long-term impact of the gender pay gap is that it perpetuates inequality and discrimination against women.\n Parties involved: The parties involved in this situation are the author and the employers who pay women less than men for the same job.\n\n",
          "output_type": "stream"
        }
      ],
      "execution_count": 18,
      "block_group": "51f79b759a9946f39503cb69a88bb2f7"
    },
    {
      "cell_type": "code",
      "source": "\nimport pandas as pd\nfrom sklearn.feature_extraction.text import CountVectorizer\ncount_vect = CountVectorizer()\n\nDocument1 = df.iloc[0][0]\n\nDocument2 = df.iloc[0][1]\n\ncorpus = [Document1,Document2]\n\nX_train_counts = count_vect.fit_transform(corpus)\n\npd.DataFrame(X_train_counts.toarray(),columns=count_vect.get_feature_names(),index=['Document 1','Document 2'])\n",
      "metadata": {
        "source_hash": null,
        "execution_start": 1699310229924,
        "execution_millis": 622,
        "deepnote_to_be_reexecuted": true,
        "cell_id": "5ccea87e52dc48048a6ab34eeabfa755",
        "deepnote_cell_type": "code"
      },
      "outputs": [
        {
          "name": "stderr",
          "text": "/shared-libs/python3.9/py/lib/python3.9/site-packages/sklearn/utils/deprecation.py:87: FutureWarning: Function get_feature_names is deprecated; get_feature_names is deprecated in 1.0 and will be removed in 1.2. Please use get_feature_names_out instead.\n  warnings.warn(msg, category=FutureWarning)\n",
          "output_type": "stream"
        },
        {
          "output_type": "execute_result",
          "execution_count": 9,
          "data": {
            "application/vnd.deepnote.dataframe.v3+json": {
              "column_count": 114,
              "row_count": 2,
              "columns": [
                {
                  "name": "17",
                  "dtype": "int64",
                  "stats": {
                    "unique_count": 2,
                    "nan_count": 0,
                    "min": "1",
                    "max": "2",
                    "histogram": [
                      {
                        "bin_start": 1,
                        "bin_end": 1.1,
                        "count": 1
                      },
                      {
                        "bin_start": 1.1,
                        "bin_end": 1.2,
                        "count": 0
                      },
                      {
                        "bin_start": 1.2,
                        "bin_end": 1.3,
                        "count": 0
                      },
                      {
                        "bin_start": 1.3,
                        "bin_end": 1.4,
                        "count": 0
                      },
                      {
                        "bin_start": 1.4,
                        "bin_end": 1.5,
                        "count": 0
                      },
                      {
                        "bin_start": 1.5,
                        "bin_end": 1.6,
                        "count": 0
                      },
                      {
                        "bin_start": 1.6,
                        "bin_end": 1.7000000000000002,
                        "count": 0
                      },
                      {
                        "bin_start": 1.7000000000000002,
                        "bin_end": 1.8,
                        "count": 0
                      },
                      {
                        "bin_start": 1.8,
                        "bin_end": 1.9,
                        "count": 0
                      },
                      {
                        "bin_start": 1.9,
                        "bin_end": 2,
                        "count": 1
                      }
                    ]
                  }
                },
                {
                  "name": "30pm",
                  "dtype": "int64",
                  "stats": {
                    "unique_count": 1,
                    "nan_count": 0,
                    "min": "1",
                    "max": "1",
                    "histogram": [
                      {
                        "bin_start": 0.5,
                        "bin_end": 0.6,
                        "count": 0
                      },
                      {
                        "bin_start": 0.6,
                        "bin_end": 0.7,
                        "count": 0
                      },
                      {
                        "bin_start": 0.7,
                        "bin_end": 0.8,
                        "count": 0
                      },
                      {
                        "bin_start": 0.8,
                        "bin_end": 0.9,
                        "count": 0
                      },
                      {
                        "bin_start": 0.9,
                        "bin_end": 1,
                        "count": 0
                      },
                      {
                        "bin_start": 1,
                        "bin_end": 1.1,
                        "count": 2
                      },
                      {
                        "bin_start": 1.1,
                        "bin_end": 1.2000000000000002,
                        "count": 0
                      },
                      {
                        "bin_start": 1.2000000000000002,
                        "bin_end": 1.3,
                        "count": 0
                      },
                      {
                        "bin_start": 1.3,
                        "bin_end": 1.4,
                        "count": 0
                      },
                      {
                        "bin_start": 1.4,
                        "bin_end": 1.5,
                        "count": 0
                      }
                    ]
                  }
                },
                {
                  "name": "50s",
                  "dtype": "int64",
                  "stats": {
                    "unique_count": 1,
                    "nan_count": 0,
                    "min": "1",
                    "max": "1",
                    "histogram": [
                      {
                        "bin_start": 0.5,
                        "bin_end": 0.6,
                        "count": 0
                      },
                      {
                        "bin_start": 0.6,
                        "bin_end": 0.7,
                        "count": 0
                      },
                      {
                        "bin_start": 0.7,
                        "bin_end": 0.8,
                        "count": 0
                      },
                      {
                        "bin_start": 0.8,
                        "bin_end": 0.9,
                        "count": 0
                      },
                      {
                        "bin_start": 0.9,
                        "bin_end": 1,
                        "count": 0
                      },
                      {
                        "bin_start": 1,
                        "bin_end": 1.1,
                        "count": 2
                      },
                      {
                        "bin_start": 1.1,
                        "bin_end": 1.2000000000000002,
                        "count": 0
                      },
                      {
                        "bin_start": 1.2000000000000002,
                        "bin_end": 1.3,
                        "count": 0
                      },
                      {
                        "bin_start": 1.3,
                        "bin_end": 1.4,
                        "count": 0
                      },
                      {
                        "bin_start": 1.4,
                        "bin_end": 1.5,
                        "count": 0
                      }
                    ]
                  }
                },
                {
                  "name": "60s",
                  "dtype": "int64",
                  "stats": {
                    "unique_count": 1,
                    "nan_count": 0,
                    "min": "1",
                    "max": "1",
                    "histogram": [
                      {
                        "bin_start": 0.5,
                        "bin_end": 0.6,
                        "count": 0
                      },
                      {
                        "bin_start": 0.6,
                        "bin_end": 0.7,
                        "count": 0
                      },
                      {
                        "bin_start": 0.7,
                        "bin_end": 0.8,
                        "count": 0
                      },
                      {
                        "bin_start": 0.8,
                        "bin_end": 0.9,
                        "count": 0
                      },
                      {
                        "bin_start": 0.9,
                        "bin_end": 1,
                        "count": 0
                      },
                      {
                        "bin_start": 1,
                        "bin_end": 1.1,
                        "count": 2
                      },
                      {
                        "bin_start": 1.1,
                        "bin_end": 1.2000000000000002,
                        "count": 0
                      },
                      {
                        "bin_start": 1.2000000000000002,
                        "bin_end": 1.3,
                        "count": 0
                      },
                      {
                        "bin_start": 1.3,
                        "bin_end": 1.4,
                        "count": 0
                      },
                      {
                        "bin_start": 1.4,
                        "bin_end": 1.5,
                        "count": 0
                      }
                    ]
                  }
                },
                {
                  "name": "about",
                  "dtype": "int64",
                  "stats": {
                    "unique_count": 2,
                    "nan_count": 0,
                    "min": "1",
                    "max": "2",
                    "histogram": [
                      {
                        "bin_start": 1,
                        "bin_end": 1.1,
                        "count": 1
                      },
                      {
                        "bin_start": 1.1,
                        "bin_end": 1.2,
                        "count": 0
                      },
                      {
                        "bin_start": 1.2,
                        "bin_end": 1.3,
                        "count": 0
                      },
                      {
                        "bin_start": 1.3,
                        "bin_end": 1.4,
                        "count": 0
                      },
                      {
                        "bin_start": 1.4,
                        "bin_end": 1.5,
                        "count": 0
                      },
                      {
                        "bin_start": 1.5,
                        "bin_end": 1.6,
                        "count": 0
                      },
                      {
                        "bin_start": 1.6,
                        "bin_end": 1.7000000000000002,
                        "count": 0
                      },
                      {
                        "bin_start": 1.7000000000000002,
                        "bin_end": 1.8,
                        "count": 0
                      },
                      {
                        "bin_start": 1.8,
                        "bin_end": 1.9,
                        "count": 0
                      },
                      {
                        "bin_start": 1.9,
                        "bin_end": 2,
                        "count": 1
                      }
                    ]
                  }
                },
                {
                  "name": "actually",
                  "dtype": "int64",
                  "stats": {
                    "unique_count": 2,
                    "nan_count": 0,
                    "min": "0",
                    "max": "1",
                    "histogram": [
                      {
                        "bin_start": 0,
                        "bin_end": 0.1,
                        "count": 1
                      },
                      {
                        "bin_start": 0.1,
                        "bin_end": 0.2,
                        "count": 0
                      },
                      {
                        "bin_start": 0.2,
                        "bin_end": 0.30000000000000004,
                        "count": 0
                      },
                      {
                        "bin_start": 0.30000000000000004,
                        "bin_end": 0.4,
                        "count": 0
                      },
                      {
                        "bin_start": 0.4,
                        "bin_end": 0.5,
                        "count": 0
                      },
                      {
                        "bin_start": 0.5,
                        "bin_end": 0.6000000000000001,
                        "count": 0
                      },
                      {
                        "bin_start": 0.6000000000000001,
                        "bin_end": 0.7000000000000001,
                        "count": 0
                      },
                      {
                        "bin_start": 0.7000000000000001,
                        "bin_end": 0.8,
                        "count": 0
                      },
                      {
                        "bin_start": 0.8,
                        "bin_end": 0.9,
                        "count": 0
                      },
                      {
                        "bin_start": 0.9,
                        "bin_end": 1,
                        "count": 1
                      }
                    ]
                  }
                },
                {
                  "name": "after",
                  "dtype": "int64",
                  "stats": {
                    "unique_count": 2,
                    "nan_count": 0,
                    "min": "0",
                    "max": "1",
                    "histogram": [
                      {
                        "bin_start": 0,
                        "bin_end": 0.1,
                        "count": 1
                      },
                      {
                        "bin_start": 0.1,
                        "bin_end": 0.2,
                        "count": 0
                      },
                      {
                        "bin_start": 0.2,
                        "bin_end": 0.30000000000000004,
                        "count": 0
                      },
                      {
                        "bin_start": 0.30000000000000004,
                        "bin_end": 0.4,
                        "count": 0
                      },
                      {
                        "bin_start": 0.4,
                        "bin_end": 0.5,
                        "count": 0
                      },
                      {
                        "bin_start": 0.5,
                        "bin_end": 0.6000000000000001,
                        "count": 0
                      },
                      {
                        "bin_start": 0.6000000000000001,
                        "bin_end": 0.7000000000000001,
                        "count": 0
                      },
                      {
                        "bin_start": 0.7000000000000001,
                        "bin_end": 0.8,
                        "count": 0
                      },
                      {
                        "bin_start": 0.8,
                        "bin_end": 0.9,
                        "count": 0
                      },
                      {
                        "bin_start": 0.9,
                        "bin_end": 1,
                        "count": 1
                      }
                    ]
                  }
                },
                {
                  "name": "all",
                  "dtype": "int64",
                  "stats": {
                    "unique_count": 1,
                    "nan_count": 0,
                    "min": "1",
                    "max": "1",
                    "histogram": [
                      {
                        "bin_start": 0.5,
                        "bin_end": 0.6,
                        "count": 0
                      },
                      {
                        "bin_start": 0.6,
                        "bin_end": 0.7,
                        "count": 0
                      },
                      {
                        "bin_start": 0.7,
                        "bin_end": 0.8,
                        "count": 0
                      },
                      {
                        "bin_start": 0.8,
                        "bin_end": 0.9,
                        "count": 0
                      },
                      {
                        "bin_start": 0.9,
                        "bin_end": 1,
                        "count": 0
                      },
                      {
                        "bin_start": 1,
                        "bin_end": 1.1,
                        "count": 2
                      },
                      {
                        "bin_start": 1.1,
                        "bin_end": 1.2000000000000002,
                        "count": 0
                      },
                      {
                        "bin_start": 1.2000000000000002,
                        "bin_end": 1.3,
                        "count": 0
                      },
                      {
                        "bin_start": 1.3,
                        "bin_end": 1.4,
                        "count": 0
                      },
                      {
                        "bin_start": 1.4,
                        "bin_end": 1.5,
                        "count": 0
                      }
                    ]
                  }
                },
                {
                  "name": "already",
                  "dtype": "int64",
                  "stats": {
                    "unique_count": 1,
                    "nan_count": 0,
                    "min": "1",
                    "max": "1",
                    "histogram": [
                      {
                        "bin_start": 0.5,
                        "bin_end": 0.6,
                        "count": 0
                      },
                      {
                        "bin_start": 0.6,
                        "bin_end": 0.7,
                        "count": 0
                      },
                      {
                        "bin_start": 0.7,
                        "bin_end": 0.8,
                        "count": 0
                      },
                      {
                        "bin_start": 0.8,
                        "bin_end": 0.9,
                        "count": 0
                      },
                      {
                        "bin_start": 0.9,
                        "bin_end": 1,
                        "count": 0
                      },
                      {
                        "bin_start": 1,
                        "bin_end": 1.1,
                        "count": 2
                      },
                      {
                        "bin_start": 1.1,
                        "bin_end": 1.2000000000000002,
                        "count": 0
                      },
                      {
                        "bin_start": 1.2000000000000002,
                        "bin_end": 1.3,
                        "count": 0
                      },
                      {
                        "bin_start": 1.3,
                        "bin_end": 1.4,
                        "count": 0
                      },
                      {
                        "bin_start": 1.4,
                        "bin_end": 1.5,
                        "count": 0
                      }
                    ]
                  }
                },
                {
                  "name": "and",
                  "dtype": "int64",
                  "stats": {
                    "unique_count": 2,
                    "nan_count": 0,
                    "min": "2",
                    "max": "6",
                    "histogram": [
                      {
                        "bin_start": 2,
                        "bin_end": 2.4,
                        "count": 1
                      },
                      {
                        "bin_start": 2.4,
                        "bin_end": 2.8,
                        "count": 0
                      },
                      {
                        "bin_start": 2.8,
                        "bin_end": 3.2,
                        "count": 0
                      },
                      {
                        "bin_start": 3.2,
                        "bin_end": 3.6,
                        "count": 0
                      },
                      {
                        "bin_start": 3.6,
                        "bin_end": 4,
                        "count": 0
                      },
                      {
                        "bin_start": 4,
                        "bin_end": 4.4,
                        "count": 0
                      },
                      {
                        "bin_start": 4.4,
                        "bin_end": 4.800000000000001,
                        "count": 0
                      },
                      {
                        "bin_start": 4.800000000000001,
                        "bin_end": 5.2,
                        "count": 0
                      },
                      {
                        "bin_start": 5.2,
                        "bin_end": 5.6,
                        "count": 0
                      },
                      {
                        "bin_start": 5.6,
                        "bin_end": 6,
                        "count": 1
                      }
                    ]
                  }
                },
                {
                  "name": "around",
                  "dtype": "int64",
                  "stats": {
                    "unique_count": 1,
                    "nan_count": 0,
                    "min": "1",
                    "max": "1",
                    "histogram": [
                      {
                        "bin_start": 0.5,
                        "bin_end": 0.6,
                        "count": 0
                      },
                      {
                        "bin_start": 0.6,
                        "bin_end": 0.7,
                        "count": 0
                      },
                      {
                        "bin_start": 0.7,
                        "bin_end": 0.8,
                        "count": 0
                      },
                      {
                        "bin_start": 0.8,
                        "bin_end": 0.9,
                        "count": 0
                      },
                      {
                        "bin_start": 0.9,
                        "bin_end": 1,
                        "count": 0
                      },
                      {
                        "bin_start": 1,
                        "bin_end": 1.1,
                        "count": 2
                      },
                      {
                        "bin_start": 1.1,
                        "bin_end": 1.2000000000000002,
                        "count": 0
                      },
                      {
                        "bin_start": 1.2000000000000002,
                        "bin_end": 1.3,
                        "count": 0
                      },
                      {
                        "bin_start": 1.3,
                        "bin_end": 1.4,
                        "count": 0
                      },
                      {
                        "bin_start": 1.4,
                        "bin_end": 1.5,
                        "count": 0
                      }
                    ]
                  }
                },
                {
                  "name": "as",
                  "dtype": "int64",
                  "stats": {
                    "unique_count": 2,
                    "nan_count": 0,
                    "min": "3",
                    "max": "4",
                    "histogram": [
                      {
                        "bin_start": 3,
                        "bin_end": 3.1,
                        "count": 1
                      },
                      {
                        "bin_start": 3.1,
                        "bin_end": 3.2,
                        "count": 0
                      },
                      {
                        "bin_start": 3.2,
                        "bin_end": 3.3,
                        "count": 0
                      },
                      {
                        "bin_start": 3.3,
                        "bin_end": 3.4,
                        "count": 0
                      },
                      {
                        "bin_start": 3.4,
                        "bin_end": 3.5,
                        "count": 0
                      },
                      {
                        "bin_start": 3.5,
                        "bin_end": 3.6,
                        "count": 0
                      },
                      {
                        "bin_start": 3.6,
                        "bin_end": 3.7,
                        "count": 0
                      },
                      {
                        "bin_start": 3.7,
                        "bin_end": 3.8,
                        "count": 0
                      },
                      {
                        "bin_start": 3.8,
                        "bin_end": 3.9,
                        "count": 0
                      },
                      {
                        "bin_start": 3.9,
                        "bin_end": 4,
                        "count": 1
                      }
                    ]
                  }
                },
                {
                  "name": "asking",
                  "dtype": "int64",
                  "stats": {
                    "unique_count": 1,
                    "nan_count": 0,
                    "min": "1",
                    "max": "1",
                    "histogram": [
                      {
                        "bin_start": 0.5,
                        "bin_end": 0.6,
                        "count": 0
                      },
                      {
                        "bin_start": 0.6,
                        "bin_end": 0.7,
                        "count": 0
                      },
                      {
                        "bin_start": 0.7,
                        "bin_end": 0.8,
                        "count": 0
                      },
                      {
                        "bin_start": 0.8,
                        "bin_end": 0.9,
                        "count": 0
                      },
                      {
                        "bin_start": 0.9,
                        "bin_end": 1,
                        "count": 0
                      },
                      {
                        "bin_start": 1,
                        "bin_end": 1.1,
                        "count": 2
                      },
                      {
                        "bin_start": 1.1,
                        "bin_end": 1.2000000000000002,
                        "count": 0
                      },
                      {
                        "bin_start": 1.2000000000000002,
                        "bin_end": 1.3,
                        "count": 0
                      },
                      {
                        "bin_start": 1.3,
                        "bin_end": 1.4,
                        "count": 0
                      },
                      {
                        "bin_start": 1.4,
                        "bin_end": 1.5,
                        "count": 0
                      }
                    ]
                  }
                },
                {
                  "name": "awkwardly",
                  "dtype": "int64",
                  "stats": {
                    "unique_count": 2,
                    "nan_count": 0,
                    "min": "0",
                    "max": "1",
                    "histogram": [
                      {
                        "bin_start": 0,
                        "bin_end": 0.1,
                        "count": 1
                      },
                      {
                        "bin_start": 0.1,
                        "bin_end": 0.2,
                        "count": 0
                      },
                      {
                        "bin_start": 0.2,
                        "bin_end": 0.30000000000000004,
                        "count": 0
                      },
                      {
                        "bin_start": 0.30000000000000004,
                        "bin_end": 0.4,
                        "count": 0
                      },
                      {
                        "bin_start": 0.4,
                        "bin_end": 0.5,
                        "count": 0
                      },
                      {
                        "bin_start": 0.5,
                        "bin_end": 0.6000000000000001,
                        "count": 0
                      },
                      {
                        "bin_start": 0.6000000000000001,
                        "bin_end": 0.7000000000000001,
                        "count": 0
                      },
                      {
                        "bin_start": 0.7000000000000001,
                        "bin_end": 0.8,
                        "count": 0
                      },
                      {
                        "bin_start": 0.8,
                        "bin_end": 0.9,
                        "count": 0
                      },
                      {
                        "bin_start": 0.9,
                        "bin_end": 1,
                        "count": 1
                      }
                    ]
                  }
                },
                {
                  "name": "below",
                  "dtype": "int64",
                  "stats": {
                    "unique_count": 1,
                    "nan_count": 0,
                    "min": "1",
                    "max": "1",
                    "histogram": [
                      {
                        "bin_start": 0.5,
                        "bin_end": 0.6,
                        "count": 0
                      },
                      {
                        "bin_start": 0.6,
                        "bin_end": 0.7,
                        "count": 0
                      },
                      {
                        "bin_start": 0.7,
                        "bin_end": 0.8,
                        "count": 0
                      },
                      {
                        "bin_start": 0.8,
                        "bin_end": 0.9,
                        "count": 0
                      },
                      {
                        "bin_start": 0.9,
                        "bin_end": 1,
                        "count": 0
                      },
                      {
                        "bin_start": 1,
                        "bin_end": 1.1,
                        "count": 2
                      },
                      {
                        "bin_start": 1.1,
                        "bin_end": 1.2000000000000002,
                        "count": 0
                      },
                      {
                        "bin_start": 1.2000000000000002,
                        "bin_end": 1.3,
                        "count": 0
                      },
                      {
                        "bin_start": 1.3,
                        "bin_end": 1.4,
                        "count": 0
                      },
                      {
                        "bin_start": 1.4,
                        "bin_end": 1.5,
                        "count": 0
                      }
                    ]
                  }
                },
                {
                  "name": "blowjob",
                  "dtype": "int64",
                  "stats": {
                    "unique_count": 2,
                    "nan_count": 0,
                    "min": "0",
                    "max": "1",
                    "histogram": [
                      {
                        "bin_start": 0,
                        "bin_end": 0.1,
                        "count": 1
                      },
                      {
                        "bin_start": 0.1,
                        "bin_end": 0.2,
                        "count": 0
                      },
                      {
                        "bin_start": 0.2,
                        "bin_end": 0.30000000000000004,
                        "count": 0
                      },
                      {
                        "bin_start": 0.30000000000000004,
                        "bin_end": 0.4,
                        "count": 0
                      },
                      {
                        "bin_start": 0.4,
                        "bin_end": 0.5,
                        "count": 0
                      },
                      {
                        "bin_start": 0.5,
                        "bin_end": 0.6000000000000001,
                        "count": 0
                      },
                      {
                        "bin_start": 0.6000000000000001,
                        "bin_end": 0.7000000000000001,
                        "count": 0
                      },
                      {
                        "bin_start": 0.7000000000000001,
                        "bin_end": 0.8,
                        "count": 0
                      },
                      {
                        "bin_start": 0.8,
                        "bin_end": 0.9,
                        "count": 0
                      },
                      {
                        "bin_start": 0.9,
                        "bin_end": 1,
                        "count": 1
                      }
                    ]
                  }
                },
                {
                  "name": "boots",
                  "dtype": "int64",
                  "stats": {
                    "unique_count": 2,
                    "nan_count": 0,
                    "min": "1",
                    "max": "2",
                    "histogram": [
                      {
                        "bin_start": 1,
                        "bin_end": 1.1,
                        "count": 1
                      },
                      {
                        "bin_start": 1.1,
                        "bin_end": 1.2,
                        "count": 0
                      },
                      {
                        "bin_start": 1.2,
                        "bin_end": 1.3,
                        "count": 0
                      },
                      {
                        "bin_start": 1.3,
                        "bin_end": 1.4,
                        "count": 0
                      },
                      {
                        "bin_start": 1.4,
                        "bin_end": 1.5,
                        "count": 0
                      },
                      {
                        "bin_start": 1.5,
                        "bin_end": 1.6,
                        "count": 0
                      },
                      {
                        "bin_start": 1.6,
                        "bin_end": 1.7000000000000002,
                        "count": 0
                      },
                      {
                        "bin_start": 1.7000000000000002,
                        "bin_end": 1.8,
                        "count": 0
                      },
                      {
                        "bin_start": 1.8,
                        "bin_end": 1.9,
                        "count": 0
                      },
                      {
                        "bin_start": 1.9,
                        "bin_end": 2,
                        "count": 1
                      }
                    ]
                  }
                },
                {
                  "name": "both",
                  "dtype": "int64",
                  "stats": {
                    "unique_count": 1,
                    "nan_count": 0,
                    "min": "1",
                    "max": "1",
                    "histogram": [
                      {
                        "bin_start": 0.5,
                        "bin_end": 0.6,
                        "count": 0
                      },
                      {
                        "bin_start": 0.6,
                        "bin_end": 0.7,
                        "count": 0
                      },
                      {
                        "bin_start": 0.7,
                        "bin_end": 0.8,
                        "count": 0
                      },
                      {
                        "bin_start": 0.8,
                        "bin_end": 0.9,
                        "count": 0
                      },
                      {
                        "bin_start": 0.9,
                        "bin_end": 1,
                        "count": 0
                      },
                      {
                        "bin_start": 1,
                        "bin_end": 1.1,
                        "count": 2
                      },
                      {
                        "bin_start": 1.1,
                        "bin_end": 1.2000000000000002,
                        "count": 0
                      },
                      {
                        "bin_start": 1.2000000000000002,
                        "bin_end": 1.3,
                        "count": 0
                      },
                      {
                        "bin_start": 1.3,
                        "bin_end": 1.4,
                        "count": 0
                      },
                      {
                        "bin_start": 1.4,
                        "bin_end": 1.5,
                        "count": 0
                      }
                    ]
                  }
                },
                {
                  "name": "bought",
                  "dtype": "int64",
                  "stats": {
                    "unique_count": 2,
                    "nan_count": 0,
                    "min": "0",
                    "max": "1",
                    "histogram": [
                      {
                        "bin_start": 0,
                        "bin_end": 0.1,
                        "count": 1
                      },
                      {
                        "bin_start": 0.1,
                        "bin_end": 0.2,
                        "count": 0
                      },
                      {
                        "bin_start": 0.2,
                        "bin_end": 0.30000000000000004,
                        "count": 0
                      },
                      {
                        "bin_start": 0.30000000000000004,
                        "bin_end": 0.4,
                        "count": 0
                      },
                      {
                        "bin_start": 0.4,
                        "bin_end": 0.5,
                        "count": 0
                      },
                      {
                        "bin_start": 0.5,
                        "bin_end": 0.6000000000000001,
                        "count": 0
                      },
                      {
                        "bin_start": 0.6000000000000001,
                        "bin_end": 0.7000000000000001,
                        "count": 0
                      },
                      {
                        "bin_start": 0.7000000000000001,
                        "bin_end": 0.8,
                        "count": 0
                      },
                      {
                        "bin_start": 0.8,
                        "bin_end": 0.9,
                        "count": 0
                      },
                      {
                        "bin_start": 0.9,
                        "bin_end": 1,
                        "count": 1
                      }
                    ]
                  }
                },
                {
                  "name": "by",
                  "dtype": "int64",
                  "stats": {
                    "unique_count": 2,
                    "nan_count": 0,
                    "min": "1",
                    "max": "2",
                    "histogram": [
                      {
                        "bin_start": 1,
                        "bin_end": 1.1,
                        "count": 1
                      },
                      {
                        "bin_start": 1.1,
                        "bin_end": 1.2,
                        "count": 0
                      },
                      {
                        "bin_start": 1.2,
                        "bin_end": 1.3,
                        "count": 0
                      },
                      {
                        "bin_start": 1.3,
                        "bin_end": 1.4,
                        "count": 0
                      },
                      {
                        "bin_start": 1.4,
                        "bin_end": 1.5,
                        "count": 0
                      },
                      {
                        "bin_start": 1.5,
                        "bin_end": 1.6,
                        "count": 0
                      },
                      {
                        "bin_start": 1.6,
                        "bin_end": 1.7000000000000002,
                        "count": 0
                      },
                      {
                        "bin_start": 1.7000000000000002,
                        "bin_end": 1.8,
                        "count": 0
                      },
                      {
                        "bin_start": 1.8,
                        "bin_end": 1.9,
                        "count": 0
                      },
                      {
                        "bin_start": 1.9,
                        "bin_end": 2,
                        "count": 1
                      }
                    ]
                  }
                },
                {
                  "name": "came",
                  "dtype": "int64",
                  "stats": {
                    "unique_count": 1,
                    "nan_count": 0,
                    "min": "1",
                    "max": "1",
                    "histogram": [
                      {
                        "bin_start": 0.5,
                        "bin_end": 0.6,
                        "count": 0
                      },
                      {
                        "bin_start": 0.6,
                        "bin_end": 0.7,
                        "count": 0
                      },
                      {
                        "bin_start": 0.7,
                        "bin_end": 0.8,
                        "count": 0
                      },
                      {
                        "bin_start": 0.8,
                        "bin_end": 0.9,
                        "count": 0
                      },
                      {
                        "bin_start": 0.9,
                        "bin_end": 1,
                        "count": 0
                      },
                      {
                        "bin_start": 1,
                        "bin_end": 1.1,
                        "count": 2
                      },
                      {
                        "bin_start": 1.1,
                        "bin_end": 1.2000000000000002,
                        "count": 0
                      },
                      {
                        "bin_start": 1.2000000000000002,
                        "bin_end": 1.3,
                        "count": 0
                      },
                      {
                        "bin_start": 1.3,
                        "bin_end": 1.4,
                        "count": 0
                      },
                      {
                        "bin_start": 1.4,
                        "bin_end": 1.5,
                        "count": 0
                      }
                    ]
                  }
                },
                {
                  "name": "cashing",
                  "dtype": "int64",
                  "stats": {
                    "unique_count": 1,
                    "nan_count": 0,
                    "min": "1",
                    "max": "1",
                    "histogram": [
                      {
                        "bin_start": 0.5,
                        "bin_end": 0.6,
                        "count": 0
                      },
                      {
                        "bin_start": 0.6,
                        "bin_end": 0.7,
                        "count": 0
                      },
                      {
                        "bin_start": 0.7,
                        "bin_end": 0.8,
                        "count": 0
                      },
                      {
                        "bin_start": 0.8,
                        "bin_end": 0.9,
                        "count": 0
                      },
                      {
                        "bin_start": 0.9,
                        "bin_end": 1,
                        "count": 0
                      },
                      {
                        "bin_start": 1,
                        "bin_end": 1.1,
                        "count": 2
                      },
                      {
                        "bin_start": 1.1,
                        "bin_end": 1.2000000000000002,
                        "count": 0
                      },
                      {
                        "bin_start": 1.2000000000000002,
                        "bin_end": 1.3,
                        "count": 0
                      },
                      {
                        "bin_start": 1.3,
                        "bin_end": 1.4,
                        "count": 0
                      },
                      {
                        "bin_start": 1.4,
                        "bin_end": 1.5,
                        "count": 0
                      }
                    ]
                  }
                },
                {
                  "name": "clothing",
                  "dtype": "int64",
                  "stats": {
                    "unique_count": 1,
                    "nan_count": 0,
                    "min": "2",
                    "max": "2",
                    "histogram": [
                      {
                        "bin_start": 1.5,
                        "bin_end": 1.6,
                        "count": 0
                      },
                      {
                        "bin_start": 1.6,
                        "bin_end": 1.7,
                        "count": 0
                      },
                      {
                        "bin_start": 1.7,
                        "bin_end": 1.8,
                        "count": 0
                      },
                      {
                        "bin_start": 1.8,
                        "bin_end": 1.9,
                        "count": 0
                      },
                      {
                        "bin_start": 1.9,
                        "bin_end": 2,
                        "count": 0
                      },
                      {
                        "bin_start": 2,
                        "bin_end": 2.1,
                        "count": 2
                      },
                      {
                        "bin_start": 2.1,
                        "bin_end": 2.2,
                        "count": 0
                      },
                      {
                        "bin_start": 2.2,
                        "bin_end": 2.3,
                        "count": 0
                      },
                      {
                        "bin_start": 2.3,
                        "bin_end": 2.4,
                        "count": 0
                      },
                      {
                        "bin_start": 2.4,
                        "bin_end": 2.5,
                        "count": 0
                      }
                    ]
                  }
                },
                {
                  "name": "confirmed",
                  "dtype": "int64",
                  "stats": {
                    "unique_count": 2,
                    "nan_count": 0,
                    "min": "0",
                    "max": "1",
                    "histogram": [
                      {
                        "bin_start": 0,
                        "bin_end": 0.1,
                        "count": 1
                      },
                      {
                        "bin_start": 0.1,
                        "bin_end": 0.2,
                        "count": 0
                      },
                      {
                        "bin_start": 0.2,
                        "bin_end": 0.30000000000000004,
                        "count": 0
                      },
                      {
                        "bin_start": 0.30000000000000004,
                        "bin_end": 0.4,
                        "count": 0
                      },
                      {
                        "bin_start": 0.4,
                        "bin_end": 0.5,
                        "count": 0
                      },
                      {
                        "bin_start": 0.5,
                        "bin_end": 0.6000000000000001,
                        "count": 0
                      },
                      {
                        "bin_start": 0.6000000000000001,
                        "bin_end": 0.7000000000000001,
                        "count": 0
                      },
                      {
                        "bin_start": 0.7000000000000001,
                        "bin_end": 0.8,
                        "count": 0
                      },
                      {
                        "bin_start": 0.8,
                        "bin_end": 0.9,
                        "count": 0
                      },
                      {
                        "bin_start": 0.9,
                        "bin_end": 1,
                        "count": 1
                      }
                    ]
                  }
                },
                {
                  "name": "dark",
                  "dtype": "int64",
                  "stats": {
                    "unique_count": 1,
                    "nan_count": 0,
                    "min": "1",
                    "max": "1",
                    "histogram": [
                      {
                        "bin_start": 0.5,
                        "bin_end": 0.6,
                        "count": 0
                      },
                      {
                        "bin_start": 0.6,
                        "bin_end": 0.7,
                        "count": 0
                      },
                      {
                        "bin_start": 0.7,
                        "bin_end": 0.8,
                        "count": 0
                      },
                      {
                        "bin_start": 0.8,
                        "bin_end": 0.9,
                        "count": 0
                      },
                      {
                        "bin_start": 0.9,
                        "bin_end": 1,
                        "count": 0
                      },
                      {
                        "bin_start": 1,
                        "bin_end": 1.1,
                        "count": 2
                      },
                      {
                        "bin_start": 1.1,
                        "bin_end": 1.2000000000000002,
                        "count": 0
                      },
                      {
                        "bin_start": 1.2000000000000002,
                        "bin_end": 1.3,
                        "count": 0
                      },
                      {
                        "bin_start": 1.3,
                        "bin_end": 1.4,
                        "count": 0
                      },
                      {
                        "bin_start": 1.4,
                        "bin_end": 1.5,
                        "count": 0
                      }
                    ]
                  }
                },
                {
                  "name": "didn",
                  "dtype": "int64",
                  "stats": {
                    "unique_count": 2,
                    "nan_count": 0,
                    "min": "0",
                    "max": "1",
                    "histogram": [
                      {
                        "bin_start": 0,
                        "bin_end": 0.1,
                        "count": 1
                      },
                      {
                        "bin_start": 0.1,
                        "bin_end": 0.2,
                        "count": 0
                      },
                      {
                        "bin_start": 0.2,
                        "bin_end": 0.30000000000000004,
                        "count": 0
                      },
                      {
                        "bin_start": 0.30000000000000004,
                        "bin_end": 0.4,
                        "count": 0
                      },
                      {
                        "bin_start": 0.4,
                        "bin_end": 0.5,
                        "count": 0
                      },
                      {
                        "bin_start": 0.5,
                        "bin_end": 0.6000000000000001,
                        "count": 0
                      },
                      {
                        "bin_start": 0.6000000000000001,
                        "bin_end": 0.7000000000000001,
                        "count": 0
                      },
                      {
                        "bin_start": 0.7000000000000001,
                        "bin_end": 0.8,
                        "count": 0
                      },
                      {
                        "bin_start": 0.8,
                        "bin_end": 0.9,
                        "count": 0
                      },
                      {
                        "bin_start": 0.9,
                        "bin_end": 1,
                        "count": 1
                      }
                    ]
                  }
                },
                {
                  "name": "display",
                  "dtype": "int64",
                  "stats": {
                    "unique_count": 1,
                    "nan_count": 0,
                    "min": "1",
                    "max": "1",
                    "histogram": [
                      {
                        "bin_start": 0.5,
                        "bin_end": 0.6,
                        "count": 0
                      },
                      {
                        "bin_start": 0.6,
                        "bin_end": 0.7,
                        "count": 0
                      },
                      {
                        "bin_start": 0.7,
                        "bin_end": 0.8,
                        "count": 0
                      },
                      {
                        "bin_start": 0.8,
                        "bin_end": 0.9,
                        "count": 0
                      },
                      {
                        "bin_start": 0.9,
                        "bin_end": 1,
                        "count": 0
                      },
                      {
                        "bin_start": 1,
                        "bin_end": 1.1,
                        "count": 2
                      },
                      {
                        "bin_start": 1.1,
                        "bin_end": 1.2000000000000002,
                        "count": 0
                      },
                      {
                        "bin_start": 1.2000000000000002,
                        "bin_end": 1.3,
                        "count": 0
                      },
                      {
                        "bin_start": 1.3,
                        "bin_end": 1.4,
                        "count": 0
                      },
                      {
                        "bin_start": 1.4,
                        "bin_end": 1.5,
                        "count": 0
                      }
                    ]
                  }
                },
                {
                  "name": "don",
                  "dtype": "int64",
                  "stats": {
                    "unique_count": 2,
                    "nan_count": 0,
                    "min": "1",
                    "max": "2",
                    "histogram": [
                      {
                        "bin_start": 1,
                        "bin_end": 1.1,
                        "count": 1
                      },
                      {
                        "bin_start": 1.1,
                        "bin_end": 1.2,
                        "count": 0
                      },
                      {
                        "bin_start": 1.2,
                        "bin_end": 1.3,
                        "count": 0
                      },
                      {
                        "bin_start": 1.3,
                        "bin_end": 1.4,
                        "count": 0
                      },
                      {
                        "bin_start": 1.4,
                        "bin_end": 1.5,
                        "count": 0
                      },
                      {
                        "bin_start": 1.5,
                        "bin_end": 1.6,
                        "count": 0
                      },
                      {
                        "bin_start": 1.6,
                        "bin_end": 1.7000000000000002,
                        "count": 0
                      },
                      {
                        "bin_start": 1.7000000000000002,
                        "bin_end": 1.8,
                        "count": 0
                      },
                      {
                        "bin_start": 1.8,
                        "bin_end": 1.9,
                        "count": 0
                      },
                      {
                        "bin_start": 1.9,
                        "bin_end": 2,
                        "count": 1
                      }
                    ]
                  }
                },
                {
                  "name": "down",
                  "dtype": "int64",
                  "stats": {
                    "unique_count": 1,
                    "nan_count": 0,
                    "min": "1",
                    "max": "1",
                    "histogram": [
                      {
                        "bin_start": 0.5,
                        "bin_end": 0.6,
                        "count": 0
                      },
                      {
                        "bin_start": 0.6,
                        "bin_end": 0.7,
                        "count": 0
                      },
                      {
                        "bin_start": 0.7,
                        "bin_end": 0.8,
                        "count": 0
                      },
                      {
                        "bin_start": 0.8,
                        "bin_end": 0.9,
                        "count": 0
                      },
                      {
                        "bin_start": 0.9,
                        "bin_end": 1,
                        "count": 0
                      },
                      {
                        "bin_start": 1,
                        "bin_end": 1.1,
                        "count": 2
                      },
                      {
                        "bin_start": 1.1,
                        "bin_end": 1.2000000000000002,
                        "count": 0
                      },
                      {
                        "bin_start": 1.2000000000000002,
                        "bin_end": 1.3,
                        "count": 0
                      },
                      {
                        "bin_start": 1.3,
                        "bin_end": 1.4,
                        "count": 0
                      },
                      {
                        "bin_start": 1.4,
                        "bin_end": 1.5,
                        "count": 0
                      }
                    ]
                  }
                },
                {
                  "name": "during",
                  "dtype": "int64",
                  "stats": {
                    "unique_count": 1,
                    "nan_count": 0,
                    "min": "1",
                    "max": "1",
                    "histogram": [
                      {
                        "bin_start": 0.5,
                        "bin_end": 0.6,
                        "count": 0
                      },
                      {
                        "bin_start": 0.6,
                        "bin_end": 0.7,
                        "count": 0
                      },
                      {
                        "bin_start": 0.7,
                        "bin_end": 0.8,
                        "count": 0
                      },
                      {
                        "bin_start": 0.8,
                        "bin_end": 0.9,
                        "count": 0
                      },
                      {
                        "bin_start": 0.9,
                        "bin_end": 1,
                        "count": 0
                      },
                      {
                        "bin_start": 1,
                        "bin_end": 1.1,
                        "count": 2
                      },
                      {
                        "bin_start": 1.1,
                        "bin_end": 1.2000000000000002,
                        "count": 0
                      },
                      {
                        "bin_start": 1.2000000000000002,
                        "bin_end": 1.3,
                        "count": 0
                      },
                      {
                        "bin_start": 1.3,
                        "bin_end": 1.4,
                        "count": 0
                      },
                      {
                        "bin_start": 1.4,
                        "bin_end": 1.5,
                        "count": 0
                      }
                    ]
                  }
                },
                {
                  "name": "early",
                  "dtype": "int64",
                  "stats": {
                    "unique_count": 1,
                    "nan_count": 0,
                    "min": "1",
                    "max": "1",
                    "histogram": [
                      {
                        "bin_start": 0.5,
                        "bin_end": 0.6,
                        "count": 0
                      },
                      {
                        "bin_start": 0.6,
                        "bin_end": 0.7,
                        "count": 0
                      },
                      {
                        "bin_start": 0.7,
                        "bin_end": 0.8,
                        "count": 0
                      },
                      {
                        "bin_start": 0.8,
                        "bin_end": 0.9,
                        "count": 0
                      },
                      {
                        "bin_start": 0.9,
                        "bin_end": 1,
                        "count": 0
                      },
                      {
                        "bin_start": 1,
                        "bin_end": 1.1,
                        "count": 2
                      },
                      {
                        "bin_start": 1.1,
                        "bin_end": 1.2000000000000002,
                        "count": 0
                      },
                      {
                        "bin_start": 1.2000000000000002,
                        "bin_end": 1.3,
                        "count": 0
                      },
                      {
                        "bin_start": 1.3,
                        "bin_end": 1.4,
                        "count": 0
                      },
                      {
                        "bin_start": 1.4,
                        "bin_end": 1.5,
                        "count": 0
                      }
                    ]
                  }
                },
                {
                  "name": "even",
                  "dtype": "int64",
                  "stats": {
                    "unique_count": 2,
                    "nan_count": 0,
                    "min": "0",
                    "max": "1",
                    "histogram": [
                      {
                        "bin_start": 0,
                        "bin_end": 0.1,
                        "count": 1
                      },
                      {
                        "bin_start": 0.1,
                        "bin_end": 0.2,
                        "count": 0
                      },
                      {
                        "bin_start": 0.2,
                        "bin_end": 0.30000000000000004,
                        "count": 0
                      },
                      {
                        "bin_start": 0.30000000000000004,
                        "bin_end": 0.4,
                        "count": 0
                      },
                      {
                        "bin_start": 0.4,
                        "bin_end": 0.5,
                        "count": 0
                      },
                      {
                        "bin_start": 0.5,
                        "bin_end": 0.6000000000000001,
                        "count": 0
                      },
                      {
                        "bin_start": 0.6000000000000001,
                        "bin_end": 0.7000000000000001,
                        "count": 0
                      },
                      {
                        "bin_start": 0.7000000000000001,
                        "bin_end": 0.8,
                        "count": 0
                      },
                      {
                        "bin_start": 0.8,
                        "bin_end": 0.9,
                        "count": 0
                      },
                      {
                        "bin_start": 0.9,
                        "bin_end": 1,
                        "count": 1
                      }
                    ]
                  }
                },
                {
                  "name": "evening",
                  "dtype": "int64",
                  "stats": {
                    "unique_count": 1,
                    "nan_count": 0,
                    "min": "1",
                    "max": "1",
                    "histogram": [
                      {
                        "bin_start": 0.5,
                        "bin_end": 0.6,
                        "count": 0
                      },
                      {
                        "bin_start": 0.6,
                        "bin_end": 0.7,
                        "count": 0
                      },
                      {
                        "bin_start": 0.7,
                        "bin_end": 0.8,
                        "count": 0
                      },
                      {
                        "bin_start": 0.8,
                        "bin_end": 0.9,
                        "count": 0
                      },
                      {
                        "bin_start": 0.9,
                        "bin_end": 1,
                        "count": 0
                      },
                      {
                        "bin_start": 1,
                        "bin_end": 1.1,
                        "count": 2
                      },
                      {
                        "bin_start": 1.1,
                        "bin_end": 1.2000000000000002,
                        "count": 0
                      },
                      {
                        "bin_start": 1.2000000000000002,
                        "bin_end": 1.3,
                        "count": 0
                      },
                      {
                        "bin_start": 1.3,
                        "bin_end": 1.4,
                        "count": 0
                      },
                      {
                        "bin_start": 1.4,
                        "bin_end": 1.5,
                        "count": 0
                      }
                    ]
                  }
                },
                {
                  "name": "extremely",
                  "dtype": "int64",
                  "stats": {
                    "unique_count": 2,
                    "nan_count": 0,
                    "min": "0",
                    "max": "1",
                    "histogram": [
                      {
                        "bin_start": 0,
                        "bin_end": 0.1,
                        "count": 1
                      },
                      {
                        "bin_start": 0.1,
                        "bin_end": 0.2,
                        "count": 0
                      },
                      {
                        "bin_start": 0.2,
                        "bin_end": 0.30000000000000004,
                        "count": 0
                      },
                      {
                        "bin_start": 0.30000000000000004,
                        "bin_end": 0.4,
                        "count": 0
                      },
                      {
                        "bin_start": 0.4,
                        "bin_end": 0.5,
                        "count": 0
                      },
                      {
                        "bin_start": 0.5,
                        "bin_end": 0.6000000000000001,
                        "count": 0
                      },
                      {
                        "bin_start": 0.6000000000000001,
                        "bin_end": 0.7000000000000001,
                        "count": 0
                      },
                      {
                        "bin_start": 0.7000000000000001,
                        "bin_end": 0.8,
                        "count": 0
                      },
                      {
                        "bin_start": 0.8,
                        "bin_end": 0.9,
                        "count": 0
                      },
                      {
                        "bin_start": 0.9,
                        "bin_end": 1,
                        "count": 1
                      }
                    ]
                  }
                },
                {
                  "name": "find",
                  "dtype": "int64",
                  "stats": {
                    "unique_count": 1,
                    "nan_count": 0,
                    "min": "1",
                    "max": "1",
                    "histogram": [
                      {
                        "bin_start": 0.5,
                        "bin_end": 0.6,
                        "count": 0
                      },
                      {
                        "bin_start": 0.6,
                        "bin_end": 0.7,
                        "count": 0
                      },
                      {
                        "bin_start": 0.7,
                        "bin_end": 0.8,
                        "count": 0
                      },
                      {
                        "bin_start": 0.8,
                        "bin_end": 0.9,
                        "count": 0
                      },
                      {
                        "bin_start": 0.9,
                        "bin_end": 1,
                        "count": 0
                      },
                      {
                        "bin_start": 1,
                        "bin_end": 1.1,
                        "count": 2
                      },
                      {
                        "bin_start": 1.1,
                        "bin_end": 1.2000000000000002,
                        "count": 0
                      },
                      {
                        "bin_start": 1.2000000000000002,
                        "bin_end": 1.3,
                        "count": 0
                      },
                      {
                        "bin_start": 1.3,
                        "bin_end": 1.4,
                        "count": 0
                      },
                      {
                        "bin_start": 1.4,
                        "bin_end": 1.5,
                        "count": 0
                      }
                    ]
                  }
                },
                {
                  "name": "floor",
                  "dtype": "int64",
                  "stats": {
                    "unique_count": 1,
                    "nan_count": 0,
                    "min": "2",
                    "max": "2",
                    "histogram": [
                      {
                        "bin_start": 1.5,
                        "bin_end": 1.6,
                        "count": 0
                      },
                      {
                        "bin_start": 1.6,
                        "bin_end": 1.7,
                        "count": 0
                      },
                      {
                        "bin_start": 1.7,
                        "bin_end": 1.8,
                        "count": 0
                      },
                      {
                        "bin_start": 1.8,
                        "bin_end": 1.9,
                        "count": 0
                      },
                      {
                        "bin_start": 1.9,
                        "bin_end": 2,
                        "count": 0
                      },
                      {
                        "bin_start": 2,
                        "bin_end": 2.1,
                        "count": 2
                      },
                      {
                        "bin_start": 2.1,
                        "bin_end": 2.2,
                        "count": 0
                      },
                      {
                        "bin_start": 2.2,
                        "bin_end": 2.3,
                        "count": 0
                      },
                      {
                        "bin_start": 2.3,
                        "bin_end": 2.4,
                        "count": 0
                      },
                      {
                        "bin_start": 2.4,
                        "bin_end": 2.5,
                        "count": 0
                      }
                    ]
                  }
                },
                {
                  "name": "for",
                  "dtype": "int64",
                  "stats": {
                    "unique_count": 1,
                    "nan_count": 0,
                    "min": "1",
                    "max": "1",
                    "histogram": [
                      {
                        "bin_start": 0.5,
                        "bin_end": 0.6,
                        "count": 0
                      },
                      {
                        "bin_start": 0.6,
                        "bin_end": 0.7,
                        "count": 0
                      },
                      {
                        "bin_start": 0.7,
                        "bin_end": 0.8,
                        "count": 0
                      },
                      {
                        "bin_start": 0.8,
                        "bin_end": 0.9,
                        "count": 0
                      },
                      {
                        "bin_start": 0.9,
                        "bin_end": 1,
                        "count": 0
                      },
                      {
                        "bin_start": 1,
                        "bin_end": 1.1,
                        "count": 2
                      },
                      {
                        "bin_start": 1.1,
                        "bin_end": 1.2000000000000002,
                        "count": 0
                      },
                      {
                        "bin_start": 1.2000000000000002,
                        "bin_end": 1.3,
                        "count": 0
                      },
                      {
                        "bin_start": 1.3,
                        "bin_end": 1.4,
                        "count": 0
                      },
                      {
                        "bin_start": 1.4,
                        "bin_end": 1.5,
                        "count": 0
                      }
                    ]
                  }
                },
                {
                  "name": "gave",
                  "dtype": "int64",
                  "stats": {
                    "unique_count": 2,
                    "nan_count": 0,
                    "min": "0",
                    "max": "1",
                    "histogram": [
                      {
                        "bin_start": 0,
                        "bin_end": 0.1,
                        "count": 1
                      },
                      {
                        "bin_start": 0.1,
                        "bin_end": 0.2,
                        "count": 0
                      },
                      {
                        "bin_start": 0.2,
                        "bin_end": 0.30000000000000004,
                        "count": 0
                      },
                      {
                        "bin_start": 0.30000000000000004,
                        "bin_end": 0.4,
                        "count": 0
                      },
                      {
                        "bin_start": 0.4,
                        "bin_end": 0.5,
                        "count": 0
                      },
                      {
                        "bin_start": 0.5,
                        "bin_end": 0.6000000000000001,
                        "count": 0
                      },
                      {
                        "bin_start": 0.6000000000000001,
                        "bin_end": 0.7000000000000001,
                        "count": 0
                      },
                      {
                        "bin_start": 0.7000000000000001,
                        "bin_end": 0.8,
                        "count": 0
                      },
                      {
                        "bin_start": 0.8,
                        "bin_end": 0.9,
                        "count": 0
                      },
                      {
                        "bin_start": 0.9,
                        "bin_end": 1,
                        "count": 1
                      }
                    ]
                  }
                },
                {
                  "name": "get",
                  "dtype": "int64",
                  "stats": {
                    "unique_count": 2,
                    "nan_count": 0,
                    "min": "0",
                    "max": "1",
                    "histogram": [
                      {
                        "bin_start": 0,
                        "bin_end": 0.1,
                        "count": 1
                      },
                      {
                        "bin_start": 0.1,
                        "bin_end": 0.2,
                        "count": 0
                      },
                      {
                        "bin_start": 0.2,
                        "bin_end": 0.30000000000000004,
                        "count": 0
                      },
                      {
                        "bin_start": 0.30000000000000004,
                        "bin_end": 0.4,
                        "count": 0
                      },
                      {
                        "bin_start": 0.4,
                        "bin_end": 0.5,
                        "count": 0
                      },
                      {
                        "bin_start": 0.5,
                        "bin_end": 0.6000000000000001,
                        "count": 0
                      },
                      {
                        "bin_start": 0.6000000000000001,
                        "bin_end": 0.7000000000000001,
                        "count": 0
                      },
                      {
                        "bin_start": 0.7000000000000001,
                        "bin_end": 0.8,
                        "count": 0
                      },
                      {
                        "bin_start": 0.8,
                        "bin_end": 0.9,
                        "count": 0
                      },
                      {
                        "bin_start": 0.9,
                        "bin_end": 1,
                        "count": 1
                      }
                    ]
                  }
                },
                {
                  "name": "had",
                  "dtype": "int64",
                  "stats": {
                    "unique_count": 1,
                    "nan_count": 0,
                    "min": "1",
                    "max": "1",
                    "histogram": [
                      {
                        "bin_start": 0.5,
                        "bin_end": 0.6,
                        "count": 0
                      },
                      {
                        "bin_start": 0.6,
                        "bin_end": 0.7,
                        "count": 0
                      },
                      {
                        "bin_start": 0.7,
                        "bin_end": 0.8,
                        "count": 0
                      },
                      {
                        "bin_start": 0.8,
                        "bin_end": 0.9,
                        "count": 0
                      },
                      {
                        "bin_start": 0.9,
                        "bin_end": 1,
                        "count": 0
                      },
                      {
                        "bin_start": 1,
                        "bin_end": 1.1,
                        "count": 2
                      },
                      {
                        "bin_start": 1.1,
                        "bin_end": 1.2000000000000002,
                        "count": 0
                      },
                      {
                        "bin_start": 1.2000000000000002,
                        "bin_end": 1.3,
                        "count": 0
                      },
                      {
                        "bin_start": 1.3,
                        "bin_end": 1.4,
                        "count": 0
                      },
                      {
                        "bin_start": 1.4,
                        "bin_end": 1.5,
                        "count": 0
                      }
                    ]
                  }
                },
                {
                  "name": "he",
                  "dtype": "int64",
                  "stats": {
                    "unique_count": 2,
                    "nan_count": 0,
                    "min": "1",
                    "max": "3",
                    "histogram": [
                      {
                        "bin_start": 1,
                        "bin_end": 1.2,
                        "count": 1
                      },
                      {
                        "bin_start": 1.2,
                        "bin_end": 1.4,
                        "count": 0
                      },
                      {
                        "bin_start": 1.4,
                        "bin_end": 1.6,
                        "count": 0
                      },
                      {
                        "bin_start": 1.6,
                        "bin_end": 1.8,
                        "count": 0
                      },
                      {
                        "bin_start": 1.8,
                        "bin_end": 2,
                        "count": 0
                      },
                      {
                        "bin_start": 2,
                        "bin_end": 2.2,
                        "count": 0
                      },
                      {
                        "bin_start": 2.2,
                        "bin_end": 2.4000000000000004,
                        "count": 0
                      },
                      {
                        "bin_start": 2.4000000000000004,
                        "bin_end": 2.6,
                        "count": 0
                      },
                      {
                        "bin_start": 2.6,
                        "bin_end": 2.8,
                        "count": 0
                      },
                      {
                        "bin_start": 2.8,
                        "bin_end": 3,
                        "count": 1
                      }
                    ]
                  }
                },
                {
                  "name": "him",
                  "dtype": "int64",
                  "stats": {
                    "unique_count": 2,
                    "nan_count": 0,
                    "min": "0",
                    "max": "1",
                    "histogram": [
                      {
                        "bin_start": 0,
                        "bin_end": 0.1,
                        "count": 1
                      },
                      {
                        "bin_start": 0.1,
                        "bin_end": 0.2,
                        "count": 0
                      },
                      {
                        "bin_start": 0.2,
                        "bin_end": 0.30000000000000004,
                        "count": 0
                      },
                      {
                        "bin_start": 0.30000000000000004,
                        "bin_end": 0.4,
                        "count": 0
                      },
                      {
                        "bin_start": 0.4,
                        "bin_end": 0.5,
                        "count": 0
                      },
                      {
                        "bin_start": 0.5,
                        "bin_end": 0.6000000000000001,
                        "count": 0
                      },
                      {
                        "bin_start": 0.6000000000000001,
                        "bin_end": 0.7000000000000001,
                        "count": 0
                      },
                      {
                        "bin_start": 0.7000000000000001,
                        "bin_end": 0.8,
                        "count": 0
                      },
                      {
                        "bin_start": 0.8,
                        "bin_end": 0.9,
                        "count": 0
                      },
                      {
                        "bin_start": 0.9,
                        "bin_end": 1,
                        "count": 1
                      }
                    ]
                  }
                },
                {
                  "name": "his",
                  "dtype": "int64",
                  "stats": {
                    "unique_count": 1,
                    "nan_count": 0,
                    "min": "2",
                    "max": "2",
                    "histogram": [
                      {
                        "bin_start": 1.5,
                        "bin_end": 1.6,
                        "count": 0
                      },
                      {
                        "bin_start": 1.6,
                        "bin_end": 1.7,
                        "count": 0
                      },
                      {
                        "bin_start": 1.7,
                        "bin_end": 1.8,
                        "count": 0
                      },
                      {
                        "bin_start": 1.8,
                        "bin_end": 1.9,
                        "count": 0
                      },
                      {
                        "bin_start": 1.9,
                        "bin_end": 2,
                        "count": 0
                      },
                      {
                        "bin_start": 2,
                        "bin_end": 2.1,
                        "count": 2
                      },
                      {
                        "bin_start": 2.1,
                        "bin_end": 2.2,
                        "count": 0
                      },
                      {
                        "bin_start": 2.2,
                        "bin_end": 2.3,
                        "count": 0
                      },
                      {
                        "bin_start": 2.3,
                        "bin_end": 2.4,
                        "count": 0
                      },
                      {
                        "bin_start": 2.4,
                        "bin_end": 2.5,
                        "count": 0
                      }
                    ]
                  }
                },
                {
                  "name": "ignore",
                  "dtype": "int64",
                  "stats": {
                    "unique_count": 2,
                    "nan_count": 0,
                    "min": "0",
                    "max": "1",
                    "histogram": [
                      {
                        "bin_start": 0,
                        "bin_end": 0.1,
                        "count": 1
                      },
                      {
                        "bin_start": 0.1,
                        "bin_end": 0.2,
                        "count": 0
                      },
                      {
                        "bin_start": 0.2,
                        "bin_end": 0.30000000000000004,
                        "count": 0
                      },
                      {
                        "bin_start": 0.30000000000000004,
                        "bin_end": 0.4,
                        "count": 0
                      },
                      {
                        "bin_start": 0.4,
                        "bin_end": 0.5,
                        "count": 0
                      },
                      {
                        "bin_start": 0.5,
                        "bin_end": 0.6000000000000001,
                        "count": 0
                      },
                      {
                        "bin_start": 0.6000000000000001,
                        "bin_end": 0.7000000000000001,
                        "count": 0
                      },
                      {
                        "bin_start": 0.7000000000000001,
                        "bin_end": 0.8,
                        "count": 0
                      },
                      {
                        "bin_start": 0.8,
                        "bin_end": 0.9,
                        "count": 0
                      },
                      {
                        "bin_start": 0.9,
                        "bin_end": 1,
                        "count": 1
                      }
                    ]
                  }
                },
                {
                  "name": "ignored",
                  "dtype": "int64",
                  "stats": {
                    "unique_count": 2,
                    "nan_count": 0,
                    "min": "0",
                    "max": "1",
                    "histogram": [
                      {
                        "bin_start": 0,
                        "bin_end": 0.1,
                        "count": 1
                      },
                      {
                        "bin_start": 0.1,
                        "bin_end": 0.2,
                        "count": 0
                      },
                      {
                        "bin_start": 0.2,
                        "bin_end": 0.30000000000000004,
                        "count": 0
                      },
                      {
                        "bin_start": 0.30000000000000004,
                        "bin_end": 0.4,
                        "count": 0
                      },
                      {
                        "bin_start": 0.4,
                        "bin_end": 0.5,
                        "count": 0
                      },
                      {
                        "bin_start": 0.5,
                        "bin_end": 0.6000000000000001,
                        "count": 0
                      },
                      {
                        "bin_start": 0.6000000000000001,
                        "bin_end": 0.7000000000000001,
                        "count": 0
                      },
                      {
                        "bin_start": 0.7000000000000001,
                        "bin_end": 0.8,
                        "count": 0
                      },
                      {
                        "bin_start": 0.8,
                        "bin_end": 0.9,
                        "count": 0
                      },
                      {
                        "bin_start": 0.9,
                        "bin_end": 1,
                        "count": 1
                      }
                    ]
                  }
                },
                {
                  "name": "in",
                  "dtype": "int64",
                  "stats": {
                    "unique_count": 1,
                    "nan_count": 0,
                    "min": "5",
                    "max": "5",
                    "histogram": [
                      {
                        "bin_start": 4.5,
                        "bin_end": 4.6,
                        "count": 0
                      },
                      {
                        "bin_start": 4.6,
                        "bin_end": 4.7,
                        "count": 0
                      },
                      {
                        "bin_start": 4.7,
                        "bin_end": 4.8,
                        "count": 0
                      },
                      {
                        "bin_start": 4.8,
                        "bin_end": 4.9,
                        "count": 0
                      },
                      {
                        "bin_start": 4.9,
                        "bin_end": 5,
                        "count": 0
                      },
                      {
                        "bin_start": 5,
                        "bin_end": 5.1,
                        "count": 2
                      },
                      {
                        "bin_start": 5.1,
                        "bin_end": 5.2,
                        "count": 0
                      },
                      {
                        "bin_start": 5.2,
                        "bin_end": 5.3,
                        "count": 0
                      },
                      {
                        "bin_start": 5.3,
                        "bin_end": 5.4,
                        "count": 0
                      },
                      {
                        "bin_start": 5.4,
                        "bin_end": 5.5,
                        "count": 0
                      }
                    ]
                  }
                },
                {
                  "name": "insinuating",
                  "dtype": "int64",
                  "stats": {
                    "unique_count": 2,
                    "nan_count": 0,
                    "min": "0",
                    "max": "1",
                    "histogram": [
                      {
                        "bin_start": 0,
                        "bin_end": 0.1,
                        "count": 1
                      },
                      {
                        "bin_start": 0.1,
                        "bin_end": 0.2,
                        "count": 0
                      },
                      {
                        "bin_start": 0.2,
                        "bin_end": 0.30000000000000004,
                        "count": 0
                      },
                      {
                        "bin_start": 0.30000000000000004,
                        "bin_end": 0.4,
                        "count": 0
                      },
                      {
                        "bin_start": 0.4,
                        "bin_end": 0.5,
                        "count": 0
                      },
                      {
                        "bin_start": 0.5,
                        "bin_end": 0.6000000000000001,
                        "count": 0
                      },
                      {
                        "bin_start": 0.6000000000000001,
                        "bin_end": 0.7000000000000001,
                        "count": 0
                      },
                      {
                        "bin_start": 0.7000000000000001,
                        "bin_end": 0.8,
                        "count": 0
                      },
                      {
                        "bin_start": 0.8,
                        "bin_end": 0.9,
                        "count": 0
                      },
                      {
                        "bin_start": 0.9,
                        "bin_end": 1,
                        "count": 1
                      }
                    ]
                  }
                },
                {
                  "name": "it",
                  "dtype": "int64",
                  "stats": {
                    "unique_count": 2,
                    "nan_count": 0,
                    "min": "1",
                    "max": "6",
                    "histogram": [
                      {
                        "bin_start": 1,
                        "bin_end": 1.5,
                        "count": 1
                      },
                      {
                        "bin_start": 1.5,
                        "bin_end": 2,
                        "count": 0
                      },
                      {
                        "bin_start": 2,
                        "bin_end": 2.5,
                        "count": 0
                      },
                      {
                        "bin_start": 2.5,
                        "bin_end": 3,
                        "count": 0
                      },
                      {
                        "bin_start": 3,
                        "bin_end": 3.5,
                        "count": 0
                      },
                      {
                        "bin_start": 3.5,
                        "bin_end": 4,
                        "count": 0
                      },
                      {
                        "bin_start": 4,
                        "bin_end": 4.5,
                        "count": 0
                      },
                      {
                        "bin_start": 4.5,
                        "bin_end": 5,
                        "count": 0
                      },
                      {
                        "bin_start": 5,
                        "bin_end": 5.5,
                        "count": 0
                      },
                      {
                        "bin_start": 5.5,
                        "bin_end": 6,
                        "count": 1
                      }
                    ]
                  }
                },
                {
                  "name": "items",
                  "dtype": "int64",
                  "stats": {
                    "unique_count": 1,
                    "nan_count": 0,
                    "min": "1",
                    "max": "1",
                    "histogram": [
                      {
                        "bin_start": 0.5,
                        "bin_end": 0.6,
                        "count": 0
                      },
                      {
                        "bin_start": 0.6,
                        "bin_end": 0.7,
                        "count": 0
                      },
                      {
                        "bin_start": 0.7,
                        "bin_end": 0.8,
                        "count": 0
                      },
                      {
                        "bin_start": 0.8,
                        "bin_end": 0.9,
                        "count": 0
                      },
                      {
                        "bin_start": 0.9,
                        "bin_end": 1,
                        "count": 0
                      },
                      {
                        "bin_start": 1,
                        "bin_end": 1.1,
                        "count": 2
                      },
                      {
                        "bin_start": 1.1,
                        "bin_end": 1.2000000000000002,
                        "count": 0
                      },
                      {
                        "bin_start": 1.2000000000000002,
                        "bin_end": 1.3,
                        "count": 0
                      },
                      {
                        "bin_start": 1.3,
                        "bin_end": 1.4,
                        "count": 0
                      },
                      {
                        "bin_start": 1.4,
                        "bin_end": 1.5,
                        "count": 0
                      }
                    ]
                  }
                },
                {
                  "name": "just",
                  "dtype": "int64",
                  "stats": {
                    "unique_count": 2,
                    "nan_count": 0,
                    "min": "0",
                    "max": "2",
                    "histogram": [
                      {
                        "bin_start": 0,
                        "bin_end": 0.2,
                        "count": 1
                      },
                      {
                        "bin_start": 0.2,
                        "bin_end": 0.4,
                        "count": 0
                      },
                      {
                        "bin_start": 0.4,
                        "bin_end": 0.6000000000000001,
                        "count": 0
                      },
                      {
                        "bin_start": 0.6000000000000001,
                        "bin_end": 0.8,
                        "count": 0
                      },
                      {
                        "bin_start": 0.8,
                        "bin_end": 1,
                        "count": 0
                      },
                      {
                        "bin_start": 1,
                        "bin_end": 1.2000000000000002,
                        "count": 0
                      },
                      {
                        "bin_start": 1.2000000000000002,
                        "bin_end": 1.4000000000000001,
                        "count": 0
                      },
                      {
                        "bin_start": 1.4000000000000001,
                        "bin_end": 1.6,
                        "count": 0
                      },
                      {
                        "bin_start": 1.6,
                        "bin_end": 1.8,
                        "count": 0
                      },
                      {
                        "bin_start": 1.8,
                        "bin_end": 2,
                        "count": 1
                      }
                    ]
                  }
                },
                {
                  "name": "kept",
                  "dtype": "int64",
                  "stats": {
                    "unique_count": 1,
                    "nan_count": 0,
                    "min": "1",
                    "max": "1",
                    "histogram": [
                      {
                        "bin_start": 0.5,
                        "bin_end": 0.6,
                        "count": 0
                      },
                      {
                        "bin_start": 0.6,
                        "bin_end": 0.7,
                        "count": 0
                      },
                      {
                        "bin_start": 0.7,
                        "bin_end": 0.8,
                        "count": 0
                      },
                      {
                        "bin_start": 0.8,
                        "bin_end": 0.9,
                        "count": 0
                      },
                      {
                        "bin_start": 0.9,
                        "bin_end": 1,
                        "count": 0
                      },
                      {
                        "bin_start": 1,
                        "bin_end": 1.1,
                        "count": 2
                      },
                      {
                        "bin_start": 1.1,
                        "bin_end": 1.2000000000000002,
                        "count": 0
                      },
                      {
                        "bin_start": 1.2000000000000002,
                        "bin_end": 1.3,
                        "count": 0
                      },
                      {
                        "bin_start": 1.3,
                        "bin_end": 1.4,
                        "count": 0
                      },
                      {
                        "bin_start": 1.4,
                        "bin_end": 1.5,
                        "count": 0
                      }
                    ]
                  }
                },
                {
                  "name": "knelt",
                  "dtype": "int64",
                  "stats": {
                    "unique_count": 1,
                    "nan_count": 0,
                    "min": "1",
                    "max": "1",
                    "histogram": [
                      {
                        "bin_start": 0.5,
                        "bin_end": 0.6,
                        "count": 0
                      },
                      {
                        "bin_start": 0.6,
                        "bin_end": 0.7,
                        "count": 0
                      },
                      {
                        "bin_start": 0.7,
                        "bin_end": 0.8,
                        "count": 0
                      },
                      {
                        "bin_start": 0.8,
                        "bin_end": 0.9,
                        "count": 0
                      },
                      {
                        "bin_start": 0.9,
                        "bin_end": 1,
                        "count": 0
                      },
                      {
                        "bin_start": 1,
                        "bin_end": 1.1,
                        "count": 2
                      },
                      {
                        "bin_start": 1.1,
                        "bin_end": 1.2000000000000002,
                        "count": 0
                      },
                      {
                        "bin_start": 1.2000000000000002,
                        "bin_end": 1.3,
                        "count": 0
                      },
                      {
                        "bin_start": 1.3,
                        "bin_end": 1.4,
                        "count": 0
                      },
                      {
                        "bin_start": 1.4,
                        "bin_end": 1.5,
                        "count": 0
                      }
                    ]
                  }
                },
                {
                  "name": "late",
                  "dtype": "int64",
                  "stats": {
                    "unique_count": 1,
                    "nan_count": 0,
                    "min": "1",
                    "max": "1",
                    "histogram": [
                      {
                        "bin_start": 0.5,
                        "bin_end": 0.6,
                        "count": 0
                      },
                      {
                        "bin_start": 0.6,
                        "bin_end": 0.7,
                        "count": 0
                      },
                      {
                        "bin_start": 0.7,
                        "bin_end": 0.8,
                        "count": 0
                      },
                      {
                        "bin_start": 0.8,
                        "bin_end": 0.9,
                        "count": 0
                      },
                      {
                        "bin_start": 0.9,
                        "bin_end": 1,
                        "count": 0
                      },
                      {
                        "bin_start": 1,
                        "bin_end": 1.1,
                        "count": 2
                      },
                      {
                        "bin_start": 1.1,
                        "bin_end": 1.2000000000000002,
                        "count": 0
                      },
                      {
                        "bin_start": 1.2000000000000002,
                        "bin_end": 1.3,
                        "count": 0
                      },
                      {
                        "bin_start": 1.3,
                        "bin_end": 1.4,
                        "count": 0
                      },
                      {
                        "bin_start": 1.4,
                        "bin_end": 1.5,
                        "count": 0
                      }
                    ]
                  }
                },
                {
                  "name": "left",
                  "dtype": "int64",
                  "stats": {
                    "unique_count": 2,
                    "nan_count": 0,
                    "min": "0",
                    "max": "1",
                    "histogram": [
                      {
                        "bin_start": 0,
                        "bin_end": 0.1,
                        "count": 1
                      },
                      {
                        "bin_start": 0.1,
                        "bin_end": 0.2,
                        "count": 0
                      },
                      {
                        "bin_start": 0.2,
                        "bin_end": 0.30000000000000004,
                        "count": 0
                      },
                      {
                        "bin_start": 0.30000000000000004,
                        "bin_end": 0.4,
                        "count": 0
                      },
                      {
                        "bin_start": 0.4,
                        "bin_end": 0.5,
                        "count": 0
                      },
                      {
                        "bin_start": 0.5,
                        "bin_end": 0.6000000000000001,
                        "count": 0
                      },
                      {
                        "bin_start": 0.6000000000000001,
                        "bin_end": 0.7000000000000001,
                        "count": 0
                      },
                      {
                        "bin_start": 0.7000000000000001,
                        "bin_end": 0.8,
                        "count": 0
                      },
                      {
                        "bin_start": 0.8,
                        "bin_end": 0.9,
                        "count": 0
                      },
                      {
                        "bin_start": 0.9,
                        "bin_end": 1,
                        "count": 1
                      }
                    ]
                  }
                },
                {
                  "name": "makes",
                  "dtype": "int64",
                  "stats": {
                    "unique_count": 2,
                    "nan_count": 0,
                    "min": "0",
                    "max": "1",
                    "histogram": [
                      {
                        "bin_start": 0,
                        "bin_end": 0.1,
                        "count": 1
                      },
                      {
                        "bin_start": 0.1,
                        "bin_end": 0.2,
                        "count": 0
                      },
                      {
                        "bin_start": 0.2,
                        "bin_end": 0.30000000000000004,
                        "count": 0
                      },
                      {
                        "bin_start": 0.30000000000000004,
                        "bin_end": 0.4,
                        "count": 0
                      },
                      {
                        "bin_start": 0.4,
                        "bin_end": 0.5,
                        "count": 0
                      },
                      {
                        "bin_start": 0.5,
                        "bin_end": 0.6000000000000001,
                        "count": 0
                      },
                      {
                        "bin_start": 0.6000000000000001,
                        "bin_end": 0.7000000000000001,
                        "count": 0
                      },
                      {
                        "bin_start": 0.7000000000000001,
                        "bin_end": 0.8,
                        "count": 0
                      },
                      {
                        "bin_start": 0.8,
                        "bin_end": 0.9,
                        "count": 0
                      },
                      {
                        "bin_start": 0.9,
                        "bin_end": 1,
                        "count": 1
                      }
                    ]
                  }
                },
                {
                  "name": "man",
                  "dtype": "int64",
                  "stats": {
                    "unique_count": 1,
                    "nan_count": 0,
                    "min": "1",
                    "max": "1",
                    "histogram": [
                      {
                        "bin_start": 0.5,
                        "bin_end": 0.6,
                        "count": 0
                      },
                      {
                        "bin_start": 0.6,
                        "bin_end": 0.7,
                        "count": 0
                      },
                      {
                        "bin_start": 0.7,
                        "bin_end": 0.8,
                        "count": 0
                      },
                      {
                        "bin_start": 0.8,
                        "bin_end": 0.9,
                        "count": 0
                      },
                      {
                        "bin_start": 0.9,
                        "bin_end": 1,
                        "count": 0
                      },
                      {
                        "bin_start": 1,
                        "bin_end": 1.1,
                        "count": 2
                      },
                      {
                        "bin_start": 1.1,
                        "bin_end": 1.2000000000000002,
                        "count": 0
                      },
                      {
                        "bin_start": 1.2000000000000002,
                        "bin_end": 1.3,
                        "count": 0
                      },
                      {
                        "bin_start": 1.3,
                        "bin_end": 1.4,
                        "count": 0
                      },
                      {
                        "bin_start": 1.4,
                        "bin_end": 1.5,
                        "count": 0
                      }
                    ]
                  }
                },
                {
                  "name": "manager",
                  "dtype": "int64",
                  "stats": {
                    "unique_count": 2,
                    "nan_count": 0,
                    "min": "1",
                    "max": "2",
                    "histogram": [
                      {
                        "bin_start": 1,
                        "bin_end": 1.1,
                        "count": 1
                      },
                      {
                        "bin_start": 1.1,
                        "bin_end": 1.2,
                        "count": 0
                      },
                      {
                        "bin_start": 1.2,
                        "bin_end": 1.3,
                        "count": 0
                      },
                      {
                        "bin_start": 1.3,
                        "bin_end": 1.4,
                        "count": 0
                      },
                      {
                        "bin_start": 1.4,
                        "bin_end": 1.5,
                        "count": 0
                      },
                      {
                        "bin_start": 1.5,
                        "bin_end": 1.6,
                        "count": 0
                      },
                      {
                        "bin_start": 1.6,
                        "bin_end": 1.7000000000000002,
                        "count": 0
                      },
                      {
                        "bin_start": 1.7000000000000002,
                        "bin_end": 1.8,
                        "count": 0
                      },
                      {
                        "bin_start": 1.8,
                        "bin_end": 1.9,
                        "count": 0
                      },
                      {
                        "bin_start": 1.9,
                        "bin_end": 2,
                        "count": 1
                      }
                    ]
                  }
                },
                {
                  "name": "me",
                  "dtype": "int64",
                  "stats": {
                    "unique_count": 2,
                    "nan_count": 0,
                    "min": "0",
                    "max": "2",
                    "histogram": [
                      {
                        "bin_start": 0,
                        "bin_end": 0.2,
                        "count": 1
                      },
                      {
                        "bin_start": 0.2,
                        "bin_end": 0.4,
                        "count": 0
                      },
                      {
                        "bin_start": 0.4,
                        "bin_end": 0.6000000000000001,
                        "count": 0
                      },
                      {
                        "bin_start": 0.6000000000000001,
                        "bin_end": 0.8,
                        "count": 0
                      },
                      {
                        "bin_start": 0.8,
                        "bin_end": 1,
                        "count": 0
                      },
                      {
                        "bin_start": 1,
                        "bin_end": 1.2000000000000002,
                        "count": 0
                      },
                      {
                        "bin_start": 1.2000000000000002,
                        "bin_end": 1.4000000000000001,
                        "count": 0
                      },
                      {
                        "bin_start": 1.4000000000000001,
                        "bin_end": 1.6,
                        "count": 0
                      },
                      {
                        "bin_start": 1.6,
                        "bin_end": 1.8,
                        "count": 0
                      },
                      {
                        "bin_start": 1.8,
                        "bin_end": 2,
                        "count": 1
                      }
                    ]
                  }
                },
                {
                  "name": "mens",
                  "dtype": "int64",
                  "stats": {
                    "unique_count": 1,
                    "nan_count": 0,
                    "min": "1",
                    "max": "1",
                    "histogram": [
                      {
                        "bin_start": 0.5,
                        "bin_end": 0.6,
                        "count": 0
                      },
                      {
                        "bin_start": 0.6,
                        "bin_end": 0.7,
                        "count": 0
                      },
                      {
                        "bin_start": 0.7,
                        "bin_end": 0.8,
                        "count": 0
                      },
                      {
                        "bin_start": 0.8,
                        "bin_end": 0.9,
                        "count": 0
                      },
                      {
                        "bin_start": 0.9,
                        "bin_end": 1,
                        "count": 0
                      },
                      {
                        "bin_start": 1,
                        "bin_end": 1.1,
                        "count": 2
                      },
                      {
                        "bin_start": 1.1,
                        "bin_end": 1.2000000000000002,
                        "count": 0
                      },
                      {
                        "bin_start": 1.2000000000000002,
                        "bin_end": 1.3,
                        "count": 0
                      },
                      {
                        "bin_start": 1.3,
                        "bin_end": 1.4,
                        "count": 0
                      },
                      {
                        "bin_start": 1.4,
                        "bin_end": 1.5,
                        "count": 0
                      }
                    ]
                  }
                },
                {
                  "name": "my",
                  "dtype": "int64",
                  "stats": {
                    "unique_count": 2,
                    "nan_count": 0,
                    "min": "1",
                    "max": "2",
                    "histogram": [
                      {
                        "bin_start": 1,
                        "bin_end": 1.1,
                        "count": 1
                      },
                      {
                        "bin_start": 1.1,
                        "bin_end": 1.2,
                        "count": 0
                      },
                      {
                        "bin_start": 1.2,
                        "bin_end": 1.3,
                        "count": 0
                      },
                      {
                        "bin_start": 1.3,
                        "bin_end": 1.4,
                        "count": 0
                      },
                      {
                        "bin_start": 1.4,
                        "bin_end": 1.5,
                        "count": 0
                      },
                      {
                        "bin_start": 1.5,
                        "bin_end": 1.6,
                        "count": 0
                      },
                      {
                        "bin_start": 1.6,
                        "bin_end": 1.7000000000000002,
                        "count": 0
                      },
                      {
                        "bin_start": 1.7000000000000002,
                        "bin_end": 1.8,
                        "count": 0
                      },
                      {
                        "bin_start": 1.8,
                        "bin_end": 1.9,
                        "count": 0
                      },
                      {
                        "bin_start": 1.9,
                        "bin_end": 2,
                        "count": 1
                      }
                    ]
                  }
                },
                {
                  "name": "myself",
                  "dtype": "int64",
                  "stats": {
                    "unique_count": 1,
                    "nan_count": 0,
                    "min": "1",
                    "max": "1",
                    "histogram": [
                      {
                        "bin_start": 0.5,
                        "bin_end": 0.6,
                        "count": 0
                      },
                      {
                        "bin_start": 0.6,
                        "bin_end": 0.7,
                        "count": 0
                      },
                      {
                        "bin_start": 0.7,
                        "bin_end": 0.8,
                        "count": 0
                      },
                      {
                        "bin_start": 0.8,
                        "bin_end": 0.9,
                        "count": 0
                      },
                      {
                        "bin_start": 0.9,
                        "bin_end": 1,
                        "count": 0
                      },
                      {
                        "bin_start": 1,
                        "bin_end": 1.1,
                        "count": 2
                      },
                      {
                        "bin_start": 1.1,
                        "bin_end": 1.2000000000000002,
                        "count": 0
                      },
                      {
                        "bin_start": 1.2000000000000002,
                        "bin_end": 1.3,
                        "count": 0
                      },
                      {
                        "bin_start": 1.3,
                        "bin_end": 1.4,
                        "count": 0
                      },
                      {
                        "bin_start": 1.4,
                        "bin_end": 1.5,
                        "count": 0
                      }
                    ]
                  }
                },
                {
                  "name": "naive",
                  "dtype": "int64",
                  "stats": {
                    "unique_count": 2,
                    "nan_count": 0,
                    "min": "0",
                    "max": "1",
                    "histogram": [
                      {
                        "bin_start": 0,
                        "bin_end": 0.1,
                        "count": 1
                      },
                      {
                        "bin_start": 0.1,
                        "bin_end": 0.2,
                        "count": 0
                      },
                      {
                        "bin_start": 0.2,
                        "bin_end": 0.30000000000000004,
                        "count": 0
                      },
                      {
                        "bin_start": 0.30000000000000004,
                        "bin_end": 0.4,
                        "count": 0
                      },
                      {
                        "bin_start": 0.4,
                        "bin_end": 0.5,
                        "count": 0
                      },
                      {
                        "bin_start": 0.5,
                        "bin_end": 0.6000000000000001,
                        "count": 0
                      },
                      {
                        "bin_start": 0.6000000000000001,
                        "bin_end": 0.7000000000000001,
                        "count": 0
                      },
                      {
                        "bin_start": 0.7000000000000001,
                        "bin_end": 0.8,
                        "count": 0
                      },
                      {
                        "bin_start": 0.8,
                        "bin_end": 0.9,
                        "count": 0
                      },
                      {
                        "bin_start": 0.9,
                        "bin_end": 1,
                        "count": 1
                      }
                    ]
                  }
                },
                {
                  "name": "now",
                  "dtype": "int64",
                  "stats": {
                    "unique_count": 2,
                    "nan_count": 0,
                    "min": "0",
                    "max": "1",
                    "histogram": [
                      {
                        "bin_start": 0,
                        "bin_end": 0.1,
                        "count": 1
                      },
                      {
                        "bin_start": 0.1,
                        "bin_end": 0.2,
                        "count": 0
                      },
                      {
                        "bin_start": 0.2,
                        "bin_end": 0.30000000000000004,
                        "count": 0
                      },
                      {
                        "bin_start": 0.30000000000000004,
                        "bin_end": 0.4,
                        "count": 0
                      },
                      {
                        "bin_start": 0.4,
                        "bin_end": 0.5,
                        "count": 0
                      },
                      {
                        "bin_start": 0.5,
                        "bin_end": 0.6000000000000001,
                        "count": 0
                      },
                      {
                        "bin_start": 0.6000000000000001,
                        "bin_end": 0.7000000000000001,
                        "count": 0
                      },
                      {
                        "bin_start": 0.7000000000000001,
                        "bin_end": 0.8,
                        "count": 0
                      },
                      {
                        "bin_start": 0.8,
                        "bin_end": 0.9,
                        "count": 0
                      },
                      {
                        "bin_start": 0.9,
                        "bin_end": 1,
                        "count": 1
                      }
                    ]
                  }
                },
                {
                  "name": "of",
                  "dtype": "int64",
                  "stats": {
                    "unique_count": 1,
                    "nan_count": 0,
                    "min": "1",
                    "max": "1",
                    "histogram": [
                      {
                        "bin_start": 0.5,
                        "bin_end": 0.6,
                        "count": 0
                      },
                      {
                        "bin_start": 0.6,
                        "bin_end": 0.7,
                        "count": 0
                      },
                      {
                        "bin_start": 0.7,
                        "bin_end": 0.8,
                        "count": 0
                      },
                      {
                        "bin_start": 0.8,
                        "bin_end": 0.9,
                        "count": 0
                      },
                      {
                        "bin_start": 0.9,
                        "bin_end": 1,
                        "count": 0
                      },
                      {
                        "bin_start": 1,
                        "bin_end": 1.1,
                        "count": 2
                      },
                      {
                        "bin_start": 1.1,
                        "bin_end": 1.2000000000000002,
                        "count": 0
                      },
                      {
                        "bin_start": 1.2000000000000002,
                        "bin_end": 1.3,
                        "count": 0
                      },
                      {
                        "bin_start": 1.3,
                        "bin_end": 1.4,
                        "count": 0
                      },
                      {
                        "bin_start": 1.4,
                        "bin_end": 1.5,
                        "count": 0
                      }
                    ]
                  }
                },
                {
                  "name": "offer",
                  "dtype": "int64",
                  "stats": {
                    "unique_count": 1,
                    "nan_count": 0,
                    "min": "1",
                    "max": "1",
                    "histogram": [
                      {
                        "bin_start": 0.5,
                        "bin_end": 0.6,
                        "count": 0
                      },
                      {
                        "bin_start": 0.6,
                        "bin_end": 0.7,
                        "count": 0
                      },
                      {
                        "bin_start": 0.7,
                        "bin_end": 0.8,
                        "count": 0
                      },
                      {
                        "bin_start": 0.8,
                        "bin_end": 0.9,
                        "count": 0
                      },
                      {
                        "bin_start": 0.9,
                        "bin_end": 1,
                        "count": 0
                      },
                      {
                        "bin_start": 1,
                        "bin_end": 1.1,
                        "count": 2
                      },
                      {
                        "bin_start": 1.1,
                        "bin_end": 1.2000000000000002,
                        "count": 0
                      },
                      {
                        "bin_start": 1.2000000000000002,
                        "bin_end": 1.3,
                        "count": 0
                      },
                      {
                        "bin_start": 1.3,
                        "bin_end": 1.4,
                        "count": 0
                      },
                      {
                        "bin_start": 1.4,
                        "bin_end": 1.5,
                        "count": 0
                      }
                    ]
                  }
                },
                {
                  "name": "old",
                  "dtype": "int64",
                  "stats": {
                    "unique_count": 2,
                    "nan_count": 0,
                    "min": "0",
                    "max": "1",
                    "histogram": [
                      {
                        "bin_start": 0,
                        "bin_end": 0.1,
                        "count": 1
                      },
                      {
                        "bin_start": 0.1,
                        "bin_end": 0.2,
                        "count": 0
                      },
                      {
                        "bin_start": 0.2,
                        "bin_end": 0.30000000000000004,
                        "count": 0
                      },
                      {
                        "bin_start": 0.30000000000000004,
                        "bin_end": 0.4,
                        "count": 0
                      },
                      {
                        "bin_start": 0.4,
                        "bin_end": 0.5,
                        "count": 0
                      },
                      {
                        "bin_start": 0.5,
                        "bin_end": 0.6000000000000001,
                        "count": 0
                      },
                      {
                        "bin_start": 0.6000000000000001,
                        "bin_end": 0.7000000000000001,
                        "count": 0
                      },
                      {
                        "bin_start": 0.7000000000000001,
                        "bin_end": 0.8,
                        "count": 0
                      },
                      {
                        "bin_start": 0.8,
                        "bin_end": 0.9,
                        "count": 0
                      },
                      {
                        "bin_start": 0.9,
                        "bin_end": 1,
                        "count": 1
                      }
                    ]
                  }
                },
                {
                  "name": "on",
                  "dtype": "int64",
                  "stats": {
                    "unique_count": 1,
                    "nan_count": 0,
                    "min": "3",
                    "max": "3",
                    "histogram": [
                      {
                        "bin_start": 2.5,
                        "bin_end": 2.6,
                        "count": 0
                      },
                      {
                        "bin_start": 2.6,
                        "bin_end": 2.7,
                        "count": 0
                      },
                      {
                        "bin_start": 2.7,
                        "bin_end": 2.8,
                        "count": 0
                      },
                      {
                        "bin_start": 2.8,
                        "bin_end": 2.9,
                        "count": 0
                      },
                      {
                        "bin_start": 2.9,
                        "bin_end": 3,
                        "count": 0
                      },
                      {
                        "bin_start": 3,
                        "bin_end": 3.1,
                        "count": 2
                      },
                      {
                        "bin_start": 3.1,
                        "bin_end": 3.2,
                        "count": 0
                      },
                      {
                        "bin_start": 3.2,
                        "bin_end": 3.3,
                        "count": 0
                      },
                      {
                        "bin_start": 3.3,
                        "bin_end": 3.4,
                        "count": 0
                      },
                      {
                        "bin_start": 3.4,
                        "bin_end": 3.5,
                        "count": 0
                      }
                    ]
                  }
                },
                {
                  "name": "one",
                  "dtype": "int64",
                  "stats": {
                    "unique_count": 1,
                    "nan_count": 0,
                    "min": "1",
                    "max": "1",
                    "histogram": [
                      {
                        "bin_start": 0.5,
                        "bin_end": 0.6,
                        "count": 0
                      },
                      {
                        "bin_start": 0.6,
                        "bin_end": 0.7,
                        "count": 0
                      },
                      {
                        "bin_start": 0.7,
                        "bin_end": 0.8,
                        "count": 0
                      },
                      {
                        "bin_start": 0.8,
                        "bin_end": 0.9,
                        "count": 0
                      },
                      {
                        "bin_start": 0.9,
                        "bin_end": 1,
                        "count": 0
                      },
                      {
                        "bin_start": 1,
                        "bin_end": 1.1,
                        "count": 2
                      },
                      {
                        "bin_start": 1.1,
                        "bin_end": 1.2000000000000002,
                        "count": 0
                      },
                      {
                        "bin_start": 1.2000000000000002,
                        "bin_end": 1.3,
                        "count": 0
                      },
                      {
                        "bin_start": 1.3,
                        "bin_end": 1.4,
                        "count": 0
                      },
                      {
                        "bin_start": 1.4,
                        "bin_end": 1.5,
                        "count": 0
                      }
                    ]
                  }
                },
                {
                  "name": "overtime",
                  "dtype": "int64",
                  "stats": {
                    "unique_count": 1,
                    "nan_count": 0,
                    "min": "1",
                    "max": "1",
                    "histogram": [
                      {
                        "bin_start": 0.5,
                        "bin_end": 0.6,
                        "count": 0
                      },
                      {
                        "bin_start": 0.6,
                        "bin_end": 0.7,
                        "count": 0
                      },
                      {
                        "bin_start": 0.7,
                        "bin_end": 0.8,
                        "count": 0
                      },
                      {
                        "bin_start": 0.8,
                        "bin_end": 0.9,
                        "count": 0
                      },
                      {
                        "bin_start": 0.9,
                        "bin_end": 1,
                        "count": 0
                      },
                      {
                        "bin_start": 1,
                        "bin_end": 1.1,
                        "count": 2
                      },
                      {
                        "bin_start": 1.1,
                        "bin_end": 1.2000000000000002,
                        "count": 0
                      },
                      {
                        "bin_start": 1.2000000000000002,
                        "bin_end": 1.3,
                        "count": 0
                      },
                      {
                        "bin_start": 1.3,
                        "bin_end": 1.4,
                        "count": 0
                      },
                      {
                        "bin_start": 1.4,
                        "bin_end": 1.5,
                        "count": 0
                      }
                    ]
                  }
                },
                {
                  "name": "quite",
                  "dtype": "int64",
                  "stats": {
                    "unique_count": 2,
                    "nan_count": 0,
                    "min": "0",
                    "max": "3",
                    "histogram": [
                      {
                        "bin_start": 0,
                        "bin_end": 0.3,
                        "count": 1
                      },
                      {
                        "bin_start": 0.3,
                        "bin_end": 0.6,
                        "count": 0
                      },
                      {
                        "bin_start": 0.6,
                        "bin_end": 0.8999999999999999,
                        "count": 0
                      },
                      {
                        "bin_start": 0.8999999999999999,
                        "bin_end": 1.2,
                        "count": 0
                      },
                      {
                        "bin_start": 1.2,
                        "bin_end": 1.5,
                        "count": 0
                      },
                      {
                        "bin_start": 1.5,
                        "bin_end": 1.7999999999999998,
                        "count": 0
                      },
                      {
                        "bin_start": 1.7999999999999998,
                        "bin_end": 2.1,
                        "count": 0
                      },
                      {
                        "bin_start": 2.1,
                        "bin_end": 2.4,
                        "count": 0
                      },
                      {
                        "bin_start": 2.4,
                        "bin_end": 2.6999999999999997,
                        "count": 0
                      },
                      {
                        "bin_start": 2.6999999999999997,
                        "bin_end": 3,
                        "count": 1
                      }
                    ]
                  }
                },
                {
                  "name": "re",
                  "dtype": "int64",
                  "stats": {
                    "unique_count": 1,
                    "nan_count": 0,
                    "min": "1",
                    "max": "1",
                    "histogram": [
                      {
                        "bin_start": 0.5,
                        "bin_end": 0.6,
                        "count": 0
                      },
                      {
                        "bin_start": 0.6,
                        "bin_end": 0.7,
                        "count": 0
                      },
                      {
                        "bin_start": 0.7,
                        "bin_end": 0.8,
                        "count": 0
                      },
                      {
                        "bin_start": 0.8,
                        "bin_end": 0.9,
                        "count": 0
                      },
                      {
                        "bin_start": 0.9,
                        "bin_end": 1,
                        "count": 0
                      },
                      {
                        "bin_start": 1,
                        "bin_end": 1.1,
                        "count": 2
                      },
                      {
                        "bin_start": 1.1,
                        "bin_end": 1.2000000000000002,
                        "count": 0
                      },
                      {
                        "bin_start": 1.2000000000000002,
                        "bin_end": 1.3,
                        "count": 0
                      },
                      {
                        "bin_start": 1.3,
                        "bin_end": 1.4,
                        "count": 0
                      },
                      {
                        "bin_start": 1.4,
                        "bin_end": 1.5,
                        "count": 0
                      }
                    ]
                  }
                },
                {
                  "name": "room",
                  "dtype": "int64",
                  "stats": {
                    "unique_count": 1,
                    "nan_count": 0,
                    "min": "1",
                    "max": "1",
                    "histogram": [
                      {
                        "bin_start": 0.5,
                        "bin_end": 0.6,
                        "count": 0
                      },
                      {
                        "bin_start": 0.6,
                        "bin_end": 0.7,
                        "count": 0
                      },
                      {
                        "bin_start": 0.7,
                        "bin_end": 0.8,
                        "count": 0
                      },
                      {
                        "bin_start": 0.8,
                        "bin_end": 0.9,
                        "count": 0
                      },
                      {
                        "bin_start": 0.9,
                        "bin_end": 1,
                        "count": 0
                      },
                      {
                        "bin_start": 1,
                        "bin_end": 1.1,
                        "count": 2
                      },
                      {
                        "bin_start": 1.1,
                        "bin_end": 1.2000000000000002,
                        "count": 0
                      },
                      {
                        "bin_start": 1.2000000000000002,
                        "bin_end": 1.3,
                        "count": 0
                      },
                      {
                        "bin_start": 1.3,
                        "bin_end": 1.4,
                        "count": 0
                      },
                      {
                        "bin_start": 1.4,
                        "bin_end": 1.5,
                        "count": 0
                      }
                    ]
                  }
                },
                {
                  "name": "said",
                  "dtype": "int64",
                  "stats": {
                    "unique_count": 1,
                    "nan_count": 0,
                    "min": "1",
                    "max": "1",
                    "histogram": [
                      {
                        "bin_start": 0.5,
                        "bin_end": 0.6,
                        "count": 0
                      },
                      {
                        "bin_start": 0.6,
                        "bin_end": 0.7,
                        "count": 0
                      },
                      {
                        "bin_start": 0.7,
                        "bin_end": 0.8,
                        "count": 0
                      },
                      {
                        "bin_start": 0.8,
                        "bin_end": 0.9,
                        "count": 0
                      },
                      {
                        "bin_start": 0.9,
                        "bin_end": 1,
                        "count": 0
                      },
                      {
                        "bin_start": 1,
                        "bin_end": 1.1,
                        "count": 2
                      },
                      {
                        "bin_start": 1.1,
                        "bin_end": 1.2000000000000002,
                        "count": 0
                      },
                      {
                        "bin_start": 1.2000000000000002,
                        "bin_end": 1.3,
                        "count": 0
                      },
                      {
                        "bin_start": 1.3,
                        "bin_end": 1.4,
                        "count": 0
                      },
                      {
                        "bin_start": 1.4,
                        "bin_end": 1.5,
                        "count": 0
                      }
                    ]
                  }
                },
                {
                  "name": "she",
                  "dtype": "int64",
                  "stats": {
                    "unique_count": 2,
                    "nan_count": 0,
                    "min": "0",
                    "max": "2",
                    "histogram": [
                      {
                        "bin_start": 0,
                        "bin_end": 0.2,
                        "count": 1
                      },
                      {
                        "bin_start": 0.2,
                        "bin_end": 0.4,
                        "count": 0
                      },
                      {
                        "bin_start": 0.4,
                        "bin_end": 0.6000000000000001,
                        "count": 0
                      },
                      {
                        "bin_start": 0.6000000000000001,
                        "bin_end": 0.8,
                        "count": 0
                      },
                      {
                        "bin_start": 0.8,
                        "bin_end": 1,
                        "count": 0
                      },
                      {
                        "bin_start": 1,
                        "bin_end": 1.2000000000000002,
                        "count": 0
                      },
                      {
                        "bin_start": 1.2000000000000002,
                        "bin_end": 1.4000000000000001,
                        "count": 0
                      },
                      {
                        "bin_start": 1.4000000000000001,
                        "bin_end": 1.6,
                        "count": 0
                      },
                      {
                        "bin_start": 1.6,
                        "bin_end": 1.8,
                        "count": 0
                      },
                      {
                        "bin_start": 1.8,
                        "bin_end": 2,
                        "count": 1
                      }
                    ]
                  }
                },
                {
                  "name": "shocked",
                  "dtype": "int64",
                  "stats": {
                    "unique_count": 2,
                    "nan_count": 0,
                    "min": "0",
                    "max": "1",
                    "histogram": [
                      {
                        "bin_start": 0,
                        "bin_end": 0.1,
                        "count": 1
                      },
                      {
                        "bin_start": 0.1,
                        "bin_end": 0.2,
                        "count": 0
                      },
                      {
                        "bin_start": 0.2,
                        "bin_end": 0.30000000000000004,
                        "count": 0
                      },
                      {
                        "bin_start": 0.30000000000000004,
                        "bin_end": 0.4,
                        "count": 0
                      },
                      {
                        "bin_start": 0.4,
                        "bin_end": 0.5,
                        "count": 0
                      },
                      {
                        "bin_start": 0.5,
                        "bin_end": 0.6000000000000001,
                        "count": 0
                      },
                      {
                        "bin_start": 0.6000000000000001,
                        "bin_end": 0.7000000000000001,
                        "count": 0
                      },
                      {
                        "bin_start": 0.7000000000000001,
                        "bin_end": 0.8,
                        "count": 0
                      },
                      {
                        "bin_start": 0.8,
                        "bin_end": 0.9,
                        "count": 0
                      },
                      {
                        "bin_start": 0.9,
                        "bin_end": 1,
                        "count": 1
                      }
                    ]
                  }
                },
                {
                  "name": "shop",
                  "dtype": "int64",
                  "stats": {
                    "unique_count": 1,
                    "nan_count": 0,
                    "min": "1",
                    "max": "1",
                    "histogram": [
                      {
                        "bin_start": 0.5,
                        "bin_end": 0.6,
                        "count": 0
                      },
                      {
                        "bin_start": 0.6,
                        "bin_end": 0.7,
                        "count": 0
                      },
                      {
                        "bin_start": 0.7,
                        "bin_end": 0.8,
                        "count": 0
                      },
                      {
                        "bin_start": 0.8,
                        "bin_end": 0.9,
                        "count": 0
                      },
                      {
                        "bin_start": 0.9,
                        "bin_end": 1,
                        "count": 0
                      },
                      {
                        "bin_start": 1,
                        "bin_end": 1.1,
                        "count": 2
                      },
                      {
                        "bin_start": 1.1,
                        "bin_end": 1.2000000000000002,
                        "count": 0
                      },
                      {
                        "bin_start": 1.2000000000000002,
                        "bin_end": 1.3,
                        "count": 0
                      },
                      {
                        "bin_start": 1.3,
                        "bin_end": 1.4,
                        "count": 0
                      },
                      {
                        "bin_start": 1.4,
                        "bin_end": 1.5,
                        "count": 0
                      }
                    ]
                  }
                },
                {
                  "name": "size",
                  "dtype": "int64",
                  "stats": {
                    "unique_count": 1,
                    "nan_count": 0,
                    "min": "1",
                    "max": "1",
                    "histogram": [
                      {
                        "bin_start": 0.5,
                        "bin_end": 0.6,
                        "count": 0
                      },
                      {
                        "bin_start": 0.6,
                        "bin_end": 0.7,
                        "count": 0
                      },
                      {
                        "bin_start": 0.7,
                        "bin_end": 0.8,
                        "count": 0
                      },
                      {
                        "bin_start": 0.8,
                        "bin_end": 0.9,
                        "count": 0
                      },
                      {
                        "bin_start": 0.9,
                        "bin_end": 1,
                        "count": 0
                      },
                      {
                        "bin_start": 1,
                        "bin_end": 1.1,
                        "count": 2
                      },
                      {
                        "bin_start": 1.1,
                        "bin_end": 1.2000000000000002,
                        "count": 0
                      },
                      {
                        "bin_start": 1.2000000000000002,
                        "bin_end": 1.3,
                        "count": 0
                      },
                      {
                        "bin_start": 1.3,
                        "bin_end": 1.4,
                        "count": 0
                      },
                      {
                        "bin_start": 1.4,
                        "bin_end": 1.5,
                        "count": 0
                      }
                    ]
                  }
                },
                {
                  "name": "smiled",
                  "dtype": "int64",
                  "stats": {
                    "unique_count": 2,
                    "nan_count": 0,
                    "min": "0",
                    "max": "1",
                    "histogram": [
                      {
                        "bin_start": 0,
                        "bin_end": 0.1,
                        "count": 1
                      },
                      {
                        "bin_start": 0.1,
                        "bin_end": 0.2,
                        "count": 0
                      },
                      {
                        "bin_start": 0.2,
                        "bin_end": 0.30000000000000004,
                        "count": 0
                      },
                      {
                        "bin_start": 0.30000000000000004,
                        "bin_end": 0.4,
                        "count": 0
                      },
                      {
                        "bin_start": 0.4,
                        "bin_end": 0.5,
                        "count": 0
                      },
                      {
                        "bin_start": 0.5,
                        "bin_end": 0.6000000000000001,
                        "count": 0
                      },
                      {
                        "bin_start": 0.6000000000000001,
                        "bin_end": 0.7000000000000001,
                        "count": 0
                      },
                      {
                        "bin_start": 0.7000000000000001,
                        "bin_end": 0.8,
                        "count": 0
                      },
                      {
                        "bin_start": 0.8,
                        "bin_end": 0.9,
                        "count": 0
                      },
                      {
                        "bin_start": 0.9,
                        "bin_end": 1,
                        "count": 1
                      }
                    ]
                  }
                },
                {
                  "name": "so",
                  "dtype": "int64",
                  "stats": {
                    "unique_count": 2,
                    "nan_count": 0,
                    "min": "2",
                    "max": "3",
                    "histogram": [
                      {
                        "bin_start": 2,
                        "bin_end": 2.1,
                        "count": 1
                      },
                      {
                        "bin_start": 2.1,
                        "bin_end": 2.2,
                        "count": 0
                      },
                      {
                        "bin_start": 2.2,
                        "bin_end": 2.3,
                        "count": 0
                      },
                      {
                        "bin_start": 2.3,
                        "bin_end": 2.4,
                        "count": 0
                      },
                      {
                        "bin_start": 2.4,
                        "bin_end": 2.5,
                        "count": 0
                      },
                      {
                        "bin_start": 2.5,
                        "bin_end": 2.6,
                        "count": 0
                      },
                      {
                        "bin_start": 2.6,
                        "bin_end": 2.7,
                        "count": 0
                      },
                      {
                        "bin_start": 2.7,
                        "bin_end": 2.8,
                        "count": 0
                      },
                      {
                        "bin_start": 2.8,
                        "bin_end": 2.9,
                        "count": 0
                      },
                      {
                        "bin_start": 2.9,
                        "bin_end": 3,
                        "count": 1
                      }
                    ]
                  }
                },
                {
                  "name": "sold",
                  "dtype": "int64",
                  "stats": {
                    "unique_count": 1,
                    "nan_count": 0,
                    "min": "1",
                    "max": "1",
                    "histogram": [
                      {
                        "bin_start": 0.5,
                        "bin_end": 0.6,
                        "count": 0
                      },
                      {
                        "bin_start": 0.6,
                        "bin_end": 0.7,
                        "count": 0
                      },
                      {
                        "bin_start": 0.7,
                        "bin_end": 0.8,
                        "count": 0
                      },
                      {
                        "bin_start": 0.8,
                        "bin_end": 0.9,
                        "count": 0
                      },
                      {
                        "bin_start": 0.9,
                        "bin_end": 1,
                        "count": 0
                      },
                      {
                        "bin_start": 1,
                        "bin_end": 1.1,
                        "count": 2
                      },
                      {
                        "bin_start": 1.1,
                        "bin_end": 1.2000000000000002,
                        "count": 0
                      },
                      {
                        "bin_start": 1.2000000000000002,
                        "bin_end": 1.3,
                        "count": 0
                      },
                      {
                        "bin_start": 1.3,
                        "bin_end": 1.4,
                        "count": 0
                      },
                      {
                        "bin_start": 1.4,
                        "bin_end": 1.5,
                        "count": 0
                      }
                    ]
                  }
                },
                {
                  "name": "some",
                  "dtype": "int64",
                  "stats": {
                    "unique_count": 1,
                    "nan_count": 0,
                    "min": "1",
                    "max": "1",
                    "histogram": [
                      {
                        "bin_start": 0.5,
                        "bin_end": 0.6,
                        "count": 0
                      },
                      {
                        "bin_start": 0.6,
                        "bin_end": 0.7,
                        "count": 0
                      },
                      {
                        "bin_start": 0.7,
                        "bin_end": 0.8,
                        "count": 0
                      },
                      {
                        "bin_start": 0.8,
                        "bin_end": 0.9,
                        "count": 0
                      },
                      {
                        "bin_start": 0.9,
                        "bin_end": 1,
                        "count": 0
                      },
                      {
                        "bin_start": 1,
                        "bin_end": 1.1,
                        "count": 2
                      },
                      {
                        "bin_start": 1.1,
                        "bin_end": 1.2000000000000002,
                        "count": 0
                      },
                      {
                        "bin_start": 1.2000000000000002,
                        "bin_end": 1.3,
                        "count": 0
                      },
                      {
                        "bin_start": 1.3,
                        "bin_end": 1.4,
                        "count": 0
                      },
                      {
                        "bin_start": 1.4,
                        "bin_end": 1.5,
                        "count": 0
                      }
                    ]
                  }
                },
                {
                  "name": "speak",
                  "dtype": "int64",
                  "stats": {
                    "unique_count": 2,
                    "nan_count": 0,
                    "min": "0",
                    "max": "1",
                    "histogram": [
                      {
                        "bin_start": 0,
                        "bin_end": 0.1,
                        "count": 1
                      },
                      {
                        "bin_start": 0.1,
                        "bin_end": 0.2,
                        "count": 0
                      },
                      {
                        "bin_start": 0.2,
                        "bin_end": 0.30000000000000004,
                        "count": 0
                      },
                      {
                        "bin_start": 0.30000000000000004,
                        "bin_end": 0.4,
                        "count": 0
                      },
                      {
                        "bin_start": 0.4,
                        "bin_end": 0.5,
                        "count": 0
                      },
                      {
                        "bin_start": 0.5,
                        "bin_end": 0.6000000000000001,
                        "count": 0
                      },
                      {
                        "bin_start": 0.6000000000000001,
                        "bin_end": 0.7000000000000001,
                        "count": 0
                      },
                      {
                        "bin_start": 0.7000000000000001,
                        "bin_end": 0.8,
                        "count": 0
                      },
                      {
                        "bin_start": 0.8,
                        "bin_end": 0.9,
                        "count": 0
                      },
                      {
                        "bin_start": 0.9,
                        "bin_end": 1,
                        "count": 1
                      }
                    ]
                  }
                },
                {
                  "name": "special",
                  "dtype": "int64",
                  "stats": {
                    "unique_count": 1,
                    "nan_count": 0,
                    "min": "1",
                    "max": "1",
                    "histogram": [
                      {
                        "bin_start": 0.5,
                        "bin_end": 0.6,
                        "count": 0
                      },
                      {
                        "bin_start": 0.6,
                        "bin_end": 0.7,
                        "count": 0
                      },
                      {
                        "bin_start": 0.7,
                        "bin_end": 0.8,
                        "count": 0
                      },
                      {
                        "bin_start": 0.8,
                        "bin_end": 0.9,
                        "count": 0
                      },
                      {
                        "bin_start": 0.9,
                        "bin_end": 1,
                        "count": 0
                      },
                      {
                        "bin_start": 1,
                        "bin_end": 1.1,
                        "count": 2
                      },
                      {
                        "bin_start": 1.1,
                        "bin_end": 1.2000000000000002,
                        "count": 0
                      },
                      {
                        "bin_start": 1.2000000000000002,
                        "bin_end": 1.3,
                        "count": 0
                      },
                      {
                        "bin_start": 1.3,
                        "bin_end": 1.4,
                        "count": 0
                      },
                      {
                        "bin_start": 1.4,
                        "bin_end": 1.5,
                        "count": 0
                      }
                    ]
                  }
                },
                {
                  "name": "started",
                  "dtype": "int64",
                  "stats": {
                    "unique_count": 1,
                    "nan_count": 0,
                    "min": "1",
                    "max": "1",
                    "histogram": [
                      {
                        "bin_start": 0.5,
                        "bin_end": 0.6,
                        "count": 0
                      },
                      {
                        "bin_start": 0.6,
                        "bin_end": 0.7,
                        "count": 0
                      },
                      {
                        "bin_start": 0.7,
                        "bin_end": 0.8,
                        "count": 0
                      },
                      {
                        "bin_start": 0.8,
                        "bin_end": 0.9,
                        "count": 0
                      },
                      {
                        "bin_start": 0.9,
                        "bin_end": 1,
                        "count": 0
                      },
                      {
                        "bin_start": 1,
                        "bin_end": 1.1,
                        "count": 2
                      },
                      {
                        "bin_start": 1.1,
                        "bin_end": 1.2000000000000002,
                        "count": 0
                      },
                      {
                        "bin_start": 1.2000000000000002,
                        "bin_end": 1.3,
                        "count": 0
                      },
                      {
                        "bin_start": 1.3,
                        "bin_end": 1.4,
                        "count": 0
                      },
                      {
                        "bin_start": 1.4,
                        "bin_end": 1.5,
                        "count": 0
                      }
                    ]
                  }
                },
                {
                  "name": "stock",
                  "dtype": "int64",
                  "stats": {
                    "unique_count": 1,
                    "nan_count": 0,
                    "min": "2",
                    "max": "2",
                    "histogram": [
                      {
                        "bin_start": 1.5,
                        "bin_end": 1.6,
                        "count": 0
                      },
                      {
                        "bin_start": 1.6,
                        "bin_end": 1.7,
                        "count": 0
                      },
                      {
                        "bin_start": 1.7,
                        "bin_end": 1.8,
                        "count": 0
                      },
                      {
                        "bin_start": 1.8,
                        "bin_end": 1.9,
                        "count": 0
                      },
                      {
                        "bin_start": 1.9,
                        "bin_end": 2,
                        "count": 0
                      },
                      {
                        "bin_start": 2,
                        "bin_end": 2.1,
                        "count": 2
                      },
                      {
                        "bin_start": 2.1,
                        "bin_end": 2.2,
                        "count": 0
                      },
                      {
                        "bin_start": 2.2,
                        "bin_end": 2.3,
                        "count": 0
                      },
                      {
                        "bin_start": 2.3,
                        "bin_end": 2.4,
                        "count": 0
                      },
                      {
                        "bin_start": 2.4,
                        "bin_end": 2.5,
                        "count": 0
                      }
                    ]
                  }
                },
                {
                  "name": "store",
                  "dtype": "int64",
                  "stats": {
                    "unique_count": 1,
                    "nan_count": 0,
                    "min": "1",
                    "max": "1",
                    "histogram": [
                      {
                        "bin_start": 0.5,
                        "bin_end": 0.6,
                        "count": 0
                      },
                      {
                        "bin_start": 0.6,
                        "bin_end": 0.7,
                        "count": 0
                      },
                      {
                        "bin_start": 0.7,
                        "bin_end": 0.8,
                        "count": 0
                      },
                      {
                        "bin_start": 0.8,
                        "bin_end": 0.9,
                        "count": 0
                      },
                      {
                        "bin_start": 0.9,
                        "bin_end": 1,
                        "count": 0
                      },
                      {
                        "bin_start": 1,
                        "bin_end": 1.1,
                        "count": 2
                      },
                      {
                        "bin_start": 1.1,
                        "bin_end": 1.2000000000000002,
                        "count": 0
                      },
                      {
                        "bin_start": 1.2000000000000002,
                        "bin_end": 1.3,
                        "count": 0
                      },
                      {
                        "bin_start": 1.3,
                        "bin_end": 1.4,
                        "count": 0
                      },
                      {
                        "bin_start": 1.4,
                        "bin_end": 1.5,
                        "count": 0
                      }
                    ]
                  }
                },
                {
                  "name": "table",
                  "dtype": "int64",
                  "stats": {
                    "unique_count": 1,
                    "nan_count": 0,
                    "min": "1",
                    "max": "1",
                    "histogram": [
                      {
                        "bin_start": 0.5,
                        "bin_end": 0.6,
                        "count": 0
                      },
                      {
                        "bin_start": 0.6,
                        "bin_end": 0.7,
                        "count": 0
                      },
                      {
                        "bin_start": 0.7,
                        "bin_end": 0.8,
                        "count": 0
                      },
                      {
                        "bin_start": 0.8,
                        "bin_end": 0.9,
                        "count": 0
                      },
                      {
                        "bin_start": 0.9,
                        "bin_end": 1,
                        "count": 0
                      },
                      {
                        "bin_start": 1,
                        "bin_end": 1.1,
                        "count": 2
                      },
                      {
                        "bin_start": 1.1,
                        "bin_end": 1.2000000000000002,
                        "count": 0
                      },
                      {
                        "bin_start": 1.2000000000000002,
                        "bin_end": 1.3,
                        "count": 0
                      },
                      {
                        "bin_start": 1.3,
                        "bin_end": 1.4,
                        "count": 0
                      },
                      {
                        "bin_start": 1.4,
                        "bin_end": 1.5,
                        "count": 0
                      }
                    ]
                  }
                },
                {
                  "name": "take",
                  "dtype": "int64",
                  "stats": {
                    "unique_count": 1,
                    "nan_count": 0,
                    "min": "1",
                    "max": "1",
                    "histogram": [
                      {
                        "bin_start": 0.5,
                        "bin_end": 0.6,
                        "count": 0
                      },
                      {
                        "bin_start": 0.6,
                        "bin_end": 0.7,
                        "count": 0
                      },
                      {
                        "bin_start": 0.7,
                        "bin_end": 0.8,
                        "count": 0
                      },
                      {
                        "bin_start": 0.8,
                        "bin_end": 0.9,
                        "count": 0
                      },
                      {
                        "bin_start": 0.9,
                        "bin_end": 1,
                        "count": 0
                      },
                      {
                        "bin_start": 1,
                        "bin_end": 1.1,
                        "count": 2
                      },
                      {
                        "bin_start": 1.1,
                        "bin_end": 1.2000000000000002,
                        "count": 0
                      },
                      {
                        "bin_start": 1.2000000000000002,
                        "bin_end": 1.3,
                        "count": 0
                      },
                      {
                        "bin_start": 1.3,
                        "bin_end": 1.4,
                        "count": 0
                      },
                      {
                        "bin_start": 1.4,
                        "bin_end": 1.5,
                        "count": 0
                      }
                    ]
                  }
                },
                {
                  "name": "team",
                  "dtype": "int64",
                  "stats": {
                    "unique_count": 1,
                    "nan_count": 0,
                    "min": "1",
                    "max": "1",
                    "histogram": [
                      {
                        "bin_start": 0.5,
                        "bin_end": 0.6,
                        "count": 0
                      },
                      {
                        "bin_start": 0.6,
                        "bin_end": 0.7,
                        "count": 0
                      },
                      {
                        "bin_start": 0.7,
                        "bin_end": 0.8,
                        "count": 0
                      },
                      {
                        "bin_start": 0.8,
                        "bin_end": 0.9,
                        "count": 0
                      },
                      {
                        "bin_start": 0.9,
                        "bin_end": 1,
                        "count": 0
                      },
                      {
                        "bin_start": 1,
                        "bin_end": 1.1,
                        "count": 2
                      },
                      {
                        "bin_start": 1.1,
                        "bin_end": 1.2000000000000002,
                        "count": 0
                      },
                      {
                        "bin_start": 1.2000000000000002,
                        "bin_end": 1.3,
                        "count": 0
                      },
                      {
                        "bin_start": 1.3,
                        "bin_end": 1.4,
                        "count": 0
                      },
                      {
                        "bin_start": 1.4,
                        "bin_end": 1.5,
                        "count": 0
                      }
                    ]
                  }
                },
                {
                  "name": "that",
                  "dtype": "int64",
                  "stats": {
                    "unique_count": 2,
                    "nan_count": 0,
                    "min": "1",
                    "max": "2",
                    "histogram": [
                      {
                        "bin_start": 1,
                        "bin_end": 1.1,
                        "count": 1
                      },
                      {
                        "bin_start": 1.1,
                        "bin_end": 1.2,
                        "count": 0
                      },
                      {
                        "bin_start": 1.2,
                        "bin_end": 1.3,
                        "count": 0
                      },
                      {
                        "bin_start": 1.3,
                        "bin_end": 1.4,
                        "count": 0
                      },
                      {
                        "bin_start": 1.4,
                        "bin_end": 1.5,
                        "count": 0
                      },
                      {
                        "bin_start": 1.5,
                        "bin_end": 1.6,
                        "count": 0
                      },
                      {
                        "bin_start": 1.6,
                        "bin_end": 1.7000000000000002,
                        "count": 0
                      },
                      {
                        "bin_start": 1.7000000000000002,
                        "bin_end": 1.8,
                        "count": 0
                      },
                      {
                        "bin_start": 1.8,
                        "bin_end": 1.9,
                        "count": 0
                      },
                      {
                        "bin_start": 1.9,
                        "bin_end": 2,
                        "count": 1
                      }
                    ]
                  }
                },
                {
                  "name": "the",
                  "dtype": "int64",
                  "stats": {
                    "unique_count": 2,
                    "nan_count": 0,
                    "min": "9",
                    "max": "10",
                    "histogram": [
                      {
                        "bin_start": 9,
                        "bin_end": 9.1,
                        "count": 1
                      },
                      {
                        "bin_start": 9.1,
                        "bin_end": 9.2,
                        "count": 0
                      },
                      {
                        "bin_start": 9.2,
                        "bin_end": 9.3,
                        "count": 0
                      },
                      {
                        "bin_start": 9.3,
                        "bin_end": 9.4,
                        "count": 0
                      },
                      {
                        "bin_start": 9.4,
                        "bin_end": 9.5,
                        "count": 0
                      },
                      {
                        "bin_start": 9.5,
                        "bin_end": 9.6,
                        "count": 0
                      },
                      {
                        "bin_start": 9.6,
                        "bin_end": 9.7,
                        "count": 0
                      },
                      {
                        "bin_start": 9.7,
                        "bin_end": 9.8,
                        "count": 0
                      },
                      {
                        "bin_start": 9.8,
                        "bin_end": 9.9,
                        "count": 0
                      },
                      {
                        "bin_start": 9.9,
                        "bin_end": 10,
                        "count": 1
                      }
                    ]
                  }
                },
                {
                  "name": "there",
                  "dtype": "int64",
                  "stats": {
                    "unique_count": 1,
                    "nan_count": 0,
                    "min": "1",
                    "max": "1",
                    "histogram": [
                      {
                        "bin_start": 0.5,
                        "bin_end": 0.6,
                        "count": 0
                      },
                      {
                        "bin_start": 0.6,
                        "bin_end": 0.7,
                        "count": 0
                      },
                      {
                        "bin_start": 0.7,
                        "bin_end": 0.8,
                        "count": 0
                      },
                      {
                        "bin_start": 0.8,
                        "bin_end": 0.9,
                        "count": 0
                      },
                      {
                        "bin_start": 0.9,
                        "bin_end": 1,
                        "count": 0
                      },
                      {
                        "bin_start": 1,
                        "bin_end": 1.1,
                        "count": 2
                      },
                      {
                        "bin_start": 1.1,
                        "bin_end": 1.2000000000000002,
                        "count": 0
                      },
                      {
                        "bin_start": 1.2000000000000002,
                        "bin_end": 1.3,
                        "count": 0
                      },
                      {
                        "bin_start": 1.3,
                        "bin_end": 1.4,
                        "count": 0
                      },
                      {
                        "bin_start": 1.4,
                        "bin_end": 1.5,
                        "count": 0
                      }
                    ]
                  }
                },
                {
                  "name": "think",
                  "dtype": "int64",
                  "stats": {
                    "unique_count": 2,
                    "nan_count": 0,
                    "min": "0",
                    "max": "1",
                    "histogram": [
                      {
                        "bin_start": 0,
                        "bin_end": 0.1,
                        "count": 1
                      },
                      {
                        "bin_start": 0.1,
                        "bin_end": 0.2,
                        "count": 0
                      },
                      {
                        "bin_start": 0.2,
                        "bin_end": 0.30000000000000004,
                        "count": 0
                      },
                      {
                        "bin_start": 0.30000000000000004,
                        "bin_end": 0.4,
                        "count": 0
                      },
                      {
                        "bin_start": 0.4,
                        "bin_end": 0.5,
                        "count": 0
                      },
                      {
                        "bin_start": 0.5,
                        "bin_end": 0.6000000000000001,
                        "count": 0
                      },
                      {
                        "bin_start": 0.6000000000000001,
                        "bin_end": 0.7000000000000001,
                        "count": 0
                      },
                      {
                        "bin_start": 0.7000000000000001,
                        "bin_end": 0.8,
                        "count": 0
                      },
                      {
                        "bin_start": 0.8,
                        "bin_end": 0.9,
                        "count": 0
                      },
                      {
                        "bin_start": 0.9,
                        "bin_end": 1,
                        "count": 1
                      }
                    ]
                  }
                },
                {
                  "name": "to",
                  "dtype": "int64",
                  "stats": {
                    "unique_count": 2,
                    "nan_count": 0,
                    "min": "1",
                    "max": "3",
                    "histogram": [
                      {
                        "bin_start": 1,
                        "bin_end": 1.2,
                        "count": 1
                      },
                      {
                        "bin_start": 1.2,
                        "bin_end": 1.4,
                        "count": 0
                      },
                      {
                        "bin_start": 1.4,
                        "bin_end": 1.6,
                        "count": 0
                      },
                      {
                        "bin_start": 1.6,
                        "bin_end": 1.8,
                        "count": 0
                      },
                      {
                        "bin_start": 1.8,
                        "bin_end": 2,
                        "count": 0
                      },
                      {
                        "bin_start": 2,
                        "bin_end": 2.2,
                        "count": 0
                      },
                      {
                        "bin_start": 2.2,
                        "bin_end": 2.4000000000000004,
                        "count": 0
                      },
                      {
                        "bin_start": 2.4000000000000004,
                        "bin_end": 2.6,
                        "count": 0
                      },
                      {
                        "bin_start": 2.6,
                        "bin_end": 2.8,
                        "count": 0
                      },
                      {
                        "bin_start": 2.8,
                        "bin_end": 3,
                        "count": 1
                      }
                    ]
                  }
                },
                {
                  "name": "told",
                  "dtype": "int64",
                  "stats": {
                    "unique_count": 2,
                    "nan_count": 0,
                    "min": "0",
                    "max": "1",
                    "histogram": [
                      {
                        "bin_start": 0,
                        "bin_end": 0.1,
                        "count": 1
                      },
                      {
                        "bin_start": 0.1,
                        "bin_end": 0.2,
                        "count": 0
                      },
                      {
                        "bin_start": 0.2,
                        "bin_end": 0.30000000000000004,
                        "count": 0
                      },
                      {
                        "bin_start": 0.30000000000000004,
                        "bin_end": 0.4,
                        "count": 0
                      },
                      {
                        "bin_start": 0.4,
                        "bin_end": 0.5,
                        "count": 0
                      },
                      {
                        "bin_start": 0.5,
                        "bin_end": 0.6000000000000001,
                        "count": 0
                      },
                      {
                        "bin_start": 0.6000000000000001,
                        "bin_end": 0.7000000000000001,
                        "count": 0
                      },
                      {
                        "bin_start": 0.7000000000000001,
                        "bin_end": 0.8,
                        "count": 0
                      },
                      {
                        "bin_start": 0.8,
                        "bin_end": 0.9,
                        "count": 0
                      },
                      {
                        "bin_start": 0.9,
                        "bin_end": 1,
                        "count": 1
                      }
                    ]
                  }
                },
                {
                  "name": "uncomfortable",
                  "dtype": "int64",
                  "stats": {
                    "unique_count": 2,
                    "nan_count": 0,
                    "min": "0",
                    "max": "1",
                    "histogram": [
                      {
                        "bin_start": 0,
                        "bin_end": 0.1,
                        "count": 1
                      },
                      {
                        "bin_start": 0.1,
                        "bin_end": 0.2,
                        "count": 0
                      },
                      {
                        "bin_start": 0.2,
                        "bin_end": 0.30000000000000004,
                        "count": 0
                      },
                      {
                        "bin_start": 0.30000000000000004,
                        "bin_end": 0.4,
                        "count": 0
                      },
                      {
                        "bin_start": 0.4,
                        "bin_end": 0.5,
                        "count": 0
                      },
                      {
                        "bin_start": 0.5,
                        "bin_end": 0.6000000000000001,
                        "count": 0
                      },
                      {
                        "bin_start": 0.6000000000000001,
                        "bin_end": 0.7000000000000001,
                        "count": 0
                      },
                      {
                        "bin_start": 0.7000000000000001,
                        "bin_end": 0.8,
                        "count": 0
                      },
                      {
                        "bin_start": 0.8,
                        "bin_end": 0.9,
                        "count": 0
                      },
                      {
                        "bin_start": 0.9,
                        "bin_end": 1,
                        "count": 1
                      }
                    ]
                  }
                },
                {
                  "name": "understand",
                  "dtype": "int64",
                  "stats": {
                    "unique_count": 2,
                    "nan_count": 0,
                    "min": "0",
                    "max": "1",
                    "histogram": [
                      {
                        "bin_start": 0,
                        "bin_end": 0.1,
                        "count": 1
                      },
                      {
                        "bin_start": 0.1,
                        "bin_end": 0.2,
                        "count": 0
                      },
                      {
                        "bin_start": 0.2,
                        "bin_end": 0.30000000000000004,
                        "count": 0
                      },
                      {
                        "bin_start": 0.30000000000000004,
                        "bin_end": 0.4,
                        "count": 0
                      },
                      {
                        "bin_start": 0.4,
                        "bin_end": 0.5,
                        "count": 0
                      },
                      {
                        "bin_start": 0.5,
                        "bin_end": 0.6000000000000001,
                        "count": 0
                      },
                      {
                        "bin_start": 0.6000000000000001,
                        "bin_end": 0.7000000000000001,
                        "count": 0
                      },
                      {
                        "bin_start": 0.7000000000000001,
                        "bin_end": 0.8,
                        "count": 0
                      },
                      {
                        "bin_start": 0.8,
                        "bin_end": 0.9,
                        "count": 0
                      },
                      {
                        "bin_start": 0.9,
                        "bin_end": 1,
                        "count": 1
                      }
                    ]
                  }
                },
                {
                  "name": "unisex",
                  "dtype": "int64",
                  "stats": {
                    "unique_count": 1,
                    "nan_count": 0,
                    "min": "1",
                    "max": "1",
                    "histogram": [
                      {
                        "bin_start": 0.5,
                        "bin_end": 0.6,
                        "count": 0
                      },
                      {
                        "bin_start": 0.6,
                        "bin_end": 0.7,
                        "count": 0
                      },
                      {
                        "bin_start": 0.7,
                        "bin_end": 0.8,
                        "count": 0
                      },
                      {
                        "bin_start": 0.8,
                        "bin_end": 0.9,
                        "count": 0
                      },
                      {
                        "bin_start": 0.9,
                        "bin_end": 1,
                        "count": 0
                      },
                      {
                        "bin_start": 1,
                        "bin_end": 1.1,
                        "count": 2
                      },
                      {
                        "bin_start": 1.1,
                        "bin_end": 1.2000000000000002,
                        "count": 0
                      },
                      {
                        "bin_start": 1.2000000000000002,
                        "bin_end": 1.3,
                        "count": 0
                      },
                      {
                        "bin_start": 1.3,
                        "bin_end": 1.4,
                        "count": 0
                      },
                      {
                        "bin_start": 1.4,
                        "bin_end": 1.5,
                        "count": 0
                      }
                    ]
                  }
                },
                {
                  "name": "up",
                  "dtype": "int64",
                  "stats": {
                    "unique_count": 1,
                    "nan_count": 0,
                    "min": "1",
                    "max": "1",
                    "histogram": [
                      {
                        "bin_start": 0.5,
                        "bin_end": 0.6,
                        "count": 0
                      },
                      {
                        "bin_start": 0.6,
                        "bin_end": 0.7,
                        "count": 0
                      },
                      {
                        "bin_start": 0.7,
                        "bin_end": 0.8,
                        "count": 0
                      },
                      {
                        "bin_start": 0.8,
                        "bin_end": 0.9,
                        "count": 0
                      },
                      {
                        "bin_start": 0.9,
                        "bin_end": 1,
                        "count": 0
                      },
                      {
                        "bin_start": 1,
                        "bin_end": 1.1,
                        "count": 2
                      },
                      {
                        "bin_start": 1.1,
                        "bin_end": 1.2000000000000002,
                        "count": 0
                      },
                      {
                        "bin_start": 1.2000000000000002,
                        "bin_end": 1.3,
                        "count": 0
                      },
                      {
                        "bin_start": 1.3,
                        "bin_end": 1.4,
                        "count": 0
                      },
                      {
                        "bin_start": 1.4,
                        "bin_end": 1.5,
                        "count": 0
                      }
                    ]
                  }
                },
                {
                  "name": "upset",
                  "dtype": "int64",
                  "stats": {
                    "unique_count": 2,
                    "nan_count": 0,
                    "min": "0",
                    "max": "2",
                    "histogram": [
                      {
                        "bin_start": 0,
                        "bin_end": 0.2,
                        "count": 1
                      },
                      {
                        "bin_start": 0.2,
                        "bin_end": 0.4,
                        "count": 0
                      },
                      {
                        "bin_start": 0.4,
                        "bin_end": 0.6000000000000001,
                        "count": 0
                      },
                      {
                        "bin_start": 0.6000000000000001,
                        "bin_end": 0.8,
                        "count": 0
                      },
                      {
                        "bin_start": 0.8,
                        "bin_end": 1,
                        "count": 0
                      },
                      {
                        "bin_start": 1,
                        "bin_end": 1.2000000000000002,
                        "count": 0
                      },
                      {
                        "bin_start": 1.2000000000000002,
                        "bin_end": 1.4000000000000001,
                        "count": 0
                      },
                      {
                        "bin_start": 1.4000000000000001,
                        "bin_end": 1.6,
                        "count": 0
                      },
                      {
                        "bin_start": 1.6,
                        "bin_end": 1.8,
                        "count": 0
                      },
                      {
                        "bin_start": 1.8,
                        "bin_end": 2,
                        "count": 1
                      }
                    ]
                  }
                },
                {
                  "name": "was",
                  "dtype": "int64",
                  "stats": {
                    "unique_count": 2,
                    "nan_count": 0,
                    "min": "5",
                    "max": "8",
                    "histogram": [
                      {
                        "bin_start": 5,
                        "bin_end": 5.3,
                        "count": 1
                      },
                      {
                        "bin_start": 5.3,
                        "bin_end": 5.6,
                        "count": 0
                      },
                      {
                        "bin_start": 5.6,
                        "bin_end": 5.9,
                        "count": 0
                      },
                      {
                        "bin_start": 5.9,
                        "bin_end": 6.2,
                        "count": 0
                      },
                      {
                        "bin_start": 6.2,
                        "bin_end": 6.5,
                        "count": 0
                      },
                      {
                        "bin_start": 6.5,
                        "bin_end": 6.8,
                        "count": 0
                      },
                      {
                        "bin_start": 6.8,
                        "bin_end": 7.1,
                        "count": 0
                      },
                      {
                        "bin_start": 7.1,
                        "bin_end": 7.4,
                        "count": 0
                      },
                      {
                        "bin_start": 7.4,
                        "bin_end": 7.699999999999999,
                        "count": 0
                      },
                      {
                        "bin_start": 7.699999999999999,
                        "bin_end": 8,
                        "count": 1
                      }
                    ]
                  }
                },
                {
                  "name": "we",
                  "dtype": "int64",
                  "stats": {
                    "unique_count": 1,
                    "nan_count": 0,
                    "min": "2",
                    "max": "2",
                    "histogram": [
                      {
                        "bin_start": 1.5,
                        "bin_end": 1.6,
                        "count": 0
                      },
                      {
                        "bin_start": 1.6,
                        "bin_end": 1.7,
                        "count": 0
                      },
                      {
                        "bin_start": 1.7,
                        "bin_end": 1.8,
                        "count": 0
                      },
                      {
                        "bin_start": 1.8,
                        "bin_end": 1.9,
                        "count": 0
                      },
                      {
                        "bin_start": 1.9,
                        "bin_end": 2,
                        "count": 0
                      },
                      {
                        "bin_start": 2,
                        "bin_end": 2.1,
                        "count": 2
                      },
                      {
                        "bin_start": 2.1,
                        "bin_end": 2.2,
                        "count": 0
                      },
                      {
                        "bin_start": 2.2,
                        "bin_end": 2.3,
                        "count": 0
                      },
                      {
                        "bin_start": 2.3,
                        "bin_end": 2.4,
                        "count": 0
                      },
                      {
                        "bin_start": 2.4,
                        "bin_end": 2.5,
                        "count": 0
                      }
                    ]
                  }
                },
                {
                  "name": "well",
                  "dtype": "int64",
                  "stats": {
                    "unique_count": 1,
                    "nan_count": 0,
                    "min": "1",
                    "max": "1",
                    "histogram": [
                      {
                        "bin_start": 0.5,
                        "bin_end": 0.6,
                        "count": 0
                      },
                      {
                        "bin_start": 0.6,
                        "bin_end": 0.7,
                        "count": 0
                      },
                      {
                        "bin_start": 0.7,
                        "bin_end": 0.8,
                        "count": 0
                      },
                      {
                        "bin_start": 0.8,
                        "bin_end": 0.9,
                        "count": 0
                      },
                      {
                        "bin_start": 0.9,
                        "bin_end": 1,
                        "count": 0
                      },
                      {
                        "bin_start": 1,
                        "bin_end": 1.1,
                        "count": 2
                      },
                      {
                        "bin_start": 1.1,
                        "bin_end": 1.2000000000000002,
                        "count": 0
                      },
                      {
                        "bin_start": 1.2000000000000002,
                        "bin_end": 1.3,
                        "count": 0
                      },
                      {
                        "bin_start": 1.3,
                        "bin_end": 1.4,
                        "count": 0
                      },
                      {
                        "bin_start": 1.4,
                        "bin_end": 1.5,
                        "count": 0
                      }
                    ]
                  }
                },
                {
                  "name": "went",
                  "dtype": "int64",
                  "stats": {
                    "unique_count": 2,
                    "nan_count": 0,
                    "min": "0",
                    "max": "1",
                    "histogram": [
                      {
                        "bin_start": 0,
                        "bin_end": 0.1,
                        "count": 1
                      },
                      {
                        "bin_start": 0.1,
                        "bin_end": 0.2,
                        "count": 0
                      },
                      {
                        "bin_start": 0.2,
                        "bin_end": 0.30000000000000004,
                        "count": 0
                      },
                      {
                        "bin_start": 0.30000000000000004,
                        "bin_end": 0.4,
                        "count": 0
                      },
                      {
                        "bin_start": 0.4,
                        "bin_end": 0.5,
                        "count": 0
                      },
                      {
                        "bin_start": 0.5,
                        "bin_end": 0.6000000000000001,
                        "count": 0
                      },
                      {
                        "bin_start": 0.6000000000000001,
                        "bin_end": 0.7000000000000001,
                        "count": 0
                      },
                      {
                        "bin_start": 0.7000000000000001,
                        "bin_end": 0.8,
                        "count": 0
                      },
                      {
                        "bin_start": 0.8,
                        "bin_end": 0.9,
                        "count": 0
                      },
                      {
                        "bin_start": 0.9,
                        "bin_end": 1,
                        "count": 1
                      }
                    ]
                  }
                },
                {
                  "name": "when",
                  "dtype": "int64",
                  "stats": {
                    "unique_count": 2,
                    "nan_count": 0,
                    "min": "3",
                    "max": "4",
                    "histogram": [
                      {
                        "bin_start": 3,
                        "bin_end": 3.1,
                        "count": 1
                      },
                      {
                        "bin_start": 3.1,
                        "bin_end": 3.2,
                        "count": 0
                      },
                      {
                        "bin_start": 3.2,
                        "bin_end": 3.3,
                        "count": 0
                      },
                      {
                        "bin_start": 3.3,
                        "bin_end": 3.4,
                        "count": 0
                      },
                      {
                        "bin_start": 3.4,
                        "bin_end": 3.5,
                        "count": 0
                      },
                      {
                        "bin_start": 3.5,
                        "bin_end": 3.6,
                        "count": 0
                      },
                      {
                        "bin_start": 3.6,
                        "bin_end": 3.7,
                        "count": 0
                      },
                      {
                        "bin_start": 3.7,
                        "bin_end": 3.8,
                        "count": 0
                      },
                      {
                        "bin_start": 3.8,
                        "bin_end": 3.9,
                        "count": 0
                      },
                      {
                        "bin_start": 3.9,
                        "bin_end": 4,
                        "count": 1
                      }
                    ]
                  }
                },
                {
                  "name": "whilst",
                  "dtype": "int64",
                  "stats": {
                    "unique_count": 1,
                    "nan_count": 0,
                    "min": "1",
                    "max": "1",
                    "histogram": [
                      {
                        "bin_start": 0.5,
                        "bin_end": 0.6,
                        "count": 0
                      },
                      {
                        "bin_start": 0.6,
                        "bin_end": 0.7,
                        "count": 0
                      },
                      {
                        "bin_start": 0.7,
                        "bin_end": 0.8,
                        "count": 0
                      },
                      {
                        "bin_start": 0.8,
                        "bin_end": 0.9,
                        "count": 0
                      },
                      {
                        "bin_start": 0.9,
                        "bin_end": 1,
                        "count": 0
                      },
                      {
                        "bin_start": 1,
                        "bin_end": 1.1,
                        "count": 2
                      },
                      {
                        "bin_start": 1.1,
                        "bin_end": 1.2000000000000002,
                        "count": 0
                      },
                      {
                        "bin_start": 1.2000000000000002,
                        "bin_end": 1.3,
                        "count": 0
                      },
                      {
                        "bin_start": 1.3,
                        "bin_end": 1.4,
                        "count": 0
                      },
                      {
                        "bin_start": 1.4,
                        "bin_end": 1.5,
                        "count": 0
                      }
                    ]
                  }
                },
                {
                  "name": "why",
                  "dtype": "int64",
                  "stats": {
                    "unique_count": 1,
                    "nan_count": 0,
                    "min": "1",
                    "max": "1",
                    "histogram": [
                      {
                        "bin_start": 0.5,
                        "bin_end": 0.6,
                        "count": 0
                      },
                      {
                        "bin_start": 0.6,
                        "bin_end": 0.7,
                        "count": 0
                      },
                      {
                        "bin_start": 0.7,
                        "bin_end": 0.8,
                        "count": 0
                      },
                      {
                        "bin_start": 0.8,
                        "bin_end": 0.9,
                        "count": 0
                      },
                      {
                        "bin_start": 0.9,
                        "bin_end": 1,
                        "count": 0
                      },
                      {
                        "bin_start": 1,
                        "bin_end": 1.1,
                        "count": 2
                      },
                      {
                        "bin_start": 1.1,
                        "bin_end": 1.2000000000000002,
                        "count": 0
                      },
                      {
                        "bin_start": 1.2000000000000002,
                        "bin_end": 1.3,
                        "count": 0
                      },
                      {
                        "bin_start": 1.3,
                        "bin_end": 1.4,
                        "count": 0
                      },
                      {
                        "bin_start": 1.4,
                        "bin_end": 1.5,
                        "count": 0
                      }
                    ]
                  }
                },
                {
                  "name": "winter",
                  "dtype": "int64",
                  "stats": {
                    "unique_count": 1,
                    "nan_count": 0,
                    "min": "2",
                    "max": "2",
                    "histogram": [
                      {
                        "bin_start": 1.5,
                        "bin_end": 1.6,
                        "count": 0
                      },
                      {
                        "bin_start": 1.6,
                        "bin_end": 1.7,
                        "count": 0
                      },
                      {
                        "bin_start": 1.7,
                        "bin_end": 1.8,
                        "count": 0
                      },
                      {
                        "bin_start": 1.8,
                        "bin_end": 1.9,
                        "count": 0
                      },
                      {
                        "bin_start": 1.9,
                        "bin_end": 2,
                        "count": 0
                      },
                      {
                        "bin_start": 2,
                        "bin_end": 2.1,
                        "count": 2
                      },
                      {
                        "bin_start": 2.1,
                        "bin_end": 2.2,
                        "count": 0
                      },
                      {
                        "bin_start": 2.2,
                        "bin_end": 2.3,
                        "count": 0
                      },
                      {
                        "bin_start": 2.3,
                        "bin_end": 2.4,
                        "count": 0
                      },
                      {
                        "bin_start": 2.4,
                        "bin_end": 2.5,
                        "count": 0
                      }
                    ]
                  }
                },
                {
                  "name": "with",
                  "dtype": "int64",
                  "stats": {
                    "unique_count": 2,
                    "nan_count": 0,
                    "min": "0",
                    "max": "1",
                    "histogram": [
                      {
                        "bin_start": 0,
                        "bin_end": 0.1,
                        "count": 1
                      },
                      {
                        "bin_start": 0.1,
                        "bin_end": 0.2,
                        "count": 0
                      },
                      {
                        "bin_start": 0.2,
                        "bin_end": 0.30000000000000004,
                        "count": 0
                      },
                      {
                        "bin_start": 0.30000000000000004,
                        "bin_end": 0.4,
                        "count": 0
                      },
                      {
                        "bin_start": 0.4,
                        "bin_end": 0.5,
                        "count": 0
                      },
                      {
                        "bin_start": 0.5,
                        "bin_end": 0.6000000000000001,
                        "count": 0
                      },
                      {
                        "bin_start": 0.6000000000000001,
                        "bin_end": 0.7000000000000001,
                        "count": 0
                      },
                      {
                        "bin_start": 0.7000000000000001,
                        "bin_end": 0.8,
                        "count": 0
                      },
                      {
                        "bin_start": 0.8,
                        "bin_end": 0.9,
                        "count": 0
                      },
                      {
                        "bin_start": 0.9,
                        "bin_end": 1,
                        "count": 1
                      }
                    ]
                  }
                },
                {
                  "name": "womens",
                  "dtype": "int64",
                  "stats": {
                    "unique_count": 1,
                    "nan_count": 0,
                    "min": "1",
                    "max": "1",
                    "histogram": [
                      {
                        "bin_start": 0.5,
                        "bin_end": 0.6,
                        "count": 0
                      },
                      {
                        "bin_start": 0.6,
                        "bin_end": 0.7,
                        "count": 0
                      },
                      {
                        "bin_start": 0.7,
                        "bin_end": 0.8,
                        "count": 0
                      },
                      {
                        "bin_start": 0.8,
                        "bin_end": 0.9,
                        "count": 0
                      },
                      {
                        "bin_start": 0.9,
                        "bin_end": 1,
                        "count": 0
                      },
                      {
                        "bin_start": 1,
                        "bin_end": 1.1,
                        "count": 2
                      },
                      {
                        "bin_start": 1.1,
                        "bin_end": 1.2000000000000002,
                        "count": 0
                      },
                      {
                        "bin_start": 1.2000000000000002,
                        "bin_end": 1.3,
                        "count": 0
                      },
                      {
                        "bin_start": 1.3,
                        "bin_end": 1.4,
                        "count": 0
                      },
                      {
                        "bin_start": 1.4,
                        "bin_end": 1.5,
                        "count": 0
                      }
                    ]
                  }
                },
                {
                  "name": "worked",
                  "dtype": "int64",
                  "stats": {
                    "unique_count": 1,
                    "nan_count": 0,
                    "min": "1",
                    "max": "1",
                    "histogram": [
                      {
                        "bin_start": 0.5,
                        "bin_end": 0.6,
                        "count": 0
                      },
                      {
                        "bin_start": 0.6,
                        "bin_end": 0.7,
                        "count": 0
                      },
                      {
                        "bin_start": 0.7,
                        "bin_end": 0.8,
                        "count": 0
                      },
                      {
                        "bin_start": 0.8,
                        "bin_end": 0.9,
                        "count": 0
                      },
                      {
                        "bin_start": 0.9,
                        "bin_end": 1,
                        "count": 0
                      },
                      {
                        "bin_start": 1,
                        "bin_end": 1.1,
                        "count": 2
                      },
                      {
                        "bin_start": 1.1,
                        "bin_end": 1.2000000000000002,
                        "count": 0
                      },
                      {
                        "bin_start": 1.2000000000000002,
                        "bin_end": 1.3,
                        "count": 0
                      },
                      {
                        "bin_start": 1.3,
                        "bin_end": 1.4,
                        "count": 0
                      },
                      {
                        "bin_start": 1.4,
                        "bin_end": 1.5,
                        "count": 0
                      }
                    ]
                  }
                },
                {
                  "name": "working",
                  "dtype": "int64",
                  "stats": {
                    "unique_count": 1,
                    "nan_count": 0,
                    "min": "1",
                    "max": "1",
                    "histogram": [
                      {
                        "bin_start": 0.5,
                        "bin_end": 0.6,
                        "count": 0
                      },
                      {
                        "bin_start": 0.6,
                        "bin_end": 0.7,
                        "count": 0
                      },
                      {
                        "bin_start": 0.7,
                        "bin_end": 0.8,
                        "count": 0
                      },
                      {
                        "bin_start": 0.8,
                        "bin_end": 0.9,
                        "count": 0
                      },
                      {
                        "bin_start": 0.9,
                        "bin_end": 1,
                        "count": 0
                      },
                      {
                        "bin_start": 1,
                        "bin_end": 1.1,
                        "count": 2
                      },
                      {
                        "bin_start": 1.1,
                        "bin_end": 1.2000000000000002,
                        "count": 0
                      },
                      {
                        "bin_start": 1.2000000000000002,
                        "bin_end": 1.3,
                        "count": 0
                      },
                      {
                        "bin_start": 1.3,
                        "bin_end": 1.4,
                        "count": 0
                      },
                      {
                        "bin_start": 1.4,
                        "bin_end": 1.5,
                        "count": 0
                      }
                    ]
                  }
                },
                {
                  "name": "year",
                  "dtype": "int64",
                  "stats": {
                    "unique_count": 2,
                    "nan_count": 0,
                    "min": "0",
                    "max": "1",
                    "histogram": [
                      {
                        "bin_start": 0,
                        "bin_end": 0.1,
                        "count": 1
                      },
                      {
                        "bin_start": 0.1,
                        "bin_end": 0.2,
                        "count": 0
                      },
                      {
                        "bin_start": 0.2,
                        "bin_end": 0.30000000000000004,
                        "count": 0
                      },
                      {
                        "bin_start": 0.30000000000000004,
                        "bin_end": 0.4,
                        "count": 0
                      },
                      {
                        "bin_start": 0.4,
                        "bin_end": 0.5,
                        "count": 0
                      },
                      {
                        "bin_start": 0.5,
                        "bin_end": 0.6000000000000001,
                        "count": 0
                      },
                      {
                        "bin_start": 0.6000000000000001,
                        "bin_end": 0.7000000000000001,
                        "count": 0
                      },
                      {
                        "bin_start": 0.7000000000000001,
                        "bin_end": 0.8,
                        "count": 0
                      },
                      {
                        "bin_start": 0.8,
                        "bin_end": 0.9,
                        "count": 0
                      },
                      {
                        "bin_start": 0.9,
                        "bin_end": 1,
                        "count": 1
                      }
                    ]
                  }
                },
                {
                  "name": "you",
                  "dtype": "int64",
                  "stats": {
                    "unique_count": 1,
                    "nan_count": 0,
                    "min": "2",
                    "max": "2",
                    "histogram": [
                      {
                        "bin_start": 1.5,
                        "bin_end": 1.6,
                        "count": 0
                      },
                      {
                        "bin_start": 1.6,
                        "bin_end": 1.7,
                        "count": 0
                      },
                      {
                        "bin_start": 1.7,
                        "bin_end": 1.8,
                        "count": 0
                      },
                      {
                        "bin_start": 1.8,
                        "bin_end": 1.9,
                        "count": 0
                      },
                      {
                        "bin_start": 1.9,
                        "bin_end": 2,
                        "count": 0
                      },
                      {
                        "bin_start": 2,
                        "bin_end": 2.1,
                        "count": 2
                      },
                      {
                        "bin_start": 2.1,
                        "bin_end": 2.2,
                        "count": 0
                      },
                      {
                        "bin_start": 2.2,
                        "bin_end": 2.3,
                        "count": 0
                      },
                      {
                        "bin_start": 2.3,
                        "bin_end": 2.4,
                        "count": 0
                      },
                      {
                        "bin_start": 2.4,
                        "bin_end": 2.5,
                        "count": 0
                      }
                    ]
                  }
                },
                {
                  "name": "_deepnote_index_column",
                  "dtype": "object"
                }
              ],
              "rows": [
                {
                  "17": 2,
                  "30pm": 1,
                  "50s": 1,
                  "60s": 1,
                  "about": 2,
                  "actually": 1,
                  "after": 1,
                  "all": 1,
                  "already": 1,
                  "and": 6,
                  "around": 1,
                  "as": 4,
                  "asking": 1,
                  "awkwardly": 1,
                  "below": 1,
                  "blowjob": 1,
                  "boots": 2,
                  "both": 1,
                  "bought": 1,
                  "by": 2,
                  "came": 1,
                  "cashing": 1,
                  "clothing": 2,
                  "confirmed": 1,
                  "dark": 1,
                  "didn": 1,
                  "display": 1,
                  "don": 2,
                  "down": 1,
                  "during": 1,
                  "early": 1,
                  "even": 1,
                  "evening": 1,
                  "extremely": 1,
                  "find": 1,
                  "floor": 2,
                  "for": 1,
                  "gave": 1,
                  "get": 1,
                  "had": 1,
                  "he": 3,
                  "him": 1,
                  "his": 2,
                  "ignore": 1,
                  "ignored": 1,
                  "in": 5,
                  "insinuating": 1,
                  "it": 6,
                  "items": 1,
                  "just": 2,
                  "kept": 1,
                  "knelt": 1,
                  "late": 1,
                  "left": 1,
                  "makes": 1,
                  "man": 1,
                  "manager": 2,
                  "me": 2,
                  "mens": 1,
                  "my": 2,
                  "myself": 1,
                  "naive": 1,
                  "now": 1,
                  "of": 1,
                  "offer": 1,
                  "old": 1,
                  "on": 3,
                  "one": 1,
                  "overtime": 1,
                  "quite": 3,
                  "re": 1,
                  "room": 1,
                  "said": 1,
                  "she": 2,
                  "shocked": 1,
                  "shop": 1,
                  "size": 1,
                  "smiled": 1,
                  "so": 3,
                  "sold": 1,
                  "some": 1,
                  "speak": 1,
                  "special": 1,
                  "started": 1,
                  "stock": 2,
                  "store": 1,
                  "table": 1,
                  "take": 1,
                  "team": 1,
                  "that": 2,
                  "the": 10,
                  "there": 1,
                  "think": 1,
                  "to": 3,
                  "told": 1,
                  "uncomfortable": 1,
                  "understand": 1,
                  "unisex": 1,
                  "up": 1,
                  "upset": 2,
                  "was": 8,
                  "we": 2,
                  "well": 1,
                  "went": 1,
                  "when": 4,
                  "whilst": 1,
                  "why": 1,
                  "winter": 2,
                  "with": 1,
                  "womens": 1,
                  "worked": 1,
                  "working": 1,
                  "year": 1,
                  "you": 2,
                  "_deepnote_index_column": "Document 1"
                },
                {
                  "17": 1,
                  "30pm": 1,
                  "50s": 1,
                  "60s": 1,
                  "about": 1,
                  "actually": 0,
                  "after": 0,
                  "all": 1,
                  "already": 1,
                  "and": 2,
                  "around": 1,
                  "as": 3,
                  "asking": 1,
                  "awkwardly": 0,
                  "below": 1,
                  "blowjob": 0,
                  "boots": 1,
                  "both": 1,
                  "bought": 0,
                  "by": 1,
                  "came": 1,
                  "cashing": 1,
                  "clothing": 2,
                  "confirmed": 0,
                  "dark": 1,
                  "didn": 0,
                  "display": 1,
                  "don": 1,
                  "down": 1,
                  "during": 1,
                  "early": 1,
                  "even": 0,
                  "evening": 1,
                  "extremely": 0,
                  "find": 1,
                  "floor": 2,
                  "for": 1,
                  "gave": 0,
                  "get": 0,
                  "had": 1,
                  "he": 1,
                  "him": 0,
                  "his": 2,
                  "ignore": 0,
                  "ignored": 0,
                  "in": 5,
                  "insinuating": 0,
                  "it": 1,
                  "items": 1,
                  "just": 0,
                  "kept": 1,
                  "knelt": 1,
                  "late": 1,
                  "left": 0,
                  "makes": 0,
                  "man": 1,
                  "manager": 1,
                  "me": 0,
                  "mens": 1,
                  "my": 1,
                  "myself": 1,
                  "naive": 0,
                  "now": 0,
                  "of": 1,
                  "offer": 1,
                  "old": 0,
                  "on": 3,
                  "one": 1,
                  "overtime": 1,
                  "quite": 0,
                  "re": 1,
                  "room": 1,
                  "said": 1,
                  "she": 0,
                  "shocked": 0,
                  "shop": 1,
                  "size": 1,
                  "smiled": 0,
                  "so": 2,
                  "sold": 1,
                  "some": 1,
                  "speak": 0,
                  "special": 1,
                  "started": 1,
                  "stock": 2,
                  "store": 1,
                  "table": 1,
                  "take": 1,
                  "team": 1,
                  "that": 1,
                  "the": 9,
                  "there": 1,
                  "think": 0,
                  "to": 1,
                  "told": 0,
                  "uncomfortable": 0,
                  "understand": 0,
                  "unisex": 1,
                  "up": 1,
                  "upset": 0,
                  "was": 5,
                  "we": 2,
                  "well": 1,
                  "went": 0,
                  "when": 3,
                  "whilst": 1,
                  "why": 1,
                  "winter": 2,
                  "with": 0,
                  "womens": 1,
                  "worked": 1,
                  "working": 1,
                  "year": 0,
                  "you": 2,
                  "_deepnote_index_column": "Document 2"
                }
              ]
            },
            "text/plain": "            17  30pm  50s  60s  about  actually  after  all  already  and  \\\nDocument 1   2     1    1    1      2         1      1    1        1    6   \nDocument 2   1     1    1    1      1         0      0    1        1    2   \n\n            ...  when  whilst  why  winter  with  womens  worked  working  \\\nDocument 1  ...     4       1    1       2     1       1       1        1   \nDocument 2  ...     3       1    1       2     0       1       1        1   \n\n            year  you  \nDocument 1     1    2  \nDocument 2     0    2  \n\n[2 rows x 114 columns]",
            "text/html": "<div>\n<style scoped>\n    .dataframe tbody tr th:only-of-type {\n        vertical-align: middle;\n    }\n\n    .dataframe tbody tr th {\n        vertical-align: top;\n    }\n\n    .dataframe thead th {\n        text-align: right;\n    }\n</style>\n<table border=\"1\" class=\"dataframe\">\n  <thead>\n    <tr style=\"text-align: right;\">\n      <th></th>\n      <th>17</th>\n      <th>30pm</th>\n      <th>50s</th>\n      <th>60s</th>\n      <th>about</th>\n      <th>actually</th>\n      <th>after</th>\n      <th>all</th>\n      <th>already</th>\n      <th>and</th>\n      <th>...</th>\n      <th>when</th>\n      <th>whilst</th>\n      <th>why</th>\n      <th>winter</th>\n      <th>with</th>\n      <th>womens</th>\n      <th>worked</th>\n      <th>working</th>\n      <th>year</th>\n      <th>you</th>\n    </tr>\n  </thead>\n  <tbody>\n    <tr>\n      <th>Document 1</th>\n      <td>2</td>\n      <td>1</td>\n      <td>1</td>\n      <td>1</td>\n      <td>2</td>\n      <td>1</td>\n      <td>1</td>\n      <td>1</td>\n      <td>1</td>\n      <td>6</td>\n      <td>...</td>\n      <td>4</td>\n      <td>1</td>\n      <td>1</td>\n      <td>2</td>\n      <td>1</td>\n      <td>1</td>\n      <td>1</td>\n      <td>1</td>\n      <td>1</td>\n      <td>2</td>\n    </tr>\n    <tr>\n      <th>Document 2</th>\n      <td>1</td>\n      <td>1</td>\n      <td>1</td>\n      <td>1</td>\n      <td>1</td>\n      <td>0</td>\n      <td>0</td>\n      <td>1</td>\n      <td>1</td>\n      <td>2</td>\n      <td>...</td>\n      <td>3</td>\n      <td>1</td>\n      <td>1</td>\n      <td>2</td>\n      <td>0</td>\n      <td>1</td>\n      <td>1</td>\n      <td>1</td>\n      <td>0</td>\n      <td>2</td>\n    </tr>\n  </tbody>\n</table>\n<p>2 rows × 114 columns</p>\n</div>"
          },
          "metadata": {}
        }
      ],
      "execution_count": null,
      "block_group": "4d634cf1784e4303bdabc93a0ffc0fcc"
    },
    {
      "cell_type": "code",
      "source": "from sklearn.feature_extraction.text import TfidfVectorizer\nvectorizer = TfidfVectorizer()\n\ntrsfm=vectorizer.fit_transform(corpus)\npd.DataFrame(trsfm.toarray(),columns=vectorizer.get_feature_names(),index=['Document 1','Document 2'])\n",
      "metadata": {
        "source_hash": null,
        "execution_start": 1699310230534,
        "execution_millis": 203,
        "deepnote_to_be_reexecuted": true,
        "cell_id": "26198f9990da4ed39a71b9514d7b7b76",
        "deepnote_cell_type": "code"
      },
      "outputs": [
        {
          "name": "stderr",
          "text": "/shared-libs/python3.9/py/lib/python3.9/site-packages/sklearn/utils/deprecation.py:87: FutureWarning: Function get_feature_names is deprecated; get_feature_names is deprecated in 1.0 and will be removed in 1.2. Please use get_feature_names_out instead.\n  warnings.warn(msg, category=FutureWarning)\n",
          "output_type": "stream"
        },
        {
          "output_type": "execute_result",
          "execution_count": 10,
          "data": {
            "application/vnd.deepnote.dataframe.v3+json": {
              "column_count": 114,
              "row_count": 2,
              "columns": [
                {
                  "name": "17",
                  "dtype": "float64",
                  "stats": {
                    "unique_count": 2,
                    "nan_count": 0,
                    "min": "0.062257280636469035",
                    "max": "0.08523045915947505",
                    "histogram": [
                      {
                        "bin_start": 0.062257280636469035,
                        "bin_end": 0.06455459848876964,
                        "count": 1
                      },
                      {
                        "bin_start": 0.06455459848876964,
                        "bin_end": 0.06685191634107024,
                        "count": 0
                      },
                      {
                        "bin_start": 0.06685191634107024,
                        "bin_end": 0.06914923419337084,
                        "count": 0
                      },
                      {
                        "bin_start": 0.06914923419337084,
                        "bin_end": 0.07144655204567144,
                        "count": 0
                      },
                      {
                        "bin_start": 0.07144655204567144,
                        "bin_end": 0.07374386989797205,
                        "count": 0
                      },
                      {
                        "bin_start": 0.07374386989797205,
                        "bin_end": 0.07604118775027265,
                        "count": 0
                      },
                      {
                        "bin_start": 0.07604118775027265,
                        "bin_end": 0.07833850560257324,
                        "count": 0
                      },
                      {
                        "bin_start": 0.07833850560257324,
                        "bin_end": 0.08063582345487386,
                        "count": 0
                      },
                      {
                        "bin_start": 0.08063582345487386,
                        "bin_end": 0.08293314130717445,
                        "count": 0
                      },
                      {
                        "bin_start": 0.08293314130717445,
                        "bin_end": 0.08523045915947505,
                        "count": 1
                      }
                    ]
                  }
                },
                {
                  "name": "30pm",
                  "dtype": "float64",
                  "stats": {
                    "unique_count": 2,
                    "nan_count": 0,
                    "min": "0.042615229579737526",
                    "max": "0.062257280636469035",
                    "histogram": [
                      {
                        "bin_start": 0.042615229579737526,
                        "bin_end": 0.044579434685410674,
                        "count": 1
                      },
                      {
                        "bin_start": 0.044579434685410674,
                        "bin_end": 0.04654363979108383,
                        "count": 0
                      },
                      {
                        "bin_start": 0.04654363979108383,
                        "bin_end": 0.04850784489675698,
                        "count": 0
                      },
                      {
                        "bin_start": 0.04850784489675698,
                        "bin_end": 0.05047205000243013,
                        "count": 0
                      },
                      {
                        "bin_start": 0.05047205000243013,
                        "bin_end": 0.05243625510810328,
                        "count": 0
                      },
                      {
                        "bin_start": 0.05243625510810328,
                        "bin_end": 0.05440046021377643,
                        "count": 0
                      },
                      {
                        "bin_start": 0.05440046021377643,
                        "bin_end": 0.056364665319449586,
                        "count": 0
                      },
                      {
                        "bin_start": 0.056364665319449586,
                        "bin_end": 0.058328870425122734,
                        "count": 0
                      },
                      {
                        "bin_start": 0.058328870425122734,
                        "bin_end": 0.06029307553079588,
                        "count": 0
                      },
                      {
                        "bin_start": 0.06029307553079588,
                        "bin_end": 0.062257280636469035,
                        "count": 1
                      }
                    ]
                  }
                },
                {
                  "name": "50s",
                  "dtype": "float64",
                  "stats": {
                    "unique_count": 2,
                    "nan_count": 0,
                    "min": "0.042615229579737526",
                    "max": "0.062257280636469035",
                    "histogram": [
                      {
                        "bin_start": 0.042615229579737526,
                        "bin_end": 0.044579434685410674,
                        "count": 1
                      },
                      {
                        "bin_start": 0.044579434685410674,
                        "bin_end": 0.04654363979108383,
                        "count": 0
                      },
                      {
                        "bin_start": 0.04654363979108383,
                        "bin_end": 0.04850784489675698,
                        "count": 0
                      },
                      {
                        "bin_start": 0.04850784489675698,
                        "bin_end": 0.05047205000243013,
                        "count": 0
                      },
                      {
                        "bin_start": 0.05047205000243013,
                        "bin_end": 0.05243625510810328,
                        "count": 0
                      },
                      {
                        "bin_start": 0.05243625510810328,
                        "bin_end": 0.05440046021377643,
                        "count": 0
                      },
                      {
                        "bin_start": 0.05440046021377643,
                        "bin_end": 0.056364665319449586,
                        "count": 0
                      },
                      {
                        "bin_start": 0.056364665319449586,
                        "bin_end": 0.058328870425122734,
                        "count": 0
                      },
                      {
                        "bin_start": 0.058328870425122734,
                        "bin_end": 0.06029307553079588,
                        "count": 0
                      },
                      {
                        "bin_start": 0.06029307553079588,
                        "bin_end": 0.062257280636469035,
                        "count": 1
                      }
                    ]
                  }
                },
                {
                  "name": "60s",
                  "dtype": "float64",
                  "stats": {
                    "unique_count": 2,
                    "nan_count": 0,
                    "min": "0.042615229579737526",
                    "max": "0.062257280636469035",
                    "histogram": [
                      {
                        "bin_start": 0.042615229579737526,
                        "bin_end": 0.044579434685410674,
                        "count": 1
                      },
                      {
                        "bin_start": 0.044579434685410674,
                        "bin_end": 0.04654363979108383,
                        "count": 0
                      },
                      {
                        "bin_start": 0.04654363979108383,
                        "bin_end": 0.04850784489675698,
                        "count": 0
                      },
                      {
                        "bin_start": 0.04850784489675698,
                        "bin_end": 0.05047205000243013,
                        "count": 0
                      },
                      {
                        "bin_start": 0.05047205000243013,
                        "bin_end": 0.05243625510810328,
                        "count": 0
                      },
                      {
                        "bin_start": 0.05243625510810328,
                        "bin_end": 0.05440046021377643,
                        "count": 0
                      },
                      {
                        "bin_start": 0.05440046021377643,
                        "bin_end": 0.056364665319449586,
                        "count": 0
                      },
                      {
                        "bin_start": 0.056364665319449586,
                        "bin_end": 0.058328870425122734,
                        "count": 0
                      },
                      {
                        "bin_start": 0.058328870425122734,
                        "bin_end": 0.06029307553079588,
                        "count": 0
                      },
                      {
                        "bin_start": 0.06029307553079588,
                        "bin_end": 0.062257280636469035,
                        "count": 1
                      }
                    ]
                  }
                },
                {
                  "name": "about",
                  "dtype": "float64",
                  "stats": {
                    "unique_count": 2,
                    "nan_count": 0,
                    "min": "0.062257280636469035",
                    "max": "0.08523045915947505",
                    "histogram": [
                      {
                        "bin_start": 0.062257280636469035,
                        "bin_end": 0.06455459848876964,
                        "count": 1
                      },
                      {
                        "bin_start": 0.06455459848876964,
                        "bin_end": 0.06685191634107024,
                        "count": 0
                      },
                      {
                        "bin_start": 0.06685191634107024,
                        "bin_end": 0.06914923419337084,
                        "count": 0
                      },
                      {
                        "bin_start": 0.06914923419337084,
                        "bin_end": 0.07144655204567144,
                        "count": 0
                      },
                      {
                        "bin_start": 0.07144655204567144,
                        "bin_end": 0.07374386989797205,
                        "count": 0
                      },
                      {
                        "bin_start": 0.07374386989797205,
                        "bin_end": 0.07604118775027265,
                        "count": 0
                      },
                      {
                        "bin_start": 0.07604118775027265,
                        "bin_end": 0.07833850560257324,
                        "count": 0
                      },
                      {
                        "bin_start": 0.07833850560257324,
                        "bin_end": 0.08063582345487386,
                        "count": 0
                      },
                      {
                        "bin_start": 0.08063582345487386,
                        "bin_end": 0.08293314130717445,
                        "count": 0
                      },
                      {
                        "bin_start": 0.08293314130717445,
                        "bin_end": 0.08523045915947505,
                        "count": 1
                      }
                    ]
                  }
                },
                {
                  "name": "actually",
                  "dtype": "float64",
                  "stats": {
                    "unique_count": 2,
                    "nan_count": 0,
                    "min": "0.0",
                    "max": "0.05989421824834005",
                    "histogram": [
                      {
                        "bin_start": 0,
                        "bin_end": 0.005989421824834005,
                        "count": 1
                      },
                      {
                        "bin_start": 0.005989421824834005,
                        "bin_end": 0.01197884364966801,
                        "count": 0
                      },
                      {
                        "bin_start": 0.01197884364966801,
                        "bin_end": 0.017968265474502015,
                        "count": 0
                      },
                      {
                        "bin_start": 0.017968265474502015,
                        "bin_end": 0.02395768729933602,
                        "count": 0
                      },
                      {
                        "bin_start": 0.02395768729933602,
                        "bin_end": 0.029947109124170024,
                        "count": 0
                      },
                      {
                        "bin_start": 0.029947109124170024,
                        "bin_end": 0.03593653094900403,
                        "count": 0
                      },
                      {
                        "bin_start": 0.03593653094900403,
                        "bin_end": 0.04192595277383804,
                        "count": 0
                      },
                      {
                        "bin_start": 0.04192595277383804,
                        "bin_end": 0.04791537459867204,
                        "count": 0
                      },
                      {
                        "bin_start": 0.04791537459867204,
                        "bin_end": 0.05390479642350604,
                        "count": 0
                      },
                      {
                        "bin_start": 0.05390479642350604,
                        "bin_end": 0.05989421824834005,
                        "count": 1
                      }
                    ]
                  }
                },
                {
                  "name": "after",
                  "dtype": "float64",
                  "stats": {
                    "unique_count": 2,
                    "nan_count": 0,
                    "min": "0.0",
                    "max": "0.05989421824834005",
                    "histogram": [
                      {
                        "bin_start": 0,
                        "bin_end": 0.005989421824834005,
                        "count": 1
                      },
                      {
                        "bin_start": 0.005989421824834005,
                        "bin_end": 0.01197884364966801,
                        "count": 0
                      },
                      {
                        "bin_start": 0.01197884364966801,
                        "bin_end": 0.017968265474502015,
                        "count": 0
                      },
                      {
                        "bin_start": 0.017968265474502015,
                        "bin_end": 0.02395768729933602,
                        "count": 0
                      },
                      {
                        "bin_start": 0.02395768729933602,
                        "bin_end": 0.029947109124170024,
                        "count": 0
                      },
                      {
                        "bin_start": 0.029947109124170024,
                        "bin_end": 0.03593653094900403,
                        "count": 0
                      },
                      {
                        "bin_start": 0.03593653094900403,
                        "bin_end": 0.04192595277383804,
                        "count": 0
                      },
                      {
                        "bin_start": 0.04192595277383804,
                        "bin_end": 0.04791537459867204,
                        "count": 0
                      },
                      {
                        "bin_start": 0.04791537459867204,
                        "bin_end": 0.05390479642350604,
                        "count": 0
                      },
                      {
                        "bin_start": 0.05390479642350604,
                        "bin_end": 0.05989421824834005,
                        "count": 1
                      }
                    ]
                  }
                },
                {
                  "name": "all",
                  "dtype": "float64",
                  "stats": {
                    "unique_count": 2,
                    "nan_count": 0,
                    "min": "0.042615229579737526",
                    "max": "0.062257280636469035",
                    "histogram": [
                      {
                        "bin_start": 0.042615229579737526,
                        "bin_end": 0.044579434685410674,
                        "count": 1
                      },
                      {
                        "bin_start": 0.044579434685410674,
                        "bin_end": 0.04654363979108383,
                        "count": 0
                      },
                      {
                        "bin_start": 0.04654363979108383,
                        "bin_end": 0.04850784489675698,
                        "count": 0
                      },
                      {
                        "bin_start": 0.04850784489675698,
                        "bin_end": 0.05047205000243013,
                        "count": 0
                      },
                      {
                        "bin_start": 0.05047205000243013,
                        "bin_end": 0.05243625510810328,
                        "count": 0
                      },
                      {
                        "bin_start": 0.05243625510810328,
                        "bin_end": 0.05440046021377643,
                        "count": 0
                      },
                      {
                        "bin_start": 0.05440046021377643,
                        "bin_end": 0.056364665319449586,
                        "count": 0
                      },
                      {
                        "bin_start": 0.056364665319449586,
                        "bin_end": 0.058328870425122734,
                        "count": 0
                      },
                      {
                        "bin_start": 0.058328870425122734,
                        "bin_end": 0.06029307553079588,
                        "count": 0
                      },
                      {
                        "bin_start": 0.06029307553079588,
                        "bin_end": 0.062257280636469035,
                        "count": 1
                      }
                    ]
                  }
                },
                {
                  "name": "already",
                  "dtype": "float64",
                  "stats": {
                    "unique_count": 2,
                    "nan_count": 0,
                    "min": "0.042615229579737526",
                    "max": "0.062257280636469035",
                    "histogram": [
                      {
                        "bin_start": 0.042615229579737526,
                        "bin_end": 0.044579434685410674,
                        "count": 1
                      },
                      {
                        "bin_start": 0.044579434685410674,
                        "bin_end": 0.04654363979108383,
                        "count": 0
                      },
                      {
                        "bin_start": 0.04654363979108383,
                        "bin_end": 0.04850784489675698,
                        "count": 0
                      },
                      {
                        "bin_start": 0.04850784489675698,
                        "bin_end": 0.05047205000243013,
                        "count": 0
                      },
                      {
                        "bin_start": 0.05047205000243013,
                        "bin_end": 0.05243625510810328,
                        "count": 0
                      },
                      {
                        "bin_start": 0.05243625510810328,
                        "bin_end": 0.05440046021377643,
                        "count": 0
                      },
                      {
                        "bin_start": 0.05440046021377643,
                        "bin_end": 0.056364665319449586,
                        "count": 0
                      },
                      {
                        "bin_start": 0.056364665319449586,
                        "bin_end": 0.058328870425122734,
                        "count": 0
                      },
                      {
                        "bin_start": 0.058328870425122734,
                        "bin_end": 0.06029307553079588,
                        "count": 0
                      },
                      {
                        "bin_start": 0.06029307553079588,
                        "bin_end": 0.062257280636469035,
                        "count": 1
                      }
                    ]
                  }
                },
                {
                  "name": "and",
                  "dtype": "float64",
                  "stats": {
                    "unique_count": 2,
                    "nan_count": 0,
                    "min": "0.12451456127293807",
                    "max": "0.2556913774784252",
                    "histogram": [
                      {
                        "bin_start": 0.12451456127293807,
                        "bin_end": 0.13763224289348677,
                        "count": 1
                      },
                      {
                        "bin_start": 0.13763224289348677,
                        "bin_end": 0.1507499245140355,
                        "count": 0
                      },
                      {
                        "bin_start": 0.1507499245140355,
                        "bin_end": 0.1638676061345842,
                        "count": 0
                      },
                      {
                        "bin_start": 0.1638676061345842,
                        "bin_end": 0.17698528775513292,
                        "count": 0
                      },
                      {
                        "bin_start": 0.17698528775513292,
                        "bin_end": 0.1901029693756816,
                        "count": 0
                      },
                      {
                        "bin_start": 0.1901029693756816,
                        "bin_end": 0.20322065099623032,
                        "count": 0
                      },
                      {
                        "bin_start": 0.20322065099623032,
                        "bin_end": 0.21633833261677904,
                        "count": 0
                      },
                      {
                        "bin_start": 0.21633833261677904,
                        "bin_end": 0.22945601423732775,
                        "count": 0
                      },
                      {
                        "bin_start": 0.22945601423732775,
                        "bin_end": 0.24257369585787647,
                        "count": 0
                      },
                      {
                        "bin_start": 0.24257369585787647,
                        "bin_end": 0.2556913774784252,
                        "count": 1
                      }
                    ]
                  }
                },
                {
                  "name": "around",
                  "dtype": "float64",
                  "stats": {
                    "unique_count": 2,
                    "nan_count": 0,
                    "min": "0.042615229579737526",
                    "max": "0.062257280636469035",
                    "histogram": [
                      {
                        "bin_start": 0.042615229579737526,
                        "bin_end": 0.044579434685410674,
                        "count": 1
                      },
                      {
                        "bin_start": 0.044579434685410674,
                        "bin_end": 0.04654363979108383,
                        "count": 0
                      },
                      {
                        "bin_start": 0.04654363979108383,
                        "bin_end": 0.04850784489675698,
                        "count": 0
                      },
                      {
                        "bin_start": 0.04850784489675698,
                        "bin_end": 0.05047205000243013,
                        "count": 0
                      },
                      {
                        "bin_start": 0.05047205000243013,
                        "bin_end": 0.05243625510810328,
                        "count": 0
                      },
                      {
                        "bin_start": 0.05243625510810328,
                        "bin_end": 0.05440046021377643,
                        "count": 0
                      },
                      {
                        "bin_start": 0.05440046021377643,
                        "bin_end": 0.056364665319449586,
                        "count": 0
                      },
                      {
                        "bin_start": 0.056364665319449586,
                        "bin_end": 0.058328870425122734,
                        "count": 0
                      },
                      {
                        "bin_start": 0.058328870425122734,
                        "bin_end": 0.06029307553079588,
                        "count": 0
                      },
                      {
                        "bin_start": 0.06029307553079588,
                        "bin_end": 0.062257280636469035,
                        "count": 1
                      }
                    ]
                  }
                },
                {
                  "name": "as",
                  "dtype": "float64",
                  "stats": {
                    "unique_count": 2,
                    "nan_count": 0,
                    "min": "0.1704609183189501",
                    "max": "0.1867718419094071",
                    "histogram": [
                      {
                        "bin_start": 0.1704609183189501,
                        "bin_end": 0.17209201067799582,
                        "count": 1
                      },
                      {
                        "bin_start": 0.17209201067799582,
                        "bin_end": 0.1737231030370415,
                        "count": 0
                      },
                      {
                        "bin_start": 0.1737231030370415,
                        "bin_end": 0.1753541953960872,
                        "count": 0
                      },
                      {
                        "bin_start": 0.1753541953960872,
                        "bin_end": 0.1769852877551329,
                        "count": 0
                      },
                      {
                        "bin_start": 0.1769852877551329,
                        "bin_end": 0.1786163801141786,
                        "count": 0
                      },
                      {
                        "bin_start": 0.1786163801141786,
                        "bin_end": 0.1802474724732243,
                        "count": 0
                      },
                      {
                        "bin_start": 0.1802474724732243,
                        "bin_end": 0.18187856483227,
                        "count": 0
                      },
                      {
                        "bin_start": 0.18187856483227,
                        "bin_end": 0.1835096571913157,
                        "count": 0
                      },
                      {
                        "bin_start": 0.1835096571913157,
                        "bin_end": 0.1851407495503614,
                        "count": 0
                      },
                      {
                        "bin_start": 0.1851407495503614,
                        "bin_end": 0.1867718419094071,
                        "count": 1
                      }
                    ]
                  }
                },
                {
                  "name": "asking",
                  "dtype": "float64",
                  "stats": {
                    "unique_count": 2,
                    "nan_count": 0,
                    "min": "0.042615229579737526",
                    "max": "0.062257280636469035",
                    "histogram": [
                      {
                        "bin_start": 0.042615229579737526,
                        "bin_end": 0.044579434685410674,
                        "count": 1
                      },
                      {
                        "bin_start": 0.044579434685410674,
                        "bin_end": 0.04654363979108383,
                        "count": 0
                      },
                      {
                        "bin_start": 0.04654363979108383,
                        "bin_end": 0.04850784489675698,
                        "count": 0
                      },
                      {
                        "bin_start": 0.04850784489675698,
                        "bin_end": 0.05047205000243013,
                        "count": 0
                      },
                      {
                        "bin_start": 0.05047205000243013,
                        "bin_end": 0.05243625510810328,
                        "count": 0
                      },
                      {
                        "bin_start": 0.05243625510810328,
                        "bin_end": 0.05440046021377643,
                        "count": 0
                      },
                      {
                        "bin_start": 0.05440046021377643,
                        "bin_end": 0.056364665319449586,
                        "count": 0
                      },
                      {
                        "bin_start": 0.056364665319449586,
                        "bin_end": 0.058328870425122734,
                        "count": 0
                      },
                      {
                        "bin_start": 0.058328870425122734,
                        "bin_end": 0.06029307553079588,
                        "count": 0
                      },
                      {
                        "bin_start": 0.06029307553079588,
                        "bin_end": 0.062257280636469035,
                        "count": 1
                      }
                    ]
                  }
                },
                {
                  "name": "awkwardly",
                  "dtype": "float64",
                  "stats": {
                    "unique_count": 2,
                    "nan_count": 0,
                    "min": "0.0",
                    "max": "0.05989421824834005",
                    "histogram": [
                      {
                        "bin_start": 0,
                        "bin_end": 0.005989421824834005,
                        "count": 1
                      },
                      {
                        "bin_start": 0.005989421824834005,
                        "bin_end": 0.01197884364966801,
                        "count": 0
                      },
                      {
                        "bin_start": 0.01197884364966801,
                        "bin_end": 0.017968265474502015,
                        "count": 0
                      },
                      {
                        "bin_start": 0.017968265474502015,
                        "bin_end": 0.02395768729933602,
                        "count": 0
                      },
                      {
                        "bin_start": 0.02395768729933602,
                        "bin_end": 0.029947109124170024,
                        "count": 0
                      },
                      {
                        "bin_start": 0.029947109124170024,
                        "bin_end": 0.03593653094900403,
                        "count": 0
                      },
                      {
                        "bin_start": 0.03593653094900403,
                        "bin_end": 0.04192595277383804,
                        "count": 0
                      },
                      {
                        "bin_start": 0.04192595277383804,
                        "bin_end": 0.04791537459867204,
                        "count": 0
                      },
                      {
                        "bin_start": 0.04791537459867204,
                        "bin_end": 0.05390479642350604,
                        "count": 0
                      },
                      {
                        "bin_start": 0.05390479642350604,
                        "bin_end": 0.05989421824834005,
                        "count": 1
                      }
                    ]
                  }
                },
                {
                  "name": "below",
                  "dtype": "float64",
                  "stats": {
                    "unique_count": 2,
                    "nan_count": 0,
                    "min": "0.042615229579737526",
                    "max": "0.062257280636469035",
                    "histogram": [
                      {
                        "bin_start": 0.042615229579737526,
                        "bin_end": 0.044579434685410674,
                        "count": 1
                      },
                      {
                        "bin_start": 0.044579434685410674,
                        "bin_end": 0.04654363979108383,
                        "count": 0
                      },
                      {
                        "bin_start": 0.04654363979108383,
                        "bin_end": 0.04850784489675698,
                        "count": 0
                      },
                      {
                        "bin_start": 0.04850784489675698,
                        "bin_end": 0.05047205000243013,
                        "count": 0
                      },
                      {
                        "bin_start": 0.05047205000243013,
                        "bin_end": 0.05243625510810328,
                        "count": 0
                      },
                      {
                        "bin_start": 0.05243625510810328,
                        "bin_end": 0.05440046021377643,
                        "count": 0
                      },
                      {
                        "bin_start": 0.05440046021377643,
                        "bin_end": 0.056364665319449586,
                        "count": 0
                      },
                      {
                        "bin_start": 0.056364665319449586,
                        "bin_end": 0.058328870425122734,
                        "count": 0
                      },
                      {
                        "bin_start": 0.058328870425122734,
                        "bin_end": 0.06029307553079588,
                        "count": 0
                      },
                      {
                        "bin_start": 0.06029307553079588,
                        "bin_end": 0.062257280636469035,
                        "count": 1
                      }
                    ]
                  }
                },
                {
                  "name": "blowjob",
                  "dtype": "float64",
                  "stats": {
                    "unique_count": 2,
                    "nan_count": 0,
                    "min": "0.0",
                    "max": "0.05989421824834005",
                    "histogram": [
                      {
                        "bin_start": 0,
                        "bin_end": 0.005989421824834005,
                        "count": 1
                      },
                      {
                        "bin_start": 0.005989421824834005,
                        "bin_end": 0.01197884364966801,
                        "count": 0
                      },
                      {
                        "bin_start": 0.01197884364966801,
                        "bin_end": 0.017968265474502015,
                        "count": 0
                      },
                      {
                        "bin_start": 0.017968265474502015,
                        "bin_end": 0.02395768729933602,
                        "count": 0
                      },
                      {
                        "bin_start": 0.02395768729933602,
                        "bin_end": 0.029947109124170024,
                        "count": 0
                      },
                      {
                        "bin_start": 0.029947109124170024,
                        "bin_end": 0.03593653094900403,
                        "count": 0
                      },
                      {
                        "bin_start": 0.03593653094900403,
                        "bin_end": 0.04192595277383804,
                        "count": 0
                      },
                      {
                        "bin_start": 0.04192595277383804,
                        "bin_end": 0.04791537459867204,
                        "count": 0
                      },
                      {
                        "bin_start": 0.04791537459867204,
                        "bin_end": 0.05390479642350604,
                        "count": 0
                      },
                      {
                        "bin_start": 0.05390479642350604,
                        "bin_end": 0.05989421824834005,
                        "count": 1
                      }
                    ]
                  }
                },
                {
                  "name": "boots",
                  "dtype": "float64",
                  "stats": {
                    "unique_count": 2,
                    "nan_count": 0,
                    "min": "0.062257280636469035",
                    "max": "0.08523045915947505",
                    "histogram": [
                      {
                        "bin_start": 0.062257280636469035,
                        "bin_end": 0.06455459848876964,
                        "count": 1
                      },
                      {
                        "bin_start": 0.06455459848876964,
                        "bin_end": 0.06685191634107024,
                        "count": 0
                      },
                      {
                        "bin_start": 0.06685191634107024,
                        "bin_end": 0.06914923419337084,
                        "count": 0
                      },
                      {
                        "bin_start": 0.06914923419337084,
                        "bin_end": 0.07144655204567144,
                        "count": 0
                      },
                      {
                        "bin_start": 0.07144655204567144,
                        "bin_end": 0.07374386989797205,
                        "count": 0
                      },
                      {
                        "bin_start": 0.07374386989797205,
                        "bin_end": 0.07604118775027265,
                        "count": 0
                      },
                      {
                        "bin_start": 0.07604118775027265,
                        "bin_end": 0.07833850560257324,
                        "count": 0
                      },
                      {
                        "bin_start": 0.07833850560257324,
                        "bin_end": 0.08063582345487386,
                        "count": 0
                      },
                      {
                        "bin_start": 0.08063582345487386,
                        "bin_end": 0.08293314130717445,
                        "count": 0
                      },
                      {
                        "bin_start": 0.08293314130717445,
                        "bin_end": 0.08523045915947505,
                        "count": 1
                      }
                    ]
                  }
                },
                {
                  "name": "both",
                  "dtype": "float64",
                  "stats": {
                    "unique_count": 2,
                    "nan_count": 0,
                    "min": "0.042615229579737526",
                    "max": "0.062257280636469035",
                    "histogram": [
                      {
                        "bin_start": 0.042615229579737526,
                        "bin_end": 0.044579434685410674,
                        "count": 1
                      },
                      {
                        "bin_start": 0.044579434685410674,
                        "bin_end": 0.04654363979108383,
                        "count": 0
                      },
                      {
                        "bin_start": 0.04654363979108383,
                        "bin_end": 0.04850784489675698,
                        "count": 0
                      },
                      {
                        "bin_start": 0.04850784489675698,
                        "bin_end": 0.05047205000243013,
                        "count": 0
                      },
                      {
                        "bin_start": 0.05047205000243013,
                        "bin_end": 0.05243625510810328,
                        "count": 0
                      },
                      {
                        "bin_start": 0.05243625510810328,
                        "bin_end": 0.05440046021377643,
                        "count": 0
                      },
                      {
                        "bin_start": 0.05440046021377643,
                        "bin_end": 0.056364665319449586,
                        "count": 0
                      },
                      {
                        "bin_start": 0.056364665319449586,
                        "bin_end": 0.058328870425122734,
                        "count": 0
                      },
                      {
                        "bin_start": 0.058328870425122734,
                        "bin_end": 0.06029307553079588,
                        "count": 0
                      },
                      {
                        "bin_start": 0.06029307553079588,
                        "bin_end": 0.062257280636469035,
                        "count": 1
                      }
                    ]
                  }
                },
                {
                  "name": "bought",
                  "dtype": "float64",
                  "stats": {
                    "unique_count": 2,
                    "nan_count": 0,
                    "min": "0.0",
                    "max": "0.05989421824834005",
                    "histogram": [
                      {
                        "bin_start": 0,
                        "bin_end": 0.005989421824834005,
                        "count": 1
                      },
                      {
                        "bin_start": 0.005989421824834005,
                        "bin_end": 0.01197884364966801,
                        "count": 0
                      },
                      {
                        "bin_start": 0.01197884364966801,
                        "bin_end": 0.017968265474502015,
                        "count": 0
                      },
                      {
                        "bin_start": 0.017968265474502015,
                        "bin_end": 0.02395768729933602,
                        "count": 0
                      },
                      {
                        "bin_start": 0.02395768729933602,
                        "bin_end": 0.029947109124170024,
                        "count": 0
                      },
                      {
                        "bin_start": 0.029947109124170024,
                        "bin_end": 0.03593653094900403,
                        "count": 0
                      },
                      {
                        "bin_start": 0.03593653094900403,
                        "bin_end": 0.04192595277383804,
                        "count": 0
                      },
                      {
                        "bin_start": 0.04192595277383804,
                        "bin_end": 0.04791537459867204,
                        "count": 0
                      },
                      {
                        "bin_start": 0.04791537459867204,
                        "bin_end": 0.05390479642350604,
                        "count": 0
                      },
                      {
                        "bin_start": 0.05390479642350604,
                        "bin_end": 0.05989421824834005,
                        "count": 1
                      }
                    ]
                  }
                },
                {
                  "name": "by",
                  "dtype": "float64",
                  "stats": {
                    "unique_count": 2,
                    "nan_count": 0,
                    "min": "0.062257280636469035",
                    "max": "0.08523045915947505",
                    "histogram": [
                      {
                        "bin_start": 0.062257280636469035,
                        "bin_end": 0.06455459848876964,
                        "count": 1
                      },
                      {
                        "bin_start": 0.06455459848876964,
                        "bin_end": 0.06685191634107024,
                        "count": 0
                      },
                      {
                        "bin_start": 0.06685191634107024,
                        "bin_end": 0.06914923419337084,
                        "count": 0
                      },
                      {
                        "bin_start": 0.06914923419337084,
                        "bin_end": 0.07144655204567144,
                        "count": 0
                      },
                      {
                        "bin_start": 0.07144655204567144,
                        "bin_end": 0.07374386989797205,
                        "count": 0
                      },
                      {
                        "bin_start": 0.07374386989797205,
                        "bin_end": 0.07604118775027265,
                        "count": 0
                      },
                      {
                        "bin_start": 0.07604118775027265,
                        "bin_end": 0.07833850560257324,
                        "count": 0
                      },
                      {
                        "bin_start": 0.07833850560257324,
                        "bin_end": 0.08063582345487386,
                        "count": 0
                      },
                      {
                        "bin_start": 0.08063582345487386,
                        "bin_end": 0.08293314130717445,
                        "count": 0
                      },
                      {
                        "bin_start": 0.08293314130717445,
                        "bin_end": 0.08523045915947505,
                        "count": 1
                      }
                    ]
                  }
                },
                {
                  "name": "came",
                  "dtype": "float64",
                  "stats": {
                    "unique_count": 2,
                    "nan_count": 0,
                    "min": "0.042615229579737526",
                    "max": "0.062257280636469035",
                    "histogram": [
                      {
                        "bin_start": 0.042615229579737526,
                        "bin_end": 0.044579434685410674,
                        "count": 1
                      },
                      {
                        "bin_start": 0.044579434685410674,
                        "bin_end": 0.04654363979108383,
                        "count": 0
                      },
                      {
                        "bin_start": 0.04654363979108383,
                        "bin_end": 0.04850784489675698,
                        "count": 0
                      },
                      {
                        "bin_start": 0.04850784489675698,
                        "bin_end": 0.05047205000243013,
                        "count": 0
                      },
                      {
                        "bin_start": 0.05047205000243013,
                        "bin_end": 0.05243625510810328,
                        "count": 0
                      },
                      {
                        "bin_start": 0.05243625510810328,
                        "bin_end": 0.05440046021377643,
                        "count": 0
                      },
                      {
                        "bin_start": 0.05440046021377643,
                        "bin_end": 0.056364665319449586,
                        "count": 0
                      },
                      {
                        "bin_start": 0.056364665319449586,
                        "bin_end": 0.058328870425122734,
                        "count": 0
                      },
                      {
                        "bin_start": 0.058328870425122734,
                        "bin_end": 0.06029307553079588,
                        "count": 0
                      },
                      {
                        "bin_start": 0.06029307553079588,
                        "bin_end": 0.062257280636469035,
                        "count": 1
                      }
                    ]
                  }
                },
                {
                  "name": "cashing",
                  "dtype": "float64",
                  "stats": {
                    "unique_count": 2,
                    "nan_count": 0,
                    "min": "0.042615229579737526",
                    "max": "0.062257280636469035",
                    "histogram": [
                      {
                        "bin_start": 0.042615229579737526,
                        "bin_end": 0.044579434685410674,
                        "count": 1
                      },
                      {
                        "bin_start": 0.044579434685410674,
                        "bin_end": 0.04654363979108383,
                        "count": 0
                      },
                      {
                        "bin_start": 0.04654363979108383,
                        "bin_end": 0.04850784489675698,
                        "count": 0
                      },
                      {
                        "bin_start": 0.04850784489675698,
                        "bin_end": 0.05047205000243013,
                        "count": 0
                      },
                      {
                        "bin_start": 0.05047205000243013,
                        "bin_end": 0.05243625510810328,
                        "count": 0
                      },
                      {
                        "bin_start": 0.05243625510810328,
                        "bin_end": 0.05440046021377643,
                        "count": 0
                      },
                      {
                        "bin_start": 0.05440046021377643,
                        "bin_end": 0.056364665319449586,
                        "count": 0
                      },
                      {
                        "bin_start": 0.056364665319449586,
                        "bin_end": 0.058328870425122734,
                        "count": 0
                      },
                      {
                        "bin_start": 0.058328870425122734,
                        "bin_end": 0.06029307553079588,
                        "count": 0
                      },
                      {
                        "bin_start": 0.06029307553079588,
                        "bin_end": 0.062257280636469035,
                        "count": 1
                      }
                    ]
                  }
                },
                {
                  "name": "clothing",
                  "dtype": "float64",
                  "stats": {
                    "unique_count": 2,
                    "nan_count": 0,
                    "min": "0.08523045915947505",
                    "max": "0.12451456127293807",
                    "histogram": [
                      {
                        "bin_start": 0.08523045915947505,
                        "bin_end": 0.08915886937082135,
                        "count": 1
                      },
                      {
                        "bin_start": 0.08915886937082135,
                        "bin_end": 0.09308727958216766,
                        "count": 0
                      },
                      {
                        "bin_start": 0.09308727958216766,
                        "bin_end": 0.09701568979351397,
                        "count": 0
                      },
                      {
                        "bin_start": 0.09701568979351397,
                        "bin_end": 0.10094410000486026,
                        "count": 0
                      },
                      {
                        "bin_start": 0.10094410000486026,
                        "bin_end": 0.10487251021620655,
                        "count": 0
                      },
                      {
                        "bin_start": 0.10487251021620655,
                        "bin_end": 0.10880092042755286,
                        "count": 0
                      },
                      {
                        "bin_start": 0.10880092042755286,
                        "bin_end": 0.11272933063889917,
                        "count": 0
                      },
                      {
                        "bin_start": 0.11272933063889917,
                        "bin_end": 0.11665774085024547,
                        "count": 0
                      },
                      {
                        "bin_start": 0.11665774085024547,
                        "bin_end": 0.12058615106159176,
                        "count": 0
                      },
                      {
                        "bin_start": 0.12058615106159176,
                        "bin_end": 0.12451456127293807,
                        "count": 1
                      }
                    ]
                  }
                },
                {
                  "name": "confirmed",
                  "dtype": "float64",
                  "stats": {
                    "unique_count": 2,
                    "nan_count": 0,
                    "min": "0.0",
                    "max": "0.05989421824834005",
                    "histogram": [
                      {
                        "bin_start": 0,
                        "bin_end": 0.005989421824834005,
                        "count": 1
                      },
                      {
                        "bin_start": 0.005989421824834005,
                        "bin_end": 0.01197884364966801,
                        "count": 0
                      },
                      {
                        "bin_start": 0.01197884364966801,
                        "bin_end": 0.017968265474502015,
                        "count": 0
                      },
                      {
                        "bin_start": 0.017968265474502015,
                        "bin_end": 0.02395768729933602,
                        "count": 0
                      },
                      {
                        "bin_start": 0.02395768729933602,
                        "bin_end": 0.029947109124170024,
                        "count": 0
                      },
                      {
                        "bin_start": 0.029947109124170024,
                        "bin_end": 0.03593653094900403,
                        "count": 0
                      },
                      {
                        "bin_start": 0.03593653094900403,
                        "bin_end": 0.04192595277383804,
                        "count": 0
                      },
                      {
                        "bin_start": 0.04192595277383804,
                        "bin_end": 0.04791537459867204,
                        "count": 0
                      },
                      {
                        "bin_start": 0.04791537459867204,
                        "bin_end": 0.05390479642350604,
                        "count": 0
                      },
                      {
                        "bin_start": 0.05390479642350604,
                        "bin_end": 0.05989421824834005,
                        "count": 1
                      }
                    ]
                  }
                },
                {
                  "name": "dark",
                  "dtype": "float64",
                  "stats": {
                    "unique_count": 2,
                    "nan_count": 0,
                    "min": "0.042615229579737526",
                    "max": "0.062257280636469035",
                    "histogram": [
                      {
                        "bin_start": 0.042615229579737526,
                        "bin_end": 0.044579434685410674,
                        "count": 1
                      },
                      {
                        "bin_start": 0.044579434685410674,
                        "bin_end": 0.04654363979108383,
                        "count": 0
                      },
                      {
                        "bin_start": 0.04654363979108383,
                        "bin_end": 0.04850784489675698,
                        "count": 0
                      },
                      {
                        "bin_start": 0.04850784489675698,
                        "bin_end": 0.05047205000243013,
                        "count": 0
                      },
                      {
                        "bin_start": 0.05047205000243013,
                        "bin_end": 0.05243625510810328,
                        "count": 0
                      },
                      {
                        "bin_start": 0.05243625510810328,
                        "bin_end": 0.05440046021377643,
                        "count": 0
                      },
                      {
                        "bin_start": 0.05440046021377643,
                        "bin_end": 0.056364665319449586,
                        "count": 0
                      },
                      {
                        "bin_start": 0.056364665319449586,
                        "bin_end": 0.058328870425122734,
                        "count": 0
                      },
                      {
                        "bin_start": 0.058328870425122734,
                        "bin_end": 0.06029307553079588,
                        "count": 0
                      },
                      {
                        "bin_start": 0.06029307553079588,
                        "bin_end": 0.062257280636469035,
                        "count": 1
                      }
                    ]
                  }
                },
                {
                  "name": "didn",
                  "dtype": "float64",
                  "stats": {
                    "unique_count": 2,
                    "nan_count": 0,
                    "min": "0.0",
                    "max": "0.05989421824834005",
                    "histogram": [
                      {
                        "bin_start": 0,
                        "bin_end": 0.005989421824834005,
                        "count": 1
                      },
                      {
                        "bin_start": 0.005989421824834005,
                        "bin_end": 0.01197884364966801,
                        "count": 0
                      },
                      {
                        "bin_start": 0.01197884364966801,
                        "bin_end": 0.017968265474502015,
                        "count": 0
                      },
                      {
                        "bin_start": 0.017968265474502015,
                        "bin_end": 0.02395768729933602,
                        "count": 0
                      },
                      {
                        "bin_start": 0.02395768729933602,
                        "bin_end": 0.029947109124170024,
                        "count": 0
                      },
                      {
                        "bin_start": 0.029947109124170024,
                        "bin_end": 0.03593653094900403,
                        "count": 0
                      },
                      {
                        "bin_start": 0.03593653094900403,
                        "bin_end": 0.04192595277383804,
                        "count": 0
                      },
                      {
                        "bin_start": 0.04192595277383804,
                        "bin_end": 0.04791537459867204,
                        "count": 0
                      },
                      {
                        "bin_start": 0.04791537459867204,
                        "bin_end": 0.05390479642350604,
                        "count": 0
                      },
                      {
                        "bin_start": 0.05390479642350604,
                        "bin_end": 0.05989421824834005,
                        "count": 1
                      }
                    ]
                  }
                },
                {
                  "name": "display",
                  "dtype": "float64",
                  "stats": {
                    "unique_count": 2,
                    "nan_count": 0,
                    "min": "0.042615229579737526",
                    "max": "0.062257280636469035",
                    "histogram": [
                      {
                        "bin_start": 0.042615229579737526,
                        "bin_end": 0.044579434685410674,
                        "count": 1
                      },
                      {
                        "bin_start": 0.044579434685410674,
                        "bin_end": 0.04654363979108383,
                        "count": 0
                      },
                      {
                        "bin_start": 0.04654363979108383,
                        "bin_end": 0.04850784489675698,
                        "count": 0
                      },
                      {
                        "bin_start": 0.04850784489675698,
                        "bin_end": 0.05047205000243013,
                        "count": 0
                      },
                      {
                        "bin_start": 0.05047205000243013,
                        "bin_end": 0.05243625510810328,
                        "count": 0
                      },
                      {
                        "bin_start": 0.05243625510810328,
                        "bin_end": 0.05440046021377643,
                        "count": 0
                      },
                      {
                        "bin_start": 0.05440046021377643,
                        "bin_end": 0.056364665319449586,
                        "count": 0
                      },
                      {
                        "bin_start": 0.056364665319449586,
                        "bin_end": 0.058328870425122734,
                        "count": 0
                      },
                      {
                        "bin_start": 0.058328870425122734,
                        "bin_end": 0.06029307553079588,
                        "count": 0
                      },
                      {
                        "bin_start": 0.06029307553079588,
                        "bin_end": 0.062257280636469035,
                        "count": 1
                      }
                    ]
                  }
                },
                {
                  "name": "don",
                  "dtype": "float64",
                  "stats": {
                    "unique_count": 2,
                    "nan_count": 0,
                    "min": "0.062257280636469035",
                    "max": "0.08523045915947505",
                    "histogram": [
                      {
                        "bin_start": 0.062257280636469035,
                        "bin_end": 0.06455459848876964,
                        "count": 1
                      },
                      {
                        "bin_start": 0.06455459848876964,
                        "bin_end": 0.06685191634107024,
                        "count": 0
                      },
                      {
                        "bin_start": 0.06685191634107024,
                        "bin_end": 0.06914923419337084,
                        "count": 0
                      },
                      {
                        "bin_start": 0.06914923419337084,
                        "bin_end": 0.07144655204567144,
                        "count": 0
                      },
                      {
                        "bin_start": 0.07144655204567144,
                        "bin_end": 0.07374386989797205,
                        "count": 0
                      },
                      {
                        "bin_start": 0.07374386989797205,
                        "bin_end": 0.07604118775027265,
                        "count": 0
                      },
                      {
                        "bin_start": 0.07604118775027265,
                        "bin_end": 0.07833850560257324,
                        "count": 0
                      },
                      {
                        "bin_start": 0.07833850560257324,
                        "bin_end": 0.08063582345487386,
                        "count": 0
                      },
                      {
                        "bin_start": 0.08063582345487386,
                        "bin_end": 0.08293314130717445,
                        "count": 0
                      },
                      {
                        "bin_start": 0.08293314130717445,
                        "bin_end": 0.08523045915947505,
                        "count": 1
                      }
                    ]
                  }
                },
                {
                  "name": "down",
                  "dtype": "float64",
                  "stats": {
                    "unique_count": 2,
                    "nan_count": 0,
                    "min": "0.042615229579737526",
                    "max": "0.062257280636469035",
                    "histogram": [
                      {
                        "bin_start": 0.042615229579737526,
                        "bin_end": 0.044579434685410674,
                        "count": 1
                      },
                      {
                        "bin_start": 0.044579434685410674,
                        "bin_end": 0.04654363979108383,
                        "count": 0
                      },
                      {
                        "bin_start": 0.04654363979108383,
                        "bin_end": 0.04850784489675698,
                        "count": 0
                      },
                      {
                        "bin_start": 0.04850784489675698,
                        "bin_end": 0.05047205000243013,
                        "count": 0
                      },
                      {
                        "bin_start": 0.05047205000243013,
                        "bin_end": 0.05243625510810328,
                        "count": 0
                      },
                      {
                        "bin_start": 0.05243625510810328,
                        "bin_end": 0.05440046021377643,
                        "count": 0
                      },
                      {
                        "bin_start": 0.05440046021377643,
                        "bin_end": 0.056364665319449586,
                        "count": 0
                      },
                      {
                        "bin_start": 0.056364665319449586,
                        "bin_end": 0.058328870425122734,
                        "count": 0
                      },
                      {
                        "bin_start": 0.058328870425122734,
                        "bin_end": 0.06029307553079588,
                        "count": 0
                      },
                      {
                        "bin_start": 0.06029307553079588,
                        "bin_end": 0.062257280636469035,
                        "count": 1
                      }
                    ]
                  }
                },
                {
                  "name": "during",
                  "dtype": "float64",
                  "stats": {
                    "unique_count": 2,
                    "nan_count": 0,
                    "min": "0.042615229579737526",
                    "max": "0.062257280636469035",
                    "histogram": [
                      {
                        "bin_start": 0.042615229579737526,
                        "bin_end": 0.044579434685410674,
                        "count": 1
                      },
                      {
                        "bin_start": 0.044579434685410674,
                        "bin_end": 0.04654363979108383,
                        "count": 0
                      },
                      {
                        "bin_start": 0.04654363979108383,
                        "bin_end": 0.04850784489675698,
                        "count": 0
                      },
                      {
                        "bin_start": 0.04850784489675698,
                        "bin_end": 0.05047205000243013,
                        "count": 0
                      },
                      {
                        "bin_start": 0.05047205000243013,
                        "bin_end": 0.05243625510810328,
                        "count": 0
                      },
                      {
                        "bin_start": 0.05243625510810328,
                        "bin_end": 0.05440046021377643,
                        "count": 0
                      },
                      {
                        "bin_start": 0.05440046021377643,
                        "bin_end": 0.056364665319449586,
                        "count": 0
                      },
                      {
                        "bin_start": 0.056364665319449586,
                        "bin_end": 0.058328870425122734,
                        "count": 0
                      },
                      {
                        "bin_start": 0.058328870425122734,
                        "bin_end": 0.06029307553079588,
                        "count": 0
                      },
                      {
                        "bin_start": 0.06029307553079588,
                        "bin_end": 0.062257280636469035,
                        "count": 1
                      }
                    ]
                  }
                },
                {
                  "name": "early",
                  "dtype": "float64",
                  "stats": {
                    "unique_count": 2,
                    "nan_count": 0,
                    "min": "0.042615229579737526",
                    "max": "0.062257280636469035",
                    "histogram": [
                      {
                        "bin_start": 0.042615229579737526,
                        "bin_end": 0.044579434685410674,
                        "count": 1
                      },
                      {
                        "bin_start": 0.044579434685410674,
                        "bin_end": 0.04654363979108383,
                        "count": 0
                      },
                      {
                        "bin_start": 0.04654363979108383,
                        "bin_end": 0.04850784489675698,
                        "count": 0
                      },
                      {
                        "bin_start": 0.04850784489675698,
                        "bin_end": 0.05047205000243013,
                        "count": 0
                      },
                      {
                        "bin_start": 0.05047205000243013,
                        "bin_end": 0.05243625510810328,
                        "count": 0
                      },
                      {
                        "bin_start": 0.05243625510810328,
                        "bin_end": 0.05440046021377643,
                        "count": 0
                      },
                      {
                        "bin_start": 0.05440046021377643,
                        "bin_end": 0.056364665319449586,
                        "count": 0
                      },
                      {
                        "bin_start": 0.056364665319449586,
                        "bin_end": 0.058328870425122734,
                        "count": 0
                      },
                      {
                        "bin_start": 0.058328870425122734,
                        "bin_end": 0.06029307553079588,
                        "count": 0
                      },
                      {
                        "bin_start": 0.06029307553079588,
                        "bin_end": 0.062257280636469035,
                        "count": 1
                      }
                    ]
                  }
                },
                {
                  "name": "even",
                  "dtype": "float64",
                  "stats": {
                    "unique_count": 2,
                    "nan_count": 0,
                    "min": "0.0",
                    "max": "0.05989421824834005",
                    "histogram": [
                      {
                        "bin_start": 0,
                        "bin_end": 0.005989421824834005,
                        "count": 1
                      },
                      {
                        "bin_start": 0.005989421824834005,
                        "bin_end": 0.01197884364966801,
                        "count": 0
                      },
                      {
                        "bin_start": 0.01197884364966801,
                        "bin_end": 0.017968265474502015,
                        "count": 0
                      },
                      {
                        "bin_start": 0.017968265474502015,
                        "bin_end": 0.02395768729933602,
                        "count": 0
                      },
                      {
                        "bin_start": 0.02395768729933602,
                        "bin_end": 0.029947109124170024,
                        "count": 0
                      },
                      {
                        "bin_start": 0.029947109124170024,
                        "bin_end": 0.03593653094900403,
                        "count": 0
                      },
                      {
                        "bin_start": 0.03593653094900403,
                        "bin_end": 0.04192595277383804,
                        "count": 0
                      },
                      {
                        "bin_start": 0.04192595277383804,
                        "bin_end": 0.04791537459867204,
                        "count": 0
                      },
                      {
                        "bin_start": 0.04791537459867204,
                        "bin_end": 0.05390479642350604,
                        "count": 0
                      },
                      {
                        "bin_start": 0.05390479642350604,
                        "bin_end": 0.05989421824834005,
                        "count": 1
                      }
                    ]
                  }
                },
                {
                  "name": "evening",
                  "dtype": "float64",
                  "stats": {
                    "unique_count": 2,
                    "nan_count": 0,
                    "min": "0.042615229579737526",
                    "max": "0.062257280636469035",
                    "histogram": [
                      {
                        "bin_start": 0.042615229579737526,
                        "bin_end": 0.044579434685410674,
                        "count": 1
                      },
                      {
                        "bin_start": 0.044579434685410674,
                        "bin_end": 0.04654363979108383,
                        "count": 0
                      },
                      {
                        "bin_start": 0.04654363979108383,
                        "bin_end": 0.04850784489675698,
                        "count": 0
                      },
                      {
                        "bin_start": 0.04850784489675698,
                        "bin_end": 0.05047205000243013,
                        "count": 0
                      },
                      {
                        "bin_start": 0.05047205000243013,
                        "bin_end": 0.05243625510810328,
                        "count": 0
                      },
                      {
                        "bin_start": 0.05243625510810328,
                        "bin_end": 0.05440046021377643,
                        "count": 0
                      },
                      {
                        "bin_start": 0.05440046021377643,
                        "bin_end": 0.056364665319449586,
                        "count": 0
                      },
                      {
                        "bin_start": 0.056364665319449586,
                        "bin_end": 0.058328870425122734,
                        "count": 0
                      },
                      {
                        "bin_start": 0.058328870425122734,
                        "bin_end": 0.06029307553079588,
                        "count": 0
                      },
                      {
                        "bin_start": 0.06029307553079588,
                        "bin_end": 0.062257280636469035,
                        "count": 1
                      }
                    ]
                  }
                },
                {
                  "name": "extremely",
                  "dtype": "float64",
                  "stats": {
                    "unique_count": 2,
                    "nan_count": 0,
                    "min": "0.0",
                    "max": "0.05989421824834005",
                    "histogram": [
                      {
                        "bin_start": 0,
                        "bin_end": 0.005989421824834005,
                        "count": 1
                      },
                      {
                        "bin_start": 0.005989421824834005,
                        "bin_end": 0.01197884364966801,
                        "count": 0
                      },
                      {
                        "bin_start": 0.01197884364966801,
                        "bin_end": 0.017968265474502015,
                        "count": 0
                      },
                      {
                        "bin_start": 0.017968265474502015,
                        "bin_end": 0.02395768729933602,
                        "count": 0
                      },
                      {
                        "bin_start": 0.02395768729933602,
                        "bin_end": 0.029947109124170024,
                        "count": 0
                      },
                      {
                        "bin_start": 0.029947109124170024,
                        "bin_end": 0.03593653094900403,
                        "count": 0
                      },
                      {
                        "bin_start": 0.03593653094900403,
                        "bin_end": 0.04192595277383804,
                        "count": 0
                      },
                      {
                        "bin_start": 0.04192595277383804,
                        "bin_end": 0.04791537459867204,
                        "count": 0
                      },
                      {
                        "bin_start": 0.04791537459867204,
                        "bin_end": 0.05390479642350604,
                        "count": 0
                      },
                      {
                        "bin_start": 0.05390479642350604,
                        "bin_end": 0.05989421824834005,
                        "count": 1
                      }
                    ]
                  }
                },
                {
                  "name": "find",
                  "dtype": "float64",
                  "stats": {
                    "unique_count": 2,
                    "nan_count": 0,
                    "min": "0.042615229579737526",
                    "max": "0.062257280636469035",
                    "histogram": [
                      {
                        "bin_start": 0.042615229579737526,
                        "bin_end": 0.044579434685410674,
                        "count": 1
                      },
                      {
                        "bin_start": 0.044579434685410674,
                        "bin_end": 0.04654363979108383,
                        "count": 0
                      },
                      {
                        "bin_start": 0.04654363979108383,
                        "bin_end": 0.04850784489675698,
                        "count": 0
                      },
                      {
                        "bin_start": 0.04850784489675698,
                        "bin_end": 0.05047205000243013,
                        "count": 0
                      },
                      {
                        "bin_start": 0.05047205000243013,
                        "bin_end": 0.05243625510810328,
                        "count": 0
                      },
                      {
                        "bin_start": 0.05243625510810328,
                        "bin_end": 0.05440046021377643,
                        "count": 0
                      },
                      {
                        "bin_start": 0.05440046021377643,
                        "bin_end": 0.056364665319449586,
                        "count": 0
                      },
                      {
                        "bin_start": 0.056364665319449586,
                        "bin_end": 0.058328870425122734,
                        "count": 0
                      },
                      {
                        "bin_start": 0.058328870425122734,
                        "bin_end": 0.06029307553079588,
                        "count": 0
                      },
                      {
                        "bin_start": 0.06029307553079588,
                        "bin_end": 0.062257280636469035,
                        "count": 1
                      }
                    ]
                  }
                },
                {
                  "name": "floor",
                  "dtype": "float64",
                  "stats": {
                    "unique_count": 2,
                    "nan_count": 0,
                    "min": "0.08523045915947505",
                    "max": "0.12451456127293807",
                    "histogram": [
                      {
                        "bin_start": 0.08523045915947505,
                        "bin_end": 0.08915886937082135,
                        "count": 1
                      },
                      {
                        "bin_start": 0.08915886937082135,
                        "bin_end": 0.09308727958216766,
                        "count": 0
                      },
                      {
                        "bin_start": 0.09308727958216766,
                        "bin_end": 0.09701568979351397,
                        "count": 0
                      },
                      {
                        "bin_start": 0.09701568979351397,
                        "bin_end": 0.10094410000486026,
                        "count": 0
                      },
                      {
                        "bin_start": 0.10094410000486026,
                        "bin_end": 0.10487251021620655,
                        "count": 0
                      },
                      {
                        "bin_start": 0.10487251021620655,
                        "bin_end": 0.10880092042755286,
                        "count": 0
                      },
                      {
                        "bin_start": 0.10880092042755286,
                        "bin_end": 0.11272933063889917,
                        "count": 0
                      },
                      {
                        "bin_start": 0.11272933063889917,
                        "bin_end": 0.11665774085024547,
                        "count": 0
                      },
                      {
                        "bin_start": 0.11665774085024547,
                        "bin_end": 0.12058615106159176,
                        "count": 0
                      },
                      {
                        "bin_start": 0.12058615106159176,
                        "bin_end": 0.12451456127293807,
                        "count": 1
                      }
                    ]
                  }
                },
                {
                  "name": "for",
                  "dtype": "float64",
                  "stats": {
                    "unique_count": 2,
                    "nan_count": 0,
                    "min": "0.042615229579737526",
                    "max": "0.062257280636469035",
                    "histogram": [
                      {
                        "bin_start": 0.042615229579737526,
                        "bin_end": 0.044579434685410674,
                        "count": 1
                      },
                      {
                        "bin_start": 0.044579434685410674,
                        "bin_end": 0.04654363979108383,
                        "count": 0
                      },
                      {
                        "bin_start": 0.04654363979108383,
                        "bin_end": 0.04850784489675698,
                        "count": 0
                      },
                      {
                        "bin_start": 0.04850784489675698,
                        "bin_end": 0.05047205000243013,
                        "count": 0
                      },
                      {
                        "bin_start": 0.05047205000243013,
                        "bin_end": 0.05243625510810328,
                        "count": 0
                      },
                      {
                        "bin_start": 0.05243625510810328,
                        "bin_end": 0.05440046021377643,
                        "count": 0
                      },
                      {
                        "bin_start": 0.05440046021377643,
                        "bin_end": 0.056364665319449586,
                        "count": 0
                      },
                      {
                        "bin_start": 0.056364665319449586,
                        "bin_end": 0.058328870425122734,
                        "count": 0
                      },
                      {
                        "bin_start": 0.058328870425122734,
                        "bin_end": 0.06029307553079588,
                        "count": 0
                      },
                      {
                        "bin_start": 0.06029307553079588,
                        "bin_end": 0.062257280636469035,
                        "count": 1
                      }
                    ]
                  }
                },
                {
                  "name": "gave",
                  "dtype": "float64",
                  "stats": {
                    "unique_count": 2,
                    "nan_count": 0,
                    "min": "0.0",
                    "max": "0.05989421824834005",
                    "histogram": [
                      {
                        "bin_start": 0,
                        "bin_end": 0.005989421824834005,
                        "count": 1
                      },
                      {
                        "bin_start": 0.005989421824834005,
                        "bin_end": 0.01197884364966801,
                        "count": 0
                      },
                      {
                        "bin_start": 0.01197884364966801,
                        "bin_end": 0.017968265474502015,
                        "count": 0
                      },
                      {
                        "bin_start": 0.017968265474502015,
                        "bin_end": 0.02395768729933602,
                        "count": 0
                      },
                      {
                        "bin_start": 0.02395768729933602,
                        "bin_end": 0.029947109124170024,
                        "count": 0
                      },
                      {
                        "bin_start": 0.029947109124170024,
                        "bin_end": 0.03593653094900403,
                        "count": 0
                      },
                      {
                        "bin_start": 0.03593653094900403,
                        "bin_end": 0.04192595277383804,
                        "count": 0
                      },
                      {
                        "bin_start": 0.04192595277383804,
                        "bin_end": 0.04791537459867204,
                        "count": 0
                      },
                      {
                        "bin_start": 0.04791537459867204,
                        "bin_end": 0.05390479642350604,
                        "count": 0
                      },
                      {
                        "bin_start": 0.05390479642350604,
                        "bin_end": 0.05989421824834005,
                        "count": 1
                      }
                    ]
                  }
                },
                {
                  "name": "get",
                  "dtype": "float64",
                  "stats": {
                    "unique_count": 2,
                    "nan_count": 0,
                    "min": "0.0",
                    "max": "0.05989421824834005",
                    "histogram": [
                      {
                        "bin_start": 0,
                        "bin_end": 0.005989421824834005,
                        "count": 1
                      },
                      {
                        "bin_start": 0.005989421824834005,
                        "bin_end": 0.01197884364966801,
                        "count": 0
                      },
                      {
                        "bin_start": 0.01197884364966801,
                        "bin_end": 0.017968265474502015,
                        "count": 0
                      },
                      {
                        "bin_start": 0.017968265474502015,
                        "bin_end": 0.02395768729933602,
                        "count": 0
                      },
                      {
                        "bin_start": 0.02395768729933602,
                        "bin_end": 0.029947109124170024,
                        "count": 0
                      },
                      {
                        "bin_start": 0.029947109124170024,
                        "bin_end": 0.03593653094900403,
                        "count": 0
                      },
                      {
                        "bin_start": 0.03593653094900403,
                        "bin_end": 0.04192595277383804,
                        "count": 0
                      },
                      {
                        "bin_start": 0.04192595277383804,
                        "bin_end": 0.04791537459867204,
                        "count": 0
                      },
                      {
                        "bin_start": 0.04791537459867204,
                        "bin_end": 0.05390479642350604,
                        "count": 0
                      },
                      {
                        "bin_start": 0.05390479642350604,
                        "bin_end": 0.05989421824834005,
                        "count": 1
                      }
                    ]
                  }
                },
                {
                  "name": "had",
                  "dtype": "float64",
                  "stats": {
                    "unique_count": 2,
                    "nan_count": 0,
                    "min": "0.042615229579737526",
                    "max": "0.062257280636469035",
                    "histogram": [
                      {
                        "bin_start": 0.042615229579737526,
                        "bin_end": 0.044579434685410674,
                        "count": 1
                      },
                      {
                        "bin_start": 0.044579434685410674,
                        "bin_end": 0.04654363979108383,
                        "count": 0
                      },
                      {
                        "bin_start": 0.04654363979108383,
                        "bin_end": 0.04850784489675698,
                        "count": 0
                      },
                      {
                        "bin_start": 0.04850784489675698,
                        "bin_end": 0.05047205000243013,
                        "count": 0
                      },
                      {
                        "bin_start": 0.05047205000243013,
                        "bin_end": 0.05243625510810328,
                        "count": 0
                      },
                      {
                        "bin_start": 0.05243625510810328,
                        "bin_end": 0.05440046021377643,
                        "count": 0
                      },
                      {
                        "bin_start": 0.05440046021377643,
                        "bin_end": 0.056364665319449586,
                        "count": 0
                      },
                      {
                        "bin_start": 0.056364665319449586,
                        "bin_end": 0.058328870425122734,
                        "count": 0
                      },
                      {
                        "bin_start": 0.058328870425122734,
                        "bin_end": 0.06029307553079588,
                        "count": 0
                      },
                      {
                        "bin_start": 0.06029307553079588,
                        "bin_end": 0.062257280636469035,
                        "count": 1
                      }
                    ]
                  }
                },
                {
                  "name": "he",
                  "dtype": "float64",
                  "stats": {
                    "unique_count": 2,
                    "nan_count": 0,
                    "min": "0.062257280636469035",
                    "max": "0.1278456887392126",
                    "histogram": [
                      {
                        "bin_start": 0.062257280636469035,
                        "bin_end": 0.06881612144674339,
                        "count": 1
                      },
                      {
                        "bin_start": 0.06881612144674339,
                        "bin_end": 0.07537496225701774,
                        "count": 0
                      },
                      {
                        "bin_start": 0.07537496225701774,
                        "bin_end": 0.0819338030672921,
                        "count": 0
                      },
                      {
                        "bin_start": 0.0819338030672921,
                        "bin_end": 0.08849264387756646,
                        "count": 0
                      },
                      {
                        "bin_start": 0.08849264387756646,
                        "bin_end": 0.0950514846878408,
                        "count": 0
                      },
                      {
                        "bin_start": 0.0950514846878408,
                        "bin_end": 0.10161032549811516,
                        "count": 0
                      },
                      {
                        "bin_start": 0.10161032549811516,
                        "bin_end": 0.10816916630838952,
                        "count": 0
                      },
                      {
                        "bin_start": 0.10816916630838952,
                        "bin_end": 0.11472800711866388,
                        "count": 0
                      },
                      {
                        "bin_start": 0.11472800711866388,
                        "bin_end": 0.12128684792893824,
                        "count": 0
                      },
                      {
                        "bin_start": 0.12128684792893824,
                        "bin_end": 0.1278456887392126,
                        "count": 1
                      }
                    ]
                  }
                },
                {
                  "name": "him",
                  "dtype": "float64",
                  "stats": {
                    "unique_count": 2,
                    "nan_count": 0,
                    "min": "0.0",
                    "max": "0.05989421824834005",
                    "histogram": [
                      {
                        "bin_start": 0,
                        "bin_end": 0.005989421824834005,
                        "count": 1
                      },
                      {
                        "bin_start": 0.005989421824834005,
                        "bin_end": 0.01197884364966801,
                        "count": 0
                      },
                      {
                        "bin_start": 0.01197884364966801,
                        "bin_end": 0.017968265474502015,
                        "count": 0
                      },
                      {
                        "bin_start": 0.017968265474502015,
                        "bin_end": 0.02395768729933602,
                        "count": 0
                      },
                      {
                        "bin_start": 0.02395768729933602,
                        "bin_end": 0.029947109124170024,
                        "count": 0
                      },
                      {
                        "bin_start": 0.029947109124170024,
                        "bin_end": 0.03593653094900403,
                        "count": 0
                      },
                      {
                        "bin_start": 0.03593653094900403,
                        "bin_end": 0.04192595277383804,
                        "count": 0
                      },
                      {
                        "bin_start": 0.04192595277383804,
                        "bin_end": 0.04791537459867204,
                        "count": 0
                      },
                      {
                        "bin_start": 0.04791537459867204,
                        "bin_end": 0.05390479642350604,
                        "count": 0
                      },
                      {
                        "bin_start": 0.05390479642350604,
                        "bin_end": 0.05989421824834005,
                        "count": 1
                      }
                    ]
                  }
                },
                {
                  "name": "his",
                  "dtype": "float64",
                  "stats": {
                    "unique_count": 2,
                    "nan_count": 0,
                    "min": "0.08523045915947505",
                    "max": "0.12451456127293807",
                    "histogram": [
                      {
                        "bin_start": 0.08523045915947505,
                        "bin_end": 0.08915886937082135,
                        "count": 1
                      },
                      {
                        "bin_start": 0.08915886937082135,
                        "bin_end": 0.09308727958216766,
                        "count": 0
                      },
                      {
                        "bin_start": 0.09308727958216766,
                        "bin_end": 0.09701568979351397,
                        "count": 0
                      },
                      {
                        "bin_start": 0.09701568979351397,
                        "bin_end": 0.10094410000486026,
                        "count": 0
                      },
                      {
                        "bin_start": 0.10094410000486026,
                        "bin_end": 0.10487251021620655,
                        "count": 0
                      },
                      {
                        "bin_start": 0.10487251021620655,
                        "bin_end": 0.10880092042755286,
                        "count": 0
                      },
                      {
                        "bin_start": 0.10880092042755286,
                        "bin_end": 0.11272933063889917,
                        "count": 0
                      },
                      {
                        "bin_start": 0.11272933063889917,
                        "bin_end": 0.11665774085024547,
                        "count": 0
                      },
                      {
                        "bin_start": 0.11665774085024547,
                        "bin_end": 0.12058615106159176,
                        "count": 0
                      },
                      {
                        "bin_start": 0.12058615106159176,
                        "bin_end": 0.12451456127293807,
                        "count": 1
                      }
                    ]
                  }
                },
                {
                  "name": "ignore",
                  "dtype": "float64",
                  "stats": {
                    "unique_count": 2,
                    "nan_count": 0,
                    "min": "0.0",
                    "max": "0.05989421824834005",
                    "histogram": [
                      {
                        "bin_start": 0,
                        "bin_end": 0.005989421824834005,
                        "count": 1
                      },
                      {
                        "bin_start": 0.005989421824834005,
                        "bin_end": 0.01197884364966801,
                        "count": 0
                      },
                      {
                        "bin_start": 0.01197884364966801,
                        "bin_end": 0.017968265474502015,
                        "count": 0
                      },
                      {
                        "bin_start": 0.017968265474502015,
                        "bin_end": 0.02395768729933602,
                        "count": 0
                      },
                      {
                        "bin_start": 0.02395768729933602,
                        "bin_end": 0.029947109124170024,
                        "count": 0
                      },
                      {
                        "bin_start": 0.029947109124170024,
                        "bin_end": 0.03593653094900403,
                        "count": 0
                      },
                      {
                        "bin_start": 0.03593653094900403,
                        "bin_end": 0.04192595277383804,
                        "count": 0
                      },
                      {
                        "bin_start": 0.04192595277383804,
                        "bin_end": 0.04791537459867204,
                        "count": 0
                      },
                      {
                        "bin_start": 0.04791537459867204,
                        "bin_end": 0.05390479642350604,
                        "count": 0
                      },
                      {
                        "bin_start": 0.05390479642350604,
                        "bin_end": 0.05989421824834005,
                        "count": 1
                      }
                    ]
                  }
                },
                {
                  "name": "ignored",
                  "dtype": "float64",
                  "stats": {
                    "unique_count": 2,
                    "nan_count": 0,
                    "min": "0.0",
                    "max": "0.05989421824834005",
                    "histogram": [
                      {
                        "bin_start": 0,
                        "bin_end": 0.005989421824834005,
                        "count": 1
                      },
                      {
                        "bin_start": 0.005989421824834005,
                        "bin_end": 0.01197884364966801,
                        "count": 0
                      },
                      {
                        "bin_start": 0.01197884364966801,
                        "bin_end": 0.017968265474502015,
                        "count": 0
                      },
                      {
                        "bin_start": 0.017968265474502015,
                        "bin_end": 0.02395768729933602,
                        "count": 0
                      },
                      {
                        "bin_start": 0.02395768729933602,
                        "bin_end": 0.029947109124170024,
                        "count": 0
                      },
                      {
                        "bin_start": 0.029947109124170024,
                        "bin_end": 0.03593653094900403,
                        "count": 0
                      },
                      {
                        "bin_start": 0.03593653094900403,
                        "bin_end": 0.04192595277383804,
                        "count": 0
                      },
                      {
                        "bin_start": 0.04192595277383804,
                        "bin_end": 0.04791537459867204,
                        "count": 0
                      },
                      {
                        "bin_start": 0.04791537459867204,
                        "bin_end": 0.05390479642350604,
                        "count": 0
                      },
                      {
                        "bin_start": 0.05390479642350604,
                        "bin_end": 0.05989421824834005,
                        "count": 1
                      }
                    ]
                  }
                },
                {
                  "name": "in",
                  "dtype": "float64",
                  "stats": {
                    "unique_count": 2,
                    "nan_count": 0,
                    "min": "0.21307614789868765",
                    "max": "0.3112864031823452",
                    "histogram": [
                      {
                        "bin_start": 0.21307614789868765,
                        "bin_end": 0.2228971734270534,
                        "count": 1
                      },
                      {
                        "bin_start": 0.2228971734270534,
                        "bin_end": 0.23271819895541915,
                        "count": 0
                      },
                      {
                        "bin_start": 0.23271819895541915,
                        "bin_end": 0.2425392244837849,
                        "count": 0
                      },
                      {
                        "bin_start": 0.2425392244837849,
                        "bin_end": 0.2523602500121507,
                        "count": 0
                      },
                      {
                        "bin_start": 0.2523602500121507,
                        "bin_end": 0.2621812755405164,
                        "count": 0
                      },
                      {
                        "bin_start": 0.2621812755405164,
                        "bin_end": 0.2720023010688822,
                        "count": 0
                      },
                      {
                        "bin_start": 0.2720023010688822,
                        "bin_end": 0.28182332659724796,
                        "count": 0
                      },
                      {
                        "bin_start": 0.28182332659724796,
                        "bin_end": 0.2916443521256137,
                        "count": 0
                      },
                      {
                        "bin_start": 0.2916443521256137,
                        "bin_end": 0.3014653776539794,
                        "count": 0
                      },
                      {
                        "bin_start": 0.3014653776539794,
                        "bin_end": 0.3112864031823452,
                        "count": 1
                      }
                    ]
                  }
                },
                {
                  "name": "insinuating",
                  "dtype": "float64",
                  "stats": {
                    "unique_count": 2,
                    "nan_count": 0,
                    "min": "0.0",
                    "max": "0.05989421824834005",
                    "histogram": [
                      {
                        "bin_start": 0,
                        "bin_end": 0.005989421824834005,
                        "count": 1
                      },
                      {
                        "bin_start": 0.005989421824834005,
                        "bin_end": 0.01197884364966801,
                        "count": 0
                      },
                      {
                        "bin_start": 0.01197884364966801,
                        "bin_end": 0.017968265474502015,
                        "count": 0
                      },
                      {
                        "bin_start": 0.017968265474502015,
                        "bin_end": 0.02395768729933602,
                        "count": 0
                      },
                      {
                        "bin_start": 0.02395768729933602,
                        "bin_end": 0.029947109124170024,
                        "count": 0
                      },
                      {
                        "bin_start": 0.029947109124170024,
                        "bin_end": 0.03593653094900403,
                        "count": 0
                      },
                      {
                        "bin_start": 0.03593653094900403,
                        "bin_end": 0.04192595277383804,
                        "count": 0
                      },
                      {
                        "bin_start": 0.04192595277383804,
                        "bin_end": 0.04791537459867204,
                        "count": 0
                      },
                      {
                        "bin_start": 0.04791537459867204,
                        "bin_end": 0.05390479642350604,
                        "count": 0
                      },
                      {
                        "bin_start": 0.05390479642350604,
                        "bin_end": 0.05989421824834005,
                        "count": 1
                      }
                    ]
                  }
                },
                {
                  "name": "it",
                  "dtype": "float64",
                  "stats": {
                    "unique_count": 2,
                    "nan_count": 0,
                    "min": "0.062257280636469035",
                    "max": "0.2556913774784252",
                    "histogram": [
                      {
                        "bin_start": 0.062257280636469035,
                        "bin_end": 0.08160069032066465,
                        "count": 1
                      },
                      {
                        "bin_start": 0.08160069032066465,
                        "bin_end": 0.10094410000486026,
                        "count": 0
                      },
                      {
                        "bin_start": 0.10094410000486026,
                        "bin_end": 0.12028750968905588,
                        "count": 0
                      },
                      {
                        "bin_start": 0.12028750968905588,
                        "bin_end": 0.1396309193732515,
                        "count": 0
                      },
                      {
                        "bin_start": 0.1396309193732515,
                        "bin_end": 0.15897432905744713,
                        "count": 0
                      },
                      {
                        "bin_start": 0.15897432905744713,
                        "bin_end": 0.17831773874164272,
                        "count": 0
                      },
                      {
                        "bin_start": 0.17831773874164272,
                        "bin_end": 0.19766114842583835,
                        "count": 0
                      },
                      {
                        "bin_start": 0.19766114842583835,
                        "bin_end": 0.21700455811003397,
                        "count": 0
                      },
                      {
                        "bin_start": 0.21700455811003397,
                        "bin_end": 0.2363479677942296,
                        "count": 0
                      },
                      {
                        "bin_start": 0.2363479677942296,
                        "bin_end": 0.2556913774784252,
                        "count": 1
                      }
                    ]
                  }
                },
                {
                  "name": "items",
                  "dtype": "float64",
                  "stats": {
                    "unique_count": 2,
                    "nan_count": 0,
                    "min": "0.042615229579737526",
                    "max": "0.062257280636469035",
                    "histogram": [
                      {
                        "bin_start": 0.042615229579737526,
                        "bin_end": 0.044579434685410674,
                        "count": 1
                      },
                      {
                        "bin_start": 0.044579434685410674,
                        "bin_end": 0.04654363979108383,
                        "count": 0
                      },
                      {
                        "bin_start": 0.04654363979108383,
                        "bin_end": 0.04850784489675698,
                        "count": 0
                      },
                      {
                        "bin_start": 0.04850784489675698,
                        "bin_end": 0.05047205000243013,
                        "count": 0
                      },
                      {
                        "bin_start": 0.05047205000243013,
                        "bin_end": 0.05243625510810328,
                        "count": 0
                      },
                      {
                        "bin_start": 0.05243625510810328,
                        "bin_end": 0.05440046021377643,
                        "count": 0
                      },
                      {
                        "bin_start": 0.05440046021377643,
                        "bin_end": 0.056364665319449586,
                        "count": 0
                      },
                      {
                        "bin_start": 0.056364665319449586,
                        "bin_end": 0.058328870425122734,
                        "count": 0
                      },
                      {
                        "bin_start": 0.058328870425122734,
                        "bin_end": 0.06029307553079588,
                        "count": 0
                      },
                      {
                        "bin_start": 0.06029307553079588,
                        "bin_end": 0.062257280636469035,
                        "count": 1
                      }
                    ]
                  }
                },
                {
                  "name": "just",
                  "dtype": "float64",
                  "stats": {
                    "unique_count": 2,
                    "nan_count": 0,
                    "min": "0.0",
                    "max": "0.1197884364966801",
                    "histogram": [
                      {
                        "bin_start": 0,
                        "bin_end": 0.01197884364966801,
                        "count": 1
                      },
                      {
                        "bin_start": 0.01197884364966801,
                        "bin_end": 0.02395768729933602,
                        "count": 0
                      },
                      {
                        "bin_start": 0.02395768729933602,
                        "bin_end": 0.03593653094900403,
                        "count": 0
                      },
                      {
                        "bin_start": 0.03593653094900403,
                        "bin_end": 0.04791537459867204,
                        "count": 0
                      },
                      {
                        "bin_start": 0.04791537459867204,
                        "bin_end": 0.05989421824834005,
                        "count": 0
                      },
                      {
                        "bin_start": 0.05989421824834005,
                        "bin_end": 0.07187306189800806,
                        "count": 0
                      },
                      {
                        "bin_start": 0.07187306189800806,
                        "bin_end": 0.08385190554767608,
                        "count": 0
                      },
                      {
                        "bin_start": 0.08385190554767608,
                        "bin_end": 0.09583074919734408,
                        "count": 0
                      },
                      {
                        "bin_start": 0.09583074919734408,
                        "bin_end": 0.10780959284701208,
                        "count": 0
                      },
                      {
                        "bin_start": 0.10780959284701208,
                        "bin_end": 0.1197884364966801,
                        "count": 1
                      }
                    ]
                  }
                },
                {
                  "name": "kept",
                  "dtype": "float64",
                  "stats": {
                    "unique_count": 2,
                    "nan_count": 0,
                    "min": "0.042615229579737526",
                    "max": "0.062257280636469035",
                    "histogram": [
                      {
                        "bin_start": 0.042615229579737526,
                        "bin_end": 0.044579434685410674,
                        "count": 1
                      },
                      {
                        "bin_start": 0.044579434685410674,
                        "bin_end": 0.04654363979108383,
                        "count": 0
                      },
                      {
                        "bin_start": 0.04654363979108383,
                        "bin_end": 0.04850784489675698,
                        "count": 0
                      },
                      {
                        "bin_start": 0.04850784489675698,
                        "bin_end": 0.05047205000243013,
                        "count": 0
                      },
                      {
                        "bin_start": 0.05047205000243013,
                        "bin_end": 0.05243625510810328,
                        "count": 0
                      },
                      {
                        "bin_start": 0.05243625510810328,
                        "bin_end": 0.05440046021377643,
                        "count": 0
                      },
                      {
                        "bin_start": 0.05440046021377643,
                        "bin_end": 0.056364665319449586,
                        "count": 0
                      },
                      {
                        "bin_start": 0.056364665319449586,
                        "bin_end": 0.058328870425122734,
                        "count": 0
                      },
                      {
                        "bin_start": 0.058328870425122734,
                        "bin_end": 0.06029307553079588,
                        "count": 0
                      },
                      {
                        "bin_start": 0.06029307553079588,
                        "bin_end": 0.062257280636469035,
                        "count": 1
                      }
                    ]
                  }
                },
                {
                  "name": "knelt",
                  "dtype": "float64",
                  "stats": {
                    "unique_count": 2,
                    "nan_count": 0,
                    "min": "0.042615229579737526",
                    "max": "0.062257280636469035",
                    "histogram": [
                      {
                        "bin_start": 0.042615229579737526,
                        "bin_end": 0.044579434685410674,
                        "count": 1
                      },
                      {
                        "bin_start": 0.044579434685410674,
                        "bin_end": 0.04654363979108383,
                        "count": 0
                      },
                      {
                        "bin_start": 0.04654363979108383,
                        "bin_end": 0.04850784489675698,
                        "count": 0
                      },
                      {
                        "bin_start": 0.04850784489675698,
                        "bin_end": 0.05047205000243013,
                        "count": 0
                      },
                      {
                        "bin_start": 0.05047205000243013,
                        "bin_end": 0.05243625510810328,
                        "count": 0
                      },
                      {
                        "bin_start": 0.05243625510810328,
                        "bin_end": 0.05440046021377643,
                        "count": 0
                      },
                      {
                        "bin_start": 0.05440046021377643,
                        "bin_end": 0.056364665319449586,
                        "count": 0
                      },
                      {
                        "bin_start": 0.056364665319449586,
                        "bin_end": 0.058328870425122734,
                        "count": 0
                      },
                      {
                        "bin_start": 0.058328870425122734,
                        "bin_end": 0.06029307553079588,
                        "count": 0
                      },
                      {
                        "bin_start": 0.06029307553079588,
                        "bin_end": 0.062257280636469035,
                        "count": 1
                      }
                    ]
                  }
                },
                {
                  "name": "late",
                  "dtype": "float64",
                  "stats": {
                    "unique_count": 2,
                    "nan_count": 0,
                    "min": "0.042615229579737526",
                    "max": "0.062257280636469035",
                    "histogram": [
                      {
                        "bin_start": 0.042615229579737526,
                        "bin_end": 0.044579434685410674,
                        "count": 1
                      },
                      {
                        "bin_start": 0.044579434685410674,
                        "bin_end": 0.04654363979108383,
                        "count": 0
                      },
                      {
                        "bin_start": 0.04654363979108383,
                        "bin_end": 0.04850784489675698,
                        "count": 0
                      },
                      {
                        "bin_start": 0.04850784489675698,
                        "bin_end": 0.05047205000243013,
                        "count": 0
                      },
                      {
                        "bin_start": 0.05047205000243013,
                        "bin_end": 0.05243625510810328,
                        "count": 0
                      },
                      {
                        "bin_start": 0.05243625510810328,
                        "bin_end": 0.05440046021377643,
                        "count": 0
                      },
                      {
                        "bin_start": 0.05440046021377643,
                        "bin_end": 0.056364665319449586,
                        "count": 0
                      },
                      {
                        "bin_start": 0.056364665319449586,
                        "bin_end": 0.058328870425122734,
                        "count": 0
                      },
                      {
                        "bin_start": 0.058328870425122734,
                        "bin_end": 0.06029307553079588,
                        "count": 0
                      },
                      {
                        "bin_start": 0.06029307553079588,
                        "bin_end": 0.062257280636469035,
                        "count": 1
                      }
                    ]
                  }
                },
                {
                  "name": "left",
                  "dtype": "float64",
                  "stats": {
                    "unique_count": 2,
                    "nan_count": 0,
                    "min": "0.0",
                    "max": "0.05989421824834005",
                    "histogram": [
                      {
                        "bin_start": 0,
                        "bin_end": 0.005989421824834005,
                        "count": 1
                      },
                      {
                        "bin_start": 0.005989421824834005,
                        "bin_end": 0.01197884364966801,
                        "count": 0
                      },
                      {
                        "bin_start": 0.01197884364966801,
                        "bin_end": 0.017968265474502015,
                        "count": 0
                      },
                      {
                        "bin_start": 0.017968265474502015,
                        "bin_end": 0.02395768729933602,
                        "count": 0
                      },
                      {
                        "bin_start": 0.02395768729933602,
                        "bin_end": 0.029947109124170024,
                        "count": 0
                      },
                      {
                        "bin_start": 0.029947109124170024,
                        "bin_end": 0.03593653094900403,
                        "count": 0
                      },
                      {
                        "bin_start": 0.03593653094900403,
                        "bin_end": 0.04192595277383804,
                        "count": 0
                      },
                      {
                        "bin_start": 0.04192595277383804,
                        "bin_end": 0.04791537459867204,
                        "count": 0
                      },
                      {
                        "bin_start": 0.04791537459867204,
                        "bin_end": 0.05390479642350604,
                        "count": 0
                      },
                      {
                        "bin_start": 0.05390479642350604,
                        "bin_end": 0.05989421824834005,
                        "count": 1
                      }
                    ]
                  }
                },
                {
                  "name": "makes",
                  "dtype": "float64",
                  "stats": {
                    "unique_count": 2,
                    "nan_count": 0,
                    "min": "0.0",
                    "max": "0.05989421824834005",
                    "histogram": [
                      {
                        "bin_start": 0,
                        "bin_end": 0.005989421824834005,
                        "count": 1
                      },
                      {
                        "bin_start": 0.005989421824834005,
                        "bin_end": 0.01197884364966801,
                        "count": 0
                      },
                      {
                        "bin_start": 0.01197884364966801,
                        "bin_end": 0.017968265474502015,
                        "count": 0
                      },
                      {
                        "bin_start": 0.017968265474502015,
                        "bin_end": 0.02395768729933602,
                        "count": 0
                      },
                      {
                        "bin_start": 0.02395768729933602,
                        "bin_end": 0.029947109124170024,
                        "count": 0
                      },
                      {
                        "bin_start": 0.029947109124170024,
                        "bin_end": 0.03593653094900403,
                        "count": 0
                      },
                      {
                        "bin_start": 0.03593653094900403,
                        "bin_end": 0.04192595277383804,
                        "count": 0
                      },
                      {
                        "bin_start": 0.04192595277383804,
                        "bin_end": 0.04791537459867204,
                        "count": 0
                      },
                      {
                        "bin_start": 0.04791537459867204,
                        "bin_end": 0.05390479642350604,
                        "count": 0
                      },
                      {
                        "bin_start": 0.05390479642350604,
                        "bin_end": 0.05989421824834005,
                        "count": 1
                      }
                    ]
                  }
                },
                {
                  "name": "man",
                  "dtype": "float64",
                  "stats": {
                    "unique_count": 2,
                    "nan_count": 0,
                    "min": "0.042615229579737526",
                    "max": "0.062257280636469035",
                    "histogram": [
                      {
                        "bin_start": 0.042615229579737526,
                        "bin_end": 0.044579434685410674,
                        "count": 1
                      },
                      {
                        "bin_start": 0.044579434685410674,
                        "bin_end": 0.04654363979108383,
                        "count": 0
                      },
                      {
                        "bin_start": 0.04654363979108383,
                        "bin_end": 0.04850784489675698,
                        "count": 0
                      },
                      {
                        "bin_start": 0.04850784489675698,
                        "bin_end": 0.05047205000243013,
                        "count": 0
                      },
                      {
                        "bin_start": 0.05047205000243013,
                        "bin_end": 0.05243625510810328,
                        "count": 0
                      },
                      {
                        "bin_start": 0.05243625510810328,
                        "bin_end": 0.05440046021377643,
                        "count": 0
                      },
                      {
                        "bin_start": 0.05440046021377643,
                        "bin_end": 0.056364665319449586,
                        "count": 0
                      },
                      {
                        "bin_start": 0.056364665319449586,
                        "bin_end": 0.058328870425122734,
                        "count": 0
                      },
                      {
                        "bin_start": 0.058328870425122734,
                        "bin_end": 0.06029307553079588,
                        "count": 0
                      },
                      {
                        "bin_start": 0.06029307553079588,
                        "bin_end": 0.062257280636469035,
                        "count": 1
                      }
                    ]
                  }
                },
                {
                  "name": "manager",
                  "dtype": "float64",
                  "stats": {
                    "unique_count": 2,
                    "nan_count": 0,
                    "min": "0.062257280636469035",
                    "max": "0.08523045915947505",
                    "histogram": [
                      {
                        "bin_start": 0.062257280636469035,
                        "bin_end": 0.06455459848876964,
                        "count": 1
                      },
                      {
                        "bin_start": 0.06455459848876964,
                        "bin_end": 0.06685191634107024,
                        "count": 0
                      },
                      {
                        "bin_start": 0.06685191634107024,
                        "bin_end": 0.06914923419337084,
                        "count": 0
                      },
                      {
                        "bin_start": 0.06914923419337084,
                        "bin_end": 0.07144655204567144,
                        "count": 0
                      },
                      {
                        "bin_start": 0.07144655204567144,
                        "bin_end": 0.07374386989797205,
                        "count": 0
                      },
                      {
                        "bin_start": 0.07374386989797205,
                        "bin_end": 0.07604118775027265,
                        "count": 0
                      },
                      {
                        "bin_start": 0.07604118775027265,
                        "bin_end": 0.07833850560257324,
                        "count": 0
                      },
                      {
                        "bin_start": 0.07833850560257324,
                        "bin_end": 0.08063582345487386,
                        "count": 0
                      },
                      {
                        "bin_start": 0.08063582345487386,
                        "bin_end": 0.08293314130717445,
                        "count": 0
                      },
                      {
                        "bin_start": 0.08293314130717445,
                        "bin_end": 0.08523045915947505,
                        "count": 1
                      }
                    ]
                  }
                },
                {
                  "name": "me",
                  "dtype": "float64",
                  "stats": {
                    "unique_count": 2,
                    "nan_count": 0,
                    "min": "0.0",
                    "max": "0.1197884364966801",
                    "histogram": [
                      {
                        "bin_start": 0,
                        "bin_end": 0.01197884364966801,
                        "count": 1
                      },
                      {
                        "bin_start": 0.01197884364966801,
                        "bin_end": 0.02395768729933602,
                        "count": 0
                      },
                      {
                        "bin_start": 0.02395768729933602,
                        "bin_end": 0.03593653094900403,
                        "count": 0
                      },
                      {
                        "bin_start": 0.03593653094900403,
                        "bin_end": 0.04791537459867204,
                        "count": 0
                      },
                      {
                        "bin_start": 0.04791537459867204,
                        "bin_end": 0.05989421824834005,
                        "count": 0
                      },
                      {
                        "bin_start": 0.05989421824834005,
                        "bin_end": 0.07187306189800806,
                        "count": 0
                      },
                      {
                        "bin_start": 0.07187306189800806,
                        "bin_end": 0.08385190554767608,
                        "count": 0
                      },
                      {
                        "bin_start": 0.08385190554767608,
                        "bin_end": 0.09583074919734408,
                        "count": 0
                      },
                      {
                        "bin_start": 0.09583074919734408,
                        "bin_end": 0.10780959284701208,
                        "count": 0
                      },
                      {
                        "bin_start": 0.10780959284701208,
                        "bin_end": 0.1197884364966801,
                        "count": 1
                      }
                    ]
                  }
                },
                {
                  "name": "mens",
                  "dtype": "float64",
                  "stats": {
                    "unique_count": 2,
                    "nan_count": 0,
                    "min": "0.042615229579737526",
                    "max": "0.062257280636469035",
                    "histogram": [
                      {
                        "bin_start": 0.042615229579737526,
                        "bin_end": 0.044579434685410674,
                        "count": 1
                      },
                      {
                        "bin_start": 0.044579434685410674,
                        "bin_end": 0.04654363979108383,
                        "count": 0
                      },
                      {
                        "bin_start": 0.04654363979108383,
                        "bin_end": 0.04850784489675698,
                        "count": 0
                      },
                      {
                        "bin_start": 0.04850784489675698,
                        "bin_end": 0.05047205000243013,
                        "count": 0
                      },
                      {
                        "bin_start": 0.05047205000243013,
                        "bin_end": 0.05243625510810328,
                        "count": 0
                      },
                      {
                        "bin_start": 0.05243625510810328,
                        "bin_end": 0.05440046021377643,
                        "count": 0
                      },
                      {
                        "bin_start": 0.05440046021377643,
                        "bin_end": 0.056364665319449586,
                        "count": 0
                      },
                      {
                        "bin_start": 0.056364665319449586,
                        "bin_end": 0.058328870425122734,
                        "count": 0
                      },
                      {
                        "bin_start": 0.058328870425122734,
                        "bin_end": 0.06029307553079588,
                        "count": 0
                      },
                      {
                        "bin_start": 0.06029307553079588,
                        "bin_end": 0.062257280636469035,
                        "count": 1
                      }
                    ]
                  }
                },
                {
                  "name": "my",
                  "dtype": "float64",
                  "stats": {
                    "unique_count": 2,
                    "nan_count": 0,
                    "min": "0.062257280636469035",
                    "max": "0.08523045915947505",
                    "histogram": [
                      {
                        "bin_start": 0.062257280636469035,
                        "bin_end": 0.06455459848876964,
                        "count": 1
                      },
                      {
                        "bin_start": 0.06455459848876964,
                        "bin_end": 0.06685191634107024,
                        "count": 0
                      },
                      {
                        "bin_start": 0.06685191634107024,
                        "bin_end": 0.06914923419337084,
                        "count": 0
                      },
                      {
                        "bin_start": 0.06914923419337084,
                        "bin_end": 0.07144655204567144,
                        "count": 0
                      },
                      {
                        "bin_start": 0.07144655204567144,
                        "bin_end": 0.07374386989797205,
                        "count": 0
                      },
                      {
                        "bin_start": 0.07374386989797205,
                        "bin_end": 0.07604118775027265,
                        "count": 0
                      },
                      {
                        "bin_start": 0.07604118775027265,
                        "bin_end": 0.07833850560257324,
                        "count": 0
                      },
                      {
                        "bin_start": 0.07833850560257324,
                        "bin_end": 0.08063582345487386,
                        "count": 0
                      },
                      {
                        "bin_start": 0.08063582345487386,
                        "bin_end": 0.08293314130717445,
                        "count": 0
                      },
                      {
                        "bin_start": 0.08293314130717445,
                        "bin_end": 0.08523045915947505,
                        "count": 1
                      }
                    ]
                  }
                },
                {
                  "name": "myself",
                  "dtype": "float64",
                  "stats": {
                    "unique_count": 2,
                    "nan_count": 0,
                    "min": "0.042615229579737526",
                    "max": "0.062257280636469035",
                    "histogram": [
                      {
                        "bin_start": 0.042615229579737526,
                        "bin_end": 0.044579434685410674,
                        "count": 1
                      },
                      {
                        "bin_start": 0.044579434685410674,
                        "bin_end": 0.04654363979108383,
                        "count": 0
                      },
                      {
                        "bin_start": 0.04654363979108383,
                        "bin_end": 0.04850784489675698,
                        "count": 0
                      },
                      {
                        "bin_start": 0.04850784489675698,
                        "bin_end": 0.05047205000243013,
                        "count": 0
                      },
                      {
                        "bin_start": 0.05047205000243013,
                        "bin_end": 0.05243625510810328,
                        "count": 0
                      },
                      {
                        "bin_start": 0.05243625510810328,
                        "bin_end": 0.05440046021377643,
                        "count": 0
                      },
                      {
                        "bin_start": 0.05440046021377643,
                        "bin_end": 0.056364665319449586,
                        "count": 0
                      },
                      {
                        "bin_start": 0.056364665319449586,
                        "bin_end": 0.058328870425122734,
                        "count": 0
                      },
                      {
                        "bin_start": 0.058328870425122734,
                        "bin_end": 0.06029307553079588,
                        "count": 0
                      },
                      {
                        "bin_start": 0.06029307553079588,
                        "bin_end": 0.062257280636469035,
                        "count": 1
                      }
                    ]
                  }
                },
                {
                  "name": "naive",
                  "dtype": "float64",
                  "stats": {
                    "unique_count": 2,
                    "nan_count": 0,
                    "min": "0.0",
                    "max": "0.05989421824834005",
                    "histogram": [
                      {
                        "bin_start": 0,
                        "bin_end": 0.005989421824834005,
                        "count": 1
                      },
                      {
                        "bin_start": 0.005989421824834005,
                        "bin_end": 0.01197884364966801,
                        "count": 0
                      },
                      {
                        "bin_start": 0.01197884364966801,
                        "bin_end": 0.017968265474502015,
                        "count": 0
                      },
                      {
                        "bin_start": 0.017968265474502015,
                        "bin_end": 0.02395768729933602,
                        "count": 0
                      },
                      {
                        "bin_start": 0.02395768729933602,
                        "bin_end": 0.029947109124170024,
                        "count": 0
                      },
                      {
                        "bin_start": 0.029947109124170024,
                        "bin_end": 0.03593653094900403,
                        "count": 0
                      },
                      {
                        "bin_start": 0.03593653094900403,
                        "bin_end": 0.04192595277383804,
                        "count": 0
                      },
                      {
                        "bin_start": 0.04192595277383804,
                        "bin_end": 0.04791537459867204,
                        "count": 0
                      },
                      {
                        "bin_start": 0.04791537459867204,
                        "bin_end": 0.05390479642350604,
                        "count": 0
                      },
                      {
                        "bin_start": 0.05390479642350604,
                        "bin_end": 0.05989421824834005,
                        "count": 1
                      }
                    ]
                  }
                },
                {
                  "name": "now",
                  "dtype": "float64",
                  "stats": {
                    "unique_count": 2,
                    "nan_count": 0,
                    "min": "0.0",
                    "max": "0.05989421824834005",
                    "histogram": [
                      {
                        "bin_start": 0,
                        "bin_end": 0.005989421824834005,
                        "count": 1
                      },
                      {
                        "bin_start": 0.005989421824834005,
                        "bin_end": 0.01197884364966801,
                        "count": 0
                      },
                      {
                        "bin_start": 0.01197884364966801,
                        "bin_end": 0.017968265474502015,
                        "count": 0
                      },
                      {
                        "bin_start": 0.017968265474502015,
                        "bin_end": 0.02395768729933602,
                        "count": 0
                      },
                      {
                        "bin_start": 0.02395768729933602,
                        "bin_end": 0.029947109124170024,
                        "count": 0
                      },
                      {
                        "bin_start": 0.029947109124170024,
                        "bin_end": 0.03593653094900403,
                        "count": 0
                      },
                      {
                        "bin_start": 0.03593653094900403,
                        "bin_end": 0.04192595277383804,
                        "count": 0
                      },
                      {
                        "bin_start": 0.04192595277383804,
                        "bin_end": 0.04791537459867204,
                        "count": 0
                      },
                      {
                        "bin_start": 0.04791537459867204,
                        "bin_end": 0.05390479642350604,
                        "count": 0
                      },
                      {
                        "bin_start": 0.05390479642350604,
                        "bin_end": 0.05989421824834005,
                        "count": 1
                      }
                    ]
                  }
                },
                {
                  "name": "of",
                  "dtype": "float64",
                  "stats": {
                    "unique_count": 2,
                    "nan_count": 0,
                    "min": "0.042615229579737526",
                    "max": "0.062257280636469035",
                    "histogram": [
                      {
                        "bin_start": 0.042615229579737526,
                        "bin_end": 0.044579434685410674,
                        "count": 1
                      },
                      {
                        "bin_start": 0.044579434685410674,
                        "bin_end": 0.04654363979108383,
                        "count": 0
                      },
                      {
                        "bin_start": 0.04654363979108383,
                        "bin_end": 0.04850784489675698,
                        "count": 0
                      },
                      {
                        "bin_start": 0.04850784489675698,
                        "bin_end": 0.05047205000243013,
                        "count": 0
                      },
                      {
                        "bin_start": 0.05047205000243013,
                        "bin_end": 0.05243625510810328,
                        "count": 0
                      },
                      {
                        "bin_start": 0.05243625510810328,
                        "bin_end": 0.05440046021377643,
                        "count": 0
                      },
                      {
                        "bin_start": 0.05440046021377643,
                        "bin_end": 0.056364665319449586,
                        "count": 0
                      },
                      {
                        "bin_start": 0.056364665319449586,
                        "bin_end": 0.058328870425122734,
                        "count": 0
                      },
                      {
                        "bin_start": 0.058328870425122734,
                        "bin_end": 0.06029307553079588,
                        "count": 0
                      },
                      {
                        "bin_start": 0.06029307553079588,
                        "bin_end": 0.062257280636469035,
                        "count": 1
                      }
                    ]
                  }
                },
                {
                  "name": "offer",
                  "dtype": "float64",
                  "stats": {
                    "unique_count": 2,
                    "nan_count": 0,
                    "min": "0.042615229579737526",
                    "max": "0.062257280636469035",
                    "histogram": [
                      {
                        "bin_start": 0.042615229579737526,
                        "bin_end": 0.044579434685410674,
                        "count": 1
                      },
                      {
                        "bin_start": 0.044579434685410674,
                        "bin_end": 0.04654363979108383,
                        "count": 0
                      },
                      {
                        "bin_start": 0.04654363979108383,
                        "bin_end": 0.04850784489675698,
                        "count": 0
                      },
                      {
                        "bin_start": 0.04850784489675698,
                        "bin_end": 0.05047205000243013,
                        "count": 0
                      },
                      {
                        "bin_start": 0.05047205000243013,
                        "bin_end": 0.05243625510810328,
                        "count": 0
                      },
                      {
                        "bin_start": 0.05243625510810328,
                        "bin_end": 0.05440046021377643,
                        "count": 0
                      },
                      {
                        "bin_start": 0.05440046021377643,
                        "bin_end": 0.056364665319449586,
                        "count": 0
                      },
                      {
                        "bin_start": 0.056364665319449586,
                        "bin_end": 0.058328870425122734,
                        "count": 0
                      },
                      {
                        "bin_start": 0.058328870425122734,
                        "bin_end": 0.06029307553079588,
                        "count": 0
                      },
                      {
                        "bin_start": 0.06029307553079588,
                        "bin_end": 0.062257280636469035,
                        "count": 1
                      }
                    ]
                  }
                },
                {
                  "name": "old",
                  "dtype": "float64",
                  "stats": {
                    "unique_count": 2,
                    "nan_count": 0,
                    "min": "0.0",
                    "max": "0.05989421824834005",
                    "histogram": [
                      {
                        "bin_start": 0,
                        "bin_end": 0.005989421824834005,
                        "count": 1
                      },
                      {
                        "bin_start": 0.005989421824834005,
                        "bin_end": 0.01197884364966801,
                        "count": 0
                      },
                      {
                        "bin_start": 0.01197884364966801,
                        "bin_end": 0.017968265474502015,
                        "count": 0
                      },
                      {
                        "bin_start": 0.017968265474502015,
                        "bin_end": 0.02395768729933602,
                        "count": 0
                      },
                      {
                        "bin_start": 0.02395768729933602,
                        "bin_end": 0.029947109124170024,
                        "count": 0
                      },
                      {
                        "bin_start": 0.029947109124170024,
                        "bin_end": 0.03593653094900403,
                        "count": 0
                      },
                      {
                        "bin_start": 0.03593653094900403,
                        "bin_end": 0.04192595277383804,
                        "count": 0
                      },
                      {
                        "bin_start": 0.04192595277383804,
                        "bin_end": 0.04791537459867204,
                        "count": 0
                      },
                      {
                        "bin_start": 0.04791537459867204,
                        "bin_end": 0.05390479642350604,
                        "count": 0
                      },
                      {
                        "bin_start": 0.05390479642350604,
                        "bin_end": 0.05989421824834005,
                        "count": 1
                      }
                    ]
                  }
                },
                {
                  "name": "on",
                  "dtype": "float64",
                  "stats": {
                    "unique_count": 2,
                    "nan_count": 0,
                    "min": "0.1278456887392126",
                    "max": "0.1867718419094071",
                    "histogram": [
                      {
                        "bin_start": 0.1278456887392126,
                        "bin_end": 0.13373830405623205,
                        "count": 1
                      },
                      {
                        "bin_start": 0.13373830405623205,
                        "bin_end": 0.1396309193732515,
                        "count": 0
                      },
                      {
                        "bin_start": 0.1396309193732515,
                        "bin_end": 0.14552353469027096,
                        "count": 0
                      },
                      {
                        "bin_start": 0.14552353469027096,
                        "bin_end": 0.1514161500072904,
                        "count": 0
                      },
                      {
                        "bin_start": 0.1514161500072904,
                        "bin_end": 0.15730876532430985,
                        "count": 0
                      },
                      {
                        "bin_start": 0.15730876532430985,
                        "bin_end": 0.1632013806413293,
                        "count": 0
                      },
                      {
                        "bin_start": 0.1632013806413293,
                        "bin_end": 0.16909399595834876,
                        "count": 0
                      },
                      {
                        "bin_start": 0.16909399595834876,
                        "bin_end": 0.1749866112753682,
                        "count": 0
                      },
                      {
                        "bin_start": 0.1749866112753682,
                        "bin_end": 0.18087922659238764,
                        "count": 0
                      },
                      {
                        "bin_start": 0.18087922659238764,
                        "bin_end": 0.1867718419094071,
                        "count": 1
                      }
                    ]
                  }
                },
                {
                  "name": "one",
                  "dtype": "float64",
                  "stats": {
                    "unique_count": 2,
                    "nan_count": 0,
                    "min": "0.042615229579737526",
                    "max": "0.062257280636469035",
                    "histogram": [
                      {
                        "bin_start": 0.042615229579737526,
                        "bin_end": 0.044579434685410674,
                        "count": 1
                      },
                      {
                        "bin_start": 0.044579434685410674,
                        "bin_end": 0.04654363979108383,
                        "count": 0
                      },
                      {
                        "bin_start": 0.04654363979108383,
                        "bin_end": 0.04850784489675698,
                        "count": 0
                      },
                      {
                        "bin_start": 0.04850784489675698,
                        "bin_end": 0.05047205000243013,
                        "count": 0
                      },
                      {
                        "bin_start": 0.05047205000243013,
                        "bin_end": 0.05243625510810328,
                        "count": 0
                      },
                      {
                        "bin_start": 0.05243625510810328,
                        "bin_end": 0.05440046021377643,
                        "count": 0
                      },
                      {
                        "bin_start": 0.05440046021377643,
                        "bin_end": 0.056364665319449586,
                        "count": 0
                      },
                      {
                        "bin_start": 0.056364665319449586,
                        "bin_end": 0.058328870425122734,
                        "count": 0
                      },
                      {
                        "bin_start": 0.058328870425122734,
                        "bin_end": 0.06029307553079588,
                        "count": 0
                      },
                      {
                        "bin_start": 0.06029307553079588,
                        "bin_end": 0.062257280636469035,
                        "count": 1
                      }
                    ]
                  }
                },
                {
                  "name": "overtime",
                  "dtype": "float64",
                  "stats": {
                    "unique_count": 2,
                    "nan_count": 0,
                    "min": "0.042615229579737526",
                    "max": "0.062257280636469035",
                    "histogram": [
                      {
                        "bin_start": 0.042615229579737526,
                        "bin_end": 0.044579434685410674,
                        "count": 1
                      },
                      {
                        "bin_start": 0.044579434685410674,
                        "bin_end": 0.04654363979108383,
                        "count": 0
                      },
                      {
                        "bin_start": 0.04654363979108383,
                        "bin_end": 0.04850784489675698,
                        "count": 0
                      },
                      {
                        "bin_start": 0.04850784489675698,
                        "bin_end": 0.05047205000243013,
                        "count": 0
                      },
                      {
                        "bin_start": 0.05047205000243013,
                        "bin_end": 0.05243625510810328,
                        "count": 0
                      },
                      {
                        "bin_start": 0.05243625510810328,
                        "bin_end": 0.05440046021377643,
                        "count": 0
                      },
                      {
                        "bin_start": 0.05440046021377643,
                        "bin_end": 0.056364665319449586,
                        "count": 0
                      },
                      {
                        "bin_start": 0.056364665319449586,
                        "bin_end": 0.058328870425122734,
                        "count": 0
                      },
                      {
                        "bin_start": 0.058328870425122734,
                        "bin_end": 0.06029307553079588,
                        "count": 0
                      },
                      {
                        "bin_start": 0.06029307553079588,
                        "bin_end": 0.062257280636469035,
                        "count": 1
                      }
                    ]
                  }
                },
                {
                  "name": "quite",
                  "dtype": "float64",
                  "stats": {
                    "unique_count": 2,
                    "nan_count": 0,
                    "min": "0.0",
                    "max": "0.17968265474502013",
                    "histogram": [
                      {
                        "bin_start": 0,
                        "bin_end": 0.01796826547450201,
                        "count": 1
                      },
                      {
                        "bin_start": 0.01796826547450201,
                        "bin_end": 0.03593653094900402,
                        "count": 0
                      },
                      {
                        "bin_start": 0.03593653094900402,
                        "bin_end": 0.053904796423506034,
                        "count": 0
                      },
                      {
                        "bin_start": 0.053904796423506034,
                        "bin_end": 0.07187306189800804,
                        "count": 0
                      },
                      {
                        "bin_start": 0.07187306189800804,
                        "bin_end": 0.08984132737251005,
                        "count": 0
                      },
                      {
                        "bin_start": 0.08984132737251005,
                        "bin_end": 0.10780959284701207,
                        "count": 0
                      },
                      {
                        "bin_start": 0.10780959284701207,
                        "bin_end": 0.12577785832151409,
                        "count": 0
                      },
                      {
                        "bin_start": 0.12577785832151409,
                        "bin_end": 0.1437461237960161,
                        "count": 0
                      },
                      {
                        "bin_start": 0.1437461237960161,
                        "bin_end": 0.1617143892705181,
                        "count": 0
                      },
                      {
                        "bin_start": 0.1617143892705181,
                        "bin_end": 0.17968265474502013,
                        "count": 1
                      }
                    ]
                  }
                },
                {
                  "name": "re",
                  "dtype": "float64",
                  "stats": {
                    "unique_count": 2,
                    "nan_count": 0,
                    "min": "0.042615229579737526",
                    "max": "0.062257280636469035",
                    "histogram": [
                      {
                        "bin_start": 0.042615229579737526,
                        "bin_end": 0.044579434685410674,
                        "count": 1
                      },
                      {
                        "bin_start": 0.044579434685410674,
                        "bin_end": 0.04654363979108383,
                        "count": 0
                      },
                      {
                        "bin_start": 0.04654363979108383,
                        "bin_end": 0.04850784489675698,
                        "count": 0
                      },
                      {
                        "bin_start": 0.04850784489675698,
                        "bin_end": 0.05047205000243013,
                        "count": 0
                      },
                      {
                        "bin_start": 0.05047205000243013,
                        "bin_end": 0.05243625510810328,
                        "count": 0
                      },
                      {
                        "bin_start": 0.05243625510810328,
                        "bin_end": 0.05440046021377643,
                        "count": 0
                      },
                      {
                        "bin_start": 0.05440046021377643,
                        "bin_end": 0.056364665319449586,
                        "count": 0
                      },
                      {
                        "bin_start": 0.056364665319449586,
                        "bin_end": 0.058328870425122734,
                        "count": 0
                      },
                      {
                        "bin_start": 0.058328870425122734,
                        "bin_end": 0.06029307553079588,
                        "count": 0
                      },
                      {
                        "bin_start": 0.06029307553079588,
                        "bin_end": 0.062257280636469035,
                        "count": 1
                      }
                    ]
                  }
                },
                {
                  "name": "room",
                  "dtype": "float64",
                  "stats": {
                    "unique_count": 2,
                    "nan_count": 0,
                    "min": "0.042615229579737526",
                    "max": "0.062257280636469035",
                    "histogram": [
                      {
                        "bin_start": 0.042615229579737526,
                        "bin_end": 0.044579434685410674,
                        "count": 1
                      },
                      {
                        "bin_start": 0.044579434685410674,
                        "bin_end": 0.04654363979108383,
                        "count": 0
                      },
                      {
                        "bin_start": 0.04654363979108383,
                        "bin_end": 0.04850784489675698,
                        "count": 0
                      },
                      {
                        "bin_start": 0.04850784489675698,
                        "bin_end": 0.05047205000243013,
                        "count": 0
                      },
                      {
                        "bin_start": 0.05047205000243013,
                        "bin_end": 0.05243625510810328,
                        "count": 0
                      },
                      {
                        "bin_start": 0.05243625510810328,
                        "bin_end": 0.05440046021377643,
                        "count": 0
                      },
                      {
                        "bin_start": 0.05440046021377643,
                        "bin_end": 0.056364665319449586,
                        "count": 0
                      },
                      {
                        "bin_start": 0.056364665319449586,
                        "bin_end": 0.058328870425122734,
                        "count": 0
                      },
                      {
                        "bin_start": 0.058328870425122734,
                        "bin_end": 0.06029307553079588,
                        "count": 0
                      },
                      {
                        "bin_start": 0.06029307553079588,
                        "bin_end": 0.062257280636469035,
                        "count": 1
                      }
                    ]
                  }
                },
                {
                  "name": "said",
                  "dtype": "float64",
                  "stats": {
                    "unique_count": 2,
                    "nan_count": 0,
                    "min": "0.042615229579737526",
                    "max": "0.062257280636469035",
                    "histogram": [
                      {
                        "bin_start": 0.042615229579737526,
                        "bin_end": 0.044579434685410674,
                        "count": 1
                      },
                      {
                        "bin_start": 0.044579434685410674,
                        "bin_end": 0.04654363979108383,
                        "count": 0
                      },
                      {
                        "bin_start": 0.04654363979108383,
                        "bin_end": 0.04850784489675698,
                        "count": 0
                      },
                      {
                        "bin_start": 0.04850784489675698,
                        "bin_end": 0.05047205000243013,
                        "count": 0
                      },
                      {
                        "bin_start": 0.05047205000243013,
                        "bin_end": 0.05243625510810328,
                        "count": 0
                      },
                      {
                        "bin_start": 0.05243625510810328,
                        "bin_end": 0.05440046021377643,
                        "count": 0
                      },
                      {
                        "bin_start": 0.05440046021377643,
                        "bin_end": 0.056364665319449586,
                        "count": 0
                      },
                      {
                        "bin_start": 0.056364665319449586,
                        "bin_end": 0.058328870425122734,
                        "count": 0
                      },
                      {
                        "bin_start": 0.058328870425122734,
                        "bin_end": 0.06029307553079588,
                        "count": 0
                      },
                      {
                        "bin_start": 0.06029307553079588,
                        "bin_end": 0.062257280636469035,
                        "count": 1
                      }
                    ]
                  }
                },
                {
                  "name": "she",
                  "dtype": "float64",
                  "stats": {
                    "unique_count": 2,
                    "nan_count": 0,
                    "min": "0.0",
                    "max": "0.1197884364966801",
                    "histogram": [
                      {
                        "bin_start": 0,
                        "bin_end": 0.01197884364966801,
                        "count": 1
                      },
                      {
                        "bin_start": 0.01197884364966801,
                        "bin_end": 0.02395768729933602,
                        "count": 0
                      },
                      {
                        "bin_start": 0.02395768729933602,
                        "bin_end": 0.03593653094900403,
                        "count": 0
                      },
                      {
                        "bin_start": 0.03593653094900403,
                        "bin_end": 0.04791537459867204,
                        "count": 0
                      },
                      {
                        "bin_start": 0.04791537459867204,
                        "bin_end": 0.05989421824834005,
                        "count": 0
                      },
                      {
                        "bin_start": 0.05989421824834005,
                        "bin_end": 0.07187306189800806,
                        "count": 0
                      },
                      {
                        "bin_start": 0.07187306189800806,
                        "bin_end": 0.08385190554767608,
                        "count": 0
                      },
                      {
                        "bin_start": 0.08385190554767608,
                        "bin_end": 0.09583074919734408,
                        "count": 0
                      },
                      {
                        "bin_start": 0.09583074919734408,
                        "bin_end": 0.10780959284701208,
                        "count": 0
                      },
                      {
                        "bin_start": 0.10780959284701208,
                        "bin_end": 0.1197884364966801,
                        "count": 1
                      }
                    ]
                  }
                },
                {
                  "name": "shocked",
                  "dtype": "float64",
                  "stats": {
                    "unique_count": 2,
                    "nan_count": 0,
                    "min": "0.0",
                    "max": "0.05989421824834005",
                    "histogram": [
                      {
                        "bin_start": 0,
                        "bin_end": 0.005989421824834005,
                        "count": 1
                      },
                      {
                        "bin_start": 0.005989421824834005,
                        "bin_end": 0.01197884364966801,
                        "count": 0
                      },
                      {
                        "bin_start": 0.01197884364966801,
                        "bin_end": 0.017968265474502015,
                        "count": 0
                      },
                      {
                        "bin_start": 0.017968265474502015,
                        "bin_end": 0.02395768729933602,
                        "count": 0
                      },
                      {
                        "bin_start": 0.02395768729933602,
                        "bin_end": 0.029947109124170024,
                        "count": 0
                      },
                      {
                        "bin_start": 0.029947109124170024,
                        "bin_end": 0.03593653094900403,
                        "count": 0
                      },
                      {
                        "bin_start": 0.03593653094900403,
                        "bin_end": 0.04192595277383804,
                        "count": 0
                      },
                      {
                        "bin_start": 0.04192595277383804,
                        "bin_end": 0.04791537459867204,
                        "count": 0
                      },
                      {
                        "bin_start": 0.04791537459867204,
                        "bin_end": 0.05390479642350604,
                        "count": 0
                      },
                      {
                        "bin_start": 0.05390479642350604,
                        "bin_end": 0.05989421824834005,
                        "count": 1
                      }
                    ]
                  }
                },
                {
                  "name": "shop",
                  "dtype": "float64",
                  "stats": {
                    "unique_count": 2,
                    "nan_count": 0,
                    "min": "0.042615229579737526",
                    "max": "0.062257280636469035",
                    "histogram": [
                      {
                        "bin_start": 0.042615229579737526,
                        "bin_end": 0.044579434685410674,
                        "count": 1
                      },
                      {
                        "bin_start": 0.044579434685410674,
                        "bin_end": 0.04654363979108383,
                        "count": 0
                      },
                      {
                        "bin_start": 0.04654363979108383,
                        "bin_end": 0.04850784489675698,
                        "count": 0
                      },
                      {
                        "bin_start": 0.04850784489675698,
                        "bin_end": 0.05047205000243013,
                        "count": 0
                      },
                      {
                        "bin_start": 0.05047205000243013,
                        "bin_end": 0.05243625510810328,
                        "count": 0
                      },
                      {
                        "bin_start": 0.05243625510810328,
                        "bin_end": 0.05440046021377643,
                        "count": 0
                      },
                      {
                        "bin_start": 0.05440046021377643,
                        "bin_end": 0.056364665319449586,
                        "count": 0
                      },
                      {
                        "bin_start": 0.056364665319449586,
                        "bin_end": 0.058328870425122734,
                        "count": 0
                      },
                      {
                        "bin_start": 0.058328870425122734,
                        "bin_end": 0.06029307553079588,
                        "count": 0
                      },
                      {
                        "bin_start": 0.06029307553079588,
                        "bin_end": 0.062257280636469035,
                        "count": 1
                      }
                    ]
                  }
                },
                {
                  "name": "size",
                  "dtype": "float64",
                  "stats": {
                    "unique_count": 2,
                    "nan_count": 0,
                    "min": "0.042615229579737526",
                    "max": "0.062257280636469035",
                    "histogram": [
                      {
                        "bin_start": 0.042615229579737526,
                        "bin_end": 0.044579434685410674,
                        "count": 1
                      },
                      {
                        "bin_start": 0.044579434685410674,
                        "bin_end": 0.04654363979108383,
                        "count": 0
                      },
                      {
                        "bin_start": 0.04654363979108383,
                        "bin_end": 0.04850784489675698,
                        "count": 0
                      },
                      {
                        "bin_start": 0.04850784489675698,
                        "bin_end": 0.05047205000243013,
                        "count": 0
                      },
                      {
                        "bin_start": 0.05047205000243013,
                        "bin_end": 0.05243625510810328,
                        "count": 0
                      },
                      {
                        "bin_start": 0.05243625510810328,
                        "bin_end": 0.05440046021377643,
                        "count": 0
                      },
                      {
                        "bin_start": 0.05440046021377643,
                        "bin_end": 0.056364665319449586,
                        "count": 0
                      },
                      {
                        "bin_start": 0.056364665319449586,
                        "bin_end": 0.058328870425122734,
                        "count": 0
                      },
                      {
                        "bin_start": 0.058328870425122734,
                        "bin_end": 0.06029307553079588,
                        "count": 0
                      },
                      {
                        "bin_start": 0.06029307553079588,
                        "bin_end": 0.062257280636469035,
                        "count": 1
                      }
                    ]
                  }
                },
                {
                  "name": "smiled",
                  "dtype": "float64",
                  "stats": {
                    "unique_count": 2,
                    "nan_count": 0,
                    "min": "0.0",
                    "max": "0.05989421824834005",
                    "histogram": [
                      {
                        "bin_start": 0,
                        "bin_end": 0.005989421824834005,
                        "count": 1
                      },
                      {
                        "bin_start": 0.005989421824834005,
                        "bin_end": 0.01197884364966801,
                        "count": 0
                      },
                      {
                        "bin_start": 0.01197884364966801,
                        "bin_end": 0.017968265474502015,
                        "count": 0
                      },
                      {
                        "bin_start": 0.017968265474502015,
                        "bin_end": 0.02395768729933602,
                        "count": 0
                      },
                      {
                        "bin_start": 0.02395768729933602,
                        "bin_end": 0.029947109124170024,
                        "count": 0
                      },
                      {
                        "bin_start": 0.029947109124170024,
                        "bin_end": 0.03593653094900403,
                        "count": 0
                      },
                      {
                        "bin_start": 0.03593653094900403,
                        "bin_end": 0.04192595277383804,
                        "count": 0
                      },
                      {
                        "bin_start": 0.04192595277383804,
                        "bin_end": 0.04791537459867204,
                        "count": 0
                      },
                      {
                        "bin_start": 0.04791537459867204,
                        "bin_end": 0.05390479642350604,
                        "count": 0
                      },
                      {
                        "bin_start": 0.05390479642350604,
                        "bin_end": 0.05989421824834005,
                        "count": 1
                      }
                    ]
                  }
                },
                {
                  "name": "so",
                  "dtype": "float64",
                  "stats": {
                    "unique_count": 2,
                    "nan_count": 0,
                    "min": "0.12451456127293807",
                    "max": "0.1278456887392126",
                    "histogram": [
                      {
                        "bin_start": 0.12451456127293807,
                        "bin_end": 0.12484767401956552,
                        "count": 1
                      },
                      {
                        "bin_start": 0.12484767401956552,
                        "bin_end": 0.125180786766193,
                        "count": 0
                      },
                      {
                        "bin_start": 0.125180786766193,
                        "bin_end": 0.12551389951282044,
                        "count": 0
                      },
                      {
                        "bin_start": 0.12551389951282044,
                        "bin_end": 0.1258470122594479,
                        "count": 0
                      },
                      {
                        "bin_start": 0.1258470122594479,
                        "bin_end": 0.12618012500607534,
                        "count": 0
                      },
                      {
                        "bin_start": 0.12618012500607534,
                        "bin_end": 0.1265132377527028,
                        "count": 0
                      },
                      {
                        "bin_start": 0.1265132377527028,
                        "bin_end": 0.12684635049933024,
                        "count": 0
                      },
                      {
                        "bin_start": 0.12684635049933024,
                        "bin_end": 0.1271794632459577,
                        "count": 0
                      },
                      {
                        "bin_start": 0.1271794632459577,
                        "bin_end": 0.12751257599258514,
                        "count": 0
                      },
                      {
                        "bin_start": 0.12751257599258514,
                        "bin_end": 0.1278456887392126,
                        "count": 1
                      }
                    ]
                  }
                },
                {
                  "name": "sold",
                  "dtype": "float64",
                  "stats": {
                    "unique_count": 2,
                    "nan_count": 0,
                    "min": "0.042615229579737526",
                    "max": "0.062257280636469035",
                    "histogram": [
                      {
                        "bin_start": 0.042615229579737526,
                        "bin_end": 0.044579434685410674,
                        "count": 1
                      },
                      {
                        "bin_start": 0.044579434685410674,
                        "bin_end": 0.04654363979108383,
                        "count": 0
                      },
                      {
                        "bin_start": 0.04654363979108383,
                        "bin_end": 0.04850784489675698,
                        "count": 0
                      },
                      {
                        "bin_start": 0.04850784489675698,
                        "bin_end": 0.05047205000243013,
                        "count": 0
                      },
                      {
                        "bin_start": 0.05047205000243013,
                        "bin_end": 0.05243625510810328,
                        "count": 0
                      },
                      {
                        "bin_start": 0.05243625510810328,
                        "bin_end": 0.05440046021377643,
                        "count": 0
                      },
                      {
                        "bin_start": 0.05440046021377643,
                        "bin_end": 0.056364665319449586,
                        "count": 0
                      },
                      {
                        "bin_start": 0.056364665319449586,
                        "bin_end": 0.058328870425122734,
                        "count": 0
                      },
                      {
                        "bin_start": 0.058328870425122734,
                        "bin_end": 0.06029307553079588,
                        "count": 0
                      },
                      {
                        "bin_start": 0.06029307553079588,
                        "bin_end": 0.062257280636469035,
                        "count": 1
                      }
                    ]
                  }
                },
                {
                  "name": "some",
                  "dtype": "float64",
                  "stats": {
                    "unique_count": 2,
                    "nan_count": 0,
                    "min": "0.042615229579737526",
                    "max": "0.062257280636469035",
                    "histogram": [
                      {
                        "bin_start": 0.042615229579737526,
                        "bin_end": 0.044579434685410674,
                        "count": 1
                      },
                      {
                        "bin_start": 0.044579434685410674,
                        "bin_end": 0.04654363979108383,
                        "count": 0
                      },
                      {
                        "bin_start": 0.04654363979108383,
                        "bin_end": 0.04850784489675698,
                        "count": 0
                      },
                      {
                        "bin_start": 0.04850784489675698,
                        "bin_end": 0.05047205000243013,
                        "count": 0
                      },
                      {
                        "bin_start": 0.05047205000243013,
                        "bin_end": 0.05243625510810328,
                        "count": 0
                      },
                      {
                        "bin_start": 0.05243625510810328,
                        "bin_end": 0.05440046021377643,
                        "count": 0
                      },
                      {
                        "bin_start": 0.05440046021377643,
                        "bin_end": 0.056364665319449586,
                        "count": 0
                      },
                      {
                        "bin_start": 0.056364665319449586,
                        "bin_end": 0.058328870425122734,
                        "count": 0
                      },
                      {
                        "bin_start": 0.058328870425122734,
                        "bin_end": 0.06029307553079588,
                        "count": 0
                      },
                      {
                        "bin_start": 0.06029307553079588,
                        "bin_end": 0.062257280636469035,
                        "count": 1
                      }
                    ]
                  }
                },
                {
                  "name": "speak",
                  "dtype": "float64",
                  "stats": {
                    "unique_count": 2,
                    "nan_count": 0,
                    "min": "0.0",
                    "max": "0.05989421824834005",
                    "histogram": [
                      {
                        "bin_start": 0,
                        "bin_end": 0.005989421824834005,
                        "count": 1
                      },
                      {
                        "bin_start": 0.005989421824834005,
                        "bin_end": 0.01197884364966801,
                        "count": 0
                      },
                      {
                        "bin_start": 0.01197884364966801,
                        "bin_end": 0.017968265474502015,
                        "count": 0
                      },
                      {
                        "bin_start": 0.017968265474502015,
                        "bin_end": 0.02395768729933602,
                        "count": 0
                      },
                      {
                        "bin_start": 0.02395768729933602,
                        "bin_end": 0.029947109124170024,
                        "count": 0
                      },
                      {
                        "bin_start": 0.029947109124170024,
                        "bin_end": 0.03593653094900403,
                        "count": 0
                      },
                      {
                        "bin_start": 0.03593653094900403,
                        "bin_end": 0.04192595277383804,
                        "count": 0
                      },
                      {
                        "bin_start": 0.04192595277383804,
                        "bin_end": 0.04791537459867204,
                        "count": 0
                      },
                      {
                        "bin_start": 0.04791537459867204,
                        "bin_end": 0.05390479642350604,
                        "count": 0
                      },
                      {
                        "bin_start": 0.05390479642350604,
                        "bin_end": 0.05989421824834005,
                        "count": 1
                      }
                    ]
                  }
                },
                {
                  "name": "special",
                  "dtype": "float64",
                  "stats": {
                    "unique_count": 2,
                    "nan_count": 0,
                    "min": "0.042615229579737526",
                    "max": "0.062257280636469035",
                    "histogram": [
                      {
                        "bin_start": 0.042615229579737526,
                        "bin_end": 0.044579434685410674,
                        "count": 1
                      },
                      {
                        "bin_start": 0.044579434685410674,
                        "bin_end": 0.04654363979108383,
                        "count": 0
                      },
                      {
                        "bin_start": 0.04654363979108383,
                        "bin_end": 0.04850784489675698,
                        "count": 0
                      },
                      {
                        "bin_start": 0.04850784489675698,
                        "bin_end": 0.05047205000243013,
                        "count": 0
                      },
                      {
                        "bin_start": 0.05047205000243013,
                        "bin_end": 0.05243625510810328,
                        "count": 0
                      },
                      {
                        "bin_start": 0.05243625510810328,
                        "bin_end": 0.05440046021377643,
                        "count": 0
                      },
                      {
                        "bin_start": 0.05440046021377643,
                        "bin_end": 0.056364665319449586,
                        "count": 0
                      },
                      {
                        "bin_start": 0.056364665319449586,
                        "bin_end": 0.058328870425122734,
                        "count": 0
                      },
                      {
                        "bin_start": 0.058328870425122734,
                        "bin_end": 0.06029307553079588,
                        "count": 0
                      },
                      {
                        "bin_start": 0.06029307553079588,
                        "bin_end": 0.062257280636469035,
                        "count": 1
                      }
                    ]
                  }
                },
                {
                  "name": "started",
                  "dtype": "float64",
                  "stats": {
                    "unique_count": 2,
                    "nan_count": 0,
                    "min": "0.042615229579737526",
                    "max": "0.062257280636469035",
                    "histogram": [
                      {
                        "bin_start": 0.042615229579737526,
                        "bin_end": 0.044579434685410674,
                        "count": 1
                      },
                      {
                        "bin_start": 0.044579434685410674,
                        "bin_end": 0.04654363979108383,
                        "count": 0
                      },
                      {
                        "bin_start": 0.04654363979108383,
                        "bin_end": 0.04850784489675698,
                        "count": 0
                      },
                      {
                        "bin_start": 0.04850784489675698,
                        "bin_end": 0.05047205000243013,
                        "count": 0
                      },
                      {
                        "bin_start": 0.05047205000243013,
                        "bin_end": 0.05243625510810328,
                        "count": 0
                      },
                      {
                        "bin_start": 0.05243625510810328,
                        "bin_end": 0.05440046021377643,
                        "count": 0
                      },
                      {
                        "bin_start": 0.05440046021377643,
                        "bin_end": 0.056364665319449586,
                        "count": 0
                      },
                      {
                        "bin_start": 0.056364665319449586,
                        "bin_end": 0.058328870425122734,
                        "count": 0
                      },
                      {
                        "bin_start": 0.058328870425122734,
                        "bin_end": 0.06029307553079588,
                        "count": 0
                      },
                      {
                        "bin_start": 0.06029307553079588,
                        "bin_end": 0.062257280636469035,
                        "count": 1
                      }
                    ]
                  }
                },
                {
                  "name": "stock",
                  "dtype": "float64",
                  "stats": {
                    "unique_count": 2,
                    "nan_count": 0,
                    "min": "0.08523045915947505",
                    "max": "0.12451456127293807",
                    "histogram": [
                      {
                        "bin_start": 0.08523045915947505,
                        "bin_end": 0.08915886937082135,
                        "count": 1
                      },
                      {
                        "bin_start": 0.08915886937082135,
                        "bin_end": 0.09308727958216766,
                        "count": 0
                      },
                      {
                        "bin_start": 0.09308727958216766,
                        "bin_end": 0.09701568979351397,
                        "count": 0
                      },
                      {
                        "bin_start": 0.09701568979351397,
                        "bin_end": 0.10094410000486026,
                        "count": 0
                      },
                      {
                        "bin_start": 0.10094410000486026,
                        "bin_end": 0.10487251021620655,
                        "count": 0
                      },
                      {
                        "bin_start": 0.10487251021620655,
                        "bin_end": 0.10880092042755286,
                        "count": 0
                      },
                      {
                        "bin_start": 0.10880092042755286,
                        "bin_end": 0.11272933063889917,
                        "count": 0
                      },
                      {
                        "bin_start": 0.11272933063889917,
                        "bin_end": 0.11665774085024547,
                        "count": 0
                      },
                      {
                        "bin_start": 0.11665774085024547,
                        "bin_end": 0.12058615106159176,
                        "count": 0
                      },
                      {
                        "bin_start": 0.12058615106159176,
                        "bin_end": 0.12451456127293807,
                        "count": 1
                      }
                    ]
                  }
                },
                {
                  "name": "store",
                  "dtype": "float64",
                  "stats": {
                    "unique_count": 2,
                    "nan_count": 0,
                    "min": "0.042615229579737526",
                    "max": "0.062257280636469035",
                    "histogram": [
                      {
                        "bin_start": 0.042615229579737526,
                        "bin_end": 0.044579434685410674,
                        "count": 1
                      },
                      {
                        "bin_start": 0.044579434685410674,
                        "bin_end": 0.04654363979108383,
                        "count": 0
                      },
                      {
                        "bin_start": 0.04654363979108383,
                        "bin_end": 0.04850784489675698,
                        "count": 0
                      },
                      {
                        "bin_start": 0.04850784489675698,
                        "bin_end": 0.05047205000243013,
                        "count": 0
                      },
                      {
                        "bin_start": 0.05047205000243013,
                        "bin_end": 0.05243625510810328,
                        "count": 0
                      },
                      {
                        "bin_start": 0.05243625510810328,
                        "bin_end": 0.05440046021377643,
                        "count": 0
                      },
                      {
                        "bin_start": 0.05440046021377643,
                        "bin_end": 0.056364665319449586,
                        "count": 0
                      },
                      {
                        "bin_start": 0.056364665319449586,
                        "bin_end": 0.058328870425122734,
                        "count": 0
                      },
                      {
                        "bin_start": 0.058328870425122734,
                        "bin_end": 0.06029307553079588,
                        "count": 0
                      },
                      {
                        "bin_start": 0.06029307553079588,
                        "bin_end": 0.062257280636469035,
                        "count": 1
                      }
                    ]
                  }
                },
                {
                  "name": "table",
                  "dtype": "float64",
                  "stats": {
                    "unique_count": 2,
                    "nan_count": 0,
                    "min": "0.042615229579737526",
                    "max": "0.062257280636469035",
                    "histogram": [
                      {
                        "bin_start": 0.042615229579737526,
                        "bin_end": 0.044579434685410674,
                        "count": 1
                      },
                      {
                        "bin_start": 0.044579434685410674,
                        "bin_end": 0.04654363979108383,
                        "count": 0
                      },
                      {
                        "bin_start": 0.04654363979108383,
                        "bin_end": 0.04850784489675698,
                        "count": 0
                      },
                      {
                        "bin_start": 0.04850784489675698,
                        "bin_end": 0.05047205000243013,
                        "count": 0
                      },
                      {
                        "bin_start": 0.05047205000243013,
                        "bin_end": 0.05243625510810328,
                        "count": 0
                      },
                      {
                        "bin_start": 0.05243625510810328,
                        "bin_end": 0.05440046021377643,
                        "count": 0
                      },
                      {
                        "bin_start": 0.05440046021377643,
                        "bin_end": 0.056364665319449586,
                        "count": 0
                      },
                      {
                        "bin_start": 0.056364665319449586,
                        "bin_end": 0.058328870425122734,
                        "count": 0
                      },
                      {
                        "bin_start": 0.058328870425122734,
                        "bin_end": 0.06029307553079588,
                        "count": 0
                      },
                      {
                        "bin_start": 0.06029307553079588,
                        "bin_end": 0.062257280636469035,
                        "count": 1
                      }
                    ]
                  }
                },
                {
                  "name": "take",
                  "dtype": "float64",
                  "stats": {
                    "unique_count": 2,
                    "nan_count": 0,
                    "min": "0.042615229579737526",
                    "max": "0.062257280636469035",
                    "histogram": [
                      {
                        "bin_start": 0.042615229579737526,
                        "bin_end": 0.044579434685410674,
                        "count": 1
                      },
                      {
                        "bin_start": 0.044579434685410674,
                        "bin_end": 0.04654363979108383,
                        "count": 0
                      },
                      {
                        "bin_start": 0.04654363979108383,
                        "bin_end": 0.04850784489675698,
                        "count": 0
                      },
                      {
                        "bin_start": 0.04850784489675698,
                        "bin_end": 0.05047205000243013,
                        "count": 0
                      },
                      {
                        "bin_start": 0.05047205000243013,
                        "bin_end": 0.05243625510810328,
                        "count": 0
                      },
                      {
                        "bin_start": 0.05243625510810328,
                        "bin_end": 0.05440046021377643,
                        "count": 0
                      },
                      {
                        "bin_start": 0.05440046021377643,
                        "bin_end": 0.056364665319449586,
                        "count": 0
                      },
                      {
                        "bin_start": 0.056364665319449586,
                        "bin_end": 0.058328870425122734,
                        "count": 0
                      },
                      {
                        "bin_start": 0.058328870425122734,
                        "bin_end": 0.06029307553079588,
                        "count": 0
                      },
                      {
                        "bin_start": 0.06029307553079588,
                        "bin_end": 0.062257280636469035,
                        "count": 1
                      }
                    ]
                  }
                },
                {
                  "name": "team",
                  "dtype": "float64",
                  "stats": {
                    "unique_count": 2,
                    "nan_count": 0,
                    "min": "0.042615229579737526",
                    "max": "0.062257280636469035",
                    "histogram": [
                      {
                        "bin_start": 0.042615229579737526,
                        "bin_end": 0.044579434685410674,
                        "count": 1
                      },
                      {
                        "bin_start": 0.044579434685410674,
                        "bin_end": 0.04654363979108383,
                        "count": 0
                      },
                      {
                        "bin_start": 0.04654363979108383,
                        "bin_end": 0.04850784489675698,
                        "count": 0
                      },
                      {
                        "bin_start": 0.04850784489675698,
                        "bin_end": 0.05047205000243013,
                        "count": 0
                      },
                      {
                        "bin_start": 0.05047205000243013,
                        "bin_end": 0.05243625510810328,
                        "count": 0
                      },
                      {
                        "bin_start": 0.05243625510810328,
                        "bin_end": 0.05440046021377643,
                        "count": 0
                      },
                      {
                        "bin_start": 0.05440046021377643,
                        "bin_end": 0.056364665319449586,
                        "count": 0
                      },
                      {
                        "bin_start": 0.056364665319449586,
                        "bin_end": 0.058328870425122734,
                        "count": 0
                      },
                      {
                        "bin_start": 0.058328870425122734,
                        "bin_end": 0.06029307553079588,
                        "count": 0
                      },
                      {
                        "bin_start": 0.06029307553079588,
                        "bin_end": 0.062257280636469035,
                        "count": 1
                      }
                    ]
                  }
                },
                {
                  "name": "that",
                  "dtype": "float64",
                  "stats": {
                    "unique_count": 2,
                    "nan_count": 0,
                    "min": "0.062257280636469035",
                    "max": "0.08523045915947505",
                    "histogram": [
                      {
                        "bin_start": 0.062257280636469035,
                        "bin_end": 0.06455459848876964,
                        "count": 1
                      },
                      {
                        "bin_start": 0.06455459848876964,
                        "bin_end": 0.06685191634107024,
                        "count": 0
                      },
                      {
                        "bin_start": 0.06685191634107024,
                        "bin_end": 0.06914923419337084,
                        "count": 0
                      },
                      {
                        "bin_start": 0.06914923419337084,
                        "bin_end": 0.07144655204567144,
                        "count": 0
                      },
                      {
                        "bin_start": 0.07144655204567144,
                        "bin_end": 0.07374386989797205,
                        "count": 0
                      },
                      {
                        "bin_start": 0.07374386989797205,
                        "bin_end": 0.07604118775027265,
                        "count": 0
                      },
                      {
                        "bin_start": 0.07604118775027265,
                        "bin_end": 0.07833850560257324,
                        "count": 0
                      },
                      {
                        "bin_start": 0.07833850560257324,
                        "bin_end": 0.08063582345487386,
                        "count": 0
                      },
                      {
                        "bin_start": 0.08063582345487386,
                        "bin_end": 0.08293314130717445,
                        "count": 0
                      },
                      {
                        "bin_start": 0.08293314130717445,
                        "bin_end": 0.08523045915947505,
                        "count": 1
                      }
                    ]
                  }
                },
                {
                  "name": "the",
                  "dtype": "float64",
                  "stats": {
                    "unique_count": 2,
                    "nan_count": 0,
                    "min": "0.4261522957973753",
                    "max": "0.5603155257282213",
                    "histogram": [
                      {
                        "bin_start": 0.4261522957973753,
                        "bin_end": 0.4395686187904599,
                        "count": 1
                      },
                      {
                        "bin_start": 0.4395686187904599,
                        "bin_end": 0.4529849417835445,
                        "count": 0
                      },
                      {
                        "bin_start": 0.4529849417835445,
                        "bin_end": 0.4664012647766291,
                        "count": 0
                      },
                      {
                        "bin_start": 0.4664012647766291,
                        "bin_end": 0.47981758776971367,
                        "count": 0
                      },
                      {
                        "bin_start": 0.47981758776971367,
                        "bin_end": 0.4932339107627983,
                        "count": 0
                      },
                      {
                        "bin_start": 0.4932339107627983,
                        "bin_end": 0.5066502337558829,
                        "count": 0
                      },
                      {
                        "bin_start": 0.5066502337558829,
                        "bin_end": 0.5200665567489675,
                        "count": 0
                      },
                      {
                        "bin_start": 0.5200665567489675,
                        "bin_end": 0.5334828797420521,
                        "count": 0
                      },
                      {
                        "bin_start": 0.5334828797420521,
                        "bin_end": 0.5468992027351367,
                        "count": 0
                      },
                      {
                        "bin_start": 0.5468992027351367,
                        "bin_end": 0.5603155257282213,
                        "count": 1
                      }
                    ]
                  }
                },
                {
                  "name": "there",
                  "dtype": "float64",
                  "stats": {
                    "unique_count": 2,
                    "nan_count": 0,
                    "min": "0.042615229579737526",
                    "max": "0.062257280636469035",
                    "histogram": [
                      {
                        "bin_start": 0.042615229579737526,
                        "bin_end": 0.044579434685410674,
                        "count": 1
                      },
                      {
                        "bin_start": 0.044579434685410674,
                        "bin_end": 0.04654363979108383,
                        "count": 0
                      },
                      {
                        "bin_start": 0.04654363979108383,
                        "bin_end": 0.04850784489675698,
                        "count": 0
                      },
                      {
                        "bin_start": 0.04850784489675698,
                        "bin_end": 0.05047205000243013,
                        "count": 0
                      },
                      {
                        "bin_start": 0.05047205000243013,
                        "bin_end": 0.05243625510810328,
                        "count": 0
                      },
                      {
                        "bin_start": 0.05243625510810328,
                        "bin_end": 0.05440046021377643,
                        "count": 0
                      },
                      {
                        "bin_start": 0.05440046021377643,
                        "bin_end": 0.056364665319449586,
                        "count": 0
                      },
                      {
                        "bin_start": 0.056364665319449586,
                        "bin_end": 0.058328870425122734,
                        "count": 0
                      },
                      {
                        "bin_start": 0.058328870425122734,
                        "bin_end": 0.06029307553079588,
                        "count": 0
                      },
                      {
                        "bin_start": 0.06029307553079588,
                        "bin_end": 0.062257280636469035,
                        "count": 1
                      }
                    ]
                  }
                },
                {
                  "name": "think",
                  "dtype": "float64",
                  "stats": {
                    "unique_count": 2,
                    "nan_count": 0,
                    "min": "0.0",
                    "max": "0.05989421824834005",
                    "histogram": [
                      {
                        "bin_start": 0,
                        "bin_end": 0.005989421824834005,
                        "count": 1
                      },
                      {
                        "bin_start": 0.005989421824834005,
                        "bin_end": 0.01197884364966801,
                        "count": 0
                      },
                      {
                        "bin_start": 0.01197884364966801,
                        "bin_end": 0.017968265474502015,
                        "count": 0
                      },
                      {
                        "bin_start": 0.017968265474502015,
                        "bin_end": 0.02395768729933602,
                        "count": 0
                      },
                      {
                        "bin_start": 0.02395768729933602,
                        "bin_end": 0.029947109124170024,
                        "count": 0
                      },
                      {
                        "bin_start": 0.029947109124170024,
                        "bin_end": 0.03593653094900403,
                        "count": 0
                      },
                      {
                        "bin_start": 0.03593653094900403,
                        "bin_end": 0.04192595277383804,
                        "count": 0
                      },
                      {
                        "bin_start": 0.04192595277383804,
                        "bin_end": 0.04791537459867204,
                        "count": 0
                      },
                      {
                        "bin_start": 0.04791537459867204,
                        "bin_end": 0.05390479642350604,
                        "count": 0
                      },
                      {
                        "bin_start": 0.05390479642350604,
                        "bin_end": 0.05989421824834005,
                        "count": 1
                      }
                    ]
                  }
                },
                {
                  "name": "to",
                  "dtype": "float64",
                  "stats": {
                    "unique_count": 2,
                    "nan_count": 0,
                    "min": "0.062257280636469035",
                    "max": "0.1278456887392126",
                    "histogram": [
                      {
                        "bin_start": 0.062257280636469035,
                        "bin_end": 0.06881612144674339,
                        "count": 1
                      },
                      {
                        "bin_start": 0.06881612144674339,
                        "bin_end": 0.07537496225701774,
                        "count": 0
                      },
                      {
                        "bin_start": 0.07537496225701774,
                        "bin_end": 0.0819338030672921,
                        "count": 0
                      },
                      {
                        "bin_start": 0.0819338030672921,
                        "bin_end": 0.08849264387756646,
                        "count": 0
                      },
                      {
                        "bin_start": 0.08849264387756646,
                        "bin_end": 0.0950514846878408,
                        "count": 0
                      },
                      {
                        "bin_start": 0.0950514846878408,
                        "bin_end": 0.10161032549811516,
                        "count": 0
                      },
                      {
                        "bin_start": 0.10161032549811516,
                        "bin_end": 0.10816916630838952,
                        "count": 0
                      },
                      {
                        "bin_start": 0.10816916630838952,
                        "bin_end": 0.11472800711866388,
                        "count": 0
                      },
                      {
                        "bin_start": 0.11472800711866388,
                        "bin_end": 0.12128684792893824,
                        "count": 0
                      },
                      {
                        "bin_start": 0.12128684792893824,
                        "bin_end": 0.1278456887392126,
                        "count": 1
                      }
                    ]
                  }
                },
                {
                  "name": "told",
                  "dtype": "float64",
                  "stats": {
                    "unique_count": 2,
                    "nan_count": 0,
                    "min": "0.0",
                    "max": "0.05989421824834005",
                    "histogram": [
                      {
                        "bin_start": 0,
                        "bin_end": 0.005989421824834005,
                        "count": 1
                      },
                      {
                        "bin_start": 0.005989421824834005,
                        "bin_end": 0.01197884364966801,
                        "count": 0
                      },
                      {
                        "bin_start": 0.01197884364966801,
                        "bin_end": 0.017968265474502015,
                        "count": 0
                      },
                      {
                        "bin_start": 0.017968265474502015,
                        "bin_end": 0.02395768729933602,
                        "count": 0
                      },
                      {
                        "bin_start": 0.02395768729933602,
                        "bin_end": 0.029947109124170024,
                        "count": 0
                      },
                      {
                        "bin_start": 0.029947109124170024,
                        "bin_end": 0.03593653094900403,
                        "count": 0
                      },
                      {
                        "bin_start": 0.03593653094900403,
                        "bin_end": 0.04192595277383804,
                        "count": 0
                      },
                      {
                        "bin_start": 0.04192595277383804,
                        "bin_end": 0.04791537459867204,
                        "count": 0
                      },
                      {
                        "bin_start": 0.04791537459867204,
                        "bin_end": 0.05390479642350604,
                        "count": 0
                      },
                      {
                        "bin_start": 0.05390479642350604,
                        "bin_end": 0.05989421824834005,
                        "count": 1
                      }
                    ]
                  }
                },
                {
                  "name": "uncomfortable",
                  "dtype": "float64",
                  "stats": {
                    "unique_count": 2,
                    "nan_count": 0,
                    "min": "0.0",
                    "max": "0.05989421824834005",
                    "histogram": [
                      {
                        "bin_start": 0,
                        "bin_end": 0.005989421824834005,
                        "count": 1
                      },
                      {
                        "bin_start": 0.005989421824834005,
                        "bin_end": 0.01197884364966801,
                        "count": 0
                      },
                      {
                        "bin_start": 0.01197884364966801,
                        "bin_end": 0.017968265474502015,
                        "count": 0
                      },
                      {
                        "bin_start": 0.017968265474502015,
                        "bin_end": 0.02395768729933602,
                        "count": 0
                      },
                      {
                        "bin_start": 0.02395768729933602,
                        "bin_end": 0.029947109124170024,
                        "count": 0
                      },
                      {
                        "bin_start": 0.029947109124170024,
                        "bin_end": 0.03593653094900403,
                        "count": 0
                      },
                      {
                        "bin_start": 0.03593653094900403,
                        "bin_end": 0.04192595277383804,
                        "count": 0
                      },
                      {
                        "bin_start": 0.04192595277383804,
                        "bin_end": 0.04791537459867204,
                        "count": 0
                      },
                      {
                        "bin_start": 0.04791537459867204,
                        "bin_end": 0.05390479642350604,
                        "count": 0
                      },
                      {
                        "bin_start": 0.05390479642350604,
                        "bin_end": 0.05989421824834005,
                        "count": 1
                      }
                    ]
                  }
                },
                {
                  "name": "understand",
                  "dtype": "float64",
                  "stats": {
                    "unique_count": 2,
                    "nan_count": 0,
                    "min": "0.0",
                    "max": "0.05989421824834005",
                    "histogram": [
                      {
                        "bin_start": 0,
                        "bin_end": 0.005989421824834005,
                        "count": 1
                      },
                      {
                        "bin_start": 0.005989421824834005,
                        "bin_end": 0.01197884364966801,
                        "count": 0
                      },
                      {
                        "bin_start": 0.01197884364966801,
                        "bin_end": 0.017968265474502015,
                        "count": 0
                      },
                      {
                        "bin_start": 0.017968265474502015,
                        "bin_end": 0.02395768729933602,
                        "count": 0
                      },
                      {
                        "bin_start": 0.02395768729933602,
                        "bin_end": 0.029947109124170024,
                        "count": 0
                      },
                      {
                        "bin_start": 0.029947109124170024,
                        "bin_end": 0.03593653094900403,
                        "count": 0
                      },
                      {
                        "bin_start": 0.03593653094900403,
                        "bin_end": 0.04192595277383804,
                        "count": 0
                      },
                      {
                        "bin_start": 0.04192595277383804,
                        "bin_end": 0.04791537459867204,
                        "count": 0
                      },
                      {
                        "bin_start": 0.04791537459867204,
                        "bin_end": 0.05390479642350604,
                        "count": 0
                      },
                      {
                        "bin_start": 0.05390479642350604,
                        "bin_end": 0.05989421824834005,
                        "count": 1
                      }
                    ]
                  }
                },
                {
                  "name": "unisex",
                  "dtype": "float64",
                  "stats": {
                    "unique_count": 2,
                    "nan_count": 0,
                    "min": "0.042615229579737526",
                    "max": "0.062257280636469035",
                    "histogram": [
                      {
                        "bin_start": 0.042615229579737526,
                        "bin_end": 0.044579434685410674,
                        "count": 1
                      },
                      {
                        "bin_start": 0.044579434685410674,
                        "bin_end": 0.04654363979108383,
                        "count": 0
                      },
                      {
                        "bin_start": 0.04654363979108383,
                        "bin_end": 0.04850784489675698,
                        "count": 0
                      },
                      {
                        "bin_start": 0.04850784489675698,
                        "bin_end": 0.05047205000243013,
                        "count": 0
                      },
                      {
                        "bin_start": 0.05047205000243013,
                        "bin_end": 0.05243625510810328,
                        "count": 0
                      },
                      {
                        "bin_start": 0.05243625510810328,
                        "bin_end": 0.05440046021377643,
                        "count": 0
                      },
                      {
                        "bin_start": 0.05440046021377643,
                        "bin_end": 0.056364665319449586,
                        "count": 0
                      },
                      {
                        "bin_start": 0.056364665319449586,
                        "bin_end": 0.058328870425122734,
                        "count": 0
                      },
                      {
                        "bin_start": 0.058328870425122734,
                        "bin_end": 0.06029307553079588,
                        "count": 0
                      },
                      {
                        "bin_start": 0.06029307553079588,
                        "bin_end": 0.062257280636469035,
                        "count": 1
                      }
                    ]
                  }
                },
                {
                  "name": "up",
                  "dtype": "float64",
                  "stats": {
                    "unique_count": 2,
                    "nan_count": 0,
                    "min": "0.042615229579737526",
                    "max": "0.062257280636469035",
                    "histogram": [
                      {
                        "bin_start": 0.042615229579737526,
                        "bin_end": 0.044579434685410674,
                        "count": 1
                      },
                      {
                        "bin_start": 0.044579434685410674,
                        "bin_end": 0.04654363979108383,
                        "count": 0
                      },
                      {
                        "bin_start": 0.04654363979108383,
                        "bin_end": 0.04850784489675698,
                        "count": 0
                      },
                      {
                        "bin_start": 0.04850784489675698,
                        "bin_end": 0.05047205000243013,
                        "count": 0
                      },
                      {
                        "bin_start": 0.05047205000243013,
                        "bin_end": 0.05243625510810328,
                        "count": 0
                      },
                      {
                        "bin_start": 0.05243625510810328,
                        "bin_end": 0.05440046021377643,
                        "count": 0
                      },
                      {
                        "bin_start": 0.05440046021377643,
                        "bin_end": 0.056364665319449586,
                        "count": 0
                      },
                      {
                        "bin_start": 0.056364665319449586,
                        "bin_end": 0.058328870425122734,
                        "count": 0
                      },
                      {
                        "bin_start": 0.058328870425122734,
                        "bin_end": 0.06029307553079588,
                        "count": 0
                      },
                      {
                        "bin_start": 0.06029307553079588,
                        "bin_end": 0.062257280636469035,
                        "count": 1
                      }
                    ]
                  }
                },
                {
                  "name": "upset",
                  "dtype": "float64",
                  "stats": {
                    "unique_count": 2,
                    "nan_count": 0,
                    "min": "0.0",
                    "max": "0.1197884364966801",
                    "histogram": [
                      {
                        "bin_start": 0,
                        "bin_end": 0.01197884364966801,
                        "count": 1
                      },
                      {
                        "bin_start": 0.01197884364966801,
                        "bin_end": 0.02395768729933602,
                        "count": 0
                      },
                      {
                        "bin_start": 0.02395768729933602,
                        "bin_end": 0.03593653094900403,
                        "count": 0
                      },
                      {
                        "bin_start": 0.03593653094900403,
                        "bin_end": 0.04791537459867204,
                        "count": 0
                      },
                      {
                        "bin_start": 0.04791537459867204,
                        "bin_end": 0.05989421824834005,
                        "count": 0
                      },
                      {
                        "bin_start": 0.05989421824834005,
                        "bin_end": 0.07187306189800806,
                        "count": 0
                      },
                      {
                        "bin_start": 0.07187306189800806,
                        "bin_end": 0.08385190554767608,
                        "count": 0
                      },
                      {
                        "bin_start": 0.08385190554767608,
                        "bin_end": 0.09583074919734408,
                        "count": 0
                      },
                      {
                        "bin_start": 0.09583074919734408,
                        "bin_end": 0.10780959284701208,
                        "count": 0
                      },
                      {
                        "bin_start": 0.10780959284701208,
                        "bin_end": 0.1197884364966801,
                        "count": 1
                      }
                    ]
                  }
                },
                {
                  "name": "was",
                  "dtype": "float64",
                  "stats": {
                    "unique_count": 2,
                    "nan_count": 0,
                    "min": "0.3112864031823452",
                    "max": "0.3409218366379002",
                    "histogram": [
                      {
                        "bin_start": 0.3112864031823452,
                        "bin_end": 0.31424994652790067,
                        "count": 1
                      },
                      {
                        "bin_start": 0.31424994652790067,
                        "bin_end": 0.3172134898734562,
                        "count": 0
                      },
                      {
                        "bin_start": 0.3172134898734562,
                        "bin_end": 0.3201770332190117,
                        "count": 0
                      },
                      {
                        "bin_start": 0.3201770332190117,
                        "bin_end": 0.3231405765645672,
                        "count": 0
                      },
                      {
                        "bin_start": 0.3231405765645672,
                        "bin_end": 0.32610411991012267,
                        "count": 0
                      },
                      {
                        "bin_start": 0.32610411991012267,
                        "bin_end": 0.3290676632556782,
                        "count": 0
                      },
                      {
                        "bin_start": 0.3290676632556782,
                        "bin_end": 0.3320312066012337,
                        "count": 0
                      },
                      {
                        "bin_start": 0.3320312066012337,
                        "bin_end": 0.3349947499467892,
                        "count": 0
                      },
                      {
                        "bin_start": 0.3349947499467892,
                        "bin_end": 0.3379582932923447,
                        "count": 0
                      },
                      {
                        "bin_start": 0.3379582932923447,
                        "bin_end": 0.3409218366379002,
                        "count": 1
                      }
                    ]
                  }
                },
                {
                  "name": "we",
                  "dtype": "float64",
                  "stats": {
                    "unique_count": 2,
                    "nan_count": 0,
                    "min": "0.08523045915947505",
                    "max": "0.12451456127293807",
                    "histogram": [
                      {
                        "bin_start": 0.08523045915947505,
                        "bin_end": 0.08915886937082135,
                        "count": 1
                      },
                      {
                        "bin_start": 0.08915886937082135,
                        "bin_end": 0.09308727958216766,
                        "count": 0
                      },
                      {
                        "bin_start": 0.09308727958216766,
                        "bin_end": 0.09701568979351397,
                        "count": 0
                      },
                      {
                        "bin_start": 0.09701568979351397,
                        "bin_end": 0.10094410000486026,
                        "count": 0
                      },
                      {
                        "bin_start": 0.10094410000486026,
                        "bin_end": 0.10487251021620655,
                        "count": 0
                      },
                      {
                        "bin_start": 0.10487251021620655,
                        "bin_end": 0.10880092042755286,
                        "count": 0
                      },
                      {
                        "bin_start": 0.10880092042755286,
                        "bin_end": 0.11272933063889917,
                        "count": 0
                      },
                      {
                        "bin_start": 0.11272933063889917,
                        "bin_end": 0.11665774085024547,
                        "count": 0
                      },
                      {
                        "bin_start": 0.11665774085024547,
                        "bin_end": 0.12058615106159176,
                        "count": 0
                      },
                      {
                        "bin_start": 0.12058615106159176,
                        "bin_end": 0.12451456127293807,
                        "count": 1
                      }
                    ]
                  }
                },
                {
                  "name": "well",
                  "dtype": "float64",
                  "stats": {
                    "unique_count": 2,
                    "nan_count": 0,
                    "min": "0.042615229579737526",
                    "max": "0.062257280636469035",
                    "histogram": [
                      {
                        "bin_start": 0.042615229579737526,
                        "bin_end": 0.044579434685410674,
                        "count": 1
                      },
                      {
                        "bin_start": 0.044579434685410674,
                        "bin_end": 0.04654363979108383,
                        "count": 0
                      },
                      {
                        "bin_start": 0.04654363979108383,
                        "bin_end": 0.04850784489675698,
                        "count": 0
                      },
                      {
                        "bin_start": 0.04850784489675698,
                        "bin_end": 0.05047205000243013,
                        "count": 0
                      },
                      {
                        "bin_start": 0.05047205000243013,
                        "bin_end": 0.05243625510810328,
                        "count": 0
                      },
                      {
                        "bin_start": 0.05243625510810328,
                        "bin_end": 0.05440046021377643,
                        "count": 0
                      },
                      {
                        "bin_start": 0.05440046021377643,
                        "bin_end": 0.056364665319449586,
                        "count": 0
                      },
                      {
                        "bin_start": 0.056364665319449586,
                        "bin_end": 0.058328870425122734,
                        "count": 0
                      },
                      {
                        "bin_start": 0.058328870425122734,
                        "bin_end": 0.06029307553079588,
                        "count": 0
                      },
                      {
                        "bin_start": 0.06029307553079588,
                        "bin_end": 0.062257280636469035,
                        "count": 1
                      }
                    ]
                  }
                },
                {
                  "name": "went",
                  "dtype": "float64",
                  "stats": {
                    "unique_count": 2,
                    "nan_count": 0,
                    "min": "0.0",
                    "max": "0.05989421824834005",
                    "histogram": [
                      {
                        "bin_start": 0,
                        "bin_end": 0.005989421824834005,
                        "count": 1
                      },
                      {
                        "bin_start": 0.005989421824834005,
                        "bin_end": 0.01197884364966801,
                        "count": 0
                      },
                      {
                        "bin_start": 0.01197884364966801,
                        "bin_end": 0.017968265474502015,
                        "count": 0
                      },
                      {
                        "bin_start": 0.017968265474502015,
                        "bin_end": 0.02395768729933602,
                        "count": 0
                      },
                      {
                        "bin_start": 0.02395768729933602,
                        "bin_end": 0.029947109124170024,
                        "count": 0
                      },
                      {
                        "bin_start": 0.029947109124170024,
                        "bin_end": 0.03593653094900403,
                        "count": 0
                      },
                      {
                        "bin_start": 0.03593653094900403,
                        "bin_end": 0.04192595277383804,
                        "count": 0
                      },
                      {
                        "bin_start": 0.04192595277383804,
                        "bin_end": 0.04791537459867204,
                        "count": 0
                      },
                      {
                        "bin_start": 0.04791537459867204,
                        "bin_end": 0.05390479642350604,
                        "count": 0
                      },
                      {
                        "bin_start": 0.05390479642350604,
                        "bin_end": 0.05989421824834005,
                        "count": 1
                      }
                    ]
                  }
                },
                {
                  "name": "when",
                  "dtype": "float64",
                  "stats": {
                    "unique_count": 2,
                    "nan_count": 0,
                    "min": "0.1704609183189501",
                    "max": "0.1867718419094071",
                    "histogram": [
                      {
                        "bin_start": 0.1704609183189501,
                        "bin_end": 0.17209201067799582,
                        "count": 1
                      },
                      {
                        "bin_start": 0.17209201067799582,
                        "bin_end": 0.1737231030370415,
                        "count": 0
                      },
                      {
                        "bin_start": 0.1737231030370415,
                        "bin_end": 0.1753541953960872,
                        "count": 0
                      },
                      {
                        "bin_start": 0.1753541953960872,
                        "bin_end": 0.1769852877551329,
                        "count": 0
                      },
                      {
                        "bin_start": 0.1769852877551329,
                        "bin_end": 0.1786163801141786,
                        "count": 0
                      },
                      {
                        "bin_start": 0.1786163801141786,
                        "bin_end": 0.1802474724732243,
                        "count": 0
                      },
                      {
                        "bin_start": 0.1802474724732243,
                        "bin_end": 0.18187856483227,
                        "count": 0
                      },
                      {
                        "bin_start": 0.18187856483227,
                        "bin_end": 0.1835096571913157,
                        "count": 0
                      },
                      {
                        "bin_start": 0.1835096571913157,
                        "bin_end": 0.1851407495503614,
                        "count": 0
                      },
                      {
                        "bin_start": 0.1851407495503614,
                        "bin_end": 0.1867718419094071,
                        "count": 1
                      }
                    ]
                  }
                },
                {
                  "name": "whilst",
                  "dtype": "float64",
                  "stats": {
                    "unique_count": 2,
                    "nan_count": 0,
                    "min": "0.042615229579737526",
                    "max": "0.062257280636469035",
                    "histogram": [
                      {
                        "bin_start": 0.042615229579737526,
                        "bin_end": 0.044579434685410674,
                        "count": 1
                      },
                      {
                        "bin_start": 0.044579434685410674,
                        "bin_end": 0.04654363979108383,
                        "count": 0
                      },
                      {
                        "bin_start": 0.04654363979108383,
                        "bin_end": 0.04850784489675698,
                        "count": 0
                      },
                      {
                        "bin_start": 0.04850784489675698,
                        "bin_end": 0.05047205000243013,
                        "count": 0
                      },
                      {
                        "bin_start": 0.05047205000243013,
                        "bin_end": 0.05243625510810328,
                        "count": 0
                      },
                      {
                        "bin_start": 0.05243625510810328,
                        "bin_end": 0.05440046021377643,
                        "count": 0
                      },
                      {
                        "bin_start": 0.05440046021377643,
                        "bin_end": 0.056364665319449586,
                        "count": 0
                      },
                      {
                        "bin_start": 0.056364665319449586,
                        "bin_end": 0.058328870425122734,
                        "count": 0
                      },
                      {
                        "bin_start": 0.058328870425122734,
                        "bin_end": 0.06029307553079588,
                        "count": 0
                      },
                      {
                        "bin_start": 0.06029307553079588,
                        "bin_end": 0.062257280636469035,
                        "count": 1
                      }
                    ]
                  }
                },
                {
                  "name": "why",
                  "dtype": "float64",
                  "stats": {
                    "unique_count": 2,
                    "nan_count": 0,
                    "min": "0.042615229579737526",
                    "max": "0.062257280636469035",
                    "histogram": [
                      {
                        "bin_start": 0.042615229579737526,
                        "bin_end": 0.044579434685410674,
                        "count": 1
                      },
                      {
                        "bin_start": 0.044579434685410674,
                        "bin_end": 0.04654363979108383,
                        "count": 0
                      },
                      {
                        "bin_start": 0.04654363979108383,
                        "bin_end": 0.04850784489675698,
                        "count": 0
                      },
                      {
                        "bin_start": 0.04850784489675698,
                        "bin_end": 0.05047205000243013,
                        "count": 0
                      },
                      {
                        "bin_start": 0.05047205000243013,
                        "bin_end": 0.05243625510810328,
                        "count": 0
                      },
                      {
                        "bin_start": 0.05243625510810328,
                        "bin_end": 0.05440046021377643,
                        "count": 0
                      },
                      {
                        "bin_start": 0.05440046021377643,
                        "bin_end": 0.056364665319449586,
                        "count": 0
                      },
                      {
                        "bin_start": 0.056364665319449586,
                        "bin_end": 0.058328870425122734,
                        "count": 0
                      },
                      {
                        "bin_start": 0.058328870425122734,
                        "bin_end": 0.06029307553079588,
                        "count": 0
                      },
                      {
                        "bin_start": 0.06029307553079588,
                        "bin_end": 0.062257280636469035,
                        "count": 1
                      }
                    ]
                  }
                },
                {
                  "name": "winter",
                  "dtype": "float64",
                  "stats": {
                    "unique_count": 2,
                    "nan_count": 0,
                    "min": "0.08523045915947505",
                    "max": "0.12451456127293807",
                    "histogram": [
                      {
                        "bin_start": 0.08523045915947505,
                        "bin_end": 0.08915886937082135,
                        "count": 1
                      },
                      {
                        "bin_start": 0.08915886937082135,
                        "bin_end": 0.09308727958216766,
                        "count": 0
                      },
                      {
                        "bin_start": 0.09308727958216766,
                        "bin_end": 0.09701568979351397,
                        "count": 0
                      },
                      {
                        "bin_start": 0.09701568979351397,
                        "bin_end": 0.10094410000486026,
                        "count": 0
                      },
                      {
                        "bin_start": 0.10094410000486026,
                        "bin_end": 0.10487251021620655,
                        "count": 0
                      },
                      {
                        "bin_start": 0.10487251021620655,
                        "bin_end": 0.10880092042755286,
                        "count": 0
                      },
                      {
                        "bin_start": 0.10880092042755286,
                        "bin_end": 0.11272933063889917,
                        "count": 0
                      },
                      {
                        "bin_start": 0.11272933063889917,
                        "bin_end": 0.11665774085024547,
                        "count": 0
                      },
                      {
                        "bin_start": 0.11665774085024547,
                        "bin_end": 0.12058615106159176,
                        "count": 0
                      },
                      {
                        "bin_start": 0.12058615106159176,
                        "bin_end": 0.12451456127293807,
                        "count": 1
                      }
                    ]
                  }
                },
                {
                  "name": "with",
                  "dtype": "float64",
                  "stats": {
                    "unique_count": 2,
                    "nan_count": 0,
                    "min": "0.0",
                    "max": "0.05989421824834005",
                    "histogram": [
                      {
                        "bin_start": 0,
                        "bin_end": 0.005989421824834005,
                        "count": 1
                      },
                      {
                        "bin_start": 0.005989421824834005,
                        "bin_end": 0.01197884364966801,
                        "count": 0
                      },
                      {
                        "bin_start": 0.01197884364966801,
                        "bin_end": 0.017968265474502015,
                        "count": 0
                      },
                      {
                        "bin_start": 0.017968265474502015,
                        "bin_end": 0.02395768729933602,
                        "count": 0
                      },
                      {
                        "bin_start": 0.02395768729933602,
                        "bin_end": 0.029947109124170024,
                        "count": 0
                      },
                      {
                        "bin_start": 0.029947109124170024,
                        "bin_end": 0.03593653094900403,
                        "count": 0
                      },
                      {
                        "bin_start": 0.03593653094900403,
                        "bin_end": 0.04192595277383804,
                        "count": 0
                      },
                      {
                        "bin_start": 0.04192595277383804,
                        "bin_end": 0.04791537459867204,
                        "count": 0
                      },
                      {
                        "bin_start": 0.04791537459867204,
                        "bin_end": 0.05390479642350604,
                        "count": 0
                      },
                      {
                        "bin_start": 0.05390479642350604,
                        "bin_end": 0.05989421824834005,
                        "count": 1
                      }
                    ]
                  }
                },
                {
                  "name": "womens",
                  "dtype": "float64",
                  "stats": {
                    "unique_count": 2,
                    "nan_count": 0,
                    "min": "0.042615229579737526",
                    "max": "0.062257280636469035",
                    "histogram": [
                      {
                        "bin_start": 0.042615229579737526,
                        "bin_end": 0.044579434685410674,
                        "count": 1
                      },
                      {
                        "bin_start": 0.044579434685410674,
                        "bin_end": 0.04654363979108383,
                        "count": 0
                      },
                      {
                        "bin_start": 0.04654363979108383,
                        "bin_end": 0.04850784489675698,
                        "count": 0
                      },
                      {
                        "bin_start": 0.04850784489675698,
                        "bin_end": 0.05047205000243013,
                        "count": 0
                      },
                      {
                        "bin_start": 0.05047205000243013,
                        "bin_end": 0.05243625510810328,
                        "count": 0
                      },
                      {
                        "bin_start": 0.05243625510810328,
                        "bin_end": 0.05440046021377643,
                        "count": 0
                      },
                      {
                        "bin_start": 0.05440046021377643,
                        "bin_end": 0.056364665319449586,
                        "count": 0
                      },
                      {
                        "bin_start": 0.056364665319449586,
                        "bin_end": 0.058328870425122734,
                        "count": 0
                      },
                      {
                        "bin_start": 0.058328870425122734,
                        "bin_end": 0.06029307553079588,
                        "count": 0
                      },
                      {
                        "bin_start": 0.06029307553079588,
                        "bin_end": 0.062257280636469035,
                        "count": 1
                      }
                    ]
                  }
                },
                {
                  "name": "worked",
                  "dtype": "float64",
                  "stats": {
                    "unique_count": 2,
                    "nan_count": 0,
                    "min": "0.042615229579737526",
                    "max": "0.062257280636469035",
                    "histogram": [
                      {
                        "bin_start": 0.042615229579737526,
                        "bin_end": 0.044579434685410674,
                        "count": 1
                      },
                      {
                        "bin_start": 0.044579434685410674,
                        "bin_end": 0.04654363979108383,
                        "count": 0
                      },
                      {
                        "bin_start": 0.04654363979108383,
                        "bin_end": 0.04850784489675698,
                        "count": 0
                      },
                      {
                        "bin_start": 0.04850784489675698,
                        "bin_end": 0.05047205000243013,
                        "count": 0
                      },
                      {
                        "bin_start": 0.05047205000243013,
                        "bin_end": 0.05243625510810328,
                        "count": 0
                      },
                      {
                        "bin_start": 0.05243625510810328,
                        "bin_end": 0.05440046021377643,
                        "count": 0
                      },
                      {
                        "bin_start": 0.05440046021377643,
                        "bin_end": 0.056364665319449586,
                        "count": 0
                      },
                      {
                        "bin_start": 0.056364665319449586,
                        "bin_end": 0.058328870425122734,
                        "count": 0
                      },
                      {
                        "bin_start": 0.058328870425122734,
                        "bin_end": 0.06029307553079588,
                        "count": 0
                      },
                      {
                        "bin_start": 0.06029307553079588,
                        "bin_end": 0.062257280636469035,
                        "count": 1
                      }
                    ]
                  }
                },
                {
                  "name": "working",
                  "dtype": "float64",
                  "stats": {
                    "unique_count": 2,
                    "nan_count": 0,
                    "min": "0.042615229579737526",
                    "max": "0.062257280636469035",
                    "histogram": [
                      {
                        "bin_start": 0.042615229579737526,
                        "bin_end": 0.044579434685410674,
                        "count": 1
                      },
                      {
                        "bin_start": 0.044579434685410674,
                        "bin_end": 0.04654363979108383,
                        "count": 0
                      },
                      {
                        "bin_start": 0.04654363979108383,
                        "bin_end": 0.04850784489675698,
                        "count": 0
                      },
                      {
                        "bin_start": 0.04850784489675698,
                        "bin_end": 0.05047205000243013,
                        "count": 0
                      },
                      {
                        "bin_start": 0.05047205000243013,
                        "bin_end": 0.05243625510810328,
                        "count": 0
                      },
                      {
                        "bin_start": 0.05243625510810328,
                        "bin_end": 0.05440046021377643,
                        "count": 0
                      },
                      {
                        "bin_start": 0.05440046021377643,
                        "bin_end": 0.056364665319449586,
                        "count": 0
                      },
                      {
                        "bin_start": 0.056364665319449586,
                        "bin_end": 0.058328870425122734,
                        "count": 0
                      },
                      {
                        "bin_start": 0.058328870425122734,
                        "bin_end": 0.06029307553079588,
                        "count": 0
                      },
                      {
                        "bin_start": 0.06029307553079588,
                        "bin_end": 0.062257280636469035,
                        "count": 1
                      }
                    ]
                  }
                },
                {
                  "name": "year",
                  "dtype": "float64",
                  "stats": {
                    "unique_count": 2,
                    "nan_count": 0,
                    "min": "0.0",
                    "max": "0.05989421824834005",
                    "histogram": [
                      {
                        "bin_start": 0,
                        "bin_end": 0.005989421824834005,
                        "count": 1
                      },
                      {
                        "bin_start": 0.005989421824834005,
                        "bin_end": 0.01197884364966801,
                        "count": 0
                      },
                      {
                        "bin_start": 0.01197884364966801,
                        "bin_end": 0.017968265474502015,
                        "count": 0
                      },
                      {
                        "bin_start": 0.017968265474502015,
                        "bin_end": 0.02395768729933602,
                        "count": 0
                      },
                      {
                        "bin_start": 0.02395768729933602,
                        "bin_end": 0.029947109124170024,
                        "count": 0
                      },
                      {
                        "bin_start": 0.029947109124170024,
                        "bin_end": 0.03593653094900403,
                        "count": 0
                      },
                      {
                        "bin_start": 0.03593653094900403,
                        "bin_end": 0.04192595277383804,
                        "count": 0
                      },
                      {
                        "bin_start": 0.04192595277383804,
                        "bin_end": 0.04791537459867204,
                        "count": 0
                      },
                      {
                        "bin_start": 0.04791537459867204,
                        "bin_end": 0.05390479642350604,
                        "count": 0
                      },
                      {
                        "bin_start": 0.05390479642350604,
                        "bin_end": 0.05989421824834005,
                        "count": 1
                      }
                    ]
                  }
                },
                {
                  "name": "you",
                  "dtype": "float64",
                  "stats": {
                    "unique_count": 2,
                    "nan_count": 0,
                    "min": "0.08523045915947505",
                    "max": "0.12451456127293807",
                    "histogram": [
                      {
                        "bin_start": 0.08523045915947505,
                        "bin_end": 0.08915886937082135,
                        "count": 1
                      },
                      {
                        "bin_start": 0.08915886937082135,
                        "bin_end": 0.09308727958216766,
                        "count": 0
                      },
                      {
                        "bin_start": 0.09308727958216766,
                        "bin_end": 0.09701568979351397,
                        "count": 0
                      },
                      {
                        "bin_start": 0.09701568979351397,
                        "bin_end": 0.10094410000486026,
                        "count": 0
                      },
                      {
                        "bin_start": 0.10094410000486026,
                        "bin_end": 0.10487251021620655,
                        "count": 0
                      },
                      {
                        "bin_start": 0.10487251021620655,
                        "bin_end": 0.10880092042755286,
                        "count": 0
                      },
                      {
                        "bin_start": 0.10880092042755286,
                        "bin_end": 0.11272933063889917,
                        "count": 0
                      },
                      {
                        "bin_start": 0.11272933063889917,
                        "bin_end": 0.11665774085024547,
                        "count": 0
                      },
                      {
                        "bin_start": 0.11665774085024547,
                        "bin_end": 0.12058615106159176,
                        "count": 0
                      },
                      {
                        "bin_start": 0.12058615106159176,
                        "bin_end": 0.12451456127293807,
                        "count": 1
                      }
                    ]
                  }
                },
                {
                  "name": "_deepnote_index_column",
                  "dtype": "object"
                }
              ],
              "rows": [
                {
                  "17": 0.08523045915947505,
                  "30pm": 0.042615229579737526,
                  "50s": 0.042615229579737526,
                  "60s": 0.042615229579737526,
                  "about": 0.08523045915947505,
                  "actually": 0.05989421824834005,
                  "after": 0.05989421824834005,
                  "all": 0.042615229579737526,
                  "already": 0.042615229579737526,
                  "and": 0.2556913774784252,
                  "around": 0.042615229579737526,
                  "as": 0.1704609183189501,
                  "asking": 0.042615229579737526,
                  "awkwardly": 0.05989421824834005,
                  "below": 0.042615229579737526,
                  "blowjob": 0.05989421824834005,
                  "boots": 0.08523045915947505,
                  "both": 0.042615229579737526,
                  "bought": 0.05989421824834005,
                  "by": 0.08523045915947505,
                  "came": 0.042615229579737526,
                  "cashing": 0.042615229579737526,
                  "clothing": 0.08523045915947505,
                  "confirmed": 0.05989421824834005,
                  "dark": 0.042615229579737526,
                  "didn": 0.05989421824834005,
                  "display": 0.042615229579737526,
                  "don": 0.08523045915947505,
                  "down": 0.042615229579737526,
                  "during": 0.042615229579737526,
                  "early": 0.042615229579737526,
                  "even": 0.05989421824834005,
                  "evening": 0.042615229579737526,
                  "extremely": 0.05989421824834005,
                  "find": 0.042615229579737526,
                  "floor": 0.08523045915947505,
                  "for": 0.042615229579737526,
                  "gave": 0.05989421824834005,
                  "get": 0.05989421824834005,
                  "had": 0.042615229579737526,
                  "he": 0.1278456887392126,
                  "him": 0.05989421824834005,
                  "his": 0.08523045915947505,
                  "ignore": 0.05989421824834005,
                  "ignored": 0.05989421824834005,
                  "in": 0.21307614789868765,
                  "insinuating": 0.05989421824834005,
                  "it": 0.2556913774784252,
                  "items": 0.042615229579737526,
                  "just": 0.1197884364966801,
                  "kept": 0.042615229579737526,
                  "knelt": 0.042615229579737526,
                  "late": 0.042615229579737526,
                  "left": 0.05989421824834005,
                  "makes": 0.05989421824834005,
                  "man": 0.042615229579737526,
                  "manager": 0.08523045915947505,
                  "me": 0.1197884364966801,
                  "mens": 0.042615229579737526,
                  "my": 0.08523045915947505,
                  "myself": 0.042615229579737526,
                  "naive": 0.05989421824834005,
                  "now": 0.05989421824834005,
                  "of": 0.042615229579737526,
                  "offer": 0.042615229579737526,
                  "old": 0.05989421824834005,
                  "on": 0.1278456887392126,
                  "one": 0.042615229579737526,
                  "overtime": 0.042615229579737526,
                  "quite": 0.17968265474502013,
                  "re": 0.042615229579737526,
                  "room": 0.042615229579737526,
                  "said": 0.042615229579737526,
                  "she": 0.1197884364966801,
                  "shocked": 0.05989421824834005,
                  "shop": 0.042615229579737526,
                  "size": 0.042615229579737526,
                  "smiled": 0.05989421824834005,
                  "so": 0.1278456887392126,
                  "sold": 0.042615229579737526,
                  "some": 0.042615229579737526,
                  "speak": 0.05989421824834005,
                  "special": 0.042615229579737526,
                  "started": 0.042615229579737526,
                  "stock": 0.08523045915947505,
                  "store": 0.042615229579737526,
                  "table": 0.042615229579737526,
                  "take": 0.042615229579737526,
                  "team": 0.042615229579737526,
                  "that": 0.08523045915947505,
                  "the": 0.4261522957973753,
                  "there": 0.042615229579737526,
                  "think": 0.05989421824834005,
                  "to": 0.1278456887392126,
                  "told": 0.05989421824834005,
                  "uncomfortable": 0.05989421824834005,
                  "understand": 0.05989421824834005,
                  "unisex": 0.042615229579737526,
                  "up": 0.042615229579737526,
                  "upset": 0.1197884364966801,
                  "was": 0.3409218366379002,
                  "we": 0.08523045915947505,
                  "well": 0.042615229579737526,
                  "went": 0.05989421824834005,
                  "when": 0.1704609183189501,
                  "whilst": 0.042615229579737526,
                  "why": 0.042615229579737526,
                  "winter": 0.08523045915947505,
                  "with": 0.05989421824834005,
                  "womens": 0.042615229579737526,
                  "worked": 0.042615229579737526,
                  "working": 0.042615229579737526,
                  "year": 0.05989421824834005,
                  "you": 0.08523045915947505,
                  "_deepnote_index_column": "Document 1"
                },
                {
                  "17": 0.062257280636469035,
                  "30pm": 0.062257280636469035,
                  "50s": 0.062257280636469035,
                  "60s": 0.062257280636469035,
                  "about": 0.062257280636469035,
                  "actually": 0,
                  "after": 0,
                  "all": 0.062257280636469035,
                  "already": 0.062257280636469035,
                  "and": 0.12451456127293807,
                  "around": 0.062257280636469035,
                  "as": 0.1867718419094071,
                  "asking": 0.062257280636469035,
                  "awkwardly": 0,
                  "below": 0.062257280636469035,
                  "blowjob": 0,
                  "boots": 0.062257280636469035,
                  "both": 0.062257280636469035,
                  "bought": 0,
                  "by": 0.062257280636469035,
                  "came": 0.062257280636469035,
                  "cashing": 0.062257280636469035,
                  "clothing": 0.12451456127293807,
                  "confirmed": 0,
                  "dark": 0.062257280636469035,
                  "didn": 0,
                  "display": 0.062257280636469035,
                  "don": 0.062257280636469035,
                  "down": 0.062257280636469035,
                  "during": 0.062257280636469035,
                  "early": 0.062257280636469035,
                  "even": 0,
                  "evening": 0.062257280636469035,
                  "extremely": 0,
                  "find": 0.062257280636469035,
                  "floor": 0.12451456127293807,
                  "for": 0.062257280636469035,
                  "gave": 0,
                  "get": 0,
                  "had": 0.062257280636469035,
                  "he": 0.062257280636469035,
                  "him": 0,
                  "his": 0.12451456127293807,
                  "ignore": 0,
                  "ignored": 0,
                  "in": 0.3112864031823452,
                  "insinuating": 0,
                  "it": 0.062257280636469035,
                  "items": 0.062257280636469035,
                  "just": 0,
                  "kept": 0.062257280636469035,
                  "knelt": 0.062257280636469035,
                  "late": 0.062257280636469035,
                  "left": 0,
                  "makes": 0,
                  "man": 0.062257280636469035,
                  "manager": 0.062257280636469035,
                  "me": 0,
                  "mens": 0.062257280636469035,
                  "my": 0.062257280636469035,
                  "myself": 0.062257280636469035,
                  "naive": 0,
                  "now": 0,
                  "of": 0.062257280636469035,
                  "offer": 0.062257280636469035,
                  "old": 0,
                  "on": 0.1867718419094071,
                  "one": 0.062257280636469035,
                  "overtime": 0.062257280636469035,
                  "quite": 0,
                  "re": 0.062257280636469035,
                  "room": 0.062257280636469035,
                  "said": 0.062257280636469035,
                  "she": 0,
                  "shocked": 0,
                  "shop": 0.062257280636469035,
                  "size": 0.062257280636469035,
                  "smiled": 0,
                  "so": 0.12451456127293807,
                  "sold": 0.062257280636469035,
                  "some": 0.062257280636469035,
                  "speak": 0,
                  "special": 0.062257280636469035,
                  "started": 0.062257280636469035,
                  "stock": 0.12451456127293807,
                  "store": 0.062257280636469035,
                  "table": 0.062257280636469035,
                  "take": 0.062257280636469035,
                  "team": 0.062257280636469035,
                  "that": 0.062257280636469035,
                  "the": 0.5603155257282213,
                  "there": 0.062257280636469035,
                  "think": 0,
                  "to": 0.062257280636469035,
                  "told": 0,
                  "uncomfortable": 0,
                  "understand": 0,
                  "unisex": 0.062257280636469035,
                  "up": 0.062257280636469035,
                  "upset": 0,
                  "was": 0.3112864031823452,
                  "we": 0.12451456127293807,
                  "well": 0.062257280636469035,
                  "went": 0,
                  "when": 0.1867718419094071,
                  "whilst": 0.062257280636469035,
                  "why": 0.062257280636469035,
                  "winter": 0.12451456127293807,
                  "with": 0,
                  "womens": 0.062257280636469035,
                  "worked": 0.062257280636469035,
                  "working": 0.062257280636469035,
                  "year": 0,
                  "you": 0.12451456127293807,
                  "_deepnote_index_column": "Document 2"
                }
              ]
            },
            "text/plain": "                  17      30pm       50s       60s     about  actually  \\\nDocument 1  0.085230  0.042615  0.042615  0.042615  0.085230  0.059894   \nDocument 2  0.062257  0.062257  0.062257  0.062257  0.062257  0.000000   \n\n               after       all   already       and  ...      when    whilst  \\\nDocument 1  0.059894  0.042615  0.042615  0.255691  ...  0.170461  0.042615   \nDocument 2  0.000000  0.062257  0.062257  0.124515  ...  0.186772  0.062257   \n\n                 why    winter      with    womens    worked   working  \\\nDocument 1  0.042615  0.085230  0.059894  0.042615  0.042615  0.042615   \nDocument 2  0.062257  0.124515  0.000000  0.062257  0.062257  0.062257   \n\n                year       you  \nDocument 1  0.059894  0.085230  \nDocument 2  0.000000  0.124515  \n\n[2 rows x 114 columns]",
            "text/html": "<div>\n<style scoped>\n    .dataframe tbody tr th:only-of-type {\n        vertical-align: middle;\n    }\n\n    .dataframe tbody tr th {\n        vertical-align: top;\n    }\n\n    .dataframe thead th {\n        text-align: right;\n    }\n</style>\n<table border=\"1\" class=\"dataframe\">\n  <thead>\n    <tr style=\"text-align: right;\">\n      <th></th>\n      <th>17</th>\n      <th>30pm</th>\n      <th>50s</th>\n      <th>60s</th>\n      <th>about</th>\n      <th>actually</th>\n      <th>after</th>\n      <th>all</th>\n      <th>already</th>\n      <th>and</th>\n      <th>...</th>\n      <th>when</th>\n      <th>whilst</th>\n      <th>why</th>\n      <th>winter</th>\n      <th>with</th>\n      <th>womens</th>\n      <th>worked</th>\n      <th>working</th>\n      <th>year</th>\n      <th>you</th>\n    </tr>\n  </thead>\n  <tbody>\n    <tr>\n      <th>Document 1</th>\n      <td>0.085230</td>\n      <td>0.042615</td>\n      <td>0.042615</td>\n      <td>0.042615</td>\n      <td>0.085230</td>\n      <td>0.059894</td>\n      <td>0.059894</td>\n      <td>0.042615</td>\n      <td>0.042615</td>\n      <td>0.255691</td>\n      <td>...</td>\n      <td>0.170461</td>\n      <td>0.042615</td>\n      <td>0.042615</td>\n      <td>0.085230</td>\n      <td>0.059894</td>\n      <td>0.042615</td>\n      <td>0.042615</td>\n      <td>0.042615</td>\n      <td>0.059894</td>\n      <td>0.085230</td>\n    </tr>\n    <tr>\n      <th>Document 2</th>\n      <td>0.062257</td>\n      <td>0.062257</td>\n      <td>0.062257</td>\n      <td>0.062257</td>\n      <td>0.062257</td>\n      <td>0.000000</td>\n      <td>0.000000</td>\n      <td>0.062257</td>\n      <td>0.062257</td>\n      <td>0.124515</td>\n      <td>...</td>\n      <td>0.186772</td>\n      <td>0.062257</td>\n      <td>0.062257</td>\n      <td>0.124515</td>\n      <td>0.000000</td>\n      <td>0.062257</td>\n      <td>0.062257</td>\n      <td>0.062257</td>\n      <td>0.000000</td>\n      <td>0.124515</td>\n    </tr>\n  </tbody>\n</table>\n<p>2 rows × 114 columns</p>\n</div>"
          },
          "metadata": {}
        }
      ],
      "execution_count": null,
      "block_group": "2e8a737a25da44dab0c6c70122c03017"
    },
    {
      "cell_type": "code",
      "source": "from sklearn.metrics.pairwise import cosine_similarity\n\ncosine_similarity(trsfm[0:1], trsfm)",
      "metadata": {
        "source_hash": null,
        "execution_start": 1699310230723,
        "execution_millis": 50,
        "deepnote_to_be_reexecuted": true,
        "cell_id": "19ec4f271adb41b7a3941ecb9c501386",
        "deepnote_cell_type": "code"
      },
      "outputs": [
        {
          "output_type": "execute_result",
          "execution_count": 11,
          "data": {
            "text/plain": "array([[1.        , 0.83572912]])"
          },
          "metadata": {}
        }
      ],
      "execution_count": null,
      "block_group": "ae1a97182f8f460ab4d9daa07dc6ff77"
    },
    {
      "cell_type": "markdown",
      "source": "### Getting rid of Someusing str.contains()",
      "metadata": {
        "formattedRanges": [],
        "cell_id": "6668f07e68e54b9c8f83f5ed04c815b4",
        "deepnote_cell_type": "text-cell-h3"
      },
      "block_group": "b0b6ca42d6f745048a844eab6f4fb5a3"
    },
    {
      "cell_type": "markdown",
      "source": "Try on 2 columns first",
      "metadata": {
        "formattedRanges": [],
        "cell_id": "07a01acec2314c3e96de384d16bac93c",
        "deepnote_cell_type": "text-cell-p"
      },
      "block_group": "ffb27b406fdb441686ac7d69b850eccc"
    },
    {
      "cell_type": "code",
      "source": "ztest = df[[\"Input\", \"Situation\"]].copy()\ntest",
      "metadata": {
        "source_hash": null,
        "execution_start": 1699310495141,
        "execution_millis": 15,
        "deepnote_table_state": {
          "sortBy": [],
          "filters": [],
          "pageSize": 10,
          "pageIndex": 5
        },
        "deepnote_table_loading": false,
        "deepnote_to_be_reexecuted": true,
        "cell_id": "3ef84473332347f6922dc99d6933492a",
        "deepnote_cell_type": "code"
      },
      "outputs": [
        {
          "output_type": "execute_result",
          "execution_count": 24,
          "data": {
            "application/vnd.deepnote.dataframe.v3+json": {
              "column_count": 2,
              "row_count": 1768,
              "columns": [
                {
                  "name": "Input",
                  "dtype": "object",
                  "stats": {
                    "unique_count": 1738,
                    "nan_count": 0,
                    "categories": [
                      {
                        "name": " Todd: ",
                        "count": 3
                      },
                      {
                        "name": "Constant discourage and lack of empowerment ' positive reinforcements that never comes from older, male colleagues (and I am the only woman, also the youngest in the team), constant overlooking of my abilities and achievements and looking for a new person to delegate work. I work extra hours, from home, unpaid, always give my best, included into internal projects, t-talks, labs and hiring new people interviews, however, still no promotion and no money raise after 14 months on the same job. I know my privilege by working in peace, having salary on time and at all, however my colleagues have the same, still not even trying to their job ' a colleague designer who's been in business more than ten years, after 8 months work with me came and said ' but you are a junior designer, right? (and I am looking to my seniority promotion). ",
                        "count": 2
                      },
                      {
                        "name": "1736 others",
                        "count": 1763
                      }
                    ]
                  }
                },
                {
                  "name": "Situation",
                  "dtype": "object",
                  "stats": {
                    "unique_count": 1736,
                    "nan_count": 0,
                    "categories": [
                      {
                        "name": "Todd is at a party and has been drinking.",
                        "count": 5
                      },
                      {
                        "name": " Constant discourage and lack of empowerment  positive reinforcements that never comes from older, male colleagues (and I am the only woman, also the youngest in the team)  constant overlooking of my abilities and achievements and looking for a new person to delegate work  I work extra hours, from home, unpaid, always give my best, included into internal projects, t-talks, labs and hiring new people interviews, however, still no promotion and no money raise after 14 months on the same job.",
                        "count": 2
                      },
                      {
                        "name": "1734 others",
                        "count": 1761
                      }
                    ]
                  }
                },
                {
                  "name": "_deepnote_index_column",
                  "dtype": "int64"
                }
              ],
              "rows": [
                {
                  "Input": "Constant discourage and lack of empowerment ' positive reinforcements that never comes from older, male colleagues (and I am the only woman, also the youngest in the team), constant overlooking of my abilities and achievements and looking for a new person to delegate work. I work extra hours, from home, unpaid, always give my best, included into internal projects, t-talks, labs and hiring new people interviews, however, still no promotion and no money raise after 14 months on the same job. I know my privilege by working in peace, having salary on time and at all, however my colleagues have the same, still not even trying to their job ' a colleague designer who's been in business more than ten years, after 8 months work with me came and said ' but you are a junior designer, right? (and I am looking to my seniority promotion). ",
                  "Situation": " Constant discourage and lack of empowerment  positive reinforcements that never comes from older, male colleagues (and I am the only woman, also the youngest in the team)  constant overlooking of my abilities and achievements and looking for a new person to delegate work  I work extra hours, from home, unpaid, always give my best, included into internal projects, t-talks, labs and hiring new people interviews, however, still no promotion and no money raise after 14 months on the same job.",
                  "_deepnote_index_column": 50
                },
                {
                  "Input": "When I left a job recently to move onto something new, I had to recruit my replacement. I recruited a very competent and experienced young man to take my place (he was the best candidate). I was later told by someone in middle management that the CEO did not like my replacement because 'he wasn't as pretty as me' Whether or not the CEO actually said that (and I honestly doubt he did) what a monumentally stupid thing to say. Insulting for all concerned ",
                  "Situation": "When I left a job recently to move onto something new, I had to recruit my replacement.",
                  "_deepnote_index_column": 51
                },
                {
                  "Input": "Irritating colleague of mine consistently invades my personal space, airs his regressive views on women loudly and frequently and interrupts me at every opportunity. Today as he began dropping innuendoes about his travels in Asia and a cab driver taking him to a brothel I thought it would be a good opportunity to go for a bathroom break. When I came back he was still bending the ear of another straight male colleague and blocking the gangway, and when I tried to manoeuvre past to get to my desk the other colleague hit me on the boob. Cheers for that guys, as a survivor of repeated sexual assault including at my previous workplace I found it pretty triggering to be honest. ",
                  "Situation": " Irritating colleague of mine consistently invades my personal space, airs his regressive views on women loudly and frequently and interrupts me at every opportunity.  Today as he began dropping innuendoes about his travels in Asia and a cab driver taking him to a brothel I thought it would be a good opportunity to go for a bathroom break.  When I came back he was still bending the ear of another straight male colleague and blocking the gangway, and when I tried to manoeuvre past to get to my desk the other colleague hit me on the boob.",
                  "_deepnote_index_column": 52
                },
                {
                  "Input": "Where do I start'? At the age of 16 I started my first part time job. I was sexually harassed by every man in the restaurant kitchen where I worked, every shift for about a year. I was very innocent and naive but had started going out with a boy and knew men found me attractive. There was another girl working there who was at least 5 years older than me. She heard and saw them making fun of my slim body shape, lack of curves, whilst also making crude suggestive gestures regarding what they would like to do to me. I felt so uncomfortable and it made me self conscious for most of my life. I'm 35 now and looking back what upsets the most is that I didn't feel able to tell anyone, I felt I didn't matter and wondered if it was normal for guys to behave like that. I'm also very frustrated and angry that the business owner who tried to be kind and 'paternal' towards me, let this happen and laughed along, and that the older girl didn't say or do anything. That was just the start. Since then I…",
                  "Situation": " At the age of 16 I started my first part time job.  I was sexually harassed by every man in the restaurant kitchen where I worked, every shift for about a year.  I have been harassed and bullied in the workplace by very senior male business men in my office jobs.  I have been inappropriately touched in the workplace too.  I was gossiped about and sniggered at and accused of only getting promoted because of my looks.  I have been sexually assaulted twice in bars/clubs and most recently once in a packed public lift, in broad daylight whilst my baby daughter was with me.  Being photographed about 10 years ago, up my skirt in a high street shop.",
                  "_deepnote_index_column": 53
                },
                {
                  "Input": "I do marketing and design for a small local company and have spent the last few weeks designing a brochure to send to potential clients. It was a tedious process, but i was incredibly happy with the finished product. Today was final tweaks and sending off to print, but unfortunately my tummy issues flared up and I had to work from home. Whilst tweaking the final design, I noticed someone else in the office was adding their own 'tweaks' to my Dropbox folder. 'Tweaks' here meaning using elements of my design but totally changing it. Said colleague then sent me an email saying he had tweaked the design and felt it worked better (he is not a designer). When I tried to explain that I wasn't sure about the new design (it looked like it had been made on word) he told me email correspondence was too inefficient and they would be finishing the design in the office and sending it to print. After weeks of working to make this something I could be proud of, I now won't get to see my finished desi…",
                  "Situation": " I do marketing and design for a small local company and have spent the last few weeks designing a brochure to send to potential clients.  It was a tedious process, but i was incredibly happy with the finished product.  Today was final tweaks and sending off to print, but unfortunately my tummy issues flared up and I had to work from home.  Whilst tweaking the final design, I noticed someone else in the office was adding their own 'tweaks' to my Dropbox folder.  Said colleague then sent me an email saying he had tweaked the design and felt it worked better (he is not a designer).  When I tried to explain that I wasn't sure about the new design (it looked like it had been made on word) he told me email correspondence was too inefficient and they would be finishing the design in the office and sending it to print.  After weeks of working to make this something I could be proud of, I now won't get to see my finished design until it arrives from the printers.  At no point was I asked if I…",
                  "_deepnote_index_column": 54
                },
                {
                  "Input": "My older boss (He's in his 50's I think) told me that when I ask clients how they are and I speak with them generally, my enthusiasm comes off as being very 'sugary and fake'. For clarification, I'm genuinely a people person; I speak to people so enthusiastically because I'm genuinely interested in how they're doing and in how I can help them. Apparently, this makes me fake. My co-worker has been there much longer than me and in all her years there, she has: ' often worked for free (Over-time etc) ' been ignored when she has had serious health issues to deal with ' Been told 'all your problems would have been solved' if she'd died during surgery ' Been told she should get ready to buy her own coffin soon when she turned 30 ' Been openly mocked and ridiculed for having had an eating disorder ' Been told that wearing make-up makes her look like a clown and will scare customers away ' Has had it implied that her choice of dress and make-up makes her a 'slut', thus causing several colleag…",
                  "Situation": " My older boss (He’s in his 50’s I think) told me that when I ask clients how they are and I speak with them generally, my enthusiasm comes off as being very “sugary and fake”.  Apparently, this makes me fake.",
                  "_deepnote_index_column": 55
                },
                {
                  "Input": "Constant discourage and lack of empowerment ' positive reinforcements that never comes from older, male colleagues (and I am the only woman, also the youngest in the team), constant overlooking of my abilities and achievements and looking for a new person to delegate work. I work extra hours, from home, unpaid, always give my best, included into internal projects, t-talks, labs and hiring new people interviews, however, still no promotion and no money raise after 14 months on the same job. I know my privilege by working in peace, having salary on time and at all, however my colleagues have the same, still not even trying to their job ' a colleague designer who's been in business more than ten years, after 8 months work with me came and said ' but you are a junior designer, right? (and I am looking to my seniority promotion). ",
                  "Situation": " Constant discourage and lack of empowerment  positive reinforcements that never comes from older, male colleagues (and I am the only woman, also the youngest in the team)  constant overlooking of my abilities and achievements and looking for a new person to delegate work  I work extra hours, from home, unpaid, always give my best, included into internal projects, t-talks, labs and hiring new people interviews, however, still no promotion and no money raise after 14 months on the same job.",
                  "_deepnote_index_column": 56
                },
                {
                  "Input": "My workplace is going through some financial difficulties, and our new (male) CEO announced he had to make some redundancies. Every single one of the six post made redundant was held by women in their early 30s (therefore potential maternity-leave takers). One had just come back from maternity leave. And one had been chatting about how she was planning to have a baby. Of course, there is NO way of proving this is a sexist batch of redundancies. The 'strategy' just demonstrates that these were the posts we could make do with losing. But, considering our small office is around 50/50 male/female ratio ' it seems odd that a full 100% of the redundant roles were held by women' ",
                  "Situation": "'My workplace is going through some financial difficulties, and our new (male) CEO announced he had to make some redundancies. Every single one of the six post made redundant was held by women in their early 30s (therefore potential maternity-leave takers). One had just come back from maternity leave. And one had been chatting about how she was planning to have a baby. Of course, there is NO way of proving this is a sexist batch of redundancies. The 'strategy' just demonstrates that these were the posts we could make do with losing. But, considering our small office is around 50/50 male/female ratio ' it seems odd that a full 100% of the redundant roles were held by women''",
                  "_deepnote_index_column": 57
                },
                {
                  "Input": "Arriving at my large open plan office where hot-desking is the norm I find no free desks among my usual crowd. I spot one free desk in a group of six. Four of the desks are occupied by men. The other desk has been reserved but is unoccupied. I ask if it's ok for me to sit there. I've been at my workplace for 3 months and don't know many people outside of my immediate team. 'Sure,' pipes up one of the men 'as long as you don't mind passing on make-up tips'. Thanks, guys, for patronising me and putting me in my place as a silly girl (I'm 42) with nothing but trivial concerns to worry about (my job involves analysing processes for new information systems). I will never sit near them again. ",
                  "Situation": "Arriving at my large open plan office where hot-desking is the norm I find no free desks among my usual crowd. I spot one free desk in a group of six. Four of the desks are occupied by men. The other desk has been reserved but is unoccupied. I ask if it’s ok for me to sit there.",
                  "_deepnote_index_column": 58
                },
                {
                  "Input": "I am eighteen and work in a small local supermarket and my role during this shift was to re-stock the drinks and shelves. I was getting some drinks out the trolley when I felt a pat on my bum and a 'Hey there possum'. I exclaimed 'Excuse me!' and turned around to see who had taken such a liberty and felt entitled enough to touch me. It was a man (redacted by moderator) (40-50 yrs) from a real estate agency a couple doors down from the supermarket. He regularly comes in and had taken to calling me 'Possum' ' hitherto I had taken no notice of the pet name because I am regularly called things like 'chicken' and 'darl' when I'm on the register. However at this moment I was sickened and at my exclamation he turned around and shrugged as if his action meant nothing. He was still smiling. I shouted across the aisle, 'That is degrading!' But by then he had turned back around and begun his shopping. There had been other customers present and I was surprised that none had taken notice to the ev…",
                  "Situation": " I was getting some drinks out the trolley when I felt a pat on my bum and a 'Hey there possum'.  He regularly comes in and had taken to calling me 'Possum'.  He was still smiling.  I was shocked. Angry. Humiliated.  He made me feel inferior and objectified.  I began to cry.",
                  "_deepnote_index_column": 59
                }
              ]
            },
            "text/plain": "                                                  Input  \\\n0     When I was 17, I worked in a clothing store th...   \n1     I left my job to return for a PhD with an inte...   \n2     A leaflet about 'supporting teenagers' in my c...   \n3     As a 16 year old girl, I know very well that s...   \n4     I worked in a doggie daycare for two years as ...   \n...                                                 ...   \n1763  I work for a healthcare system where 80% of th...   \n1764  I'm getting paid $5,000 a year less than my ma...   \n1765  This is my second entry to the project. Same b...   \n1766  Need some advice. I am female and use the wome...   \n1767  I was getting a professional workplace photo t...   \n\n                                              Situation  \n0      When I was 17, I worked in a clothing store t...  \n1      I left my job to return for a PhD with an int...  \n2      The leaflet about supporting teenagers in my ...  \n3      Being shouted out from car windows whilst wal...  \n4     I worked in a doggie daycare for two years as ...  \n...                                                 ...  \n1763  I work for a healthcare system where 80% of th...  \n1764   I'm getting paid $5,000 a year less than my m...  \n1765   Boss on the phone to a male colleague \"it’s a...  \n1766   Using women's toilets  Being attracted to men...  \n1767  I was getting a professional workplace photo t...  \n\n[1768 rows x 2 columns]",
            "text/html": "<div>\n<style scoped>\n    .dataframe tbody tr th:only-of-type {\n        vertical-align: middle;\n    }\n\n    .dataframe tbody tr th {\n        vertical-align: top;\n    }\n\n    .dataframe thead th {\n        text-align: right;\n    }\n</style>\n<table border=\"1\" class=\"dataframe\">\n  <thead>\n    <tr style=\"text-align: right;\">\n      <th></th>\n      <th>Input</th>\n      <th>Situation</th>\n    </tr>\n  </thead>\n  <tbody>\n    <tr>\n      <th>0</th>\n      <td>When I was 17, I worked in a clothing store th...</td>\n      <td>When I was 17, I worked in a clothing store t...</td>\n    </tr>\n    <tr>\n      <th>1</th>\n      <td>I left my job to return for a PhD with an inte...</td>\n      <td>I left my job to return for a PhD with an int...</td>\n    </tr>\n    <tr>\n      <th>2</th>\n      <td>A leaflet about 'supporting teenagers' in my c...</td>\n      <td>The leaflet about supporting teenagers in my ...</td>\n    </tr>\n    <tr>\n      <th>3</th>\n      <td>As a 16 year old girl, I know very well that s...</td>\n      <td>Being shouted out from car windows whilst wal...</td>\n    </tr>\n    <tr>\n      <th>4</th>\n      <td>I worked in a doggie daycare for two years as ...</td>\n      <td>I worked in a doggie daycare for two years as ...</td>\n    </tr>\n    <tr>\n      <th>...</th>\n      <td>...</td>\n      <td>...</td>\n    </tr>\n    <tr>\n      <th>1763</th>\n      <td>I work for a healthcare system where 80% of th...</td>\n      <td>I work for a healthcare system where 80% of th...</td>\n    </tr>\n    <tr>\n      <th>1764</th>\n      <td>I'm getting paid $5,000 a year less than my ma...</td>\n      <td>I'm getting paid $5,000 a year less than my m...</td>\n    </tr>\n    <tr>\n      <th>1765</th>\n      <td>This is my second entry to the project. Same b...</td>\n      <td>Boss on the phone to a male colleague \"it’s a...</td>\n    </tr>\n    <tr>\n      <th>1766</th>\n      <td>Need some advice. I am female and use the wome...</td>\n      <td>Using women's toilets  Being attracted to men...</td>\n    </tr>\n    <tr>\n      <th>1767</th>\n      <td>I was getting a professional workplace photo t...</td>\n      <td>I was getting a professional workplace photo t...</td>\n    </tr>\n  </tbody>\n</table>\n<p>1768 rows × 2 columns</p>\n</div>"
          },
          "metadata": {}
        }
      ],
      "execution_count": null,
      "block_group": "d19879e33eac482e8b5896c2f28f4273"
    },
    {
      "cell_type": "code",
      "source": "test[test.apply(lambda x: x.Situation in x.Input, axis=1)==False]",
      "metadata": {
        "source_hash": null,
        "execution_start": 1699310575681,
        "execution_millis": 19,
        "deepnote_table_state": {
          "sortBy": [],
          "filters": [],
          "pageSize": 10,
          "pageIndex": 0
        },
        "deepnote_table_loading": false,
        "deepnote_to_be_reexecuted": true,
        "cell_id": "c45b7e7400914c05866bf04e2ede8c27",
        "deepnote_cell_type": "code"
      },
      "outputs": [
        {
          "output_type": "execute_result",
          "execution_count": 24,
          "data": {
            "application/vnd.deepnote.dataframe.v3+json": {
              "column_count": 2,
              "row_count": 1193,
              "columns": [
                {
                  "name": "Input",
                  "dtype": "object",
                  "stats": {
                    "unique_count": 1170,
                    "nan_count": 0,
                    "categories": [
                      {
                        "name": " Todd: ",
                        "count": 3
                      },
                      {
                        "name": "Constant discourage and lack of empowerment ' positive reinforcements that never comes from older, male colleagues (and I am the only woman, also the youngest in the team), constant overlooking of my abilities and achievements and looking for a new person to delegate work. I work extra hours, from home, unpaid, always give my best, included into internal projects, t-talks, labs and hiring new people interviews, however, still no promotion and no money raise after 14 months on the same job. I know my privilege by working in peace, having salary on time and at all, however my colleagues have the same, still not even trying to their job ' a colleague designer who's been in business more than ten years, after 8 months work with me came and said ' but you are a junior designer, right? (and I am looking to my seniority promotion). ",
                        "count": 2
                      },
                      {
                        "name": "1168 others",
                        "count": 1188
                      }
                    ]
                  }
                },
                {
                  "name": "Situation",
                  "dtype": "object",
                  "stats": {
                    "unique_count": 1169,
                    "nan_count": 0,
                    "categories": [
                      {
                        "name": "Todd is at a party and has been drinking.",
                        "count": 5
                      },
                      {
                        "name": " Constant discourage and lack of empowerment  positive reinforcements that never comes from older, male colleagues (and I am the only woman, also the youngest in the team)  constant overlooking of my abilities and achievements and looking for a new person to delegate work  I work extra hours, from home, unpaid, always give my best, included into internal projects, t-talks, labs and hiring new people interviews, however, still no promotion and no money raise after 14 months on the same job.",
                        "count": 2
                      },
                      {
                        "name": "1167 others",
                        "count": 1186
                      }
                    ]
                  }
                },
                {
                  "name": "_deepnote_index_column",
                  "dtype": "int64"
                }
              ],
              "rows": [
                {
                  "Input": "When I was 17, I worked in a clothing store that sold both mens and womens clothing, as well as some unisex items. I was working overtime in the evening, around 8.30pm during the winter so it was already dark. I was by myself on the shop floor as my manager was cashing up in the stock room, when a man in his late 50s/early 60s came in and started asking about the winter boots we had on special offer. We kept all of the stock below the display table, so I knelt on the floor to find his size when he said 'Whilst you're down there, why don't you take one for the team?'. As I was quite a naive 17 year old, I didn't quite understand, so I just awkwardly smiled and ignored it. After he bought the boots and left, I went to speak with my manager. She confirmed that he was actually insinuating I gave him a blowjob, I was shocked and quite upset! She told me to just 'ignore it and don't get upset by it'! Even when I think about it now, it makes me extremely uncomfortable. ",
                  "Situation": " When I was 17, I worked in a clothing store that sold both mens and womens clothing, as well as some unisex items.  I was working overtime in the evening, around 8.30pm during the winter so it was already dark.  I was by myself on the shop floor as my manager was cashing up in the stock room, when a man in his late 50s/early 60s came in and started asking about the winter boots we had on special offer.  We kept all of the stock below the display table, so I knelt on the floor to find his size when he said “Whilst you’re down there, why don’t you take one for the team?”",
                  "_deepnote_index_column": 0
                },
                {
                  "Input": "I left my job to return for a PhD with an intention of developing expertise in my field and preventing encounters with men who label me 'ignorant' or hint to my own incompetence. Part of my PhD requires public engagement via social media. In one such recent Twitter encounter, I stated my opinion and backed it up with facts. A man that disagreed then proceeded to lash out, calling my remarks 'effete' and 'ignorant.' I called out the blatant sexism, for which he continued to retaliate, calling my tone condescending. This is such a nasty cycle and I find it so extremely frustrating'if we sit back, it happens more. And if we speak up, sexism intensifies. We have our work cut out for us. ",
                  "Situation": " I left my job to return for a PhD with an intention of developing expertise in my field and preventing encounters with men who label me 'ignorant' or hint to my own incompetence.  Part of my PhD requires public engagement via social media.  In one such recent Twitter encounter, I stated my opinion and backed it up with facts.  A man that disagreed then proceeded to lash out, calling my remarks 'effete' and 'ignorant.'  I called out the blatant sexism, for which he continued to retaliate, calling my tone condescending.",
                  "_deepnote_index_column": 1
                },
                {
                  "Input": "A leaflet about 'supporting teenagers' in my country published by so called 'experienced' psychotherapists contains a lot of pernicious gender stereotypes. The reason why I despair about living in my country is that girls get stereotyped as behaving one way and boys get stereotyped as behaving the opposite way, even when in reality there is a lot of overlap of behaviours between the sexes! In the leaflet, girls are automatically assumed to be 'vulnerable' and in need of 'empowering'. This is kind of offensive and degrading to many young women who are capable and self sufficient. Some women do not view themselves as 'helpless victims', but instead as highly capable survivors! Calling girls 'vulnerable' or fragile doesn't help them deal with stuff in an adaptive or a resilient way. While it is true that some young women struggle with issues around eating (please don't use the pathologising words 'eating disorder' because it is society's expectations around food that are disordered, not …",
                  "Situation": " The leaflet about supporting teenagers in my country contains pernicious gender stereotypes.  Girls are automatically assumed to be vulnerable and in need of empowering, while boys are stereotyped as behaving the opposite way.  The leaflet calls girls over-conscientious and perfectionistic, while ignoring the fact that many young men also engage in anorexic or bulimic behaviors.  The leaflet assumes that girls should be denied the opportunity to excel by people who call them too perfectionistic.  The author's grandmother liked to do things thoroughly and properly as part of her job.",
                  "_deepnote_index_column": 2
                },
                {
                  "Input": "As a 16 year old girl, I know very well that sexism exists. On pretty much a daily basis, I am shouted out from car windows whilst walking down the street, or approached by strangers whilst out in public, usually by older men. This is something that as a female, you get used to, enough though you shouldn't have to. One thing I will not get over though, is being told that sexism is not an issue. I take a sociology class at my college, and one of the subjects we cover if feminism. This is something that me and my friends are passionate about, we believe it needs to be talked about in order for things to change. There are however, a number of boys in that class who disagree with feminists and try to tell us everything we say is wrong. I can accept this; everyone is entitled to an opinion and I am willing to listen to anyone's opinion. Today it reached a point where I can no longer just accept their opinion. As a group, we watched the Everyday Sexism Project talk 'CoventGardenWomen'. All …",
                  "Situation": " Being shouted out from car windows whilst walking down the street  Being approached by strangers whilst out in public, usually by older men  Being told that sexism is not an issue  Being in a sociology class where feminism is discussed  Being in a group that watches the Everyday Sexism Project talk  Being told that there's no reason for women to feel unsafe whilst walking alone  Being told that sexual assault isn't a problem  Being told that if it really happened more women would come forward",
                  "_deepnote_index_column": 3
                },
                {
                  "Input": "A few months ago my husband's workplace (in a liberal, northeast state) had an event at a bowling alley, a fundraiser in a series of playful competitions with a rival company. To form bowling teams in anticipation of this event, my husband's general manager sent out an email to the entire company stating that each bowling team would need 'one very skilled player , at least 2 above average players, and a female.' You know, because 'females' can't be 'skilled' or 'above average' at bowling, obvs. ",
                  "Situation": "The general manager of my husband's workplace sent out an email stating the requirements for forming bowling teams for a fundraiser event, including the requirement for a female player.",
                  "_deepnote_index_column": 5
                },
                {
                  "Input": "Working in the IT area, I am most of the time the only woman in the office, in my thirties, between men of fifty mostly. With the tempratures coming up and approaching summer, I arrived in the office in a summer appropriate dress, receiving comments all morning. This was nothing comparing to the feedback of a colleague, twenty years older then me, who constantly stalks me around and makes the others believe we are lovers, ocasionally touching me and commenting on my body. This time I told him not to touch me in a polite way. His reaction was quite surprizing ' he went to the other colleagues complaining about me to tell him not to touch me, when actually I look so nice ' means I should be only flattered. For me, I dont see this to be an excuse to be touched, espacially in an adult management oriented environement. I am afraid of staying with him alone in the office or in the room, and sometimes I preffer to stay home and work from there to actually woork in peace. I constantly think a…",
                  "Situation": " Working in the IT area, I am most of the time the only woman in the office, in my thirties, between men of fifty mostly.  With the temperatures coming up and approaching summer, I arrived in the office in a summer-appropriate dress, receiving comments all morning.  This was nothing comparing to the feedback of a colleague, twenty years older than me, who constantly stalks me around and makes the others believe we are lovers, occasionally touching me and commenting on my body.  This time I told him not to touch me in a polite way.  His reaction was quite surprising – he went to the other colleagues complaining about me to tell him not to touch me, when actually I look so nice – means I should be only flattered.  For me, I don’t see this to be an excuse to be touched, especially in an adult management-oriented environment.  I am afraid of staying with him alone in the office or in the room, and sometimes I prefer to stay home and work from there to actually work in peace.  I constantly…",
                  "_deepnote_index_column": 6
                },
                {
                  "Input": "I think that sexism is an issue in the UK. This is because women's pay is significantly lower then men's which is biased and unfair. We are also described with much more feminine verbs, and also those which describe where we participate and do a lot of teamwork, yet not as much independent. This is also more unfair for us as men are described with more independent, strong and powerful words. In workplaces, a large percentage (52%) of women are sexually harassed, and made to feel extremely vulnerable. In many cases when these situations are reported to their head of work, they are dropped or under-prioritised. ",
                  "Situation": " Women's pay is significantly lower than men's which is biased and unfair.  We are also described with much more feminine verbs, and also those which describe where we participate and do a lot of teamwork, yet not as much independent.  In workplaces, a large percentage (52%) of women are sexually harassed, and made to feel extremely vulnerable.",
                  "_deepnote_index_column": 7
                },
                {
                  "Input": "My boss has a history of sexually harassing women at my workplace. He is a prominent artist, and most people idolize him without realizing that he is a predator. Every woman in the office has a story. Mine is the many long hugs he gives under the guise of 'I am an affectionate guy' and with responses afterwards such as 'You really understand what my work is about here'. I have been told on two occasions, 'If you want to keep your job, you will take your clothes off for me' to model. My manager was pulled onto his lap and her breasts groped. When she pulled away he said, 'What, it is not like I have not felt breasts before'. Recently he sexually assaulted a coworker and it ended in a non-consensual sexual act. He paid her $50,000 and gave her a $13,000 painting to make it go away. I am so angry at her for accepting, for not standing up to him and protecting the rest of us. But this is also not the first time a pay off has happened. It also occurred 6 months ago before this whole new ba…",
                  "Situation": " My boss has a history of sexually harassing women at my workplace.  He is a prominent artist, and most people idolize him without realizing that he is a predator.  Every woman in the office has a story.  My manager was pulled onto his lap and her breasts groped.  Recently he sexually assaulted a coworker and it ended in a non-consensual sexual act.  He paid her $50,000 and gave her a $13,000 painting to make it go away.  We are in North Carolina and working in a company of less than 15 employees.  Federal sexual harassment laws do not protect us in the same way, and there is very little we can do.",
                  "_deepnote_index_column": 8
                },
                {
                  "Input": "I'm a social worker. I'm also 26, female and have visible disabilities. In my role, we have our work overseen by a independent reviewing officer. He was older, white and male. In the course of three months, he proceeded to reduce me to tears twice because of vicious, personal attacks, threaten to refer me to the registration body three times, pin me in a corner, tell me I should have mental health counselling and tell my manager that i had failed to do a critical part of my job for six months (he was lying). When I finally went to his manager, he decided to tell my entire department about how my stress and poor mental health is leading me to make wild accusations. The best my team manager could get was that his contract wasn't renewed ' and so he moves on to another workplace to traumatise another woman. ",
                  "Situation": " I'm a social worker.  I'm also 26, female and have visible disabilities.  In my role, we have our work overseen by a independent reviewing officer.  He was older, white and male.  In the course of three months, he proceeded to reduce me to tears twice because of vicious, personal attacks.  Threaten to refer me to the registration body three times.  Pin me in a corner.  Tell me I should have mental health counselling.  Tell my manager that i had failed to do a critical part of my job for six months (he was lying).  When I finally went to his manager, he decided to tell my entire department about how my stress and poor mental health is leading me to make wild accusations.  The best my team manager could get was that his contract wasn't renewed.",
                  "_deepnote_index_column": 10
                },
                {
                  "Input": "Today, they brought in a pretty face to distract the clients while negotiating the terms of a multi-million dollar contract. The contract manager told my manager who told me. My manager had question why this woman was apart of it as she has zero qualifications and she is no longer employed with us. This pretty face hasn't worked for our company since her temporary position ended a year ago. She was only there to cover a maternity leave for our administrative assistant. Our company has had this contract for over 30 years. The expansion project our client is planning is going to result in major growth for our own company. We have an excellent relationship with them and the bid for the contract has been tailor made for us to win it. To lose this contract would be a major blow to the company and maybe it has the Executives desperate, I don't know. I do know this woman wears short skirts, giggles lots, flirts endlessly and enjoys the attention all the men at work give her. She started dati…",
                  "Situation": " They brought in a pretty face to distract the clients while negotiating the terms of a multi-million dollar contract.  The contract manager told my manager who told me.  My manager had question why this woman was apart of it as she has zero qualifications and she is no longer employed with us.  This pretty face hasn’t worked for our company since her temporary position ended a year ago.  She was only there to cover a maternity leave for our administrative assistant.  Our company has had this contract for over 30 years.  The expansion project our client is planning is going to result in major growth for our own company.  We have an excellent relationship with them and the bid for the contract has been tailor made for us to win it.  To lose this contract would be a major blow to the company and maybe it has the Executives desperate, I don’t know.  I do know this woman wears short skirts, giggles lots, flirts endlessly and enjoys the attention all the men at work give her.  She started …",
                  "_deepnote_index_column": 13
                }
              ]
            },
            "text/plain": "                                                  Input  \\\n0     When I was 17, I worked in a clothing store th...   \n1     I left my job to return for a PhD with an inte...   \n2     A leaflet about 'supporting teenagers' in my c...   \n3     As a 16 year old girl, I know very well that s...   \n5     A few months ago my husband's workplace (in a ...   \n...                                                 ...   \n1762  When your career manager has you, a middle age...   \n1763  I work for a healthcare system where 80% of th...   \n1764  I'm getting paid $5,000 a year less than my ma...   \n1765  This is my second entry to the project. Same b...   \n1766  Need some advice. I am female and use the wome...   \n\n                                              Situation  \n0      When I was 17, I worked in a clothing store t...  \n1      I left my job to return for a PhD with an int...  \n2      The leaflet about supporting teenagers in my ...  \n3      Being shouted out from car windows whilst wal...  \n5     The general manager of my husband's workplace ...  \n...                                                 ...  \n1762  'When your career manager has you, a middle ag...  \n1763  I work for a healthcare system where 80% of th...  \n1764   I'm getting paid $5,000 a year less than my m...  \n1765   Boss on the phone to a male colleague \"it’s a...  \n1766   Using women's toilets  Being attracted to men...  \n\n[1193 rows x 2 columns]",
            "text/html": "<div>\n<style scoped>\n    .dataframe tbody tr th:only-of-type {\n        vertical-align: middle;\n    }\n\n    .dataframe tbody tr th {\n        vertical-align: top;\n    }\n\n    .dataframe thead th {\n        text-align: right;\n    }\n</style>\n<table border=\"1\" class=\"dataframe\">\n  <thead>\n    <tr style=\"text-align: right;\">\n      <th></th>\n      <th>Input</th>\n      <th>Situation</th>\n    </tr>\n  </thead>\n  <tbody>\n    <tr>\n      <th>0</th>\n      <td>When I was 17, I worked in a clothing store th...</td>\n      <td>When I was 17, I worked in a clothing store t...</td>\n    </tr>\n    <tr>\n      <th>1</th>\n      <td>I left my job to return for a PhD with an inte...</td>\n      <td>I left my job to return for a PhD with an int...</td>\n    </tr>\n    <tr>\n      <th>2</th>\n      <td>A leaflet about 'supporting teenagers' in my c...</td>\n      <td>The leaflet about supporting teenagers in my ...</td>\n    </tr>\n    <tr>\n      <th>3</th>\n      <td>As a 16 year old girl, I know very well that s...</td>\n      <td>Being shouted out from car windows whilst wal...</td>\n    </tr>\n    <tr>\n      <th>5</th>\n      <td>A few months ago my husband's workplace (in a ...</td>\n      <td>The general manager of my husband's workplace ...</td>\n    </tr>\n    <tr>\n      <th>...</th>\n      <td>...</td>\n      <td>...</td>\n    </tr>\n    <tr>\n      <th>1762</th>\n      <td>When your career manager has you, a middle age...</td>\n      <td>'When your career manager has you, a middle ag...</td>\n    </tr>\n    <tr>\n      <th>1763</th>\n      <td>I work for a healthcare system where 80% of th...</td>\n      <td>I work for a healthcare system where 80% of th...</td>\n    </tr>\n    <tr>\n      <th>1764</th>\n      <td>I'm getting paid $5,000 a year less than my ma...</td>\n      <td>I'm getting paid $5,000 a year less than my m...</td>\n    </tr>\n    <tr>\n      <th>1765</th>\n      <td>This is my second entry to the project. Same b...</td>\n      <td>Boss on the phone to a male colleague \"it’s a...</td>\n    </tr>\n    <tr>\n      <th>1766</th>\n      <td>Need some advice. I am female and use the wome...</td>\n      <td>Using women's toilets  Being attracted to men...</td>\n    </tr>\n  </tbody>\n</table>\n<p>1193 rows × 2 columns</p>\n</div>"
          },
          "metadata": {}
        }
      ],
      "execution_count": null,
      "block_group": "0ed7cf948fff4ea4b6abd39e0f2b933e"
    },
    {
      "cell_type": "code",
      "source": "from sklearn.feature_extraction.text import CountVectorizer\nimport pandas as pd\nfrom sklearn.metrics.pairwise import cosine_similarity\ninputs = df[\"Input\"]\ncount_vectorizer = CountVectorizer(stop_words=\"english\")\nsparse_matrix = count_vectorizer.fit_transform(inputs)\ndoc_term_matrix = sparse_matrix.todense()\ninputs_df = pd.DataFrame(\n   doc_term_matrix,\n   columns=count_vectorizer.get_feature_names_out(),\n)\nprint(df)\n#print(cosine_similarity(df, df))",
      "metadata": {
        "source_hash": null,
        "execution_start": 1699313135447,
        "execution_millis": 179,
        "deepnote_to_be_reexecuted": false,
        "cell_id": "758f5f4421ba4d2e9f24dc6b2a72554f",
        "deepnote_cell_type": "code"
      },
      "outputs": [
        {
          "name": "stdout",
          "text": "                                                  Input  \\\n0     When I was 17, I worked in a clothing store th...   \n1     I left my job to return for a PhD with an inte...   \n2     A leaflet about 'supporting teenagers' in my c...   \n3     As a 16 year old girl, I know very well that s...   \n4     I worked in a doggie daycare for two years as ...   \n...                                                 ...   \n1763  I work for a healthcare system where 80% of th...   \n1764  I'm getting paid $5,000 a year less than my ma...   \n1765  This is my second entry to the project. Same b...   \n1766  Need some advice. I am female and use the wome...   \n1767  I was getting a professional workplace photo t...   \n\n                                              Situation  \\\n0      When I was 17, I worked in a clothing store t...   \n1      I left my job to return for a PhD with an int...   \n2      The leaflet about supporting teenagers in my ...   \n3      Being shouted out from car windows whilst wal...   \n4     I worked in a doggie daycare for two years as ...   \n...                                                 ...   \n1763  I work for a healthcare system where 80% of th...   \n1764   I'm getting paid $5,000 a year less than my m...   \n1765   Boss on the phone to a male colleague \"it’s a...   \n1766   Using women's toilets  Being attracted to men...   \n1767  I was getting a professional workplace photo t...   \n\n                                               Feelings  \\\n0      I was quite a naive 17 year old, I didn’t qui...   \n1                   I find it so extremely frustrating.   \n2      The author is disappointed and frustrated abo...   \n3      Used to getting shouted out from car windows ...   \n4                      It was creepy and uncomfortable.   \n...                                                 ...   \n1763  Most of us are female and would have loved to ...   \n1764   I'm getting paid $5,000 a year less than my m...   \n1765   Writer looking at the boss with a displeasing...   \n1766   Feeling uncomfortable when called a \"lady\"  F...   \n1767  The everyday sexism begins! Photographer says ...   \n\n                                     Action in response  \\\n0      I went to speak with my manager.  She confirm...   \n1                      I called out the blatant sexism.   \n2      The author is considering writing a letter to...   \n3      Listening to the opinions of others  Watching...   \n4     I never felt ok to point out how it made me fe...   \n...                                                 ...   \n1763  It's a small thing but most of us are female a...   \n1764   I attended college for four years while my co...   \n1765   Writer reporting the incident to the next man...   \n1766   Not using make-up except for clear chapstick ...   \n1767   I have to deal with this but my husband doesn’t.   \n\n                                 Inappropriate response  \\\n0      She told me to just “ignore it and don’t get ...   \n1      He continued to retaliate, calling my tone co...   \n2      The author does not believe that calling girl...   \n3      Laughing at the Everyday Sexism Project talk ...   \n4     They may have thought they were being nice, or...   \n...                                                 ...   \n1763                                                NaN   \n1764   I'm getting paid $5,000 a year less than my m...   \n1765   Boss making a comment about the writer's coll...   \n1766   Not sure if there is an inappropriate respons...   \n1767  If he was a feminist he should know better tha...   \n\n                                       Long term impact  \\\n0      Even when I think about it now, it makes me e...   \n1                      We have our work cut out for us.   \n2      The author believes that the leaflet's gender...   \n3      Being used to daily sexism  Feeling frustrate...   \n4     I never felt ok to point out how it made me fe...   \n...                                                 ...   \n1763                                                NaN   \n1764   I'm getting paid $5,000 a year less than my m...   \n1765    Writer feeling like they need to find a new job   \n1766   Feeling unhappy with being shoved into the \"l...   \n1767  I have a feeling that I’m going to encounter t...   \n\n                                       Parties involved  \n0      The man in his late 50s/early 60s who made th...  \n1      The man that disagreed and called my remarks ...  \n2      The author, who is a young woman living in th...  \n3      The writer (as a 16 year old girl)  Strangers...  \n4     At least two middle-aged men often would touch...  \n...                                                 ...  \n1763                executives, who are all white males  \n1764   I'm getting paid $5,000 a year less than my m...  \n1765   Boss  Male colleague on the phone  Next manag...  \n1766   The writer  Men who talk over the writer when...  \n1767                    Photographer, my husband and I.  \n\n[1768 rows x 7 columns]\n",
          "output_type": "stream"
        }
      ],
      "execution_count": null,
      "block_group": "b2f245bf661149b79768df1e4a726f87"
    },
    {
      "cell_type": "code",
      "source": "range(len(df))",
      "metadata": {
        "source_hash": null,
        "execution_start": 1699312950766,
        "execution_millis": 15,
        "deepnote_to_be_reexecuted": true,
        "cell_id": "e84e7c4fc4974fcbb7b3c0c6feeb1df0",
        "deepnote_cell_type": "code"
      },
      "outputs": [
        {
          "output_type": "execute_result",
          "execution_count": 12,
          "data": {
            "text/plain": "range(0, 1768)"
          },
          "metadata": {}
        }
      ],
      "execution_count": null,
      "block_group": "1fb7bbbe3c59446687f7ac0d4e22082c"
    },
    {
      "cell_type": "markdown",
      "source": "<a style='text-decoration:none;line-height:16px;display:flex;color:#5B5B62;padding:10px;justify-content:end;' href='https://deepnote.com?utm_source=created-in-deepnote-cell&projectId=917cfa1e-fc4b-456b-88ba-8d98b355a266' target=\"_blank\">\n<img alt='Created in deepnote.com' style='display:inline;max-height:16px;margin:0px;margin-right:7.5px;' src='data:image/svg+xml;base64,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' > </img>\nCreated in <span style='font-weight:600;margin-left:4px;'>Deepnote</span></a>",
      "metadata": {
        "created_in_deepnote_cell": true,
        "deepnote_cell_type": "markdown"
      }
    }
  ],
  "nbformat": 4,
  "nbformat_minor": 0,
  "metadata": {
    "deepnote": {},
    "orig_nbformat": 2,
    "deepnote_full_width": false,
    "deepnote_notebook_id": "d6181924f26047e1ab679c6136a5dee5",
    "deepnote_persisted_session": {
      "createdAt": "2023-11-13T20:01:53.006Z"
    },
    "deepnote_execution_queue": []
  }
}