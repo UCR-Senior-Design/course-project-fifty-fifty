{
  "cells": [
    {
      "cell_type": "code",
      "source": "import pandas as pd",
      "metadata": {
        "source_hash": "9b82ee11",
        "execution_start": 1700264329601,
        "execution_millis": 10,
        "deepnote_to_be_reexecuted": false,
        "cell_id": "02a8102e7c254d0babb4313efd3eafc7",
        "deepnote_cell_type": "code"
      },
      "outputs": [],
      "execution_count": 1,
      "block_group": "01c52cf943774e1c87f63d0decc177b7"
    },
    {
      "cell_type": "code",
      "source": "dataset = pd.read_csv(\"/work/course_project_fifty_fifty/DatasetFinal.csv\") \ndf = dataset.copy()",
      "metadata": {
        "source_hash": "fecb48d8",
        "execution_start": 1700264329602,
        "execution_millis": 255,
        "deepnote_to_be_reexecuted": false,
        "cell_id": "3facee6f27294151b2a17eddfc5ac6b9",
        "deepnote_cell_type": "code"
      },
      "outputs": [],
      "execution_count": 2,
      "block_group": "3facee6f27294151b2a17eddfc5ac6b9"
    },
    {
      "cell_type": "code",
      "source": "dataset.head(20)",
      "metadata": {
        "source_hash": "88e27a67",
        "execution_start": 1700264329869,
        "execution_millis": 74,
        "deepnote_table_state": {
          "sortBy": [],
          "filters": [],
          "pageSize": 100,
          "pageIndex": 0
        },
        "deepnote_table_loading": false,
        "deepnote_to_be_reexecuted": false,
        "cell_id": "81ff8ad00cf14834994eb5a35de53778",
        "deepnote_cell_type": "code"
      },
      "outputs": [
        {
          "output_type": "execute_result",
          "execution_count": 3,
          "data": {
            "application/vnd.deepnote.dataframe.v3+json": {
              "column_count": 7,
              "row_count": 20,
              "columns": [
                {
                  "name": "Input",
                  "dtype": "object",
                  "stats": {
                    "unique_count": 20,
                    "nan_count": 0,
                    "categories": [
                      {
                        "name": "When I was 17, I worked in a clothing store that sold both mens and womens clothing, as well as some unisex items. I was working overtime in the evening, around 8.30pm during the winter so it was already dark. I was by myself on the shop floor as my manager was cashing up in the stock room, when a man in his late 50s/early 60s came in and started asking about the winter boots we had on special offer. We kept all of the stock below the display table, so I knelt on the floor to find his size when he said �Whilst you�re down there, why don�t you take one for the team?�. As I was quite a naive 17 year old, I didn�t quite understand, so I just awkwardly smiled and ignored it. After he bought the boots and left, I went to speak with my manager. She confirmed that he was actually insinuating I gave him a blowjob, I was shocked and quite upset! She told me to just �ignore it and don�t get upset by it�! Even when I think about it now, it makes me extremely uncomfortable. ",
                        "count": 1
                      },
                      {
                        "name": "I left my job to return for a PhD with an intention of developing expertise in my field and preventing encounters with men who label me �ignorant� or hint to my own incompetence. Part of my PhD requires public engagement via social media. In one such recent Twitter encounter, I stated my opinion and backed it up with facts. A man that disagreed then proceeded to lash out, calling my remarks �effete� and �ignorant.� I called out the blatant sexism, for which he continued to retaliate, calling my tone condescending. This is such a nasty cycle and I find it so extremely frustrating�if we sit back, it happens more. And if we speak up, sexism intensifies. We have our work cut out for us. ",
                        "count": 1
                      },
                      {
                        "name": "18 others",
                        "count": 18
                      }
                    ]
                  }
                },
                {
                  "name": "Situation",
                  "dtype": "object",
                  "stats": {
                    "unique_count": 20,
                    "nan_count": 0,
                    "categories": [
                      {
                        "name": "* When I was 17, I worked in a clothing store that sold both mens and womens clothing, as well as some unisex items.\n* I was working overtime in the evening, around 8.30pm during the winter so it was already dark.\n* I was by myself on the shop floor as my manager was cashing up in the stock room, when a man in his late 50s/early 60s came in and started asking about the winter boots we had on special offer.\n* We kept all of the stock below the display table, so I knelt on the floor to find his size when he said “Whilst you’re down there, why don’t you take one for the team?”",
                        "count": 1
                      },
                      {
                        "name": "* I left my job to return for a PhD with an intention of developing expertise in my field and preventing encounters with men who label me �ignorant� or hint to my own incompetence.\n* Part of my PhD requires public engagement via social media.\n* In one such recent Twitter encounter, I stated my opinion and backed it up with facts.\n* A man that disagreed then proceeded to lash out, calling my remarks �effete� and �ignorant.�\n* I called out the blatant sexism, for which he continued to retaliate, calling my tone condescending.",
                        "count": 1
                      },
                      {
                        "name": "18 others",
                        "count": 18
                      }
                    ]
                  }
                },
                {
                  "name": "Feelings",
                  "dtype": "object",
                  "stats": {
                    "unique_count": 20,
                    "nan_count": 0,
                    "categories": [
                      {
                        "name": "* I was quite a naive 17 year old, I didn’t quite understand, so I just awkwardly smiled and ignored it.\n* I was shocked and quite upset!",
                        "count": 1
                      },
                      {
                        "name": "* I find it so extremely frustrating.",
                        "count": 1
                      },
                      {
                        "name": "18 others",
                        "count": 18
                      }
                    ]
                  }
                },
                {
                  "name": "Action in response",
                  "dtype": "object",
                  "stats": {
                    "unique_count": 20,
                    "nan_count": 0,
                    "categories": [
                      {
                        "name": "* I went to speak with my manager.\n* She confirmed that he was actually insinuating I gave him a blowjob, I was shocked and quite upset!",
                        "count": 1
                      },
                      {
                        "name": "* I called out the blatant sexism.",
                        "count": 1
                      },
                      {
                        "name": "18 others",
                        "count": 18
                      }
                    ]
                  }
                },
                {
                  "name": "Inappropriate response",
                  "dtype": "object",
                  "stats": {
                    "unique_count": 20,
                    "nan_count": 0,
                    "categories": [
                      {
                        "name": "* She told me to just “ignore it and don’t get upset by it”!",
                        "count": 1
                      },
                      {
                        "name": "* He continued to retaliate, calling my tone condescending.",
                        "count": 1
                      },
                      {
                        "name": "18 others",
                        "count": 18
                      }
                    ]
                  }
                },
                {
                  "name": "Long term impact",
                  "dtype": "object",
                  "stats": {
                    "unique_count": 20,
                    "nan_count": 0,
                    "categories": [
                      {
                        "name": "* Even when I think about it now, it makes me extremely uncomfortable.",
                        "count": 1
                      },
                      {
                        "name": "* We have our work cut out for us.",
                        "count": 1
                      },
                      {
                        "name": "18 others",
                        "count": 18
                      }
                    ]
                  }
                },
                {
                  "name": "Parties involved",
                  "dtype": "object",
                  "stats": {
                    "unique_count": 20,
                    "nan_count": 0,
                    "categories": [
                      {
                        "name": "* The man in his late 50s/early 60s who made the inappropriate comment, the 17-year-old employee who was working at the time, and the manager who was cashing up in the stock room.",
                        "count": 1
                      },
                      {
                        "name": "* The man that disagreed and called my remarks �effete� and �ignorant.�\n* I called out the blatant sexism.\n* He continued to retaliate, calling my tone condescending.",
                        "count": 1
                      },
                      {
                        "name": "18 others",
                        "count": 18
                      }
                    ]
                  }
                },
                {
                  "name": "_deepnote_index_column",
                  "dtype": "int64"
                }
              ],
              "rows": [
                {
                  "Input": "When I was 17, I worked in a clothing store that sold both mens and womens clothing, as well as some unisex items. I was working overtime in the evening, around 8.30pm during the winter so it was already dark. I was by myself on the shop floor as my manager was cashing up in the stock room, when a man in his late 50s/early 60s came in and started asking about the winter boots we had on special offer. We kept all of the stock below the display table, so I knelt on the floor to find his size when he said �Whilst you�re down there, why don�t you take one for the team?�. As I was quite a naive 17 year old, I didn�t quite understand, so I just awkwardly smiled and ignored it. After he bought the boots and left, I went to speak with my manager. She confirmed that he was actually insinuating I gave him a blowjob, I was shocked and quite upset! She told me to just �ignore it and don�t get upset by it�! Even when I think about it now, it makes me extremely uncomfortable. ",
                  "Situation": "* When I was 17, I worked in a clothing store that sold both mens and womens clothing, as well as some unisex items.\n* I was working overtime in the evening, around 8.30pm during the winter so it was already dark.\n* I was by myself on the shop floor as my manager was cashing up in the stock room, when a man in his late 50s/early 60s came in and started asking about the winter boots we had on special offer.\n* We kept all of the stock below the display table, so I knelt on the floor to find his size when he said “Whilst you’re down there, why don’t you take one for the team?”",
                  "Feelings": "* I was quite a naive 17 year old, I didn’t quite understand, so I just awkwardly smiled and ignored it.\n* I was shocked and quite upset!",
                  "Action in response": "* I went to speak with my manager.\n* She confirmed that he was actually insinuating I gave him a blowjob, I was shocked and quite upset!",
                  "Inappropriate response": "* She told me to just “ignore it and don’t get upset by it”!",
                  "Long term impact": "* Even when I think about it now, it makes me extremely uncomfortable.",
                  "Parties involved": "* The man in his late 50s/early 60s who made the inappropriate comment, the 17-year-old employee who was working at the time, and the manager who was cashing up in the stock room.",
                  "_deepnote_index_column": 0
                },
                {
                  "Input": "I left my job to return for a PhD with an intention of developing expertise in my field and preventing encounters with men who label me �ignorant� or hint to my own incompetence. Part of my PhD requires public engagement via social media. In one such recent Twitter encounter, I stated my opinion and backed it up with facts. A man that disagreed then proceeded to lash out, calling my remarks �effete� and �ignorant.� I called out the blatant sexism, for which he continued to retaliate, calling my tone condescending. This is such a nasty cycle and I find it so extremely frustrating�if we sit back, it happens more. And if we speak up, sexism intensifies. We have our work cut out for us. ",
                  "Situation": "* I left my job to return for a PhD with an intention of developing expertise in my field and preventing encounters with men who label me �ignorant� or hint to my own incompetence.\n* Part of my PhD requires public engagement via social media.\n* In one such recent Twitter encounter, I stated my opinion and backed it up with facts.\n* A man that disagreed then proceeded to lash out, calling my remarks �effete� and �ignorant.�\n* I called out the blatant sexism, for which he continued to retaliate, calling my tone condescending.",
                  "Feelings": "* I find it so extremely frustrating.",
                  "Action in response": "* I called out the blatant sexism.",
                  "Inappropriate response": "* He continued to retaliate, calling my tone condescending.",
                  "Long term impact": "* We have our work cut out for us.",
                  "Parties involved": "* The man that disagreed and called my remarks �effete� and �ignorant.�\n* I called out the blatant sexism.\n* He continued to retaliate, calling my tone condescending.",
                  "_deepnote_index_column": 1
                },
                {
                  "Input": "A leaflet about �supporting teenagers� in my country published by so called �experienced� psychotherapists contains a lot of pernicious gender stereotypes. The reason why I despair about living in my country is that girls get stereotyped as behaving one way and boys get stereotyped as behaving the opposite way, even when in reality there is a lot of overlap of behaviours between the sexes! In the leaflet, girls are automatically assumed to be �vulnerable� and in need of �empowering�. This is kind of offensive and degrading to many young women who are capable and self sufficient. Some women do not view themselves as �helpless victims�, but instead as highly capable survivors! Calling girls �vulnerable� or fragile doesn�t help them deal with stuff in an adaptive or a resilient way. While it is true that some young women struggle with issues around eating (please don�t use the pathologising words �eating disorder� because it is society�s expectations around food that are disordered, not …",
                  "Situation": "* The leaflet about supporting teenagers in my country contains pernicious gender stereotypes.\n* Girls are automatically assumed to be vulnerable and in need of empowering, while boys are stereotyped as behaving the opposite way.\n* The leaflet calls girls over-conscientious and perfectionistic, while ignoring the fact that many young men also engage in anorexic or bulimic behaviors.\n* The leaflet assumes that girls should be denied the opportunity to excel by people who call them too perfectionistic.\n* The author's grandmother liked to do things thoroughly and properly as part of her job.",
                  "Feelings": "* The author is disappointed and frustrated about living in a country where gender stereotypes are prevalent.\n* The author is offended by the assumption that girls are vulnerable and in need of empowering, and that young women who are capable and self-sufficient do not view themselves as helpless victims.\n* The author is angry that the leaflet ignores the fact that many young men also engage in anorexic or bulimic behaviors.\n* The author is disappointed that some teachers, parents, and \"professionals\" may be envious of young women's achievements and actively discourage their hard work and diligence.",
                  "Action in response": "* The author is considering writing a letter to the editor of the publication that printed the leaflet to express their concerns.\n* The author is advocating for a culture of praise and encouragement for young women who excel in their studies and pursuits.",
                  "Inappropriate response": "* The author does not believe that calling girls too perfectionistic is an inappropriate response, as they believe that aiming for perfection is a valuable goal.",
                  "Long term impact": "* The author believes that the leaflet's gender stereotypes and negative messages about young women's abilities and behaviors can have a long-term impact on their self-esteem and confidence.\n* The author believes that encouraging young women to aim for high standards and do their best can have a positive impact on their future success and achievements.",
                  "Parties involved": "* The author, who is a young woman living in their country.\n* The publication that printed the leaflet, which the author believes is promoting harmful gender stereotypes.\n* The teachers, parents, and \"professionals\" who may be envious of young women's achievements and actively discourage their hard work and diligence.",
                  "_deepnote_index_column": 2
                },
                {
                  "Input": "As a 16 year old girl, I know very well that sexism exists. On pretty much a daily basis, I am shouted out from car windows whilst walking down the street, or approached by strangers whilst out in public, usually by older men. This is something that as a female, you get used to, enough though you shouldn�t have to. One thing I will not get over though, is being told that sexism is not an issue. I take a sociology class at my college, and one of the subjects we cover if feminism. This is something that me and my friends are passionate about, we believe it needs to be talked about in order for things to change. There are however, a number of boys in that class who disagree with feminists and try to tell us everything we say is wrong. I can accept this; everyone is entitled to an opinion and I am willing to listen to anyone�s opinion. Today it reached a point where I can no longer just accept their opinion. As a group, we watched the Everyday Sexism Project talk �CoventGardenWomen�. All …",
                  "Situation": "* Being shouted out from car windows whilst walking down the street\n* Being approached by strangers whilst out in public, usually by older men\n* Being told that sexism is not an issue\n* Being in a sociology class where feminism is discussed\n* Being in a group that watches the Everyday Sexism Project talk\n* Being told that there's no reason for women to feel unsafe whilst walking alone\n* Being told that sexual assault isn't a problem\n* Being told that if it really happened more women would come forward",
                  "Feelings": "* Used to getting shouted out from car windows\n* Not used to being approached by strangers\n* Frustrated that people deny the existence of sexism\n* Passionate about feminism\n* Heartbroken to see insensitivity towards sexual assault\n* Scared of being laughed at or told it's not a big deal\n* Suffering alone because of victim blaming",
                  "Action in response": "* Listening to the opinions of others\n* Watching the Everyday Sexism Project talk\n* Asking for the speech to be turned off\n* Being told to stop complaining",
                  "Inappropriate response": "* Laughing at the Everyday Sexism Project talk\n* Telling the speaker to stop complaining",
                  "Long term impact": "* Being used to daily sexism\n* Feeling frustrated and heartbroken\n* Being scared to speak out\n* Suffering alone",
                  "Parties involved": "* The writer (as a 16 year old girl)\n* Strangers who approach the writer in public\n* Classmates who disagree with feminism\n* The speaker in the Everyday Sexism Project talk\n* The writer's friends who are passionate about feminism",
                  "_deepnote_index_column": 3
                },
                {
                  "Input": "I worked in a doggie daycare for two years as the front desk manager. I saw many of the same clients regularly, day after day. At least two middle-aged men often would touch my shoulder for no reason while we exchanged pleasantries as they dropped off their dogs. They may have thought they were being nice, or friendly, but it was creepy and uncomfortable and as I was in my workplace and my job was to be polite and courteous to all customers I never felt ok to point out how it made me feel or ask them to stop. ",
                  "Situation": "\"I worked in a doggie daycare for two years as the front desk manager.\"",
                  "Feelings": "\"It was creepy and uncomfortable.\"",
                  "Action in response": "\"I never felt ok to point out how it made me feel or ask them to stop.\"",
                  "Inappropriate response": "\"They may have thought they were being nice, or friendly, but it was creepy and uncomfortable.\"",
                  "Long term impact": "\"I never felt ok to point out how it made me feel or ask them to stop.\"",
                  "Parties involved": "\"At least two middle-aged men often would touch my shoulder for no reason while we exchanged pleasantries as they dropped off their dogs.\"",
                  "_deepnote_index_column": 4
                },
                {
                  "Input": "A few months ago my husband�s workplace (in a liberal, northeast state) had an event at a bowling alley, a fundraiser in a series of playful competitions with a rival company. To form bowling teams in anticipation of this event, my husband�s general manager sent out an email to the entire company stating that each bowling team would need �one very skilled player , at least 2 above average players, and a female.� You know, because �females� can�t be �skilled� or �above average� at bowling, obvs. ",
                  "Situation": "The general manager of my husband's workplace sent out an email stating the requirements for forming bowling teams for a fundraiser event, including the requirement for a female player.",
                  "Feelings": "The email's requirement that a female player be included on each bowling team is seen as sexist and discriminatory.",
                  "Action in response": "The author's husband's workplace is hosting a fundraiser event at a bowling alley, and the general manager sent out an email requiring each bowling team to include a female player.",
                  "Inappropriate response": "The email's requirement that a female player be included on each bowling team is seen as sexist and discriminatory.",
                  "Long term impact": "The email's requirement that a female player be included on each bowling team could potentially harm the workplace's reputation and lead to negative publicity.",
                  "Parties involved": "The general manager of my husband's workplace, the employees of the workplace, and the rival company participating in the fundraiser event.",
                  "_deepnote_index_column": 5
                },
                {
                  "Input": "Working in the IT area, I am most of the time the only woman in the office, in my thirties, between men of fifty mostly. With the tempratures coming up and approaching summer, I arrived in the office in a summer appropriate dress, receiving comments all morning. This was nothing comparing to the feedback of a colleague, twenty years older then me, who constantly stalks me around and makes the others believe we are lovers, ocasionally touching me and commenting on my body. This time I told him not to touch me in a polite way. His reaction was quite surprizing � he went to the other colleagues complaining about me to tell him not to touch me, when actually I look so nice � means I should be only flattered. For me, I dont see this to be an excuse to be touched, espacially in an adult management oriented environement. I am afraid of staying with him alone in the office or in the room, and sometimes I preffer to stay home and work from there to actually woork in peace. I constantly think a…",
                  "Situation": "* Working in the IT area, I am most of the time the only woman in the office, in my thirties, between men of fifty mostly.\n* With the temperatures coming up and approaching summer, I arrived in the office in a summer-appropriate dress, receiving comments all morning.\n* This was nothing comparing to the feedback of a colleague, twenty years older than me, who constantly stalks me around and makes the others believe we are lovers, occasionally touching me and commenting on my body.\n* This time I told him not to touch me in a polite way.\n* His reaction was quite surprising – he went to the other colleagues complaining about me to tell him not to touch me, when actually I look so nice – means I should be only flattered.\n* For me, I don’t see this to be an excuse to be touched, especially in an adult management-oriented environment.\n* I am afraid of staying with him alone in the office or in the room, and sometimes I prefer to stay home and work from there to actually work in peace.\n* I co…",
                  "Feelings": "* I am afraid of staying with him alone in the office or in the room, and sometimes I prefer to stay home and work from there to actually work in peace.\n* I constantly think about if I gave him in any way an excuse to behave like that, because I am afraid to break the atmosphere of the office with raising a complaint about it.\n* Every time I tell myself – ok, next time you tell him this is above and HR can be involved.",
                  "Action in response": "* I told him not to touch me in a polite way.\n* His reaction was quite surprising – he went to the other colleagues complaining about me to tell him not to touch me, when actually I look so nice – means I should be only flattered.\n* For me, I don’t see this to be an excuse to be touched, especially in an adult management-oriented environment.\n* I am afraid of staying with him alone in the office or in the room, and sometimes I prefer to stay home and work from there to actually work in peace.\n* I constantly think about if I gave him in any way an excuse to behave like that, because I am afraid to break the atmosphere of the office with raising a complaint about it.\n* Every time I tell myself – ok, next time you tell him this is above and HR can be involved.",
                  "Inappropriate response": "* His reaction was quite surprising – he went to the other colleagues complaining about me to tell him not to touch me, when actually I look so nice – means I should be only flattered.\n* For me, I don’t see this to be an excuse to be touched, especially in an adult management-oriented environment.",
                  "Long term impact": "* This experience just dug out some memories that I thought are already forgotten – that since I was seven years old attending school, boys from my class were touching and kissing me without asking, having fun this way, and the touches continued also when I was at high school, by totally different people.\n* From what I remember from these years, it was just my body being not mine.\n* I believe now in my thirties it’s a big lesson for me to learn to start saying what I don’t like and out loud.",
                  "Parties involved": "* A colleague, twenty years older than me, who constantly stalks me around and makes the others believe we are lovers, occasionally touching me and commenting on my body.\n* The other colleagues who were complaining about me to tell him not to touch me, when actually I look so nice – means I should be only flattered.",
                  "_deepnote_index_column": 6
                },
                {
                  "Input": "I think that sexism is an issue in the UK. This is because women�s pay is significantly lower then men�s which is biased and unfair. We are also described with much more feminine verbs, and also those which describe where we participate and do a lot of teamwork, yet not as much independent. This is also more unfair for us as men are described with more independent, strong and powerful words. In workplaces, a large percentage (52%) of women are sexually harassed, and made to feel extremely vulnerable. In many cases when these situations are reported to their head of work, they are dropped or under-prioritised. ",
                  "Situation": "* Women's pay is significantly lower than men's which is biased and unfair.\n* We are also described with much more feminine verbs, and also those which describe where we participate and do a lot of teamwork, yet not as much independent.\n* In workplaces, a large percentage (52%) of women are sexually harassed, and made to feel extremely vulnerable.",
                  "Feelings": "* I think that sexism is an issue in the UK.\n* This is also more unfair for us as men are described with more independent, strong and powerful words.\n* In many cases when these situations are reported to their head of work, they are dropped or under-prioritised.",
                  "Action in response": "* There is a large percentage of women who are sexually harassed in workplaces.\n* This is an issue that needs to be addressed and dealt with.",
                  "Inappropriate response": "* When these situations are reported to their head of work, they are dropped or under-prioritised.",
                  "Long term impact": "* Women are paid significantly less than men, which can have long-term financial consequences.\n* Women may also experience mental health issues as a result of sexual harassment in the workplace.",
                  "Parties involved": "* Women are affected by sexism and sexual harassment in the workplace.\n* Men may also be affected by the gendered language used to describe them.\n* Employers and heads of work may be responsible for addressing and prioritizing reports of sexual harassment.",
                  "_deepnote_index_column": 7
                },
                {
                  "Input": "My boss has a history of sexually harassing women at my workplace. He is a prominent artist, and most people idolize him without realizing that he is a predator. Every woman in the office has a story. Mine is the many long hugs he gives under the guise of �I am an affectionate guy� and with responses afterwards such as �You really understand what my work is about here�. I have been told on two occasions, �If you want to keep your job, you will take your clothes off for me� to model. My manager was pulled onto his lap and her breasts groped. When she pulled away he said, �What, it is not like I have not felt breasts before�. Recently he sexually assaulted a coworker and it ended in a non-consensual sexual act. He paid her $50,000 and gave her a $13,000 painting to make it go away. I am so angry at her for accepting, for not standing up to him and protecting the rest of us. But this is also not the first time a pay off has happened. It also occurred 6 months ago before this whole new ba…",
                  "Situation": "* My boss has a history of sexually harassing women at my workplace.\n* He is a prominent artist, and most people idolize him without realizing that he is a predator.\n* Every woman in the office has a story.\n* My manager was pulled onto his lap and her breasts groped.\n* Recently he sexually assaulted a coworker and it ended in a non-consensual sexual act.\n* He paid her $50,000 and gave her a $13,000 painting to make it go away.\n* We are in North Carolina and working in a company of less than 15 employees.\n* Federal sexual harassment laws do not protect us in the same way, and there is very little we can do.",
                  "Feelings": "* I am so angry at her for accepting, for not standing up to him and protecting the rest of us.\n* But this is also not the first time a pay off has happened.\n* It also occurred 6 months ago before this whole new batch of employees was hired?\n* But we are in North Carolina and working in a company of less than 15 employees.\n* Federal sexual harassment laws do not protect us in the same way, and there is very little we can do.",
                  "Action in response": "* I have been told on two occasions, �If you want to keep your job, you will take your clothes off for me� to model.\n* I want to make something happen, but how?",
                  "Inappropriate response": "* When she pulled away he said, �What, it is not like I have not felt breasts before�.\n* He paid her $50,000 and gave her a $13,000 painting to make it go away.",
                  "Long term impact": "* The company has a 95% turnover over the last 6 years since it began?",
                  "Parties involved": "* My boss has a history of sexually harassing women at my workplace.\n* He is a prominent artist, and most people idolize him without realizing that he is a predator.\n* Every woman in the office has a story.\n* My manager was pulled onto his lap and her breasts groped.\n* Recently he sexually assaulted a coworker and it ended in a non-consensual sexual act.\n* He paid her $50,000 and gave her a $13,000 painting to make it go away.\n* We are in North Carolina and working in a company of less than 15 employees.\n* Federal sexual harassment laws do not protect us in the same way, and there is very little we can do.",
                  "_deepnote_index_column": 8
                },
                {
                  "Input": "Over the last year I have noticed sexism from other women which, before it happened, had never crossed my mind. This particular realisation related to other women�s perception of assertive behaviour in the workplace. It seems that it is acceptable for men to be assertive � their thoughts delivered in whichever way they choose � but when women are �assertive� in the same way ( using the same words, the same tone of voice, similar body language) they are labelled aggressive; not by other men, but by other women. ",
                  "Situation": "\"Over the last year I have noticed sexism from other women which, before it happened, had never crossed my mind.\"",
                  "Feelings": "\"This particular realisation related to other women�s perception of assertive behaviour in the workplace. It seems that it is acceptable for men to be assertive � their thoughts delivered in whichever way they choose � but when women are �assertive� in the same way ( using the same words, the same tone of voice, similar body language) they are labelled aggressive; not by other men, but by other women.\"",
                  "Action in response": "\"I have noticed sexism from other women which, before it happened, had never crossed my mind.\"",
                  "Inappropriate response": "\"It seems that it is acceptable for men to be assertive � their thoughts delivered in whichever way they choose � but when women are �assertive� in the same way ( using the same words, the same tone of voice, similar body language) they are labelled aggressive; not by other men, but by other women.\"",
                  "Long term impact": "\"This particular realisation related to other women�s perception of assertive behaviour in the workplace. It seems that it is acceptable for men to be assertive � their thoughts delivered in whichever way they choose � but when women are �assertive� in the same way ( using the same words, the same tone of voice, similar body language) they are labelled aggressive; not by other men, but by other women.\"",
                  "Parties involved": "\"Over the last year I have noticed sexism from other women which, before it happened, had never crossed my mind.\"",
                  "_deepnote_index_column": 9
                },
                {
                  "Input": "I�m a social worker. I�m also 26, female and have visible disabilities. In my role, we have our work overseen by a independent reviewing officer. He was older, white and male. In the course of three months, he proceeded to reduce me to tears twice because of vicious, personal attacks, threaten to refer me to the registration body three times, pin me in a corner, tell me I should have mental health counselling and tell my manager that i had failed to do a critical part of my job for six months (he was lying). When I finally went to his manager, he decided to tell my entire department about how my stress and poor mental health is leading me to make wild accusations. The best my team manager could get was that his contract wasn�t renewed � and so he moves on to another workplace to traumatise another woman. ",
                  "Situation": "* I'm a social worker.\n* I'm also 26, female and have visible disabilities.\n* In my role, we have our work overseen by a independent reviewing officer.\n* He was older, white and male.\n* In the course of three months, he proceeded to reduce me to tears twice because of vicious, personal attacks.\n* Threaten to refer me to the registration body three times.\n* Pin me in a corner.\n* Tell me I should have mental health counselling.\n* Tell my manager that i had failed to do a critical part of my job for six months (he was lying).\n* When I finally went to his manager, he decided to tell my entire department about how my stress and poor mental health is leading me to make wild accusations.\n* The best my team manager could get was that his contract wasn't renewed.",
                  "Feelings": "* In the course of three months, he proceeded to reduce me to tears twice because of vicious, personal attacks.\n* Threaten to refer me to the registration body three times.\n* Pin me in a corner.\n* Tell me I should have mental health counselling.\n* Tell my manager that i had failed to do a critical part of my job for six months (he was lying).\n* When I finally went to his manager, he decided to tell my entire department about how my stress and poor mental health is leading me to make wild accusations.\n* The best my team manager could get was that his contract wasn't renewed.",
                  "Action in response": "* In the course of three months, he proceeded to reduce me to tears twice because of vicious, personal attacks.\n* Threaten to refer me to the registration body three times.\n* Pin me in a corner.\n* Tell me I should have mental health counselling.\n* Tell my manager that i had failed to do a critical part of my job for six months (he was lying).\n* When I finally went to his manager, he decided to tell my entire department about how my stress and poor mental health is leading me to make wild accusations.\n* The best my team manager could get was that his contract wasn't renewed.",
                  "Inappropriate response": "* He was older, white and male.\n* In the course of three months, he proceeded to reduce me to tears twice because of vicious, personal attacks.\n* Threaten to refer me to the registration body three times.\n* Pin me in a corner.\n* Tell me I should have mental health counselling.\n* Tell my manager that i had failed to do a critical part of my job for six months (he was lying).\n* When I finally went to his manager, he decided to tell my entire department about how my stress and poor mental health is leading me to make wild accusations.\n* The best my team manager could get was that his contract wasn't renewed.",
                  "Long term impact": "* He was older, white and male.\n* In the course of three months, he proceeded to reduce me to tears twice because of vicious, personal attacks.\n* Threaten to refer me to the registration body three times.\n* Pin me in a corner.\n* Tell me I should have mental health counselling.\n* Tell my manager that i had failed to do a critical part of my job for six months (he was lying).\n* When I finally went to his manager, he decided to tell my entire department about how my stress and poor mental health is leading me to make wild accusations.\n* The best my team manager could get was that his contract wasn't renewed.",
                  "Parties involved": "* I'm a social worker.\n* I'm also 26, female and have visible disabilities.\n* In my role, we have our work overseen by a independent reviewing officer.\n* He was older, white and male.\n* In the course of three months, he proceeded to reduce me to tears twice because of vicious, personal attacks.\n* Threaten to refer me to the registration body three times.\n* Pin me in a corner.\n* Tell me I should have mental health counselling.\n* Tell my manager that i had failed to do a critical part of my job for six months (he was lying).\n* When I finally went to his manager, he decided to tell my entire department about how my stress and poor mental health is leading me to make wild accusations.\n* The best my team manager could get was that his contract wasn",
                  "_deepnote_index_column": 10
                },
                {
                  "Input": "A male colleague, who is very �huggy�, has started asking me �where�s my kiss?� whenever I see him. ",
                  "Situation": "\"A male colleague, who is very 'huggy', has started asking me 'where's my kiss?'\"",
                  "Feelings": "\"I feel uncomfortable and confused by his behavior.\"",
                  "Action in response": "\"I have not responded to his advances and have tried to avoid him.\"",
                  "Inappropriate response": "\"I have not done anything inappropriate in response to his behavior.\"",
                  "Long term impact": "\"I am concerned about the long-term impact of his behavior on our working relationship.\"",
                  "Parties involved": "\"I and my male colleague are the parties involved in this situation.\"",
                  "_deepnote_index_column": 11
                },
                {
                  "Input": "In a meeting today�17 men and 4 women. 10 of us were visiting so didn�t know where everything was. During a break, the project manager, who was on my team, said �I�d love a coffee� then turned round to me and said �Is that possible?�. I said yes, there�s a kitchen out there. Firmly staying in my seat. But another bloke, who�s office it was, asked one of the women who also worked there, to get the coffee. There were 7 other men in that room who worked there. They weren�t asked. ",
                  "Situation": "\"In a meeting today�17 men and 4 women. 10 of us were visiting so didn�t know where everything was.\"",
                  "Feelings": "\"During a break, the project manager, who was on my team, said �I�d love a coffee� then turned round to me and said �Is that possible?�. I said yes, there�s a kitchen out there. Firmly staying in my seat.\"",
                  "Action in response": "\"But another bloke, who�s office it was, asked one of the women who also worked there, to get the coffee.\"",
                  "Inappropriate response": "\"There were 7 other men in that room who worked there. They weren't asked.\"",
                  "Long term impact": "\"I�m sure this will make me feel less valued as a woman in the workplace.\"",
                  "Parties involved": "\"17 men and 4 women. 10 of us were visiting so didn't know where everything was. During a break, the project manager, who was on my team, said �I�d love a coffee� then turned round to me and said �Is that possible?�. I said yes, there�s a kitchen out there. But another bloke, who�s office it was, asked one of the women who also worked there, to get the coffee. There were 7 other men in that room who worked there. They weren't asked.\"",
                  "_deepnote_index_column": 12
                },
                {
                  "Input": "Today, they brought in a pretty face to distract the clients while negotiating the terms of a multi-million dollar contract. The contract manager told my manager who told me. My manager had question why this woman was apart of it as she has zero qualifications and she is no longer employed with us. This pretty face hasn�t worked for our company since her temporary position ended a year ago. She was only there to cover a maternity leave for our administrative assistant. Our company has had this contract for over 30 years. The expansion project our client is planning is going to result in major growth for our own company. We have an excellent relationship with them and the bid for the contract has been tailor made for us to win it. To lose this contract would be a major blow to the company and maybe it has the Executives desperate, I don�t know. I do know this woman wears short skirts, giggles lots, flirts endlessly and enjoys the attention all the men at work give her. She started dati…",
                  "Situation": "* They brought in a pretty face to distract the clients while negotiating the terms of a multi-million dollar contract.\n* The contract manager told my manager who told me.\n* My manager had question why this woman was apart of it as she has zero qualifications and she is no longer employed with us.\n* This pretty face hasn’t worked for our company since her temporary position ended a year ago.\n* She was only there to cover a maternity leave for our administrative assistant.\n* Our company has had this contract for over 30 years.\n* The expansion project our client is planning is going to result in major growth for our own company.\n* We have an excellent relationship with them and the bid for the contract has been tailor made for us to win it.\n* To lose this contract would be a major blow to the company and maybe it has the Executives desperate, I don’t know.\n* I do know this woman wears short skirts, giggles lots, flirts endlessly and enjoys the attention all the men at work give her.\n* S…",
                  "Feelings": "* I am going to the HR department with a letter.\n* I am scared out of my wits.\n* My husband is acting more outraged than I.\n* He’s standing with me and encouraging me to see this through.\n* He gives me hope and shows me what is possible.",
                  "Action in response": "* I am going to speak up.\n* I am taking a stand and I am scared out of my wits.",
                  "Inappropriate response": "* This pretty face hasn’t worked for our company since her temporary position ended a year ago.\n* She started dating one of the managers, 30 years her senior, before she terminated her employment with us.",
                  "Long term impact": "* To lose this contract would be a major blow to the company and maybe it has the Executives desperate, I don’t know.\n* This behavior is no longer going to be tolerated.",
                  "Parties involved": "* They brought in a pretty face to distract the clients while negotiating the terms of a multi-million dollar contract.\n* The contract manager told my manager who told me.\n* My manager had question why this woman was apart of it as she has zero qualifications and she is no longer employed with us.\n* This pretty face hasn’t worked for our company since her temporary position ended a year ago.\n* She was only there to cover a maternity leave for our administrative assistant.\n* Our company has had this contract for over 30 years.\n* The expansion project our client is planning is going to result in major growth for our own company.\n* We have an excellent relationship with them and the bid for the contract has been tailor made for us to win it.\n* This woman wears short skirts, giggles lots, flirts endlessly and enjoys the attention all the men at work give her.\n* She started dating one of the managers, 30 years her senior, before she terminated her employment with us.\n* My coworker is going…",
                  "_deepnote_index_column": 13
                },
                {
                  "Input": "I work in a nightclub as the door girl (collecting money, letting people into the club). Men feel/think they have the right to touch my body and then get angry when I fight back ",
                  "Situation": "\"I work in a nightclub as the door girl (collecting money, letting people into the club).\"",
                  "Feelings": "\"Men feel/think they have the right to touch my body and then get angry when I fight back.\"",
                  "Action in response": "\"I fight back.\"",
                  "Inappropriate response": "\"Men feel/think they have the right to touch my body and then get angry when I fight back.\"",
                  "Long term impact": "\"I work in a nightclub as the door girl (collecting money, letting people into the club).\"",
                  "Parties involved": "\"Men feel/think they have the right to touch my body and then get angry when I fight back.\"",
                  "_deepnote_index_column": 14
                },
                {
                  "Input": "I was sexually assaulted by a man at my workplace, a large hospital. He was a contractor, there to supervise the installation of new HVAC equipment. From the very first day of his time at my workplace, he did inappropriate things to me. When I was sent to his office to set up his computer, he put his hands on my shoulders and began massaging in a suggestive manner. I told him to stop and left his office. About a week later, I was in Medical Imaging, installing another computer. He was walking toward me with one of the men from Building Maintenance. As soon as he saw me, he began talking loudly to the other man about how �cute� I was, how he was going to ask me out, how much he wanted to get me into his bedroom. The other guy looked mortified but said nothing. I pretended that I had not heard him and carried on with my work. Not long after that, I was up pulling new data cables in a vacant area that was being transitioned from an outdated patient care area to office space. He was cutti…",
                  "Situation": "* He was a contractor, there to supervise the installation of new HVAC equipment.\n* From the very first day of his time at my workplace, he did inappropriate things to me.\n* He was walking toward me with one of the men from Building Maintenance.\n* He grabbed my wrist and yanked me toward him, causing my body to collide with his.\n* He then used his other hand to grope my breasts and buttocks.\n* He still had my right wrist in his grip and would not let go despite me fighting to get free.\n* He then leaned in even closer and said “Women are supposed to like it when a man wants them!”",
                  "Feelings": "* I told him to stop and left his office.\n* I pretended that I had not heard him and carried on with my work.\n* I shrieked right into his ear, which startled him into letting go of me.\n* I remained there for about half an hour before racing back to my department.\n* The next morning, I complained to HR.",
                  "Action in response": "* I told him to stop and left his office.\n* I pretended that I had not heard him and carried on with my work.\n* I shrieked right into his ear, which startled him into letting go of me.\n* I remained there for about half an hour before racing back to my department.\n* The next morning, I complained to HR.",
                  "Inappropriate response": "* He began talking loudly to the other man about how “cute” I was, how he was going to ask me out, how much he wanted to get me into his bedroom.\n* He grabbed my wrist and yanked me toward him, causing my body to collide with his.\n* He then used his other hand to grope my breasts and buttocks.\n* He still had my right wrist in his grip and would not let go despite me fighting to get free.\n* He then leaned in even closer and said “Women are supposed to like it when a man wants them!”",
                  "Long term impact": "* This, in addition to a few other problems, were why I ended up burning out and leaving that entire career.",
                  "Parties involved": "* He was a contractor, there to supervise the installation of new HVAC equipment.\n* He was walking toward me with one of the men from Building Maintenance.\n* He grabbed my wrist and yanked me toward him, causing my body to collide with his.\n* He still had my right wrist in his grip and would not let go despite me fighting to get free.\n* He then leaned in even closer and said “Women are supposed to like it when a man wants them!”",
                  "_deepnote_index_column": 15
                },
                {
                  "Input": "Myself and my colleagues were getting ready to leave our workplace. I was checking my phone, waiting for us to leave. One of my colleagues had to walk past me to get to his coat. As he passed me, he quietly said �You ain�t got no secrets in those trousers, girl�. I turned around and asked him what he�s just said, but he ignored me and carried on putting on his coat. The others didn�t hear. ",
                  "Situation": "\"Myself and my colleagues were getting ready to leave our workplace.\"",
                  "Feelings": "\"I was checking my phone, waiting for us to leave.\"",
                  "Action in response": "\"I turned around and asked him what he�s just said, but he ignored me and carried on putting on his coat.\"",
                  "Inappropriate response": "\"One of my colleagues had to walk past me to get to his coat. As he passed me, he quietly said �You ain�t got no secrets in those trousers, girl�.\"",
                  "Long term impact": "\"The others didn't hear.\"",
                  "Parties involved": "\"myself and my colleagues\"",
                  "_deepnote_index_column": 16
                },
                {
                  "Input": "While I�ve experienced lots of sexism over the years (I was once catcalled when walking home in a black dress. I was on my way home from a FUNERAL), I feel I�ve been relatively lucky not to experience that much sexism in the workplace. Don�t get me wrong, there have been a few instances where I�ve felt uncomfortable, but nothing overt. I�ve always worked in organisations with a social conscience and an ethos of equality, so things have been broadly fair � I�m well respected and my gender hasn�t really been an issue. That said, my entire exec team are men, so there�s probably a problem there somewhere. However, in my spare time, I�m on a board of a small charity. We�ve recently appointed a treasurer as we were missing that skill set. The man we�ve gone for is excellent at his job. He�s in his 60s and has recently retired from a big global company, where he was a senior accountant. During his first meeting, he spoke exclusively to the men in the room and didn�t even look at the women. I…",
                  "Situation": "* While I�ve experienced lots of sexism over the years (I was once catcalled when walking home in a black dress. I was on my way home from a FUNERAL), I feel I�ve been relatively lucky not to experience that much sexism in the workplace.\n* I�ve always worked in organisations with a social conscience and an ethos of equality, so things have been broadly fair � I�m well respected and my gender hasn�t really been an issue.\n* However, in my spare time, I�m on a board of a small charity.\n* We�ve recently appointed a treasurer as we were missing that skill set.\n* The man we�ve gone for is excellent at his job. He�s in his 60s and has recently retired from a big global company, where he was a senior accountant.\n* During his first meeting, he spoke exclusively to the men in the room and didn�t even look at the women.\n* At subsequent meetings though, it�s become clear that he has a real ingrained but subtle sexism.\n* He talks over the women in the room. If he�s challenged on,any of his ideas, …",
                  "Feelings": "* I feel I�ve been relatively lucky not to experience that much sexism in the workplace.\n* I�ve always worked in organisations with a social conscience and an ethos of equality, so things have been broadly fair � I�m well respected and my gender hasn�t really been an issue.\n* However, in my spare time, I�m on a board of a small charity. We�ve recently appointed a treasurer as we were missing that skill set. The man we�ve gone for is excellent at his job. He�s in his 60s and has recently retired from a big global company, where he was a senior accountant. During his first meeting, he spoke exclusively to the men in the room and didn�t even look at the women. At subsequent meetings though, it�s become clear that he has a real ingrained but subtle sexism. He talks over the women in the room. If he�s challenged on,any of his ideas, he doesn�t speak directly to the woman who has challenged him, but instead to the men. And for the first time ever in my professional life, I�ve seen that hide…",
                  "Action in response": "* I�ve not challenged him directly as I�m not sure he even knows he�s doing it. And I�m reluctant to speak to the chair or chief executive for fear that they�ll say I�m too sensitive.\n* I�m trying to deal with it by being an extra good board member. By speaking up more and showing what I can do.",
                  "Inappropriate response": "* He talks over the women in the room. If he�s challenged on,any of his ideas, he doesn�t speak directly to the woman who has challenged him, but instead to the men.\n* And for the first time ever in my professional life, I�ve seen that hideous thing whereby a woman makes a point, he repeats exactly the same thing and gets the plaudits.",
                  "Long term impact": "* It just shows again that a woman has to do more than a man to be taken seriously.",
                  "Parties involved": "* The man we�ve gone for is excellent at his job. He�s in his 60s and has recently retired from a big global company, where he was a senior accountant. During his first meeting, he spoke exclusively to the men in the room and didn't even look at the women. At subsequent meetings though, it�s become clear that he has a real ingrained but subtle sexism. He talks over the women in the room. If he�s challenged on,any of his ideas, he doesn�t speak directly to the",
                  "_deepnote_index_column": 17
                },
                {
                  "Input": "I went to a job interview yesterday. I was applying for a waitressing job. The male interviewer greeted me and introduced himself etc� One of his first questions to me was �Are you single?� � I mean really� Is that relevant in a job interview? The conversation then proceeded as follows: Me: �Umm.. why?� Him: �Because girls like you can cause problems � I don�t want my staff screwing about or screwing each other� (Girls like you � the man doesn�t know me) Me: �Well I have a boyfriend so -� (I was too stunned to even think really) Him: �Good, that�s good. Because the guys here would be all over you if you didn�t � actually it might not matter that you have a boyfriend anyway� Then he swiftly moved on to the next topic. I couldn�t tell if he was joking � but even if he was it is not acceptable to ask anything like that in an interview or make a girl feel that the workplace is full of predatory men and her their prey. I left the interview almost in tears. No man would be asked that questi…",
                  "Situation": "\"I went to a job interview yesterday. I was applying for a waitressing job.\"",
                  "Feelings": "\"I was too stunned to even think really\"",
                  "Action in response": "\"I left the interview almost in tears.\"",
                  "Inappropriate response": "\"Are you single? Because girls like you can cause problems. I don't want my staff screwing about or screwing each other.\"",
                  "Long term impact": "\"I left the interview almost in tears. No man would be asked that question or told that.\"",
                  "Parties involved": "\"The male interviewer greeted me and introduced himself etc.\"",
                  "_deepnote_index_column": 18
                },
                {
                  "Input": "My manager with whom I�d worked closely for more than a year got drunk at a party and told me that I looked so pretty that he�d wanted to kiss me on my cheek. I felt so ashamed and embarrassed. Here was a guy a decade older me, someone who I�d looked up to. Though he apologized later, I still can�t look him in the eyes. ",
                  "Situation": "\"My manager with whom I�d worked closely for more than a year got drunk at a party and told me that I looked so pretty that he�d wanted to kiss me on my cheek.\"",
                  "Feelings": "\"I felt so ashamed and embarrassed.\"",
                  "Action in response": "\"Here was a guy a decade older me, someone who I�d looked up to. Though he apologized later, I still can�t look him in the eyes.\"",
                  "Inappropriate response": "\"He told me that I looked so pretty that he�d wanted to kiss me on my cheek.\"",
                  "Long term impact": "\"I still can�t look him in the eyes.\"",
                  "Parties involved": "\"a party and told me that I looked so pretty that he�d wanted to kiss me on my cheek.\"",
                  "_deepnote_index_column": 19
                }
              ]
            },
            "text/plain": "                                                Input  \\\n0   When I was 17, I worked in a clothing store th...   \n1   I left my job to return for a PhD with an inte...   \n2   A leaflet about �supporting teenagers� in my c...   \n3   As a 16 year old girl, I know very well that s...   \n4   I worked in a doggie daycare for two years as ...   \n5   A few months ago my husband�s workplace (in a ...   \n6   Working in the IT area, I am most of the time ...   \n7   I think that sexism is an issue in the UK. Thi...   \n8   My boss has a history of sexually harassing wo...   \n9   Over the last year I have noticed sexism from ...   \n10  I�m a social worker. I�m also 26, female and h...   \n11  A male colleague, who is very �huggy�, has sta...   \n12  In a meeting today�17 men and 4 women. 10 of u...   \n13  Today, they brought in a pretty face to distra...   \n14  I work in a nightclub as the door girl (collec...   \n15  I was sexually assaulted by a man at my workpl...   \n16  Myself and my colleagues were getting ready to...   \n17  While I�ve experienced lots of sexism over the...   \n18  I went to a job interview yesterday. I was app...   \n19  My manager with whom I�d worked closely for mo...   \n\n                                            Situation  \\\n0   * When I was 17, I worked in a clothing store ...   \n1   * I left my job to return for a PhD with an in...   \n2   * The leaflet about supporting teenagers in my...   \n3   * Being shouted out from car windows whilst wa...   \n4   \"I worked in a doggie daycare for two years as...   \n5   The general manager of my husband's workplace ...   \n6   * Working in the IT area, I am most of the tim...   \n7   * Women's pay is significantly lower than men'...   \n8   * My boss has a history of sexually harassing ...   \n9   \"Over the last year I have noticed sexism from...   \n10  * I'm a social worker.\\n* I'm also 26, female ...   \n11  \"A male colleague, who is very 'huggy', has st...   \n12  \"In a meeting today�17 men and 4 women. 10 of ...   \n13  * They brought in a pretty face to distract th...   \n14  \"I work in a nightclub as the door girl (colle...   \n15  * He was a contractor, there to supervise the ...   \n16  \"Myself and my colleagues were getting ready t...   \n17  * While I�ve experienced lots of sexism over t...   \n18  \"I went to a job interview yesterday. I was ap...   \n19  \"My manager with whom I�d worked closely for m...   \n\n                                             Feelings  \\\n0   * I was quite a naive 17 year old, I didn’t qu...   \n1               * I find it so extremely frustrating.   \n2   * The author is disappointed and frustrated ab...   \n3   * Used to getting shouted out from car windows...   \n4                  \"It was creepy and uncomfortable.\"   \n5   The email's requirement that a female player b...   \n6   * I am afraid of staying with him alone in the...   \n7   * I think that sexism is an issue in the UK.\\n...   \n8   * I am so angry at her for accepting, for not ...   \n9   \"This particular realisation related to other ...   \n10  * In the course of three months, he proceeded ...   \n11  \"I feel uncomfortable and confused by his beha...   \n12  \"During a break, the project manager, who was ...   \n13  * I am going to the HR department with a lette...   \n14  \"Men feel/think they have the right to touch m...   \n15  * I told him to stop and left his office.\\n* I...   \n16  \"I was checking my phone, waiting for us to le...   \n17  * I feel I�ve been relatively lucky not to exp...   \n18           \"I was too stunned to even think really\"   \n19               \"I felt so ashamed and embarrassed.\"   \n\n                                   Action in response  \\\n0   * I went to speak with my manager.\\n* She conf...   \n1                  * I called out the blatant sexism.   \n2   * The author is considering writing a letter t...   \n3   * Listening to the opinions of others\\n* Watch...   \n4   \"I never felt ok to point out how it made me f...   \n5   The author's husband's workplace is hosting a ...   \n6   * I told him not to touch me in a polite way.\\...   \n7   * There is a large percentage of women who are...   \n8   * I have been told on two occasions, �If you w...   \n9   \"I have noticed sexism from other women which,...   \n10  * In the course of three months, he proceeded ...   \n11  \"I have not responded to his advances and have...   \n12  \"But another bloke, who�s office it was, asked...   \n13  * I am going to speak up.\\n* I am taking a sta...   \n14                                    \"I fight back.\"   \n15  * I told him to stop and left his office.\\n* I...   \n16  \"I turned around and asked him what he�s just ...   \n17  * I�ve not challenged him directly as I�m not ...   \n18            \"I left the interview almost in tears.\"   \n19  \"Here was a guy a decade older me, someone who...   \n\n                               Inappropriate response  \\\n0   * She told me to just “ignore it and don’t get...   \n1   * He continued to retaliate, calling my tone c...   \n2   * The author does not believe that calling gir...   \n3   * Laughing at the Everyday Sexism Project talk...   \n4   \"They may have thought they were being nice, o...   \n5   The email's requirement that a female player b...   \n6   * His reaction was quite surprising – he went ...   \n7   * When these situations are reported to their ...   \n8   * When she pulled away he said, �What, it is n...   \n9   \"It seems that it is acceptable for men to be ...   \n10  * He was older, white and male.\\n* In the cour...   \n11  \"I have not done anything inappropriate in res...   \n12  \"There were 7 other men in that room who worke...   \n13  * This pretty face hasn’t worked for our compa...   \n14  \"Men feel/think they have the right to touch m...   \n15  * He began talking loudly to the other man abo...   \n16  \"One of my colleagues had to walk past me to g...   \n17  * He talks over the women in the room. If he�s...   \n18  \"Are you single? Because girls like you can ca...   \n19  \"He told me that I looked so pretty that he�d ...   \n\n                                     Long term impact  \\\n0   * Even when I think about it now, it makes me ...   \n1                  * We have our work cut out for us.   \n2   * The author believes that the leaflet's gende...   \n3   * Being used to daily sexism\\n* Feeling frustr...   \n4   \"I never felt ok to point out how it made me f...   \n5   The email's requirement that a female player b...   \n6   * This experience just dug out some memories t...   \n7   * Women are paid significantly less than men, ...   \n8   * The company has a 95% turnover over the last...   \n9   \"This particular realisation related to other ...   \n10  * He was older, white and male.\\n* In the cour...   \n11  \"I am concerned about the long-term impact of ...   \n12  \"I�m sure this will make me feel less valued a...   \n13  * To lose this contract would be a major blow ...   \n14  \"I work in a nightclub as the door girl (colle...   \n15  * This, in addition to a few other problems, w...   \n16                          \"The others didn't hear.\"   \n17  * It just shows again that a woman has to do m...   \n18  \"I left the interview almost in tears. No man ...   \n19              \"I still can�t look him in the eyes.\"   \n\n                                     Parties involved  \n0   * The man in his late 50s/early 60s who made t...  \n1   * The man that disagreed and called my remarks...  \n2   * The author, who is a young woman living in t...  \n3   * The writer (as a 16 year old girl)\\n* Strang...  \n4   \"At least two middle-aged men often would touc...  \n5   The general manager of my husband's workplace,...  \n6   * A colleague, twenty years older than me, who...  \n7   * Women are affected by sexism and sexual hara...  \n8   * My boss has a history of sexually harassing ...  \n9   \"Over the last year I have noticed sexism from...  \n10  * I'm a social worker.\\n* I'm also 26, female ...  \n11  \"I and my male colleague are the parties invol...  \n12  \"17 men and 4 women. 10 of us were visiting so...  \n13  * They brought in a pretty face to distract th...  \n14  \"Men feel/think they have the right to touch m...  \n15  * He was a contractor, there to supervise the ...  \n16                         \"myself and my colleagues\"  \n17  * The man we�ve gone for is excellent at his j...  \n18  \"The male interviewer greeted me and introduce...  \n19  \"a party and told me that I looked so pretty t...  ",
            "text/html": "<div>\n<style scoped>\n    .dataframe tbody tr th:only-of-type {\n        vertical-align: middle;\n    }\n\n    .dataframe tbody tr th {\n        vertical-align: top;\n    }\n\n    .dataframe thead th {\n        text-align: right;\n    }\n</style>\n<table border=\"1\" class=\"dataframe\">\n  <thead>\n    <tr style=\"text-align: right;\">\n      <th></th>\n      <th>Input</th>\n      <th>Situation</th>\n      <th>Feelings</th>\n      <th>Action in response</th>\n      <th>Inappropriate response</th>\n      <th>Long term impact</th>\n      <th>Parties involved</th>\n    </tr>\n  </thead>\n  <tbody>\n    <tr>\n      <th>0</th>\n      <td>When I was 17, I worked in a clothing store th...</td>\n      <td>* When I was 17, I worked in a clothing store ...</td>\n      <td>* I was quite a naive 17 year old, I didn’t qu...</td>\n      <td>* I went to speak with my manager.\\n* She conf...</td>\n      <td>* She told me to just “ignore it and don’t get...</td>\n      <td>* Even when I think about it now, it makes me ...</td>\n      <td>* The man in his late 50s/early 60s who made t...</td>\n    </tr>\n    <tr>\n      <th>1</th>\n      <td>I left my job to return for a PhD with an inte...</td>\n      <td>* I left my job to return for a PhD with an in...</td>\n      <td>* I find it so extremely frustrating.</td>\n      <td>* I called out the blatant sexism.</td>\n      <td>* He continued to retaliate, calling my tone c...</td>\n      <td>* We have our work cut out for us.</td>\n      <td>* The man that disagreed and called my remarks...</td>\n    </tr>\n    <tr>\n      <th>2</th>\n      <td>A leaflet about �supporting teenagers� in my c...</td>\n      <td>* The leaflet about supporting teenagers in my...</td>\n      <td>* The author is disappointed and frustrated ab...</td>\n      <td>* The author is considering writing a letter t...</td>\n      <td>* The author does not believe that calling gir...</td>\n      <td>* The author believes that the leaflet's gende...</td>\n      <td>* The author, who is a young woman living in t...</td>\n    </tr>\n    <tr>\n      <th>3</th>\n      <td>As a 16 year old girl, I know very well that s...</td>\n      <td>* Being shouted out from car windows whilst wa...</td>\n      <td>* Used to getting shouted out from car windows...</td>\n      <td>* Listening to the opinions of others\\n* Watch...</td>\n      <td>* Laughing at the Everyday Sexism Project talk...</td>\n      <td>* Being used to daily sexism\\n* Feeling frustr...</td>\n      <td>* The writer (as a 16 year old girl)\\n* Strang...</td>\n    </tr>\n    <tr>\n      <th>4</th>\n      <td>I worked in a doggie daycare for two years as ...</td>\n      <td>\"I worked in a doggie daycare for two years as...</td>\n      <td>\"It was creepy and uncomfortable.\"</td>\n      <td>\"I never felt ok to point out how it made me f...</td>\n      <td>\"They may have thought they were being nice, o...</td>\n      <td>\"I never felt ok to point out how it made me f...</td>\n      <td>\"At least two middle-aged men often would touc...</td>\n    </tr>\n    <tr>\n      <th>5</th>\n      <td>A few months ago my husband�s workplace (in a ...</td>\n      <td>The general manager of my husband's workplace ...</td>\n      <td>The email's requirement that a female player b...</td>\n      <td>The author's husband's workplace is hosting a ...</td>\n      <td>The email's requirement that a female player b...</td>\n      <td>The email's requirement that a female player b...</td>\n      <td>The general manager of my husband's workplace,...</td>\n    </tr>\n    <tr>\n      <th>6</th>\n      <td>Working in the IT area, I am most of the time ...</td>\n      <td>* Working in the IT area, I am most of the tim...</td>\n      <td>* I am afraid of staying with him alone in the...</td>\n      <td>* I told him not to touch me in a polite way.\\...</td>\n      <td>* His reaction was quite surprising – he went ...</td>\n      <td>* This experience just dug out some memories t...</td>\n      <td>* A colleague, twenty years older than me, who...</td>\n    </tr>\n    <tr>\n      <th>7</th>\n      <td>I think that sexism is an issue in the UK. Thi...</td>\n      <td>* Women's pay is significantly lower than men'...</td>\n      <td>* I think that sexism is an issue in the UK.\\n...</td>\n      <td>* There is a large percentage of women who are...</td>\n      <td>* When these situations are reported to their ...</td>\n      <td>* Women are paid significantly less than men, ...</td>\n      <td>* Women are affected by sexism and sexual hara...</td>\n    </tr>\n    <tr>\n      <th>8</th>\n      <td>My boss has a history of sexually harassing wo...</td>\n      <td>* My boss has a history of sexually harassing ...</td>\n      <td>* I am so angry at her for accepting, for not ...</td>\n      <td>* I have been told on two occasions, �If you w...</td>\n      <td>* When she pulled away he said, �What, it is n...</td>\n      <td>* The company has a 95% turnover over the last...</td>\n      <td>* My boss has a history of sexually harassing ...</td>\n    </tr>\n    <tr>\n      <th>9</th>\n      <td>Over the last year I have noticed sexism from ...</td>\n      <td>\"Over the last year I have noticed sexism from...</td>\n      <td>\"This particular realisation related to other ...</td>\n      <td>\"I have noticed sexism from other women which,...</td>\n      <td>\"It seems that it is acceptable for men to be ...</td>\n      <td>\"This particular realisation related to other ...</td>\n      <td>\"Over the last year I have noticed sexism from...</td>\n    </tr>\n    <tr>\n      <th>10</th>\n      <td>I�m a social worker. I�m also 26, female and h...</td>\n      <td>* I'm a social worker.\\n* I'm also 26, female ...</td>\n      <td>* In the course of three months, he proceeded ...</td>\n      <td>* In the course of three months, he proceeded ...</td>\n      <td>* He was older, white and male.\\n* In the cour...</td>\n      <td>* He was older, white and male.\\n* In the cour...</td>\n      <td>* I'm a social worker.\\n* I'm also 26, female ...</td>\n    </tr>\n    <tr>\n      <th>11</th>\n      <td>A male colleague, who is very �huggy�, has sta...</td>\n      <td>\"A male colleague, who is very 'huggy', has st...</td>\n      <td>\"I feel uncomfortable and confused by his beha...</td>\n      <td>\"I have not responded to his advances and have...</td>\n      <td>\"I have not done anything inappropriate in res...</td>\n      <td>\"I am concerned about the long-term impact of ...</td>\n      <td>\"I and my male colleague are the parties invol...</td>\n    </tr>\n    <tr>\n      <th>12</th>\n      <td>In a meeting today�17 men and 4 women. 10 of u...</td>\n      <td>\"In a meeting today�17 men and 4 women. 10 of ...</td>\n      <td>\"During a break, the project manager, who was ...</td>\n      <td>\"But another bloke, who�s office it was, asked...</td>\n      <td>\"There were 7 other men in that room who worke...</td>\n      <td>\"I�m sure this will make me feel less valued a...</td>\n      <td>\"17 men and 4 women. 10 of us were visiting so...</td>\n    </tr>\n    <tr>\n      <th>13</th>\n      <td>Today, they brought in a pretty face to distra...</td>\n      <td>* They brought in a pretty face to distract th...</td>\n      <td>* I am going to the HR department with a lette...</td>\n      <td>* I am going to speak up.\\n* I am taking a sta...</td>\n      <td>* This pretty face hasn’t worked for our compa...</td>\n      <td>* To lose this contract would be a major blow ...</td>\n      <td>* They brought in a pretty face to distract th...</td>\n    </tr>\n    <tr>\n      <th>14</th>\n      <td>I work in a nightclub as the door girl (collec...</td>\n      <td>\"I work in a nightclub as the door girl (colle...</td>\n      <td>\"Men feel/think they have the right to touch m...</td>\n      <td>\"I fight back.\"</td>\n      <td>\"Men feel/think they have the right to touch m...</td>\n      <td>\"I work in a nightclub as the door girl (colle...</td>\n      <td>\"Men feel/think they have the right to touch m...</td>\n    </tr>\n    <tr>\n      <th>15</th>\n      <td>I was sexually assaulted by a man at my workpl...</td>\n      <td>* He was a contractor, there to supervise the ...</td>\n      <td>* I told him to stop and left his office.\\n* I...</td>\n      <td>* I told him to stop and left his office.\\n* I...</td>\n      <td>* He began talking loudly to the other man abo...</td>\n      <td>* This, in addition to a few other problems, w...</td>\n      <td>* He was a contractor, there to supervise the ...</td>\n    </tr>\n    <tr>\n      <th>16</th>\n      <td>Myself and my colleagues were getting ready to...</td>\n      <td>\"Myself and my colleagues were getting ready t...</td>\n      <td>\"I was checking my phone, waiting for us to le...</td>\n      <td>\"I turned around and asked him what he�s just ...</td>\n      <td>\"One of my colleagues had to walk past me to g...</td>\n      <td>\"The others didn't hear.\"</td>\n      <td>\"myself and my colleagues\"</td>\n    </tr>\n    <tr>\n      <th>17</th>\n      <td>While I�ve experienced lots of sexism over the...</td>\n      <td>* While I�ve experienced lots of sexism over t...</td>\n      <td>* I feel I�ve been relatively lucky not to exp...</td>\n      <td>* I�ve not challenged him directly as I�m not ...</td>\n      <td>* He talks over the women in the room. If he�s...</td>\n      <td>* It just shows again that a woman has to do m...</td>\n      <td>* The man we�ve gone for is excellent at his j...</td>\n    </tr>\n    <tr>\n      <th>18</th>\n      <td>I went to a job interview yesterday. I was app...</td>\n      <td>\"I went to a job interview yesterday. I was ap...</td>\n      <td>\"I was too stunned to even think really\"</td>\n      <td>\"I left the interview almost in tears.\"</td>\n      <td>\"Are you single? Because girls like you can ca...</td>\n      <td>\"I left the interview almost in tears. No man ...</td>\n      <td>\"The male interviewer greeted me and introduce...</td>\n    </tr>\n    <tr>\n      <th>19</th>\n      <td>My manager with whom I�d worked closely for mo...</td>\n      <td>\"My manager with whom I�d worked closely for m...</td>\n      <td>\"I felt so ashamed and embarrassed.\"</td>\n      <td>\"Here was a guy a decade older me, someone who...</td>\n      <td>\"He told me that I looked so pretty that he�d ...</td>\n      <td>\"I still can�t look him in the eyes.\"</td>\n      <td>\"a party and told me that I looked so pretty t...</td>\n    </tr>\n  </tbody>\n</table>\n</div>"
          },
          "metadata": {}
        }
      ],
      "execution_count": 3,
      "block_group": "5a97b6b28fe74e54bf3c78aa3c7575a2"
    },
    {
      "cell_type": "markdown",
      "source": "### Cleaning the Data",
      "metadata": {
        "formattedRanges": [],
        "cell_id": "fd2d423498844932a76e531b9b6d4401",
        "deepnote_cell_type": "text-cell-h3"
      },
      "block_group": "05b7116373244f3dbad140590028c755"
    },
    {
      "cell_type": "code",
      "source": "df = df.replace('�','\\'', regex=True)\ndf = df.replace('\\*', '',regex =True)\ndf = df.replace('\\n', ' ',regex =True)\ndf",
      "metadata": {
        "source_hash": "4858e522",
        "execution_start": 1700264329955,
        "execution_millis": 96,
        "deepnote_to_be_reexecuted": false,
        "cell_id": "f15a9b48e8c4414697703b8417939f50",
        "deepnote_cell_type": "code"
      },
      "outputs": [
        {
          "output_type": "execute_result",
          "execution_count": 4,
          "data": {
            "application/vnd.deepnote.dataframe.v3+json": {
              "column_count": 7,
              "row_count": 1768,
              "columns": [
                {
                  "name": "Input",
                  "dtype": "object",
                  "stats": {
                    "unique_count": 1738,
                    "nan_count": 0,
                    "categories": [
                      {
                        "name": " Todd: ",
                        "count": 3
                      },
                      {
                        "name": "Constant discourage and lack of empowerment ' positive reinforcements that never comes from older, male colleagues (and I am the only woman, also the youngest in the team), constant overlooking of my abilities and achievements and looking for a new person to delegate work. I work extra hours, from home, unpaid, always give my best, included into internal projects, t-talks, labs and hiring new people interviews, however, still no promotion and no money raise after 14 months on the same job. I know my privilege by working in peace, having salary on time and at all, however my colleagues have the same, still not even trying to their job ' a colleague designer who's been in business more than ten years, after 8 months work with me came and said ' but you are a junior designer, right? (and I am looking to my seniority promotion). ",
                        "count": 2
                      },
                      {
                        "name": "1736 others",
                        "count": 1763
                      }
                    ]
                  }
                },
                {
                  "name": "Situation",
                  "dtype": "object",
                  "stats": {
                    "unique_count": 1736,
                    "nan_count": 0,
                    "categories": [
                      {
                        "name": "Todd is at a party and has been drinking.",
                        "count": 5
                      },
                      {
                        "name": " Constant discourage and lack of empowerment  positive reinforcements that never comes from older, male colleagues (and I am the only woman, also the youngest in the team)  constant overlooking of my abilities and achievements and looking for a new person to delegate work  I work extra hours, from home, unpaid, always give my best, included into internal projects, t-talks, labs and hiring new people interviews, however, still no promotion and no money raise after 14 months on the same job.",
                        "count": 2
                      },
                      {
                        "name": "1734 others",
                        "count": 1761
                      }
                    ]
                  }
                },
                {
                  "name": "Feelings",
                  "dtype": "object",
                  "stats": {
                    "unique_count": 1722,
                    "nan_count": 0,
                    "categories": [
                      {
                        "name": "None of the sentences express feelings.",
                        "count": 7
                      },
                      {
                        "name": "Todd is feeling confident and relaxed.",
                        "count": 5
                      },
                      {
                        "name": "1720 others",
                        "count": 1756
                      }
                    ]
                  }
                },
                {
                  "name": "Action in response",
                  "dtype": "object",
                  "stats": {
                    "unique_count": 1667,
                    "nan_count": 0,
                    "categories": [
                      {
                        "name": "''",
                        "count": 31
                      },
                      {
                        "name": "None mentioned.",
                        "count": 14
                      },
                      {
                        "name": "1665 others",
                        "count": 1723
                      }
                    ]
                  }
                },
                {
                  "name": "Inappropriate response",
                  "dtype": "object",
                  "stats": {
                    "unique_count": 1583,
                    "nan_count": 22,
                    "categories": [
                      {
                        "name": "''",
                        "count": 38
                      },
                      {
                        "name": "1582 others",
                        "count": 1708
                      },
                      {
                        "name": "Missing",
                        "count": 22
                      }
                    ]
                  }
                },
                {
                  "name": "Long term impact",
                  "dtype": "object",
                  "stats": {
                    "unique_count": 1576,
                    "nan_count": 38,
                    "categories": [
                      {
                        "name": "''",
                        "count": 44
                      },
                      {
                        "name": "1575 others",
                        "count": 1686
                      },
                      {
                        "name": "Missing",
                        "count": 38
                      }
                    ]
                  }
                },
                {
                  "name": "Parties involved",
                  "dtype": "object",
                  "stats": {
                    "unique_count": 1694,
                    "nan_count": 2,
                    "categories": [
                      {
                        "name": "''",
                        "count": 38
                      },
                      {
                        "name": "1693 others",
                        "count": 1728
                      },
                      {
                        "name": "Missing",
                        "count": 2
                      }
                    ]
                  }
                },
                {
                  "name": "_deepnote_index_column",
                  "dtype": "int64"
                }
              ],
              "rows": [
                {
                  "Input": "When I was 17, I worked in a clothing store that sold both mens and womens clothing, as well as some unisex items. I was working overtime in the evening, around 8.30pm during the winter so it was already dark. I was by myself on the shop floor as my manager was cashing up in the stock room, when a man in his late 50s/early 60s came in and started asking about the winter boots we had on special offer. We kept all of the stock below the display table, so I knelt on the floor to find his size when he said 'Whilst you're down there, why don't you take one for the team?'. As I was quite a naive 17 year old, I didn't quite understand, so I just awkwardly smiled and ignored it. After he bought the boots and left, I went to speak with my manager. She confirmed that he was actually insinuating I gave him a blowjob, I was shocked and quite upset! She told me to just 'ignore it and don't get upset by it'! Even when I think about it now, it makes me extremely uncomfortable. ",
                  "Situation": " When I was 17, I worked in a clothing store that sold both mens and womens clothing, as well as some unisex items.  I was working overtime in the evening, around 8.30pm during the winter so it was already dark.  I was by myself on the shop floor as my manager was cashing up in the stock room, when a man in his late 50s/early 60s came in and started asking about the winter boots we had on special offer.  We kept all of the stock below the display table, so I knelt on the floor to find his size when he said “Whilst you’re down there, why don’t you take one for the team?”",
                  "Feelings": " I was quite a naive 17 year old, I didn’t quite understand, so I just awkwardly smiled and ignored it.  I was shocked and quite upset!",
                  "Action in response": " I went to speak with my manager.  She confirmed that he was actually insinuating I gave him a blowjob, I was shocked and quite upset!",
                  "Inappropriate response": " She told me to just “ignore it and don’t get upset by it”!",
                  "Long term impact": " Even when I think about it now, it makes me extremely uncomfortable.",
                  "Parties involved": " The man in his late 50s/early 60s who made the inappropriate comment, the 17-year-old employee who was working at the time, and the manager who was cashing up in the stock room.",
                  "_deepnote_index_column": 0
                },
                {
                  "Input": "I left my job to return for a PhD with an intention of developing expertise in my field and preventing encounters with men who label me 'ignorant' or hint to my own incompetence. Part of my PhD requires public engagement via social media. In one such recent Twitter encounter, I stated my opinion and backed it up with facts. A man that disagreed then proceeded to lash out, calling my remarks 'effete' and 'ignorant.' I called out the blatant sexism, for which he continued to retaliate, calling my tone condescending. This is such a nasty cycle and I find it so extremely frustrating'if we sit back, it happens more. And if we speak up, sexism intensifies. We have our work cut out for us. ",
                  "Situation": " I left my job to return for a PhD with an intention of developing expertise in my field and preventing encounters with men who label me 'ignorant' or hint to my own incompetence.  Part of my PhD requires public engagement via social media.  In one such recent Twitter encounter, I stated my opinion and backed it up with facts.  A man that disagreed then proceeded to lash out, calling my remarks 'effete' and 'ignorant.'  I called out the blatant sexism, for which he continued to retaliate, calling my tone condescending.",
                  "Feelings": " I find it so extremely frustrating.",
                  "Action in response": " I called out the blatant sexism.",
                  "Inappropriate response": " He continued to retaliate, calling my tone condescending.",
                  "Long term impact": " We have our work cut out for us.",
                  "Parties involved": " The man that disagreed and called my remarks 'effete' and 'ignorant.'  I called out the blatant sexism.  He continued to retaliate, calling my tone condescending.",
                  "_deepnote_index_column": 1
                },
                {
                  "Input": "A leaflet about 'supporting teenagers' in my country published by so called 'experienced' psychotherapists contains a lot of pernicious gender stereotypes. The reason why I despair about living in my country is that girls get stereotyped as behaving one way and boys get stereotyped as behaving the opposite way, even when in reality there is a lot of overlap of behaviours between the sexes! In the leaflet, girls are automatically assumed to be 'vulnerable' and in need of 'empowering'. This is kind of offensive and degrading to many young women who are capable and self sufficient. Some women do not view themselves as 'helpless victims', but instead as highly capable survivors! Calling girls 'vulnerable' or fragile doesn't help them deal with stuff in an adaptive or a resilient way. While it is true that some young women struggle with issues around eating (please don't use the pathologising words 'eating disorder' because it is society's expectations around food that are disordered, not …",
                  "Situation": " The leaflet about supporting teenagers in my country contains pernicious gender stereotypes.  Girls are automatically assumed to be vulnerable and in need of empowering, while boys are stereotyped as behaving the opposite way.  The leaflet calls girls over-conscientious and perfectionistic, while ignoring the fact that many young men also engage in anorexic or bulimic behaviors.  The leaflet assumes that girls should be denied the opportunity to excel by people who call them too perfectionistic.  The author's grandmother liked to do things thoroughly and properly as part of her job.",
                  "Feelings": " The author is disappointed and frustrated about living in a country where gender stereotypes are prevalent.  The author is offended by the assumption that girls are vulnerable and in need of empowering, and that young women who are capable and self-sufficient do not view themselves as helpless victims.  The author is angry that the leaflet ignores the fact that many young men also engage in anorexic or bulimic behaviors.  The author is disappointed that some teachers, parents, and \"professionals\" may be envious of young women's achievements and actively discourage their hard work and diligence.",
                  "Action in response": " The author is considering writing a letter to the editor of the publication that printed the leaflet to express their concerns.  The author is advocating for a culture of praise and encouragement for young women who excel in their studies and pursuits.",
                  "Inappropriate response": " The author does not believe that calling girls too perfectionistic is an inappropriate response, as they believe that aiming for perfection is a valuable goal.",
                  "Long term impact": " The author believes that the leaflet's gender stereotypes and negative messages about young women's abilities and behaviors can have a long-term impact on their self-esteem and confidence.  The author believes that encouraging young women to aim for high standards and do their best can have a positive impact on their future success and achievements.",
                  "Parties involved": " The author, who is a young woman living in their country.  The publication that printed the leaflet, which the author believes is promoting harmful gender stereotypes.  The teachers, parents, and \"professionals\" who may be envious of young women's achievements and actively discourage their hard work and diligence.",
                  "_deepnote_index_column": 2
                },
                {
                  "Input": "As a 16 year old girl, I know very well that sexism exists. On pretty much a daily basis, I am shouted out from car windows whilst walking down the street, or approached by strangers whilst out in public, usually by older men. This is something that as a female, you get used to, enough though you shouldn't have to. One thing I will not get over though, is being told that sexism is not an issue. I take a sociology class at my college, and one of the subjects we cover if feminism. This is something that me and my friends are passionate about, we believe it needs to be talked about in order for things to change. There are however, a number of boys in that class who disagree with feminists and try to tell us everything we say is wrong. I can accept this; everyone is entitled to an opinion and I am willing to listen to anyone's opinion. Today it reached a point where I can no longer just accept their opinion. As a group, we watched the Everyday Sexism Project talk 'CoventGardenWomen'. All …",
                  "Situation": " Being shouted out from car windows whilst walking down the street  Being approached by strangers whilst out in public, usually by older men  Being told that sexism is not an issue  Being in a sociology class where feminism is discussed  Being in a group that watches the Everyday Sexism Project talk  Being told that there's no reason for women to feel unsafe whilst walking alone  Being told that sexual assault isn't a problem  Being told that if it really happened more women would come forward",
                  "Feelings": " Used to getting shouted out from car windows  Not used to being approached by strangers  Frustrated that people deny the existence of sexism  Passionate about feminism  Heartbroken to see insensitivity towards sexual assault  Scared of being laughed at or told it's not a big deal  Suffering alone because of victim blaming",
                  "Action in response": " Listening to the opinions of others  Watching the Everyday Sexism Project talk  Asking for the speech to be turned off  Being told to stop complaining",
                  "Inappropriate response": " Laughing at the Everyday Sexism Project talk  Telling the speaker to stop complaining",
                  "Long term impact": " Being used to daily sexism  Feeling frustrated and heartbroken  Being scared to speak out  Suffering alone",
                  "Parties involved": " The writer (as a 16 year old girl)  Strangers who approach the writer in public  Classmates who disagree with feminism  The speaker in the Everyday Sexism Project talk  The writer's friends who are passionate about feminism",
                  "_deepnote_index_column": 3
                },
                {
                  "Input": "I worked in a doggie daycare for two years as the front desk manager. I saw many of the same clients regularly, day after day. At least two middle-aged men often would touch my shoulder for no reason while we exchanged pleasantries as they dropped off their dogs. They may have thought they were being nice, or friendly, but it was creepy and uncomfortable and as I was in my workplace and my job was to be polite and courteous to all customers I never felt ok to point out how it made me feel or ask them to stop. ",
                  "Situation": "\"I worked in a doggie daycare for two years as the front desk manager.\"",
                  "Feelings": "\"It was creepy and uncomfortable.\"",
                  "Action in response": "\"I never felt ok to point out how it made me feel or ask them to stop.\"",
                  "Inappropriate response": "\"They may have thought they were being nice, or friendly, but it was creepy and uncomfortable.\"",
                  "Long term impact": "\"I never felt ok to point out how it made me feel or ask them to stop.\"",
                  "Parties involved": "\"At least two middle-aged men often would touch my shoulder for no reason while we exchanged pleasantries as they dropped off their dogs.\"",
                  "_deepnote_index_column": 4
                },
                {
                  "Input": "A few months ago my husband's workplace (in a liberal, northeast state) had an event at a bowling alley, a fundraiser in a series of playful competitions with a rival company. To form bowling teams in anticipation of this event, my husband's general manager sent out an email to the entire company stating that each bowling team would need 'one very skilled player , at least 2 above average players, and a female.' You know, because 'females' can't be 'skilled' or 'above average' at bowling, obvs. ",
                  "Situation": "The general manager of my husband's workplace sent out an email stating the requirements for forming bowling teams for a fundraiser event, including the requirement for a female player.",
                  "Feelings": "The email's requirement that a female player be included on each bowling team is seen as sexist and discriminatory.",
                  "Action in response": "The author's husband's workplace is hosting a fundraiser event at a bowling alley, and the general manager sent out an email requiring each bowling team to include a female player.",
                  "Inappropriate response": "The email's requirement that a female player be included on each bowling team is seen as sexist and discriminatory.",
                  "Long term impact": "The email's requirement that a female player be included on each bowling team could potentially harm the workplace's reputation and lead to negative publicity.",
                  "Parties involved": "The general manager of my husband's workplace, the employees of the workplace, and the rival company participating in the fundraiser event.",
                  "_deepnote_index_column": 5
                },
                {
                  "Input": "Working in the IT area, I am most of the time the only woman in the office, in my thirties, between men of fifty mostly. With the tempratures coming up and approaching summer, I arrived in the office in a summer appropriate dress, receiving comments all morning. This was nothing comparing to the feedback of a colleague, twenty years older then me, who constantly stalks me around and makes the others believe we are lovers, ocasionally touching me and commenting on my body. This time I told him not to touch me in a polite way. His reaction was quite surprizing ' he went to the other colleagues complaining about me to tell him not to touch me, when actually I look so nice ' means I should be only flattered. For me, I dont see this to be an excuse to be touched, espacially in an adult management oriented environement. I am afraid of staying with him alone in the office or in the room, and sometimes I preffer to stay home and work from there to actually woork in peace. I constantly think a…",
                  "Situation": " Working in the IT area, I am most of the time the only woman in the office, in my thirties, between men of fifty mostly.  With the temperatures coming up and approaching summer, I arrived in the office in a summer-appropriate dress, receiving comments all morning.  This was nothing comparing to the feedback of a colleague, twenty years older than me, who constantly stalks me around and makes the others believe we are lovers, occasionally touching me and commenting on my body.  This time I told him not to touch me in a polite way.  His reaction was quite surprising – he went to the other colleagues complaining about me to tell him not to touch me, when actually I look so nice – means I should be only flattered.  For me, I don’t see this to be an excuse to be touched, especially in an adult management-oriented environment.  I am afraid of staying with him alone in the office or in the room, and sometimes I prefer to stay home and work from there to actually work in peace.  I constantly…",
                  "Feelings": " I am afraid of staying with him alone in the office or in the room, and sometimes I prefer to stay home and work from there to actually work in peace.  I constantly think about if I gave him in any way an excuse to behave like that, because I am afraid to break the atmosphere of the office with raising a complaint about it.  Every time I tell myself – ok, next time you tell him this is above and HR can be involved.",
                  "Action in response": " I told him not to touch me in a polite way.  His reaction was quite surprising – he went to the other colleagues complaining about me to tell him not to touch me, when actually I look so nice – means I should be only flattered.  For me, I don’t see this to be an excuse to be touched, especially in an adult management-oriented environment.  I am afraid of staying with him alone in the office or in the room, and sometimes I prefer to stay home and work from there to actually work in peace.  I constantly think about if I gave him in any way an excuse to behave like that, because I am afraid to break the atmosphere of the office with raising a complaint about it.  Every time I tell myself – ok, next time you tell him this is above and HR can be involved.",
                  "Inappropriate response": " His reaction was quite surprising – he went to the other colleagues complaining about me to tell him not to touch me, when actually I look so nice – means I should be only flattered.  For me, I don’t see this to be an excuse to be touched, especially in an adult management-oriented environment.",
                  "Long term impact": " This experience just dug out some memories that I thought are already forgotten – that since I was seven years old attending school, boys from my class were touching and kissing me without asking, having fun this way, and the touches continued also when I was at high school, by totally different people.  From what I remember from these years, it was just my body being not mine.  I believe now in my thirties it’s a big lesson for me to learn to start saying what I don’t like and out loud.",
                  "Parties involved": " A colleague, twenty years older than me, who constantly stalks me around and makes the others believe we are lovers, occasionally touching me and commenting on my body.  The other colleagues who were complaining about me to tell him not to touch me, when actually I look so nice – means I should be only flattered.",
                  "_deepnote_index_column": 6
                },
                {
                  "Input": "I think that sexism is an issue in the UK. This is because women's pay is significantly lower then men's which is biased and unfair. We are also described with much more feminine verbs, and also those which describe where we participate and do a lot of teamwork, yet not as much independent. This is also more unfair for us as men are described with more independent, strong and powerful words. In workplaces, a large percentage (52%) of women are sexually harassed, and made to feel extremely vulnerable. In many cases when these situations are reported to their head of work, they are dropped or under-prioritised. ",
                  "Situation": " Women's pay is significantly lower than men's which is biased and unfair.  We are also described with much more feminine verbs, and also those which describe where we participate and do a lot of teamwork, yet not as much independent.  In workplaces, a large percentage (52%) of women are sexually harassed, and made to feel extremely vulnerable.",
                  "Feelings": " I think that sexism is an issue in the UK.  This is also more unfair for us as men are described with more independent, strong and powerful words.  In many cases when these situations are reported to their head of work, they are dropped or under-prioritised.",
                  "Action in response": " There is a large percentage of women who are sexually harassed in workplaces.  This is an issue that needs to be addressed and dealt with.",
                  "Inappropriate response": " When these situations are reported to their head of work, they are dropped or under-prioritised.",
                  "Long term impact": " Women are paid significantly less than men, which can have long-term financial consequences.  Women may also experience mental health issues as a result of sexual harassment in the workplace.",
                  "Parties involved": " Women are affected by sexism and sexual harassment in the workplace.  Men may also be affected by the gendered language used to describe them.  Employers and heads of work may be responsible for addressing and prioritizing reports of sexual harassment.",
                  "_deepnote_index_column": 7
                },
                {
                  "Input": "My boss has a history of sexually harassing women at my workplace. He is a prominent artist, and most people idolize him without realizing that he is a predator. Every woman in the office has a story. Mine is the many long hugs he gives under the guise of 'I am an affectionate guy' and with responses afterwards such as 'You really understand what my work is about here'. I have been told on two occasions, 'If you want to keep your job, you will take your clothes off for me' to model. My manager was pulled onto his lap and her breasts groped. When she pulled away he said, 'What, it is not like I have not felt breasts before'. Recently he sexually assaulted a coworker and it ended in a non-consensual sexual act. He paid her $50,000 and gave her a $13,000 painting to make it go away. I am so angry at her for accepting, for not standing up to him and protecting the rest of us. But this is also not the first time a pay off has happened. It also occurred 6 months ago before this whole new ba…",
                  "Situation": " My boss has a history of sexually harassing women at my workplace.  He is a prominent artist, and most people idolize him without realizing that he is a predator.  Every woman in the office has a story.  My manager was pulled onto his lap and her breasts groped.  Recently he sexually assaulted a coworker and it ended in a non-consensual sexual act.  He paid her $50,000 and gave her a $13,000 painting to make it go away.  We are in North Carolina and working in a company of less than 15 employees.  Federal sexual harassment laws do not protect us in the same way, and there is very little we can do.",
                  "Feelings": " I am so angry at her for accepting, for not standing up to him and protecting the rest of us.  But this is also not the first time a pay off has happened.  It also occurred 6 months ago before this whole new batch of employees was hired?  But we are in North Carolina and working in a company of less than 15 employees.  Federal sexual harassment laws do not protect us in the same way, and there is very little we can do.",
                  "Action in response": " I have been told on two occasions, 'If you want to keep your job, you will take your clothes off for me' to model.  I want to make something happen, but how?",
                  "Inappropriate response": " When she pulled away he said, 'What, it is not like I have not felt breasts before'.  He paid her $50,000 and gave her a $13,000 painting to make it go away.",
                  "Long term impact": " The company has a 95% turnover over the last 6 years since it began?",
                  "Parties involved": " My boss has a history of sexually harassing women at my workplace.  He is a prominent artist, and most people idolize him without realizing that he is a predator.  Every woman in the office has a story.  My manager was pulled onto his lap and her breasts groped.  Recently he sexually assaulted a coworker and it ended in a non-consensual sexual act.  He paid her $50,000 and gave her a $13,000 painting to make it go away.  We are in North Carolina and working in a company of less than 15 employees.  Federal sexual harassment laws do not protect us in the same way, and there is very little we can do.",
                  "_deepnote_index_column": 8
                },
                {
                  "Input": "Over the last year I have noticed sexism from other women which, before it happened, had never crossed my mind. This particular realisation related to other women's perception of assertive behaviour in the workplace. It seems that it is acceptable for men to be assertive ' their thoughts delivered in whichever way they choose ' but when women are 'assertive' in the same way ( using the same words, the same tone of voice, similar body language) they are labelled aggressive; not by other men, but by other women. ",
                  "Situation": "\"Over the last year I have noticed sexism from other women which, before it happened, had never crossed my mind.\"",
                  "Feelings": "\"This particular realisation related to other women's perception of assertive behaviour in the workplace. It seems that it is acceptable for men to be assertive ' their thoughts delivered in whichever way they choose ' but when women are 'assertive' in the same way ( using the same words, the same tone of voice, similar body language) they are labelled aggressive; not by other men, but by other women.\"",
                  "Action in response": "\"I have noticed sexism from other women which, before it happened, had never crossed my mind.\"",
                  "Inappropriate response": "\"It seems that it is acceptable for men to be assertive ' their thoughts delivered in whichever way they choose ' but when women are 'assertive' in the same way ( using the same words, the same tone of voice, similar body language) they are labelled aggressive; not by other men, but by other women.\"",
                  "Long term impact": "\"This particular realisation related to other women's perception of assertive behaviour in the workplace. It seems that it is acceptable for men to be assertive ' their thoughts delivered in whichever way they choose ' but when women are 'assertive' in the same way ( using the same words, the same tone of voice, similar body language) they are labelled aggressive; not by other men, but by other women.\"",
                  "Parties involved": "\"Over the last year I have noticed sexism from other women which, before it happened, had never crossed my mind.\"",
                  "_deepnote_index_column": 9
                }
              ]
            },
            "text/plain": "                                                  Input  \\\n0     When I was 17, I worked in a clothing store th...   \n1     I left my job to return for a PhD with an inte...   \n2     A leaflet about 'supporting teenagers' in my c...   \n3     As a 16 year old girl, I know very well that s...   \n4     I worked in a doggie daycare for two years as ...   \n...                                                 ...   \n1763  I work for a healthcare system where 80% of th...   \n1764  I'm getting paid $5,000 a year less than my ma...   \n1765  This is my second entry to the project. Same b...   \n1766  Need some advice. I am female and use the wome...   \n1767  I was getting a professional workplace photo t...   \n\n                                              Situation  \\\n0      When I was 17, I worked in a clothing store t...   \n1      I left my job to return for a PhD with an int...   \n2      The leaflet about supporting teenagers in my ...   \n3      Being shouted out from car windows whilst wal...   \n4     \"I worked in a doggie daycare for two years as...   \n...                                                 ...   \n1763  \"I work for a healthcare system where 80% of t...   \n1764   I'm getting paid $5,000 a year less than my m...   \n1765   Boss on the phone to a male colleague \"it’s a...   \n1766   Using women's toilets  Being attracted to men...   \n1767  \"I was getting a professional workplace photo ...   \n\n                                               Feelings  \\\n0      I was quite a naive 17 year old, I didn’t qui...   \n1                   I find it so extremely frustrating.   \n2      The author is disappointed and frustrated abo...   \n3      Used to getting shouted out from car windows ...   \n4                    \"It was creepy and uncomfortable.\"   \n...                                                 ...   \n1763  \"Most of us are female and would have loved to...   \n1764   I'm getting paid $5,000 a year less than my m...   \n1765   Writer looking at the boss with a displeasing...   \n1766   Feeling uncomfortable when called a \"lady\"  F...   \n1767  \"The everyday sexism begins! Photographer says...   \n\n                                     Action in response  \\\n0      I went to speak with my manager.  She confirm...   \n1                      I called out the blatant sexism.   \n2      The author is considering writing a letter to...   \n3      Listening to the opinions of others  Watching...   \n4     \"I never felt ok to point out how it made me f...   \n...                                                 ...   \n1763  \"It's a small thing but most of us are female ...   \n1764   I attended college for four years while my co...   \n1765   Writer reporting the incident to the next man...   \n1766   Not using make-up except for clear chapstick ...   \n1767  \"I have to deal with this but my husband doesn...   \n\n                                 Inappropriate response  \\\n0      She told me to just “ignore it and don’t get ...   \n1      He continued to retaliate, calling my tone co...   \n2      The author does not believe that calling girl...   \n3      Laughing at the Everyday Sexism Project talk ...   \n4     \"They may have thought they were being nice, o...   \n...                                                 ...   \n1763                                                NaN   \n1764   I'm getting paid $5,000 a year less than my m...   \n1765   Boss making a comment about the writer's coll...   \n1766   Not sure if there is an inappropriate respons...   \n1767  \"If he was a feminist he should know better th...   \n\n                                       Long term impact  \\\n0      Even when I think about it now, it makes me e...   \n1                      We have our work cut out for us.   \n2      The author believes that the leaflet's gender...   \n3      Being used to daily sexism  Feeling frustrate...   \n4     \"I never felt ok to point out how it made me f...   \n...                                                 ...   \n1763                                                NaN   \n1764   I'm getting paid $5,000 a year less than my m...   \n1765    Writer feeling like they need to find a new job   \n1766   Feeling unhappy with being shoved into the \"l...   \n1767  \"I have a feeling that I’m going to encounter ...   \n\n                                       Parties involved  \n0      The man in his late 50s/early 60s who made th...  \n1      The man that disagreed and called my remarks ...  \n2      The author, who is a young woman living in th...  \n3      The writer (as a 16 year old girl)  Strangers...  \n4     \"At least two middle-aged men often would touc...  \n...                                                 ...  \n1763              \"executives, who are all white males\"  \n1764   I'm getting paid $5,000 a year less than my m...  \n1765   Boss  Male colleague on the phone  Next manag...  \n1766   The writer  Men who talk over the writer when...  \n1767                  \"Photographer, my husband and I.\"  \n\n[1768 rows x 7 columns]",
            "text/html": "<div>\n<style scoped>\n    .dataframe tbody tr th:only-of-type {\n        vertical-align: middle;\n    }\n\n    .dataframe tbody tr th {\n        vertical-align: top;\n    }\n\n    .dataframe thead th {\n        text-align: right;\n    }\n</style>\n<table border=\"1\" class=\"dataframe\">\n  <thead>\n    <tr style=\"text-align: right;\">\n      <th></th>\n      <th>Input</th>\n      <th>Situation</th>\n      <th>Feelings</th>\n      <th>Action in response</th>\n      <th>Inappropriate response</th>\n      <th>Long term impact</th>\n      <th>Parties involved</th>\n    </tr>\n  </thead>\n  <tbody>\n    <tr>\n      <th>0</th>\n      <td>When I was 17, I worked in a clothing store th...</td>\n      <td>When I was 17, I worked in a clothing store t...</td>\n      <td>I was quite a naive 17 year old, I didn’t qui...</td>\n      <td>I went to speak with my manager.  She confirm...</td>\n      <td>She told me to just “ignore it and don’t get ...</td>\n      <td>Even when I think about it now, it makes me e...</td>\n      <td>The man in his late 50s/early 60s who made th...</td>\n    </tr>\n    <tr>\n      <th>1</th>\n      <td>I left my job to return for a PhD with an inte...</td>\n      <td>I left my job to return for a PhD with an int...</td>\n      <td>I find it so extremely frustrating.</td>\n      <td>I called out the blatant sexism.</td>\n      <td>He continued to retaliate, calling my tone co...</td>\n      <td>We have our work cut out for us.</td>\n      <td>The man that disagreed and called my remarks ...</td>\n    </tr>\n    <tr>\n      <th>2</th>\n      <td>A leaflet about 'supporting teenagers' in my c...</td>\n      <td>The leaflet about supporting teenagers in my ...</td>\n      <td>The author is disappointed and frustrated abo...</td>\n      <td>The author is considering writing a letter to...</td>\n      <td>The author does not believe that calling girl...</td>\n      <td>The author believes that the leaflet's gender...</td>\n      <td>The author, who is a young woman living in th...</td>\n    </tr>\n    <tr>\n      <th>3</th>\n      <td>As a 16 year old girl, I know very well that s...</td>\n      <td>Being shouted out from car windows whilst wal...</td>\n      <td>Used to getting shouted out from car windows ...</td>\n      <td>Listening to the opinions of others  Watching...</td>\n      <td>Laughing at the Everyday Sexism Project talk ...</td>\n      <td>Being used to daily sexism  Feeling frustrate...</td>\n      <td>The writer (as a 16 year old girl)  Strangers...</td>\n    </tr>\n    <tr>\n      <th>4</th>\n      <td>I worked in a doggie daycare for two years as ...</td>\n      <td>\"I worked in a doggie daycare for two years as...</td>\n      <td>\"It was creepy and uncomfortable.\"</td>\n      <td>\"I never felt ok to point out how it made me f...</td>\n      <td>\"They may have thought they were being nice, o...</td>\n      <td>\"I never felt ok to point out how it made me f...</td>\n      <td>\"At least two middle-aged men often would touc...</td>\n    </tr>\n    <tr>\n      <th>...</th>\n      <td>...</td>\n      <td>...</td>\n      <td>...</td>\n      <td>...</td>\n      <td>...</td>\n      <td>...</td>\n      <td>...</td>\n    </tr>\n    <tr>\n      <th>1763</th>\n      <td>I work for a healthcare system where 80% of th...</td>\n      <td>\"I work for a healthcare system where 80% of t...</td>\n      <td>\"Most of us are female and would have loved to...</td>\n      <td>\"It's a small thing but most of us are female ...</td>\n      <td>NaN</td>\n      <td>NaN</td>\n      <td>\"executives, who are all white males\"</td>\n    </tr>\n    <tr>\n      <th>1764</th>\n      <td>I'm getting paid $5,000 a year less than my ma...</td>\n      <td>I'm getting paid $5,000 a year less than my m...</td>\n      <td>I'm getting paid $5,000 a year less than my m...</td>\n      <td>I attended college for four years while my co...</td>\n      <td>I'm getting paid $5,000 a year less than my m...</td>\n      <td>I'm getting paid $5,000 a year less than my m...</td>\n      <td>I'm getting paid $5,000 a year less than my m...</td>\n    </tr>\n    <tr>\n      <th>1765</th>\n      <td>This is my second entry to the project. Same b...</td>\n      <td>Boss on the phone to a male colleague \"it’s a...</td>\n      <td>Writer looking at the boss with a displeasing...</td>\n      <td>Writer reporting the incident to the next man...</td>\n      <td>Boss making a comment about the writer's coll...</td>\n      <td>Writer feeling like they need to find a new job</td>\n      <td>Boss  Male colleague on the phone  Next manag...</td>\n    </tr>\n    <tr>\n      <th>1766</th>\n      <td>Need some advice. I am female and use the wome...</td>\n      <td>Using women's toilets  Being attracted to men...</td>\n      <td>Feeling uncomfortable when called a \"lady\"  F...</td>\n      <td>Not using make-up except for clear chapstick ...</td>\n      <td>Not sure if there is an inappropriate respons...</td>\n      <td>Feeling unhappy with being shoved into the \"l...</td>\n      <td>The writer  Men who talk over the writer when...</td>\n    </tr>\n    <tr>\n      <th>1767</th>\n      <td>I was getting a professional workplace photo t...</td>\n      <td>\"I was getting a professional workplace photo ...</td>\n      <td>\"The everyday sexism begins! Photographer says...</td>\n      <td>\"I have to deal with this but my husband doesn...</td>\n      <td>\"If he was a feminist he should know better th...</td>\n      <td>\"I have a feeling that I’m going to encounter ...</td>\n      <td>\"Photographer, my husband and I.\"</td>\n    </tr>\n  </tbody>\n</table>\n<p>1768 rows × 7 columns</p>\n</div>"
          },
          "metadata": {}
        }
      ],
      "execution_count": 4,
      "block_group": "ce81d347e35f4f80ba0e8dcf74e69469"
    },
    {
      "cell_type": "code",
      "source": "def remove_outer_quotes(input_value):\n    if isinstance(input_value, str) and len(input_value) >= 2 and input_value[0] == '\"' and input_value[-1] == '\"':\n        return input_value[1:-1]\n    else:\n        return input_value\n\n# Example usage:\noriginal_string = '\"This is a quoted string\"'\nmodified_string = remove_outer_quotes(original_string)\nprint(modified_string)",
      "metadata": {
        "source_hash": "89c753b",
        "execution_start": 1700264330053,
        "execution_millis": 17,
        "deepnote_to_be_reexecuted": false,
        "cell_id": "f1512785892743db9b23f7906bd45704",
        "deepnote_cell_type": "code"
      },
      "outputs": [
        {
          "name": "stdout",
          "text": "This is a quoted string\n",
          "output_type": "stream"
        }
      ],
      "execution_count": 5,
      "block_group": "16d51e07d88d4d04a26e439cff96f2ae"
    },
    {
      "cell_type": "code",
      "source": "df = df.applymap(remove_outer_quotes)\ndf.head()",
      "metadata": {
        "source_hash": "b6c02910",
        "execution_start": 1700264330071,
        "execution_millis": 30,
        "deepnote_table_state": {
          "sortBy": [],
          "filters": [],
          "pageSize": 10,
          "pageIndex": 0
        },
        "deepnote_table_loading": false,
        "deepnote_to_be_reexecuted": false,
        "cell_id": "ea5ab2e6e09141fa8d034a0e9c331127",
        "deepnote_cell_type": "code"
      },
      "outputs": [
        {
          "output_type": "execute_result",
          "execution_count": 6,
          "data": {
            "application/vnd.deepnote.dataframe.v3+json": {
              "column_count": 7,
              "row_count": 5,
              "columns": [
                {
                  "name": "Input",
                  "dtype": "object",
                  "stats": {
                    "unique_count": 5,
                    "nan_count": 0,
                    "categories": [
                      {
                        "name": "When I was 17, I worked in a clothing store that sold both mens and womens clothing, as well as some unisex items. I was working overtime in the evening, around 8.30pm during the winter so it was already dark. I was by myself on the shop floor as my manager was cashing up in the stock room, when a man in his late 50s/early 60s came in and started asking about the winter boots we had on special offer. We kept all of the stock below the display table, so I knelt on the floor to find his size when he said 'Whilst you're down there, why don't you take one for the team?'. As I was quite a naive 17 year old, I didn't quite understand, so I just awkwardly smiled and ignored it. After he bought the boots and left, I went to speak with my manager. She confirmed that he was actually insinuating I gave him a blowjob, I was shocked and quite upset! She told me to just 'ignore it and don't get upset by it'! Even when I think about it now, it makes me extremely uncomfortable. ",
                        "count": 1
                      },
                      {
                        "name": "I left my job to return for a PhD with an intention of developing expertise in my field and preventing encounters with men who label me 'ignorant' or hint to my own incompetence. Part of my PhD requires public engagement via social media. In one such recent Twitter encounter, I stated my opinion and backed it up with facts. A man that disagreed then proceeded to lash out, calling my remarks 'effete' and 'ignorant.' I called out the blatant sexism, for which he continued to retaliate, calling my tone condescending. This is such a nasty cycle and I find it so extremely frustrating'if we sit back, it happens more. And if we speak up, sexism intensifies. We have our work cut out for us. ",
                        "count": 1
                      },
                      {
                        "name": "3 others",
                        "count": 3
                      }
                    ]
                  }
                },
                {
                  "name": "Situation",
                  "dtype": "object",
                  "stats": {
                    "unique_count": 5,
                    "nan_count": 0,
                    "categories": [
                      {
                        "name": " When I was 17, I worked in a clothing store that sold both mens and womens clothing, as well as some unisex items.  I was working overtime in the evening, around 8.30pm during the winter so it was already dark.  I was by myself on the shop floor as my manager was cashing up in the stock room, when a man in his late 50s/early 60s came in and started asking about the winter boots we had on special offer.  We kept all of the stock below the display table, so I knelt on the floor to find his size when he said “Whilst you’re down there, why don’t you take one for the team?”",
                        "count": 1
                      },
                      {
                        "name": " I left my job to return for a PhD with an intention of developing expertise in my field and preventing encounters with men who label me 'ignorant' or hint to my own incompetence.  Part of my PhD requires public engagement via social media.  In one such recent Twitter encounter, I stated my opinion and backed it up with facts.  A man that disagreed then proceeded to lash out, calling my remarks 'effete' and 'ignorant.'  I called out the blatant sexism, for which he continued to retaliate, calling my tone condescending.",
                        "count": 1
                      },
                      {
                        "name": "3 others",
                        "count": 3
                      }
                    ]
                  }
                },
                {
                  "name": "Feelings",
                  "dtype": "object",
                  "stats": {
                    "unique_count": 5,
                    "nan_count": 0,
                    "categories": [
                      {
                        "name": " I was quite a naive 17 year old, I didn’t quite understand, so I just awkwardly smiled and ignored it.  I was shocked and quite upset!",
                        "count": 1
                      },
                      {
                        "name": " I find it so extremely frustrating.",
                        "count": 1
                      },
                      {
                        "name": "3 others",
                        "count": 3
                      }
                    ]
                  }
                },
                {
                  "name": "Action in response",
                  "dtype": "object",
                  "stats": {
                    "unique_count": 5,
                    "nan_count": 0,
                    "categories": [
                      {
                        "name": " I went to speak with my manager.  She confirmed that he was actually insinuating I gave him a blowjob, I was shocked and quite upset!",
                        "count": 1
                      },
                      {
                        "name": " I called out the blatant sexism.",
                        "count": 1
                      },
                      {
                        "name": "3 others",
                        "count": 3
                      }
                    ]
                  }
                },
                {
                  "name": "Inappropriate response",
                  "dtype": "object",
                  "stats": {
                    "unique_count": 5,
                    "nan_count": 0,
                    "categories": [
                      {
                        "name": " She told me to just “ignore it and don’t get upset by it”!",
                        "count": 1
                      },
                      {
                        "name": " He continued to retaliate, calling my tone condescending.",
                        "count": 1
                      },
                      {
                        "name": "3 others",
                        "count": 3
                      }
                    ]
                  }
                },
                {
                  "name": "Long term impact",
                  "dtype": "object",
                  "stats": {
                    "unique_count": 5,
                    "nan_count": 0,
                    "categories": [
                      {
                        "name": " Even when I think about it now, it makes me extremely uncomfortable.",
                        "count": 1
                      },
                      {
                        "name": " We have our work cut out for us.",
                        "count": 1
                      },
                      {
                        "name": "3 others",
                        "count": 3
                      }
                    ]
                  }
                },
                {
                  "name": "Parties involved",
                  "dtype": "object",
                  "stats": {
                    "unique_count": 5,
                    "nan_count": 0,
                    "categories": [
                      {
                        "name": " The man in his late 50s/early 60s who made the inappropriate comment, the 17-year-old employee who was working at the time, and the manager who was cashing up in the stock room.",
                        "count": 1
                      },
                      {
                        "name": " The man that disagreed and called my remarks 'effete' and 'ignorant.'  I called out the blatant sexism.  He continued to retaliate, calling my tone condescending.",
                        "count": 1
                      },
                      {
                        "name": "3 others",
                        "count": 3
                      }
                    ]
                  }
                },
                {
                  "name": "_deepnote_index_column",
                  "dtype": "int64"
                }
              ],
              "rows": [
                {
                  "Input": "When I was 17, I worked in a clothing store that sold both mens and womens clothing, as well as some unisex items. I was working overtime in the evening, around 8.30pm during the winter so it was already dark. I was by myself on the shop floor as my manager was cashing up in the stock room, when a man in his late 50s/early 60s came in and started asking about the winter boots we had on special offer. We kept all of the stock below the display table, so I knelt on the floor to find his size when he said 'Whilst you're down there, why don't you take one for the team?'. As I was quite a naive 17 year old, I didn't quite understand, so I just awkwardly smiled and ignored it. After he bought the boots and left, I went to speak with my manager. She confirmed that he was actually insinuating I gave him a blowjob, I was shocked and quite upset! She told me to just 'ignore it and don't get upset by it'! Even when I think about it now, it makes me extremely uncomfortable. ",
                  "Situation": " When I was 17, I worked in a clothing store that sold both mens and womens clothing, as well as some unisex items.  I was working overtime in the evening, around 8.30pm during the winter so it was already dark.  I was by myself on the shop floor as my manager was cashing up in the stock room, when a man in his late 50s/early 60s came in and started asking about the winter boots we had on special offer.  We kept all of the stock below the display table, so I knelt on the floor to find his size when he said “Whilst you’re down there, why don’t you take one for the team?”",
                  "Feelings": " I was quite a naive 17 year old, I didn’t quite understand, so I just awkwardly smiled and ignored it.  I was shocked and quite upset!",
                  "Action in response": " I went to speak with my manager.  She confirmed that he was actually insinuating I gave him a blowjob, I was shocked and quite upset!",
                  "Inappropriate response": " She told me to just “ignore it and don’t get upset by it”!",
                  "Long term impact": " Even when I think about it now, it makes me extremely uncomfortable.",
                  "Parties involved": " The man in his late 50s/early 60s who made the inappropriate comment, the 17-year-old employee who was working at the time, and the manager who was cashing up in the stock room.",
                  "_deepnote_index_column": 0
                },
                {
                  "Input": "I left my job to return for a PhD with an intention of developing expertise in my field and preventing encounters with men who label me 'ignorant' or hint to my own incompetence. Part of my PhD requires public engagement via social media. In one such recent Twitter encounter, I stated my opinion and backed it up with facts. A man that disagreed then proceeded to lash out, calling my remarks 'effete' and 'ignorant.' I called out the blatant sexism, for which he continued to retaliate, calling my tone condescending. This is such a nasty cycle and I find it so extremely frustrating'if we sit back, it happens more. And if we speak up, sexism intensifies. We have our work cut out for us. ",
                  "Situation": " I left my job to return for a PhD with an intention of developing expertise in my field and preventing encounters with men who label me 'ignorant' or hint to my own incompetence.  Part of my PhD requires public engagement via social media.  In one such recent Twitter encounter, I stated my opinion and backed it up with facts.  A man that disagreed then proceeded to lash out, calling my remarks 'effete' and 'ignorant.'  I called out the blatant sexism, for which he continued to retaliate, calling my tone condescending.",
                  "Feelings": " I find it so extremely frustrating.",
                  "Action in response": " I called out the blatant sexism.",
                  "Inappropriate response": " He continued to retaliate, calling my tone condescending.",
                  "Long term impact": " We have our work cut out for us.",
                  "Parties involved": " The man that disagreed and called my remarks 'effete' and 'ignorant.'  I called out the blatant sexism.  He continued to retaliate, calling my tone condescending.",
                  "_deepnote_index_column": 1
                },
                {
                  "Input": "A leaflet about 'supporting teenagers' in my country published by so called 'experienced' psychotherapists contains a lot of pernicious gender stereotypes. The reason why I despair about living in my country is that girls get stereotyped as behaving one way and boys get stereotyped as behaving the opposite way, even when in reality there is a lot of overlap of behaviours between the sexes! In the leaflet, girls are automatically assumed to be 'vulnerable' and in need of 'empowering'. This is kind of offensive and degrading to many young women who are capable and self sufficient. Some women do not view themselves as 'helpless victims', but instead as highly capable survivors! Calling girls 'vulnerable' or fragile doesn't help them deal with stuff in an adaptive or a resilient way. While it is true that some young women struggle with issues around eating (please don't use the pathologising words 'eating disorder' because it is society's expectations around food that are disordered, not …",
                  "Situation": " The leaflet about supporting teenagers in my country contains pernicious gender stereotypes.  Girls are automatically assumed to be vulnerable and in need of empowering, while boys are stereotyped as behaving the opposite way.  The leaflet calls girls over-conscientious and perfectionistic, while ignoring the fact that many young men also engage in anorexic or bulimic behaviors.  The leaflet assumes that girls should be denied the opportunity to excel by people who call them too perfectionistic.  The author's grandmother liked to do things thoroughly and properly as part of her job.",
                  "Feelings": " The author is disappointed and frustrated about living in a country where gender stereotypes are prevalent.  The author is offended by the assumption that girls are vulnerable and in need of empowering, and that young women who are capable and self-sufficient do not view themselves as helpless victims.  The author is angry that the leaflet ignores the fact that many young men also engage in anorexic or bulimic behaviors.  The author is disappointed that some teachers, parents, and \"professionals\" may be envious of young women's achievements and actively discourage their hard work and diligence.",
                  "Action in response": " The author is considering writing a letter to the editor of the publication that printed the leaflet to express their concerns.  The author is advocating for a culture of praise and encouragement for young women who excel in their studies and pursuits.",
                  "Inappropriate response": " The author does not believe that calling girls too perfectionistic is an inappropriate response, as they believe that aiming for perfection is a valuable goal.",
                  "Long term impact": " The author believes that the leaflet's gender stereotypes and negative messages about young women's abilities and behaviors can have a long-term impact on their self-esteem and confidence.  The author believes that encouraging young women to aim for high standards and do their best can have a positive impact on their future success and achievements.",
                  "Parties involved": " The author, who is a young woman living in their country.  The publication that printed the leaflet, which the author believes is promoting harmful gender stereotypes.  The teachers, parents, and \"professionals\" who may be envious of young women's achievements and actively discourage their hard work and diligence.",
                  "_deepnote_index_column": 2
                },
                {
                  "Input": "As a 16 year old girl, I know very well that sexism exists. On pretty much a daily basis, I am shouted out from car windows whilst walking down the street, or approached by strangers whilst out in public, usually by older men. This is something that as a female, you get used to, enough though you shouldn't have to. One thing I will not get over though, is being told that sexism is not an issue. I take a sociology class at my college, and one of the subjects we cover if feminism. This is something that me and my friends are passionate about, we believe it needs to be talked about in order for things to change. There are however, a number of boys in that class who disagree with feminists and try to tell us everything we say is wrong. I can accept this; everyone is entitled to an opinion and I am willing to listen to anyone's opinion. Today it reached a point where I can no longer just accept their opinion. As a group, we watched the Everyday Sexism Project talk 'CoventGardenWomen'. All …",
                  "Situation": " Being shouted out from car windows whilst walking down the street  Being approached by strangers whilst out in public, usually by older men  Being told that sexism is not an issue  Being in a sociology class where feminism is discussed  Being in a group that watches the Everyday Sexism Project talk  Being told that there's no reason for women to feel unsafe whilst walking alone  Being told that sexual assault isn't a problem  Being told that if it really happened more women would come forward",
                  "Feelings": " Used to getting shouted out from car windows  Not used to being approached by strangers  Frustrated that people deny the existence of sexism  Passionate about feminism  Heartbroken to see insensitivity towards sexual assault  Scared of being laughed at or told it's not a big deal  Suffering alone because of victim blaming",
                  "Action in response": " Listening to the opinions of others  Watching the Everyday Sexism Project talk  Asking for the speech to be turned off  Being told to stop complaining",
                  "Inappropriate response": " Laughing at the Everyday Sexism Project talk  Telling the speaker to stop complaining",
                  "Long term impact": " Being used to daily sexism  Feeling frustrated and heartbroken  Being scared to speak out  Suffering alone",
                  "Parties involved": " The writer (as a 16 year old girl)  Strangers who approach the writer in public  Classmates who disagree with feminism  The speaker in the Everyday Sexism Project talk  The writer's friends who are passionate about feminism",
                  "_deepnote_index_column": 3
                },
                {
                  "Input": "I worked in a doggie daycare for two years as the front desk manager. I saw many of the same clients regularly, day after day. At least two middle-aged men often would touch my shoulder for no reason while we exchanged pleasantries as they dropped off their dogs. They may have thought they were being nice, or friendly, but it was creepy and uncomfortable and as I was in my workplace and my job was to be polite and courteous to all customers I never felt ok to point out how it made me feel or ask them to stop. ",
                  "Situation": "I worked in a doggie daycare for two years as the front desk manager.",
                  "Feelings": "It was creepy and uncomfortable.",
                  "Action in response": "I never felt ok to point out how it made me feel or ask them to stop.",
                  "Inappropriate response": "They may have thought they were being nice, or friendly, but it was creepy and uncomfortable.",
                  "Long term impact": "I never felt ok to point out how it made me feel or ask them to stop.",
                  "Parties involved": "At least two middle-aged men often would touch my shoulder for no reason while we exchanged pleasantries as they dropped off their dogs.",
                  "_deepnote_index_column": 4
                }
              ]
            },
            "text/plain": "                                               Input  \\\n0  When I was 17, I worked in a clothing store th...   \n1  I left my job to return for a PhD with an inte...   \n2  A leaflet about 'supporting teenagers' in my c...   \n3  As a 16 year old girl, I know very well that s...   \n4  I worked in a doggie daycare for two years as ...   \n\n                                           Situation  \\\n0   When I was 17, I worked in a clothing store t...   \n1   I left my job to return for a PhD with an int...   \n2   The leaflet about supporting teenagers in my ...   \n3   Being shouted out from car windows whilst wal...   \n4  I worked in a doggie daycare for two years as ...   \n\n                                            Feelings  \\\n0   I was quite a naive 17 year old, I didn’t qui...   \n1                I find it so extremely frustrating.   \n2   The author is disappointed and frustrated abo...   \n3   Used to getting shouted out from car windows ...   \n4                   It was creepy and uncomfortable.   \n\n                                  Action in response  \\\n0   I went to speak with my manager.  She confirm...   \n1                   I called out the blatant sexism.   \n2   The author is considering writing a letter to...   \n3   Listening to the opinions of others  Watching...   \n4  I never felt ok to point out how it made me fe...   \n\n                              Inappropriate response  \\\n0   She told me to just “ignore it and don’t get ...   \n1   He continued to retaliate, calling my tone co...   \n2   The author does not believe that calling girl...   \n3   Laughing at the Everyday Sexism Project talk ...   \n4  They may have thought they were being nice, or...   \n\n                                    Long term impact  \\\n0   Even when I think about it now, it makes me e...   \n1                   We have our work cut out for us.   \n2   The author believes that the leaflet's gender...   \n3   Being used to daily sexism  Feeling frustrate...   \n4  I never felt ok to point out how it made me fe...   \n\n                                    Parties involved  \n0   The man in his late 50s/early 60s who made th...  \n1   The man that disagreed and called my remarks ...  \n2   The author, who is a young woman living in th...  \n3   The writer (as a 16 year old girl)  Strangers...  \n4  At least two middle-aged men often would touch...  ",
            "text/html": "<div>\n<style scoped>\n    .dataframe tbody tr th:only-of-type {\n        vertical-align: middle;\n    }\n\n    .dataframe tbody tr th {\n        vertical-align: top;\n    }\n\n    .dataframe thead th {\n        text-align: right;\n    }\n</style>\n<table border=\"1\" class=\"dataframe\">\n  <thead>\n    <tr style=\"text-align: right;\">\n      <th></th>\n      <th>Input</th>\n      <th>Situation</th>\n      <th>Feelings</th>\n      <th>Action in response</th>\n      <th>Inappropriate response</th>\n      <th>Long term impact</th>\n      <th>Parties involved</th>\n    </tr>\n  </thead>\n  <tbody>\n    <tr>\n      <th>0</th>\n      <td>When I was 17, I worked in a clothing store th...</td>\n      <td>When I was 17, I worked in a clothing store t...</td>\n      <td>I was quite a naive 17 year old, I didn’t qui...</td>\n      <td>I went to speak with my manager.  She confirm...</td>\n      <td>She told me to just “ignore it and don’t get ...</td>\n      <td>Even when I think about it now, it makes me e...</td>\n      <td>The man in his late 50s/early 60s who made th...</td>\n    </tr>\n    <tr>\n      <th>1</th>\n      <td>I left my job to return for a PhD with an inte...</td>\n      <td>I left my job to return for a PhD with an int...</td>\n      <td>I find it so extremely frustrating.</td>\n      <td>I called out the blatant sexism.</td>\n      <td>He continued to retaliate, calling my tone co...</td>\n      <td>We have our work cut out for us.</td>\n      <td>The man that disagreed and called my remarks ...</td>\n    </tr>\n    <tr>\n      <th>2</th>\n      <td>A leaflet about 'supporting teenagers' in my c...</td>\n      <td>The leaflet about supporting teenagers in my ...</td>\n      <td>The author is disappointed and frustrated abo...</td>\n      <td>The author is considering writing a letter to...</td>\n      <td>The author does not believe that calling girl...</td>\n      <td>The author believes that the leaflet's gender...</td>\n      <td>The author, who is a young woman living in th...</td>\n    </tr>\n    <tr>\n      <th>3</th>\n      <td>As a 16 year old girl, I know very well that s...</td>\n      <td>Being shouted out from car windows whilst wal...</td>\n      <td>Used to getting shouted out from car windows ...</td>\n      <td>Listening to the opinions of others  Watching...</td>\n      <td>Laughing at the Everyday Sexism Project talk ...</td>\n      <td>Being used to daily sexism  Feeling frustrate...</td>\n      <td>The writer (as a 16 year old girl)  Strangers...</td>\n    </tr>\n    <tr>\n      <th>4</th>\n      <td>I worked in a doggie daycare for two years as ...</td>\n      <td>I worked in a doggie daycare for two years as ...</td>\n      <td>It was creepy and uncomfortable.</td>\n      <td>I never felt ok to point out how it made me fe...</td>\n      <td>They may have thought they were being nice, or...</td>\n      <td>I never felt ok to point out how it made me fe...</td>\n      <td>At least two middle-aged men often would touch...</td>\n    </tr>\n  </tbody>\n</table>\n</div>"
          },
          "metadata": {}
        }
      ],
      "execution_count": 6,
      "block_group": "159f1f7bde2548a3bdadea916f90aa80"
    },
    {
      "cell_type": "code",
      "source": "df.iloc[0][0]",
      "metadata": {
        "source_hash": "e8435aa9",
        "execution_start": 1700264330100,
        "execution_millis": 11,
        "deepnote_to_be_reexecuted": false,
        "cell_id": "f7839034978f4a4aa07cb06dbab8ff3d",
        "deepnote_cell_type": "code"
      },
      "outputs": [
        {
          "output_type": "execute_result",
          "execution_count": 7,
          "data": {
            "text/plain": "\"When I was 17, I worked in a clothing store that sold both mens and womens clothing, as well as some unisex items. I was working overtime in the evening, around 8.30pm during the winter so it was already dark. I was by myself on the shop floor as my manager was cashing up in the stock room, when a man in his late 50s/early 60s came in and started asking about the winter boots we had on special offer. We kept all of the stock below the display table, so I knelt on the floor to find his size when he said 'Whilst you're down there, why don't you take one for the team?'. As I was quite a naive 17 year old, I didn't quite understand, so I just awkwardly smiled and ignored it. After he bought the boots and left, I went to speak with my manager. She confirmed that he was actually insinuating I gave him a blowjob, I was shocked and quite upset! She told me to just 'ignore it and don't get upset by it'! Even when I think about it now, it makes me extremely uncomfortable. \""
          },
          "metadata": {}
        }
      ],
      "execution_count": 7,
      "block_group": "4ea08acdf3cc4c68af14e87bcefcbfb2"
    },
    {
      "cell_type": "markdown",
      "source": "### Cosine Similarity (Scikit-Learn)",
      "metadata": {
        "formattedRanges": [],
        "cell_id": "8d1b4af7374f422b868c2542d6ac3d31",
        "deepnote_cell_type": "text-cell-h3"
      },
      "block_group": "c43751a7b6e04c05acdda7756e1e0396"
    },
    {
      "cell_type": "code",
      "source": "def format_row(row):\n    labels = ['Situation', 'Feelings', 'Action in response', 'Inappropriate response', 'Long term impact', 'Parties involved']\n    formatted_row = []\n    for label, content in zip(labels, row):\n        if pd.notna(content):\n            formatted_row.append(f\"{label}: {content}\\n\")\n    return ' '.join(formatted_row)",
      "metadata": {
        "source_hash": "df1c10a",
        "execution_start": 1700264330153,
        "execution_millis": 9,
        "deepnote_to_be_reexecuted": false,
        "cell_id": "42f2c6af56a445ff90450a9ca6bff9df",
        "deepnote_cell_type": "code"
      },
      "outputs": [],
      "execution_count": 8,
      "block_group": "36d43064aab84448bd2b5dd0d9c0fecc"
    },
    {
      "cell_type": "code",
      "source": "merged_df = df.copy()\nmerged_df['Merged'] = merged_df.iloc[:, 1:].apply(format_row, axis=1)\nmerged_df = merged_df.drop(['Situation', 'Feelings', 'Action in response', 'Inappropriate response', 'Long term impact', 'Parties involved'], axis=1)\nmerged_df.head()",
      "metadata": {
        "source_hash": "8c7d0b37",
        "execution_start": 1700264330171,
        "execution_millis": 8,
        "deepnote_to_be_reexecuted": false,
        "cell_id": "1a1dae74ab194885ab782067a91319fd",
        "deepnote_cell_type": "code"
      },
      "outputs": [
        {
          "output_type": "execute_result",
          "execution_count": 9,
          "data": {
            "application/vnd.deepnote.dataframe.v3+json": {
              "column_count": 2,
              "row_count": 5,
              "columns": [
                {
                  "name": "Input",
                  "dtype": "object",
                  "stats": {
                    "unique_count": 5,
                    "nan_count": 0,
                    "categories": [
                      {
                        "name": "When I was 17, I worked in a clothing store that sold both mens and womens clothing, as well as some unisex items. I was working overtime in the evening, around 8.30pm during the winter so it was already dark. I was by myself on the shop floor as my manager was cashing up in the stock room, when a man in his late 50s/early 60s came in and started asking about the winter boots we had on special offer. We kept all of the stock below the display table, so I knelt on the floor to find his size when he said 'Whilst you're down there, why don't you take one for the team?'. As I was quite a naive 17 year old, I didn't quite understand, so I just awkwardly smiled and ignored it. After he bought the boots and left, I went to speak with my manager. She confirmed that he was actually insinuating I gave him a blowjob, I was shocked and quite upset! She told me to just 'ignore it and don't get upset by it'! Even when I think about it now, it makes me extremely uncomfortable. ",
                        "count": 1
                      },
                      {
                        "name": "I left my job to return for a PhD with an intention of developing expertise in my field and preventing encounters with men who label me 'ignorant' or hint to my own incompetence. Part of my PhD requires public engagement via social media. In one such recent Twitter encounter, I stated my opinion and backed it up with facts. A man that disagreed then proceeded to lash out, calling my remarks 'effete' and 'ignorant.' I called out the blatant sexism, for which he continued to retaliate, calling my tone condescending. This is such a nasty cycle and I find it so extremely frustrating'if we sit back, it happens more. And if we speak up, sexism intensifies. We have our work cut out for us. ",
                        "count": 1
                      },
                      {
                        "name": "3 others",
                        "count": 3
                      }
                    ]
                  }
                },
                {
                  "name": "Merged",
                  "dtype": "object",
                  "stats": {
                    "unique_count": 5,
                    "nan_count": 0,
                    "categories": [
                      {
                        "name": "Situation:  When I was 17, I worked in a clothing store that sold both mens and womens clothing, as well as some unisex items.  I was working overtime in the evening, around 8.30pm during the winter so it was already dark.  I was by myself on the shop floor as my manager was cashing up in the stock room, when a man in his late 50s/early 60s came in and started asking about the winter boots we had on special offer.  We kept all of the stock below the display table, so I knelt on the floor to find his size when he said “Whilst you’re down there, why don’t you take one for the team?”\n Feelings:  I was quite a naive 17 year old, I didn’t quite understand, so I just awkwardly smiled and ignored it.  I was shocked and quite upset!\n Action in response:  I went to speak with my manager.  She confirmed that he was actually insinuating I gave him a blowjob, I was shocked and quite upset!\n Inappropriate response:  She told me to just “ignore it and don’t get upset by it”!\n Long term impact:  Even when I think about it now, it makes me extremely uncomfortable.\n Parties involved:  The man in his late 50s/early 60s who made the inappropriate comment, the 17-year-old employee who was working at the time, and the manager who was cashing up in the stock room.\n",
                        "count": 1
                      },
                      {
                        "name": "Situation:  I left my job to return for a PhD with an intention of developing expertise in my field and preventing encounters with men who label me 'ignorant' or hint to my own incompetence.  Part of my PhD requires public engagement via social media.  In one such recent Twitter encounter, I stated my opinion and backed it up with facts.  A man that disagreed then proceeded to lash out, calling my remarks 'effete' and 'ignorant.'  I called out the blatant sexism, for which he continued to retaliate, calling my tone condescending.\n Feelings:  I find it so extremely frustrating.\n Action in response:  I called out the blatant sexism.\n Inappropriate response:  He continued to retaliate, calling my tone condescending.\n Long term impact:  We have our work cut out for us.\n Parties involved:  The man that disagreed and called my remarks 'effete' and 'ignorant.'  I called out the blatant sexism.  He continued to retaliate, calling my tone condescending.\n",
                        "count": 1
                      },
                      {
                        "name": "3 others",
                        "count": 3
                      }
                    ]
                  }
                },
                {
                  "name": "_deepnote_index_column",
                  "dtype": "int64"
                }
              ],
              "rows": [
                {
                  "Input": "When I was 17, I worked in a clothing store that sold both mens and womens clothing, as well as some unisex items. I was working overtime in the evening, around 8.30pm during the winter so it was already dark. I was by myself on the shop floor as my manager was cashing up in the stock room, when a man in his late 50s/early 60s came in and started asking about the winter boots we had on special offer. We kept all of the stock below the display table, so I knelt on the floor to find his size when he said 'Whilst you're down there, why don't you take one for the team?'. As I was quite a naive 17 year old, I didn't quite understand, so I just awkwardly smiled and ignored it. After he bought the boots and left, I went to speak with my manager. She confirmed that he was actually insinuating I gave him a blowjob, I was shocked and quite upset! She told me to just 'ignore it and don't get upset by it'! Even when I think about it now, it makes me extremely uncomfortable. ",
                  "Merged": "Situation:  When I was 17, I worked in a clothing store that sold both mens and womens clothing, as well as some unisex items.  I was working overtime in the evening, around 8.30pm during the winter so it was already dark.  I was by myself on the shop floor as my manager was cashing up in the stock room, when a man in his late 50s/early 60s came in and started asking about the winter boots we had on special offer.  We kept all of the stock below the display table, so I knelt on the floor to find his size when he said “Whilst you’re down there, why don’t you take one for the team?”\n Feelings:  I was quite a naive 17 year old, I didn’t quite understand, so I just awkwardly smiled and ignored it.  I was shocked and quite upset!\n Action in response:  I went to speak with my manager.  She confirmed that he was actually insinuating I gave him a blowjob, I was shocked and quite upset!\n Inappropriate response:  She told me to just “ignore it and don’t get upset by it”!\n Long term impact:  Eve…",
                  "_deepnote_index_column": 0
                },
                {
                  "Input": "I left my job to return for a PhD with an intention of developing expertise in my field and preventing encounters with men who label me 'ignorant' or hint to my own incompetence. Part of my PhD requires public engagement via social media. In one such recent Twitter encounter, I stated my opinion and backed it up with facts. A man that disagreed then proceeded to lash out, calling my remarks 'effete' and 'ignorant.' I called out the blatant sexism, for which he continued to retaliate, calling my tone condescending. This is such a nasty cycle and I find it so extremely frustrating'if we sit back, it happens more. And if we speak up, sexism intensifies. We have our work cut out for us. ",
                  "Merged": "Situation:  I left my job to return for a PhD with an intention of developing expertise in my field and preventing encounters with men who label me 'ignorant' or hint to my own incompetence.  Part of my PhD requires public engagement via social media.  In one such recent Twitter encounter, I stated my opinion and backed it up with facts.  A man that disagreed then proceeded to lash out, calling my remarks 'effete' and 'ignorant.'  I called out the blatant sexism, for which he continued to retaliate, calling my tone condescending.\n Feelings:  I find it so extremely frustrating.\n Action in response:  I called out the blatant sexism.\n Inappropriate response:  He continued to retaliate, calling my tone condescending.\n Long term impact:  We have our work cut out for us.\n Parties involved:  The man that disagreed and called my remarks 'effete' and 'ignorant.'  I called out the blatant sexism.  He continued to retaliate, calling my tone condescending.\n",
                  "_deepnote_index_column": 1
                },
                {
                  "Input": "A leaflet about 'supporting teenagers' in my country published by so called 'experienced' psychotherapists contains a lot of pernicious gender stereotypes. The reason why I despair about living in my country is that girls get stereotyped as behaving one way and boys get stereotyped as behaving the opposite way, even when in reality there is a lot of overlap of behaviours between the sexes! In the leaflet, girls are automatically assumed to be 'vulnerable' and in need of 'empowering'. This is kind of offensive and degrading to many young women who are capable and self sufficient. Some women do not view themselves as 'helpless victims', but instead as highly capable survivors! Calling girls 'vulnerable' or fragile doesn't help them deal with stuff in an adaptive or a resilient way. While it is true that some young women struggle with issues around eating (please don't use the pathologising words 'eating disorder' because it is society's expectations around food that are disordered, not …",
                  "Merged": "Situation:  The leaflet about supporting teenagers in my country contains pernicious gender stereotypes.  Girls are automatically assumed to be vulnerable and in need of empowering, while boys are stereotyped as behaving the opposite way.  The leaflet calls girls over-conscientious and perfectionistic, while ignoring the fact that many young men also engage in anorexic or bulimic behaviors.  The leaflet assumes that girls should be denied the opportunity to excel by people who call them too perfectionistic.  The author's grandmother liked to do things thoroughly and properly as part of her job.\n Feelings:  The author is disappointed and frustrated about living in a country where gender stereotypes are prevalent.  The author is offended by the assumption that girls are vulnerable and in need of empowering, and that young women who are capable and self-sufficient do not view themselves as helpless victims.  The author is angry that the leaflet ignores the fact that many young men also e…",
                  "_deepnote_index_column": 2
                },
                {
                  "Input": "As a 16 year old girl, I know very well that sexism exists. On pretty much a daily basis, I am shouted out from car windows whilst walking down the street, or approached by strangers whilst out in public, usually by older men. This is something that as a female, you get used to, enough though you shouldn't have to. One thing I will not get over though, is being told that sexism is not an issue. I take a sociology class at my college, and one of the subjects we cover if feminism. This is something that me and my friends are passionate about, we believe it needs to be talked about in order for things to change. There are however, a number of boys in that class who disagree with feminists and try to tell us everything we say is wrong. I can accept this; everyone is entitled to an opinion and I am willing to listen to anyone's opinion. Today it reached a point where I can no longer just accept their opinion. As a group, we watched the Everyday Sexism Project talk 'CoventGardenWomen'. All …",
                  "Merged": "Situation:  Being shouted out from car windows whilst walking down the street  Being approached by strangers whilst out in public, usually by older men  Being told that sexism is not an issue  Being in a sociology class where feminism is discussed  Being in a group that watches the Everyday Sexism Project talk  Being told that there's no reason for women to feel unsafe whilst walking alone  Being told that sexual assault isn't a problem  Being told that if it really happened more women would come forward\n Feelings:  Used to getting shouted out from car windows  Not used to being approached by strangers  Frustrated that people deny the existence of sexism  Passionate about feminism  Heartbroken to see insensitivity towards sexual assault  Scared of being laughed at or told it's not a big deal  Suffering alone because of victim blaming\n Action in response:  Listening to the opinions of others  Watching the Everyday Sexism Project talk  Asking for the speech to be turned off  Being told …",
                  "_deepnote_index_column": 3
                },
                {
                  "Input": "I worked in a doggie daycare for two years as the front desk manager. I saw many of the same clients regularly, day after day. At least two middle-aged men often would touch my shoulder for no reason while we exchanged pleasantries as they dropped off their dogs. They may have thought they were being nice, or friendly, but it was creepy and uncomfortable and as I was in my workplace and my job was to be polite and courteous to all customers I never felt ok to point out how it made me feel or ask them to stop. ",
                  "Merged": "Situation: I worked in a doggie daycare for two years as the front desk manager.\n Feelings: It was creepy and uncomfortable.\n Action in response: I never felt ok to point out how it made me feel or ask them to stop.\n Inappropriate response: They may have thought they were being nice, or friendly, but it was creepy and uncomfortable.\n Long term impact: I never felt ok to point out how it made me feel or ask them to stop.\n Parties involved: At least two middle-aged men often would touch my shoulder for no reason while we exchanged pleasantries as they dropped off their dogs.\n",
                  "_deepnote_index_column": 4
                }
              ]
            },
            "text/plain": "                                               Input  \\\n0  When I was 17, I worked in a clothing store th...   \n1  I left my job to return for a PhD with an inte...   \n2  A leaflet about 'supporting teenagers' in my c...   \n3  As a 16 year old girl, I know very well that s...   \n4  I worked in a doggie daycare for two years as ...   \n\n                                              Merged  \n0  Situation:  When I was 17, I worked in a cloth...  \n1  Situation:  I left my job to return for a PhD ...  \n2  Situation:  The leaflet about supporting teena...  \n3  Situation:  Being shouted out from car windows...  \n4  Situation: I worked in a doggie daycare for tw...  ",
            "text/html": "<div>\n<style scoped>\n    .dataframe tbody tr th:only-of-type {\n        vertical-align: middle;\n    }\n\n    .dataframe tbody tr th {\n        vertical-align: top;\n    }\n\n    .dataframe thead th {\n        text-align: right;\n    }\n</style>\n<table border=\"1\" class=\"dataframe\">\n  <thead>\n    <tr style=\"text-align: right;\">\n      <th></th>\n      <th>Input</th>\n      <th>Merged</th>\n    </tr>\n  </thead>\n  <tbody>\n    <tr>\n      <th>0</th>\n      <td>When I was 17, I worked in a clothing store th...</td>\n      <td>Situation:  When I was 17, I worked in a cloth...</td>\n    </tr>\n    <tr>\n      <th>1</th>\n      <td>I left my job to return for a PhD with an inte...</td>\n      <td>Situation:  I left my job to return for a PhD ...</td>\n    </tr>\n    <tr>\n      <th>2</th>\n      <td>A leaflet about 'supporting teenagers' in my c...</td>\n      <td>Situation:  The leaflet about supporting teena...</td>\n    </tr>\n    <tr>\n      <th>3</th>\n      <td>As a 16 year old girl, I know very well that s...</td>\n      <td>Situation:  Being shouted out from car windows...</td>\n    </tr>\n    <tr>\n      <th>4</th>\n      <td>I worked in a doggie daycare for two years as ...</td>\n      <td>Situation: I worked in a doggie daycare for tw...</td>\n    </tr>\n  </tbody>\n</table>\n</div>"
          },
          "metadata": {}
        }
      ],
      "execution_count": 9,
      "block_group": "d4919c81f9bb4b98a7b966ca08579f21"
    },
    {
      "cell_type": "code",
      "source": "print(merged_df.iloc[0][1])",
      "metadata": {
        "source_hash": "3ae5e1bf",
        "execution_start": 1700264330176,
        "execution_millis": 13,
        "deepnote_to_be_reexecuted": false,
        "cell_id": "f0447c97c97b4728ba6e31995153932e",
        "deepnote_cell_type": "code"
      },
      "outputs": [
        {
          "name": "stdout",
          "text": "Situation:  When I was 17, I worked in a clothing store that sold both mens and womens clothing, as well as some unisex items.  I was working overtime in the evening, around 8.30pm during the winter so it was already dark.  I was by myself on the shop floor as my manager was cashing up in the stock room, when a man in his late 50s/early 60s came in and started asking about the winter boots we had on special offer.  We kept all of the stock below the display table, so I knelt on the floor to find his size when he said “Whilst you’re down there, why don’t you take one for the team?”\n Feelings:  I was quite a naive 17 year old, I didn’t quite understand, so I just awkwardly smiled and ignored it.  I was shocked and quite upset!\n Action in response:  I went to speak with my manager.  She confirmed that he was actually insinuating I gave him a blowjob, I was shocked and quite upset!\n Inappropriate response:  She told me to just “ignore it and don’t get upset by it”!\n Long term impact:  Even when I think about it now, it makes me extremely uncomfortable.\n Parties involved:  The man in his late 50s/early 60s who made the inappropriate comment, the 17-year-old employee who was working at the time, and the manager who was cashing up in the stock room.\n\n",
          "output_type": "stream"
        }
      ],
      "execution_count": 10,
      "block_group": "dcdaf3dcd8e74d53af2528d5a8e81d15"
    },
    {
      "cell_type": "code",
      "source": "from sklearn.feature_extraction.text import TfidfVectorizer\n\nvectorizer = TfidfVectorizer()\ntfidf_matrix = vectorizer.fit_transform(merged_df['Input'].tolist() + merged_df['Merged'].tolist())",
      "metadata": {
        "source_hash": "29e0358d",
        "execution_start": 1700264330183,
        "execution_millis": 815,
        "deepnote_to_be_reexecuted": false,
        "cell_id": "b5ceca4fd38f489ea3ecaa9cbeed9788",
        "deepnote_cell_type": "code"
      },
      "outputs": [],
      "execution_count": 11,
      "block_group": "cc5d63b73ee24b0199ab8a960fd6ae9c"
    },
    {
      "cell_type": "code",
      "source": "input_tfidf = tfidf_matrix[:len(merged_df)]\nmerged_tfidf = tfidf_matrix[len(merged_df):]",
      "metadata": {
        "source_hash": "115ee7b7",
        "execution_start": 1700264330999,
        "execution_millis": 46,
        "deepnote_to_be_reexecuted": false,
        "cell_id": "51e695428d2d4175952d5872eb94f81d",
        "deepnote_cell_type": "code"
      },
      "outputs": [],
      "execution_count": 12,
      "block_group": "9f5a3df5aaa4403c98ad1fcda36023cf"
    },
    {
      "cell_type": "code",
      "source": "from sklearn.metrics.pairwise import cosine_similarity\ncosine_similarities = cosine_similarity(input_tfidf, merged_tfidf)\nsimilarity_df = pd.DataFrame({\n    'Input': merged_df['Input'],\n    'Merged': merged_df['Merged'],\n    'Similarity Score': cosine_similarities.diagonal()\n})\nsimilarity_df.head()",
      "metadata": {
        "source_hash": "2d93724d",
        "execution_start": 1700264331041,
        "execution_millis": 167,
        "deepnote_to_be_reexecuted": false,
        "cell_id": "44606b7217b44b779d41a9c3122c3b19",
        "deepnote_cell_type": "code"
      },
      "outputs": [
        {
          "output_type": "execute_result",
          "execution_count": 13,
          "data": {
            "application/vnd.deepnote.dataframe.v3+json": {
              "column_count": 3,
              "row_count": 5,
              "columns": [
                {
                  "name": "Input",
                  "dtype": "object",
                  "stats": {
                    "unique_count": 5,
                    "nan_count": 0,
                    "categories": [
                      {
                        "name": "When I was 17, I worked in a clothing store that sold both mens and womens clothing, as well as some unisex items. I was working overtime in the evening, around 8.30pm during the winter so it was already dark. I was by myself on the shop floor as my manager was cashing up in the stock room, when a man in his late 50s/early 60s came in and started asking about the winter boots we had on special offer. We kept all of the stock below the display table, so I knelt on the floor to find his size when he said 'Whilst you're down there, why don't you take one for the team?'. As I was quite a naive 17 year old, I didn't quite understand, so I just awkwardly smiled and ignored it. After he bought the boots and left, I went to speak with my manager. She confirmed that he was actually insinuating I gave him a blowjob, I was shocked and quite upset! She told me to just 'ignore it and don't get upset by it'! Even when I think about it now, it makes me extremely uncomfortable. ",
                        "count": 1
                      },
                      {
                        "name": "I left my job to return for a PhD with an intention of developing expertise in my field and preventing encounters with men who label me 'ignorant' or hint to my own incompetence. Part of my PhD requires public engagement via social media. In one such recent Twitter encounter, I stated my opinion and backed it up with facts. A man that disagreed then proceeded to lash out, calling my remarks 'effete' and 'ignorant.' I called out the blatant sexism, for which he continued to retaliate, calling my tone condescending. This is such a nasty cycle and I find it so extremely frustrating'if we sit back, it happens more. And if we speak up, sexism intensifies. We have our work cut out for us. ",
                        "count": 1
                      },
                      {
                        "name": "3 others",
                        "count": 3
                      }
                    ]
                  }
                },
                {
                  "name": "Merged",
                  "dtype": "object",
                  "stats": {
                    "unique_count": 5,
                    "nan_count": 0,
                    "categories": [
                      {
                        "name": "Situation:  When I was 17, I worked in a clothing store that sold both mens and womens clothing, as well as some unisex items.  I was working overtime in the evening, around 8.30pm during the winter so it was already dark.  I was by myself on the shop floor as my manager was cashing up in the stock room, when a man in his late 50s/early 60s came in and started asking about the winter boots we had on special offer.  We kept all of the stock below the display table, so I knelt on the floor to find his size when he said “Whilst you’re down there, why don’t you take one for the team?”\n Feelings:  I was quite a naive 17 year old, I didn’t quite understand, so I just awkwardly smiled and ignored it.  I was shocked and quite upset!\n Action in response:  I went to speak with my manager.  She confirmed that he was actually insinuating I gave him a blowjob, I was shocked and quite upset!\n Inappropriate response:  She told me to just “ignore it and don’t get upset by it”!\n Long term impact:  Even when I think about it now, it makes me extremely uncomfortable.\n Parties involved:  The man in his late 50s/early 60s who made the inappropriate comment, the 17-year-old employee who was working at the time, and the manager who was cashing up in the stock room.\n",
                        "count": 1
                      },
                      {
                        "name": "Situation:  I left my job to return for a PhD with an intention of developing expertise in my field and preventing encounters with men who label me 'ignorant' or hint to my own incompetence.  Part of my PhD requires public engagement via social media.  In one such recent Twitter encounter, I stated my opinion and backed it up with facts.  A man that disagreed then proceeded to lash out, calling my remarks 'effete' and 'ignorant.'  I called out the blatant sexism, for which he continued to retaliate, calling my tone condescending.\n Feelings:  I find it so extremely frustrating.\n Action in response:  I called out the blatant sexism.\n Inappropriate response:  He continued to retaliate, calling my tone condescending.\n Long term impact:  We have our work cut out for us.\n Parties involved:  The man that disagreed and called my remarks 'effete' and 'ignorant.'  I called out the blatant sexism.  He continued to retaliate, calling my tone condescending.\n",
                        "count": 1
                      },
                      {
                        "name": "3 others",
                        "count": 3
                      }
                    ]
                  }
                },
                {
                  "name": "Similarity Score",
                  "dtype": "float64",
                  "stats": {
                    "unique_count": 5,
                    "nan_count": 0,
                    "min": "0.5014075376112577",
                    "max": "0.9411247529476493",
                    "histogram": [
                      {
                        "bin_start": 0.5014075376112577,
                        "bin_end": 0.5453792591448968,
                        "count": 2
                      },
                      {
                        "bin_start": 0.5453792591448968,
                        "bin_end": 0.589350980678536,
                        "count": 0
                      },
                      {
                        "bin_start": 0.589350980678536,
                        "bin_end": 0.6333227022121752,
                        "count": 0
                      },
                      {
                        "bin_start": 0.6333227022121752,
                        "bin_end": 0.6772944237458143,
                        "count": 0
                      },
                      {
                        "bin_start": 0.6772944237458143,
                        "bin_end": 0.7212661452794535,
                        "count": 0
                      },
                      {
                        "bin_start": 0.7212661452794535,
                        "bin_end": 0.7652378668130927,
                        "count": 0
                      },
                      {
                        "bin_start": 0.7652378668130927,
                        "bin_end": 0.8092095883467318,
                        "count": 0
                      },
                      {
                        "bin_start": 0.8092095883467318,
                        "bin_end": 0.853181309880371,
                        "count": 2
                      },
                      {
                        "bin_start": 0.853181309880371,
                        "bin_end": 0.8971530314140101,
                        "count": 0
                      },
                      {
                        "bin_start": 0.8971530314140101,
                        "bin_end": 0.9411247529476493,
                        "count": 1
                      }
                    ]
                  }
                },
                {
                  "name": "_deepnote_index_column",
                  "dtype": "int64"
                }
              ],
              "rows": [
                {
                  "Input": "When I was 17, I worked in a clothing store that sold both mens and womens clothing, as well as some unisex items. I was working overtime in the evening, around 8.30pm during the winter so it was already dark. I was by myself on the shop floor as my manager was cashing up in the stock room, when a man in his late 50s/early 60s came in and started asking about the winter boots we had on special offer. We kept all of the stock below the display table, so I knelt on the floor to find his size when he said 'Whilst you're down there, why don't you take one for the team?'. As I was quite a naive 17 year old, I didn't quite understand, so I just awkwardly smiled and ignored it. After he bought the boots and left, I went to speak with my manager. She confirmed that he was actually insinuating I gave him a blowjob, I was shocked and quite upset! She told me to just 'ignore it and don't get upset by it'! Even when I think about it now, it makes me extremely uncomfortable. ",
                  "Merged": "Situation:  When I was 17, I worked in a clothing store that sold both mens and womens clothing, as well as some unisex items.  I was working overtime in the evening, around 8.30pm during the winter so it was already dark.  I was by myself on the shop floor as my manager was cashing up in the stock room, when a man in his late 50s/early 60s came in and started asking about the winter boots we had on special offer.  We kept all of the stock below the display table, so I knelt on the floor to find his size when he said “Whilst you’re down there, why don’t you take one for the team?”\n Feelings:  I was quite a naive 17 year old, I didn’t quite understand, so I just awkwardly smiled and ignored it.  I was shocked and quite upset!\n Action in response:  I went to speak with my manager.  She confirmed that he was actually insinuating I gave him a blowjob, I was shocked and quite upset!\n Inappropriate response:  She told me to just “ignore it and don’t get upset by it”!\n Long term impact:  Eve…",
                  "Similarity Score": 0.9411247529476493,
                  "_deepnote_index_column": 0
                },
                {
                  "Input": "I left my job to return for a PhD with an intention of developing expertise in my field and preventing encounters with men who label me 'ignorant' or hint to my own incompetence. Part of my PhD requires public engagement via social media. In one such recent Twitter encounter, I stated my opinion and backed it up with facts. A man that disagreed then proceeded to lash out, calling my remarks 'effete' and 'ignorant.' I called out the blatant sexism, for which he continued to retaliate, calling my tone condescending. This is such a nasty cycle and I find it so extremely frustrating'if we sit back, it happens more. And if we speak up, sexism intensifies. We have our work cut out for us. ",
                  "Merged": "Situation:  I left my job to return for a PhD with an intention of developing expertise in my field and preventing encounters with men who label me 'ignorant' or hint to my own incompetence.  Part of my PhD requires public engagement via social media.  In one such recent Twitter encounter, I stated my opinion and backed it up with facts.  A man that disagreed then proceeded to lash out, calling my remarks 'effete' and 'ignorant.'  I called out the blatant sexism, for which he continued to retaliate, calling my tone condescending.\n Feelings:  I find it so extremely frustrating.\n Action in response:  I called out the blatant sexism.\n Inappropriate response:  He continued to retaliate, calling my tone condescending.\n Long term impact:  We have our work cut out for us.\n Parties involved:  The man that disagreed and called my remarks 'effete' and 'ignorant.'  I called out the blatant sexism.  He continued to retaliate, calling my tone condescending.\n",
                  "Similarity Score": 0.8480080065519813,
                  "_deepnote_index_column": 1
                },
                {
                  "Input": "A leaflet about 'supporting teenagers' in my country published by so called 'experienced' psychotherapists contains a lot of pernicious gender stereotypes. The reason why I despair about living in my country is that girls get stereotyped as behaving one way and boys get stereotyped as behaving the opposite way, even when in reality there is a lot of overlap of behaviours between the sexes! In the leaflet, girls are automatically assumed to be 'vulnerable' and in need of 'empowering'. This is kind of offensive and degrading to many young women who are capable and self sufficient. Some women do not view themselves as 'helpless victims', but instead as highly capable survivors! Calling girls 'vulnerable' or fragile doesn't help them deal with stuff in an adaptive or a resilient way. While it is true that some young women struggle with issues around eating (please don't use the pathologising words 'eating disorder' because it is society's expectations around food that are disordered, not …",
                  "Merged": "Situation:  The leaflet about supporting teenagers in my country contains pernicious gender stereotypes.  Girls are automatically assumed to be vulnerable and in need of empowering, while boys are stereotyped as behaving the opposite way.  The leaflet calls girls over-conscientious and perfectionistic, while ignoring the fact that many young men also engage in anorexic or bulimic behaviors.  The leaflet assumes that girls should be denied the opportunity to excel by people who call them too perfectionistic.  The author's grandmother liked to do things thoroughly and properly as part of her job.\n Feelings:  The author is disappointed and frustrated about living in a country where gender stereotypes are prevalent.  The author is offended by the assumption that girls are vulnerable and in need of empowering, and that young women who are capable and self-sufficient do not view themselves as helpless victims.  The author is angry that the leaflet ignores the fact that many young men also e…",
                  "Similarity Score": 0.5226717872489929,
                  "_deepnote_index_column": 2
                },
                {
                  "Input": "As a 16 year old girl, I know very well that sexism exists. On pretty much a daily basis, I am shouted out from car windows whilst walking down the street, or approached by strangers whilst out in public, usually by older men. This is something that as a female, you get used to, enough though you shouldn't have to. One thing I will not get over though, is being told that sexism is not an issue. I take a sociology class at my college, and one of the subjects we cover if feminism. This is something that me and my friends are passionate about, we believe it needs to be talked about in order for things to change. There are however, a number of boys in that class who disagree with feminists and try to tell us everything we say is wrong. I can accept this; everyone is entitled to an opinion and I am willing to listen to anyone's opinion. Today it reached a point where I can no longer just accept their opinion. As a group, we watched the Everyday Sexism Project talk 'CoventGardenWomen'. All …",
                  "Merged": "Situation:  Being shouted out from car windows whilst walking down the street  Being approached by strangers whilst out in public, usually by older men  Being told that sexism is not an issue  Being in a sociology class where feminism is discussed  Being in a group that watches the Everyday Sexism Project talk  Being told that there's no reason for women to feel unsafe whilst walking alone  Being told that sexual assault isn't a problem  Being told that if it really happened more women would come forward\n Feelings:  Used to getting shouted out from car windows  Not used to being approached by strangers  Frustrated that people deny the existence of sexism  Passionate about feminism  Heartbroken to see insensitivity towards sexual assault  Scared of being laughed at or told it's not a big deal  Suffering alone because of victim blaming\n Action in response:  Listening to the opinions of others  Watching the Everyday Sexism Project talk  Asking for the speech to be turned off  Being told …",
                  "Similarity Score": 0.5014075376112577,
                  "_deepnote_index_column": 3
                },
                {
                  "Input": "I worked in a doggie daycare for two years as the front desk manager. I saw many of the same clients regularly, day after day. At least two middle-aged men often would touch my shoulder for no reason while we exchanged pleasantries as they dropped off their dogs. They may have thought they were being nice, or friendly, but it was creepy and uncomfortable and as I was in my workplace and my job was to be polite and courteous to all customers I never felt ok to point out how it made me feel or ask them to stop. ",
                  "Merged": "Situation: I worked in a doggie daycare for two years as the front desk manager.\n Feelings: It was creepy and uncomfortable.\n Action in response: I never felt ok to point out how it made me feel or ask them to stop.\n Inappropriate response: They may have thought they were being nice, or friendly, but it was creepy and uncomfortable.\n Long term impact: I never felt ok to point out how it made me feel or ask them to stop.\n Parties involved: At least two middle-aged men often would touch my shoulder for no reason while we exchanged pleasantries as they dropped off their dogs.\n",
                  "Similarity Score": 0.8361066266308835,
                  "_deepnote_index_column": 4
                }
              ]
            },
            "text/plain": "                                               Input  \\\n0  When I was 17, I worked in a clothing store th...   \n1  I left my job to return for a PhD with an inte...   \n2  A leaflet about 'supporting teenagers' in my c...   \n3  As a 16 year old girl, I know very well that s...   \n4  I worked in a doggie daycare for two years as ...   \n\n                                              Merged  Similarity Score  \n0  Situation:  When I was 17, I worked in a cloth...          0.941125  \n1  Situation:  I left my job to return for a PhD ...          0.848008  \n2  Situation:  The leaflet about supporting teena...          0.522672  \n3  Situation:  Being shouted out from car windows...          0.501408  \n4  Situation: I worked in a doggie daycare for tw...          0.836107  ",
            "text/html": "<div>\n<style scoped>\n    .dataframe tbody tr th:only-of-type {\n        vertical-align: middle;\n    }\n\n    .dataframe tbody tr th {\n        vertical-align: top;\n    }\n\n    .dataframe thead th {\n        text-align: right;\n    }\n</style>\n<table border=\"1\" class=\"dataframe\">\n  <thead>\n    <tr style=\"text-align: right;\">\n      <th></th>\n      <th>Input</th>\n      <th>Merged</th>\n      <th>Similarity Score</th>\n    </tr>\n  </thead>\n  <tbody>\n    <tr>\n      <th>0</th>\n      <td>When I was 17, I worked in a clothing store th...</td>\n      <td>Situation:  When I was 17, I worked in a cloth...</td>\n      <td>0.941125</td>\n    </tr>\n    <tr>\n      <th>1</th>\n      <td>I left my job to return for a PhD with an inte...</td>\n      <td>Situation:  I left my job to return for a PhD ...</td>\n      <td>0.848008</td>\n    </tr>\n    <tr>\n      <th>2</th>\n      <td>A leaflet about 'supporting teenagers' in my c...</td>\n      <td>Situation:  The leaflet about supporting teena...</td>\n      <td>0.522672</td>\n    </tr>\n    <tr>\n      <th>3</th>\n      <td>As a 16 year old girl, I know very well that s...</td>\n      <td>Situation:  Being shouted out from car windows...</td>\n      <td>0.501408</td>\n    </tr>\n    <tr>\n      <th>4</th>\n      <td>I worked in a doggie daycare for two years as ...</td>\n      <td>Situation: I worked in a doggie daycare for tw...</td>\n      <td>0.836107</td>\n    </tr>\n  </tbody>\n</table>\n</div>"
          },
          "metadata": {}
        }
      ],
      "execution_count": 13,
      "block_group": "8138c73d2fd54acf905f59eea9414c24"
    },
    {
      "cell_type": "code",
      "source": "# Filtering rows with a Similarity Score less than 0.8\nfiltered_df = similarity_df[similarity_df['Similarity Score'] < 0.5].sort_values(by='Similarity Score')\n# Displaying the first few rows of the filtered DataFrame\nfiltered_df.head(15)",
      "metadata": {
        "source_hash": "c766b435",
        "execution_start": 1700264331218,
        "execution_millis": 17,
        "deepnote_table_state": {
          "sortBy": [],
          "filters": [],
          "pageSize": 25,
          "pageIndex": 0
        },
        "deepnote_table_loading": false,
        "deepnote_to_be_reexecuted": false,
        "cell_id": "7b3a3430c33a45fc99adb0720fd68c3e",
        "deepnote_cell_type": "code"
      },
      "outputs": [
        {
          "output_type": "execute_result",
          "execution_count": 14,
          "data": {
            "application/vnd.deepnote.dataframe.v3+json": {
              "column_count": 3,
              "row_count": 15,
              "columns": [
                {
                  "name": "Input",
                  "dtype": "object",
                  "stats": {
                    "unique_count": 15,
                    "nan_count": 0,
                    "categories": [
                      {
                        "name": "Fck, I can't work as secretary because I'm a fuckin guy. Why secretary had to be a woman? WHY??!?!?!?!? ",
                        "count": 1
                      },
                      {
                        "name": "#EverydaySexism Man: Your day would be boring if I didn't flirt with you on the job. Me: Actually, it wouldn't be cuz I have a job to do. ",
                        "count": 1
                      },
                      {
                        "name": "13 others",
                        "count": 13
                      }
                    ]
                  }
                },
                {
                  "name": "Merged",
                  "dtype": "object",
                  "stats": {
                    "unique_count": 15,
                    "nan_count": 0,
                    "categories": [
                      {
                        "name": "Situation: The speaker is expressing frustration about being unable to work as a secretary because they are a man.\n Feelings: The speaker is feeling frustrated and upset about the situation.\n Action in response: The speaker is expressing their frustration through speech.\n Inappropriate response: The speaker's use of profanity and frustration may be seen as inappropriate in some contexts.\n Long term impact: The speaker's frustration may impact their ability to find work or advance in their career.\n Parties involved: The speaker and potentially their employer or colleagues may be involved in this situation.\n",
                        "count": 1
                      },
                      {
                        "name": "Situation: The man is making inappropriate sexual comments to the woman at work.\n Feelings: The woman is feeling uncomfortable and objectified by the man's comments.\n Action in response: The woman is responding by telling the man that his comments are unwelcome and that she has a job to do.\n Inappropriate response: The man is continuing to make inappropriate sexual comments despite being told that they are unwelcome.\n Long term impact: The woman may feel uncomfortable and objectified in the workplace, which could impact her job performance and overall well-being.\n Parties involved: The man and the woman are involved in this situation.\n",
                        "count": 1
                      },
                      {
                        "name": "13 others",
                        "count": 13
                      }
                    ]
                  }
                },
                {
                  "name": "Similarity Score",
                  "dtype": "float64",
                  "stats": {
                    "unique_count": 15,
                    "nan_count": 0,
                    "min": "0.0856477114031417",
                    "max": "0.2345428433226936",
                    "histogram": [
                      {
                        "bin_start": 0.0856477114031417,
                        "bin_end": 0.1005372245950969,
                        "count": 1
                      },
                      {
                        "bin_start": 0.1005372245950969,
                        "bin_end": 0.11542673778705208,
                        "count": 2
                      },
                      {
                        "bin_start": 0.11542673778705208,
                        "bin_end": 0.1303162509790073,
                        "count": 0
                      },
                      {
                        "bin_start": 0.1303162509790073,
                        "bin_end": 0.14520576417096245,
                        "count": 1
                      },
                      {
                        "bin_start": 0.14520576417096245,
                        "bin_end": 0.16009527736291765,
                        "count": 2
                      },
                      {
                        "bin_start": 0.16009527736291765,
                        "bin_end": 0.17498479055487284,
                        "count": 0
                      },
                      {
                        "bin_start": 0.17498479055487284,
                        "bin_end": 0.189874303746828,
                        "count": 0
                      },
                      {
                        "bin_start": 0.189874303746828,
                        "bin_end": 0.2047638169387832,
                        "count": 2
                      },
                      {
                        "bin_start": 0.2047638169387832,
                        "bin_end": 0.2196533301307384,
                        "count": 3
                      },
                      {
                        "bin_start": 0.2196533301307384,
                        "bin_end": 0.2345428433226936,
                        "count": 4
                      }
                    ]
                  }
                },
                {
                  "name": "_deepnote_index_column",
                  "dtype": "int64"
                }
              ],
              "rows": [
                {
                  "Input": "Fck, I can't work as secretary because I'm a fuckin guy. Why secretary had to be a woman? WHY??!?!?!?!? ",
                  "Merged": "Situation: The speaker is expressing frustration about being unable to work as a secretary because they are a man.\n Feelings: The speaker is feeling frustrated and upset about the situation.\n Action in response: The speaker is expressing their frustration through speech.\n Inappropriate response: The speaker's use of profanity and frustration may be seen as inappropriate in some contexts.\n Long term impact: The speaker's frustration may impact their ability to find work or advance in their career.\n Parties involved: The speaker and potentially their employer or colleagues may be involved in this situation.\n",
                  "Similarity Score": 0.0856477114031417,
                  "_deepnote_index_column": 495
                },
                {
                  "Input": "#EverydaySexism Man: Your day would be boring if I didn't flirt with you on the job. Me: Actually, it wouldn't be cuz I have a job to do. ",
                  "Merged": "Situation: The man is making inappropriate sexual comments to the woman at work.\n Feelings: The woman is feeling uncomfortable and objectified by the man's comments.\n Action in response: The woman is responding by telling the man that his comments are unwelcome and that she has a job to do.\n Inappropriate response: The man is continuing to make inappropriate sexual comments despite being told that they are unwelcome.\n Long term impact: The woman may feel uncomfortable and objectified in the workplace, which could impact her job performance and overall well-being.\n Parties involved: The man and the woman are involved in this situation.\n",
                  "Similarity Score": 0.10355116489093494,
                  "_deepnote_index_column": 98
                },
                {
                  "Input": "I was told I wasn’t bubbly enough with male clients of the hotel I was told I was a good looking girl and could do so much more with my looks, 'You need to spend more time and put more effort into your looks, with a little bit of lipstick you'd look much better' 'Its great to have another girl start as we've just had two of our 'girls' tell us they're pregnant' ",
                  "Merged": "Situation: The paragraph describes a situation in which the author is working at a hotel and is receiving feedback from male clients about their perception of her appearance and how she could improve it.\n Feelings: The author is likely feeling uncomfortable and objectified by the comments made by the male clients, as they are focused on her physical appearance rather than her skills or abilities.\n Action in response: The author is not explicitly described as taking any action in response to the comments, but it can be inferred that she is likely feeling uncomfortable and may be considering ways to address the situation.\n Inappropriate response: The comments made by the male clients are inappropriate and objectifying, as they are focused on the author's appearance rather than her skills or abilities.\n Long term impact: The long-term impact of this situation on the author is likely to be a negative self-image and a feeling of being objectified by others.\n Parties involved: The parties i…",
                  "Similarity Score": 0.11016531360604905,
                  "_deepnote_index_column": 1337
                },
                {
                  "Input": "I was at work putting stock on low down shelves so, in order to not hurt my back by stooping all day, I was on my knees. A regular customer came up to me and said 'Oooh, is that the position your boyfriend likes you in?' ",
                  "Merged": "Situation: The paragraph describes a situation where the author is at work and a customer makes an inappropriate comment about the author's boyfriend.\n Feelings: The paragraph does not explicitly mention the author's feelings, but it can be inferred that the author was likely embarrassed or offended by the customer's comment.\n Action in response: The paragraph does not describe any action taken by the author in response to the customer's comment.\n Inappropriate response: The customer's comment is the inappropriate response mentioned in the paragraph.\n Long term impact: The paragraph does not mention any long-term impact of the situation on the author or the customer.\n Parties involved: The parties involved in the situation are the author and the customer.\n",
                  "Similarity Score": 0.14137726856861285,
                  "_deepnote_index_column": 1566
                },
                {
                  "Input": "I was really excited to get into the workspace environment and start earning heaps of money, money' But I found out the highest paying male job and woman jobs didn't add up' For Woman it's Judge — law $355,844 which is understandable but males Judge — law is $381,323 and it's number 13! The highest is Neurosurgeon which is $577,674. WOmans Neurosurgeon is second and is Neurosurgeon $323,682' THAT'S $200,000 less! It makes me think that because I'm born female I get less money. If I had the same skills and just say I was a boy (With some phoney evidence) I'll get more money. Guess I'm getting a sex transplant so I can earn that coin!~ ",
                  "Merged": "Situation: The author is discussing the gender pay gap and the disparity in salaries between male and female judges.\n Feelings: The author is frustrated and disappointed by the pay gap and feels that they are being discriminated against because of their gender.\n Action in response: The author is considering taking action to change their gender in order to earn more money.\n Inappropriate response: The author's suggestion to change their gender in order to earn more money is inappropriate and unrealistic.\n Long term impact: The long-term impact of the gender pay gap is that it perpetuates inequality and discrimination against women.\n Parties involved: The parties involved in this situation are the author and the employers who pay women less than men for the same job.\n",
                  "Similarity Score": 0.15092340537329993,
                  "_deepnote_index_column": 506
                },
                {
                  "Input": "In conversation with a colleague about how much it would cost to build a house, the kitchen was mentioned. 'It would have to be a decent kitchen ' I know what you women are like.' ",
                  "Merged": "Situation: The conversation about building a house and the mention of the kitchen.\n Feelings: The mention of women in the sentence may be seen as derogatory and could be interpreted as disrespectful or offensive.\n Action in response: The use of the word \"women\" in a derogatory manner.\n Inappropriate response: The use of the word \"women\" in a derogatory manner.\n Long term impact: The use of derogatory language can lead to negative consequences, such as damaged relationships or a negative reputation.\n Parties involved: The colleague who made the comment and the person who heard the comment.\n",
                  "Similarity Score": 0.1590939647156164,
                  "_deepnote_index_column": 812
                },
                {
                  "Input": "The pet store I work at has quite a few regular customers, including one really (REALLY) old guy that comes in every Wednesday. I despise working day shift on Wednesdays because of him and his creepy old man ways. Numerous times he's called my fiancé 'cheap' for not getting me a 4kt diamond ring (the ring has a blue topaz center stone with 2 diamonds flanking it, which we chose together), constantly tries to grab my hand and pull me out of the store, and has even made comments about my 'drawers' being real. (Backstory on that: he always pays cash with $100 bills and we have to always check them so he jokes about them being fake. I once made the mistake of saying everything in my drawer (meaning cash drawer) was real. He 'misheard' me. Right.) My boss tells me that he hasn't been the same since his chemo a few years back and that I should just laugh it all off, but that's no excuse for this dude to be as pervy as he is. And the kicker? Said boss is female. ",
                  "Merged": "Situation: The pet store employee works at a pet store and has a regular customer who comes in every Wednesday.\n Feelings: The employee feels annoyed and creeped out by the customer's behavior.\n Action in response: The employee has to deal with the customer's inappropriate behavior, but their boss tells them to just laugh it off.\n Inappropriate response: The customer makes comments about the employee's body and tries to grab their hand.\n Long term impact: The employee's experience at work is negatively affected by the customer's behavior.\n Parties involved: The customer, the employee, and the employee's boss.\n",
                  "Similarity Score": 0.2025544219430581,
                  "_deepnote_index_column": 1026
                },
                {
                  "Input": "I was at work. I'm a booking agent in Amsterdam. I had a young British fella in and he mentioned in passing, as I was filling out his paper work, that he is the proud father of a 7 year old and a 7 month old. He also alluded to visiting prostitutes while he was in the city and I, knowing about his children and thinking he was joking, joked back that his wife probably wouldn't be too thrilled about that. He nonchalantly replied 'Oh I'm not married! I just like putting it 'round!'. What a gentleman, right?? So, to alleviate the awkwardness that followed THAT sentiment, I asked him 'So, what are you looking to do in Amsterdam while you're here?'. I hear an amused snort so I glance up to see him looking back at me like I'm the stupidest woman he's ever encountered. He actually replied 'Well, THAT'S a stupid question isn't it? I'm here for the whores and the weed, of course!'. I gave him the most scathing look I could muster, icily responded 'They're called sex-workers!' and sent him on hi…",
                  "Merged": "Situation:  The writer is a booking agent in Amsterdam.  The writer has a British client who is a father of two young children.  The client mentions visiting prostitutes in Amsterdam.  The writer jokes about the client's statement.  The client responds by saying that he is not married and that he likes to have sex with prostitutes.  The writer is shocked and offended by the client's statement.  The writer asks the client what he wants to do in Amsterdam.  The client responds by saying that he is here for the sex workers and the weed.  The writer is disgusted by the client's statement and tells him that they are called sex workers.\n Feelings:  The writer is shocked and offended by the client's statement.  The writer is disgusted by the client's statement and tells him that they are called sex workers.\n Action in response:  The writer jokes about the client's statement.  The writer tells the client that they are called sex workers.\n Inappropriate response:  The client responds by saying…",
                  "Similarity Score": 0.2045278970384668,
                  "_deepnote_index_column": 246
                },
                {
                  "Input": "A male security guard I work with in the same department has repeatedly made remarks to me such as, 'We'll my wife serves me my dinner 1st.' or 'My wife has a nice cold glass of iced tea waiting for me every day when I get home.' Today he told me that a woman should always have long hair or they'll look like, 'One of them girls that wished she had boy parts.' I'm so disgusted by his comments, but I have no idea what to even do. I feel like I'm the only one who's offended so, who would back me up if I told HR? ",
                  "Merged": "Situation:  A male security guard makes inappropriate comments about women's appearance and behavior.  The comments include gender stereotypes and objectification of women.  The comments are made in a professional setting.\n Feelings:  The writer is disgusted by the comments.  The writer feels like they are the only one who is offended.  The writer is unsure of what to do about the situation.\n Action in response:  The writer is considering telling HR about the comments.  The writer is unsure of who would back them up if they did.\n Inappropriate response:  The comments are inappropriate and disrespectful towards women.  The comments perpetuate harmful gender stereotypes and objectification of women.\n Long term impact:  The comments create a hostile work environment for women.  The comments can lead to a lack of trust and respect between male and female colleagues.\n Parties involved:  The male security guard is making the inappropriate comments.  The writer is a female colleague who is o…",
                  "Similarity Score": 0.21230919489405523,
                  "_deepnote_index_column": 998
                },
                {
                  "Input": "I am 50, with a degree in Electrical Engineering​and a Master's in Computer science. I am smart and articulate and direct, why dont I rule the world? Because I have breasts, younger generation, keep fighting. ",
                  "Merged": "Situation: The writer is expressing their frustration with the societal expectation that women with breasts cannot rule the world.\n Feelings: The writer feels that they are qualified to rule the world despite their gender and age.\n Action in response: The writer is advocating for women to fight against societal expectations and stereotypes.\n Inappropriate response: The writer's statement about ruling the world is a joke, but it could be seen as inappropriate or offensive to some people.\n Long term impact: The writer's statement could potentially inspire and empower women to challenge gender norms and stereotypes.\n Parties involved: The writer and the younger generation of women who are fighting against societal expectations and stereotypes.\n",
                  "Similarity Score": 0.21267183627608874,
                  "_deepnote_index_column": 178
                },
                {
                  "Input": "In third grade, the teacher asked everyone what they wanted to be when they grow up. Everyone answered all the usual cute kid things, police officer, firefighter etc. When my turn came, I confidently declared that I wanted to be the first female president. The teacher, some lady, laughed in my face and told me to be more realistic. She said ' You could be a nurse or something.' I said I'd like to maybe be a writer then. She told me to pick something less competitive. At home, I asked my parents for advice. My mom reassured me that I could be anything I want in this world if I just work hard at it. Later on, my now-ex-stepdad told me that women are only good three ways: in the kitchen, on their backs or dead. He said this was especially true for me, because I'm homely. I sank into a deep depression at 8 years old and started smoking. I rebelled, refused to be a 'lady,' and started my first job delivering papers at 12 years old. I worked hard in school for awhile then just kind of gave …",
                  "Merged": "Situation:  The teacher asking everyone what they wanted to be when they grow up.  The teacher's response to the speaker's desire to be the first female president.  The speaker's desire to be a writer.  The speaker's parents' advice.  The speaker's stepfather's comment.  The speaker's depression at 8 years old.  The speaker's rebellion and refusal to be a \"lady.\"  The speaker's first job delivering papers at 12 years old.  The speaker's work in school.  The speaker's work in the factories.  The speaker's lack of recognition and title upgrades.  The speaker's belief that their work and opinion will never count as much as a man's.  The speaker's fight against the idea that they are less than because of their gender.\n Feelings:  The speaker's confidence in wanting to be the first female president.  The teacher's laughter and dismissal of the speaker's desire.  The speaker's rebellion and refusal to be a \"lady.\"  The speaker's depression at 8 years old.  The speaker's belief that their wo…",
                  "Similarity Score": 0.21894293505219692,
                  "_deepnote_index_column": 1519
                },
                {
                  "Input": "The other day, I got angry with a co-worker. He has crossed lines before, with his misogyny, but I simply wasn't in the mood to let it roll off my back this particular morning. I arrived at work and he proceeded to catch me by my face as I struggled and kiss my face, close to mouth. It made me want to scream at him to leave me alone, but I managed to hold my tongue, to 'not make a scene'. An hour or so later, he caught my face again and I struggled more aggressively this time, avoided eye contact and wondered aloud why people won't stop touching me when I don't want them to. But the final straw came a little while after that when he spoke down to me again. It was a slow day and there were only 4 people in my shop, 2 couples, that happened to be browsing souvenirs right next to one another. A vital part of my job is to watch people in the shop in case they steal. I work in an open market and strealing is common. As such, I was watching these 4 people like a hawk. I could see in my peri…",
                  "Merged": "Situation:  The co-worker kissed the author's face without permission.  The co-worker spoke down to the author.  The co-worker interrupted the author while they were working.  The co-worker made a scene in front of potential customers.  The co-worker acted annoyed towards the author.\n Feelings:  The author was angry with the co-worker.  The author felt disrespected by the co-worker.  The author felt annoyed by the co-worker's behavior.  The author felt like the co-worker was making a scene.\n Action in response:  The author held her tongue and didn't make a scene.  The author struggled and avoided eye contact with the co-worker.  The author gave the co-worker a \"no shit Sherlock, fuck off\" look.  The author told the co-worker to get back to work.\n Inappropriate response:  The co-worker kissed the author's face without permission.  The co-worker spoke down to the author.  The co-worker interrupted the author while they were working.  The co-worker made a scene in front of potential cust…",
                  "Similarity Score": 0.22246267450690854,
                  "_deepnote_index_column": 1181
                },
                {
                  "Input": "Why are many women's clothes so impractical and designed to be sexy instead of comfortable even in workwear? I was looking for a new shirt to wear at work the other day, so many low necklines that would show my bra if I leaned over so I would have to awkwardly hold the neckline of my shirt together with the other hand if I had to pick something off the floor, see-through fabrics that I'd have to wear another top underneath which is hot and uncomfortable,clinging fabrics,blouses and shirts with odd cut-out areas, jeans designed to 'enhance' your bum instead of being comfortable casual clothing, tops and jumpers that are too short and useless for keeping warm, and my pet hate FAKE POCKETS! Seriously what is wrong with adding some pockets I can actually keep useful things in? Not to mention bras that have almost no support but so much padding they'd probably double as body armour. It is so difficult to find a bra that is both supportive and not so heavily padded it feels like there's a s…",
                  "Merged": "Situation: The author is looking for a new shirt to wear at work and is frustrated by the impractical and uncomfortable options available.\n Feelings: The author feels frustrated and annoyed by the lack of practicality and comfort in women's workwear.\n Action in response: The author is considering not buying any of the available options and continuing to wear the same old shirt.\n Inappropriate response: There is no inappropriate response mentioned in the paragraph.\n Long term impact: The author may continue to feel frustrated and uncomfortable in her workwear, which could affect her productivity and job satisfaction.\n Parties involved: The author, the clothing manufacturers, and the retailers.\n",
                  "Similarity Score": 0.2225058170932939,
                  "_deepnote_index_column": 249
                },
                {
                  "Input": "I had this legendary collegue during my working time in an insurance company. He summed up his own world-view perfectly with these words: 'If my girlfriend would earn more money than me, I couldn't take it. I would split up with her immediately.' Yeah … So, this collegue tried any opportunity to molest me and a co-worker of mine verbally, whenever he could. Rating our bodies, making inappropriate comments, asking us for photos or coffee, and if there was a problem, blaming it on our incompetence as women. Oh, and he was saying I would make my future man very happy if I get rid off my 'dominant moods'. We were 18 and 19, my co-worker and I, he was around 27, with a fixed working place in the company and in a fixed relationship. Which didn't stop him from having wild sex-fantasies where I'd play the lead role in a Lara Croft Cosplay, as I had bigger breasts than my co-worker. I found that out thanks to my other manly collegues, as he could not keep his mouth shut before them. Me and my …",
                  "Merged": "Situation:  Working in an insurance company  Having a colleague who made inappropriate comments and tried to molest the author and her co-worker  The colleague's girlfriend being smart, eloquent, and proud\n Feelings:  The author's discomfort and anger at the colleague's behavior  The author's pride in standing up to the colleague and fighting back  The author's confusion about the colleague's behavior and motivations\n Action in response:  The author and her co-worker fighting back against the colleague's inappropriate behavior  The author's colleagues standing up for her and her co-worker when the colleague went too far\n Inappropriate response:  The colleague's comments and actions towards the author and her co-worker\n Long term impact:  The author's increased confidence and assertiveness as a result of standing up to the colleague  The author's improved relationships with her colleagues as a result of the situation\n Parties involved:  The author  Her colleague  The colleague's girlfr…",
                  "Similarity Score": 0.23184393621998572,
                  "_deepnote_index_column": 1445
                },
                {
                  "Input": "Walking along Long Lane SE1 at lunchtime today to grab a bite to eat. Jeans, flip flops, leather jacket with a baggy T underneath. A man in a white well known branded van stuck in traffic not 15 feet from me yells ' COR FAHKIN 'ELL! YOURE GORGEOUS DARLIN!' Me, 'AWWW! I WISH I COULD SAY THE SAME TO YOU 'DARLIN'l! OH WELL I GUESS NOT EVERYONE IS AS LUCKY AS ME!' I shout even louder with a huge smile. Older lady next to me creases up. 1-0 to us. ",
                  "Merged": "Situation: Walking along Long Lane SE1 at lunchtime.\n Feelings: Jealousy, flattery, happiness.\n Action in response: Smiling, shouting back.\n Inappropriate response: Using derogatory language.\n Long term impact: None mentioned.\n Parties involved: The man in the van, the older lady, the writer.\n",
                  "Similarity Score": 0.2345428433226936,
                  "_deepnote_index_column": 1191
                }
              ]
            },
            "text/plain": "                                                  Input  \\\n495   Fck, I can't work as secretary because I'm a f...   \n98    #EverydaySexism Man: Your day would be boring ...   \n1337  I was told I wasn’t bubbly enough with male cl...   \n1566  I was at work putting stock on low down shelve...   \n506   I was really excited to get into the workspace...   \n812   In conversation with a colleague about how muc...   \n1026  The pet store I work at has quite a few regula...   \n246   I was at work. I'm a booking agent in Amsterda...   \n998   A male security guard I work with in the same ...   \n178   I am 50, with a degree in Electrical Engineeri...   \n1519  In third grade, the teacher asked everyone wha...   \n1181  The other day, I got angry with a co-worker. H...   \n249   Why are many women's clothes so impractical an...   \n1445  I had this legendary collegue during my workin...   \n1191  Walking along Long Lane SE1 at lunchtime today...   \n\n                                                 Merged  Similarity Score  \n495   Situation: The speaker is expressing frustrati...          0.085648  \n98    Situation: The man is making inappropriate sex...          0.103551  \n1337  Situation: The paragraph describes a situation...          0.110165  \n1566  Situation: The paragraph describes a situation...          0.141377  \n506   Situation: The author is discussing the gender...          0.150923  \n812   Situation: The conversation about building a h...          0.159094  \n1026  Situation: The pet store employee works at a p...          0.202554  \n246   Situation:  The writer is a booking agent in A...          0.204528  \n998   Situation:  A male security guard makes inappr...          0.212309  \n178   Situation: The writer is expressing their frus...          0.212672  \n1519  Situation:  The teacher asking everyone what t...          0.218943  \n1181  Situation:  The co-worker kissed the author's ...          0.222463  \n249   Situation: The author is looking for a new shi...          0.222506  \n1445  Situation:  Working in an insurance company  H...          0.231844  \n1191  Situation: Walking along Long Lane SE1 at lunc...          0.234543  ",
            "text/html": "<div>\n<style scoped>\n    .dataframe tbody tr th:only-of-type {\n        vertical-align: middle;\n    }\n\n    .dataframe tbody tr th {\n        vertical-align: top;\n    }\n\n    .dataframe thead th {\n        text-align: right;\n    }\n</style>\n<table border=\"1\" class=\"dataframe\">\n  <thead>\n    <tr style=\"text-align: right;\">\n      <th></th>\n      <th>Input</th>\n      <th>Merged</th>\n      <th>Similarity Score</th>\n    </tr>\n  </thead>\n  <tbody>\n    <tr>\n      <th>495</th>\n      <td>Fck, I can't work as secretary because I'm a f...</td>\n      <td>Situation: The speaker is expressing frustrati...</td>\n      <td>0.085648</td>\n    </tr>\n    <tr>\n      <th>98</th>\n      <td>#EverydaySexism Man: Your day would be boring ...</td>\n      <td>Situation: The man is making inappropriate sex...</td>\n      <td>0.103551</td>\n    </tr>\n    <tr>\n      <th>1337</th>\n      <td>I was told I wasn’t bubbly enough with male cl...</td>\n      <td>Situation: The paragraph describes a situation...</td>\n      <td>0.110165</td>\n    </tr>\n    <tr>\n      <th>1566</th>\n      <td>I was at work putting stock on low down shelve...</td>\n      <td>Situation: The paragraph describes a situation...</td>\n      <td>0.141377</td>\n    </tr>\n    <tr>\n      <th>506</th>\n      <td>I was really excited to get into the workspace...</td>\n      <td>Situation: The author is discussing the gender...</td>\n      <td>0.150923</td>\n    </tr>\n    <tr>\n      <th>812</th>\n      <td>In conversation with a colleague about how muc...</td>\n      <td>Situation: The conversation about building a h...</td>\n      <td>0.159094</td>\n    </tr>\n    <tr>\n      <th>1026</th>\n      <td>The pet store I work at has quite a few regula...</td>\n      <td>Situation: The pet store employee works at a p...</td>\n      <td>0.202554</td>\n    </tr>\n    <tr>\n      <th>246</th>\n      <td>I was at work. I'm a booking agent in Amsterda...</td>\n      <td>Situation:  The writer is a booking agent in A...</td>\n      <td>0.204528</td>\n    </tr>\n    <tr>\n      <th>998</th>\n      <td>A male security guard I work with in the same ...</td>\n      <td>Situation:  A male security guard makes inappr...</td>\n      <td>0.212309</td>\n    </tr>\n    <tr>\n      <th>178</th>\n      <td>I am 50, with a degree in Electrical Engineeri...</td>\n      <td>Situation: The writer is expressing their frus...</td>\n      <td>0.212672</td>\n    </tr>\n    <tr>\n      <th>1519</th>\n      <td>In third grade, the teacher asked everyone wha...</td>\n      <td>Situation:  The teacher asking everyone what t...</td>\n      <td>0.218943</td>\n    </tr>\n    <tr>\n      <th>1181</th>\n      <td>The other day, I got angry with a co-worker. H...</td>\n      <td>Situation:  The co-worker kissed the author's ...</td>\n      <td>0.222463</td>\n    </tr>\n    <tr>\n      <th>249</th>\n      <td>Why are many women's clothes so impractical an...</td>\n      <td>Situation: The author is looking for a new shi...</td>\n      <td>0.222506</td>\n    </tr>\n    <tr>\n      <th>1445</th>\n      <td>I had this legendary collegue during my workin...</td>\n      <td>Situation:  Working in an insurance company  H...</td>\n      <td>0.231844</td>\n    </tr>\n    <tr>\n      <th>1191</th>\n      <td>Walking along Long Lane SE1 at lunchtime today...</td>\n      <td>Situation: Walking along Long Lane SE1 at lunc...</td>\n      <td>0.234543</td>\n    </tr>\n  </tbody>\n</table>\n</div>"
          },
          "metadata": {}
        }
      ],
      "execution_count": 14,
      "block_group": "4c71769fe7bd469cbeaece1a74e6a22f"
    },
    {
      "cell_type": "code",
      "source": "print(filtered_df.iloc[5][0])\nprint(filtered_df.iloc[5][1])",
      "metadata": {
        "source_hash": "a51d294f",
        "execution_start": 1700264331238,
        "execution_millis": 20,
        "deepnote_to_be_reexecuted": false,
        "cell_id": "89103ecfe68a474a9dfc69b9eebab606",
        "deepnote_cell_type": "code"
      },
      "outputs": [
        {
          "name": "stdout",
          "text": "In conversation with a colleague about how much it would cost to build a house, the kitchen was mentioned. 'It would have to be a decent kitchen ' I know what you women are like.' \nSituation: The conversation about building a house and the mention of the kitchen.\n Feelings: The mention of women in the sentence may be seen as derogatory and could be interpreted as disrespectful or offensive.\n Action in response: The use of the word \"women\" in a derogatory manner.\n Inappropriate response: The use of the word \"women\" in a derogatory manner.\n Long term impact: The use of derogatory language can lead to negative consequences, such as damaged relationships or a negative reputation.\n Parties involved: The colleague who made the comment and the person who heard the comment.\n\n",
          "output_type": "stream"
        }
      ],
      "execution_count": 15,
      "block_group": "51f79b759a9946f39503cb69a88bb2f7"
    },
    {
      "cell_type": "code",
      "source": "len(filtered_df) / len(similarity_df)",
      "metadata": {
        "source_hash": "13b842e1",
        "execution_start": 1700264331244,
        "execution_millis": 16,
        "deepnote_to_be_reexecuted": false,
        "cell_id": "97ceeba7283a4c6da6753f9dc7782f88",
        "deepnote_cell_type": "code"
      },
      "outputs": [
        {
          "output_type": "execute_result",
          "execution_count": 16,
          "data": {
            "text/plain": "0.09502262443438914"
          },
          "metadata": {}
        }
      ],
      "execution_count": 16,
      "block_group": "1ed930b7aeb54dfdb3db994ba55eaf84"
    },
    {
      "cell_type": "markdown",
      "source": "## Cosine Similarity (BERT)",
      "metadata": {
        "formattedRanges": [],
        "cell_id": "4175f9873ec746dda441dcf43c7e0a6a",
        "deepnote_cell_type": "text-cell-h2"
      },
      "block_group": "910fd4bffec148a091628602b41fb6f2"
    },
    {
      "cell_type": "code",
      "source": "!pip install sentence_transformers==2.2.2",
      "metadata": {
        "source_hash": "33f6d4d7",
        "execution_start": 1700264331250,
        "execution_millis": 10978,
        "deepnote_to_be_reexecuted": false,
        "cell_id": "416f9624958c4680a40d55583e8d987f",
        "deepnote_cell_type": "code"
      },
      "outputs": [
        {
          "name": "stdout",
          "text": "Collecting sentence_transformers==2.2.2\n  Downloading sentence-transformers-2.2.2.tar.gz (85 kB)\n\u001b[2K     \u001b[90m━━━━━━━━━━━━━━━━━━━━━━━━━━━━━━━━━━━━━━━━\u001b[0m \u001b[32m86.0/86.0 kB\u001b[0m \u001b[31m25.2 MB/s\u001b[0m eta \u001b[36m0:00:00\u001b[0m\n\u001b[?25h  Preparing metadata (setup.py) ... \u001b[?25ldone\n\u001b[?25hCollecting transformers<5.0.0,>=4.6.0\n  Downloading transformers-4.35.2-py3-none-any.whl (7.9 MB)\n\u001b[2K     \u001b[90m━━━━━━━━━━━━━━━━━━━━━━━━━━━━━━━━━━━━━━━━\u001b[0m \u001b[32m7.9/7.9 MB\u001b[0m \u001b[31m122.4 MB/s\u001b[0m eta \u001b[36m0:00:00\u001b[0m\n\u001b[?25hRequirement already satisfied: tqdm in /shared-libs/python3.9/py/lib/python3.9/site-packages (from sentence_transformers==2.2.2) (4.64.1)\nRequirement already satisfied: torch>=1.6.0 in /shared-libs/python3.9/py/lib/python3.9/site-packages (from sentence_transformers==2.2.2) (1.12.1)\nRequirement already satisfied: torchvision in /shared-libs/python3.9/py/lib/python3.9/site-packages (from sentence_transformers==2.2.2) (0.13.1)\nRequirement already satisfied: numpy in /shared-libs/python3.9/py/lib/python3.9/site-packages (from sentence_transformers==2.2.2) (1.23.4)\nRequirement already satisfied: scikit-learn in /shared-libs/python3.9/py/lib/python3.9/site-packages (from sentence_transformers==2.2.2) (1.1.2)\nRequirement already satisfied: scipy in /shared-libs/python3.9/py/lib/python3.9/site-packages (from sentence_transformers==2.2.2) (1.9.3)\nRequirement already satisfied: nltk in /shared-libs/python3.9/py/lib/python3.9/site-packages (from sentence_transformers==2.2.2) (3.7)\nCollecting sentencepiece\n  Downloading sentencepiece-0.1.99-cp39-cp39-manylinux_2_17_x86_64.manylinux2014_x86_64.whl (1.3 MB)\n\u001b[2K     \u001b[90m━━━━━━━━━━━━━━━━━━━━━━━━━━━━━━━━━━━━━━━━\u001b[0m \u001b[32m1.3/1.3 MB\u001b[0m \u001b[31m88.7 MB/s\u001b[0m eta \u001b[36m0:00:00\u001b[0m\n\u001b[?25hCollecting huggingface-hub>=0.4.0\n  Downloading huggingface_hub-0.19.4-py3-none-any.whl (311 kB)\n\u001b[2K     \u001b[90m━━━━━━━━━━━━━━━━━━━━━━━━━━━━━━━━━━━━━━\u001b[0m \u001b[32m311.7/311.7 kB\u001b[0m \u001b[31m39.9 MB/s\u001b[0m eta \u001b[36m0:00:00\u001b[0m\n\u001b[?25hRequirement already satisfied: packaging>=20.9 in /shared-libs/python3.9/py-core/lib/python3.9/site-packages (from huggingface-hub>=0.4.0->sentence_transformers==2.2.2) (21.3)\nCollecting pyyaml>=5.1\n  Downloading PyYAML-6.0.1-cp39-cp39-manylinux_2_17_x86_64.manylinux2014_x86_64.whl (738 kB)\n\u001b[2K     \u001b[90m━━━━━━━━━━━━━━━━━━━━━━━━━━━━━━━━━━━━━━\u001b[0m \u001b[32m738.9/738.9 kB\u001b[0m \u001b[31m75.1 MB/s\u001b[0m eta \u001b[36m0:00:00\u001b[0m\n\u001b[?25hRequirement already satisfied: typing-extensions>=3.7.4.3 in /shared-libs/python3.9/py/lib/python3.9/site-packages (from huggingface-hub>=0.4.0->sentence_transformers==2.2.2) (4.4.0)\nCollecting fsspec>=2023.5.0\n  Downloading fsspec-2023.10.0-py3-none-any.whl (166 kB)\n\u001b[2K     \u001b[90m━━━━━━━━━━━━━━━━━━━━━━━━━━━━━━━━━━━━━━\u001b[0m \u001b[32m166.4/166.4 kB\u001b[0m \u001b[31m44.6 MB/s\u001b[0m eta \u001b[36m0:00:00\u001b[0m\n\u001b[?25hRequirement already satisfied: requests in /shared-libs/python3.9/py/lib/python3.9/site-packages (from huggingface-hub>=0.4.0->sentence_transformers==2.2.2) (2.28.1)\nRequirement already satisfied: filelock in /shared-libs/python3.9/py/lib/python3.9/site-packages (from huggingface-hub>=0.4.0->sentence_transformers==2.2.2) (3.8.0)\nRequirement already satisfied: regex!=2019.12.17 in /shared-libs/python3.9/py/lib/python3.9/site-packages (from transformers<5.0.0,>=4.6.0->sentence_transformers==2.2.2) (2022.9.13)\nCollecting tokenizers<0.19,>=0.14\n  Downloading tokenizers-0.15.0-cp39-cp39-manylinux_2_17_x86_64.manylinux2014_x86_64.whl (3.8 MB)\n\u001b[2K     \u001b[90m━━━━━━━━━━━━━━━━━━━━━━━━━━━━━━━━━━━━━━━━\u001b[0m \u001b[32m3.8/3.8 MB\u001b[0m \u001b[31m126.4 MB/s\u001b[0m eta \u001b[36m0:00:00\u001b[0m\n\u001b[?25hCollecting safetensors>=0.3.1\n  Downloading safetensors-0.4.0-cp39-cp39-manylinux_2_17_x86_64.manylinux2014_x86_64.whl (1.3 MB)\n\u001b[2K     \u001b[90m━━━━━━━━━━━━━━━━━━━━━━━━━━━━━━━━━━━━━━━━\u001b[0m \u001b[32m1.3/1.3 MB\u001b[0m \u001b[31m78.7 MB/s\u001b[0m eta \u001b[36m0:00:00\u001b[0m\n\u001b[?25hRequirement already satisfied: click in /shared-libs/python3.9/py/lib/python3.9/site-packages (from nltk->sentence_transformers==2.2.2) (8.1.3)\nRequirement already satisfied: joblib in /shared-libs/python3.9/py/lib/python3.9/site-packages (from nltk->sentence_transformers==2.2.2) (1.2.0)\nRequirement already satisfied: threadpoolctl>=2.0.0 in /shared-libs/python3.9/py/lib/python3.9/site-packages (from scikit-learn->sentence_transformers==2.2.2) (3.1.0)\nRequirement already satisfied: pillow!=8.3.*,>=5.3.0 in /shared-libs/python3.9/py/lib/python3.9/site-packages (from torchvision->sentence_transformers==2.2.2) (9.2.0)\nRequirement already satisfied: pyparsing!=3.0.5,>=2.0.2 in /shared-libs/python3.9/py-core/lib/python3.9/site-packages (from packaging>=20.9->huggingface-hub>=0.4.0->sentence_transformers==2.2.2) (3.0.9)\nRequirement already satisfied: certifi>=2017.4.17 in /shared-libs/python3.9/py/lib/python3.9/site-packages (from requests->huggingface-hub>=0.4.0->sentence_transformers==2.2.2) (2022.9.24)\nRequirement already satisfied: idna<4,>=2.5 in /shared-libs/python3.9/py-core/lib/python3.9/site-packages (from requests->huggingface-hub>=0.4.0->sentence_transformers==2.2.2) (3.4)\nRequirement already satisfied: charset-normalizer<3,>=2 in /shared-libs/python3.9/py-core/lib/python3.9/site-packages (from requests->huggingface-hub>=0.4.0->sentence_transformers==2.2.2) (2.1.1)\nRequirement already satisfied: urllib3<1.27,>=1.21.1 in /shared-libs/python3.9/py/lib/python3.9/site-packages (from requests->huggingface-hub>=0.4.0->sentence_transformers==2.2.2) (1.26.12)\nBuilding wheels for collected packages: sentence_transformers\n  Building wheel for sentence_transformers (setup.py) ... \u001b[?25ldone\n\u001b[?25h  Created wheel for sentence_transformers: filename=sentence_transformers-2.2.2-py3-none-any.whl size=125938 sha256=c0692ad245f0a56e721b82f62290b0c8f1fd352905b96671ffa3e7039a5050d3\n  Stored in directory: /root/.cache/pip/wheels/71/67/06/162a3760c40d74dd40bc855d527008d26341c2b0ecf3e8e11f\nSuccessfully built sentence_transformers\nInstalling collected packages: sentencepiece, safetensors, pyyaml, fsspec, huggingface-hub, tokenizers, transformers, sentence_transformers\nSuccessfully installed fsspec-2023.10.0 huggingface-hub-0.19.4 pyyaml-6.0.1 safetensors-0.4.0 sentence_transformers-2.2.2 sentencepiece-0.1.99 tokenizers-0.15.0 transformers-4.35.2\n\n\u001b[1m[\u001b[0m\u001b[34;49mnotice\u001b[0m\u001b[1;39;49m]\u001b[0m\u001b[39;49m A new release of pip is available: \u001b[0m\u001b[31;49m23.0.1\u001b[0m\u001b[39;49m -> \u001b[0m\u001b[32;49m23.3.1\u001b[0m\n\u001b[1m[\u001b[0m\u001b[34;49mnotice\u001b[0m\u001b[1;39;49m]\u001b[0m\u001b[39;49m To update, run: \u001b[0m\u001b[32;49mpip install --upgrade pip\u001b[0m\n",
          "output_type": "stream"
        }
      ],
      "execution_count": 17,
      "block_group": "84a5302e4d2a4c84b19238a2d0a784f4"
    },
    {
      "cell_type": "code",
      "source": "from sentence_transformers import SentenceTransformer, util\nimport torch",
      "metadata": {
        "source_hash": "ed6ffc8a",
        "execution_start": 1700264342229,
        "execution_millis": 3103,
        "deepnote_to_be_reexecuted": false,
        "cell_id": "8111de4d57da4ddcb0dc672221c1a16c",
        "deepnote_cell_type": "code"
      },
      "outputs": [
        {
          "name": "stderr",
          "text": "/shared-libs/python3.9/py/lib/python3.9/site-packages/tqdm/auto.py:22: TqdmWarning: IProgress not found. Please update jupyter and ipywidgets. See https://ipywidgets.readthedocs.io/en/stable/user_install.html\n  from .autonotebook import tqdm as notebook_tqdm\n",
          "output_type": "stream"
        }
      ],
      "execution_count": 18,
      "block_group": "109f763fcba64ea7bc81497f9cfe409d"
    },
    {
      "cell_type": "code",
      "source": "model = SentenceTransformer('all-MiniLM-L6-v2')\n\ninput_embeddings = model.encode(merged_df['Input'].tolist(), convert_to_tensor=True)\nmerged_embeddings = model.encode(merged_df['Merged'].tolist(), convert_to_tensor=True)",
      "metadata": {
        "source_hash": "2ccedb20",
        "execution_start": 1700264345333,
        "execution_millis": 981556,
        "deepnote_to_be_reexecuted": false,
        "cell_id": "0f00fbb5254f43cf85228ad44baf9399",
        "deepnote_cell_type": "code"
      },
      "outputs": [
        {
          "name": "stderr",
          "text": ".gitattributes: 100%|██████████| 1.18k/1.18k [00:00<00:00, 311kB/s]\n1_Pooling/config.json: 100%|██████████| 190/190 [00:00<00:00, 209kB/s]\nREADME.md: 100%|██████████| 10.6k/10.6k [00:00<00:00, 10.8MB/s]\nconfig.json: 100%|██████████| 612/612 [00:00<00:00, 648kB/s]\nconfig_sentence_transformers.json: 100%|██████████| 116/116 [00:00<00:00, 134kB/s]\ndata_config.json: 100%|██████████| 39.3k/39.3k [00:00<00:00, 28.0MB/s]\npytorch_model.bin: 100%|██████████| 90.9M/90.9M [00:00<00:00, 296MB/s]\nsentence_bert_config.json: 100%|██████████| 53.0/53.0 [00:00<00:00, 62.7kB/s]\nspecial_tokens_map.json: 100%|██████████| 112/112 [00:00<00:00, 141kB/s]\ntokenizer.json: 100%|██████████| 466k/466k [00:00<00:00, 15.2MB/s]\ntokenizer_config.json: 100%|██████████| 350/350 [00:00<00:00, 363kB/s]\ntrain_script.py: 100%|██████████| 13.2k/13.2k [00:00<00:00, 13.2MB/s]\nvocab.txt: 100%|██████████| 232k/232k [00:00<00:00, 56.6MB/s]\nmodules.json: 100%|██████████| 349/349 [00:00<00:00, 424kB/s]\n",
          "output_type": "stream"
        }
      ],
      "execution_count": 19,
      "block_group": "5de0a99ac1ae44a3b0a1acc75402e42f"
    },
    {
      "cell_type": "code",
      "source": "# Calculate cosine similarity between Input and Merged embeddings\ncosine_scores = util.pytorch_cos_sim(input_embeddings, merged_embeddings)\n# Display the cosine similarity scores\ncosine_scores.diag()",
      "metadata": {
        "source_hash": "52d297a0",
        "execution_start": 1700265326885,
        "execution_millis": 91,
        "deepnote_to_be_reexecuted": false,
        "cell_id": "de5e491038a94533a848e6cd4acef5b4",
        "deepnote_cell_type": "code"
      },
      "outputs": [
        {
          "output_type": "execute_result",
          "execution_count": 20,
          "data": {
            "text/plain": "tensor([0.9471, 0.8871, 0.6926,  ..., 0.7090, 0.7221, 0.9614])"
          },
          "metadata": {}
        }
      ],
      "execution_count": 20,
      "block_group": "ef7dc9164d664f8ab496646b7e1c5b8e"
    },
    {
      "cell_type": "markdown",
      "source": "## N-gram Overlap Analysis",
      "metadata": {
        "formattedRanges": [],
        "cell_id": "10ecc5be843e4133bd09a12026a80963",
        "deepnote_cell_type": "text-cell-h2"
      },
      "block_group": "982d003cc0884ed08d02a3ecb8a665e0"
    },
    {
      "cell_type": "code",
      "source": "from sklearn.feature_extraction.text import CountVectorizer\nimport numpy as np",
      "metadata": {
        "source_hash": "178e06a0",
        "execution_start": 1700265326986,
        "execution_millis": 45,
        "deepnote_to_be_reexecuted": false,
        "cell_id": "fafe4810af7c467ea2212400254b8249",
        "deepnote_cell_type": "code"
      },
      "outputs": [],
      "execution_count": 21,
      "block_group": "86696029f32d40f7a534511f7845a606"
    },
    {
      "cell_type": "code",
      "source": "def calculate_ngram_overlap(text1, text2, n=2):\n    vectorizer = CountVectorizer(ngram_range=(n, n), stop_words='english')\n    ngram_matrix = vectorizer.fit_transform([text1, text2])\n    overlap = ngram_matrix[0].multiply(ngram_matrix[1]).sum()\n    return overlap",
      "metadata": {
        "source_hash": "47b865e3",
        "execution_start": 1700265327037,
        "execution_millis": 14,
        "deepnote_to_be_reexecuted": false,
        "cell_id": "8ac95d8196834bc89c8021dd2f951b77",
        "deepnote_cell_type": "code"
      },
      "outputs": [],
      "execution_count": 22,
      "block_group": "a1f7cf11527e4765aab276af0ef03014"
    },
    {
      "cell_type": "code",
      "source": "# Calculate bi-gram overlap for each pair of Input and Merged texts\nngram_overlap = merged_df.apply(lambda row: calculate_ngram_overlap(row['Input'], row['Merged']), axis=1)\n\n# Calculate length difference (in words) between Input and Merged texts\nlength_difference = merged_df.apply(lambda row: len(row['Input'].split()) - len(row['Merged'].split()), axis=1)\n\n# Combine results into a DataFrame for better visualization\nanalysis_results = pd.DataFrame({\n    'Input': merged_df['Input'],\n    'Merged': merged_df['Merged'],\n    'Bi-gram Overlap': ngram_overlap,\n    'Length Difference': length_difference\n})",
      "metadata": {
        "source_hash": "b4929d96",
        "execution_start": 1700265327045,
        "execution_millis": 2074,
        "deepnote_to_be_reexecuted": false,
        "cell_id": "f69d43aef9324967bf576b03cc49eefb",
        "deepnote_cell_type": "code"
      },
      "outputs": [],
      "execution_count": 23,
      "block_group": "2d70f25774364c8787e05c49eca97ce1"
    },
    {
      "cell_type": "code",
      "source": "analysis_results.head(10) ",
      "metadata": {
        "source_hash": "e5bd9230",
        "execution_start": 1700265329116,
        "execution_millis": 16,
        "deepnote_to_be_reexecuted": false,
        "cell_id": "32a04b962410439199662408f4a09941",
        "deepnote_cell_type": "code"
      },
      "outputs": [
        {
          "output_type": "execute_result",
          "execution_count": 24,
          "data": {
            "application/vnd.deepnote.dataframe.v3+json": {
              "column_count": 4,
              "row_count": 10,
              "columns": [
                {
                  "name": "Input",
                  "dtype": "object",
                  "stats": {
                    "unique_count": 10,
                    "nan_count": 0,
                    "categories": [
                      {
                        "name": "When I was 17, I worked in a clothing store that sold both mens and womens clothing, as well as some unisex items. I was working overtime in the evening, around 8.30pm during the winter so it was already dark. I was by myself on the shop floor as my manager was cashing up in the stock room, when a man in his late 50s/early 60s came in and started asking about the winter boots we had on special offer. We kept all of the stock below the display table, so I knelt on the floor to find his size when he said 'Whilst you're down there, why don't you take one for the team?'. As I was quite a naive 17 year old, I didn't quite understand, so I just awkwardly smiled and ignored it. After he bought the boots and left, I went to speak with my manager. She confirmed that he was actually insinuating I gave him a blowjob, I was shocked and quite upset! She told me to just 'ignore it and don't get upset by it'! Even when I think about it now, it makes me extremely uncomfortable. ",
                        "count": 1
                      },
                      {
                        "name": "I left my job to return for a PhD with an intention of developing expertise in my field and preventing encounters with men who label me 'ignorant' or hint to my own incompetence. Part of my PhD requires public engagement via social media. In one such recent Twitter encounter, I stated my opinion and backed it up with facts. A man that disagreed then proceeded to lash out, calling my remarks 'effete' and 'ignorant.' I called out the blatant sexism, for which he continued to retaliate, calling my tone condescending. This is such a nasty cycle and I find it so extremely frustrating'if we sit back, it happens more. And if we speak up, sexism intensifies. We have our work cut out for us. ",
                        "count": 1
                      },
                      {
                        "name": "8 others",
                        "count": 8
                      }
                    ]
                  }
                },
                {
                  "name": "Merged",
                  "dtype": "object",
                  "stats": {
                    "unique_count": 10,
                    "nan_count": 0,
                    "categories": [
                      {
                        "name": "Situation:  When I was 17, I worked in a clothing store that sold both mens and womens clothing, as well as some unisex items.  I was working overtime in the evening, around 8.30pm during the winter so it was already dark.  I was by myself on the shop floor as my manager was cashing up in the stock room, when a man in his late 50s/early 60s came in and started asking about the winter boots we had on special offer.  We kept all of the stock below the display table, so I knelt on the floor to find his size when he said “Whilst you’re down there, why don’t you take one for the team?”\n Feelings:  I was quite a naive 17 year old, I didn’t quite understand, so I just awkwardly smiled and ignored it.  I was shocked and quite upset!\n Action in response:  I went to speak with my manager.  She confirmed that he was actually insinuating I gave him a blowjob, I was shocked and quite upset!\n Inappropriate response:  She told me to just “ignore it and don’t get upset by it”!\n Long term impact:  Even when I think about it now, it makes me extremely uncomfortable.\n Parties involved:  The man in his late 50s/early 60s who made the inappropriate comment, the 17-year-old employee who was working at the time, and the manager who was cashing up in the stock room.\n",
                        "count": 1
                      },
                      {
                        "name": "Situation:  I left my job to return for a PhD with an intention of developing expertise in my field and preventing encounters with men who label me 'ignorant' or hint to my own incompetence.  Part of my PhD requires public engagement via social media.  In one such recent Twitter encounter, I stated my opinion and backed it up with facts.  A man that disagreed then proceeded to lash out, calling my remarks 'effete' and 'ignorant.'  I called out the blatant sexism, for which he continued to retaliate, calling my tone condescending.\n Feelings:  I find it so extremely frustrating.\n Action in response:  I called out the blatant sexism.\n Inappropriate response:  He continued to retaliate, calling my tone condescending.\n Long term impact:  We have our work cut out for us.\n Parties involved:  The man that disagreed and called my remarks 'effete' and 'ignorant.'  I called out the blatant sexism.  He continued to retaliate, calling my tone condescending.\n",
                        "count": 1
                      },
                      {
                        "name": "8 others",
                        "count": 8
                      }
                    ]
                  }
                },
                {
                  "name": "Bi-gram Overlap",
                  "dtype": "int64",
                  "stats": {
                    "unique_count": 10,
                    "nan_count": 0,
                    "min": "17",
                    "max": "207",
                    "histogram": [
                      {
                        "bin_start": 17,
                        "bin_end": 36,
                        "count": 2
                      },
                      {
                        "bin_start": 36,
                        "bin_end": 55,
                        "count": 1
                      },
                      {
                        "bin_start": 55,
                        "bin_end": 74,
                        "count": 2
                      },
                      {
                        "bin_start": 74,
                        "bin_end": 93,
                        "count": 1
                      },
                      {
                        "bin_start": 93,
                        "bin_end": 112,
                        "count": 1
                      },
                      {
                        "bin_start": 112,
                        "bin_end": 131,
                        "count": 0
                      },
                      {
                        "bin_start": 131,
                        "bin_end": 150,
                        "count": 1
                      },
                      {
                        "bin_start": 150,
                        "bin_end": 169,
                        "count": 1
                      },
                      {
                        "bin_start": 169,
                        "bin_end": 188,
                        "count": 0
                      },
                      {
                        "bin_start": 188,
                        "bin_end": 207,
                        "count": 1
                      }
                    ]
                  }
                },
                {
                  "name": "Length Difference",
                  "dtype": "int64",
                  "stats": {
                    "unique_count": 10,
                    "nan_count": 0,
                    "min": "-320",
                    "max": "646",
                    "histogram": [
                      {
                        "bin_start": -320,
                        "bin_end": -223.4,
                        "count": 1
                      },
                      {
                        "bin_start": -223.4,
                        "bin_end": -126.80000000000001,
                        "count": 1
                      },
                      {
                        "bin_start": -126.80000000000001,
                        "bin_end": -30.200000000000045,
                        "count": 4
                      },
                      {
                        "bin_start": -30.200000000000045,
                        "bin_end": 66.39999999999998,
                        "count": 2
                      },
                      {
                        "bin_start": 66.39999999999998,
                        "bin_end": 163,
                        "count": 1
                      },
                      {
                        "bin_start": 163,
                        "bin_end": 259.5999999999999,
                        "count": 0
                      },
                      {
                        "bin_start": 259.5999999999999,
                        "bin_end": 356.19999999999993,
                        "count": 0
                      },
                      {
                        "bin_start": 356.19999999999993,
                        "bin_end": 452.79999999999995,
                        "count": 0
                      },
                      {
                        "bin_start": 452.79999999999995,
                        "bin_end": 549.4,
                        "count": 0
                      },
                      {
                        "bin_start": 549.4,
                        "bin_end": 646,
                        "count": 1
                      }
                    ]
                  }
                },
                {
                  "name": "_deepnote_index_column",
                  "dtype": "int64"
                }
              ],
              "rows": [
                {
                  "Input": "When I was 17, I worked in a clothing store that sold both mens and womens clothing, as well as some unisex items. I was working overtime in the evening, around 8.30pm during the winter so it was already dark. I was by myself on the shop floor as my manager was cashing up in the stock room, when a man in his late 50s/early 60s came in and started asking about the winter boots we had on special offer. We kept all of the stock below the display table, so I knelt on the floor to find his size when he said 'Whilst you're down there, why don't you take one for the team?'. As I was quite a naive 17 year old, I didn't quite understand, so I just awkwardly smiled and ignored it. After he bought the boots and left, I went to speak with my manager. She confirmed that he was actually insinuating I gave him a blowjob, I was shocked and quite upset! She told me to just 'ignore it and don't get upset by it'! Even when I think about it now, it makes me extremely uncomfortable. ",
                  "Merged": "Situation:  When I was 17, I worked in a clothing store that sold both mens and womens clothing, as well as some unisex items.  I was working overtime in the evening, around 8.30pm during the winter so it was already dark.  I was by myself on the shop floor as my manager was cashing up in the stock room, when a man in his late 50s/early 60s came in and started asking about the winter boots we had on special offer.  We kept all of the stock below the display table, so I knelt on the floor to find his size when he said “Whilst you’re down there, why don’t you take one for the team?”\n Feelings:  I was quite a naive 17 year old, I didn’t quite understand, so I just awkwardly smiled and ignored it.  I was shocked and quite upset!\n Action in response:  I went to speak with my manager.  She confirmed that he was actually insinuating I gave him a blowjob, I was shocked and quite upset!\n Inappropriate response:  She told me to just “ignore it and don’t get upset by it”!\n Long term impact:  Eve…",
                  "Bi-gram Overlap": 83,
                  "Length Difference": -42,
                  "_deepnote_index_column": 0
                },
                {
                  "Input": "I left my job to return for a PhD with an intention of developing expertise in my field and preventing encounters with men who label me 'ignorant' or hint to my own incompetence. Part of my PhD requires public engagement via social media. In one such recent Twitter encounter, I stated my opinion and backed it up with facts. A man that disagreed then proceeded to lash out, calling my remarks 'effete' and 'ignorant.' I called out the blatant sexism, for which he continued to retaliate, calling my tone condescending. This is such a nasty cycle and I find it so extremely frustrating'if we sit back, it happens more. And if we speak up, sexism intensifies. We have our work cut out for us. ",
                  "Merged": "Situation:  I left my job to return for a PhD with an intention of developing expertise in my field and preventing encounters with men who label me 'ignorant' or hint to my own incompetence.  Part of my PhD requires public engagement via social media.  In one such recent Twitter encounter, I stated my opinion and backed it up with facts.  A man that disagreed then proceeded to lash out, calling my remarks 'effete' and 'ignorant.'  I called out the blatant sexism, for which he continued to retaliate, calling my tone condescending.\n Feelings:  I find it so extremely frustrating.\n Action in response:  I called out the blatant sexism.\n Inappropriate response:  He continued to retaliate, calling my tone condescending.\n Long term impact:  We have our work cut out for us.\n Parties involved:  The man that disagreed and called my remarks 'effete' and 'ignorant.'  I called out the blatant sexism.  He continued to retaliate, calling my tone condescending.\n",
                  "Bi-gram Overlap": 62,
                  "Length Difference": -31,
                  "_deepnote_index_column": 1
                },
                {
                  "Input": "A leaflet about 'supporting teenagers' in my country published by so called 'experienced' psychotherapists contains a lot of pernicious gender stereotypes. The reason why I despair about living in my country is that girls get stereotyped as behaving one way and boys get stereotyped as behaving the opposite way, even when in reality there is a lot of overlap of behaviours between the sexes! In the leaflet, girls are automatically assumed to be 'vulnerable' and in need of 'empowering'. This is kind of offensive and degrading to many young women who are capable and self sufficient. Some women do not view themselves as 'helpless victims', but instead as highly capable survivors! Calling girls 'vulnerable' or fragile doesn't help them deal with stuff in an adaptive or a resilient way. While it is true that some young women struggle with issues around eating (please don't use the pathologising words 'eating disorder' because it is society's expectations around food that are disordered, not …",
                  "Merged": "Situation:  The leaflet about supporting teenagers in my country contains pernicious gender stereotypes.  Girls are automatically assumed to be vulnerable and in need of empowering, while boys are stereotyped as behaving the opposite way.  The leaflet calls girls over-conscientious and perfectionistic, while ignoring the fact that many young men also engage in anorexic or bulimic behaviors.  The leaflet assumes that girls should be denied the opportunity to excel by people who call them too perfectionistic.  The author's grandmother liked to do things thoroughly and properly as part of her job.\n Feelings:  The author is disappointed and frustrated about living in a country where gender stereotypes are prevalent.  The author is offended by the assumption that girls are vulnerable and in need of empowering, and that young women who are capable and self-sufficient do not view themselves as helpless victims.  The author is angry that the leaflet ignores the fact that many young men also e…",
                  "Bi-gram Overlap": 132,
                  "Length Difference": 646,
                  "_deepnote_index_column": 2
                },
                {
                  "Input": "As a 16 year old girl, I know very well that sexism exists. On pretty much a daily basis, I am shouted out from car windows whilst walking down the street, or approached by strangers whilst out in public, usually by older men. This is something that as a female, you get used to, enough though you shouldn't have to. One thing I will not get over though, is being told that sexism is not an issue. I take a sociology class at my college, and one of the subjects we cover if feminism. This is something that me and my friends are passionate about, we believe it needs to be talked about in order for things to change. There are however, a number of boys in that class who disagree with feminists and try to tell us everything we say is wrong. I can accept this; everyone is entitled to an opinion and I am willing to listen to anyone's opinion. Today it reached a point where I can no longer just accept their opinion. As a group, we watched the Everyday Sexism Project talk 'CoventGardenWomen'. All …",
                  "Merged": "Situation:  Being shouted out from car windows whilst walking down the street  Being approached by strangers whilst out in public, usually by older men  Being told that sexism is not an issue  Being in a sociology class where feminism is discussed  Being in a group that watches the Everyday Sexism Project talk  Being told that there's no reason for women to feel unsafe whilst walking alone  Being told that sexual assault isn't a problem  Being told that if it really happened more women would come forward\n Feelings:  Used to getting shouted out from car windows  Not used to being approached by strangers  Frustrated that people deny the existence of sexism  Passionate about feminism  Heartbroken to see insensitivity towards sexual assault  Scared of being laughed at or told it's not a big deal  Suffering alone because of victim blaming\n Action in response:  Listening to the opinions of others  Watching the Everyday Sexism Project talk  Asking for the speech to be turned off  Being told …",
                  "Bi-gram Overlap": 60,
                  "Length Difference": 121,
                  "_deepnote_index_column": 3
                },
                {
                  "Input": "I worked in a doggie daycare for two years as the front desk manager. I saw many of the same clients regularly, day after day. At least two middle-aged men often would touch my shoulder for no reason while we exchanged pleasantries as they dropped off their dogs. They may have thought they were being nice, or friendly, but it was creepy and uncomfortable and as I was in my workplace and my job was to be polite and courteous to all customers I never felt ok to point out how it made me feel or ask them to stop. ",
                  "Merged": "Situation: I worked in a doggie daycare for two years as the front desk manager.\n Feelings: It was creepy and uncomfortable.\n Action in response: I never felt ok to point out how it made me feel or ask them to stop.\n Inappropriate response: They may have thought they were being nice, or friendly, but it was creepy and uncomfortable.\n Long term impact: I never felt ok to point out how it made me feel or ask them to stop.\n Parties involved: At least two middle-aged men often would touch my shoulder for no reason while we exchanged pleasantries as they dropped off their dogs.\n",
                  "Bi-gram Overlap": 29,
                  "Length Difference": -4,
                  "_deepnote_index_column": 4
                },
                {
                  "Input": "A few months ago my husband's workplace (in a liberal, northeast state) had an event at a bowling alley, a fundraiser in a series of playful competitions with a rival company. To form bowling teams in anticipation of this event, my husband's general manager sent out an email to the entire company stating that each bowling team would need 'one very skilled player , at least 2 above average players, and a female.' You know, because 'females' can't be 'skilled' or 'above average' at bowling, obvs. ",
                  "Merged": "Situation: The general manager of my husband's workplace sent out an email stating the requirements for forming bowling teams for a fundraiser event, including the requirement for a female player.\n Feelings: The email's requirement that a female player be included on each bowling team is seen as sexist and discriminatory.\n Action in response: The author's husband's workplace is hosting a fundraiser event at a bowling alley, and the general manager sent out an email requiring each bowling team to include a female player.\n Inappropriate response: The email's requirement that a female player be included on each bowling team is seen as sexist and discriminatory.\n Long term impact: The email's requirement that a female player be included on each bowling team could potentially harm the workplace's reputation and lead to negative publicity.\n Parties involved: The general manager of my husband's workplace, the employees of the workplace, and the rival company participating in the fundraiser e…",
                  "Bi-gram Overlap": 17,
                  "Length Difference": -68,
                  "_deepnote_index_column": 5
                },
                {
                  "Input": "Working in the IT area, I am most of the time the only woman in the office, in my thirties, between men of fifty mostly. With the tempratures coming up and approaching summer, I arrived in the office in a summer appropriate dress, receiving comments all morning. This was nothing comparing to the feedback of a colleague, twenty years older then me, who constantly stalks me around and makes the others believe we are lovers, ocasionally touching me and commenting on my body. This time I told him not to touch me in a polite way. His reaction was quite surprizing ' he went to the other colleagues complaining about me to tell him not to touch me, when actually I look so nice ' means I should be only flattered. For me, I dont see this to be an excuse to be touched, espacially in an adult management oriented environement. I am afraid of staying with him alone in the office or in the room, and sometimes I preffer to stay home and work from there to actually woork in peace. I constantly think a…",
                  "Merged": "Situation:  Working in the IT area, I am most of the time the only woman in the office, in my thirties, between men of fifty mostly.  With the temperatures coming up and approaching summer, I arrived in the office in a summer-appropriate dress, receiving comments all morning.  This was nothing comparing to the feedback of a colleague, twenty years older than me, who constantly stalks me around and makes the others believe we are lovers, occasionally touching me and commenting on my body.  This time I told him not to touch me in a polite way.  His reaction was quite surprising – he went to the other colleagues complaining about me to tell him not to touch me, when actually I look so nice – means I should be only flattered.  For me, I don’t see this to be an excuse to be touched, especially in an adult management-oriented environment.  I am afraid of staying with him alone in the office or in the room, and sometimes I prefer to stay home and work from there to actually work in peace.  I…",
                  "Bi-gram Overlap": 207,
                  "Length Difference": -320,
                  "_deepnote_index_column": 6
                },
                {
                  "Input": "I think that sexism is an issue in the UK. This is because women's pay is significantly lower then men's which is biased and unfair. We are also described with much more feminine verbs, and also those which describe where we participate and do a lot of teamwork, yet not as much independent. This is also more unfair for us as men are described with more independent, strong and powerful words. In workplaces, a large percentage (52%) of women are sexually harassed, and made to feel extremely vulnerable. In many cases when these situations are reported to their head of work, they are dropped or under-prioritised. ",
                  "Merged": "Situation:  Women's pay is significantly lower than men's which is biased and unfair.  We are also described with much more feminine verbs, and also those which describe where we participate and do a lot of teamwork, yet not as much independent.  In workplaces, a large percentage (52%) of women are sexually harassed, and made to feel extremely vulnerable.\n Feelings:  I think that sexism is an issue in the UK.  This is also more unfair for us as men are described with more independent, strong and powerful words.  In many cases when these situations are reported to their head of work, they are dropped or under-prioritised.\n Action in response:  There is a large percentage of women who are sexually harassed in workplaces.  This is an issue that needs to be addressed and dealt with.\n Inappropriate response:  When these situations are reported to their head of work, they are dropped or under-prioritised.\n Long term impact:  Women are paid significantly less than men, which can have long-te…",
                  "Bi-gram Overlap": 45,
                  "Length Difference": -118,
                  "_deepnote_index_column": 7
                },
                {
                  "Input": "My boss has a history of sexually harassing women at my workplace. He is a prominent artist, and most people idolize him without realizing that he is a predator. Every woman in the office has a story. Mine is the many long hugs he gives under the guise of 'I am an affectionate guy' and with responses afterwards such as 'You really understand what my work is about here'. I have been told on two occasions, 'If you want to keep your job, you will take your clothes off for me' to model. My manager was pulled onto his lap and her breasts groped. When she pulled away he said, 'What, it is not like I have not felt breasts before'. Recently he sexually assaulted a coworker and it ended in a non-consensual sexual act. He paid her $50,000 and gave her a $13,000 painting to make it go away. I am so angry at her for accepting, for not standing up to him and protecting the rest of us. But this is also not the first time a pay off has happened. It also occurred 6 months ago before this whole new ba…",
                  "Merged": "Situation:  My boss has a history of sexually harassing women at my workplace.  He is a prominent artist, and most people idolize him without realizing that he is a predator.  Every woman in the office has a story.  My manager was pulled onto his lap and her breasts groped.  Recently he sexually assaulted a coworker and it ended in a non-consensual sexual act.  He paid her $50,000 and gave her a $13,000 painting to make it go away.  We are in North Carolina and working in a company of less than 15 employees.  Federal sexual harassment laws do not protect us in the same way, and there is very little we can do.\n Feelings:  I am so angry at her for accepting, for not standing up to him and protecting the rest of us.  But this is also not the first time a pay off has happened.  It also occurred 6 months ago before this whole new batch of employees was hired?  But we are in North Carolina and working in a company of less than 15 employees.  Federal sexual harassment laws do not protect us …",
                  "Bi-gram Overlap": 151,
                  "Length Difference": -26,
                  "_deepnote_index_column": 8
                },
                {
                  "Input": "Over the last year I have noticed sexism from other women which, before it happened, had never crossed my mind. This particular realisation related to other women's perception of assertive behaviour in the workplace. It seems that it is acceptable for men to be assertive ' their thoughts delivered in whichever way they choose ' but when women are 'assertive' in the same way ( using the same words, the same tone of voice, similar body language) they are labelled aggressive; not by other men, but by other women. ",
                  "Merged": "Situation: Over the last year I have noticed sexism from other women which, before it happened, had never crossed my mind.\n Feelings: This particular realisation related to other women's perception of assertive behaviour in the workplace. It seems that it is acceptable for men to be assertive ' their thoughts delivered in whichever way they choose ' but when women are 'assertive' in the same way ( using the same words, the same tone of voice, similar body language) they are labelled aggressive; not by other men, but by other women.\n Action in response: I have noticed sexism from other women which, before it happened, had never crossed my mind.\n Inappropriate response: It seems that it is acceptable for men to be assertive ' their thoughts delivered in whichever way they choose ' but when women are 'assertive' in the same way ( using the same words, the same tone of voice, similar body language) they are labelled aggressive; not by other men, but by other women.\n Long term impact: This…",
                  "Bi-gram Overlap": 96,
                  "Length Difference": -172,
                  "_deepnote_index_column": 9
                }
              ]
            },
            "text/plain": "                                               Input  \\\n0  When I was 17, I worked in a clothing store th...   \n1  I left my job to return for a PhD with an inte...   \n2  A leaflet about 'supporting teenagers' in my c...   \n3  As a 16 year old girl, I know very well that s...   \n4  I worked in a doggie daycare for two years as ...   \n5  A few months ago my husband's workplace (in a ...   \n6  Working in the IT area, I am most of the time ...   \n7  I think that sexism is an issue in the UK. Thi...   \n8  My boss has a history of sexually harassing wo...   \n9  Over the last year I have noticed sexism from ...   \n\n                                              Merged  Bi-gram Overlap  \\\n0  Situation:  When I was 17, I worked in a cloth...               83   \n1  Situation:  I left my job to return for a PhD ...               62   \n2  Situation:  The leaflet about supporting teena...              132   \n3  Situation:  Being shouted out from car windows...               60   \n4  Situation: I worked in a doggie daycare for tw...               29   \n5  Situation: The general manager of my husband's...               17   \n6  Situation:  Working in the IT area, I am most ...              207   \n7  Situation:  Women's pay is significantly lower...               45   \n8  Situation:  My boss has a history of sexually ...              151   \n9  Situation: Over the last year I have noticed s...               96   \n\n   Length Difference  \n0                -42  \n1                -31  \n2                646  \n3                121  \n4                 -4  \n5                -68  \n6               -320  \n7               -118  \n8                -26  \n9               -172  ",
            "text/html": "<div>\n<style scoped>\n    .dataframe tbody tr th:only-of-type {\n        vertical-align: middle;\n    }\n\n    .dataframe tbody tr th {\n        vertical-align: top;\n    }\n\n    .dataframe thead th {\n        text-align: right;\n    }\n</style>\n<table border=\"1\" class=\"dataframe\">\n  <thead>\n    <tr style=\"text-align: right;\">\n      <th></th>\n      <th>Input</th>\n      <th>Merged</th>\n      <th>Bi-gram Overlap</th>\n      <th>Length Difference</th>\n    </tr>\n  </thead>\n  <tbody>\n    <tr>\n      <th>0</th>\n      <td>When I was 17, I worked in a clothing store th...</td>\n      <td>Situation:  When I was 17, I worked in a cloth...</td>\n      <td>83</td>\n      <td>-42</td>\n    </tr>\n    <tr>\n      <th>1</th>\n      <td>I left my job to return for a PhD with an inte...</td>\n      <td>Situation:  I left my job to return for a PhD ...</td>\n      <td>62</td>\n      <td>-31</td>\n    </tr>\n    <tr>\n      <th>2</th>\n      <td>A leaflet about 'supporting teenagers' in my c...</td>\n      <td>Situation:  The leaflet about supporting teena...</td>\n      <td>132</td>\n      <td>646</td>\n    </tr>\n    <tr>\n      <th>3</th>\n      <td>As a 16 year old girl, I know very well that s...</td>\n      <td>Situation:  Being shouted out from car windows...</td>\n      <td>60</td>\n      <td>121</td>\n    </tr>\n    <tr>\n      <th>4</th>\n      <td>I worked in a doggie daycare for two years as ...</td>\n      <td>Situation: I worked in a doggie daycare for tw...</td>\n      <td>29</td>\n      <td>-4</td>\n    </tr>\n    <tr>\n      <th>5</th>\n      <td>A few months ago my husband's workplace (in a ...</td>\n      <td>Situation: The general manager of my husband's...</td>\n      <td>17</td>\n      <td>-68</td>\n    </tr>\n    <tr>\n      <th>6</th>\n      <td>Working in the IT area, I am most of the time ...</td>\n      <td>Situation:  Working in the IT area, I am most ...</td>\n      <td>207</td>\n      <td>-320</td>\n    </tr>\n    <tr>\n      <th>7</th>\n      <td>I think that sexism is an issue in the UK. Thi...</td>\n      <td>Situation:  Women's pay is significantly lower...</td>\n      <td>45</td>\n      <td>-118</td>\n    </tr>\n    <tr>\n      <th>8</th>\n      <td>My boss has a history of sexually harassing wo...</td>\n      <td>Situation:  My boss has a history of sexually ...</td>\n      <td>151</td>\n      <td>-26</td>\n    </tr>\n    <tr>\n      <th>9</th>\n      <td>Over the last year I have noticed sexism from ...</td>\n      <td>Situation: Over the last year I have noticed s...</td>\n      <td>96</td>\n      <td>-172</td>\n    </tr>\n  </tbody>\n</table>\n</div>"
          },
          "metadata": {}
        }
      ],
      "execution_count": 24,
      "block_group": "733bd7db797d4715bdd94113491d9cb2"
    },
    {
      "cell_type": "markdown",
      "source": "Bi-gram Overlap: This column shows the number of bi-grams (pairs of consecutive words) that overlap between the \"Input\" and \"Merged\" texts. For example, the first row has an overlap of 83 bi-grams.",
      "metadata": {
        "formattedRanges": [],
        "cell_id": "8cfc21feadf448389de09ef9f65b4a9f",
        "deepnote_cell_type": "text-cell-p"
      },
      "block_group": "28d83bee834d43abb3405165b2f6dbdc"
    },
    {
      "cell_type": "markdown",
      "source": "Length Difference: This column indicates the difference in word count between the \"Input\" and \"Merged\" texts. Negative values mean the \"Merged\" text is longer, and positive values mean the \"Input\" text is longer. For instance, the second row has a length difference of -31, meaning the \"Merged\" text is 31 words longer than the \"Input.\"",
      "metadata": {
        "formattedRanges": [],
        "cell_id": "80fb9093e02349a0b496954f888c24c0",
        "deepnote_cell_type": "text-cell-p"
      },
      "block_group": "04258596076d49bb85d290f7886c3215"
    },
    {
      "cell_type": "markdown",
      "source": "These results can help identify potential AI hallucinations:",
      "metadata": {
        "formattedRanges": [],
        "cell_id": "c18510de00ed458690a94ac39fa26077",
        "deepnote_cell_type": "text-cell-p"
      },
      "block_group": "41794db086c4492083cfef06a2e73ac2"
    },
    {
      "cell_type": "markdown",
      "source": "- Low Bi-gram Overlap: A lower overlap might indicate that the \"Merged\" text deviates significantly from the \"Input,\" which could be a sign of hallucination.",
      "metadata": {
        "formattedRanges": [],
        "cell_id": "a52d3e64242f44289d89bb84d211c919",
        "deepnote_cell_type": "text-cell-bullet"
      },
      "block_group": "46a97bb3ffbf41a5bc9fc2affd23d62e"
    },
    {
      "cell_type": "markdown",
      "source": "- Large Length Difference: A significant length difference, especially if the \"Merged\" text is much longer, might suggest the chatbot is adding irrelevant or fabricated information.",
      "metadata": {
        "formattedRanges": [],
        "cell_id": "628a591b5f7845d0bf9891990a889c00",
        "deepnote_cell_type": "text-cell-bullet"
      },
      "block_group": "a5c57e19958b49a7b82fba49e49cbbd5"
    },
    {
      "cell_type": "code",
      "source": "analysis_results_sorted = analysis_results.sort_values(by = ['Bi-gram Overlap', 'Length Difference'], ascending = [True, True], na_position = 'first')\n",
      "metadata": {
        "source_hash": "69f6b46e",
        "execution_start": 1700265329139,
        "execution_millis": 20,
        "deepnote_to_be_reexecuted": false,
        "cell_id": "8287da39cb034a59aae6210650b56b74",
        "deepnote_cell_type": "code"
      },
      "outputs": [],
      "execution_count": 25,
      "block_group": "8dbfc569059d46c3a67e67371eb5a0ac"
    },
    {
      "cell_type": "code",
      "source": "analysis_results_sorted",
      "metadata": {
        "source_hash": "5e4c461d",
        "execution_start": 1700265422916,
        "execution_millis": 43,
        "deepnote_to_be_reexecuted": false,
        "cell_id": "00195128572f4185881b9085688acf12",
        "deepnote_cell_type": "code"
      },
      "outputs": [
        {
          "output_type": "execute_result",
          "execution_count": 26,
          "data": {
            "application/vnd.deepnote.dataframe.v3+json": {
              "column_count": 4,
              "row_count": 1768,
              "columns": [
                {
                  "name": "Input",
                  "dtype": "object",
                  "stats": {
                    "unique_count": 1738,
                    "nan_count": 0,
                    "categories": [
                      {
                        "name": " Todd: ",
                        "count": 3
                      },
                      {
                        "name": " ~~ Todd: ",
                        "count": 2
                      },
                      {
                        "name": "1736 others",
                        "count": 1763
                      }
                    ]
                  }
                },
                {
                  "name": "Merged",
                  "dtype": "object",
                  "stats": {
                    "unique_count": 1738,
                    "nan_count": 0,
                    "categories": [
                      {
                        "name": "Situation: Todd is at a party and has been drinking.\n Feelings: Todd is feeling confident and relaxed.\n Action in response: Todd gets into a physical fight with another partygoer.\n Inappropriate response: Todd's actions lead to a physical altercation.\n Long term impact: Todd may face legal consequences and damage his reputation.\n Parties involved: Todd and the other partygoer.\n",
                        "count": 3
                      },
                      {
                        "name": "Situation: Todd is at a party and has been drinking.\n Feelings: Todd is feeling confident and relaxed.\n Action in response: Todd is planning to drive home.\n Inappropriate response: Todd is planning to drive home while intoxicated.\n Long term impact: Todd could face legal consequences for driving under the influence.\n Parties involved: Todd and the party guests.\n",
                        "count": 2
                      },
                      {
                        "name": "1736 others",
                        "count": 1763
                      }
                    ]
                  }
                },
                {
                  "name": "Bi-gram Overlap",
                  "dtype": "int64",
                  "stats": {
                    "unique_count": 261,
                    "nan_count": 0,
                    "min": "0",
                    "max": "499",
                    "histogram": [
                      {
                        "bin_start": 0,
                        "bin_end": 49.9,
                        "count": 903
                      },
                      {
                        "bin_start": 49.9,
                        "bin_end": 99.8,
                        "count": 482
                      },
                      {
                        "bin_start": 99.8,
                        "bin_end": 149.7,
                        "count": 187
                      },
                      {
                        "bin_start": 149.7,
                        "bin_end": 199.6,
                        "count": 94
                      },
                      {
                        "bin_start": 199.6,
                        "bin_end": 249.5,
                        "count": 52
                      },
                      {
                        "bin_start": 249.5,
                        "bin_end": 299.4,
                        "count": 39
                      },
                      {
                        "bin_start": 299.4,
                        "bin_end": 349.3,
                        "count": 10
                      },
                      {
                        "bin_start": 349.3,
                        "bin_end": 399.2,
                        "count": 0
                      },
                      {
                        "bin_start": 399.2,
                        "bin_end": 449.09999999999997,
                        "count": 0
                      },
                      {
                        "bin_start": 449.09999999999997,
                        "bin_end": 499,
                        "count": 1
                      }
                    ]
                  }
                },
                {
                  "name": "Length Difference",
                  "dtype": "int64",
                  "stats": {
                    "unique_count": 465,
                    "nan_count": 0,
                    "min": "-589",
                    "max": "4490",
                    "histogram": [
                      {
                        "bin_start": -589,
                        "bin_end": -81.10000000000002,
                        "count": 501
                      },
                      {
                        "bin_start": -81.10000000000002,
                        "bin_end": 426.79999999999995,
                        "count": 1246
                      },
                      {
                        "bin_start": 426.79999999999995,
                        "bin_end": 934.6999999999998,
                        "count": 19
                      },
                      {
                        "bin_start": 934.6999999999998,
                        "bin_end": 1442.6,
                        "count": 1
                      },
                      {
                        "bin_start": 1442.6,
                        "bin_end": 1950.5,
                        "count": 0
                      },
                      {
                        "bin_start": 1950.5,
                        "bin_end": 2458.3999999999996,
                        "count": 0
                      },
                      {
                        "bin_start": 2458.3999999999996,
                        "bin_end": 2966.2999999999997,
                        "count": 0
                      },
                      {
                        "bin_start": 2966.2999999999997,
                        "bin_end": 3474.2,
                        "count": 0
                      },
                      {
                        "bin_start": 3474.2,
                        "bin_end": 3982.0999999999995,
                        "count": 0
                      },
                      {
                        "bin_start": 3982.0999999999995,
                        "bin_end": 4490,
                        "count": 1
                      }
                    ]
                  }
                },
                {
                  "name": "_deepnote_index_column",
                  "dtype": "int64"
                }
              ],
              "rows": [
                {
                  "Input": "#EverydaySexism Man: Your day would be boring if I didn't flirt with you on the job. Me: Actually, it wouldn't be cuz I have a job to do. ",
                  "Merged": "Situation: The man is making inappropriate sexual comments to the woman at work.\n Feelings: The woman is feeling uncomfortable and objectified by the man's comments.\n Action in response: The woman is responding by telling the man that his comments are unwelcome and that she has a job to do.\n Inappropriate response: The man is continuing to make inappropriate sexual comments despite being told that they are unwelcome.\n Long term impact: The woman may feel uncomfortable and objectified in the workplace, which could impact her job performance and overall well-being.\n Parties involved: The man and the woman are involved in this situation.\n",
                  "Bi-gram Overlap": 0,
                  "Length Difference": -73,
                  "_deepnote_index_column": 98
                },
                {
                  "Input": "I was at work putting stock on low down shelves so, in order to not hurt my back by stooping all day, I was on my knees. A regular customer came up to me and said 'Oooh, is that the position your boyfriend likes you in?' ",
                  "Merged": "Situation: The paragraph describes a situation where the author is at work and a customer makes an inappropriate comment about the author's boyfriend.\n Feelings: The paragraph does not explicitly mention the author's feelings, but it can be inferred that the author was likely embarrassed or offended by the customer's comment.\n Action in response: The paragraph does not describe any action taken by the author in response to the customer's comment.\n Inappropriate response: The customer's comment is the inappropriate response mentioned in the paragraph.\n Long term impact: The paragraph does not mention any long-term impact of the situation on the author or the customer.\n Parties involved: The parties involved in the situation are the author and the customer.\n",
                  "Bi-gram Overlap": 0,
                  "Length Difference": -71,
                  "_deepnote_index_column": 1566
                },
                {
                  "Input": "In conversation with a colleague about how much it would cost to build a house, the kitchen was mentioned. 'It would have to be a decent kitchen ' I know what you women are like.' ",
                  "Merged": "Situation: The conversation about building a house and the mention of the kitchen.\n Feelings: The mention of women in the sentence may be seen as derogatory and could be interpreted as disrespectful or offensive.\n Action in response: The use of the word \"women\" in a derogatory manner.\n Inappropriate response: The use of the word \"women\" in a derogatory manner.\n Long term impact: The use of derogatory language can lead to negative consequences, such as damaged relationships or a negative reputation.\n Parties involved: The colleague who made the comment and the person who heard the comment.\n",
                  "Bi-gram Overlap": 0,
                  "Length Difference": -60,
                  "_deepnote_index_column": 812
                },
                {
                  "Input": " Todd: ",
                  "Merged": "Situation: Todd is at a party and has been drinking.\n Feelings: Todd is feeling confident and relaxed.\n Action in response: Todd gets into a physical fight with another partygoer.\n Inappropriate response: Todd's actions lead to a physical altercation.\n Long term impact: Todd may face legal consequences and damage his reputation.\n Parties involved: Todd and the other partygoer.\n",
                  "Bi-gram Overlap": 0,
                  "Length Difference": -56,
                  "_deepnote_index_column": 1431
                },
                {
                  "Input": " Todd: ",
                  "Merged": "Situation: Todd is at a party and has been drinking.\n Feelings: Todd is feeling confident and relaxed.\n Action in response: Todd gets into a physical fight with another partygoer.\n Inappropriate response: Todd's actions lead to a physical altercation.\n Long term impact: Todd may face legal consequences and damage his reputation.\n Parties involved: Todd and the other partygoer.\n",
                  "Bi-gram Overlap": 0,
                  "Length Difference": -56,
                  "_deepnote_index_column": 1434
                },
                {
                  "Input": " Todd: ",
                  "Merged": "Situation: Todd is at a party and has been drinking.\n Feelings: Todd is feeling confident and relaxed.\n Action in response: Todd gets into a physical fight with another partygoer.\n Inappropriate response: Todd's actions lead to a physical altercation.\n Long term impact: Todd may face legal consequences and damage his reputation.\n Parties involved: Todd and the other partygoer.\n",
                  "Bi-gram Overlap": 0,
                  "Length Difference": -56,
                  "_deepnote_index_column": 1440
                },
                {
                  "Input": " ~~ Todd: ",
                  "Merged": "Situation: Todd is at a party and has been drinking.\n Feelings: Todd is feeling confident and relaxed.\n Action in response: Todd is planning to drive home.\n Inappropriate response: Todd is planning to drive home while intoxicated.\n Long term impact: Todd could face legal consequences for driving under the influence.\n Parties involved: Todd and the party guests.\n",
                  "Bi-gram Overlap": 0,
                  "Length Difference": -54,
                  "_deepnote_index_column": 1429
                },
                {
                  "Input": " ~~ Todd: ",
                  "Merged": "Situation: Todd is at a party and has been drinking.\n Feelings: Todd is feeling confident and relaxed.\n Action in response: Todd is planning to drive home.\n Inappropriate response: Todd is planning to drive home while intoxicated.\n Long term impact: Todd could face legal consequences for driving under the influence.\n Parties involved: Todd and the party guests.\n",
                  "Bi-gram Overlap": 0,
                  "Length Difference": -54,
                  "_deepnote_index_column": 1437
                },
                {
                  "Input": "I attended an interview for a job within design. The male interviewer had a copy of a magazine that he had designed. It featured a photographer's series of pictures that exhibited 'male parts.' The interviewer opened the magazine to this particular page, and asked me which penis I liked best. ",
                  "Merged": "Situation: The interviewer showing the magazine with inappropriate content during the job interview.\n Feelings: The interviewer's inappropriate behavior made the candidate feel uncomfortable and violated.\n Action in response: The candidate did not respond to the inappropriate question and tried to change the subject.\n Inappropriate response: The interviewer's question about the candidate's preference for a particular penis.\n Long term impact: The candidate felt violated and uncomfortable, which could have a negative impact on their confidence and willingness to work with the interviewer or the company.\n Parties involved: The interviewer and the candidate.\n",
                  "Bi-gram Overlap": 0,
                  "Length Difference": -41,
                  "_deepnote_index_column": 1506
                },
                {
                  "Input": "I was really excited to get into the workspace environment and start earning heaps of money, money' But I found out the highest paying male job and woman jobs didn't add up' For Woman it's Judge — law $355,844 which is understandable but males Judge — law is $381,323 and it's number 13! The highest is Neurosurgeon which is $577,674. WOmans Neurosurgeon is second and is Neurosurgeon $323,682' THAT'S $200,000 less! It makes me think that because I'm born female I get less money. If I had the same skills and just say I was a boy (With some phoney evidence) I'll get more money. Guess I'm getting a sex transplant so I can earn that coin!~ ",
                  "Merged": "Situation: The author is discussing the gender pay gap and the disparity in salaries between male and female judges.\n Feelings: The author is frustrated and disappointed by the pay gap and feels that they are being discriminated against because of their gender.\n Action in response: The author is considering taking action to change their gender in order to earn more money.\n Inappropriate response: The author's suggestion to change their gender in order to earn more money is inappropriate and unrealistic.\n Long term impact: The long-term impact of the gender pay gap is that it perpetuates inequality and discrimination against women.\n Parties involved: The parties involved in this situation are the author and the employers who pay women less than men for the same job.\n",
                  "Bi-gram Overlap": 0,
                  "Length Difference": -7,
                  "_deepnote_index_column": 506
                }
              ]
            },
            "text/plain": "                                                  Input  \\\n98    #EverydaySexism Man: Your day would be boring ...   \n1566  I was at work putting stock on low down shelve...   \n812   In conversation with a colleague about how muc...   \n1431                                             Todd:    \n1434                                             Todd:    \n...                                                 ...   \n10    I'm a social worker. I'm also 26, female and h...   \n1218  I work in a majority female profession at a un...   \n888   They say that young girls are more terrified o...   \n1753  In PSHE lessons, we were taught “stress manage...   \n994   As well as getting pissed at MasterChef's John...   \n\n                                                 Merged  Bi-gram Overlap  \\\n98    Situation: The man is making inappropriate sex...                0   \n1566  Situation: The paragraph describes a situation...                0   \n812   Situation: The conversation about building a h...                0   \n1431  Situation: Todd is at a party and has been dri...                0   \n1434  Situation: Todd is at a party and has been dri...                0   \n...                                                 ...              ...   \n10    Situation:  I'm a social worker.  I'm also 26,...              329   \n1218  Situation:  I was in a conference room at work...              331   \n888   Situation:  They say that young girls are more...              335   \n1753  Situation:  In PSHE lessons, we were taught “s...              339   \n994   Situation:  Getting pissed at MasterChef's Joh...              499   \n\n      Length Difference  \n98                  -73  \n1566                -71  \n812                 -60  \n1431                -56  \n1434                -56  \n...                 ...  \n10                 -565  \n1218                268  \n888                -141  \n1753                217  \n994                -256  \n\n[1768 rows x 4 columns]",
            "text/html": "<div>\n<style scoped>\n    .dataframe tbody tr th:only-of-type {\n        vertical-align: middle;\n    }\n\n    .dataframe tbody tr th {\n        vertical-align: top;\n    }\n\n    .dataframe thead th {\n        text-align: right;\n    }\n</style>\n<table border=\"1\" class=\"dataframe\">\n  <thead>\n    <tr style=\"text-align: right;\">\n      <th></th>\n      <th>Input</th>\n      <th>Merged</th>\n      <th>Bi-gram Overlap</th>\n      <th>Length Difference</th>\n    </tr>\n  </thead>\n  <tbody>\n    <tr>\n      <th>98</th>\n      <td>#EverydaySexism Man: Your day would be boring ...</td>\n      <td>Situation: The man is making inappropriate sex...</td>\n      <td>0</td>\n      <td>-73</td>\n    </tr>\n    <tr>\n      <th>1566</th>\n      <td>I was at work putting stock on low down shelve...</td>\n      <td>Situation: The paragraph describes a situation...</td>\n      <td>0</td>\n      <td>-71</td>\n    </tr>\n    <tr>\n      <th>812</th>\n      <td>In conversation with a colleague about how muc...</td>\n      <td>Situation: The conversation about building a h...</td>\n      <td>0</td>\n      <td>-60</td>\n    </tr>\n    <tr>\n      <th>1431</th>\n      <td>Todd:</td>\n      <td>Situation: Todd is at a party and has been dri...</td>\n      <td>0</td>\n      <td>-56</td>\n    </tr>\n    <tr>\n      <th>1434</th>\n      <td>Todd:</td>\n      <td>Situation: Todd is at a party and has been dri...</td>\n      <td>0</td>\n      <td>-56</td>\n    </tr>\n    <tr>\n      <th>...</th>\n      <td>...</td>\n      <td>...</td>\n      <td>...</td>\n      <td>...</td>\n    </tr>\n    <tr>\n      <th>10</th>\n      <td>I'm a social worker. I'm also 26, female and h...</td>\n      <td>Situation:  I'm a social worker.  I'm also 26,...</td>\n      <td>329</td>\n      <td>-565</td>\n    </tr>\n    <tr>\n      <th>1218</th>\n      <td>I work in a majority female profession at a un...</td>\n      <td>Situation:  I was in a conference room at work...</td>\n      <td>331</td>\n      <td>268</td>\n    </tr>\n    <tr>\n      <th>888</th>\n      <td>They say that young girls are more terrified o...</td>\n      <td>Situation:  They say that young girls are more...</td>\n      <td>335</td>\n      <td>-141</td>\n    </tr>\n    <tr>\n      <th>1753</th>\n      <td>In PSHE lessons, we were taught “stress manage...</td>\n      <td>Situation:  In PSHE lessons, we were taught “s...</td>\n      <td>339</td>\n      <td>217</td>\n    </tr>\n    <tr>\n      <th>994</th>\n      <td>As well as getting pissed at MasterChef's John...</td>\n      <td>Situation:  Getting pissed at MasterChef's Joh...</td>\n      <td>499</td>\n      <td>-256</td>\n    </tr>\n  </tbody>\n</table>\n<p>1768 rows × 4 columns</p>\n</div>"
          },
          "metadata": {}
        }
      ],
      "execution_count": 26,
      "block_group": "ad51a221824246088ffbbe81bbdb3256"
    },
    {
      "cell_type": "markdown",
      "source": "<a style='text-decoration:none;line-height:16px;display:flex;color:#5B5B62;padding:10px;justify-content:end;' href='https://deepnote.com?utm_source=created-in-deepnote-cell&projectId=917cfa1e-fc4b-456b-88ba-8d98b355a266' target=\"_blank\">\n<img alt='Created in deepnote.com' style='display:inline;max-height:16px;margin:0px;margin-right:7.5px;' src='data:image/svg+xml;base64,PD94bWwgdmVyc2lvbj0iMS4wIiBlbmNvZGluZz0iVVRGLTgiPz4KPHN2ZyB3aWR0aD0iODBweCIgaGVpZ2h0PSI4MHB4IiB2aWV3Qm94PSIwIDAgODAgODAiIHZlcnNpb249IjEuMSIgeG1sbnM9Imh0dHA6Ly93d3cudzMub3JnLzIwMDAvc3ZnIiB4bWxuczp4bGluaz0iaHR0cDovL3d3dy53My5vcmcvMTk5OS94bGluayI+CiAgICA8IS0tIEdlbmVyYXRvcjogU2tldGNoIDU0LjEgKDc2NDkwKSAtIGh0dHBzOi8vc2tldGNoYXBwLmNvbSAtLT4KICAgIDx0aXRsZT5Hcm91cCAzPC90aXRsZT4KICAgIDxkZXNjPkNyZWF0ZWQgd2l0aCBTa2V0Y2guPC9kZXNjPgogICAgPGcgaWQ9IkxhbmRpbmciIHN0cm9rZT0ibm9uZSIgc3Ryb2tlLXdpZHRoPSIxIiBmaWxsPSJub25lIiBmaWxsLXJ1bGU9ImV2ZW5vZGQiPgogICAgICAgIDxnIGlkPSJBcnRib2FyZCIgdHJhbnNmb3JtPSJ0cmFuc2xhdGUoLTEyMzUuMDAwMDAwLCAtNzkuMDAwMDAwKSI+CiAgICAgICAgICAgIDxnIGlkPSJHcm91cC0zIiB0cmFuc2Zvcm09InRyYW5zbGF0ZSgxMjM1LjAwMDAwMCwgNzkuMDAwMDAwKSI+CiAgICAgICAgICAgICAgICA8cG9seWdvbiBpZD0iUGF0aC0yMCIgZmlsbD0iIzAyNjVCNCIgcG9pbnRzPSIyLjM3NjIzNzYyIDgwIDM4LjA0NzY2NjcgODAgNTcuODIxNzgyMiA3My44MDU3NTkyIDU3LjgyMTc4MjIgMzIuNzU5MjczOSAzOS4xNDAyMjc4IDMxLjY4MzE2ODMiPjwvcG9seWdvbj4KICAgICAgICAgICAgICAgIDxwYXRoIGQ9Ik0zNS4wMDc3MTgsODAgQzQyLjkwNjIwMDcsNzYuNDU0OTM1OCA0Ny41NjQ5MTY3LDcxLjU0MjI2NzEgNDguOTgzODY2LDY1LjI2MTk5MzkgQzUxLjExMjI4OTksNTUuODQxNTg0MiA0MS42NzcxNzk1LDQ5LjIxMjIyODQgMjUuNjIzOTg0Niw0OS4yMTIyMjg0IEMyNS40ODQ5Mjg5LDQ5LjEyNjg0NDggMjkuODI2MTI5Niw0My4yODM4MjQ4IDM4LjY0NzU4NjksMzEuNjgzMTY4MyBMNzIuODcxMjg3MSwzMi41NTQ0MjUgTDY1LjI4MDk3Myw2Ny42NzYzNDIxIEw1MS4xMTIyODk5LDc3LjM3NjE0NCBMMzUuMDA3NzE4LDgwIFoiIGlkPSJQYXRoLTIyIiBmaWxsPSIjMDAyODY4Ij48L3BhdGg+CiAgICAgICAgICAgICAgICA8cGF0aCBkPSJNMCwzNy43MzA0NDA1IEwyNy4xMTQ1MzcsMC4yNTcxMTE0MzYgQzYyLjM3MTUxMjMsLTEuOTkwNzE3MDEgODAsMTAuNTAwMzkyNyA4MCwzNy43MzA0NDA1IEM4MCw2NC45NjA0ODgyIDY0Ljc3NjUwMzgsNzkuMDUwMzQxNCAzNC4zMjk1MTEzLDgwIEM0Ny4wNTUzNDg5LDc3LjU2NzA4MDggNTMuNDE4MjY3Nyw3MC4zMTM2MTAzIDUzLjQxODI2NzcsNTguMjM5NTg4NSBDNTMuNDE4MjY3Nyw0MC4xMjg1NTU3IDM2LjMwMzk1NDQsMzcuNzMwNDQwNSAyNS4yMjc0MTcsMzcuNzMwNDQwNSBDMTcuODQzMDU4NiwzNy43MzA0NDA1IDkuNDMzOTE5NjYsMzcuNzMwNDQwNSAwLDM3LjczMDQ0MDUgWiIgaWQ9IlBhdGgtMTkiIGZpbGw9IiMzNzkzRUYiPjwvcGF0aD4KICAgICAgICAgICAgPC9nPgogICAgICAgIDwvZz4KICAgIDwvZz4KPC9zdmc+' > </img>\nCreated in <span style='font-weight:600;margin-left:4px;'>Deepnote</span></a>",
      "metadata": {
        "created_in_deepnote_cell": true,
        "deepnote_cell_type": "markdown"
      }
    }
  ],
  "nbformat": 4,
  "nbformat_minor": 0,
  "metadata": {
    "deepnote": {},
    "orig_nbformat": 2,
    "deepnote_full_width": false,
    "deepnote_notebook_id": "d6181924f26047e1ab679c6136a5dee5",
    "deepnote_persisted_session": {
      "createdAt": "2023-11-14T00:01:55.853Z"
    },
    "deepnote_execution_queue": []
  }
}